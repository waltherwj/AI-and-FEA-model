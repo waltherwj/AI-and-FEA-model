{
 "cells": [
  {
   "cell_type": "code",
   "execution_count": 1,
   "metadata": {},
   "outputs": [
    {
     "name": "stdout",
     "output_type": "stream",
     "text": [
      "D:\\Ansys Simulations\\Project\\2D\\preprocessing\n"
     ]
    }
   ],
   "source": [
    "!cd"
   ]
  },
  {
   "cell_type": "markdown",
   "metadata": {},
   "source": [
    "## Formatting\n",
    "In this notebook, the objective is to explore and develop a way to transformed the scaled data into a relevant data format/file/shape that can be used for a 2d convolutional neural network. Ideally, what is desired is a file that can store tensors as spatial data and that can be used by a ConvNet.\n",
    "After some research, the conclusion is that the best way to do this is to format them as a 4D numpy array and saved as a .npy file so that they can be later quickly read into memory."
   ]
  },
  {
   "cell_type": "code",
   "execution_count": 114,
   "metadata": {},
   "outputs": [],
   "source": [
    "## Imports\n",
    "import numpy as np\n",
    "from PREPROCESSING_splitting import get_number\n",
    "import PREPROCESSING_scaling as scale\n",
    "from pathlib import Path\n",
    "import pandas as pd\n",
    "import os, sys\n",
    "import torch.nn.functional as F\n",
    "import torch\n",
    "import warnings"
   ]
  },
  {
   "cell_type": "code",
   "execution_count": 2,
   "metadata": {},
   "outputs": [
    {
     "name": "stdout",
     "output_type": "stream",
     "text": [
      "Notebook initialized with png backend.\n"
     ]
    }
   ],
   "source": [
    "## 3d visualization import\n",
    "%gui qt\n",
    "from mayavi import mlab\n",
    "mlab.init_notebook('png')"
   ]
  },
  {
   "cell_type": "code",
   "execution_count": 3,
   "metadata": {},
   "outputs": [
    {
     "name": "stdout",
     "output_type": "stream",
     "text": [
      "UPDATED MAX \t sample #1 \t force: 0.00 \t displacement: 0.002053 \n",
      "UPDATED MAX \t sample #10 \t force: 152.79 \t displacement: 0.003020 \n",
      "UPDATED MAX \t sample #100 \t force: 152.79 \t displacement: 0.019382 \n",
      "UPDATED MAX \t sample #101 \t force: 242.87 \t displacement: 0.019382 \n",
      "UPDATED MAX \t sample #11 \t force: 287.27 \t displacement: 0.019382 \n",
      "UPDATED MAX \t sample #55 \t force: 295.32 \t displacement: 0.019382 \n"
     ]
    },
    {
     "data": {
      "text/html": [
       "<div>\n",
       "<style scoped>\n",
       "    .dataframe tbody tr th:only-of-type {\n",
       "        vertical-align: middle;\n",
       "    }\n",
       "\n",
       "    .dataframe tbody tr th {\n",
       "        vertical-align: top;\n",
       "    }\n",
       "\n",
       "    .dataframe thead th {\n",
       "        text-align: right;\n",
       "    }\n",
       "</style>\n",
       "<table border=\"1\" class=\"dataframe\">\n",
       "  <thead>\n",
       "    <tr style=\"text-align: right;\">\n",
       "      <th></th>\n",
       "      <th>node_number</th>\n",
       "      <th>named_selection</th>\n",
       "      <th>x_loc</th>\n",
       "      <th>y_loc</th>\n",
       "      <th>z_loc</th>\n",
       "      <th>x_disp</th>\n",
       "      <th>y_disp</th>\n",
       "      <th>z_disp</th>\n",
       "      <th>x_force</th>\n",
       "      <th>y_force</th>\n",
       "      <th>z_force</th>\n",
       "    </tr>\n",
       "  </thead>\n",
       "  <tbody>\n",
       "    <tr>\n",
       "      <th>170</th>\n",
       "      <td>171</td>\n",
       "      <td>-1</td>\n",
       "      <td>0.180590</td>\n",
       "      <td>0.242730</td>\n",
       "      <td>0.0</td>\n",
       "      <td>0.000000</td>\n",
       "      <td>0.000000</td>\n",
       "      <td>0.0</td>\n",
       "      <td>0.0</td>\n",
       "      <td>0.0</td>\n",
       "      <td>0.0</td>\n",
       "    </tr>\n",
       "    <tr>\n",
       "      <th>171</th>\n",
       "      <td>172</td>\n",
       "      <td>-1</td>\n",
       "      <td>0.138780</td>\n",
       "      <td>0.205680</td>\n",
       "      <td>0.0</td>\n",
       "      <td>0.000000</td>\n",
       "      <td>0.000000</td>\n",
       "      <td>0.0</td>\n",
       "      <td>0.0</td>\n",
       "      <td>0.0</td>\n",
       "      <td>0.0</td>\n",
       "    </tr>\n",
       "    <tr>\n",
       "      <th>172</th>\n",
       "      <td>173</td>\n",
       "      <td>-1</td>\n",
       "      <td>0.068634</td>\n",
       "      <td>0.123060</td>\n",
       "      <td>0.0</td>\n",
       "      <td>0.000000</td>\n",
       "      <td>0.000000</td>\n",
       "      <td>0.0</td>\n",
       "      <td>0.0</td>\n",
       "      <td>0.0</td>\n",
       "      <td>0.0</td>\n",
       "    </tr>\n",
       "    <tr>\n",
       "      <th>173</th>\n",
       "      <td>174</td>\n",
       "      <td>-1</td>\n",
       "      <td>0.054411</td>\n",
       "      <td>0.084662</td>\n",
       "      <td>0.0</td>\n",
       "      <td>0.000000</td>\n",
       "      <td>0.000000</td>\n",
       "      <td>0.0</td>\n",
       "      <td>0.0</td>\n",
       "      <td>0.0</td>\n",
       "      <td>0.0</td>\n",
       "    </tr>\n",
       "    <tr>\n",
       "      <th>174</th>\n",
       "      <td>175</td>\n",
       "      <td>-1</td>\n",
       "      <td>0.024266</td>\n",
       "      <td>0.072970</td>\n",
       "      <td>0.0</td>\n",
       "      <td>0.000000</td>\n",
       "      <td>0.000000</td>\n",
       "      <td>0.0</td>\n",
       "      <td>0.0</td>\n",
       "      <td>0.0</td>\n",
       "      <td>0.0</td>\n",
       "    </tr>\n",
       "    <tr>\n",
       "      <th>175</th>\n",
       "      <td>176</td>\n",
       "      <td>2</td>\n",
       "      <td>0.328590</td>\n",
       "      <td>0.694900</td>\n",
       "      <td>0.0</td>\n",
       "      <td>-0.050859</td>\n",
       "      <td>-0.107693</td>\n",
       "      <td>0.0</td>\n",
       "      <td>0.0</td>\n",
       "      <td>0.0</td>\n",
       "      <td>0.0</td>\n",
       "    </tr>\n",
       "    <tr>\n",
       "      <th>176</th>\n",
       "      <td>177</td>\n",
       "      <td>1</td>\n",
       "      <td>0.189800</td>\n",
       "      <td>0.568730</td>\n",
       "      <td>0.0</td>\n",
       "      <td>0.031275</td>\n",
       "      <td>-0.014854</td>\n",
       "      <td>0.0</td>\n",
       "      <td>0.0</td>\n",
       "      <td>0.0</td>\n",
       "      <td>0.0</td>\n",
       "    </tr>\n",
       "    <tr>\n",
       "      <th>177</th>\n",
       "      <td>178</td>\n",
       "      <td>1</td>\n",
       "      <td>0.127090</td>\n",
       "      <td>0.604280</td>\n",
       "      <td>0.0</td>\n",
       "      <td>0.031275</td>\n",
       "      <td>-0.014854</td>\n",
       "      <td>0.0</td>\n",
       "      <td>0.0</td>\n",
       "      <td>0.0</td>\n",
       "      <td>0.0</td>\n",
       "    </tr>\n",
       "    <tr>\n",
       "      <th>178</th>\n",
       "      <td>179</td>\n",
       "      <td>2</td>\n",
       "      <td>0.245740</td>\n",
       "      <td>0.732520</td>\n",
       "      <td>0.0</td>\n",
       "      <td>-0.050859</td>\n",
       "      <td>-0.107693</td>\n",
       "      <td>0.0</td>\n",
       "      <td>0.0</td>\n",
       "      <td>0.0</td>\n",
       "      <td>0.0</td>\n",
       "    </tr>\n",
       "    <tr>\n",
       "      <th>179</th>\n",
       "      <td>180</td>\n",
       "      <td>2</td>\n",
       "      <td>0.269410</td>\n",
       "      <td>0.625380</td>\n",
       "      <td>0.0</td>\n",
       "      <td>-0.050859</td>\n",
       "      <td>-0.107693</td>\n",
       "      <td>0.0</td>\n",
       "      <td>0.0</td>\n",
       "      <td>0.0</td>\n",
       "      <td>0.0</td>\n",
       "    </tr>\n",
       "    <tr>\n",
       "      <th>180</th>\n",
       "      <td>181</td>\n",
       "      <td>2</td>\n",
       "      <td>0.201990</td>\n",
       "      <td>0.666000</td>\n",
       "      <td>0.0</td>\n",
       "      <td>-0.050859</td>\n",
       "      <td>-0.107693</td>\n",
       "      <td>0.0</td>\n",
       "      <td>0.0</td>\n",
       "      <td>0.0</td>\n",
       "      <td>0.0</td>\n",
       "    </tr>\n",
       "    <tr>\n",
       "      <th>181</th>\n",
       "      <td>182</td>\n",
       "      <td>-1</td>\n",
       "      <td>0.092572</td>\n",
       "      <td>0.335460</td>\n",
       "      <td>0.0</td>\n",
       "      <td>0.000000</td>\n",
       "      <td>0.000000</td>\n",
       "      <td>0.0</td>\n",
       "      <td>0.0</td>\n",
       "      <td>0.0</td>\n",
       "      <td>0.0</td>\n",
       "    </tr>\n",
       "    <tr>\n",
       "      <th>182</th>\n",
       "      <td>183</td>\n",
       "      <td>-1</td>\n",
       "      <td>0.667620</td>\n",
       "      <td>0.799740</td>\n",
       "      <td>0.0</td>\n",
       "      <td>0.000000</td>\n",
       "      <td>0.000000</td>\n",
       "      <td>0.0</td>\n",
       "      <td>0.0</td>\n",
       "      <td>0.0</td>\n",
       "      <td>0.0</td>\n",
       "    </tr>\n",
       "    <tr>\n",
       "      <th>183</th>\n",
       "      <td>184</td>\n",
       "      <td>3</td>\n",
       "      <td>0.400010</td>\n",
       "      <td>0.799620</td>\n",
       "      <td>0.0</td>\n",
       "      <td>-0.008180</td>\n",
       "      <td>-0.006119</td>\n",
       "      <td>0.0</td>\n",
       "      <td>0.0</td>\n",
       "      <td>0.0</td>\n",
       "      <td>0.0</td>\n",
       "    </tr>\n",
       "    <tr>\n",
       "      <th>184</th>\n",
       "      <td>185</td>\n",
       "      <td>-1</td>\n",
       "      <td>-0.002717</td>\n",
       "      <td>0.596150</td>\n",
       "      <td>0.0</td>\n",
       "      <td>0.000000</td>\n",
       "      <td>0.000000</td>\n",
       "      <td>0.0</td>\n",
       "      <td>0.0</td>\n",
       "      <td>0.0</td>\n",
       "      <td>0.0</td>\n",
       "    </tr>\n",
       "    <tr>\n",
       "      <th>185</th>\n",
       "      <td>186</td>\n",
       "      <td>-1</td>\n",
       "      <td>0.151650</td>\n",
       "      <td>0.357250</td>\n",
       "      <td>0.0</td>\n",
       "      <td>0.000000</td>\n",
       "      <td>0.000000</td>\n",
       "      <td>0.0</td>\n",
       "      <td>0.0</td>\n",
       "      <td>0.0</td>\n",
       "      <td>0.0</td>\n",
       "    </tr>\n",
       "    <tr>\n",
       "      <th>186</th>\n",
       "      <td>187</td>\n",
       "      <td>1</td>\n",
       "      <td>0.239610</td>\n",
       "      <td>0.530310</td>\n",
       "      <td>0.0</td>\n",
       "      <td>0.031275</td>\n",
       "      <td>-0.014854</td>\n",
       "      <td>0.0</td>\n",
       "      <td>0.0</td>\n",
       "      <td>0.0</td>\n",
       "      <td>0.0</td>\n",
       "    </tr>\n",
       "    <tr>\n",
       "      <th>187</th>\n",
       "      <td>188</td>\n",
       "      <td>1</td>\n",
       "      <td>0.131800</td>\n",
       "      <td>0.432240</td>\n",
       "      <td>0.0</td>\n",
       "      <td>0.031275</td>\n",
       "      <td>-0.014854</td>\n",
       "      <td>0.0</td>\n",
       "      <td>0.0</td>\n",
       "      <td>0.0</td>\n",
       "      <td>0.0</td>\n",
       "    </tr>\n",
       "    <tr>\n",
       "      <th>188</th>\n",
       "      <td>189</td>\n",
       "      <td>-1</td>\n",
       "      <td>0.572190</td>\n",
       "      <td>0.728220</td>\n",
       "      <td>0.0</td>\n",
       "      <td>0.000000</td>\n",
       "      <td>0.000000</td>\n",
       "      <td>0.0</td>\n",
       "      <td>0.0</td>\n",
       "      <td>0.0</td>\n",
       "      <td>0.0</td>\n",
       "    </tr>\n",
       "  </tbody>\n",
       "</table>\n",
       "</div>"
      ],
      "text/plain": [
       "     node_number  named_selection     x_loc     y_loc  z_loc    x_disp  \\\n",
       "170          171               -1  0.180590  0.242730    0.0  0.000000   \n",
       "171          172               -1  0.138780  0.205680    0.0  0.000000   \n",
       "172          173               -1  0.068634  0.123060    0.0  0.000000   \n",
       "173          174               -1  0.054411  0.084662    0.0  0.000000   \n",
       "174          175               -1  0.024266  0.072970    0.0  0.000000   \n",
       "175          176                2  0.328590  0.694900    0.0 -0.050859   \n",
       "176          177                1  0.189800  0.568730    0.0  0.031275   \n",
       "177          178                1  0.127090  0.604280    0.0  0.031275   \n",
       "178          179                2  0.245740  0.732520    0.0 -0.050859   \n",
       "179          180                2  0.269410  0.625380    0.0 -0.050859   \n",
       "180          181                2  0.201990  0.666000    0.0 -0.050859   \n",
       "181          182               -1  0.092572  0.335460    0.0  0.000000   \n",
       "182          183               -1  0.667620  0.799740    0.0  0.000000   \n",
       "183          184                3  0.400010  0.799620    0.0 -0.008180   \n",
       "184          185               -1 -0.002717  0.596150    0.0  0.000000   \n",
       "185          186               -1  0.151650  0.357250    0.0  0.000000   \n",
       "186          187                1  0.239610  0.530310    0.0  0.031275   \n",
       "187          188                1  0.131800  0.432240    0.0  0.031275   \n",
       "188          189               -1  0.572190  0.728220    0.0  0.000000   \n",
       "\n",
       "       y_disp  z_disp  x_force  y_force  z_force  \n",
       "170  0.000000     0.0      0.0      0.0      0.0  \n",
       "171  0.000000     0.0      0.0      0.0      0.0  \n",
       "172  0.000000     0.0      0.0      0.0      0.0  \n",
       "173  0.000000     0.0      0.0      0.0      0.0  \n",
       "174  0.000000     0.0      0.0      0.0      0.0  \n",
       "175 -0.107693     0.0      0.0      0.0      0.0  \n",
       "176 -0.014854     0.0      0.0      0.0      0.0  \n",
       "177 -0.014854     0.0      0.0      0.0      0.0  \n",
       "178 -0.107693     0.0      0.0      0.0      0.0  \n",
       "179 -0.107693     0.0      0.0      0.0      0.0  \n",
       "180 -0.107693     0.0      0.0      0.0      0.0  \n",
       "181  0.000000     0.0      0.0      0.0      0.0  \n",
       "182  0.000000     0.0      0.0      0.0      0.0  \n",
       "183 -0.006119     0.0      0.0      0.0      0.0  \n",
       "184  0.000000     0.0      0.0      0.0      0.0  \n",
       "185  0.000000     0.0      0.0      0.0      0.0  \n",
       "186 -0.014854     0.0      0.0      0.0      0.0  \n",
       "187 -0.014854     0.0      0.0      0.0      0.0  \n",
       "188  0.000000     0.0      0.0      0.0      0.0  "
      ]
     },
     "metadata": {},
     "output_type": "display_data"
    }
   ],
   "source": [
    "## load in and scale  a sample\n",
    "\n",
    "data_folder_path =  Path('D:/Ansys Simulations/Project/2D/data') \n",
    "\n",
    "# get data\n",
    "raw_input_data, raw_output_data = scale.get_sample_dfs(data_folder_path, 26)\n",
    "\n",
    "max_force, max_disp = scale.get_max_disp_force(data_folder_path)\n",
    "\n",
    "scaled_input_data = scale.scale_dataframe(raw_input_data, max_force, max_disp)\n",
    "with pd.option_context(\"display.max_rows\", None):\n",
    "    display(scaled_input_data.iloc[170:189,:])"
   ]
  },
  {
   "cell_type": "markdown",
   "metadata": {},
   "source": [
    "To run the convolutional layer on the data, the data has to be converted from the positions table into an object that represents the element's positions in a way that a convolutional kernel is able to understand positional relationships. Looking at the 3D data files generated, there seem to be about 10000 nodes on each of those samples (although the intent is to decrease it later to speed up sample creation). With this in mind, and knowing that most of the samples have a relatively similar volume, choosing a size of 32x32x32 entries in which to split the data is an arbitrary choice which seems to lead to a good balance of nodal specificity, averaging and processing time for the network. \n",
    "\n",
    "The fourth dimension's size depends on the amount of features. For directional data such as displacement and forces, there are three components per type. On top of that, one more feature is created which is the \"existence\" feature, which encodes whether a certain \"volume\" in space contains material from the element or not, varying from 0 (no material) to 1 (filled with  material). It is only different than 1 or 0 on the edges/faces of the element. "
   ]
  },
  {
   "cell_type": "code",
   "execution_count": 4,
   "metadata": {},
   "outputs": [],
   "source": [
    "## Create an empty numpy array with the correct dimensions\n",
    "def create_array(dimensionality, features, resolution = 32):\n",
    "    ## returns an array of zeros for the correct type of model specified with the dimensionality and the features\n",
    "    positional_shape = [resolution]*dimensionality\n",
    "    shape = positional_shape + [features]\n",
    "    array = np.zeros(shape)\n",
    "    return array"
   ]
  },
  {
   "cell_type": "code",
   "execution_count": 5,
   "metadata": {},
   "outputs": [
    {
     "name": "stdout",
     "output_type": "stream",
     "text": [
      "(35, 35, 35, 6)\n",
      "(32, 32, 4)\n"
     ]
    }
   ],
   "source": [
    "print(create_array(3,6, 35).shape)\n",
    "print(create_array(2,4).shape)"
   ]
  },
  {
   "cell_type": "markdown",
   "metadata": {},
   "source": [
    "To correctly distribute the data inside of the tensor, it is necessary to get the maximum positional dimensions of the dataset so that every sample actually fits inside of the tensor"
   ]
  },
  {
   "cell_type": "code",
   "execution_count": 6,
   "metadata": {},
   "outputs": [],
   "source": [
    "## Create function to run through all data and get max values of dimensions\n",
    "def get_max_dimensions(samples_folder_path):\n",
    "    ## iterates through all data to get the max dimensions\n",
    "    samples = scale.sample_iterator(samples_folder_path)\n",
    "    \n",
    "    max_x = 0\n",
    "    max_y = 0\n",
    "    max_z = 0\n",
    "    \n",
    "    for sample in samples:\n",
    "        sample_number, input_data, output_data = sample\n",
    "        #print(samples)\n",
    "        \n",
    "        ## run through all data\n",
    "        # first absolute, then max in the columns \n",
    "        updated = False\n",
    "        max_x_temp, max_y_temp, max_z_temp = input_data.loc[:,['x_loc','y_loc','z_loc']].abs().max()\n",
    "        \n",
    "        if max_x_temp > max_x:\n",
    "            range_x = [input_data.loc[:,['x_loc']].max().item(), input_data.loc[:,['x_loc']].min().item()]\n",
    "            max_x = abs(range_x[0] - range_x[1])\n",
    "            updated = True\n",
    "            \n",
    "        if max_y_temp > max_y:\n",
    "            range_y = [input_data.loc[:,['y_loc']].max().item(), input_data.loc[:,['y_loc']].min().item()]\n",
    "            max_y = abs(range_y[0] - range_y[1])\n",
    "            updated = True\n",
    "            \n",
    "        if max_z_temp > max_z:\n",
    "            range_z = [input_data.loc[:,['z_loc']].max().item(), input_data.loc[:,['z_loc']].min().item()]\n",
    "            max_z = abs(range_z[0] - range_z[1])\n",
    "            updated = True\n",
    "            \n",
    "        if updated:\n",
    "            print(f'UPDATED MAX \\t sample #{sample_number} \\t x: {max_x:.4f} \\t y: {max_y:.4f} \\t z: {max_z:.4f}')\n",
    "            \n",
    "    return max_x, max_y, max_z"
   ]
  },
  {
   "cell_type": "code",
   "execution_count": 7,
   "metadata": {},
   "outputs": [
    {
     "name": "stdout",
     "output_type": "stream",
     "text": [
      "UPDATED MAX \t sample #1 \t x: 0.9692 \t y: 1.1906 \t z: 0.0000\n",
      "UPDATED MAX \t sample #10 \t x: 1.0849 \t y: 1.1906 \t z: 0.0000\n",
      "UPDATED MAX \t sample #100 \t x: 1.4374 \t y: 1.3295 \t z: 0.0000\n",
      "UPDATED MAX \t sample #101 \t x: 1.4374 \t y: 1.4031 \t z: 0.0000\n",
      "UPDATED MAX \t sample #102 \t x: 1.6833 \t y: 1.4031 \t z: 0.0000\n",
      "UPDATED MAX \t sample #12 \t x: 1.7286 \t y: 1.4031 \t z: 0.0000\n",
      "UPDATED MAX \t sample #50 \t x: 1.7286 \t y: 1.4830 \t z: 0.0000\n"
     ]
    }
   ],
   "source": [
    "max_dims = get_max_dimensions(data_folder_path)"
   ]
  },
  {
   "cell_type": "code",
   "execution_count": 8,
   "metadata": {},
   "outputs": [],
   "source": [
    "class HiddenPrints:\n",
    "    def __enter__(self):\n",
    "        self._original_stdout = sys.stdout\n",
    "        sys.stdout = open(os.devnull, 'w')\n",
    "\n",
    "    def __exit__(self, exc_type, exc_val, exc_tb):\n",
    "        sys.stdout.close()\n",
    "        sys.stdout = self._original_stdout"
   ]
  },
  {
   "cell_type": "code",
   "execution_count": 9,
   "metadata": {},
   "outputs": [],
   "source": [
    "#create function that creates an element size for the resolution\n",
    "def get_element_size(samples_folder_path, resolution = 32):\n",
    "    ## runs through all samples to get the element size based on the resolution\n",
    "    with HiddenPrints():\n",
    "        max_x, max_y, max_z = get_max_dimensions(samples_folder_path)\n",
    "    \n",
    "    largest_dim = max([max_x, max_y, max_z])\n",
    "   \n",
    "    element_size = largest_dim/resolution\n",
    "    \n",
    "    return element_size"
   ]
  },
  {
   "cell_type": "code",
   "execution_count": 10,
   "metadata": {},
   "outputs": [],
   "source": [
    "element_size = get_element_size(data_folder_path)"
   ]
  },
  {
   "cell_type": "markdown",
   "metadata": {},
   "source": [
    "I just realized that the scaling step performed earlier on the pandas dataframe is of no use since there is no guarantee that two nodes aren't going to fall in the same element, and thus the data must be re-scaled after it has been fitted into the new format, as the maximums will change. This will be implemented later, and the previous scaling function will be considered deprecated."
   ]
  },
  {
   "cell_type": "code",
   "execution_count": 11,
   "metadata": {},
   "outputs": [],
   "source": [
    "## create function that takes  the element size and a tensor index and uses it to get\n",
    "## node indices that match that location from a sample.\n",
    "def get_dataframe_indices(element_size, sample_df, x, y, z=0, Is_2D=True):\n",
    "    ## create function that takes  the element size and a tensor index and uses it to get\n",
    "    ## dataframe indices that match that spatial location from a sample\n",
    "    \n",
    "    ## gets range of values\n",
    "    x_range = [x*element_size, (x+1)*element_size]\n",
    "    y_range = [y*element_size, (y+1)*element_size]   \n",
    "    \n",
    "    #get indices\n",
    "    if Is_2D:\n",
    "        indices = np.where((sample_df['x_loc'].values>=x_range[0]) & (sample_df['x_loc'].values<x_range[1])\\\n",
    "                          & (sample_df['y_loc'].values>=y_range[0]) & (sample_df['y_loc'].values<y_range[1]))\n",
    "    \n",
    "\n",
    "    if not(Is_2D):\n",
    "        z_range = [z*element_size, (z+1)*element_size]\n",
    "        indices = np.where((sample_df['x_loc'].values>=x_range[0]) & (sample_df['x_loc'].values<x_range[1])\\\n",
    "                          & (sample_df['y_loc'].values>=y_range[0]) & (sample_df['y_loc'].values<y_range[1])\\\n",
    "                          & (sample_df['z_loc'].values>=z_range[0]) & (sample_df['z_loc'].values<z_range[1]))\n",
    "   \n",
    "    # print(indices) uncomment to show selected indices\n",
    "\n",
    "    return indices[0]"
   ]
  },
  {
   "cell_type": "code",
   "execution_count": 12,
   "metadata": {},
   "outputs": [
    {
     "name": "stdout",
     "output_type": "stream",
     "text": [
      "0.0009639263153076172\n",
      "[137 453 455 511]\n"
     ]
    }
   ],
   "source": [
    "import time\n",
    "tic = time.time()\n",
    "get_dataframe_indices(element_size, raw_input_data, 0,4)\n",
    "toc = time.time()\n",
    "print(toc-tic)\n",
    "print(get_dataframe_indices(element_size, raw_input_data, 0,4))"
   ]
  },
  {
   "cell_type": "code",
   "execution_count": 14,
   "metadata": {},
   "outputs": [
    {
     "name": "stdout",
     "output_type": "stream",
     "text": [
      "298 µs ± 6.59 µs per loop (mean ± std. dev. of 7 runs, 1000 loops each)\n",
      "9.11 µs ± 312 ns per loop (mean ± std. dev. of 7 runs, 100000 loops each)\n"
     ]
    },
    {
     "data": {
      "text/plain": [
       "numpy.ndarray"
      ]
     },
     "execution_count": 14,
     "metadata": {},
     "output_type": "execute_result"
    }
   ],
   "source": [
    "## testing series.between and np.where\n",
    "\n",
    "\n",
    "time_test_series = pd.Series(np.random.rand(1000), name = 'test_series')\n",
    "\n",
    "%timeit time_test_series.between(0.25, 0.75)\n",
    "\n",
    "%timeit np.where((time_test_series.values>=0.25)&(time_test_series.values<=0.75))\n",
    "\n",
    "type(time_test_series.values)"
   ]
  },
  {
   "cell_type": "code",
   "execution_count": 26,
   "metadata": {},
   "outputs": [
    {
     "name": "stdout",
     "output_type": "stream",
     "text": [
      "['D:\\\\Ansys Simulations\\\\Project\\\\2D\\\\preprocessing', 'D:\\\\Anaconda3_2nd\\\\envs\\\\AI_FEA\\\\python37.zip', 'D:\\\\Anaconda3_2nd\\\\envs\\\\AI_FEA\\\\DLLs', 'D:\\\\Anaconda3_2nd\\\\envs\\\\AI_FEA\\\\lib', 'D:\\\\Anaconda3_2nd\\\\envs\\\\AI_FEA', '', 'D:\\\\Anaconda3_2nd\\\\envs\\\\AI_FEA\\\\lib\\\\site-packages', 'D:\\\\Anaconda3_2nd\\\\envs\\\\AI_FEA\\\\lib\\\\site-packages\\\\win32', 'D:\\\\Anaconda3_2nd\\\\envs\\\\AI_FEA\\\\lib\\\\site-packages\\\\win32\\\\lib', 'D:\\\\Anaconda3_2nd\\\\envs\\\\AI_FEA\\\\lib\\\\site-packages\\\\Pythonwin', 'D:\\\\Anaconda3_2nd\\\\envs\\\\AI_FEA\\\\lib\\\\site-packages\\\\IPython\\\\extensions', 'C:\\\\Users\\\\Owner\\\\.ipython']\n",
      "326 ms ± 3.6 ms per loop (mean ± std. dev. of 7 runs, 1 loop each)\n"
     ]
    }
   ],
   "source": [
    "time_test_series = pd.Series(np.random.rand(10000*1000), name = 'test_series')\n",
    "print(sys.path)\n",
    "from sortedcontainers import SortedList\n",
    "def NumbersWithinRange(items, lower, upper):\n",
    "    start = items.bisect(lower)\n",
    "    end = items.bisect_right(upper)\n",
    "    return items[start:end]\n",
    "data = SortedList(time_test_series.values)\n",
    "%timeit subset = NumbersWithinRange(data, 0.25, 0.75)\n",
    "\n"
   ]
  },
  {
   "cell_type": "markdown",
   "metadata": {},
   "source": [
    "The conclusion is that for the sample sizes used, it is never worth it to sort the list, not even with large batch sizes. A very interesting find however is that numpy.where is much faster than series.between, by as much as 32 times for the 2D case, and 5 times for the 3d case, and the function is going to be adjusted accordingly"
   ]
  },
  {
   "cell_type": "markdown",
   "metadata": {},
   "source": [
    "To be able to assign the correct position for the element inside of the tensor, the quadrant(2d)/octant(3d) it was created in must be determined. If the element wasn't created in a discernible quadrant in mind, it is still necessary to assign a equivalent one to it to position it inside of the tensor"
   ]
  },
  {
   "cell_type": "code",
   "execution_count": 15,
   "metadata": {},
   "outputs": [],
   "source": [
    "## create function to choose equivalent octant \n",
    "def get_quadrant(sample_df):\n",
    "    ## gets the sample's main octant by returning a 3 component vector that points to that octant. \n",
    "    ## a zero in the last component means that it is a 2d problem and thus it points to a 2d \n",
    "    ## quadrant\n",
    "    \n",
    "    #gets the maximum absolute values\n",
    "    max_x_abs, max_y_abs, max_z_abs = sample_df.loc[:,['x_loc','y_loc','z_loc']].abs().max()\n",
    "    \n",
    "    ## checks if 2d or 3d problem\n",
    "    Is_2D = True\n",
    "    if max_z_abs != 0:\n",
    "        Is_2D = False\n",
    "    ## get index of the maximum absolute values\n",
    "    x_index = np.where(sample_df.loc[:,['x_loc']].abs().values.squeeze() == [max_x_abs])\n",
    "    y_index = np.where(sample_df.loc[:,['y_loc']].abs().values.squeeze() == [max_y_abs])\n",
    "    if not(Is_2D):\n",
    "        z_index = np.where(sample_df.loc[:,['z_loc']].abs().values.squeeze() == [max_z_abs])\n",
    "    else:\n",
    "        z_index = [[0]]\n",
    "        \n",
    "    ## gets the value in that index\n",
    "    values = np.array([sample_df.loc[x_index[0],['x_loc']].values[0][0],\n",
    "                      sample_df.loc[y_index[0],['y_loc']].values[0][0],\n",
    "                      sample_df.loc[z_index[0],['z_loc']].values[0][0]])\n",
    "    \n",
    "    ## create array with information about the octant via a vector\n",
    "    octant = np.zeros(3)\n",
    "    octant[0:2] =  values[0:2]/abs(values[0:2])\n",
    "    if not(Is_2D):\n",
    "        octant[2] = values[2]/abs(values[2])\n",
    "    \n",
    "    return octant"
   ]
  },
  {
   "cell_type": "code",
   "execution_count": 16,
   "metadata": {},
   "outputs": [
    {
     "data": {
      "text/plain": [
       "array([1., 1., 0.])"
      ]
     },
     "execution_count": 16,
     "metadata": {},
     "output_type": "execute_result"
    }
   ],
   "source": [
    "get_quadrant(raw_input_data)"
   ]
  },
  {
   "cell_type": "markdown",
   "metadata": {},
   "source": [
    "Knowing in which octant the element was created in, it can be translated to the correct position. The idea is that, depending on the octant, the element was created in, it is going to be 'pressed against' a certain corner of the tensor. It is going to be translated to touch the \"edges\" of the tensor that correnspond to the planes it would be closest on the coordinate axis system it was created. So if it was created on the $(-x,-y,z)$ octant, for instance, it would be pressed the bottom, right, front corner of the cube shaped tensor. Illustratively, for some of the octants:\n",
    "$$\n",
    "(x,  y  ,z) \\rightarrow (left, back, bottom) : stays \\space in \\space place\n",
    "$$\n",
    "$$\n",
    "(-x, y, -z) \\rightarrow (right, back, top) : moves \\space right \\space and\\space up\n",
    "$$\n",
    "$$\n",
    "(x,  y, -z) \\rightarrow (left, back, top) : moves\\space up\n",
    "$$"
   ]
  },
  {
   "cell_type": "code",
   "execution_count": 17,
   "metadata": {},
   "outputs": [],
   "source": [
    "## create function to translate the dataframe\n",
    "def  translate_df(sample_df, max_dimensions):\n",
    "    ## gets a dataframe and translates the values to the correct position to place in the tensor\n",
    "    \n",
    "    octant = get_quadrant(sample_df)\n",
    "    \n",
    "    df_temp = sample_df.copy()\n",
    "    largest_dim = max(*max_dimensions)\n",
    "    \n",
    "    ## general translation: translates according to the overall octant\n",
    "    for i, direction in enumerate(octant):\n",
    "        direction_is_negative = direction < 0\n",
    "        if direction_is_negative:\n",
    "            if i == 0:\n",
    "                df_temp.loc[:,['x_loc']] = df_temp.loc[:,['x_loc']] + largest_dim\n",
    "            if i == 1:\n",
    "                df_temp.loc[:,['y_loc']] = df_temp.loc[:,['y_loc']] + largest_dim\n",
    "            if i == 2:\n",
    "                df_temp.loc[:,['z_loc']] = df_temp.loc[:,['z_loc']] + largest_dim\n",
    "        \n",
    "        ## minor translation: if some parts of the element are still \"sticking out\"\n",
    "        ## after the general translation, move it just enough to ensure that it fits inside\n",
    "        if not(direction_is_negative):\n",
    "            min_val = df_temp.loc[:,['x_loc','y_loc', 'z_loc']].iloc[:, i].min()\n",
    "            if min_val < 0.0:\n",
    "                if i == 0:\n",
    "                    df_temp.loc[:,['x_loc']] = df_temp.loc[:,['x_loc']] + abs(min_val)\n",
    "                if i == 1:\n",
    "                    df_temp.loc[:,['y_loc']] = df_temp.loc[:,['y_loc']] + abs(min_val)\n",
    "                if i == 2:\n",
    "                    df_temp.loc[:,['z_loc']] = df_temp.loc[:,['z_loc']] + abs(min_val)\n",
    "    \n",
    "    return df_temp\n",
    "    "
   ]
  },
  {
   "cell_type": "code",
   "execution_count": 18,
   "metadata": {},
   "outputs": [
    {
     "name": "stdout",
     "output_type": "stream",
     "text": [
      "5 -1.0 1.0 0.0 147.057785998219 166.069570297962 0.0\n",
      "8 -1.0 -1.0 0.0 165.698447240186 180.861165769649 0.0\n",
      "10 1.0 -1.0 0.0 152.792507663102 149.394579407457 0.0\n",
      "15 -1.0 -1.0 0.0 138.97977625039 156.61245154979798 0.0\n",
      "20 1.0 -1.0 0.0 91.1172765751173 187.122590501032 0.0\n",
      "21 -1.0 -1.0 0.0 138.145651166089 126.12108402020701 0.0\n",
      "23 -1.0 -1.0 0.0 163.900071094067 133.07615813741998 0.0\n",
      "31 1.0 -1.0 0.0 105.407586881892 59.9006837464504 0.0\n",
      "36 -1.0 1.0 0.0 160.540277786926 170.186700495539 0.0\n",
      "38 -1.0 1.0 0.0 234.138251395289 226.32566627417003 0.0\n",
      "41 -1.0 -1.0 0.0 62.000345022583296 166.981790863262 0.0\n",
      "46 1.0 -1.0 0.0 74.7446597298995 145.147086650578 0.0\n",
      "50 -1.0 1.0 0.0 84.83573227097429 58.385501816370706 0.0\n",
      "57 -1.0 -1.0 0.0 125.00876677717599 46.33362350697951 0.0\n",
      "59 -1.0 -1.0 0.0 195.693407955974 184.73811030351501 0.0\n",
      "77 -1.0 1.0 0.0 116.038541978898 149.608142012566 0.0\n",
      "78 -1.0 -1.0 0.0 210.29009486446603 159.92444563545 0.0\n",
      "79 1.0 -1.0 0.0 206.21058150825002 144.815955238538 0.0\n",
      "83 -1.0 -1.0 0.0 103.35230101666201 275.69397493229803 0.0\n",
      "88 -1.0 -1.0 0.0 197.799634358471 169.72604305195802 0.0\n",
      "89 1.0 -1.0 0.0 66.48105649413411 56.56666330489721 0.0\n",
      "90 -1.0 -1.0 0.0 151.20249396231898 129.58803940489202 0.0\n",
      "91 -1.0 1.0 0.0 145.313205302229 73.2081787169615 0.0\n",
      "92 -1.0 1.0 0.0 55.4039325717418 95.14141428113821 0.0\n",
      "94 -1.0 1.0 0.0 132.130914858501 104.46715758555099 0.0\n",
      "98 1.0 -1.0 0.0 168.611360638306 116.989817343682 0.0\n",
      "101 1.0 -1.0 0.0 242.87085682452096 48.8122048585366 0.0\n",
      "102 -1.0 1.0 0.0 193.929914639304 105.687558977663 0.0\n",
      "103 -1.0 1.0 0.0 135.582521558594 186.765977738806 0.0\n"
     ]
    }
   ],
   "source": [
    "## find all the samples that are good examples for testing\n",
    "for i in range(1,104):\n",
    "    try:\n",
    "        raw_input_data_octant, _ = scale.get_sample_dfs(data_folder_path, i)\n",
    "        translated_input = translate_df(raw_input_data_octant, max_dims)\n",
    "        force_condition = any(translated_input.loc[:,['x_force','y_force','z_force']].abs().max()!=0)\n",
    "        quadrant_condition = any(get_quadrant(raw_input_data_octant) < 0.0)\n",
    "        if force_condition and quadrant_condition:\n",
    "            print(i, *get_quadrant(raw_input_data_octant), *translated_input.loc[:,['x_force','y_force','z_force']].abs().max())\n",
    "    except UnboundLocalError:\n",
    "        pass"
   ]
  },
  {
   "cell_type": "code",
   "execution_count": 19,
   "metadata": {},
   "outputs": [
    {
     "name": "stdout",
     "output_type": "stream",
     "text": [
      "[-1.  1.  0.]\n",
      "x_force    132.130915\n",
      "y_force    104.467158\n",
      "z_force      0.000000\n",
      "dtype: float64\n"
     ]
    },
    {
     "data": {
      "text/html": [
       "<div>\n",
       "<style scoped>\n",
       "    .dataframe tbody tr th:only-of-type {\n",
       "        vertical-align: middle;\n",
       "    }\n",
       "\n",
       "    .dataframe tbody tr th {\n",
       "        vertical-align: top;\n",
       "    }\n",
       "\n",
       "    .dataframe thead th {\n",
       "        text-align: right;\n",
       "    }\n",
       "</style>\n",
       "<table border=\"1\" class=\"dataframe\">\n",
       "  <thead>\n",
       "    <tr style=\"text-align: right;\">\n",
       "      <th></th>\n",
       "      <th>node_number</th>\n",
       "      <th>named_selection</th>\n",
       "      <th>x_loc</th>\n",
       "      <th>y_loc</th>\n",
       "      <th>z_loc</th>\n",
       "      <th>x_disp</th>\n",
       "      <th>y_disp</th>\n",
       "      <th>z_disp</th>\n",
       "      <th>x_force</th>\n",
       "      <th>y_force</th>\n",
       "      <th>z_force</th>\n",
       "    </tr>\n",
       "  </thead>\n",
       "  <tbody>\n",
       "    <tr>\n",
       "      <th>0</th>\n",
       "      <td>1</td>\n",
       "      <td>8</td>\n",
       "      <td>1.824212</td>\n",
       "      <td>0.94477</td>\n",
       "      <td>0.0</td>\n",
       "      <td>0.001270</td>\n",
       "      <td>-0.001291</td>\n",
       "      <td>0.0</td>\n",
       "      <td>0.000000</td>\n",
       "      <td>0.000000</td>\n",
       "      <td>0.0</td>\n",
       "    </tr>\n",
       "    <tr>\n",
       "      <th>1</th>\n",
       "      <td>2</td>\n",
       "      <td>-1</td>\n",
       "      <td>1.728600</td>\n",
       "      <td>0.00000</td>\n",
       "      <td>0.0</td>\n",
       "      <td>0.000000</td>\n",
       "      <td>0.000000</td>\n",
       "      <td>0.0</td>\n",
       "      <td>0.000000</td>\n",
       "      <td>0.000000</td>\n",
       "      <td>0.0</td>\n",
       "    </tr>\n",
       "    <tr>\n",
       "      <th>2</th>\n",
       "      <td>3</td>\n",
       "      <td>11</td>\n",
       "      <td>1.819169</td>\n",
       "      <td>0.89495</td>\n",
       "      <td>0.0</td>\n",
       "      <td>-0.000116</td>\n",
       "      <td>-0.000800</td>\n",
       "      <td>0.0</td>\n",
       "      <td>-132.130915</td>\n",
       "      <td>22.302487</td>\n",
       "      <td>0.0</td>\n",
       "    </tr>\n",
       "    <tr>\n",
       "      <th>3</th>\n",
       "      <td>4</td>\n",
       "      <td>2</td>\n",
       "      <td>1.814127</td>\n",
       "      <td>0.84512</td>\n",
       "      <td>0.0</td>\n",
       "      <td>0.000461</td>\n",
       "      <td>-0.001007</td>\n",
       "      <td>0.0</td>\n",
       "      <td>0.000000</td>\n",
       "      <td>0.000000</td>\n",
       "      <td>0.0</td>\n",
       "    </tr>\n",
       "    <tr>\n",
       "      <th>4</th>\n",
       "      <td>5</td>\n",
       "      <td>7</td>\n",
       "      <td>1.809085</td>\n",
       "      <td>0.79530</td>\n",
       "      <td>0.0</td>\n",
       "      <td>0.000514</td>\n",
       "      <td>0.000104</td>\n",
       "      <td>0.0</td>\n",
       "      <td>0.000000</td>\n",
       "      <td>0.000000</td>\n",
       "      <td>0.0</td>\n",
       "    </tr>\n",
       "    <tr>\n",
       "      <th>...</th>\n",
       "      <td>...</td>\n",
       "      <td>...</td>\n",
       "      <td>...</td>\n",
       "      <td>...</td>\n",
       "      <td>...</td>\n",
       "      <td>...</td>\n",
       "      <td>...</td>\n",
       "      <td>...</td>\n",
       "      <td>...</td>\n",
       "      <td>...</td>\n",
       "      <td>...</td>\n",
       "    </tr>\n",
       "    <tr>\n",
       "      <th>468</th>\n",
       "      <td>469</td>\n",
       "      <td>-1</td>\n",
       "      <td>1.264810</td>\n",
       "      <td>0.72049</td>\n",
       "      <td>0.0</td>\n",
       "      <td>0.000000</td>\n",
       "      <td>0.000000</td>\n",
       "      <td>0.0</td>\n",
       "      <td>0.000000</td>\n",
       "      <td>0.000000</td>\n",
       "      <td>0.0</td>\n",
       "    </tr>\n",
       "    <tr>\n",
       "      <th>469</th>\n",
       "      <td>470</td>\n",
       "      <td>-1</td>\n",
       "      <td>1.160340</td>\n",
       "      <td>0.72427</td>\n",
       "      <td>0.0</td>\n",
       "      <td>0.000000</td>\n",
       "      <td>0.000000</td>\n",
       "      <td>0.0</td>\n",
       "      <td>0.000000</td>\n",
       "      <td>0.000000</td>\n",
       "      <td>0.0</td>\n",
       "    </tr>\n",
       "    <tr>\n",
       "      <th>470</th>\n",
       "      <td>471</td>\n",
       "      <td>5</td>\n",
       "      <td>1.551160</td>\n",
       "      <td>0.35252</td>\n",
       "      <td>0.0</td>\n",
       "      <td>0.001127</td>\n",
       "      <td>-0.000002</td>\n",
       "      <td>0.0</td>\n",
       "      <td>0.000000</td>\n",
       "      <td>0.000000</td>\n",
       "      <td>0.0</td>\n",
       "    </tr>\n",
       "    <tr>\n",
       "      <th>471</th>\n",
       "      <td>472</td>\n",
       "      <td>6</td>\n",
       "      <td>1.682176</td>\n",
       "      <td>0.74267</td>\n",
       "      <td>0.0</td>\n",
       "      <td>-0.000681</td>\n",
       "      <td>0.001816</td>\n",
       "      <td>0.0</td>\n",
       "      <td>0.000000</td>\n",
       "      <td>0.000000</td>\n",
       "      <td>0.0</td>\n",
       "    </tr>\n",
       "    <tr>\n",
       "      <th>472</th>\n",
       "      <td>473</td>\n",
       "      <td>9</td>\n",
       "      <td>1.664154</td>\n",
       "      <td>0.76512</td>\n",
       "      <td>0.0</td>\n",
       "      <td>-0.001382</td>\n",
       "      <td>-0.000474</td>\n",
       "      <td>0.0</td>\n",
       "      <td>0.000000</td>\n",
       "      <td>0.000000</td>\n",
       "      <td>0.0</td>\n",
       "    </tr>\n",
       "  </tbody>\n",
       "</table>\n",
       "<p>473 rows × 11 columns</p>\n",
       "</div>"
      ],
      "text/plain": [
       "     node_number  named_selection     x_loc    y_loc  z_loc    x_disp  \\\n",
       "0              1                8  1.824212  0.94477    0.0  0.001270   \n",
       "1              2               -1  1.728600  0.00000    0.0  0.000000   \n",
       "2              3               11  1.819169  0.89495    0.0 -0.000116   \n",
       "3              4                2  1.814127  0.84512    0.0  0.000461   \n",
       "4              5                7  1.809085  0.79530    0.0  0.000514   \n",
       "..           ...              ...       ...      ...    ...       ...   \n",
       "468          469               -1  1.264810  0.72049    0.0  0.000000   \n",
       "469          470               -1  1.160340  0.72427    0.0  0.000000   \n",
       "470          471                5  1.551160  0.35252    0.0  0.001127   \n",
       "471          472                6  1.682176  0.74267    0.0 -0.000681   \n",
       "472          473                9  1.664154  0.76512    0.0 -0.001382   \n",
       "\n",
       "       y_disp  z_disp     x_force    y_force  z_force  \n",
       "0   -0.001291     0.0    0.000000   0.000000      0.0  \n",
       "1    0.000000     0.0    0.000000   0.000000      0.0  \n",
       "2   -0.000800     0.0 -132.130915  22.302487      0.0  \n",
       "3   -0.001007     0.0    0.000000   0.000000      0.0  \n",
       "4    0.000104     0.0    0.000000   0.000000      0.0  \n",
       "..        ...     ...         ...        ...      ...  \n",
       "468  0.000000     0.0    0.000000   0.000000      0.0  \n",
       "469  0.000000     0.0    0.000000   0.000000      0.0  \n",
       "470 -0.000002     0.0    0.000000   0.000000      0.0  \n",
       "471  0.001816     0.0    0.000000   0.000000      0.0  \n",
       "472 -0.000474     0.0    0.000000   0.000000      0.0  \n",
       "\n",
       "[473 rows x 11 columns]"
      ]
     },
     "execution_count": 19,
     "metadata": {},
     "output_type": "execute_result"
    }
   ],
   "source": [
    "## choose a dataset in a different octant for testing of next part\n",
    "raw_input_data_octant, _ = scale.get_sample_dfs(data_folder_path, 94)\n",
    "print(get_quadrant(raw_input_data_octant))\n",
    "translated_input = translate_df(raw_input_data_octant, max_dims)\n",
    "print(translated_input.loc[:,['x_force','y_force','z_force']].abs().max())\n",
    "translated_input"
   ]
  },
  {
   "cell_type": "markdown",
   "metadata": {},
   "source": [
    "Now,  having translated the element into the part of the space we need for the tensor, we need to perform the data collection into the features of the tensor"
   ]
  },
  {
   "cell_type": "code",
   "execution_count": 20,
   "metadata": {},
   "outputs": [],
   "source": [
    "## Create a function that creates a hard map of where the element is\n",
    "def get_material_map_hard(translated_sample_df, element_size, dimensionality=2):\n",
    "    ## gets the sample df and returns a tensor with 1 where nodes are found,\n",
    "    ## and 0 where no nodes are found\n",
    "    \n",
    "    ##Initialize an array for this feature\n",
    "    array = create_array(dimensionality, features=1, resolution = 32)\n",
    "\n",
    "    arr_iterator = np.nditer(array, flags=['multi_index'])\n",
    "    for location in arr_iterator:\n",
    "\n",
    "        if dimensionality == 2:\n",
    "            x = arr_iterator.multi_index[0]\n",
    "            y = arr_iterator.multi_index[1]\n",
    "            z=0\n",
    "            feature = arr_iterator.multi_index[2]\n",
    "        else:\n",
    "            raise Exception('3d not implemented yet')\n",
    "        \n",
    "        if get_dataframe_indices(element_size, translated_sample_df, x, y, z).size > 0: ## empty list returns False\n",
    "            array[x,y,z] = 1.\n",
    "    return array"
   ]
  },
  {
   "cell_type": "code",
   "execution_count": 21,
   "metadata": {
    "scrolled": true
   },
   "outputs": [
    {
     "name": "stdout",
     "output_type": "stream",
     "text": [
      "0.03892326354980469\n"
     ]
    }
   ],
   "source": [
    "tic = time.time()\n",
    "get_material_map_hard(translated_input, element_size, dimensionality=2)\n",
    "toc = time.time()\n",
    "print(toc-tic)"
   ]
  },
  {
   "cell_type": "code",
   "execution_count": 22,
   "metadata": {},
   "outputs": [
    {
     "name": "stdout",
     "output_type": "stream",
     "text": [
      "1.0 3\n",
      "1.0\n"
     ]
    },
    {
     "data": {
      "text/html": [
       "<img src=\"data:image/png;base64,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\" alt=\"PNG image\"></img>"
      ],
      "text/plain": [
       "<IPython.core.display.HTML object>"
      ]
     },
     "metadata": {},
     "output_type": "display_data"
    }
   ],
   "source": [
    "hard_map_array = get_material_map_hard(translated_input, element_size, dimensionality=2)\n",
    "\n",
    "## Create function to plot the tensor\n",
    "def plot_2d(sample_array, contour = False, clear = True, edges = np.array([])):\n",
    "    if clear:\n",
    "        mlab.clf()\n",
    "    #print(sample_array)\n",
    "    m = np.max(np.abs(sample_array))\n",
    "    print(m, len(sample_array.shape))\n",
    "    s = np.abs(sample_array)\n",
    "    mlab.figure(figure=None, bgcolor=(0.99,0.99,0.99), fgcolor=None, engine=None, size=(400, 350))\n",
    "    \n",
    "    if len(sample_array.shape)==3:\n",
    "        \n",
    "        sample_array = np.concatenate((sample_array, sample_array), axis=2)\n",
    "        \n",
    "    sample_array = np.abs(sample_array)\n",
    "\n",
    "    try:\n",
    "        sample_array = sample_array/m\n",
    "    except: ## if m is zero\n",
    "        pass\n",
    "    n = np.max(np.abs(sample_array))\n",
    "    print(n)\n",
    "\n",
    "    sample_array[0,:,:] += 1.2\n",
    "    sample_array[:,0,:] += 1.2\n",
    "    sample_array[-1,:,:] += 1.2\n",
    "    sample_array[:,-1,:] += 1.2\n",
    "    \n",
    "    if edges.size > 0:\n",
    "        sample_array = sample_array + 0.25*edges\n",
    "        \n",
    "    volume = mlab.pipeline.volume(mlab.pipeline.scalar_field(sample_array), vmin=0.2, vmax=0.8)\n",
    "    if contour:\n",
    "        mlab.contour3d(s)\n",
    "    \n",
    "        \n",
    "    return volume\n",
    "plot_2d(hard_map_array)"
   ]
  },
  {
   "cell_type": "markdown",
   "metadata": {},
   "source": [
    "In the image above, the shaded part represents the points where nodes were detected. The colourful edge is a contour of 'same value' surfaces, which is used to demonstrate where there is sharp transition in values. As can be seen,  it works roughly as expected, however the edges are jagged and some spots in the center where the nodes are very far apart, the tensor actually sees no nodes and receive a zero value. To correct this, it can be filtered with a convolutional kernel to create an average value for every point, smoothing out the edges and filling the internal elements that are empty.\n",
    "\n",
    "Note: the top left of the image shows no \"gradient\" because it is on the very edge of the tensor"
   ]
  },
  {
   "cell_type": "code",
   "execution_count": 23,
   "metadata": {},
   "outputs": [],
   "source": [
    "## create a function that creates a fuzzy map of where the element is\n",
    "def interpolate_array_spatially_2D(sample_array):\n",
    "    ## use gaussian blur kernel to smooth out the tensor\n",
    "    \n",
    "    ## define kernel\n",
    "    kernel_blur = 1/256*torch.Tensor([[1, 4, 6, 4, 1],\n",
    "                                [4, 16, 24, 16, 4],\n",
    "                                [6, 24, 36, 24, 6],\n",
    "                                [4, 16, 24, 16, 4],\n",
    "                                [1, 4, 6, 4, 1]])\n",
    "    \n",
    "    ## add redundant batch_size and _feature dimensions because of torch requirements\n",
    "    kernel_blur = kernel_blur.view([1,1,5,5])\n",
    "    \n",
    "    ## convert\n",
    "    tensor = torch.from_numpy(sample_array)\n",
    "    \n",
    "    ## convolve filter and tensor\n",
    "    smoothed_array = F.conv2d(input = tensor.view([1,1,32,32]), weight = kernel_blur.double(), stride = 1, padding=2)   \n",
    "    \n",
    "    ## return it as a correctly shaped numpy arra\n",
    "    return smoothed_array.view([32,32,1]).numpy()"
   ]
  },
  {
   "cell_type": "code",
   "execution_count": 24,
   "metadata": {},
   "outputs": [],
   "source": [
    "## create a function that runs any other arbitrary kernel\n",
    "def convolve_with_kernel(sample_array, kernel_name='edge_detection'):\n",
    "    ## use kernel on sample\n",
    "    \n",
    "    ## define kernel\n",
    "    \n",
    "    if kernel_name == 'edge_detection':\n",
    "        kernel = torch.Tensor([[-1,-1,-1],\n",
    "                              [-1,8,-1],\n",
    "                              [-1,-1,-1]])\n",
    "    \n",
    "    ## add redundant batch_size and _feature dimensions because of torch requirements\n",
    "    kernel = kernel.view([1,1,3,3])\n",
    "    \n",
    "    ## convert\n",
    "    tensor = torch.from_numpy(sample_array)\n",
    "    \n",
    "    ## convolve filter and tensor\n",
    "    convolved_array = F.conv2d(input = tensor.view([1,1,32,32]), weight = kernel.double(), stride = 1, padding=1)   \n",
    "    \n",
    "    ## return it as a correctly shaped numpy array\n",
    "    return convolved_array.view([32,32,1]).numpy()\n",
    "                               "
   ]
  },
  {
   "cell_type": "code",
   "execution_count": 25,
   "metadata": {},
   "outputs": [
    {
     "name": "stdout",
     "output_type": "stream",
     "text": [
      "1.0 3\n",
      "1.0\n"
     ]
    },
    {
     "data": {
      "text/html": [
       "<img src=\"data:image/png;base64,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\" alt=\"PNG image\"></img>"
      ],
      "text/plain": [
       "<IPython.core.display.HTML object>"
      ]
     },
     "metadata": {},
     "output_type": "display_data"
    }
   ],
   "source": [
    "#tic = time.time()\n",
    "smoothed_map_array = interpolate_array_spatially_2D(hard_map_array)\n",
    "#print(time.time()-tic)\n",
    "plot_2d(smoothed_map_array)"
   ]
  },
  {
   "cell_type": "code",
   "execution_count": 26,
   "metadata": {},
   "outputs": [
    {
     "name": "stdout",
     "output_type": "stream",
     "text": [
      "7.0 3\n",
      "1.0\n"
     ]
    },
    {
     "data": {
      "text/html": [
       "<img src=\"data:image/png;base64,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\" alt=\"PNG image\"></img>"
      ],
      "text/plain": [
       "<IPython.core.display.HTML object>"
      ]
     },
     "metadata": {},
     "output_type": "display_data"
    }
   ],
   "source": [
    "plot_2d(convolve_with_kernel(hard_map_array))"
   ]
  },
  {
   "cell_type": "markdown",
   "metadata": {},
   "source": [
    "The other features depend on the type of feature they are. Specifically, displacements have a value that vary spacially according to a shape function which in theory can be specified, however for the sake of simplicity and performance, they are going to be interpolated linearly. Forces on the element, on the other hand, are vector sums of the nodal forces."
   ]
  },
  {
   "cell_type": "code",
   "execution_count": 149,
   "metadata": {},
   "outputs": [
    {
     "name": "stdout",
     "output_type": "stream",
     "text": [
      "0.9254980087280273\n"
     ]
    }
   ],
   "source": [
    "## create a function that gets a sample dataframe and transforms it into an array\n",
    "\n",
    "def get_input_map(translated_sample_df, element_size, hard_map, dimensionality=2):\n",
    "    ## takes a dataframe and returns the displacements and forces in every element of the tensor\n",
    "\n",
    "    ##Initialize an array for this feature\n",
    "    array = create_array(dimensionality, features=6, resolution = 32)\n",
    "    #print(array.shape)\n",
    "\n",
    "    \n",
    "    ## Create iterator for the array\n",
    "    arr_iterator = np.nditer(array, flags=['multi_index'])\n",
    "    \n",
    "    ## create 2d array\n",
    "    hard_map_matrix = hard_map[:,:,0]\n",
    "    \n",
    "    ## iterates through every  element of array\n",
    "    update = False\n",
    "    for location in arr_iterator:\n",
    "        if dimensionality == 2:\n",
    "            x = arr_iterator.multi_index[0]\n",
    "            y = arr_iterator.multi_index[1]\n",
    "            z=0\n",
    "            feature = arr_iterator.multi_index[2]\n",
    "        else:\n",
    "            raise Exception('3d not implemented yet')\n",
    "        \n",
    "        \n",
    "        if dimensionality == 2 and  hard_map_matrix[x,y] > 0.0: \n",
    "            ## get the indices for this location\n",
    "            indices = get_dataframe_indices(element_size, translated_sample_df, x, y, z)\n",
    "\n",
    "            ## calculates the feature value based on current feature being analyzed\n",
    "            if 0 <= feature < 3: \n",
    "                displacements = translated_sample_df.loc[indices,['x_disp','y_disp','z_disp']].values\n",
    "                if displacements.size > 0:\n",
    "                    feature_value = displacements[:,feature].mean()\n",
    "                    update=True\n",
    "                    \n",
    "            if 3 <= feature < 6: \n",
    "                forces = translated_sample_df.loc[indices,['x_force','y_force','z_force']].values\n",
    "                if forces.size > 0:\n",
    "                    feature_value = forces[:,feature-3].sum()\n",
    "                    update = True\n",
    "                    \n",
    "            if update:\n",
    "                array[x,y,feature] = feature_value\n",
    "                update = False\n",
    "                \n",
    "        elif dimensionality != 2:\n",
    "            raise Exception('3d not implemented yet')    \n",
    "\n",
    "\n",
    "    return array\n",
    "tic = time.time()\n",
    "input_feature_array = get_input_map(warning_df, element_size, hard_map_array, dimensionality=2)\n",
    "print(time.time()-tic)"
   ]
  },
  {
   "cell_type": "markdown",
   "metadata": {},
   "source": [
    "Timing the above function, it seems that the major part of the time loss comes from getting the indices. We'll try to find a way to reduce that, as 8-10 seconds for a sample of this size is too much, since this has to be scaled to take samples as much as 10 times larger. It is obvious that this time comes from the .get_dataframe_indices() function, and thus that is where the improvements have to be made. After changing that function the time was lowered to 2 seconds. This can further be lowered by making sure to only call the get_dataframe_indices function where there is a possibility of there being a piece of material, using the hard map array. By doing that, the necessity to check for the list length is also  remove, which cuts the processing time further to 0.95 seconds approximately. "
   ]
  },
  {
   "cell_type": "code",
   "execution_count": 69,
   "metadata": {},
   "outputs": [
    {
     "name": "stdout",
     "output_type": "stream",
     "text": [
      "(32, 32, 1)\n",
      "0.00138249664993752 3\n",
      "1.0\n"
     ]
    },
    {
     "data": {
      "text/html": [
       "<img src=\"data:image/png;base64,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\" alt=\"PNG image\"></img>"
      ],
      "text/plain": [
       "<IPython.core.display.HTML object>"
      ]
     },
     "metadata": {},
     "output_type": "display_data"
    }
   ],
   "source": [
    "print(input_feature_array[:,:,0:1].shape)\n",
    "edges = convolve_with_kernel(hard_map_array)\n",
    "plot_2d(input_feature_array[:,:,0:1],contour=True, clear=False, edges=edges)"
   ]
  },
  {
   "cell_type": "code",
   "execution_count": 70,
   "metadata": {},
   "outputs": [
    {
     "name": "stdout",
     "output_type": "stream",
     "text": [
      "0.0018157012491464898 3\n",
      "1.0\n"
     ]
    },
    {
     "data": {
      "text/html": [
       "<img src=\"data:image/png;base64,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\" alt=\"PNG image\"></img>"
      ],
      "text/plain": [
       "<IPython.core.display.HTML object>"
      ]
     },
     "metadata": {},
     "output_type": "display_data"
    }
   ],
   "source": [
    "plot_2d(input_feature_array[:,:,1:2],contour=True,edges=edges)"
   ]
  },
  {
   "cell_type": "code",
   "execution_count": 71,
   "metadata": {},
   "outputs": [
    {
     "name": "stdout",
     "output_type": "stream",
     "text": [
      "590.47128195359 3\n",
      "1.0\n"
     ]
    },
    {
     "data": {
      "text/html": [
       "<img src=\"data:image/png;base64,iVBORw0KGgoAAAANSUhEUgAAAZAAAAFeCAIAAAAkP95fAAAgAElEQVR4Xuy934tl27Ln9Y2IMeacKzN3nXva7tZW9EWwkRZRUMEHUcEf2LYXLr5K/3Pqo6CnsRtBGxvxRfFRFHyQFlvFH9x77qm15o8RP3wYc61cWbv2rtq1K6tyZcbnbIo8lSPnmpm15jcjYnwjBqkqkiRJbgH+1IIkSZKXQgpWkiQ3QwpWkiQ3QwpWkiQ3QwpWkiQ3QwpWkiQ3QwpWkiQ3QwpWkiQ3QwpWkiQ3QwpWkiQ3QwpWkiQ3QwpWkiQ3QwpWkiQ3QwpWkiQ3QwpWkiQ3QwpWkiQ3QwpWkiQ3QwpWkiQ3QwpWkiQ3QwpWkiQ3QwpWkiQ3QwpWkiQ3QwpWkiQ3QwpWkiQ3QwpWkiQ3QwpWkiQ3QwpWkiQ3QwpWkiQ3QwpWkiQ3QwpWkiQ3QwpWkiQ3QwpWkiQ3QwpWkiQ3QwpWkiQ3QwpWkiQ3QwpWkiQ3QwpWkiQ3QwpWkiQ3QwpWkiQ3QwpWkiQ3QwpWkiQ3QwpWkiQ3QwpWkiQ3QwpWkiQ3QwpWkiQ3QwpWkiQ3QwpWkiQ3QwpWkiQ3QwpWkiQ3QwpWkiQ3QwpWkiQ3QwpWkiQ3QwpWkiQ3QwpWkiQ3QwpWkiQ3QwpWkiQ3QwpWkiQ3QwpWkiQ3QwpWkiQ3QwpWkiQ3QwpWkiQ3QwpWkiQ3QwpWkiQ3QwpWkiQ3QwpWkiQ3QwpWkiQ3QwpWkiQ3QwpWkiQ3QwpWkiQ3QwpWkiQ3QwpWkiQ3QwpWkiQ3QwpWkiQ3QwpWkiQ3QwpWkiQ3QwpWkiQ3QwpWkiQ3QwpWkiQ3QwpWkiQ3QwpWkiQ3QwpWkiQ3QwpWkiQ3QwpWkiQ3QwpWkiQ3QwpWkiQ3QwpWkiQ3QwpWkiQ3QwpWkiQ3QwpWkiQ3QwpWkiQ3QwpWkiQ3Q/nUgiT5hZj5PAPgwwEin1qdJL+AFKzk62Hm8xzHY8wzgDgc6P4+ZSv5iqRgJV+BMIv372NZYp7jdMK2AYjTieY5DgeaJn54SNlKfj0pWMmvwrZN5xnLgtORsHlYUIPN/bPkIfPC8xDLgmmiwwHD8PMXTJKfIQUr+UJs29o8b8ejrwt5EzLAEcEBIPY1CGct5LQ2WiodJ9zfR8pW8qWkYCW/GNu29v69Lotui3ozaxxRmYSDQEQIZgBEABABRThpocbW6M8WOk4xTfHwkLKV/FJIVT+1JkkAIMx6AqjLYm1VXTTMAAQVt0G4FKIgAnezjANBTgJCIIKFGRCPEgyaIGNMEw6HGIYsbyWfSQpW8mkuUtWOR2urRTN4gMwsiBCoRIOQ3I08HoQL95wwoFC0hbeVIoAQABEkwh7iRFHBY9zfp2wln0kKVvJzhFmbZ1sWnWfV1bw5wt0DIKIA3J1Yhmkc7+/4bpI6CVUCAAqEQcMXzDOtC60Lm4GZAEQAICJxYq/gEYdDTFOkByL5WVKwko8TZj3726XKNgt3gIgAhDuISITHsRwOdZpKmUoZCgtdXwTQcMOGWGmdaZ5pXcksIrpyRQRHlGCmMTCkbCU/TwpW8iFPoqpttlDrEdFZpwCwiEyTTFM5HEqZCtfCQtdadX1BQOFOLXyhZaZloWWBWResrlwUkAB7CTnQlLKVfJwUrOSRMNvev7dl0XVRXS3UI4II7gB6GkgiMo7lcCiHg8hYuBaRn1CqJ3TZMjTCimWmeeZ1hVlEdOUiEfKQAEcBRoznzcSUreRMClYCnP2fXarMNvXmBDfHOQcEQCIyTWWaynSQMlYZhPinoqqfIgBDKDaKFeuTaAs417aY2UOiAgOGaY+20gORpGAlT6TKN9XNEBGPOhXuXKtMUz0cZJxKnQrXL5Cqa7psWU8St4XmGctCrXVHxF7bAjggNCBStpKdFKy3y8WpoOvi0SzMEXuxigjuAXAp5XCQaarTQcr466Xqml220IA92sI8c39DMvdbYfTaliAq6hRplH/bpGC9Oa79n7ot7mepAgHoOgVgL1RNkwxTKWMhEX6u6WkGKBS0oe2yRevaVTF2GwQkQkLgFXVKx+mbJQXrDfGBVd1sM5hjr1XhXK6Scdy3/4ZJZHhWqbrGAkoKbLAF80zLwuuKXo/vK1g4XFwIQxrl3yYpWG+Ca6lq68m9GdwjgCfZHY9jPRxkmsowCQ9VyldL/z4bi1CywEa2XKItXN9oQADuRvl6l7L1pkjBeuV8zKruAYqz1xxA9ATwElXxUFi+vVRd40CXrQ+iLQDhAYB6eevc35OO0zdCCtar5VqqzLbeVWN7Uf2Rx1pVnYp8f6m6xgGFBTb4j6KtHh0GmCBOHDWN8m+BFKxXyAdSpd4cj0LlZuhW9XOtSsr40qTqmi5bjo1i7QYIXtfo1q2zMFGExC5baZR/xaRgvSquTVWqq4dafBhTEfOlVvXCpeqaR9nytSeJtK4Ujqtvj3YPRAGdjfLpgXhdpGC9En5sVQ/An4rV3lXTewDrJFxvQqqu2ZNEarCF1gXzwtsaatffAxORhyCN8q+QFKyb5wOp2nuVo1d4doi5J4D1nAAK8W1J1TUOGNyxIVbs3dQruV+v2avyUdIo/5pIwbpVrp0Kbs1sU9egvVh1SQSJeQ+pzgngTUvVNV22rNe2lgW9LfEsW30DlAjkUaIAA7imB+LWScG6PX7Sqh6ga4cn88WsIDIWqa9Gqq7xgJE7tY9GWwGQOxE4kEb5V0AK1i3xEav6dQPgGR6GPaoaplJG4SJE9Oqk6poALMJIQRttC/pm4rZdLyAijpBIo/wNk4J1G3Sngm+bLovpqraZ2yUB3NvuInanQreqy1CkMvC6peqa2KvyDdioLViW7oHA9U9gly0mDOAxpgnDkB6IWyEF66XzgVU9yNW1y9RjoQqgYSi9UDVMIkOVwnjlUdVPcS1baEsvb12irbiUtyIKhJTTKH9DpGC9XH5sVbfwy9yVfU3Eo1NhmJjrW5aqayLgBEUDtUu0Rev6OOerJ4lmEsxIo/xtkIL1EumFKm9Nl9l076rx8zTOi2Bd16r6WAV+7bWqX0qXLYMGNuiTaKsLVpgREQMc1GWLpkPUmh6Il0kK1sviYqqytpltaueumv2PYJHrWpXUMaXqk5yjLQU2svVJtGW2V7iICGCHdNmqQ1q3XiApWC+CMHOza/+nk9t5lt7VQCjmS60qpeoXQ4ZQaGAjWx+jrYvjtNe2AAGx8ROjvEjmiS+BFKzvTHcq2LZ90FVzqVXFOROUcdx9VXViroW/0Vy918c+4BQNdt5GXFc6n2AGAETsTh5CFRh269YwpAfiu5OC9d24mKq8Nd26VOne/cf8OF6B6FJWv1jVU6p+PRZh5IENfjbKryv1XxI9QXSnfhAGyi5btaZ16/uSgvUd+MCqHrDuVPCe+p2PRAZRmaZerrqhsQq3xZMhEH1wzbJwxB5t9ZM4iChCopALShrlvycpWN+UJ/7PtpptTuGXbb/Yj0EGEffsb5qkjLc4VuG2uAyB6LJ1HW3hKlVkQIwejfLpOP3mpGB9Iy6mKts201V18zAnIqJLrYqYL1FVl6oqo3QJS56f2I8dWxFrn7e1R1sXzSJCgN0lmGgAjxiGtG59S1Kwnp1r/6eHmjd1jbhK/QBE9O0/HscyTiLD1z0BMPl8zrLVgA3bQuu6byZeNAsgDyAKhKIiSjpOvxkpWM/I4/bfPJttDlO3OI9VuKgVD8MeUtXx3KucUvWd6bLlpBErtXVPEnt/z7m8hV7bgoiL03k08zCkdev5SMF6Fn5sVTcCEOEIxEWtdqv6OHarekrVS+McbenelvhBtNVTxS5bjjTKfwNSsL4m1/7Pi1U9EN67QCJ6oYqeRlUpVS+ca9ki3aMtdKP8WbMAsPtjf08d0nH6HKRgfR0+8H966N5V00VonwJDF6mSi1X9DQyreh3EZeTWWbawrrxtAdD53zcCHCFEHAVeulE+HadfkRSsX8sT/+d1V00ARKB+FERcW9XPUiU5VuHmiMfZNa23JdK60rriSrMIAUBAYgxKx+nXJAXry/mxVd1crWd/HmA6l9VJppSqV0XsE+X3tsTHJDECRD3m6kUA8Uij/FckBetL+IkDIPa+jvDow9MDkGEsh0nGMXuVXx/XsgVbe0ke67q3TZmDH8tbEoVoAOVBGL+KFKxfxgdWdYeZq0cEEQHh0SOnICrDKNPu/2SpKVWvlavZNbtR/hJtRYAiwBQBRlBEoQqTNMp/MSlYn8tHrOr7vh/27M8DRGAqwyiHScaxlJHPXTUpVa+ba9mCr7SsWBdaV3h0zUKg78EQSAxplP8yUrA+zbX/00PNmsHPhyp3GQqASFjGUYaxTBOX4XICYErV2yH2AacW2Mi3XbPWFeaEuCrJEwEl6IlRPh2nn0EK1s9x7f90P3fVgAgU5xkkEUEse1l9nKSOwjWl6m1DFm7kQY1sxbpgXWlZyaynh5faPIcXCKFGlHScfg4pWB/h4v98tKrDPNzdQUy4HAEfJKVMYw+sulTlWIXkwj4EoieJW6/Kr2S6h1qELl5EkGAOeWKUT8fpx0jBesKPreoOV7fe/9eX9Hj+7P8cpY5ShsI1xyokH+W6m5raSsuKbaVtexJqAUAICRsHDVTSKP9xUrB2Pm5VvzQo79kfAEjvqjlcddWkVCWf4iJbhAZdMe/d1P0X4EW8AEgfzZxG+Y+RgvWhVd1DzdXCAyDQnv1Fn/85ynBOAFOqkl9Oly3vjtO20rpiW7FcOU6BADiCiTgKRUnH6TVvWrA+tKrrZuTuvmd/Eb37L4C9q+ZaqrJXOflSztFWHwKx7s0969rfbNd2eSES5zTKX3ijgnXt/+xWdYOb++Ug8/67DkQyjjwOZZxkGIVrSlXytbjI1p4krguWlbatj6B9FC+AicT50Sj/hh2nb06wPpQqb2otiBD73l9vAQNRGcceWMmw+z+FJKUq+brE4xCIRrriHG3tAf5ZvEBg88I1otIblq03JFiXmnq3qnuYuToQ57Ln/juNWc7DqrgO2aucfAPiSTf11nsSadvgzoDj/IuUIBGCQi6PRvm35Dh9E4L1Y6lS197pdZ399QSwmxVKbwBMqUq+IRfZAvUk8THaus4TGUEgISF7c7L1mgXrA/9nt6pbuEcQcZwHgCCCROScAJaaUpV8T66irbYPgVhXrCubgWh/1xJRxN7f84FR/lVbt16nYH1Uqhwwt+5UeAysRC61Ki6DZK9y8jKI3Sjfh0Bsl2iLzK5CLfhekgdRhb9+2XptgnXt/7xY1c0t8FjE3P98KlXZq5y8QPZuajKgxTnaonUls7PflM7vbBcI+6NR/lU6Tl+PYF1LlWtTXfeuGiDOOWD/1+VSeBjKuI9VyF7l5IVzNQSiUVyV5FU/kC0OFxJ2Bo2Q+vpk6zUI1gf+T3c1VyeE+3VZPQAu5WIBTalKbosIOMLId9m6lORVr9/kBBCReBBeoVH+tgXrYqrapSrMrDnB3a/L6kTUo6q9sn5Vq/rUKyTJyyICQechELHtSeK2QZWu3/ERIJII6TNOu2zdvnXrVgXrI1b1cA8PAMTosxUiQMylPFpAZWAuKVXJK6DPrgEpfMP2GG1dZ4jdD/GajPK3J1i9UHVtVXe4ml1CKpwdKzwMcomqZBDZE8BPvUKS3AwOGLlHo9iw7dHWPgQCuyM6iMhdmMU5qBKualu3Zt26JcF64v/sB0Dg3Kv8JBYOGYZyOOxjFXoDYI5VSF4vP2pLXGmeadviw53EYCZxvl2j/A0IlpvFxVR16aoxdQDoKaCEe7d5yjj1BJDrIFwlGwCTN8NFtoBGtpe3sG1wRwSY4d4L8wIIhFwgI+pwQ9atFy1YXaraPHtrbZndtUsViNyd+BJYoZuqulmB61BkYOKUquQN0rupnS1iI9v2kvyVdauHXUREEULCLjdklH+hguUXU1Ufqueq1iLC3YBzr3IXrN3/OfFQS53OXTVZqkreNI9tiWhhK28bLkb5/fHhcCeAifipUf4lW7denGBdpEqXxaxZmJs6EGYAwo2IQBTuXIqMQzk7FXgfq5BSlSQ7122Jvb/n0XHKTBGXgKv39zAP4fKSjfIvSLC6VLV5dmvupm2zS0gFwH3/k84JYFerMjDXIiV7lZPko/xYth6TxEuGyIwIuhjleQTXF+g4fRGC1aVKt8VMTZu5I8JUQXAzAETUIywW4aFeoiqRKnkEfJJ8BrtskQENH0RbVxli7LUtZucXaJT/zoIVZm3tzTRmqhHhqn3ki5sF4iJY+1y9WmUcUqqS5Ms4R1v22N/Ty1tdtoBLwEUR7CH8sozy5VMLno1o7s1Um6t7UDzqDtF+Vk3/qzIMMgxcaxkGlsokkhNgkuSLIEAADnESoxrTEOPG47gbILbtsjIAIxiUuRU3miWWim1D9219J+vWt46wordwkrqvHqYGXZ2cCNhjq/MHrtrL6jIMUqpIZRZOq3qSfCUu3dSX/p5Ho3z3mjIjAhHMTO7sTDQEVQwDpgk9Sfy2Adc3FCwzmOlADRtIIywiQtm3gAWDrgWLS5FauVaWIlKFpfegf+o1kiT5ZVy6qQFFbP1U6j3g2ivx3XQaQBCIg4mHiNJli76tbH0TwTKDGc0ztaZjLA9wdoW7M9tQlHyzi2B1nZJSiUVIOFtqvivRqx7hoL3BQyJj3FfI1RAIRWzUtku0te8kesQ54CIiDiZl1ImGAbXSt3KcPnMNy6wnxtQa5hmtSXVuFPfgCY1ESYBCQETU6cC1EomwEHFQRIQjKD7irQrA4X0y30cXeES/AhEzPvKIfcYCBHlEEJg/Ft05EPjJBf3Sjwt+FCD2t4iHAfj5BUREYOqt3dcL+ncB/8wFjA95XADq//VuJxAFYGFEDZvCjSIw0CrjhOnZ35XJN6f/2w8QhxhVHwYaxthWXKKtM/39pGijGpYWtaJWtIZaMQz0zJuJzyxY799fpIpao3UlttIYLeIAueNNaKWHw+FQqRYWZgbgCI1GsZGZsoDGEnJ5ngNwhEWjaHB1rsBQsC+ICBBZuEPJVoQbV6ZRzooQEf0Kjka+UUSjwjQWEtq7RB8XsG+IaFQFo4AJP1oQ1wuo5637AgqLlX0DYDwIBoknCwwe0di3AIwGwXB1hd4XZu6bRAsiRS00csTjAoKFBTb25iDnUVDkrLz7AjwuMBoLFSG+XqCuERu7OghUiYRAAALhoYzG88yzUjgi4h+STWT8iX/q5HXAAIMdo6HGOETdMI77Ca/b1nfDIkJhQ6x4v1KtGMdorcdZsW30m9984jV+Bc8sWEC8f4/TiVXRGtYVodyYtpAFskj5R+7WkYGRIAFoRBAMW2CjWBlmwQp3HLqg9MDK0SI2io1cnbYGHzA9LghztIiVsJGbYds4BkxCfLmCxQZsHFuYuZQtYqCnC7ABG/kKd+PaOCrGDxd0PYpQ1hYx8MR7rRIOV18JG7BFRHNVikojxx7DOFyxUqwcGwCFKaJi6LHerlbYgDViC4fyYEBBfVwQZtGv0ABSN6WpXwGXBf0lvEueO6YStUejEWFh6iv5Stoc5CgiFcQERBi82bKU0yJLI4qopBj9HIElr5tdtmIwKlGHKAPaFuuKdcO2eYTBVOeyeKwFrVGtUUqY8W9/+6lr/yqeWbCGASKkGu/fozVSxbayMjeiJnWr+OGkdw8WrmAGBcHJNTzIGEFkDm/RIoZgYtD5Ufe+v8GwCDQ0whDYF1iYQgEjOMEcsFDA6tWjrmQIozCCeZBBiTziSgvIAkYwghvIQ4EaV2pisAjjMIRbUJBRuGBXNIMpDL1YF6FEYAWqgCmihzZGhnCGI8KgIEOE0H5epoZpKJFJWL8gwgKlcO9fhYZZGLAvUDDDARdi9J8OzGAUxjAPGIrBAiJgAB6uYeYavpE1jwAXhxIzMyiUfaNlbss6mHqB8WAxRqRcvSHO0dZgVHwYUEeMqy7rui6ufwafY1Fg6PkgPTxA5LntDs8sWL0OxwwgjsdQJVVRQivRhFfj8Q/+TxxWOrC/K3voQf2/AJhoV6YwiQJCRDiRA34OVRDhFIbgAHouA3IQwNjHjoaFMYUQKM4LggJEAQpEhFFYBD8ugAWhT8cOeIQjnOAABYLCgxQAKIj2WhrCEIQgUFB4wHsZC0SAIyLCwpk59jBwX9CrmIYAQigYAMhjvwIcXSIsQAin8OhfRh7oXUsBIGBAYP8eEXDACepBCAEC5Aigfwv9A3KQAQEigiEiTAEmovDKyr4QL2aLszewozJACFzqXMnb4CJbCmmltDtutclsWDd/vxI1lEJ/9EfBTCL0nAUsfBvBCmYwU62uygC1EG1oJqOI/MEeyvoXxo0OHMO5YkwAR1DXI6KI8EAgzkWs/aHj/f/3p5v354iIKMj7hwAiQH3GXxDOrxAIgIj3Z/asHOcFe1bVJa+/Slye0v1VOHx/fPtnIwJMiPMdgkAU0b8FRAT4fA9x/rr+ChHY+1D7ffVaGvXKN3YN2n8el9vDfmv7dfYCX/SXpf1++3V26Yzo389FcQgOIOABDwQTETkAMmCptLR2dN+CoSyIO4ngPeVN3h4RCLi7uXto3TQWJwMKqFb0Z/z5NwqfWbAAEolpgrsDKMXnmZeFApidGkrE9PCHtU76cLfi3YDaf+NTf+yCuMtJP/y0/y+CQETEICYmwBCgPVnZn9UeHIEYBCInRDj6Jtn+RDPFfpEAuMdal3umHk0REzN57AVyv1I0dDkg3zcoA0+ugH67/T6JQGe1Oz/wvXDetaOrnJ+v0JPCriznzbtginPIFo97eVeKddHy8+sQon8tCGCc1X6/MvZb3r999Gq+76FZK1hNZ7RZVqVgDKK1CN3VqD/eakxeNxHhQDNtvjadYz1iOcWx+eY0TXw40OGAhweapudWKzy7YInEb38bzKg1mKnW/YNlAQAH3nv9/9Zx+D3ZXbyjxj9UVAYBJKhEhYQYsCCmXSyYKIJALFFBhYhGkAN81hImEjCDhQagBjAQ9/Ds8mwzQMSCSlIjwMTo8gB03RBigJkGkgEBJulX3l8CJCBAmCcKMMAkdJZJgBjEASZhTBBwgIh5X0BA9JdgCNMhIhhkYN6/HET7SwgKwCAwyIj6RmdfwgQJCNV+L0Js6Oq5CyEhhCCoQAGBiT3AtL8+AUxUiImHgBAsCI0Q7E4W2kdWaiwRBeER72qrP9xjSl/cmyIAdd+8qS6tnfR0iuWE5RSz0XDHcqDDAYcD/fAD7u/pN795bs16ZsECIEK/+U0MA4nslg3mqJXmGaoI0O/1blrgv0eIvguXHwpqiWFXlwATioCCmKg/20wcGC/RxTkM6Qv2lDswAuhRVU8S9wWgQAhK4PyTpQ8XOPyDBf2aXbAC5OFC+wIiRO/PAu8ZE5EHMQpQe1WMGAK6WsAMSBRQwZ7E8fkK3KMgBgsKUY1zXigBpssCEFhoBGL/HkESEBATIxAIhgSmxxis/xzwGPFJiPMYNAS7FHdEcBjNZMSABMjZKYIZVTCwRWXErqnJG8DcNXzT1Wxp81Hnk56OscyDacVIY6Vyj8OB7u/p3Tv6Jn3Rzy9YAETo4SFEaBiiVmJGrSgFxyO2DXOU328j/tyC2TzeRQwPTGPpjmrayzxdVnrad8lqAPQVRNQfpUAAfLXgLHvUL/BkQX/w++TS6wVdFXFOsc5p5nlBIPYnen+d/mXoyRoBoCAGDdelKiL+2ILHO+3R2+MCBGF8LJz1mGq3hlJ0wQm5/klcLehRllzdwPkluuD0DJYiiAMIwMIbIqDui2u4us9BGiTkwsbFjeWbvFmSl0BEWERzbbpom9vpvR5nnU8+nyrFwEPhkWXCwwM/POD+ng6HT13y6/Dt3oN0OGAYUGv0UKuX6OYZ84w/1xHzFhQBU8eD4v7B6VCi9IrJORVD//V+rv48Xpsuf7Ev+CAKeLzAkwX9b+NHCz6oLH+44PzZy189FpQuX0bAHt91AcL5ns8XOsvK5QuuX+Cy4PE7jf7F58/sH1zd52cuAC5/ggLwgHU9daUwUsOi3tRagLgUcRoFfa/6qf4lrxSPUPdmW7NF11M7vrfjSU9zrGsRHnkUHnm6p7s7fvdudzN8K76dYAF7etjNGntJq5Q91PrzNuDUAjCHeaj6Q2vlrmAsP3pIrp7tj/Opz//aBR/ewLnQ/6FQxgcfEQFx1UDzGd/IByr24wWPH/7SBQE4YHB1s1Cz5raindC2MLKohQuhCA+MoRE9f9Np8p3p+/HNtdmquuh81OOxHY82L6Q6cC0ySJl4Osi7d3J/zw8Pn7rkV+bbClbn4aGXtLxWKoW6UWue8edL9WPzCHUyI1V/UJvuHVOFfEphvhuXECYiorur9pDocQmB9oI6AUHxvQtBERGARVh4czVvZpvpZr65rWSgGJhDBuKokEpRBlT/rvecPDcBqHtPA21PA096PNk8F2KRochYxju5u6sPD+XdO35mj+hH+R6CBWAY4re/pVr3kTq9GD9XnI41TmbhamjKqnGv8aAbHQqGbxd3fh7xmG49eZQ9YPA9kwT1JsQP4pv+pd9etrpUeYS6aZh5c2uqm9pmrk7BAUItAgbBOeqAodIwEI11t7p985tOnh+PaGbNN9WlLUc9HvV0stMc2zZwEa6lTDIdhh9+qPf3w8PDcxtEf4rvJFgAROI3v7kIFpXSvWdYZ7ETmoapq5KZt4YfVOud41yJ/95cSdUjRHQtYRrGxPKzj/c3DrU8wiPMXV09VL25bmabWrOIPj6EIcLCzEzCXarGgeoAlAHlRfz0k6/KVX19VZ3b6b2d5q5W7F6kFh7qeF8Oh3p/P7x7V75Vff2jfD/BAgDE4RAi3Z+17x7OFfMs75cwgyrU0NRVcd/87r7RoaB8R+/iR6Xq/DnQvocXj4v3fcmffM6/TagVAY+wcHU1V99zwNVczb1bUhkoIOHKLEKFpNI4cB2JCkM+OmAnuXX6u2KzprrodmrH93aa9XjyZSksRUaRUYapB1b14UG+Rxp4zXcWLAAYhuiV+B5qdZv/zLQsRY+mRqqiapk3kk4AACAASURBVKpkGvfa5K5g/Pbx6M9J1SNnbbrYC3oQRZ8Ipp4v1IqAIzxCTXtl3Wx1a6abwbzLJcAEAQukcBUZSh1FKkvpJ3186kWS26PX1zXsbLN6b6e5HY96mtG0chGudbiT6VDv779vGnjNCxAsPKaHNAwhsodap4Jllj+cyMzNRDXUvCkeVKd7i/FbVuLPz/VPatb+UMfutmL0ZsYuVl0RzjX3nwi4fG85+vFnvpAIBMHCLVytmfVTP/oZRWruOMeD/VwPocJSSx1FhlqGPpY6eZV0x11zVVu7zaoHVno6CahILTKW4VAOh+Hdu3p//33TwGtehmABuKSHzHucVStEMM/8fiFV00ZqZOa9En9/v9Gh4lu0tkX8XN52rTF0bu7pO4KBEEBA8sTm1T+8LnhdBPGrsU+5cFdTczVdTTezzb05PAJA7xkgYRGufAms+qm0X1E4kxfGxWaltrT11N6/t3nW4ym2rRAXrrUcZDrUu7sXkgZe84IECzinh/0QIWZiRimYC61LsdnVTJV7qKWKB231TmKUDycDf2V6Nb0XpK5f56delYkoQOCg6JNOP7bqPOuPsHfafCXi7AXV3a/QrK3aVjfVUABEwcwMFmamIlxEBimjyFC4MNHz/jST70evr6tbs1XbrMuxR1V2mmFWuRQeSp1kOozv3pX7+3o4vIQ08JoXJlgAROLhASLdqMWl7JX443t+v5KZmUKVVb01PDQ73BtNNco3acrtHTOf8UQTCj4n+AvEJ6/1C+jjFvrwP9XNdbXW9wHV3UFgJmEWYiERGZhLKSOXoXAVysL6a+ZSXzdb23rU08nmuR1PPs9MVGUsMsowlbu74eHhRaWB17w8wQLQ08NhoFqjjwQ7m0vptBQ79vIxVEMtmsaDqtxJPKNRi/b2vZ2fqZF7hMEdLvQ4Yf3HXOWDQZeBV79CLyJ6S2BoWPNmvpku1jbV5uH94kQozIVlj6pkkDJJVtbfAL2Nudmmuuh6bO+PNs96mrG1QlJlkDKW8VDu7oZ3715Iff2jvFDBAh5Drd6BSD3U6pV4Pbn1ESgW56qWjneOqeC5Iq2uJpek8MeaFbtahUUfDeoBFtAHN/Sx3cbeFP3lN352LYSGt2hNl30r0DQiEGBCzwELlyJVSpeqKiTykcN0ktdDBHo/g9ra58Poafevc0SVXrs8dJvVy0wDr3nBgoVds2IYWMS5F154r8T/oVfid0O8N6UHjXvbMD1TJb7L1fU+4cVu1VPFAFmEAw6yQPShU70C/2lHRDytj/0CYp/gHhq+2dZ8M1f3HlWBAGaSvVZVhWsZHstVn7p2ctv4XrFqaqtuRz2edN5tVkJceChllLqngcO7dy+qvv5RXrZgdYbBf/tbqjV6qNVbpudCy1LsZNYPnVBXJdW4b63cCb5yJb5f6iecWD2hQx+LGoi9/QXhCCZ2DyZ8Uo++7G4j4IAFNKKFaphdpIpAIObuXO+V9aHIUKRmZf3VE+cxoepba7MuRzvN7XSy00yqQ//VVaaXZrP6JLcgWDgbtURIZLc+iODEWGbR2fvJ0mpwJ1W/Uz/cO00l5Ovmh0Q/pVkAzsHXZcFnv/QXa0cEgsgjFKHhF6lCgPoIQBEGExcpQyljkSokX/pqyc0QuLZZndrxaPNsp9nmmYGzN/gxDRy++dCFL+ZGBAsA0NPDvY+nG7VqxTzzcWE1U3NVVj238mjjr98y3QtZP+N6J9qDm70vJ84T856mk5fFH7vG5xKAeRjBAO9J6T5GmZhEqDAxc2GpIjVzwDeCuat7823fDTyeen09lrWICNVSRhlfqM3qk9ySYAFP+3i6UYsZM2NdxI5QDVNqKrYbtfaW6a9ciT9bqK6gx87nbsg8dz3vyz58/V8pVThvC/Z80EHez5zomsVFiBksUpkLE2cO+BbY6+um6pu2Wedjr1jZvJBZlXKjaeA1tyZYeNLH88SotbdMO8zC7FKJ98Pdc7RMP61qxbkofx5afLGC7sueVNS+inYEwhwargQlApEQMwWDBMwscpaqT10peQ3s9XVXs1W3PQ3U07xPs+J6XV9/sTarT3KDggUAj308T41aTPPWjVquTdTcrA/VanInGMrl8MKvBJ3HwQfiR1OvLh8/5oP04ZovJAK9c7VFczInBhETCUpl7r6qryKLycvnSRuzzrrO7Xj0Zek2q8oiXIvsNqtbTAOvuVXBAp728TwatU7YFtETVHucFWbeFPfqh/vtGVqmuyz87Cbg133B3cfQ3LbYHAvDqAWcRQrLxFSyrv52uNTXzTdtp3Y62TkN5HDhUm7KZvVJblmw8LSP52LUmgXr2idqmRp6eqgaqri/b3yQqLf7L7arldmGzbEQZmkbnxBGIrX8Nhpqwe1+f8kv4NzGvKqtunZT6Gzz7MsqzIUHkeEVpIHX3LhgAcBVH8/FqHU6nSdqndzMTUnNVNE98fXwDJX4b0F3XSlii+a0EmbWYzk1OjqCMVZ3NLmfvnYUmbw0nrQx66zzvhVopzlUC0uVgWUst1xf/yivQbCAJ6HWo1FrrVhmfr9AzZuKKtxdLe7VD9YwffVK/LMSgBM0YvPWbA2axU58mmlZyOBcnRnuLv4zrY7JK2BvY9amtprOvY25x1YcGMrAVF5TGnjNaxEsPPbxPBq15rm3TPNxYXdzd1PSfdhD3GmTg8RQXvzDHX0MA4WFa+xD1xAn8jl8cVICBVUCorcOJq+UiPDeMWqb6mzrbl63ZdnTQKlFbthm9UlekWB1PmrUWguWRfREuh/Bd6nE23jn+PqV+K9F7FNDw8LNzbypN21LW0/EK8NAJFQZFE79jImAp2K9SiJwOY3ZdNH5pGf/+j7NSuqrTAOveXWChav08GLUmmfMgmXuE7X8bHowVdwr7u83TCVe3OaaR3jA3A2mpubNvWlb+5Fce9MNDQQKYqaKKOxM4Z+6cHJ7XLUxL7r1NHCxuXfbUJVB+LG+XqapvKI08JrXKFi4Sg+vjVql9IlaokeYuZrsAZfSvWo5BMafmWD1LYlzncLCzM2sqW2mm7uqq8EJYHBBpSAH01B8qDQMwXXILcLXxWMbcz+NeZ37bqDPS7RWSIoMwvUVp4HXvFLB6nxwHk8pe8t02+T93M+2YNMwCzW+V5/MMNbvWonvUuVAH/Rltrmp6aZ9aiiiO1QZXIKJOIhpqBgqxiFKBdeBvuf9J1+Xfo5k86a2WlvafLLTrD2w8qhcSjcuTAeZpteaBl7zqgULV308x+OjUWtdMc/8fmUzNYMq9SHxqri7Uz7I126Z/hx6ucoBQ2g0sxbWTFe3pqa9jEVEDAixCAkLUaFaaBqpVlBhKhz0EyPkk9ujtzFrNG3zJQ3Ued6nWfXA6nXZrD7JaxcsAE/7eFAr7buHjHkrerK9g6d5UzSNe7XhOVqmf5LA3sbsCA31UPfNbfO2umsz65MYeFcrEYhIYalSBiqVpTIV7m77b3PHyTNzbmNu6pvp0i42q3kh2w8NFBnLdCjT9OrTwGvehGABj308dDw+Hn04z32iVq/Es1m494HLfrjb6LmGl3biUarC4Q7zcPMWvoVuZk299ZNOKcAgJmbqB532Gcd9FF+2N782HtuYdTFdunGhB1YcKFyFB6n7buArs1l9kjcjWHhqLq2VTqe9ZXpd+bSQmZmRGdleice9aTlwDF82vPQ8beYc9Zybn+OS/UU4ucMD1mfBu2toc9/M1TwcYBAQzMLETIW5lrKfHiicJ0e8Ni5tzNc2K58XnedYt8LCLKWMMhzq3d3uC30DaeA1b0mwAFzSw35Kazdq1YoT70cf2uPRh6GGe7Xx4DQVyGeGWn0+8uVPoA9135WFiALRQ6ogAwxhgME0moY2Z2thHgwEA0zEvTjFdT+S6zyK70tENHnB9DZmDVVdVRedT7YsfTcQZlVK4YGklnG3WZXD4Y2kgde8OcECgGEIEVyOPjydLi3T/H4h894yTV287jXurNH0yeGl+yj3CPMeHvXh7hEA82UOKUARFNF1yhWq0TSaBszYlSjAhBAiAgsXpkJUpYwiVbjkjONXibnvRStbdJv3itWy9GlWzKWWkWUsd3f1cHhraeA1b1KwcHWG2OXow0vL9LwVO5l7qImpm6EpPtUy3b0IHq6ubi3c3A0REc7dhoDLwdGBCIIjLFTRFGZgNwknQZAwGCwozIWosgzc94OyXPUa6fV1dVNftS26zno82bLYvKC1StLr6zKM3WZVDoe3lgZe81YFCwAQhwOG4dGotbdMr1hn0dnV3IxUoRaquFM/9FDridFpn1OMsDCP5t7C+mlbGubU5ykD4H6MDQKBfrIpHKYRFuLKHFEoIASGMFWmyjxQP+4UOeP4ddLtwc1UbbG26LwbF7rNSrgI1/KWbFaf5E0LFvC0j6cbtWoF86WPB/sGono/ZfpOrYyOAhIGdxeywQ0t0OBb6Obz6vOG5uROEYQQhhARBfo5z+GAuxuRxxCGQsEMEJhoAA0sI/HAPAgV4W/krki+JVf19dV01W0+O0IXX1chKjJIGZlrt1nJNL3ZNPCaNy9Y+LCPB8tyaZmmZRE9uSrM0P80c9m4FCpiXFCKAhYNaNAt1hXLykv7FxfjVdmcEYVQcD4okICI/7qbrthjJESVYEaJqMBAPEFGLpNQ5oCvlkBvY+4dV0ubT3qafVlsXvo0K6FS6iTD9NZsVp8kBevMuY+HhuHKqCW0reW4qjmZhRpUqWwkJaSgSEhBIYhRtFjWf37VMq91affLJptRBNOfSEAYFP8JCN3d8G9H/BfFMTB8ZC+EIWIgHqlMNB6IhkKVv9JZFclLo9us9NJtc/GvzwsDZa+vD91mJdOUaeA1pKqfWvOWMKNto+Mx3r+ndaV5jmWJeQ5ffRSdxpgmqtPeTS0CKVrYxYH2L6xtWFtdttL+RlmDN5CBAAYY+2D3/9z/I4/462PZxroNw98bR5qmGCeeDpgmqhPTXrH6xH0mN8h5TKiqbWarrrOe08DYNqE+zWqQOvE49m4bGYZUq2tSsD7GttH791gWHI80z7GucTqFbl7cpiHKyFJIJIpAihf55wQV27C2/3Zb/q32J2UFN/yd7U/DgIDH3wLij+lvOhCC/5T/Yx/qvz4d1rvDf3c30t0BhwNNBy4TowhSrF4nlzZm802v6uu+LFATltI3WIap3t+Xaco08KOkYP0EZphnOh7jeIxl6bKFZY5oVgVSeoT1r8hghSFRSAf942EL2fC3l/+Q7G+E7p03ACx+5wQf+N8c/mar+K+G39E00mH6q/c/LPd3/8dhJBoL0rn+OtnHhLqrb2arbntUtaeBRJUrS+8NnN5gt80vIgXrZ5lnHI8xzzidsK5xOmFdaVsC/u+WYiIubCJR/v1CURWy4W+vfxrazTW/64JF/Mc+QCtZ+S+j1n95+JM20f8w/D25O/xj9z8sh7s/p1LohY48TX4lT9uY126z8nW1eYnWhFi4lDJxGd5st80vIgXrU2xbzDOORywLTifM87+2tsMy19ZAQPkPghFCxPg77U/REN73gH7XLQwxsNaC+u9ERQyw8t+j1L9292+sd1in/2md7t5TEaTH6nVybmNublvbZlv2wMqWhT0KF+ZSyqPN6m122/wiUrA+A7OuWf/kst2dTtO63p1OY/v37uYAQMDfij+DAAb07O+cCfqDaB2jVtQatfLwL2EACv7xw19a77DVv288aJ4Z8RrpBj11bVf19e5f36dZcbnYrN54t80vIm0Nn4EIPTz8UIZpmF1Ex3/VS7SV/m75U8xAAwAYIn53rT0B+J1A7misUSuVyhNowD88/KVtok3+t+CqyPnrr5BeX+9tzGarznM77WkgmZar+no5B1aZBn4mKVify3w4/KHKX6j/tB/pf+H/N+h8BD0Dy+8uy57ESweOckdDoWEo41+lAVb+n/nur/3B//6B6z5rJnlF9Pq6hTfbzDfdzoHVsviykEfhIjKIDNlt82WkYH0uGgaR4wP9nv9vVBDDy//IPEMW0Ix1hT85X4sAGdAO99P0T2EAjfhh+MtN/pkAHWjcL5i8IvoxXB/YrHoaGNsmzKUMzFXqJOOY3TZfRgrWL2PFP8BDwTsAYPy16091j+jFyuC/+x3N5n/5n6WBaIip/mUnAgL+f33kusmNcw6smtrqurb5ZPPS1YrM6rm+znVIm9WvIYvuX4KUAgBH4AjMwAlYgBVxAjbskZOD/iL+7K8e/sof/dFKBNhFqjK2ek2c25hVvfU25ktgZctSmPk8IqZXrLLb5teQEdaXYKoAJH700zMAoBl/nf4Igmj0Py939ye1e1L7P3vNK9XqNdFP2+5tzK6PaaD2aVYswkVkvLZZZbfNryEF68sxUoy4K//o3YD7EncSk8Q4xF2JcUVpQQt++P1/Bv9tyLvfD9scJd+nr4Y+YHZvY9ZV26Lz7Ova5y5wBPdDA2XINPArkoL1a9kGMoEKTNAqTNDk7/6A9wOt47r+8P4YqFHof/+L1PADffZs+OQlc6mvmzfVRbelB1a+rLYsfahxkbRZfX1SsH4tav8AAAYDtr9Ci9E8yULAuFZn/m+W1ekPXsL+AjcuwKGAGUSBNLffKJf6utmmutiym9d9WUKtcq9Y7TarTAO/LilYXwkRHA6/L8NW6//KID6PldnW2Fr84T1OJQ41GMoV+xh5uni5kpvg3MZ8nma17Wlgr69TxPmI0yG7bZ6JFKyvyakK+AAGhiGYqVbMIusC9zieSAuGoLGGDIbqKAzhIM4Dm2+BfUyoNYtm5/q6r6teTbNKm9Vzk4L1tRHBw0OIgDmORzCjFN7m8KB1xRa0DRgqhiGkGg1GRVAElLWtl8weWPWhC21PA31ZbV2gVkjkbLPKbptnJQXrebicxzMMcTwGs7iJgNRoO9JQo24YaowDyqA0egwF/RyK5GXxpI1ZV2vLJbDyZWGiIlV4YKllTJvVs5OC9WyIoJ/HIxK1hs81wgkAeF6itdhKbFvcjTGYkTnGApGgPCTn5XBpYzbbtC22Lu1ctOrTrMpTm1Wmgc9NCtZz0jVrGMCMJoyV0UAUBKwbrRu16troTmPSEFOaAlVAnHuI35tLG/PFZtV7mG1efF1gXkjSZvXtScF6foaBf/ObeC/YhHyFzwR2mJvh2FgrhUE17iyqKSbHUEgk08PvR6+vX7UxP+4G+royUZWBubLUcrirh0Omgd+MFKxvggg9PGAbcDySEdlaAEcE3JYFptxPmb4zH83ZWoyRlfjvxEdtVr6stq5QLSyFK3NNm9V3IQXrWyGCwwEiwUyLxMoUzLEyYK3BlMzCPZrizkKs0eRRsxL/LbnU19Wa2apnm9VeXwcKF6YiZSzjJNOUaeC3JwXr2zIM+M1vYhhwFMyMlSmogMjVTyc3g5qb4c6imtHkGEqIICvxz87jmNC+G7g+BlaxbQKSbgqtk4xjPZ8WkYHVNyYF65sjEocDRFArjkcsTLYJVobaukENtqeHMVqwNRoDVYIYWYl/Fq7r6/tu4N5ts/qykHu3WYmM1zarTAO/CylY34NzegiREMEi2IiiFWxkZscjqYW59/SwmNLkqAVZif/6PG1j3rtt7FxfFyLhIjIw154GZrfN9yUF6/sxDHtP4TDEe6Z1RbBEIzRbZvfHUMsHcxobshL/lbmur/c0sM2zL6uva7RWiAtXlsoyZLfNCyEF67siEg8P6H08y4LjkYw5iKG2NTOHWZjzweJgwd4wOrIS/xXYx4S69jTQ2qLnGaG+rZdDA0UGLrvNKrttXgIpWN+fOKeHJOLzTAsRWKKRGR1PZh5mYeYHi2qGMWgsIRzISvyXsY8JtWbeHm1Wvb6+rkLMVEQq86PNKtPAF0IK1stgGOKsWRCJZSFbGI2gtCzWHQ+qdLCYLMgbjQIp4Jyr9Yu4jAk112ar66rLovMc62brgqaFRaiwVKm7zSrTwBdFCtaL4So9JJFYBNtCWIWUWjs7HhxmcTCIKYbAKCBJyfo8en3dwpptbptuiy3L3hi4rohLGvhos8o08KWRgvWyiPOYB+oW003IN8EKtzidYAp3N4vJMJiRO40ByUr8J/mxzWo/2GZdfdsKMVMpZez19ey2ebGkYL08eqg1DCQSs2BhcpbYiJqtm5uzmavhYJgM4ooxonbNylDrx3zUZmXLYstqywLzylJ6b2AZstvmhZOC9SIRicMhRKjWc3pIHMxopmbvj1AN916JRzHb+3jSqPUhlzbmi83qIlW+rtz9672+njarWyAF6wVzqcR3o9a2IljQKNTmxc3DDGpxsBi7UWvYp9N86sJvhB/brLQfbLOusTVhLlyYH21WPbzKwOolk4L1srn08fSBywuTM4MJzbbN/dx7aIbJULyFd0/8G08PI+Do82Ga+15f13nxdfV1hXth6SPYexqY3Ta3QgrWi+eiWSI0DD7PtJwI9P+3dy/LjeQ4FEDxIFPS/39rWckkHrOglJJtdXW7ytXTlO5ZeOVweHWDQAJkYXMz9jcOj4i878TnS69M364Jjf7hYDXKwCJVpGDMakYIrEl8HtSKVYk5jc4rmafdOvHJ3nlJqpryUivTH/rrbs32T4HrmuZ7GYgxq0khsOZxVx7ug1rCnWnzbuE/yD0j4loeGkVwLVRepBN/v8bs+5jV2mxdozXOLNevgfdjVigD54LAmsp9eXgZ1GqcUqhHmJ8vK9NpnienxUOiZ7xCJ37vr0eMRwMvXwOjtdg2ZVGteu2vowycFwJrQnfl4T6oJSSc3deNPdyc/FoeyqFTBD3tM2If15itveuvuxd+119HGTg1BNacHuzxMDMXNu/G7h4xykM+etZwiuSlZHmylem4vB1vdrdt49c1Zk669dexbfMUEFgT+7TH0yg3JeYwOp/dTMxzdOIPHhSdF6XyHJ34u/66eWzex6XGa7TmayMzYVYtH8pAbNvMDoE1uUd7PELCZLT1GD3466BWqvvlwmWZemV6X2Mer0V4v5aB2xbrypnC8qEMxLbNc0Bgze/RHg8TV2YzY3+LGLfTeJ48l3Dy4GXey0vv15jDt9vBaoxZMRcu92Ugtm2eCQLrWdzt8dC5jkGtQuxpvLbwiL0Tf/CUsMsez0yd+J+NWbVtPBoorIoxq+eFwHoijwa1lLuSeTd3j9GJN+eTRxkz8bXQHJ34vb8+1pijN9sHF1qTJNUi/LG/jjLwySCwnsujQS3KTalzuL+9uZuYp7ucPJcI9k6LUvkvX166XxNqYbcxq+tVVtk2FRFRjFm9AgTWM3o8qNWZjFt3v0w8XG7UkjBekmrh/+LKdCbdvcZ8G7PKbfPxaKCojksXMGb1AhBYT+pBecgsUqizefx4I7dRHtLJqYbTuObhv9WJv60xe7+MWZ1Xb5fXmIVovMbMXFAGvggE1vN6XB6yUmdyOrfwYL8etQ5Otz2e/38n/r6/HtHtOmY1DlbZTUVGf13KogvKwFeBwHp2f10e+tbHlNZ44YJOTnqwu6MWU/7dX/8j7q8Jdd/ejVm1hjLwlSGwXsDn8rAzs5S0cLcfb+yeke7OJ+clgsI4M4sS/8ud+NFfv60x72NW2zYutFIRlapSUAa+JgTWa/hQHp6FeufchHols7VlxDhq5cnl4KlhvESWf7MTf+mvu3na/ZjVOFiRWb07WEmtKANfEALrlYzycFmoVlrX21GLum+d3Dl8jJjyybO405K0/DuDWqO/7unmm/sWvdltcKFxpkgp6K+/PATWi/l01OKtcXIR8zD/cRZzvg498BLB0WlR/oMr03t/3fdLF9rlYOVri20rIipVuKC/Dgisl/SgE78pM5N52yJc3MMjjy4nTwkfFy6TfvvlpaO/PtaYY5SB18GFaI08imhBfx2uEFiv6lMnnu36Ho95+Bu5U8ToxGfxkMis37sy/e61iN68t8vBqrVojYlUFGUg3ENgvbD35WGcRTZh4kLmaXxeI0Ld3Z2PTscI9vymlenMcamxjzXmsM3W1dZLfz27CXORgjIQPkBgvbzP5WFuSizk3nq4U8R4tFVOnnqbif/lTvz9GvNlzOraX98fDdyHQi93hOKJUyAiBBYQPS4Pmb1Qdzf+8UZmtwuXF0+JnvELl5d+XmP2rdm1v57bJsxFqkplUa0HlIHwAQILiOhhediIWImZjVoLD3JPD3KnY6SGUXzp8tJM8oh928b75QGu0bEajwYqF5XKWlAGwkMILLjzoTzsnU0kRyfe+M1jDJe688mpHEZ5mFmU/6YTf+mvh7nftm32MvDyaKBUkarLQWrF10B4CIEF792Xh71fOvFjuDSMzytHxP5c6+LJ0a9HLeEHnfhMCrrev35ZY27W1nGV1bsyUOs4WF0CC2UgfILAgk/2zDqfr534lXMvDzfyuHTizekYpGEZQbWkCpHcFYiROW6z8tgy+uhY2ThYbY3dlUW1FF1Y6mhX7Wn1k38QXhYCC/7CKA/P5w+DWpSdzfLNyYwvmeVUD8FhvCjp/Q0PQelpnltG89bsbY22+dqib0KkrFWqaN3767IsKAPhJxBY8NfGUev69GGcRboIC6dlGK3NR2C559Fp8ZBgeteCj8wgS295XvOt5blFa2Q+xqxUy2ha7f11UUVawU8gsOCnVEn1/aDWyiyFhMly6+me7uSe5imdqdyPlAZlpKVv+bbmutG5sUfRwlKYVXWp2LaBr0BgwT/wflAr1pWsCUuhTm5+PmcEeRDXpJLMRDliKzMpjWKjdeNz02TRmlqTVZdDPR4rxqzgKxBY8M/cDWqRapyFehOWEkxs2Rp5JDuRZtIeWMSUaRydN2MW4ZK6uCgvh3o6leOxor8OX4HAgq94P6iVvVOykhCZmWXvxIWSmCnzklmcJoVENKkE16wHqVWv2zaCgxV8BQILvkiVruUhrSttQl0kpWS36NzXkVUDM0vVwpWpBldeDrQsfDzq6STLgrSCr0Jgwdep0unEqjmOWqq0rsJSmIgot5ZuRMRa+HAgJBy+DAAAAatJREFUrsKH5CrH40grOZ0EZSD8EgQW/Kpl2TOLVHNdeYyNFk5vRMTlQFJJFipHOR55Weh4ZHwNhN+AwILfoMp7eXj9mSIsQkRUKx8OdDjw6cS18unEy0JIK/gNCCz4PXtmnc+sGiO2RmAdDnQ8yulEe1oB/B4EFnwDXhZWjfNZRHJ0tYj4eOTjkZZFRqIB/DYEFnwTVTmd8jqoRSOwlgVlIHwjBBZ8n708HIE10grg+7CZ/d3vAHyROxHhYAXfDics+AMQVfBnfNcTcwAAfxwCCwCmgcACgGkgsABgGggsAJgGAgsApoHAAoBpILAAYBoILACYBgILAKaBwAKAaSCwAGAaCCwAmAYCCwCmgcACgGkgsABgGggsAJgGAgsApoHAAoBpILAAYBoILACYBgILAKaBwAKAaSCwAGAaCCwAmAYCCwCmgcACgGkgsABgGggsAJgGAgsApoHAAoBpILAAYBoILACYBgILAKaBwAKAaSCwAGAaCCwAmAYCCwCmgcACgGkgsABgGggsAJgGAgsApoHAAoBpILAAYBoILACYBgILAKaBwAKAafwPXm/Y8nOpyisAAAAASUVORK5CYII=\" alt=\"PNG image\"></img>"
      ],
      "text/plain": [
       "<IPython.core.display.HTML object>"
      ]
     },
     "metadata": {},
     "output_type": "display_data"
    }
   ],
   "source": [
    "plot_2d(input_feature_array[:,:,3:4],contour=True,edges=edges)"
   ]
  },
  {
   "cell_type": "code",
   "execution_count": 72,
   "metadata": {},
   "outputs": [
    {
     "name": "stdout",
     "output_type": "stream",
     "text": [
      "487.4631351553655 3\n",
      "1.0\n"
     ]
    },
    {
     "data": {
      "text/html": [
       "<img src=\"data:image/png;base64,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\" alt=\"PNG image\"></img>"
      ],
      "text/plain": [
       "<IPython.core.display.HTML object>"
      ]
     },
     "metadata": {},
     "output_type": "display_data"
    }
   ],
   "source": [
    "plot_2d(input_feature_array[:,:,4:5],contour=True,edges=edges)"
   ]
  },
  {
   "cell_type": "markdown",
   "metadata": {},
   "source": [
    "Now, similarly, the output map must be built"
   ]
  },
  {
   "cell_type": "code",
   "execution_count": 73,
   "metadata": {},
   "outputs": [],
   "source": [
    "_ , raw_output_data_octant = scale.get_sample_dfs(data_folder_path, 94)"
   ]
  },
  {
   "cell_type": "code",
   "execution_count": 74,
   "metadata": {},
   "outputs": [
    {
     "data": {
      "text/html": [
       "<div>\n",
       "<style scoped>\n",
       "    .dataframe tbody tr th:only-of-type {\n",
       "        vertical-align: middle;\n",
       "    }\n",
       "\n",
       "    .dataframe tbody tr th {\n",
       "        vertical-align: top;\n",
       "    }\n",
       "\n",
       "    .dataframe thead th {\n",
       "        text-align: right;\n",
       "    }\n",
       "</style>\n",
       "<table border=\"1\" class=\"dataframe\">\n",
       "  <thead>\n",
       "    <tr style=\"text-align: right;\">\n",
       "      <th></th>\n",
       "      <th>node_number</th>\n",
       "      <th>x_loc</th>\n",
       "      <th>y_loc</th>\n",
       "      <th>z_loc</th>\n",
       "      <th>x_disp</th>\n",
       "      <th>y_disp</th>\n",
       "      <th>z_disp</th>\n",
       "    </tr>\n",
       "  </thead>\n",
       "  <tbody>\n",
       "    <tr>\n",
       "      <th>0</th>\n",
       "      <td>1</td>\n",
       "      <td>1.824212</td>\n",
       "      <td>0.94477</td>\n",
       "      <td>0.0</td>\n",
       "      <td>0.001270</td>\n",
       "      <td>-0.001291</td>\n",
       "      <td>0.0</td>\n",
       "    </tr>\n",
       "    <tr>\n",
       "      <th>1</th>\n",
       "      <td>2</td>\n",
       "      <td>1.728600</td>\n",
       "      <td>0.00000</td>\n",
       "      <td>0.0</td>\n",
       "      <td>0.002493</td>\n",
       "      <td>0.000889</td>\n",
       "      <td>0.0</td>\n",
       "    </tr>\n",
       "    <tr>\n",
       "      <th>2</th>\n",
       "      <td>3</td>\n",
       "      <td>1.819169</td>\n",
       "      <td>0.89495</td>\n",
       "      <td>0.0</td>\n",
       "      <td>-0.000116</td>\n",
       "      <td>-0.000800</td>\n",
       "      <td>0.0</td>\n",
       "    </tr>\n",
       "    <tr>\n",
       "      <th>3</th>\n",
       "      <td>4</td>\n",
       "      <td>1.814127</td>\n",
       "      <td>0.84512</td>\n",
       "      <td>0.0</td>\n",
       "      <td>0.000461</td>\n",
       "      <td>-0.001007</td>\n",
       "      <td>0.0</td>\n",
       "    </tr>\n",
       "    <tr>\n",
       "      <th>4</th>\n",
       "      <td>5</td>\n",
       "      <td>1.809085</td>\n",
       "      <td>0.79530</td>\n",
       "      <td>0.0</td>\n",
       "      <td>0.000514</td>\n",
       "      <td>0.000104</td>\n",
       "      <td>0.0</td>\n",
       "    </tr>\n",
       "    <tr>\n",
       "      <th>...</th>\n",
       "      <td>...</td>\n",
       "      <td>...</td>\n",
       "      <td>...</td>\n",
       "      <td>...</td>\n",
       "      <td>...</td>\n",
       "      <td>...</td>\n",
       "      <td>...</td>\n",
       "    </tr>\n",
       "    <tr>\n",
       "      <th>468</th>\n",
       "      <td>469</td>\n",
       "      <td>1.264810</td>\n",
       "      <td>0.72049</td>\n",
       "      <td>0.0</td>\n",
       "      <td>-0.000375</td>\n",
       "      <td>0.000759</td>\n",
       "      <td>0.0</td>\n",
       "    </tr>\n",
       "    <tr>\n",
       "      <th>469</th>\n",
       "      <td>470</td>\n",
       "      <td>1.160340</td>\n",
       "      <td>0.72427</td>\n",
       "      <td>0.0</td>\n",
       "      <td>-0.000338</td>\n",
       "      <td>0.000258</td>\n",
       "      <td>0.0</td>\n",
       "    </tr>\n",
       "    <tr>\n",
       "      <th>470</th>\n",
       "      <td>471</td>\n",
       "      <td>1.551160</td>\n",
       "      <td>0.35252</td>\n",
       "      <td>0.0</td>\n",
       "      <td>0.001127</td>\n",
       "      <td>-0.000002</td>\n",
       "      <td>0.0</td>\n",
       "    </tr>\n",
       "    <tr>\n",
       "      <th>471</th>\n",
       "      <td>472</td>\n",
       "      <td>1.682176</td>\n",
       "      <td>0.74267</td>\n",
       "      <td>0.0</td>\n",
       "      <td>-0.000681</td>\n",
       "      <td>0.001816</td>\n",
       "      <td>0.0</td>\n",
       "    </tr>\n",
       "    <tr>\n",
       "      <th>472</th>\n",
       "      <td>473</td>\n",
       "      <td>1.664154</td>\n",
       "      <td>0.76512</td>\n",
       "      <td>0.0</td>\n",
       "      <td>-0.001382</td>\n",
       "      <td>-0.000474</td>\n",
       "      <td>0.0</td>\n",
       "    </tr>\n",
       "  </tbody>\n",
       "</table>\n",
       "<p>473 rows × 7 columns</p>\n",
       "</div>"
      ],
      "text/plain": [
       "     node_number     x_loc    y_loc  z_loc    x_disp    y_disp  z_disp\n",
       "0              1  1.824212  0.94477    0.0  0.001270 -0.001291     0.0\n",
       "1              2  1.728600  0.00000    0.0  0.002493  0.000889     0.0\n",
       "2              3  1.819169  0.89495    0.0 -0.000116 -0.000800     0.0\n",
       "3              4  1.814127  0.84512    0.0  0.000461 -0.001007     0.0\n",
       "4              5  1.809085  0.79530    0.0  0.000514  0.000104     0.0\n",
       "..           ...       ...      ...    ...       ...       ...     ...\n",
       "468          469  1.264810  0.72049    0.0 -0.000375  0.000759     0.0\n",
       "469          470  1.160340  0.72427    0.0 -0.000338  0.000258     0.0\n",
       "470          471  1.551160  0.35252    0.0  0.001127 -0.000002     0.0\n",
       "471          472  1.682176  0.74267    0.0 -0.000681  0.001816     0.0\n",
       "472          473  1.664154  0.76512    0.0 -0.001382 -0.000474     0.0\n",
       "\n",
       "[473 rows x 7 columns]"
      ]
     },
     "execution_count": 74,
     "metadata": {},
     "output_type": "execute_result"
    }
   ],
   "source": [
    "translated_output = translate_df(raw_output_data_octant, max_dims)\n",
    "translated_output"
   ]
  },
  {
   "cell_type": "code",
   "execution_count": 150,
   "metadata": {},
   "outputs": [
    {
     "name": "stdout",
     "output_type": "stream",
     "text": [
      "0.5246298313140869\n"
     ]
    }
   ],
   "source": [
    "def get_output_map(translated_sample_df, element_size,hard_map, dimensionality=2):\n",
    "    ## takes a dataframe and returns the displacements in every element of the tensor\n",
    "    \n",
    "    ##Initialize an array for this feature\n",
    "    array = create_array(dimensionality, features=3, resolution = 32)\n",
    "    #print(array.shape)\n",
    "    \n",
    "    ## Create iterator for the array\n",
    "    arr_iterator = np.nditer(array, flags=['multi_index'])\n",
    "    \n",
    "    ## Create 2d array\n",
    "    hard_map_matrix = hard_map[:,:,0]\n",
    "    \n",
    "    update=False\n",
    "    ## iterates through every  element of array\n",
    "    for location in arr_iterator:\n",
    "        \n",
    "        if dimensionality == 2:\n",
    "            x = arr_iterator.multi_index[0]\n",
    "            y = arr_iterator.multi_index[1]\n",
    "            z=0\n",
    "            feature = arr_iterator.multi_index[2]\n",
    "        else:\n",
    "            raise Exception('3d not implemented yet')\n",
    "        \n",
    "        ## get the indices for this location\n",
    "        indices = get_dataframe_indices(element_size, translated_sample_df, x, y, z)\n",
    "        if dimensionality == 2 and  hard_map_matrix[x,y] > 0.0: ## empty list returns False\n",
    "            ##gets the features of the input at that location\n",
    "            displacements = translated_sample_df.loc[indices,['x_disp','y_disp','z_disp']].values\n",
    "            \n",
    "            if displacements.size > 0:\n",
    "                ## calculates the feature value based on current feature being analyzed\n",
    "                feature_value = displacements[:,feature].mean()\n",
    "                update=True\n",
    "\n",
    "            if update:\n",
    "                array[x,y,feature] = feature_value\n",
    "                update=False\n",
    "                \n",
    "        elif dimensionality > 2:\n",
    "            raise Exception('3d not implemented yet')    \n",
    "                \n",
    "            \n",
    "    return array\n",
    "tic = time.time()\n",
    "output_feature_array = get_output_map(translated_output, element_size,hard_map_array, dimensionality=2)\n",
    "print(time.time()-tic)"
   ]
  },
  {
   "cell_type": "code",
   "execution_count": 91,
   "metadata": {},
   "outputs": [
    {
     "name": "stdout",
     "output_type": "stream",
     "text": [
      "0.0023558 3\n",
      "1.0\n"
     ]
    },
    {
     "data": {
      "text/html": [
       "<img src=\"data:image/png;base64,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\" alt=\"PNG image\"></img>"
      ],
      "text/plain": [
       "<IPython.core.display.HTML object>"
      ]
     },
     "metadata": {},
     "output_type": "display_data"
    }
   ],
   "source": [
    "plot_2d(output_feature_array[:,:,0:1],contour=True, clear=False, edges=edges)"
   ]
  },
  {
   "cell_type": "code",
   "execution_count": 92,
   "metadata": {},
   "outputs": [
    {
     "name": "stdout",
     "output_type": "stream",
     "text": [
      "0.0018157 3\n",
      "1.0\n"
     ]
    },
    {
     "data": {
      "text/html": [
       "<img src=\"data:image/png;base64,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\" alt=\"PNG image\"></img>"
      ],
      "text/plain": [
       "<IPython.core.display.HTML object>"
      ]
     },
     "metadata": {},
     "output_type": "display_data"
    }
   ],
   "source": [
    "plot_2d(output_feature_array[:,:,1:2],contour=True, clear=False, edges=edges)"
   ]
  },
  {
   "cell_type": "markdown",
   "metadata": {},
   "source": [
    "Now having all the feature tensors/arrays, we need to concatenate them into a representative shape."
   ]
  },
  {
   "cell_type": "code",
   "execution_count": 151,
   "metadata": {},
   "outputs": [
    {
     "name": "stdout",
     "output_type": "stream",
     "text": [
      "(473, 11)\n",
      "(32, 32, 1)\n",
      "(32, 32, 6)\n",
      "(32, 32, 3)\n"
     ]
    },
    {
     "data": {
      "text/plain": [
       "array([[[0., 0., 0., 0., 0., 0.],\n",
       "        [0., 0., 0., 0., 0., 0.],\n",
       "        [0., 0., 0., 0., 0., 0.],\n",
       "        ...,\n",
       "        [0., 0., 0., 0., 0., 0.],\n",
       "        [0., 0., 0., 0., 0., 0.],\n",
       "        [0., 0., 0., 0., 0., 0.]],\n",
       "\n",
       "       [[0., 0., 0., 0., 0., 0.],\n",
       "        [0., 0., 0., 0., 0., 0.],\n",
       "        [0., 0., 0., 0., 0., 0.],\n",
       "        ...,\n",
       "        [0., 0., 0., 0., 0., 0.],\n",
       "        [0., 0., 0., 0., 0., 0.],\n",
       "        [0., 0., 0., 0., 0., 0.]],\n",
       "\n",
       "       [[0., 0., 0., 0., 0., 0.],\n",
       "        [0., 0., 0., 0., 0., 0.],\n",
       "        [0., 0., 0., 0., 0., 0.],\n",
       "        ...,\n",
       "        [0., 0., 0., 0., 0., 0.],\n",
       "        [0., 0., 0., 0., 0., 0.],\n",
       "        [0., 0., 0., 0., 0., 0.]],\n",
       "\n",
       "       ...,\n",
       "\n",
       "       [[0., 0., 0., 0., 0., 0.],\n",
       "        [0., 0., 0., 0., 0., 0.],\n",
       "        [0., 0., 0., 0., 0., 0.],\n",
       "        ...,\n",
       "        [0., 0., 0., 0., 0., 0.],\n",
       "        [0., 0., 0., 0., 0., 0.],\n",
       "        [0., 0., 0., 0., 0., 0.]],\n",
       "\n",
       "       [[0., 0., 0., 0., 0., 0.],\n",
       "        [0., 0., 0., 0., 0., 0.],\n",
       "        [0., 0., 0., 0., 0., 0.],\n",
       "        ...,\n",
       "        [0., 0., 0., 0., 0., 0.],\n",
       "        [0., 0., 0., 0., 0., 0.],\n",
       "        [0., 0., 0., 0., 0., 0.]],\n",
       "\n",
       "       [[0., 0., 0., 0., 0., 0.],\n",
       "        [0., 0., 0., 0., 0., 0.],\n",
       "        [0., 0., 0., 0., 0., 0.],\n",
       "        ...,\n",
       "        [0., 0., 0., 0., 0., 0.],\n",
       "        [0., 0., 0., 0., 0., 0.],\n",
       "        [0., 0., 0., 0., 0., 0.]]])"
      ]
     },
     "execution_count": 151,
     "metadata": {},
     "output_type": "execute_result"
    }
   ],
   "source": [
    "## create a function that takes a sample and returns the concatenated, unscaled arrays\n",
    "def create_unscaled_arrays(data_folder_path, max_dimensions, sample_number, element_size, dimensionality=2):\n",
    "    ## gets the data from a sample dataframe and returns the input and output array\n",
    "    \n",
    "    # get dataframes\n",
    "    raw_input_df, raw_output_df = scale.get_sample_dfs(data_folder_path, sample_number)\n",
    "    \n",
    "    # translate dataframes\n",
    "    translated_input_df = translate_df(raw_input_df, max_dimensions)\n",
    "    translated_output_df = translate_df(raw_output_df, max_dimensions)\n",
    "    print(translated_input_df.shape)\n",
    "    \n",
    "    # get material existence feature\n",
    "    material_existence = get_material_map_hard(translated_input_df, element_size, dimensionality)\n",
    "    material_existence = interpolate_array_spatially_2D(material_existence)\n",
    "    print(material_existence.shape)\n",
    "    \n",
    "    # get input and output feature arrays\n",
    "    input_features_array = get_input_map(translated_input_df, element_size, material_existence, dimensionality)\n",
    "    print(input_features_array.shape)\n",
    "    output_features_array = get_output_map(translated_output_df, element_size,material_existence, dimensionality)\n",
    "    print(output_features_array.shape)\n",
    "    \n",
    "    \n",
    "    return input_features_array\n",
    "create_unscaled_arrays(data_folder_path,  max_dims, 94, element_size, dimensionality = 2)"
   ]
  }
 ],
 "metadata": {
  "kernelspec": {
   "display_name": "Python 3",
   "language": "python",
   "name": "python3"
  },
  "language_info": {
   "codemirror_mode": {
    "name": "ipython",
    "version": 3
   },
   "file_extension": ".py",
   "mimetype": "text/x-python",
   "name": "python",
   "nbconvert_exporter": "python",
   "pygments_lexer": "ipython3",
   "version": "3.7.7"
  }
 },
 "nbformat": 4,
 "nbformat_minor": 4
}
