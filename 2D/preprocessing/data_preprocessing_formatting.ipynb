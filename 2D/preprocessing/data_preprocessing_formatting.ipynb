{
 "cells": [
  {
   "cell_type": "code",
   "execution_count": 1,
   "metadata": {},
   "outputs": [
    {
     "name": "stdout",
     "output_type": "stream",
     "text": [
      "D:\\Ansys Simulations\\Project\\2D\\preprocessing\n"
     ]
    }
   ],
   "source": [
    "!cd"
   ]
  },
  {
   "cell_type": "markdown",
   "metadata": {},
   "source": [
    "## Formatting\n",
    "In this notebook, the objective is to explore and develop a way to transformed the scaled data into a relevant data format/file/shape that can be used for a 2d convolutional neural network. Ideally, what is desired is a file that can store tensors as spatial data and that can be used by a ConvNet.\n",
    "After some research, the conclusion is that the best way to do this is to format them as a 4D numpy array and saved as a .npy file so that they can be later quickly read into memory."
   ]
  },
  {
   "cell_type": "code",
   "execution_count": 114,
   "metadata": {},
   "outputs": [],
   "source": [
    "## Imports\n",
    "import numpy as np\n",
    "from PREPROCESSING_splitting import get_number\n",
    "import PREPROCESSING_scaling as scale\n",
    "from pathlib import Path\n",
    "import pandas as pd\n",
    "import os, sys\n",
    "import torch.nn.functional as F\n",
    "import torch\n",
    "import warnings"
   ]
  },
  {
   "cell_type": "code",
   "execution_count": 2,
   "metadata": {},
   "outputs": [
    {
     "name": "stdout",
     "output_type": "stream",
     "text": [
      "Notebook initialized with png backend.\n"
     ]
    }
   ],
   "source": [
    "## 3d visualization import\n",
    "%gui qt\n",
    "from mayavi import mlab\n",
    "mlab.init_notebook('png')"
   ]
  },
  {
   "cell_type": "code",
   "execution_count": 3,
   "metadata": {},
   "outputs": [
    {
     "name": "stdout",
     "output_type": "stream",
     "text": [
      "UPDATED MAX \t sample #1 \t force: 0.00 \t displacement: 0.002053 \n",
      "UPDATED MAX \t sample #10 \t force: 152.79 \t displacement: 0.003020 \n",
      "UPDATED MAX \t sample #100 \t force: 152.79 \t displacement: 0.019382 \n",
      "UPDATED MAX \t sample #101 \t force: 242.87 \t displacement: 0.019382 \n",
      "UPDATED MAX \t sample #11 \t force: 287.27 \t displacement: 0.019382 \n",
      "UPDATED MAX \t sample #55 \t force: 295.32 \t displacement: 0.019382 \n"
     ]
    },
    {
     "data": {
      "text/html": [
       "<div>\n",
       "<style scoped>\n",
       "    .dataframe tbody tr th:only-of-type {\n",
       "        vertical-align: middle;\n",
       "    }\n",
       "\n",
       "    .dataframe tbody tr th {\n",
       "        vertical-align: top;\n",
       "    }\n",
       "\n",
       "    .dataframe thead th {\n",
       "        text-align: right;\n",
       "    }\n",
       "</style>\n",
       "<table border=\"1\" class=\"dataframe\">\n",
       "  <thead>\n",
       "    <tr style=\"text-align: right;\">\n",
       "      <th></th>\n",
       "      <th>node_number</th>\n",
       "      <th>named_selection</th>\n",
       "      <th>x_loc</th>\n",
       "      <th>y_loc</th>\n",
       "      <th>z_loc</th>\n",
       "      <th>x_disp</th>\n",
       "      <th>y_disp</th>\n",
       "      <th>z_disp</th>\n",
       "      <th>x_force</th>\n",
       "      <th>y_force</th>\n",
       "      <th>z_force</th>\n",
       "    </tr>\n",
       "  </thead>\n",
       "  <tbody>\n",
       "    <tr>\n",
       "      <th>170</th>\n",
       "      <td>171</td>\n",
       "      <td>-1</td>\n",
       "      <td>0.180590</td>\n",
       "      <td>0.242730</td>\n",
       "      <td>0.0</td>\n",
       "      <td>0.000000</td>\n",
       "      <td>0.000000</td>\n",
       "      <td>0.0</td>\n",
       "      <td>0.0</td>\n",
       "      <td>0.0</td>\n",
       "      <td>0.0</td>\n",
       "    </tr>\n",
       "    <tr>\n",
       "      <th>171</th>\n",
       "      <td>172</td>\n",
       "      <td>-1</td>\n",
       "      <td>0.138780</td>\n",
       "      <td>0.205680</td>\n",
       "      <td>0.0</td>\n",
       "      <td>0.000000</td>\n",
       "      <td>0.000000</td>\n",
       "      <td>0.0</td>\n",
       "      <td>0.0</td>\n",
       "      <td>0.0</td>\n",
       "      <td>0.0</td>\n",
       "    </tr>\n",
       "    <tr>\n",
       "      <th>172</th>\n",
       "      <td>173</td>\n",
       "      <td>-1</td>\n",
       "      <td>0.068634</td>\n",
       "      <td>0.123060</td>\n",
       "      <td>0.0</td>\n",
       "      <td>0.000000</td>\n",
       "      <td>0.000000</td>\n",
       "      <td>0.0</td>\n",
       "      <td>0.0</td>\n",
       "      <td>0.0</td>\n",
       "      <td>0.0</td>\n",
       "    </tr>\n",
       "    <tr>\n",
       "      <th>173</th>\n",
       "      <td>174</td>\n",
       "      <td>-1</td>\n",
       "      <td>0.054411</td>\n",
       "      <td>0.084662</td>\n",
       "      <td>0.0</td>\n",
       "      <td>0.000000</td>\n",
       "      <td>0.000000</td>\n",
       "      <td>0.0</td>\n",
       "      <td>0.0</td>\n",
       "      <td>0.0</td>\n",
       "      <td>0.0</td>\n",
       "    </tr>\n",
       "    <tr>\n",
       "      <th>174</th>\n",
       "      <td>175</td>\n",
       "      <td>-1</td>\n",
       "      <td>0.024266</td>\n",
       "      <td>0.072970</td>\n",
       "      <td>0.0</td>\n",
       "      <td>0.000000</td>\n",
       "      <td>0.000000</td>\n",
       "      <td>0.0</td>\n",
       "      <td>0.0</td>\n",
       "      <td>0.0</td>\n",
       "      <td>0.0</td>\n",
       "    </tr>\n",
       "    <tr>\n",
       "      <th>175</th>\n",
       "      <td>176</td>\n",
       "      <td>2</td>\n",
       "      <td>0.328590</td>\n",
       "      <td>0.694900</td>\n",
       "      <td>0.0</td>\n",
       "      <td>-0.050859</td>\n",
       "      <td>-0.107693</td>\n",
       "      <td>0.0</td>\n",
       "      <td>0.0</td>\n",
       "      <td>0.0</td>\n",
       "      <td>0.0</td>\n",
       "    </tr>\n",
       "    <tr>\n",
       "      <th>176</th>\n",
       "      <td>177</td>\n",
       "      <td>1</td>\n",
       "      <td>0.189800</td>\n",
       "      <td>0.568730</td>\n",
       "      <td>0.0</td>\n",
       "      <td>0.031275</td>\n",
       "      <td>-0.014854</td>\n",
       "      <td>0.0</td>\n",
       "      <td>0.0</td>\n",
       "      <td>0.0</td>\n",
       "      <td>0.0</td>\n",
       "    </tr>\n",
       "    <tr>\n",
       "      <th>177</th>\n",
       "      <td>178</td>\n",
       "      <td>1</td>\n",
       "      <td>0.127090</td>\n",
       "      <td>0.604280</td>\n",
       "      <td>0.0</td>\n",
       "      <td>0.031275</td>\n",
       "      <td>-0.014854</td>\n",
       "      <td>0.0</td>\n",
       "      <td>0.0</td>\n",
       "      <td>0.0</td>\n",
       "      <td>0.0</td>\n",
       "    </tr>\n",
       "    <tr>\n",
       "      <th>178</th>\n",
       "      <td>179</td>\n",
       "      <td>2</td>\n",
       "      <td>0.245740</td>\n",
       "      <td>0.732520</td>\n",
       "      <td>0.0</td>\n",
       "      <td>-0.050859</td>\n",
       "      <td>-0.107693</td>\n",
       "      <td>0.0</td>\n",
       "      <td>0.0</td>\n",
       "      <td>0.0</td>\n",
       "      <td>0.0</td>\n",
       "    </tr>\n",
       "    <tr>\n",
       "      <th>179</th>\n",
       "      <td>180</td>\n",
       "      <td>2</td>\n",
       "      <td>0.269410</td>\n",
       "      <td>0.625380</td>\n",
       "      <td>0.0</td>\n",
       "      <td>-0.050859</td>\n",
       "      <td>-0.107693</td>\n",
       "      <td>0.0</td>\n",
       "      <td>0.0</td>\n",
       "      <td>0.0</td>\n",
       "      <td>0.0</td>\n",
       "    </tr>\n",
       "    <tr>\n",
       "      <th>180</th>\n",
       "      <td>181</td>\n",
       "      <td>2</td>\n",
       "      <td>0.201990</td>\n",
       "      <td>0.666000</td>\n",
       "      <td>0.0</td>\n",
       "      <td>-0.050859</td>\n",
       "      <td>-0.107693</td>\n",
       "      <td>0.0</td>\n",
       "      <td>0.0</td>\n",
       "      <td>0.0</td>\n",
       "      <td>0.0</td>\n",
       "    </tr>\n",
       "    <tr>\n",
       "      <th>181</th>\n",
       "      <td>182</td>\n",
       "      <td>-1</td>\n",
       "      <td>0.092572</td>\n",
       "      <td>0.335460</td>\n",
       "      <td>0.0</td>\n",
       "      <td>0.000000</td>\n",
       "      <td>0.000000</td>\n",
       "      <td>0.0</td>\n",
       "      <td>0.0</td>\n",
       "      <td>0.0</td>\n",
       "      <td>0.0</td>\n",
       "    </tr>\n",
       "    <tr>\n",
       "      <th>182</th>\n",
       "      <td>183</td>\n",
       "      <td>-1</td>\n",
       "      <td>0.667620</td>\n",
       "      <td>0.799740</td>\n",
       "      <td>0.0</td>\n",
       "      <td>0.000000</td>\n",
       "      <td>0.000000</td>\n",
       "      <td>0.0</td>\n",
       "      <td>0.0</td>\n",
       "      <td>0.0</td>\n",
       "      <td>0.0</td>\n",
       "    </tr>\n",
       "    <tr>\n",
       "      <th>183</th>\n",
       "      <td>184</td>\n",
       "      <td>3</td>\n",
       "      <td>0.400010</td>\n",
       "      <td>0.799620</td>\n",
       "      <td>0.0</td>\n",
       "      <td>-0.008180</td>\n",
       "      <td>-0.006119</td>\n",
       "      <td>0.0</td>\n",
       "      <td>0.0</td>\n",
       "      <td>0.0</td>\n",
       "      <td>0.0</td>\n",
       "    </tr>\n",
       "    <tr>\n",
       "      <th>184</th>\n",
       "      <td>185</td>\n",
       "      <td>-1</td>\n",
       "      <td>-0.002717</td>\n",
       "      <td>0.596150</td>\n",
       "      <td>0.0</td>\n",
       "      <td>0.000000</td>\n",
       "      <td>0.000000</td>\n",
       "      <td>0.0</td>\n",
       "      <td>0.0</td>\n",
       "      <td>0.0</td>\n",
       "      <td>0.0</td>\n",
       "    </tr>\n",
       "    <tr>\n",
       "      <th>185</th>\n",
       "      <td>186</td>\n",
       "      <td>-1</td>\n",
       "      <td>0.151650</td>\n",
       "      <td>0.357250</td>\n",
       "      <td>0.0</td>\n",
       "      <td>0.000000</td>\n",
       "      <td>0.000000</td>\n",
       "      <td>0.0</td>\n",
       "      <td>0.0</td>\n",
       "      <td>0.0</td>\n",
       "      <td>0.0</td>\n",
       "    </tr>\n",
       "    <tr>\n",
       "      <th>186</th>\n",
       "      <td>187</td>\n",
       "      <td>1</td>\n",
       "      <td>0.239610</td>\n",
       "      <td>0.530310</td>\n",
       "      <td>0.0</td>\n",
       "      <td>0.031275</td>\n",
       "      <td>-0.014854</td>\n",
       "      <td>0.0</td>\n",
       "      <td>0.0</td>\n",
       "      <td>0.0</td>\n",
       "      <td>0.0</td>\n",
       "    </tr>\n",
       "    <tr>\n",
       "      <th>187</th>\n",
       "      <td>188</td>\n",
       "      <td>1</td>\n",
       "      <td>0.131800</td>\n",
       "      <td>0.432240</td>\n",
       "      <td>0.0</td>\n",
       "      <td>0.031275</td>\n",
       "      <td>-0.014854</td>\n",
       "      <td>0.0</td>\n",
       "      <td>0.0</td>\n",
       "      <td>0.0</td>\n",
       "      <td>0.0</td>\n",
       "    </tr>\n",
       "    <tr>\n",
       "      <th>188</th>\n",
       "      <td>189</td>\n",
       "      <td>-1</td>\n",
       "      <td>0.572190</td>\n",
       "      <td>0.728220</td>\n",
       "      <td>0.0</td>\n",
       "      <td>0.000000</td>\n",
       "      <td>0.000000</td>\n",
       "      <td>0.0</td>\n",
       "      <td>0.0</td>\n",
       "      <td>0.0</td>\n",
       "      <td>0.0</td>\n",
       "    </tr>\n",
       "  </tbody>\n",
       "</table>\n",
       "</div>"
      ],
      "text/plain": [
       "     node_number  named_selection     x_loc     y_loc  z_loc    x_disp  \\\n",
       "170          171               -1  0.180590  0.242730    0.0  0.000000   \n",
       "171          172               -1  0.138780  0.205680    0.0  0.000000   \n",
       "172          173               -1  0.068634  0.123060    0.0  0.000000   \n",
       "173          174               -1  0.054411  0.084662    0.0  0.000000   \n",
       "174          175               -1  0.024266  0.072970    0.0  0.000000   \n",
       "175          176                2  0.328590  0.694900    0.0 -0.050859   \n",
       "176          177                1  0.189800  0.568730    0.0  0.031275   \n",
       "177          178                1  0.127090  0.604280    0.0  0.031275   \n",
       "178          179                2  0.245740  0.732520    0.0 -0.050859   \n",
       "179          180                2  0.269410  0.625380    0.0 -0.050859   \n",
       "180          181                2  0.201990  0.666000    0.0 -0.050859   \n",
       "181          182               -1  0.092572  0.335460    0.0  0.000000   \n",
       "182          183               -1  0.667620  0.799740    0.0  0.000000   \n",
       "183          184                3  0.400010  0.799620    0.0 -0.008180   \n",
       "184          185               -1 -0.002717  0.596150    0.0  0.000000   \n",
       "185          186               -1  0.151650  0.357250    0.0  0.000000   \n",
       "186          187                1  0.239610  0.530310    0.0  0.031275   \n",
       "187          188                1  0.131800  0.432240    0.0  0.031275   \n",
       "188          189               -1  0.572190  0.728220    0.0  0.000000   \n",
       "\n",
       "       y_disp  z_disp  x_force  y_force  z_force  \n",
       "170  0.000000     0.0      0.0      0.0      0.0  \n",
       "171  0.000000     0.0      0.0      0.0      0.0  \n",
       "172  0.000000     0.0      0.0      0.0      0.0  \n",
       "173  0.000000     0.0      0.0      0.0      0.0  \n",
       "174  0.000000     0.0      0.0      0.0      0.0  \n",
       "175 -0.107693     0.0      0.0      0.0      0.0  \n",
       "176 -0.014854     0.0      0.0      0.0      0.0  \n",
       "177 -0.014854     0.0      0.0      0.0      0.0  \n",
       "178 -0.107693     0.0      0.0      0.0      0.0  \n",
       "179 -0.107693     0.0      0.0      0.0      0.0  \n",
       "180 -0.107693     0.0      0.0      0.0      0.0  \n",
       "181  0.000000     0.0      0.0      0.0      0.0  \n",
       "182  0.000000     0.0      0.0      0.0      0.0  \n",
       "183 -0.006119     0.0      0.0      0.0      0.0  \n",
       "184  0.000000     0.0      0.0      0.0      0.0  \n",
       "185  0.000000     0.0      0.0      0.0      0.0  \n",
       "186 -0.014854     0.0      0.0      0.0      0.0  \n",
       "187 -0.014854     0.0      0.0      0.0      0.0  \n",
       "188  0.000000     0.0      0.0      0.0      0.0  "
      ]
     },
     "metadata": {},
     "output_type": "display_data"
    }
   ],
   "source": [
    "## load in and scale  a sample\n",
    "\n",
    "data_folder_path =  Path('D:/Ansys Simulations/Project/2D/data') \n",
    "\n",
    "# get data\n",
    "raw_input_data, raw_output_data = scale.get_sample_dfs(data_folder_path, 26)\n",
    "\n",
    "max_force, max_disp = scale.get_max_disp_force(data_folder_path)\n",
    "\n",
    "scaled_input_data = scale.scale_dataframe(raw_input_data, max_force, max_disp)\n",
    "with pd.option_context(\"display.max_rows\", None):\n",
    "    display(scaled_input_data.iloc[170:189,:])"
   ]
  },
  {
   "cell_type": "markdown",
   "metadata": {},
   "source": [
    "To run the convolutional layer on the data, the data has to be converted from the positions table into an object that represents the element's positions in a way that a convolutional kernel is able to understand positional relationships. Looking at the 3D data files generated, there seem to be about 10000 nodes on each of those samples (although the intent is to decrease it later to speed up sample creation). With this in mind, and knowing that most of the samples have a relatively similar volume, choosing a size of 32x32x32 entries in which to split the data is an arbitrary choice which seems to lead to a good balance of nodal specificity, averaging and processing time for the network. \n",
    "\n",
    "The fourth dimension's size depends on the amount of features. For directional data such as displacement and forces, there are three components per type. On top of that, one more feature is created which is the \"existence\" feature, which encodes whether a certain \"volume\" in space contains material from the element or not, varying from 0 (no material) to 1 (filled with  material). It is only different than 1 or 0 on the edges/faces of the element. "
   ]
  },
  {
   "cell_type": "code",
   "execution_count": 4,
   "metadata": {},
   "outputs": [],
   "source": [
    "## Create an empty numpy array with the correct dimensions\n",
    "def create_array(dimensionality, features, resolution = 32):\n",
    "    ## returns an array of zeros for the correct type of model specified with the dimensionality and the features\n",
    "    positional_shape = [resolution]*dimensionality\n",
    "    shape = positional_shape + [features]\n",
    "    array = np.zeros(shape)\n",
    "    return array"
   ]
  },
  {
   "cell_type": "code",
   "execution_count": 5,
   "metadata": {},
   "outputs": [
    {
     "name": "stdout",
     "output_type": "stream",
     "text": [
      "(35, 35, 35, 6)\n",
      "(32, 32, 4)\n"
     ]
    }
   ],
   "source": [
    "print(create_array(3,6, 35).shape)\n",
    "print(create_array(2,4).shape)\n"
   ]
  },
  {
   "cell_type": "markdown",
   "metadata": {},
   "source": [
    "To correctly distribute the data inside of the tensor, it is necessary to get the maximum positional dimensions of the dataset so that every sample actually fits inside of the tensor"
   ]
  },
  {
   "cell_type": "code",
   "execution_count": 239,
   "metadata": {},
   "outputs": [],
   "source": [
    "## Create function to run through all data and get max values of dimensions\n",
    "def get_max_dimensions(samples_folder_path):\n",
    "    ## iterates through all data to get the max dimensions\n",
    "    samples = scale.sample_iterator(samples_folder_path)\n",
    "    \n",
    "    max_x = 0\n",
    "    max_y = 0\n",
    "    max_z = 0\n",
    "    \n",
    "    for sample in samples:\n",
    "        sample_number, input_data, output_data = sample\n",
    "        #print(samples)\n",
    "        \n",
    "        ## run through all data\n",
    "        # first absolute, then max in the columns \n",
    "        updated = False\n",
    "        \n",
    "        ## get ranges of data in sample\n",
    "        range_x = [input_data.loc[:,['x_loc']].max().item(), input_data.loc[:,['x_loc']].min().item()]\n",
    "        max_x_temp = abs(range_x[0] - range_x[1])\n",
    "        \n",
    "        range_y = [input_data.loc[:,['y_loc']].max().item(), input_data.loc[:,['y_loc']].min().item()]\n",
    "        max_y_temp = abs(range_y[0] - range_y[1])\n",
    "        \n",
    "        range_z = [input_data.loc[:,['z_loc']].max().item(), input_data.loc[:,['z_loc']].min().item()]\n",
    "        max_z = abs(range_z[0] - range_z[1])\n",
    "        \n",
    "        max_y_temp, max_z_temp = input_data.loc[:,['y_loc','z_loc']].abs().max()\n",
    "        \n",
    "        if max_x_temp > max_x:\n",
    "            max_x = max_x_temp\n",
    "            updated = True\n",
    "            \n",
    "        if max_y_temp > max_y:\n",
    "            max_y = max_y_temp\n",
    "            updated = True\n",
    "            \n",
    "        if max_z_temp > max_z:\n",
    "            max_z = max_z_temp\n",
    "            updated = True\n",
    "            \n",
    "        if updated:\n",
    "            print(f'UPDATED MAX \\t sample #{sample_number} \\t x: {max_x:.4f} \\t y: {max_y:.4f} \\t z: {max_z:.4f}')\n",
    "            \n",
    "    return max_x, max_y, max_z"
   ]
  },
  {
   "cell_type": "code",
   "execution_count": 240,
   "metadata": {},
   "outputs": [
    {
     "name": "stdout",
     "output_type": "stream",
     "text": [
      "UPDATED MAX \t sample #1 \t x: 0.9692 \t y: 1.1906 \t z: 0.0000\n",
      "UPDATED MAX \t sample #10 \t x: 1.0849 \t y: 1.1906 \t z: 0.0000\n",
      "UPDATED MAX \t sample #100 \t x: 1.4374 \t y: 1.3295 \t z: 0.0000\n",
      "UPDATED MAX \t sample #101 \t x: 1.4374 \t y: 1.4031 \t z: 0.0000\n",
      "UPDATED MAX \t sample #102 \t x: 1.6833 \t y: 1.4031 \t z: 0.0000\n",
      "UPDATED MAX \t sample #12 \t x: 1.7286 \t y: 1.4031 \t z: 0.0000\n",
      "UPDATED MAX \t sample #50 \t x: 1.7286 \t y: 1.4830 \t z: 0.0000\n"
     ]
    }
   ],
   "source": [
    "max_dims = get_max_dimensions(data_folder_path)"
   ]
  },
  {
   "cell_type": "code",
   "execution_count": 8,
   "metadata": {},
   "outputs": [],
   "source": [
    "class HiddenPrints:\n",
    "    def __enter__(self):\n",
    "        self._original_stdout = sys.stdout\n",
    "        sys.stdout = open(os.devnull, 'w')\n",
    "\n",
    "    def __exit__(self, exc_type, exc_val, exc_tb):\n",
    "        sys.stdout.close()\n",
    "        sys.stdout = self._original_stdout"
   ]
  },
  {
   "cell_type": "code",
   "execution_count": 273,
   "metadata": {},
   "outputs": [],
   "source": [
    "#create function that creates an element size for the resolution\n",
    "def get_element_size(samples_folder_path, resolution = 32):\n",
    "    ## runs through all samples to get the element size based on the resolution\n",
    "    with HiddenPrints():\n",
    "        max_x, max_y, max_z = get_max_dimensions(samples_folder_path)\n",
    "    \n",
    "    largest_dim = max([max_x, max_y, max_z])\n",
    "   \n",
    "    element_size = largest_dim/resolution\n",
    "    \n",
    "    return element_size"
   ]
  },
  {
   "cell_type": "code",
   "execution_count": 274,
   "metadata": {},
   "outputs": [],
   "source": [
    "element_size = get_element_size(data_folder_path)"
   ]
  },
  {
   "cell_type": "markdown",
   "metadata": {},
   "source": [
    "I just realized that the scaling step performed earlier on the pandas dataframe is of no use since there is no guarantee that two nodes aren't going to fall in the same element, and thus the data must be re-scaled after it has been fitted into the new format, as the maximums will change. This will be implemented later, and the previous scaling function will be considered deprecated."
   ]
  },
  {
   "cell_type": "code",
   "execution_count": 11,
   "metadata": {},
   "outputs": [],
   "source": [
    "## create function that takes  the element size and a tensor index and uses it to get\n",
    "## node indices that match that location from a sample.\n",
    "def get_dataframe_indices(element_size, sample_df, x, y, z=0, Is_2D=True):\n",
    "    ## create function that takes  the element size and a tensor index and uses it to get\n",
    "    ## dataframe indices that match that spatial location from a sample\n",
    "    \n",
    "    ## gets range of values\n",
    "    x_range = [x*element_size, (x+1)*element_size]\n",
    "    y_range = [y*element_size, (y+1)*element_size]   \n",
    "    \n",
    "    #get indices\n",
    "    if Is_2D:\n",
    "        indices = np.where((sample_df['x_loc'].values>=x_range[0]) & (sample_df['x_loc'].values<x_range[1])\\\n",
    "                          & (sample_df['y_loc'].values>=y_range[0]) & (sample_df['y_loc'].values<y_range[1]))\n",
    "    \n",
    "\n",
    "    if not(Is_2D):\n",
    "        z_range = [z*element_size, (z+1)*element_size]\n",
    "        indices = np.where((sample_df['x_loc'].values>=x_range[0]) & (sample_df['x_loc'].values<x_range[1])\\\n",
    "                          & (sample_df['y_loc'].values>=y_range[0]) & (sample_df['y_loc'].values<y_range[1])\\\n",
    "                          & (sample_df['z_loc'].values>=z_range[0]) & (sample_df['z_loc'].values<z_range[1]))\n",
    "   \n",
    "    # print(indices) uncomment to show selected indices\n",
    "\n",
    "    return indices[0]"
   ]
  },
  {
   "cell_type": "code",
   "execution_count": 12,
   "metadata": {},
   "outputs": [
    {
     "name": "stdout",
     "output_type": "stream",
     "text": [
      "0.0009639263153076172\n",
      "[137 453 455 511]\n"
     ]
    }
   ],
   "source": [
    "import time\n",
    "tic = time.time()\n",
    "get_dataframe_indices(element_size, raw_input_data, 0,4)\n",
    "toc = time.time()\n",
    "print(toc-tic)\n",
    "print(get_dataframe_indices(element_size, raw_input_data, 0,4))"
   ]
  },
  {
   "cell_type": "code",
   "execution_count": 14,
   "metadata": {},
   "outputs": [
    {
     "name": "stdout",
     "output_type": "stream",
     "text": [
      "298 µs ± 6.59 µs per loop (mean ± std. dev. of 7 runs, 1000 loops each)\n",
      "9.11 µs ± 312 ns per loop (mean ± std. dev. of 7 runs, 100000 loops each)\n"
     ]
    },
    {
     "data": {
      "text/plain": [
       "numpy.ndarray"
      ]
     },
     "execution_count": 14,
     "metadata": {},
     "output_type": "execute_result"
    }
   ],
   "source": [
    "## testing series.between and np.where\n",
    "\n",
    "\n",
    "time_test_series = pd.Series(np.random.rand(1000), name = 'test_series')\n",
    "\n",
    "%timeit time_test_series.between(0.25, 0.75)\n",
    "\n",
    "%timeit np.where((time_test_series.values>=0.25)&(time_test_series.values<=0.75))\n",
    "\n",
    "type(time_test_series.values)"
   ]
  },
  {
   "cell_type": "code",
   "execution_count": 26,
   "metadata": {},
   "outputs": [
    {
     "name": "stdout",
     "output_type": "stream",
     "text": [
      "['D:\\\\Ansys Simulations\\\\Project\\\\2D\\\\preprocessing', 'D:\\\\Anaconda3_2nd\\\\envs\\\\AI_FEA\\\\python37.zip', 'D:\\\\Anaconda3_2nd\\\\envs\\\\AI_FEA\\\\DLLs', 'D:\\\\Anaconda3_2nd\\\\envs\\\\AI_FEA\\\\lib', 'D:\\\\Anaconda3_2nd\\\\envs\\\\AI_FEA', '', 'D:\\\\Anaconda3_2nd\\\\envs\\\\AI_FEA\\\\lib\\\\site-packages', 'D:\\\\Anaconda3_2nd\\\\envs\\\\AI_FEA\\\\lib\\\\site-packages\\\\win32', 'D:\\\\Anaconda3_2nd\\\\envs\\\\AI_FEA\\\\lib\\\\site-packages\\\\win32\\\\lib', 'D:\\\\Anaconda3_2nd\\\\envs\\\\AI_FEA\\\\lib\\\\site-packages\\\\Pythonwin', 'D:\\\\Anaconda3_2nd\\\\envs\\\\AI_FEA\\\\lib\\\\site-packages\\\\IPython\\\\extensions', 'C:\\\\Users\\\\Owner\\\\.ipython']\n",
      "326 ms ± 3.6 ms per loop (mean ± std. dev. of 7 runs, 1 loop each)\n"
     ]
    }
   ],
   "source": [
    "time_test_series = pd.Series(np.random.rand(10000*1000), name = 'test_series')\n",
    "print(sys.path)\n",
    "from sortedcontainers import SortedList\n",
    "def NumbersWithinRange(items, lower, upper):\n",
    "    start = items.bisect(lower)\n",
    "    end = items.bisect_right(upper)\n",
    "    return items[start:end]\n",
    "data = SortedList(time_test_series.values)\n",
    "%timeit subset = NumbersWithinRange(data, 0.25, 0.75)\n",
    "\n"
   ]
  },
  {
   "cell_type": "markdown",
   "metadata": {},
   "source": [
    "The conclusion is that for the sample sizes used, it is never worth it to sort the list, not even with large batch sizes. A very interesting find however is that numpy.where is much faster than series.between, by as much as 32 times for the 2D case, and 5 times for the 3d case, and the function is going to be adjusted accordingly"
   ]
  },
  {
   "cell_type": "markdown",
   "metadata": {},
   "source": [
    "To be able to assign the correct position for the element inside of the tensor, the quadrant(2d)/octant(3d) it was created in must be determined. If the element wasn't created in a discernible quadrant in mind, it is still necessary to assign a equivalent one to it to position it inside of the tensor"
   ]
  },
  {
   "cell_type": "code",
   "execution_count": 15,
   "metadata": {},
   "outputs": [],
   "source": [
    "## create function to choose equivalent octant \n",
    "def get_quadrant(sample_df):\n",
    "    ## gets the sample's main octant by returning a 3 component vector that points to that octant. \n",
    "    ## a zero in the last component means that it is a 2d problem and thus it points to a 2d \n",
    "    ## quadrant\n",
    "    \n",
    "    #gets the maximum absolute values\n",
    "    max_x_abs, max_y_abs, max_z_abs = sample_df.loc[:,['x_loc','y_loc','z_loc']].abs().max()\n",
    "    \n",
    "    ## checks if 2d or 3d problem\n",
    "    Is_2D = True\n",
    "    if max_z_abs != 0:\n",
    "        Is_2D = False\n",
    "    ## get index of the maximum absolute values\n",
    "    x_index = np.where(sample_df.loc[:,['x_loc']].abs().values.squeeze() == [max_x_abs])\n",
    "    y_index = np.where(sample_df.loc[:,['y_loc']].abs().values.squeeze() == [max_y_abs])\n",
    "    if not(Is_2D):\n",
    "        z_index = np.where(sample_df.loc[:,['z_loc']].abs().values.squeeze() == [max_z_abs])\n",
    "    else:\n",
    "        z_index = [[0]]\n",
    "        \n",
    "    ## gets the value in that index\n",
    "    values = np.array([sample_df.loc[x_index[0],['x_loc']].values[0][0],\n",
    "                      sample_df.loc[y_index[0],['y_loc']].values[0][0],\n",
    "                      sample_df.loc[z_index[0],['z_loc']].values[0][0]])\n",
    "    \n",
    "    ## create array with information about the octant via a vector\n",
    "    octant = np.zeros(3)\n",
    "    octant[0:2] =  values[0:2]/abs(values[0:2])\n",
    "    if not(Is_2D):\n",
    "        octant[2] = values[2]/abs(values[2])\n",
    "    \n",
    "    return octant"
   ]
  },
  {
   "cell_type": "code",
   "execution_count": 16,
   "metadata": {},
   "outputs": [
    {
     "data": {
      "text/plain": [
       "array([1., 1., 0.])"
      ]
     },
     "execution_count": 16,
     "metadata": {},
     "output_type": "execute_result"
    }
   ],
   "source": [
    "get_quadrant(raw_input_data)"
   ]
  },
  {
   "cell_type": "markdown",
   "metadata": {},
   "source": [
    "Knowing in which octant the element was created in, it can be translated to the correct position. The idea is that, depending on the octant, the element was created in, it is going to be 'pressed against' a certain corner of the tensor. It is going to be translated to touch the \"edges\" of the tensor that correnspond to the planes it would be closest on the coordinate axis system it was created. So if it was created on the $(-x,-y,z)$ octant, for instance, it would be pressed the bottom, right, front corner of the cube shaped tensor. Illustratively, for some of the octants:\n",
    "$$\n",
    "(x,  y  ,z) \\rightarrow (left, back, bottom) : stays \\space in \\space place\n",
    "$$\n",
    "$$\n",
    "(-x, y, -z) \\rightarrow (right, back, top) : moves \\space right \\space and\\space up\n",
    "$$\n",
    "$$\n",
    "(x,  y, -z) \\rightarrow (left, back, top) : moves\\space up\n",
    "$$"
   ]
  },
  {
   "cell_type": "code",
   "execution_count": 244,
   "metadata": {},
   "outputs": [],
   "source": [
    "## create function to translate the dataframe\n",
    "def  translate_df(sample_df, max_dimensions):\n",
    "    ## gets a dataframe and translates the values to the correct position to place in the tensor\n",
    "    \n",
    "    octant = get_quadrant(sample_df)\n",
    "    \n",
    "    df_temp = sample_df.copy()\n",
    "    largest_dim = max(*max_dimensions)\n",
    "    \n",
    "    ## general translation: translates according to the overall octant\n",
    "    for i, direction in enumerate(octant):\n",
    "        direction_is_negative = direction < 0\n",
    "        if direction_is_negative:\n",
    "            if i == 0:\n",
    "                df_temp.loc[:,['x_loc']] = df_temp.loc[:,['x_loc']] + largest_dim - df_temp.loc[:,['x_loc']].max().item()\n",
    "            if i == 1:\n",
    "                df_temp.loc[:,['y_loc']] = df_temp.loc[:,['y_loc']] + largest_dim - df_temp.loc[:,['y_loc']].max().item()\n",
    "            if i == 2:\n",
    "                df_temp.loc[:,['z_loc']] = df_temp.loc[:,['z_loc']] + largest_dim - df_temp.loc[:,['z_loc']].max().item()\n",
    "        \n",
    "        ## minor translation: if some parts of the element are still \"sticking out\"\n",
    "        ## after the general translation, move it just enough to ensure that it fits inside\n",
    "        if not(direction_is_negative):\n",
    "            min_val = df_temp.loc[:,['x_loc','y_loc', 'z_loc']].iloc[:, i].min()\n",
    "            if min_val < 0.0:\n",
    "                if i == 0:\n",
    "                    df_temp.loc[:,['x_loc']] = df_temp.loc[:,['x_loc']] + abs(min_val)\n",
    "                if i == 1:\n",
    "                    df_temp.loc[:,['y_loc']] = df_temp.loc[:,['y_loc']] + abs(min_val)\n",
    "                if i == 2:\n",
    "                    df_temp.loc[:,['z_loc']] = df_temp.loc[:,['z_loc']] + abs(min_val)\n",
    "    \n",
    "    return df_temp\n",
    "    "
   ]
  },
  {
   "cell_type": "code",
   "execution_count": 245,
   "metadata": {},
   "outputs": [
    {
     "name": "stdout",
     "output_type": "stream",
     "text": [
      "5 -1.0 1.0 0.0 147.057785998219 166.069570297962 0.0\n",
      "8 -1.0 -1.0 0.0 165.698447240186 180.861165769649 0.0\n",
      "10 1.0 -1.0 0.0 152.792507663102 149.394579407457 0.0\n",
      "15 -1.0 -1.0 0.0 138.97977625039 156.61245154979798 0.0\n",
      "20 1.0 -1.0 0.0 91.1172765751173 187.122590501032 0.0\n",
      "21 -1.0 -1.0 0.0 138.145651166089 126.12108402020701 0.0\n",
      "23 -1.0 -1.0 0.0 163.900071094067 133.07615813741998 0.0\n",
      "31 1.0 -1.0 0.0 105.407586881892 59.9006837464504 0.0\n",
      "36 -1.0 1.0 0.0 160.540277786926 170.186700495539 0.0\n",
      "38 -1.0 1.0 0.0 234.138251395289 226.32566627417003 0.0\n",
      "41 -1.0 -1.0 0.0 62.000345022583296 166.981790863262 0.0\n",
      "46 1.0 -1.0 0.0 74.7446597298995 145.147086650578 0.0\n",
      "50 -1.0 1.0 0.0 84.83573227097429 58.385501816370706 0.0\n",
      "57 -1.0 -1.0 0.0 125.00876677717599 46.33362350697951 0.0\n",
      "59 -1.0 -1.0 0.0 195.693407955974 184.73811030351501 0.0\n",
      "77 -1.0 1.0 0.0 116.038541978898 149.608142012566 0.0\n",
      "78 -1.0 -1.0 0.0 210.29009486446603 159.92444563545 0.0\n",
      "79 1.0 -1.0 0.0 206.21058150825002 144.815955238538 0.0\n",
      "83 -1.0 -1.0 0.0 103.35230101666201 275.69397493229803 0.0\n",
      "88 -1.0 -1.0 0.0 197.799634358471 169.72604305195802 0.0\n",
      "89 1.0 -1.0 0.0 66.48105649413411 56.56666330489721 0.0\n",
      "90 -1.0 -1.0 0.0 151.20249396231898 129.58803940489202 0.0\n",
      "91 -1.0 1.0 0.0 145.313205302229 73.2081787169615 0.0\n",
      "92 -1.0 1.0 0.0 55.4039325717418 95.14141428113821 0.0\n",
      "94 -1.0 1.0 0.0 132.130914858501 104.46715758555099 0.0\n",
      "98 1.0 -1.0 0.0 168.611360638306 116.989817343682 0.0\n",
      "101 1.0 -1.0 0.0 242.87085682452096 48.8122048585366 0.0\n",
      "102 -1.0 1.0 0.0 193.929914639304 105.687558977663 0.0\n",
      "103 -1.0 1.0 0.0 135.582521558594 186.765977738806 0.0\n"
     ]
    }
   ],
   "source": [
    "## find all the samples that are good examples for testing\n",
    "for i in range(1,104):\n",
    "    try:\n",
    "        raw_input_data_octant, _ = scale.get_sample_dfs(data_folder_path, i)\n",
    "        translated_input = translate_df(raw_input_data_octant, max_dims)\n",
    "        force_condition = any(translated_input.loc[:,['x_force','y_force','z_force']].abs().max()!=0)\n",
    "        quadrant_condition = any(get_quadrant(raw_input_data_octant) < 0.0)\n",
    "        if force_condition and quadrant_condition:\n",
    "            print(i, *get_quadrant(raw_input_data_octant), *translated_input.loc[:,['x_force','y_force','z_force']].abs().max())\n",
    "    except UnboundLocalError:\n",
    "        pass"
   ]
  },
  {
   "cell_type": "code",
   "execution_count": 246,
   "metadata": {},
   "outputs": [
    {
     "data": {
      "text/html": [
       "<div>\n",
       "<style scoped>\n",
       "    .dataframe tbody tr th:only-of-type {\n",
       "        vertical-align: middle;\n",
       "    }\n",
       "\n",
       "    .dataframe tbody tr th {\n",
       "        vertical-align: top;\n",
       "    }\n",
       "\n",
       "    .dataframe thead th {\n",
       "        text-align: right;\n",
       "    }\n",
       "</style>\n",
       "<table border=\"1\" class=\"dataframe\">\n",
       "  <thead>\n",
       "    <tr style=\"text-align: right;\">\n",
       "      <th></th>\n",
       "      <th>node_number</th>\n",
       "      <th>named_selection</th>\n",
       "      <th>x_loc</th>\n",
       "      <th>y_loc</th>\n",
       "      <th>z_loc</th>\n",
       "      <th>x_disp</th>\n",
       "      <th>y_disp</th>\n",
       "      <th>z_disp</th>\n",
       "      <th>x_force</th>\n",
       "      <th>y_force</th>\n",
       "      <th>z_force</th>\n",
       "    </tr>\n",
       "  </thead>\n",
       "  <tbody>\n",
       "    <tr>\n",
       "      <th>0</th>\n",
       "      <td>1</td>\n",
       "      <td>8</td>\n",
       "      <td>0.095612</td>\n",
       "      <td>0.94477</td>\n",
       "      <td>0.0</td>\n",
       "      <td>0.001270</td>\n",
       "      <td>-0.001291</td>\n",
       "      <td>0.0</td>\n",
       "      <td>0.000000</td>\n",
       "      <td>0.000000</td>\n",
       "      <td>0.0</td>\n",
       "    </tr>\n",
       "    <tr>\n",
       "      <th>1</th>\n",
       "      <td>2</td>\n",
       "      <td>-1</td>\n",
       "      <td>0.000000</td>\n",
       "      <td>0.00000</td>\n",
       "      <td>0.0</td>\n",
       "      <td>0.000000</td>\n",
       "      <td>0.000000</td>\n",
       "      <td>0.0</td>\n",
       "      <td>0.000000</td>\n",
       "      <td>0.000000</td>\n",
       "      <td>0.0</td>\n",
       "    </tr>\n",
       "    <tr>\n",
       "      <th>2</th>\n",
       "      <td>3</td>\n",
       "      <td>11</td>\n",
       "      <td>0.090569</td>\n",
       "      <td>0.89495</td>\n",
       "      <td>0.0</td>\n",
       "      <td>-0.000116</td>\n",
       "      <td>-0.000800</td>\n",
       "      <td>0.0</td>\n",
       "      <td>-132.130915</td>\n",
       "      <td>22.302487</td>\n",
       "      <td>0.0</td>\n",
       "    </tr>\n",
       "    <tr>\n",
       "      <th>3</th>\n",
       "      <td>4</td>\n",
       "      <td>2</td>\n",
       "      <td>0.085527</td>\n",
       "      <td>0.84512</td>\n",
       "      <td>0.0</td>\n",
       "      <td>0.000461</td>\n",
       "      <td>-0.001007</td>\n",
       "      <td>0.0</td>\n",
       "      <td>0.000000</td>\n",
       "      <td>0.000000</td>\n",
       "      <td>0.0</td>\n",
       "    </tr>\n",
       "    <tr>\n",
       "      <th>4</th>\n",
       "      <td>5</td>\n",
       "      <td>7</td>\n",
       "      <td>0.080485</td>\n",
       "      <td>0.79530</td>\n",
       "      <td>0.0</td>\n",
       "      <td>0.000514</td>\n",
       "      <td>0.000104</td>\n",
       "      <td>0.0</td>\n",
       "      <td>0.000000</td>\n",
       "      <td>0.000000</td>\n",
       "      <td>0.0</td>\n",
       "    </tr>\n",
       "    <tr>\n",
       "      <th>...</th>\n",
       "      <td>...</td>\n",
       "      <td>...</td>\n",
       "      <td>...</td>\n",
       "      <td>...</td>\n",
       "      <td>...</td>\n",
       "      <td>...</td>\n",
       "      <td>...</td>\n",
       "      <td>...</td>\n",
       "      <td>...</td>\n",
       "      <td>...</td>\n",
       "      <td>...</td>\n",
       "    </tr>\n",
       "    <tr>\n",
       "      <th>468</th>\n",
       "      <td>469</td>\n",
       "      <td>-1</td>\n",
       "      <td>-0.463790</td>\n",
       "      <td>0.72049</td>\n",
       "      <td>0.0</td>\n",
       "      <td>0.000000</td>\n",
       "      <td>0.000000</td>\n",
       "      <td>0.0</td>\n",
       "      <td>0.000000</td>\n",
       "      <td>0.000000</td>\n",
       "      <td>0.0</td>\n",
       "    </tr>\n",
       "    <tr>\n",
       "      <th>469</th>\n",
       "      <td>470</td>\n",
       "      <td>-1</td>\n",
       "      <td>-0.568260</td>\n",
       "      <td>0.72427</td>\n",
       "      <td>0.0</td>\n",
       "      <td>0.000000</td>\n",
       "      <td>0.000000</td>\n",
       "      <td>0.0</td>\n",
       "      <td>0.000000</td>\n",
       "      <td>0.000000</td>\n",
       "      <td>0.0</td>\n",
       "    </tr>\n",
       "    <tr>\n",
       "      <th>470</th>\n",
       "      <td>471</td>\n",
       "      <td>5</td>\n",
       "      <td>-0.177440</td>\n",
       "      <td>0.35252</td>\n",
       "      <td>0.0</td>\n",
       "      <td>0.001127</td>\n",
       "      <td>-0.000002</td>\n",
       "      <td>0.0</td>\n",
       "      <td>0.000000</td>\n",
       "      <td>0.000000</td>\n",
       "      <td>0.0</td>\n",
       "    </tr>\n",
       "    <tr>\n",
       "      <th>471</th>\n",
       "      <td>472</td>\n",
       "      <td>6</td>\n",
       "      <td>-0.046424</td>\n",
       "      <td>0.74267</td>\n",
       "      <td>0.0</td>\n",
       "      <td>-0.000681</td>\n",
       "      <td>0.001816</td>\n",
       "      <td>0.0</td>\n",
       "      <td>0.000000</td>\n",
       "      <td>0.000000</td>\n",
       "      <td>0.0</td>\n",
       "    </tr>\n",
       "    <tr>\n",
       "      <th>472</th>\n",
       "      <td>473</td>\n",
       "      <td>9</td>\n",
       "      <td>-0.064446</td>\n",
       "      <td>0.76512</td>\n",
       "      <td>0.0</td>\n",
       "      <td>-0.001382</td>\n",
       "      <td>-0.000474</td>\n",
       "      <td>0.0</td>\n",
       "      <td>0.000000</td>\n",
       "      <td>0.000000</td>\n",
       "      <td>0.0</td>\n",
       "    </tr>\n",
       "  </tbody>\n",
       "</table>\n",
       "<p>473 rows × 11 columns</p>\n",
       "</div>"
      ],
      "text/plain": [
       "     node_number  named_selection     x_loc    y_loc  z_loc    x_disp  \\\n",
       "0              1                8  0.095612  0.94477    0.0  0.001270   \n",
       "1              2               -1  0.000000  0.00000    0.0  0.000000   \n",
       "2              3               11  0.090569  0.89495    0.0 -0.000116   \n",
       "3              4                2  0.085527  0.84512    0.0  0.000461   \n",
       "4              5                7  0.080485  0.79530    0.0  0.000514   \n",
       "..           ...              ...       ...      ...    ...       ...   \n",
       "468          469               -1 -0.463790  0.72049    0.0  0.000000   \n",
       "469          470               -1 -0.568260  0.72427    0.0  0.000000   \n",
       "470          471                5 -0.177440  0.35252    0.0  0.001127   \n",
       "471          472                6 -0.046424  0.74267    0.0 -0.000681   \n",
       "472          473                9 -0.064446  0.76512    0.0 -0.001382   \n",
       "\n",
       "       y_disp  z_disp     x_force    y_force  z_force  \n",
       "0   -0.001291     0.0    0.000000   0.000000      0.0  \n",
       "1    0.000000     0.0    0.000000   0.000000      0.0  \n",
       "2   -0.000800     0.0 -132.130915  22.302487      0.0  \n",
       "3   -0.001007     0.0    0.000000   0.000000      0.0  \n",
       "4    0.000104     0.0    0.000000   0.000000      0.0  \n",
       "..        ...     ...         ...        ...      ...  \n",
       "468  0.000000     0.0    0.000000   0.000000      0.0  \n",
       "469  0.000000     0.0    0.000000   0.000000      0.0  \n",
       "470 -0.000002     0.0    0.000000   0.000000      0.0  \n",
       "471  0.001816     0.0    0.000000   0.000000      0.0  \n",
       "472 -0.000474     0.0    0.000000   0.000000      0.0  \n",
       "\n",
       "[473 rows x 11 columns]"
      ]
     },
     "execution_count": 246,
     "metadata": {},
     "output_type": "execute_result"
    }
   ],
   "source": [
    "raw_input_data_octant, _ = scale.get_sample_dfs(data_folder_path, 94)\n",
    "raw_input_data_octant"
   ]
  },
  {
   "cell_type": "code",
   "execution_count": 247,
   "metadata": {},
   "outputs": [
    {
     "name": "stdout",
     "output_type": "stream",
     "text": [
      "[-1.  1.  0.]\n",
      "x_force    132.130915\n",
      "y_force    104.467158\n",
      "z_force      0.000000\n",
      "dtype: float64\n"
     ]
    },
    {
     "data": {
      "text/html": [
       "<div>\n",
       "<style scoped>\n",
       "    .dataframe tbody tr th:only-of-type {\n",
       "        vertical-align: middle;\n",
       "    }\n",
       "\n",
       "    .dataframe tbody tr th {\n",
       "        vertical-align: top;\n",
       "    }\n",
       "\n",
       "    .dataframe thead th {\n",
       "        text-align: right;\n",
       "    }\n",
       "</style>\n",
       "<table border=\"1\" class=\"dataframe\">\n",
       "  <thead>\n",
       "    <tr style=\"text-align: right;\">\n",
       "      <th></th>\n",
       "      <th>node_number</th>\n",
       "      <th>named_selection</th>\n",
       "      <th>x_loc</th>\n",
       "      <th>y_loc</th>\n",
       "      <th>z_loc</th>\n",
       "      <th>x_disp</th>\n",
       "      <th>y_disp</th>\n",
       "      <th>z_disp</th>\n",
       "      <th>x_force</th>\n",
       "      <th>y_force</th>\n",
       "      <th>z_force</th>\n",
       "    </tr>\n",
       "  </thead>\n",
       "  <tbody>\n",
       "    <tr>\n",
       "      <th>0</th>\n",
       "      <td>1</td>\n",
       "      <td>8</td>\n",
       "      <td>1.728600</td>\n",
       "      <td>0.94477</td>\n",
       "      <td>0.0</td>\n",
       "      <td>0.001270</td>\n",
       "      <td>-0.001291</td>\n",
       "      <td>0.0</td>\n",
       "      <td>0.000000</td>\n",
       "      <td>0.000000</td>\n",
       "      <td>0.0</td>\n",
       "    </tr>\n",
       "    <tr>\n",
       "      <th>1</th>\n",
       "      <td>2</td>\n",
       "      <td>-1</td>\n",
       "      <td>1.632988</td>\n",
       "      <td>0.00000</td>\n",
       "      <td>0.0</td>\n",
       "      <td>0.000000</td>\n",
       "      <td>0.000000</td>\n",
       "      <td>0.0</td>\n",
       "      <td>0.000000</td>\n",
       "      <td>0.000000</td>\n",
       "      <td>0.0</td>\n",
       "    </tr>\n",
       "    <tr>\n",
       "      <th>2</th>\n",
       "      <td>3</td>\n",
       "      <td>11</td>\n",
       "      <td>1.723557</td>\n",
       "      <td>0.89495</td>\n",
       "      <td>0.0</td>\n",
       "      <td>-0.000116</td>\n",
       "      <td>-0.000800</td>\n",
       "      <td>0.0</td>\n",
       "      <td>-132.130915</td>\n",
       "      <td>22.302487</td>\n",
       "      <td>0.0</td>\n",
       "    </tr>\n",
       "    <tr>\n",
       "      <th>3</th>\n",
       "      <td>4</td>\n",
       "      <td>2</td>\n",
       "      <td>1.718515</td>\n",
       "      <td>0.84512</td>\n",
       "      <td>0.0</td>\n",
       "      <td>0.000461</td>\n",
       "      <td>-0.001007</td>\n",
       "      <td>0.0</td>\n",
       "      <td>0.000000</td>\n",
       "      <td>0.000000</td>\n",
       "      <td>0.0</td>\n",
       "    </tr>\n",
       "    <tr>\n",
       "      <th>4</th>\n",
       "      <td>5</td>\n",
       "      <td>7</td>\n",
       "      <td>1.713473</td>\n",
       "      <td>0.79530</td>\n",
       "      <td>0.0</td>\n",
       "      <td>0.000514</td>\n",
       "      <td>0.000104</td>\n",
       "      <td>0.0</td>\n",
       "      <td>0.000000</td>\n",
       "      <td>0.000000</td>\n",
       "      <td>0.0</td>\n",
       "    </tr>\n",
       "    <tr>\n",
       "      <th>...</th>\n",
       "      <td>...</td>\n",
       "      <td>...</td>\n",
       "      <td>...</td>\n",
       "      <td>...</td>\n",
       "      <td>...</td>\n",
       "      <td>...</td>\n",
       "      <td>...</td>\n",
       "      <td>...</td>\n",
       "      <td>...</td>\n",
       "      <td>...</td>\n",
       "      <td>...</td>\n",
       "    </tr>\n",
       "    <tr>\n",
       "      <th>468</th>\n",
       "      <td>469</td>\n",
       "      <td>-1</td>\n",
       "      <td>1.169198</td>\n",
       "      <td>0.72049</td>\n",
       "      <td>0.0</td>\n",
       "      <td>0.000000</td>\n",
       "      <td>0.000000</td>\n",
       "      <td>0.0</td>\n",
       "      <td>0.000000</td>\n",
       "      <td>0.000000</td>\n",
       "      <td>0.0</td>\n",
       "    </tr>\n",
       "    <tr>\n",
       "      <th>469</th>\n",
       "      <td>470</td>\n",
       "      <td>-1</td>\n",
       "      <td>1.064728</td>\n",
       "      <td>0.72427</td>\n",
       "      <td>0.0</td>\n",
       "      <td>0.000000</td>\n",
       "      <td>0.000000</td>\n",
       "      <td>0.0</td>\n",
       "      <td>0.000000</td>\n",
       "      <td>0.000000</td>\n",
       "      <td>0.0</td>\n",
       "    </tr>\n",
       "    <tr>\n",
       "      <th>470</th>\n",
       "      <td>471</td>\n",
       "      <td>5</td>\n",
       "      <td>1.455548</td>\n",
       "      <td>0.35252</td>\n",
       "      <td>0.0</td>\n",
       "      <td>0.001127</td>\n",
       "      <td>-0.000002</td>\n",
       "      <td>0.0</td>\n",
       "      <td>0.000000</td>\n",
       "      <td>0.000000</td>\n",
       "      <td>0.0</td>\n",
       "    </tr>\n",
       "    <tr>\n",
       "      <th>471</th>\n",
       "      <td>472</td>\n",
       "      <td>6</td>\n",
       "      <td>1.586564</td>\n",
       "      <td>0.74267</td>\n",
       "      <td>0.0</td>\n",
       "      <td>-0.000681</td>\n",
       "      <td>0.001816</td>\n",
       "      <td>0.0</td>\n",
       "      <td>0.000000</td>\n",
       "      <td>0.000000</td>\n",
       "      <td>0.0</td>\n",
       "    </tr>\n",
       "    <tr>\n",
       "      <th>472</th>\n",
       "      <td>473</td>\n",
       "      <td>9</td>\n",
       "      <td>1.568542</td>\n",
       "      <td>0.76512</td>\n",
       "      <td>0.0</td>\n",
       "      <td>-0.001382</td>\n",
       "      <td>-0.000474</td>\n",
       "      <td>0.0</td>\n",
       "      <td>0.000000</td>\n",
       "      <td>0.000000</td>\n",
       "      <td>0.0</td>\n",
       "    </tr>\n",
       "  </tbody>\n",
       "</table>\n",
       "<p>473 rows × 11 columns</p>\n",
       "</div>"
      ],
      "text/plain": [
       "     node_number  named_selection     x_loc    y_loc  z_loc    x_disp  \\\n",
       "0              1                8  1.728600  0.94477    0.0  0.001270   \n",
       "1              2               -1  1.632988  0.00000    0.0  0.000000   \n",
       "2              3               11  1.723557  0.89495    0.0 -0.000116   \n",
       "3              4                2  1.718515  0.84512    0.0  0.000461   \n",
       "4              5                7  1.713473  0.79530    0.0  0.000514   \n",
       "..           ...              ...       ...      ...    ...       ...   \n",
       "468          469               -1  1.169198  0.72049    0.0  0.000000   \n",
       "469          470               -1  1.064728  0.72427    0.0  0.000000   \n",
       "470          471                5  1.455548  0.35252    0.0  0.001127   \n",
       "471          472                6  1.586564  0.74267    0.0 -0.000681   \n",
       "472          473                9  1.568542  0.76512    0.0 -0.001382   \n",
       "\n",
       "       y_disp  z_disp     x_force    y_force  z_force  \n",
       "0   -0.001291     0.0    0.000000   0.000000      0.0  \n",
       "1    0.000000     0.0    0.000000   0.000000      0.0  \n",
       "2   -0.000800     0.0 -132.130915  22.302487      0.0  \n",
       "3   -0.001007     0.0    0.000000   0.000000      0.0  \n",
       "4    0.000104     0.0    0.000000   0.000000      0.0  \n",
       "..        ...     ...         ...        ...      ...  \n",
       "468  0.000000     0.0    0.000000   0.000000      0.0  \n",
       "469  0.000000     0.0    0.000000   0.000000      0.0  \n",
       "470 -0.000002     0.0    0.000000   0.000000      0.0  \n",
       "471  0.001816     0.0    0.000000   0.000000      0.0  \n",
       "472 -0.000474     0.0    0.000000   0.000000      0.0  \n",
       "\n",
       "[473 rows x 11 columns]"
      ]
     },
     "execution_count": 247,
     "metadata": {},
     "output_type": "execute_result"
    }
   ],
   "source": [
    "## choose a dataset in a different octant for testing of next part\n",
    "raw_input_data_octant, _ = scale.get_sample_dfs(data_folder_path, 94)\n",
    "print(get_quadrant(raw_input_data_octant))\n",
    "translated_input = translate_df(raw_input_data_octant, max_dims)\n",
    "print(translated_input.loc[:,['x_force','y_force','z_force']].abs().max())\n",
    "translated_input"
   ]
  },
  {
   "cell_type": "code",
   "execution_count": null,
   "metadata": {},
   "outputs": [],
   "source": []
  },
  {
   "cell_type": "markdown",
   "metadata": {},
   "source": [
    "Now,  having translated the element into the part of the space we need for the tensor, we need to perform the data collection into the features of the tensor"
   ]
  },
  {
   "cell_type": "code",
   "execution_count": 248,
   "metadata": {},
   "outputs": [],
   "source": [
    "## Create a function that creates a hard map of where the element is\n",
    "def get_material_map_hard(translated_sample_df, element_size, dimensionality=2):\n",
    "    ## gets the sample df and returns a tensor with 1 where nodes are found,\n",
    "    ## and 0 where no nodes are found\n",
    "    \n",
    "    ##Initialize an array for this feature\n",
    "    array = create_array(dimensionality, features=1, resolution = 32)\n",
    "\n",
    "    arr_iterator = np.nditer(array, flags=['multi_index'])\n",
    "    for location in arr_iterator:\n",
    "\n",
    "        if dimensionality == 2:\n",
    "            x = arr_iterator.multi_index[0]\n",
    "            y = arr_iterator.multi_index[1]\n",
    "            z=0\n",
    "            feature = arr_iterator.multi_index[2]\n",
    "        else:\n",
    "            raise Exception('3d not implemented yet')\n",
    "        \n",
    "        if get_dataframe_indices(element_size, translated_sample_df, x, y, z).size > 0: ## empty list returns False\n",
    "            array[x,y,z] = 1.\n",
    "    return array"
   ]
  },
  {
   "cell_type": "code",
   "execution_count": null,
   "metadata": {},
   "outputs": [],
   "source": []
  },
  {
   "cell_type": "code",
   "execution_count": 249,
   "metadata": {
    "scrolled": true
   },
   "outputs": [
    {
     "name": "stdout",
     "output_type": "stream",
     "text": [
      "0.029919147491455078\n"
     ]
    }
   ],
   "source": [
    "tic = time.time()\n",
    "get_material_map_hard(translated_input, element_size, dimensionality=2)\n",
    "toc = time.time()\n",
    "print(toc-tic)"
   ]
  },
  {
   "cell_type": "code",
   "execution_count": 250,
   "metadata": {},
   "outputs": [
    {
     "name": "stdout",
     "output_type": "stream",
     "text": [
      "1.0 3\n",
      "1.0\n"
     ]
    },
    {
     "data": {
      "text/html": [
       "<img src=\"data:image/png;base64,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\" alt=\"PNG image\"></img>"
      ],
      "text/plain": [
       "<IPython.core.display.HTML object>"
      ]
     },
     "metadata": {},
     "output_type": "display_data"
    }
   ],
   "source": [
    "hard_map_array = get_material_map_hard(translated_input, element_size, dimensionality=2)\n",
    "\n",
    "## Create function to plot the tensor\n",
    "def plot_2d(sample_array, contour = False, clear = True, edges = np.array([])):\n",
    "    if clear:\n",
    "        mlab.clf()\n",
    "    #print(sample_array)\n",
    "    m = np.max(np.abs(sample_array))\n",
    "    print(m, len(sample_array.shape))\n",
    "    s = np.abs(sample_array)\n",
    "    mlab.figure(figure=None, bgcolor=(0.99,0.99,0.99), fgcolor=None, engine=None, size=(400, 350))\n",
    "    \n",
    "    if len(sample_array.shape)==3:\n",
    "        \n",
    "        sample_array = np.concatenate((sample_array, sample_array), axis=2)\n",
    "        \n",
    "    sample_array = np.abs(sample_array)\n",
    "\n",
    "    try:\n",
    "        sample_array = sample_array/m\n",
    "    except: ## if m is zero\n",
    "        pass\n",
    "    n = np.max(np.abs(sample_array))\n",
    "    print(n)\n",
    "\n",
    "    sample_array[0,:,:] += 1.2\n",
    "    sample_array[:,0,:] += 1.2\n",
    "    sample_array[-1,:,:] += 1.2\n",
    "    sample_array[:,-1,:] += 1.2\n",
    "    \n",
    "    if edges.size > 0:\n",
    "        sample_array = sample_array + 0.25*edges\n",
    "        \n",
    "    volume = mlab.pipeline.volume(mlab.pipeline.scalar_field(sample_array), vmin=0.2, vmax=0.8)\n",
    "    if contour:\n",
    "        mlab.contour3d(s)\n",
    "    \n",
    "        \n",
    "    return volume\n",
    "plot_2d(hard_map_array)"
   ]
  },
  {
   "cell_type": "markdown",
   "metadata": {},
   "source": [
    "In the image above, the shaded part represents the points where nodes were detected. The colourful edge is a contour of 'same value' surfaces, which is used to demonstrate where there is sharp transition in values. As can be seen,  it works roughly as expected, however the edges are jagged and some spots in the center where the nodes are very far apart, the tensor actually sees no nodes and receive a zero value. To correct this, it can be filtered with a convolutional kernel to create an average value for every point, smoothing out the edges and filling the internal elements that are empty.\n",
    "\n",
    "Note: the top left of the image shows no \"gradient\" because it is on the very edge of the tensor"
   ]
  },
  {
   "cell_type": "code",
   "execution_count": 251,
   "metadata": {},
   "outputs": [],
   "source": [
    "## create a function that creates a fuzzy map of where the element is\n",
    "def interpolate_array_spatially_2D(sample_array):\n",
    "    ## use gaussian blur kernel to smooth out the tensor\n",
    "    \n",
    "    ## define kernel\n",
    "    kernel_blur = 1/256*torch.Tensor([[1, 4, 6, 4, 1],\n",
    "                                [4, 16, 24, 16, 4],\n",
    "                                [6, 24, 36, 24, 6],\n",
    "                                [4, 16, 24, 16, 4],\n",
    "                                [1, 4, 6, 4, 1]])\n",
    "    \n",
    "    ## add redundant batch_size and _feature dimensions because of torch requirements\n",
    "    kernel_blur = kernel_blur.view([1,1,5,5])\n",
    "    \n",
    "    ## convert\n",
    "    tensor = torch.from_numpy(sample_array)\n",
    "    \n",
    "    ## convolve filter and tensor\n",
    "    smoothed_array = F.conv2d(input = tensor.view([1,1,32,32]), weight = kernel_blur.double(), stride = 1, padding=2)   \n",
    "    \n",
    "    ## return it as a correctly shaped numpy arra\n",
    "    return smoothed_array.view([32,32,1]).numpy()"
   ]
  },
  {
   "cell_type": "code",
   "execution_count": 252,
   "metadata": {},
   "outputs": [],
   "source": [
    "## create a function that runs any other arbitrary kernel\n",
    "def convolve_with_kernel(sample_array, kernel_name='edge_detection'):\n",
    "    ## use kernel on sample\n",
    "    \n",
    "    ## define kernel\n",
    "    \n",
    "    if kernel_name == 'edge_detection':\n",
    "        kernel = torch.Tensor([[-1,-1,-1],\n",
    "                              [-1,8,-1],\n",
    "                              [-1,-1,-1]])\n",
    "    \n",
    "    ## add redundant batch_size and _feature dimensions because of torch requirements\n",
    "    kernel = kernel.view([1,1,3,3])\n",
    "    \n",
    "    ## convert\n",
    "    tensor = torch.from_numpy(sample_array)\n",
    "    \n",
    "    ## convolve filter and tensor\n",
    "    convolved_array = F.conv2d(input = tensor.view([1,1,32,32]), weight = kernel.double(), stride = 1, padding=1)   \n",
    "    \n",
    "    ## return it as a correctly shaped numpy array\n",
    "    return convolved_array.view([32,32,1]).numpy()\n",
    "                               "
   ]
  },
  {
   "cell_type": "code",
   "execution_count": 253,
   "metadata": {},
   "outputs": [
    {
     "name": "stdout",
     "output_type": "stream",
     "text": [
      "1.0 3\n",
      "1.0\n"
     ]
    },
    {
     "data": {
      "text/html": [
       "<img src=\"data:image/png;base64,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\" alt=\"PNG image\"></img>"
      ],
      "text/plain": [
       "<IPython.core.display.HTML object>"
      ]
     },
     "metadata": {},
     "output_type": "display_data"
    }
   ],
   "source": [
    "#tic = time.time()\n",
    "smoothed_map_array = interpolate_array_spatially_2D(hard_map_array)\n",
    "#print(time.time()-tic)\n",
    "plot_2d(smoothed_map_array)"
   ]
  },
  {
   "cell_type": "code",
   "execution_count": 254,
   "metadata": {},
   "outputs": [
    {
     "name": "stdout",
     "output_type": "stream",
     "text": [
      "8.0 3\n",
      "1.0\n"
     ]
    },
    {
     "data": {
      "text/html": [
       "<img src=\"data:image/png;base64,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\" alt=\"PNG image\"></img>"
      ],
      "text/plain": [
       "<IPython.core.display.HTML object>"
      ]
     },
     "metadata": {},
     "output_type": "display_data"
    }
   ],
   "source": [
    "plot_2d(convolve_with_kernel(hard_map_array))"
   ]
  },
  {
   "cell_type": "markdown",
   "metadata": {},
   "source": [
    "The other features depend on the type of feature they are. Specifically, displacements have a value that vary spacially according to a shape function which in theory can be specified, however for the sake of simplicity and performance, they are going to be interpolated linearly. Forces on the element, on the other hand, are vector sums of the nodal forces."
   ]
  },
  {
   "cell_type": "code",
   "execution_count": 255,
   "metadata": {},
   "outputs": [
    {
     "name": "stdout",
     "output_type": "stream",
     "text": [
      "1.0920274257659912\n"
     ]
    }
   ],
   "source": [
    "## create a function that gets a sample dataframe and transforms it into an array\n",
    "\n",
    "def get_input_map(translated_sample_df, element_size, hard_map, dimensionality=2):\n",
    "    ## takes a dataframe and returns the displacements and forces in every element of the tensor\n",
    "\n",
    "    ##Initialize an array for this feature\n",
    "    array = create_array(dimensionality, features=6, resolution = 32)\n",
    "    #print(array.shape)\n",
    "\n",
    "    \n",
    "    ## Create iterator for the array\n",
    "    arr_iterator = np.nditer(array, flags=['multi_index'])\n",
    "    \n",
    "    ## create 2d array\n",
    "    hard_map_matrix = hard_map[:,:,0]\n",
    "    \n",
    "    ## iterates through every  element of array\n",
    "    update = False\n",
    "    for location in arr_iterator:\n",
    "        if dimensionality == 2:\n",
    "            x = arr_iterator.multi_index[0]\n",
    "            y = arr_iterator.multi_index[1]\n",
    "            z=0\n",
    "            feature = arr_iterator.multi_index[2]\n",
    "        else:\n",
    "            raise Exception('3d not implemented yet')\n",
    "        \n",
    "        \n",
    "        if dimensionality == 2 and  hard_map_matrix[x,y] > 0.0: \n",
    "            ## get the indices for this location\n",
    "            indices = get_dataframe_indices(element_size, translated_sample_df, x, y, z)\n",
    "\n",
    "            ## calculates the feature value based on current feature being analyzed\n",
    "            if 0 <= feature < 3: \n",
    "                displacements = translated_sample_df.loc[indices,['x_disp','y_disp','z_disp']].values\n",
    "                if displacements.size > 0:\n",
    "                    feature_value = displacements[:,feature].mean()\n",
    "                    update=True\n",
    "                    \n",
    "            if 3 <= feature < 6: \n",
    "                forces = translated_sample_df.loc[indices,['x_force','y_force','z_force']].values\n",
    "                if forces.size > 0:\n",
    "                    feature_value = forces[:,feature-3].sum()\n",
    "                    update = True\n",
    "                    \n",
    "            if update:\n",
    "                array[x,y,feature] = feature_value\n",
    "                update = False\n",
    "                \n",
    "        elif dimensionality != 2:\n",
    "            raise Exception('3d not implemented yet')    \n",
    "\n",
    "\n",
    "    return array\n",
    "tic = time.time()\n",
    "input_feature_array = get_input_map(warning_df, element_size, hard_map_array, dimensionality=2)\n",
    "print(time.time()-tic)"
   ]
  },
  {
   "cell_type": "markdown",
   "metadata": {},
   "source": [
    "Timing the above function, it seems that the major part of the time loss comes from getting the indices. We'll try to find a way to reduce that, as 8-10 seconds for a sample of this size is too much, since this has to be scaled to take samples as much as 10 times larger. It is obvious that this time comes from the .get_dataframe_indices() function, and thus that is where the improvements have to be made. After changing that function the time was lowered to 2 seconds. This can further be lowered by making sure to only call the get_dataframe_indices function where there is a possibility of there being a piece of material, using the hard map array. By doing that, the necessity to check for the list length is also  remove, which cuts the processing time further to 0.95 seconds approximately. "
   ]
  },
  {
   "cell_type": "code",
   "execution_count": 256,
   "metadata": {},
   "outputs": [
    {
     "name": "stdout",
     "output_type": "stream",
     "text": [
      "(32, 32, 1)\n",
      "0.00138249664993752 3\n",
      "1.0\n"
     ]
    },
    {
     "data": {
      "text/html": [
       "<img src=\"data:image/png;base64,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\" alt=\"PNG image\"></img>"
      ],
      "text/plain": [
       "<IPython.core.display.HTML object>"
      ]
     },
     "metadata": {},
     "output_type": "display_data"
    }
   ],
   "source": [
    "print(input_feature_array[:,:,0:1].shape)\n",
    "edges = convolve_with_kernel(hard_map_array)\n",
    "plot_2d(input_feature_array[:,:,0:1],contour=True, clear=False, edges=edges)"
   ]
  },
  {
   "cell_type": "code",
   "execution_count": 257,
   "metadata": {},
   "outputs": [
    {
     "name": "stdout",
     "output_type": "stream",
     "text": [
      "0.0018157012491464898 3\n",
      "1.0\n"
     ]
    },
    {
     "data": {
      "text/html": [
       "<img src=\"data:image/png;base64,iVBORw0KGgoAAAANSUhEUgAAAZAAAAFeCAIAAAAkP95fAAAgAElEQVR4Xuy9749ky5ae9b5rReydWdWnz722ZwCDP1hYhg9obIkx4LEZI1myjDHWteErEv8g0tV4bMQga/gpQGaEsJHAQjZ8AA1Csucwtyv33hGx1uJD7MzK/nFOn9O3u09ldTxqdd9btTsrO0/lU2ut/UYEW2sYDAaDW0Ded8FgMBg8FYawBoPBzTCENRgMboYhrMFgcDMMYQ0Gg5thCGswGNwMQ1iDweBmGMIaDAY3wxDWYDC4GYawBoPBzTCENRgMboYhrMFgcDMMYQ0Gg5thCGswGNwMQ1iDweBmGMIaDAY3wxDWYDC4GYawBoPBzTCENRgMboYhrMFgcDMMYQ0Gg5thCGswGNwMQ1iDweBmGMIaDAY3wxDWYDC4GYawBoPBzTCENRgMboYhrMFgcDMMYQ0Gg5thCGswGNwMQ1iDweBmGMIaDAY3wxDWYDC4GYawBoPBzTCENRgMboYhrMFgcDMMYQ0Gg5thCGswGNwMQ1iDweBmGMIaDAY3wxDWYDC4GYawBoPBzTCENRgMboYhrMFgcDMMYQ0Gg5thCGswGNwMQ1iDweBmGMIaDAY3wxDWYDC4GYawBoPBzTCENRgMboYhrMFgcDMMYQ0Gg5thCGswGNwMQ1iDweBmGMIaDAY3wxDWYDC4GYawBoPBzTCENRgMboYhrMFgcDMMYQ0Gg5thCGswGNwMQ1iDweBmGMIaDAY3wxDWYDC4GYawBoPBzTCENRgMboYhrMFgcDMMYQ0Gg5thCGswGNwMQ1iDweBmGMIaDAY3wxDWYDC4GYawBoPBzTCENRgMboYhrMFgcDMMYQ0Gg5thCGswGNwMQ1iDweBmGMIaDAY3wxDWYDC4GYawBoPBzTCENRgMboYhrMFgcDMMYQ0Gg5thCGswGNwMQ1iDweBmGMIaDAY3wxDWYDC4GYawBoPBzTCENRgMbob0vgsGgx+ImS8LADkeofq+qweDH8AQ1uDjYebLEg8PsSwA4njk/f3Q1uAjMoQ1+AiEWbx6FesayxKnE0oBEKcTlyWORx4O8uLF0Nbgl2cIa/BLYaW0ZcG64vRAFA8LVtjSP0sPXVZZplhXHA48HjFN3/2Ag8F3MIQ1+ECslLos5eHBt5VelQY4IiQAxH4NwqUlOrfKNfPhgPv7GNoafChDWIMfjJVSX71q69rK2ryaVYnIQpUgSCJEAJAgEIGGcLbEKlb5zcqHQxwO8eLF0Nbgh8LW2vuuGQwAIMx6A9jW1erW2trCDEAwuU0qKZFBQnpYxoGgQ0IIRIiKAOqRQsADdI7DAcdjTNMYbw2+J0NYg/dzUVV9eLC6WVSDB2hmQSKQyUmpd7PMxySJvScMNDTUVcrGCCAUQARVxUOdjAyZ4/5+aGvwPRnCGnwXYVaXxda1LUtrm3l1hLsHQDIAd6fodJinu6PeHzUflJkAwEAYWviKZeG2clvFDCKIIACApDrFM2TG8RiHQ4wMxOA7GcIavJsw693friorFu4ASQDhDpKqMs/peMyHQ0qHlKYkyusHAVq4oSA2bguXRbYNZhEB6Z1iSEQKEc6BaWhr8N0MYQ3e5LWqqiwWzRD9tl/3FABR1cNBD4d0PKZ0SJKTKK9ddf2AQIM7a/jKdeG6cl1h1oXVzcWABsRT6JGHoa3BuxnCGjwSZuXVK1vXtq2tbRbNI0C6WW8ASVJV5zkdj+l4VJ2T5KT6LaZ6jV1bqMDGdcFVtdXNRVV6dG2BM+bzzcShrcGZIawBcM5/dlWZlebViTDvhVVvA6mqh0M6HNLhqGnOOinl26qqbyMAQzQUxobttWoLQK/kKCIWioyYdm2N6NYAwBDW4E1VWTFExC4pAOEuOevhkI9HnQ8frKprurasN4ll5bJgXVlrbw/RZ1uABJQTYsI0tDUAhrC+ZC5JhbatHtXCHBHnmgruAUhK6XjUwyEfjprmJPmXVNU1u7ZQgb3awrJI/4YU6U9F0GdbisjIhxhB+S+bIawvjuv8Zyur+1lVIIDuKQD7oOpw0OmQ0pyoKp9q9zQDGlpgY1u7trhtuxX7Fw1ohIbCM/JhJE6/WIawviDeiKqbFYM54Ob9gt4G6jzvt/+mg+r0SVV1TdcWUGArloXrKtuGPo/vV4hKuLoS0wjKf5kMYX0RXKuqbif3anCPAF7r7mSe8/Goh0OaDipTks+kqmssotEChfZYbeH6iQYUkB6Uz3dDW18UQ1jPnHdF1T3APiHaU6C9AbxUVTIl0Y82qfogHOjaeqPaAhC+F1wCXNb3jMTpF8IQ1rPlDVV5NEfYPlR/5HFWlQ9Jf3xVXeNAgwUK/K1qq1eHASHUKZFHUP5LYAjrGXKtqj1UhUdRuRl6VP08q9I0PzVVXdO15SgSG5YF6yrbFj26dRYTIzR2bY2g/DNmCOtZcR2q6lWVxZs1FUXk3AA+cVVdc9EWfetNIreN4bj653HPQFwF5UcG4nkxhPVMeDuqHoC/Lqt9VU1fA5gPKvkmVHXN3iSywlZuK5ZVyoZm19cISQ9FBkbi9LkxhHXzvKGqfa1y9AnPDkV6A5jPVZVSbktV1zhgdI+C2Pa9a9aN7tfXsAflkUZQ/jkxhHWrXCcV3KpZad6C+7Dq0ghSZC+pDodnoKprHDC4oTA2riv6ssSztvb1jwQ9UiRgguSRgbh1hrBuj2+Nqgd4HZsSuYQVVOek+dmo6hoPGN1ZERvWvr5nlbOvA6A7CQmMoPwzYAjrlnhHVP16AeAZmaa9qpoOKc0qSUk+O1VdE4BFGFtgk3q+mVjK9QUkJUJjBOVvmCGs26AnFbyUtq7WtmbF3HoDePFQROxJhR5V1ylpFuB5q+qa2KfyFSisK9Z1z0BcvQgkGaEhxASZ43DANI0MxK0whPXUeSP/GfTmLQCc0+oACHCaUh9UTQfVKWsSPPOq6tu41hbq2sdbl2rrIi9GJCibjKD8DTGE9XR5I/9pXi38su/Kfk3EJamgef7CVXVNBJxoqGC9VFvctsd9vnqTaKYhghGUvw2GsJ4ifVDltbZ1sVb2s2oiIkJUL8K6nlX1bRXkuc+qfihdW4YWKGivVVt7qWUGUgAJdm3xcIycRwbiaTKE9bS4hKqsFrPS7LyqZv9tF9ZlVtWrqqGq7+ZaW7RtD0D0asusH6vRG0VxaNdWnkZ06wkyhPUkCDM3u85/Ot3Oe+ldbQglcplVDVX9YGiIdtbWY7V1SZz22RagoJi8FpRXHX3iU2AI60emJxWslDdW1VxmVXE+l0Hnec9V5YNI/lE2q3oe7DsFsqLttxGxbTyfDgsApLjv63s47dGtaRoZiB+dIawfjUuoymttpauq7av/RB63VyAfx+rnqPpQ1S+PRRg9UODnoPy2sf+Q6OZyf1zfgwn5EDmP6NaPyxDWj8AbUfWA9aSC99bvfCQyyHQ49HHVDW2rcFtcbwLRd4CIdZWIfbDljsfoVqIr0gjK/5gMYX1WXst/1s2sOMMj4jKo6udckfsOMIeDpvkWt1W4LS6bQNA3vF5t4apVFECNj0H5kTj97AxhfSYuoSorxdrWWvEwZ//hHZdB1aUB7KrKOuv5qL7Bpyb2Y8c2xOvVlvvlTiIC4q4h5ASZMU0juvU5GcL65FznPz2aeW3eIq5aPwAR/fafzHOaD6rTxz0BcPD9OWurAgVl5bbtNxMvzgLoAUSCMjIijcTpZ2MI6xPyePtvWcyKw5pbnLdV6LbaQ1V9rJ7n81rloaofma4tZ4vYWLfeJO7Rrct4q8+2oOrqPG/NPE0juvXpGML6JLwdVTcCiHAE4mIryVM6HnSee1R9qOqpca62Wl+WKL1JvFRbvVXs2nKMoPxnYAjrY3Kd/7xE1QPhwGVWRRG8XlUNVT1xrrXF9nq1dXYWAHF/XN+Tp5E4/RQMYX0c3sh/erTzqhqC+8KaffHHNO0La/IsOqUvYLOq50Gct9y61hZLCYDn/74RkAglJRI89aD8SJx+RIawflley39er6rpN8OJ8Oht4HVVJZLHtgq3SDzuXVPRVm7b/mu/0csIEEFAQDXZg/IjcfqRGML6cN6Oqps3692fB4Tnm4DUw2sNYBIdqrppYt9R/mo1dW8SI0AGQA8KI0I9RlD+IzKE9SF8ywEQ+7qO8Oibpweg09zH6mOt8vPjWluwrQcguG37f11zyON4SyOREzgOwvilGML6YbwRVXeYefO+joYIj70NJNM062Hu+U/RPFT1XHncu4b1jWorAoyAMAKCYERihukIyn8wQ1jfl3dE1S8Z9d79eYCEME2zHOZ0OKQ0y3lVzVDV8yb2DU4bUOEb1w3bym2DR3cWAoggwb6+ZwTlP4ghrPdznf/0aGbV4OdDlbuGAiBVdJ51mtPhIGm6nAA4VPXlsFdbtIjCKFhWlg3bBnMiLiP5npdPwdeC8iNx+j0YwvourvOf7udVNSDBOO9BEhEU3cfq80HzrJKHqr5saOFG35vEbcW2cd1o1tvDy2xewhOUyBFpJE6/D0NY7+CS/3yMqsM83N1BIS5HwAc1pcPcC6uuqrGtwuDCvglEbxJLn8pvtLYntvox3RFCSIiEvhaUH4nTdzGE9RpvR9Ud3tz27amAONfz5/znrHnWNCXJY1uFwTu5Xk3N2sdbG2t5rdQCgFCqmAQnphGUfzdDWDvvjqqfk1Tn7g8A9KyqxwWAQ1WD93HRFlGjrly3x6B8PxB3/5kI9VDmEZR/J0NYb0bVPZp5s/AACO7dX/T9P2edzg3gUNXghxOPm0AU1o3bhrJhvUqcAgFIhJASiZFG4vSaL1pYb0bVWzG6u+/Hv+/hKgSwr6q5VtVYqzz4UM7VVt8EYmM594n9fvNFXhFKqssIyl/4QoV1nf/sUXWDm/vlIPP+sw6kzrPMU5oPOs0qeahq8LG4aIuoaBu2FevGUvqyxEd5AUKqy2NQ/gtOnH5xwnpTVV6b1SD7OB19JWBvAOe5F1Y67flPpQ5VDT4u8bgJRGXbsG09KL8X+Gd5ARD3JBmRv2RtfUHCuszUe1Tdw8yb4/EbY/+ZJtLH6ulwkDyNtcqDz0C8tpq6oB9MXQrcBdiP7okAIRGKRNfHoPyXlDj9IoT1tqqat3hMKuzdX28AdZ7TYe47wAxVDT4nF22BvUncHjeBuOoTBUFQqbQvTlvPWVhv5D97VN3CPYKUiNgr7giq6rkBTHkWHaoa/GhcVVt13wSib7llBnL/riUZsa/veSMo/6yjW89TWO9UlQPm1pMKj4WVaprn/cSaNOlYqzx4Glxri172wda20eyq1ILvI3kQGV+Atp6bsC75z7auVotbsTB3Pw+oLj+cgqqXsfpQ1eBpcllNDdR4q9rq89fzFNYlREMvQflnmTh9PsJyMz+rylttdXO4uQWBXVJ7plhSkmnabTXWKg+ePLu2LssSu7ZKQWtvaEvClSou4AzNz09bz0FYbmal1EtU3ZtHv/3nl1vCvROUlC4R0F5VDVUNboUIOMLogcoojwGI1i4jjv47SfUgnmFQ/raF5X1TvVK81lY38+bWAnC3fe2fsJdXkvK+XHme9aoBfN9XGAyeFhEInjeBiHJdbV3NO3oGghqhyHDdtXX70a1bFdZFVb2kalYDsNbQAyu+d/gUSkrnWdVBdRJJQ1WD24eOaDCw4fVq67pDRAQjnlNQ/vaEtYeqWl+obLWWANwdAC6/ExGh06TzeVals+reAH734w8GN4QDRveojIKyV1v7JhDYh7ZB0l1F1CWYiavZ1q1Ft25JWFaK1dLKZtZaq31D9TALws1IuhmBcNcpp+NR5zlNs2pfADhW1QyeLW8tS9y4LCwl3ryTGCJUl9sNyt+AsNwszFpZ3c3czAwRbhYR3lpEgIheW/XNqnLWedI8ieSkQ1WDL4WLtoBKO0e3SoE7IiAC931ZIqBQukJn5OmGoltPXFgebq1uza3VhgC7v86qiv6/3URVctZp0mnSlEVSkjRu/w2+QPpqaheLKLSyj+Svolu97CLJCKWK6w0F5Z+osALhaEAzb7VWM0Y1AWEeiEdVtUYRmc6q0ixUHTP1wRfP47JE1LBNSnkMyu/3oyTcCQgprwfln3J06+kJywzSitBQgGbu1iKasLoEohe3gLUmIpKzpKQ5d1WNkmowuOaN9T24zkCchdX91df3iEzh+pSD8k9JWGYoBcvCycq9FrFAK97MJtYpVxcwzBiAiuasKVNUROVT3vvra+T7nRbsm25/PvqOEv2rf96v/Mj1c/j8r8Dgl+dtbT02iecOESQBvhGUf3qJ0/S+Cz4LZiglloW1YlkgTVR5AMQFrdJMRKCM0GlKeRJNQiUZQNAc7qDEm/urB+CICAOBEOWb+68HYOHn7YZUrt6MEQhEC4NXuIMRKQnmjM/3fvWIGk28wEEVpwqyXpkr9n+C7YsjqexauVwQcERgfwUEb26W+vgSAcBrL1FE9NcnokYzIJCUMmXo53sJBh8DAgoIkiOZTrib47BXW+jre/b0ogOsCLIpXdrGmlArnpK2fmxhmcWyRCmotQuL2wY0vlSZ1cOVTaM0YZ1eZr3LOvUdij3C6B5FvMCjMQkPCSrsB+vCIwwWUSQKgMZJY95zWIFABNDQGEW8OmmcFJNSELH/da/wLR5WNBME/8i8iUjkz3PT0SOKV7cTT4u0gEh8PRU5akxK7X2xI5yNsbE1F21ySMgSQbCfL2xwRxVfGdGYKHOK9PpL5B6bRkHAZLKYBLuzAtG8uW2+rrE1IeSgvLtzOUzM8t3PfvD02LUV6lBjjsOEeb40iXHVaQVghIuJNzVj1V1bTyBx+qMJK0rpv7CuUUp0VbUWtjG5Fa2WnBFoLhPoLgKmIPsZgU63KEBhbHBv1CAmHhT97kdYmLHCN4mCiCbWyByT9B8mQEP1KESRKO5oYgIkJAKBsGiwLdqJ2yLFIkKOm99LwdeH+OTK8ohitdaTb7/gssCDSvrsEo1IMXUlGWrERmyC5lBzOKnQftarI2psQBGscHfN7uE8KoRgRJwvWD0KAs0M8Cwzg2CYN/di5eTLEkuVCF1FrckLK+kuY/oxv20HH8qjtviorb1DLAWlXK7s2jI2kZrcuGisGaWg57Z+pOjW5xZWmIWZXzxVCrYtamVrXjcXJwHzWGGuHuJ9czLQvRmtkdxfSm99KWg4w/oRu+zv7IgAWoSFhZuEwb0FKBOYEgURjmhuhoaoEhWB6lSdQGXA4c2rt1VjzbqBlQh6JbRwSniRv+1fBzg8IkiRt6Y9AXgE6BEQ6rcVKb22am2pbfG20rfwkKTmrLYZclAFEnCDBYxhDI+g0SM8KBIAYPCGiP4SwT3c4YAHKGQEWnijI8LdETB60BEuEAAN3lAiSsTmrag7SVkjaLj3qneOSSmj1LpFyEu1JcYchxnTHNdB+Yg9uhVhQNDIKl641FgzpgmHA3qT+HkLrs8nrHP+s8SVqlBrF1bQgiGhRBARVZMl09RP8Saiwh3hEQIGEWAEA0IIwxwRCO9njICOcNKcQfZDu/o4JhF9AwcDGtAQQEgEAibwcEEI6GAjzM2khZTEEgxEM+SKRTETSV/3UX98i0bfItwlC2elSP/iZAAGcxT1QnDDnDm9/SAO1GgVtUat0ZzB8ADEHREW4YzYv5sQhAME5Tx02++hkv0Cj/CAghHw6OO6CDIiPPoFQC85I/w88+JeoMFBJ1p4wMxbWCAwBcIgbpCDpWRIhL49QBw8fUgoKKEBbUyYp11b/b15rra4T0tpNOEmUVlb9FLrcODn1dbnEFZXVV0Wq9VK8XVlraiV2xa1wlqghRCkgGmecMhIiTGJE0LteVG6hwX39zj3zo7hIPvHvL+Tge48OOhBgTDcI7rvnAiHsS8bRWBvkDyc7MNnWoQFKyDhzmasCWFmFaWiCpqEZKjsy7UQgLnXKBGFvoWbRw36JAeh9KLQwho2QQkUBBrMwRxJ++0ZsNvHwo00p4MWDLDfee5fZ9db/w66IgLBiMePxvk37uv2z0/1Qr/l1y97/cGuLgAAgnQgEPSANbAcCZaGbWNKkXPkbCkbkiC9XVcOnjgkCOTQoDammKeYCuf5Um0B6D8iQ9QiDMZYJYQP694h5szPlTj9tMLy8/6fXmtZFqvVa41tY62sFdtG9B/WFlTO9zod9HjAlHDIzgT0hiNyMISBOL/vuFcSIEU0pFdVXWP9x0F3WgQBCvsFbtGLM/YKqwaASLsCaRGtV2qAAY2QCJKmQhAhEjR6Dc8RhGt/NrGXIdUt3BAGNwdCnYgEMMI9jG4MwBUOwOCIhhBQBYxzdWOA9x9oJEkhlbMQSsJUNZz++PoGQAioFAf3UpLoQQScBaWgUA2M/hJd0a2kITi/LI83GQMERUQlic5wURoCBdshjK3IL7bQhJQwZWhCzn43G++nN77G4Bbo2pqQ+kjep4nTHGWLq9nWXmoFnGyoczOsNXJGzpepPD/xzcRPK6zy6pXXutdWtbZt81r7fF28sRXSkMLn3A6Jhzwd7+t8mI4zD5mqIUQEBBGYAhYQBq/epYBITJAJgQkkIee3nASVIlTGUZQM6F7sMPbOqP8XEMMsqkJVdAX195tQMzw7D5pygAGBZ4EZ9npN+pWEB4IM0AAEGHAwPJzhCOnxC9D38g+IMAbRR0p7V9bjFb1MCpBgEiFnTjOSIBPKzAyoAv0xCYKZUCgUFBCgAEKCjECiIDKpUCZAISTlIjJ2m8+QCUR/iYQUEARChSlibjOdDbXSLdTcf+FRvRJ/KMwZKSGlSAkp4XBXZM7Io8q6WUIAgThmQ455Qp6jlX7CK0o5V+XRYFNseLUxZ8xz1NrrrCiFX3/9ni/yS/BphQVge/Wqnk7eWhdWWAtv4lW9MaooOSmOEkfxYyrHSY4vYjqIpP1WnCAiKET0Uojs70b0N6l2CVAo6G80IhCkBDXgTOgDnr2K0gCcEApDJLKToEQIoEIVKEEhFNkxu90Fk4uBAFWoE3LbJz/neq8r0nGWXX+3x6VHi+vOixKA7FXQ3or1C+L8q5NUiEMohEIhEhlkyHx+koH+kuRgnJ8FERBK//pCCaRg/3HXCy4C2HvUiIAkzHvZxfNDsP+shYKOg0tWmX22aNVaq6iND1GLbyVekSlDtRdZvJvM2fhmETe4RXZtxWRMkadIE2qJPtjaSm8MW1vS6rEl1MqcI6Uwk5/+9H2P/UvxaYWl0ySq3tr28MrDzM29wpvCkEInhQIzZaYeafe0O206hc5CUZ6/8/c/AjzPe/oG7ZDzm429heqVSX/bC6lIkRC7D/Y+0gH0TowKTg5BUKhKFVB2N/ai5dDCAQ04haQGhEgTlNwf9UzgrAOSsufS4/qzuJR+FAlXwhDAPmDqKc3+KACTiMQs0v9tu0SEF6FcYMRrgqBwr+L2WnI36vnzr71KwGOX/XgB9s8FJDi7uGc3MVOz3IyrYWqnFUvhq8YpYc6QycPpEuFvd52D2+VcbU3G5NOEPKNuLW+lrFa/gS+xNmDq/SBfvIDqp447fFphiaqoUoTCWlvzBpgkSkqhAQlI6EFkhs6wQ5i2kLWKCib23qfrCJc/ds7/7/JBPv5G9Hex7PLaP9WHRACDlPBEEnQISKFIUOLcMQIJFKhyjhDAtQ/vocokkK4PXAqtvbxBogpnyAxAqUR/GvuISkFhkl4aBoRklwvYhdVFoqRiEkJ4kSCIs4Xe4O0PEW++LK9/7lJMffcF/Q8PcSpUXRr6TUrQwWoQg5hL9BuMg2fLRVsNWlOqd1JyTYthK/5qIytS4k9+EtJ/7n/CARY+tbD6P6APRkSUWZwGQWiEBlKIus5IR0EO983jZBQDCiMwZSSNfbD0g+j1TTfXY51zficHoOSviCIICgBEv/nYu7nzVSFIhOn+iBRAf4Hg3kL13qkLhQREUoRe1VPSK6N+lUASp8eCiEggiR56IrjfIACl56wAvqGjH/oq/NJ49BuX1rx5VPhGK7BWG5Bmvcs5JaYkTMIMnGf28SM81cEnJyI8PNzcPRpLw+owIIE5QwTS58C3LCwAopoOB0TQswoarUVBihDHBJ095cgCEXcUs1cmMImAVx4tpolTBBXnBSPfm8tbncTe+AQuZdHX0jV0jj2SvRl61NvuIoEm7PN5WfbxF/D6kj0QEoSm60bx0nztHRYF1w9/sWO/4RlxKXiEuMzFfywCMHeLMHjzalbMS2tbsNLFY6YkvgBTYk7IKVJiSgkHj/Ot3cFzoZfQ1Vqxtdka2wPWUzxUK66HgxyPPB7x4gUPh09tK3xqYYnq4ac/hUjNmW0VhooLiieL1FwtkoGN9MQgzViaP7QWphZizuMW7pwyVOOqPfze7Nd3GzAQEPBOFBGvYOehePSg5eODx+WPIESERwiAS87zHQHv/RN9uHbW2UVC5z8ekxl97N4/yMB5cERS+Gir8y1EfDYi4BEWvhdWXpsVa8WiWhgYmVmYMJFfC1SRE6fMnJkzdJqRPuOTHXxyAmjuxWtra62ndjrFesJ6isU43YkeeTzieORXX+H+nl9//amd9WmFhe6sr79O0yTrQ1JUmkRpqC7FuLXckjBgCBOE0oiV7gJzuIk5WoEZpok5gRI/uNTC+Q2/31nrHxIm55VEesFzpQrgwP7inGfUhLw+aX8nJL6jPLrUZedarGvq3Dd+C+ebnJ+WPkczd4teVVXzam1zb9WbI8hQMiGnJO4qKUlKMmXpwmIiVTnqq+eDubfw0jaztS4PbTm100OsS241c+acme5xPPL+ni9f8rOsi/7kwgIgqtOLF3LI1V280jbxzZhMpKVSlYmiTnGj+0SX2Fp4M2O0JjXEWljAHVOCfFip1SGRqQggcJBveXEvejgXQwBAtH0Plo/AG7cYX5/7vH6D8fGv9M+9+fGPQldVL6yqVfPqXq1uZsXCHOEBIpRIYOacckaaRLNqkv4Ln3BLssHnJyIsonqrbW11qadX7WFpy8mXU2bMMiWZRQ948UJevMD9PY/H9z3kx+FzCKuT0g+wvNwAACAASURBVKwItSQUDS2xkQyKqWwsUIYxm6m7wgWV7haG2Estw+6sD57Ed1pY4nf+HDi/8VoPHnxUvq1Eu5qIBfcble/gU5RafY2huZlbs2pe3Iq30qwYetdK7TcNoIqkMmmaNR8EqqJ87ckPngMe0dyrlWpr20714ZU9nNppiW1LKrPMKrMc7nl3Jy9f7mmGz8XnExYAgpNmghqK/cChRCajbCiudJHcWjJj+MRo4XRr0SDNpYZYpe2TeFA/dLz7EWulH0S8lXq6/uR1zmCv8F731uXWwcfyQwAesAgLa62Y1dY2t+JeLNw9+pomJQUqoklySrPmOaVJOTbOf4ZEhAeqt2pbrYutp/bwUB8ebFnZ2iQ5yaTpIIejvnyp9/fy4sX7HvIj81mF1cmaFMqQQm1UAwExqFGc1ROdzGYakekSG8MkrEXzMFdz2hbumFJIulpociv0muW66/u2sde1tr7LdT+cCAS7qrzZriqrfbje+uogERFSqSqqkkWmlGfVKUnSsanMc6TP13sbaHsbeGoPJ1uWRFGdks5pvtO7u/ziRXr5Uj5xRvSd/AjCAiDggZNSC7SGtOiLbLRwdREjQyS1ltwFPqE2OPueD2GmNWglzDgFPnwS/yMS5wzF92umPqaq0Asrorm3aObFaml1s7o1ax4OhgiFoqJJVJhUp5Rm0SlpPq/HHDw3PKKaVS+trXV9aA8P7XSy0xKlTJJUckoHPRynr77K9/fTixefOiD6bfw4wkJvDyMJKBSBNiSDRIixOBnaMumtZXeJyDDBWsNojdFczdgaPs4k/jMTfdf/3Vnvv7j/yXcso/kQeha0hVVvzTZvayubWW1mEUFARZRMmlSS9G/TNKnm0QM+V67m61trSz298tPSTqd2OolH0pxkyvN9Oh7z/f308mX6XPP1d/KjCauToAKREIEW0Kke6pCVxWTzxHBLrWlEghPlUmpRbZ/E8yNM4j8P7GuG+Hgf8Dvu/b1xJ/G7h/Hfh4gI0CJaePVabbW2mW3uZu4AhFDRJJI0qWbVSdOsOqdxzuPzxSOaW/XW2trKqT68stPSHk6+rkk06aQ663TohVV+8UJ/jDbwmh9ZWAAkOCP3BXo11KBOiZBGcdmcbSJTtRSmCEYVenUzGMJcmsMq7JKJT3tG4Imym+qNafrr2npLVY8Xfp+i7J1EoNuqulWvxTazYt76OY990aKKKlU1p3QeV2kWcPSAz5I+X29hpW2tLW19sNNSHx7aaUFtWZJKztOdHo75/v7HbQOv+fGFhav2UKkF0iAGjVCjrlxdmJS5MoUpQ93AoDvDmreQFmKVHmAgI/CUnfXOjFXnelXPt170fcder3EesaO6VW/FqsW+N9e+3BGiqsokmlOaNU05TT2yMHiWROzz9WZbj1n1wqqdTgomzUnnNB3T8Ti9fJnv73/cNvCaJyGsTm8PGRRogzaoQwIsVNNi1pJpdkvoU60GnCBGekN4+AYAQiRG6AeXIp+e3hh+AB+gqk4AFmgRDdHczuvBey6EIkkgoll1SnlWyUnT6AGfMZeYVbO1bqf66pUtS3s4RSmJkiTndNTDMd/dPZE28JonJCyc20MNqVSAFuJQIDVoY8loFkxhKawvSwSK953yGDUIJoKEwqF8ujP4d8asvoMPVhX6PUHA+klzAED2Nd+EUFRVICJJ09QjC8LRAz5b+ny9uVXbWl3a+tCrKjstMMuSkkwpH/RwnF++TPf3+Xh8Cm3gNU9LWAAIZiQGSVZogxpShAZlY2lgFrGQ1I/ICSAMLIAYxD0L93EYgaf1Sr/F9ym1fnl3uIcBBhrCI4AQAn23L01KFUmqWURHZOF505deFatmW90e2ulky1IfTr4sQmadk846HdLd3fTixZNqA695csLqJKiGKHWDMKSBBonQxhQ0gxlN3NkcSgigDrYam8S273R83sPvw+hbKcRZKZe9Yj708d7Nd5RaH8UdsW9oFQ3eiACFlKCIJmQRFUk9r/BRvtzgydKXMVcrra1te6ivHmxZ2mlBqYmaddI0p/mY7u6mly+fyHz9nTxRYaGXWqHEXKkCbUwV6lEMDhpgok5zRoSxHwfmLBVbwqwQ+dBA6WXTAt9DSz0rIQAkVCny8RbHdN4qtT5ksv42e77GfEN1ugtD+kkTaRIRjpWAXwQRsLjM10/1dGqnU3s4+bLQI++zy2OPWT3NNvCapyssnNtDhRIEGcoW0le/OSLoohHh7hZwFc8sEUvjVEMSkgZ+0Grhq/1VzLwyGszYSzUlVCuzxZSgGvwAFX4Hrz/Jj/PQ3u8EsXpsyiot0JhSSnpQmdJH+iqDp8wes7LabGvloT2c2rLHrJSSdEpp1ry3gdPLl09qvv5OnrSwOhI8YFKqJq1Qc3cYEURUKx4V5hKeWwgjGMwSioq7hBz73n3vxyM8olnzaNaKt8K6SXMiSDCRdwnT1GiOKXPS4FPO1pt7i6i0FqtwkbbJKdhENetLL5I0xmFcz5nLNqHNS63nmNXpZKeFrU2aL6ttnlTM6r3cgLDQg1pIJCRJdfPw8AACgfZqpRndRE3pIU0ykYP3seFOI7+3FOqq6puruFVrxbYNtbBs2QLh+1l9LfGYcWiRjgWuyJlJ+v7u7/sSnxkPGFnRWizEInbKDysfAkYeJncvOB6Qn9izHnw0Atcxq1N9eLBlsdNiyyJAkjfbwOmzb7rwwdyGsDoZSamqZh7OCA+qBoo/bGotiZEGAZNzclSLl1bkK0X+tr0FLqqyvhdwKVa2tq5eirSqrVptCQgEVaIK6yStxV3D1IwHj5z2Q3RwCVFcplF9Qv85pRCARwRh8BrWsAGr2EkfHmTdaOGSjRL7eG7wPDH35l699LuB9dWDr2s7LbFuSVT7HkHzE41ZvZdbEhYAASckYzgiJAS0PJtOuiypbSJOBlKL5CzmCLxk0RfTW87q6aQW5l6t1VaLl9LWtZUStf650uZa7lq9azb1A8GIaFqsrtXW5r93bHGo1IMjORPifHDEvnimZ50oge+fFr9s8f4m7Ln375rE95OoDf2ge/ewCPNY6Sdpi2AL1gDDE/qo7r15isENss/XrTUvrS5teegTK1tWmmVNN9oGXnNjwgJA7KcguwcFlnJJSTVrWfW09pPaIzUUE7hHxNdR9KscSc6Ljh0wmEcLVLfN19KWrW2b1frrpWkpuZZkf2tqcWjx9/ybBPz7/AkM1Tg5J/s7/1ZrS/V/MFVOGSkH1fvpbaRTPFQxaYDfoqAL1+GJiH6CTuDqzl30RYA9VLGf3vMorl5SOT3QEA1eaR7W4A6z8EWOxdmCFGYBAbUAAmSEf97yb/CJuSxjNtta2dvAdlr23az2zRefeszqvdyesDoEVMiQlNRT0pRUp8TGZSOaa4vSHA7AgbgL1zlS6me3Goxo4SW2DcsWy4a1/npp3MpUq9jPtEay+E/bN/d1Pz05Eb9dv/nr7SfZkNpfS+23Umm/Ps+/lxVTQkrMKURCtCI5DvG+zRV6keMRHtYHcufTVLvlzru891KoSywgEKEw+sUOOsKjVbaKWmktrPXjO+AuufhdKDVRhAwRIAkyQxXDVs+H62XM1pa2LfVhbwNRau5toO4xq1tsA6+5VWF1hEwpYzpwalLBSaIJloVL0cktDAABbwE9RD+WVhUSgYqtcCuxbrKUv7C2+1JoP2MNtvjt+k00tH7mafwcwG8FED/77Ydv0PDX2k/U/oY6c/k7f37KLae/nyWOCcdszAUAXc4L9t7OVVxUtc/Owvr/AwFBH+LvzsJee/XHIoQUpRBBuLjDDM0ebdUa3cIM7hCPDEZOkRj0EEwJOWOakPI0Ju7Phev5urWlnk52bgMlXCWlm4pZvRe21t53zVOnLUs8PPDVKzmduCxYFmybLAtTtK9y++orv39BOUhSiISoKwOVtcZWfmOtshZsFe0/6KpyhxsCkPj518ARuGweT/4MADL+veNPysx1Yp3Q9G+3WetPp9OLwy/S4Re8K3iBOCIEgQq7FtbjmD/MrJpVeIM1uIWCSiein0zY46QRcIc7jaQIREGJ0HC60yyawRpbg7WwFmbu5ox2p/Ziyi8P9CnVhEicJuSMPAFJmPRDQrWDp8XjaRFtsdJ33VtsWXzdVCQxqU7PoA285jkIC0CYxatXfHiIhwcuC04nLguXhRrtRaov7ql3ogJViLrQ2X6jtlxK2oqWv8WCqPFb7Ru3vpbl5wEI8BVwwGvnMAdA/iwEMeOvTj9pE9uM+pLrH5E//Iq/yOkX8T9tuEPcIfafYw2G87zJ3C2aWbVWmxUvJWqNWgURCma6INg3oSIiYEYPtlAnQQmmvn9OONzpDjOvjdbQWp9ehXg7aNwdcH/Hr44i9wlT5EzJlCxQeXIxjMEP5noZs7WlLqd9YnVaorUkmnUSndMtz9ffyW23hBeoyhcvrpo+gSpzjmWRXxSNB08GTX1z078gScTurOb2N/MaWuO3yjfWHlV1+SXnXzh/xIGIn8N/Fgt+u3zDA5Dwl+Onqwd7cJX/OqH/1P/3KfCCinMPaBEtmkdzK95q3ba2Fa/Fa2Vrf95BjUgMFVcGCRAeYq7muUUyCOV/QAD0AMJ75QUzmKFVMWNYKCBZIjEmjwweme+hs7Af/DFc9RzYlzG32myzeqqnU59Y2bJIYNJJJD2nNvCaZ1JhPVJKvHqFhweeTrIscTrFsoStrhKifzUlF3ER6n+YLXKJv1u+iYq+78O1rRwIYAbm8wMH9tTA5RryZ7gDvkZ7CftJiq/+55ju/nj6iyv0D+0f5+CRCmDzZoga1aPAS9Stnba2ll9rJrVoLclM3akBYaSfBen7qmjAYjLM9T9JBlDgDJIBugtc3NUsmWV3ISylmnJJeTkeTi/u/+FXR7z8inI/8f3p2cFNEH09xr6MebFtD6/buu5toOSkNxyzei/PTlgAzu0hHh7YnbVtsSw/cw9hCEL/Iwj+bvuGDXAQ8Ph5/6tx/r2LSV8vQWuPOZ0vA4E/ovEyl/u/Gl/N6WVgip/Krzr01P7JHRWILayF12iOglhR1ljWX1saS0GtYlX8bySDOEiwb0rf1Qgg4A4aDgZte18aAAE6GBAPMRCITJvYJtYZ5cAy/den+/uHly/+33TImIatngeXZcy1rdbWtpzaOb8Os8SUND/LNvCaZ9ISvoZqP42W0xQ5R0r/5rIdNR/X5e+uy8/kP2bD345vsMcG9nHV28RbH+EbHwxwoh+lHP8bufsrkvxX+Ec9eLJ/fNcPlw60iBrWUCIWseXX0LJvBy+MCvnr7DkL4nfwBwDokEDfJTqA5ij9XCBDP75xfwIBdyBABRMkUyekGXrAn81/tMxc7n/zdPePlnyfQ4atngdXy5jXVpZ2Otmy2tJX2zDrpPI4X0+HQ3pGbeA1z1FYAFTx4kVME0T+ZJru0slV2/Szv5LjuOC37Rv0UdR3ppHe/hTfdhZCj8L7v1jn+3+R/0ILe2X/+E4SiNWbARVWURwbY/vX2A6xTFJU/126RwCC/8z/oE/1BZCArJAV2AdqfceFHrd6fD4OQBEJSEwZnMEZmMEZ/2D+p3/i+CvLCyx6H8hCf/PfMLg1Hpcx29ba2rb9bqAva9SaqEknlfyM28BrnqmwOtOEr7/+wzT9H4I/Pf/Fuwea4u/xD1jg68/5odnJ67/FBszkEVWiUr+xf/QCCmANt0BjVFhB+Zdpd2L3Vv5HrH9J/5pKQPCf6x+YwLU/5u+ouTwYqqGGN1jfiN2jx8Hi7MpQhoqnpDlLzjFNMU88/jon4IDIv/9w/2e2CRET8K4qcXBT9DvL1ft8fa3LyU5L64WVR5aUenDhcNTD4bm2gdc8a2EBUP1nL198dfjT9w/8R/Hfq/wpEL7+V+TCZXnfX36Ttx3HAKe/DOJP4o/B+RMoiFOYAYa9H/yX6HNsjEL5d/6CxtTwX/APXGAEBcLfFYaayQkAPBCOsL4mB7gaqEEJFU9JcpacmbNOU5r/XJ4hM+SAP3b81TL/GRMifh9AC8PglunLmFvUVpdLG9iW5bKblUp+ZjGr9/LchQUAWI78Bf5P4R0eYPq/SlogAhFsG37IPQcC0jsyAAJkxiRBeDAi4P8LGL8wC5EgnLDAHxdl+D+MbUb5txFB/G78PPQ3QwH8l7ofx2hSAIP7riePx9ooAGNfVJOZUpomyVmnaTr+OVGkCemAf/7wK+WeJgQD/vvf8vQHN8N5GXNtXqytjzGrZaXthwaqzulwTIfDs28Dr/kihNXs/8YEZsQEppd9o2PkjHMs/n0P8AgBEsz0iT6r5QwXBdklE/GV6APCAw7+KgWI/w3V6X+Wf/nO8d/GP/P0mxQAmPQv0YEKGqIhLqEJIvR8O5JICUhgpk7QjDRBMtKEPmj/1flX7EBLBAPx+91zo7a6aR6XMbe11aXfCuyFlQSSZJVJ83438JnFrN7LFyGsjrHhDuBC1cgZpxN7xDQlLAv8PfPpPXuVyYk2i2W1aYo0MUQRhP8/0f45KoB7XMLk7Z9EKxG/xr905/jv2u9s7ln+Dfa8uSEqsMJXREEUWIEVtAYDGmCKyGdV9V9nVf2J+Vdsgs30jOg94LkkG7a6XS7LmK9jVr6sbVliK0lURFOadTrmu7s9F/oFtIHXfEHC2jkeQxU590D8XmqJYFm+oz3cbXBHn6RNavPkOXuekCcCf4p/jAwF/j+YRrxgf1Xj/4pW4P8qfyM5fq/9rrkRDP79CLfqtlksFqv5atjMV/PVW4kGmNJVMOXe/V1+/SuH37SZPsEm2jRU9awIoLm3aK1tra1tOdm69ruBMMuakkzUnOY9ZpWOxy+kDbzmyxMWgGlCX8Gj6jnzdKIIVLFt+O5J/MR6n306+DQhT3I4RJ44YyEdnKgKEnjA/9/e/b7qtl13Af+OMeZcP87Z90cqaailQpVWSwNNKSKkXrltFK3FJi9KadF/rkKhgmgpNWnaWptKtYIm2Cq+MPYGSyIixjQ5+1lrrjnHGL6Yz/Oc5/y4P849v/bae3xeXM6Lzb0HzuF75xhrjDm1OhXXDeqmRMdajwAmZ3evZkV9ab4qinlRK2qrtepNyIQ9JX40rX7s3rs6kmbSkTRj9T8fKUdU3Rpqdmxa6dq25dixWtd+mxVzyjJyGtO9e3me71oZeOlOBhYAEb+6wvmo1X9xODy1E+98HCwlZ7yZNb9BOSMPPgwy/ShlbEQOSiT9Diw/3nLVzAusJYI42EzIkhurWlG9bl7UV/WitqpWNycdxVLi1L9WZx4GzvnH7/2sDtCJ2kDflfeE00hpPM2DRlTtXe+vN9NmpdW1laVdH3RddVlRaybp/XUZxj5mleb5rpWBl+5qYAEAfJ4fnrZyPp6zejO+1uPPXPw8VZeZrsdhSHOa/gYGgPEGfb85DvqNe5xABFeYkSlM37ONfMusyZFcMzS7Um1YFEuzVa2obmZGJslzopSSJMm5z1jxkH90fkdHahN9R/6HSJ44n9eXI6pugb7GXLU1XbWubTkOLvQxK+EknNNdGrP6UHc6sICLo9YwODMx07mlVQoeG7yqLs35Ez+FCY35++j7FQ4n2P+810cK0AhK2Njrn+mmugFbhg9AJhtcszaU5odGi9pmtbqReM7cQ6rPWEninP/69I6O1Eb6dv66yDDLEFF1m1z014tquTxY6bom5iSDpJE59zErmaY7WwZeuvOBhVNmDUO/lMbXlfqUVkr02NdDhdTP8ZYI/JenT3Lqswx/DnZAv+3FvDnaD5IzVXgxLZ/hdwa1P8GXElomzaZemm2q1ZqisdAwpTRyTpIzpSQ5/8j4t7/BX91m0pG+y+8Jp1Fy/+9HVN0ODqh7tdr0OGbVDoutqy6rt5YlCaWUJxmmuzZm9aEisE6GAW+95X1lun9A7O2t7V2c57T8N/EAPz194pDTm8W2/J+3YSj58L8BhTY0J1WrAmNURxFWURMyJk1i4ppd1czUHWSZkUYe5jRMkhLn/CPTT2smyzTKG/8vv8eczjVgRNWt0cesmvXXmPuezdqWxZaVgcQpp5Fl6GNWMk1RBl66jdfLPAfhhAW4Bh4ABTgAK7AAC75AbwPQK/yfT/JBvrINeRvylvN/z9Jy2mbaYD9MIKuC9t/aSqqf0Xel+X+qX8ysc9bR2ri19dttfeAL+LPjrzyYchu4jebilkkHaKbv4T3hNPaOGIBIq9vidE1oa7ody8DjYuDq2ybESXLfDeRx7Ns2MgyRVpfihPWE8y3uK8D4ifyX7ie/Jz5uyNXlGm9O/4zT92oe/v0gnrPlTFl+3PJ6xQQj0v/ixbl9Bu8mx1fx25yM3ft9eyjGxf8R/vH1BJnRBmqDtMl1IMt4gG8wSUTVrXReY1bbjmvMp8VANE0sSQaRQYYp37+fpinKwKeKwHqEWgOABLyhb48/dJX86tpNYIzfW34DWL6w1elB/XJ+4Dn7lmnIfzMNdchvWBmM/vgKhfzT8q6IJcVX7Xc5GasLIAQy/wf1l61BGrLjj+RfHqa38/Cpt6arnLKQDPzwjyOi6tY4XhNq1mzTJ8tAoiwDS98NnO7gts0zicB6HyIPrkgF38KfOi+MA6S8w2nM5fcO179Q1bJuuX1p265yrVv6Nw1V8ZP+84f7SEIK/hr9vqdGQCJi85/hL8yOaQNv/iX9tValNh/ZfCKWcT611RFRdbu4Q91Pa8xFy1KvD1aK9tusWIRTShOn4c5u2zyTCKz31Vem7c2NcnaRvzbde5O/Z4v8LMu8Lnmpspkk/8NcLOWf0V/a3N9wEsXX5t9tUzYiFxKiz8rPTRX3DaT4V+uvebVKEAOpa9MfTrg+Hawiqm6Z0xpzNd3qtuiy6Lq2ZdF17bdZMaeUHo5Z3c1tm2cSgfVhhsFF3k7D1fU1ABWZcv59BkpfPwRv9vnxV+4bZcMftH/eWt5a5Q02yU9Mn5sFVwoxfKX9C6obtobqxBA4sX+WIGRwb/iQ1euwL/2a0GatXvTX+5jV8TYrzucxqzu+bfNMIrA+ApHvXV19h4HE1N97Z/SV6X/YfjFVp4LfLr+KJq1VMryDzy9KW6Opeh7wH/MXhSp7RXWog4kG/rtpWGkkl69bzdRA8Tf19uj99b7GrFrastTDsQwkbZf99XQ6WEUZ+BFFYH0kzfW8x0Mi/Uatv5V+fl4wMn15+VUAOGgy/zn88n2AK+URX1l/Kw3gSYVN3D2RTvL3OFdJlVL14WvOBRb3GN8avb+ublU3ta1tFwerspJ54iQyiAyxbfPxRGA9i9Mezw/MP3U/+1ToP9DvOK+OhUr5PP4JCmbgd9qvb1O2kmuuMhFVhygmvJMmH6iR1CH/kTBJNksDqJK5Szxxune9v/7YmFVPK982YRbJ/e14GcfYtvl4IrCekYhfXX1HqTG+fv1V82ukRCLvjr90b6Fc/TeXf4pWczMdDANRJR6AZJ8b5JBmH/mPB/acXJKlhJwZI/erZ8KenQ5Wx9ci2rroclwMJNVzf53zEGNWzyMC6+M4yLdwpY4HJILr60/nz90/0B/gN8AFy4LqrI2qcRWr/PcrcwZd2b9Ocm8cjQQ5I2fKGTmDpwECj1fk9+q0xtyqbqaPlIF9jZkln65gn2Lb5jlFYH1cp6cPf2D4zLTQn+IPIeX4tsWyuBmKUbVfqEkqkOnLK/7v981G95AyjlGViVK/LTmyaqfM3U5rzNYeloGt32bFIpxExssxq9i2eR4RWM9BBPP8FwP9L/+vwOrnC5dFUIr1G7UquOlvidsh109lDPcpD45ElNg5omq/zv31ZrW10uralsVK6fcusLuc+utRBr5AEVjP6yDfwlv61vzp78rXbFnATCLODGYvpb8sj+rN2PPgdJ8pCZiiBNyzc39drba2tm3tBytbSx+zYk5JYszqxYvAehFElpmu5CfvDz4P/mfX//b8toXWxqo2kuZRKIvn1IMq0mq3zv111a219Ty8buvqTRP3S42PY1ZRBr5YEVgvRsE30/yDTbBl+ivyd6bBx9X/hL94Xeq0Lj5rG8QdRrCnvSAdduHYX7fWb7PS7VgG9vl1uJ+eOB1i2+YlicB6YZp+EwLM+rb80DbgPgO4OkhpzBg3Eoipy9rAABP6q8/H5Ir8uvmO14RqVa966q8f0+p0mxVzjjGrlyou8Hs5luWT21+9f+3j4d+N6/o1XsqnhjJ94j5GSoIkYAElBwNE/YnED/tXhtfo4prQTeu5BixaVjQVOl26kIfYtnmp4oT1cszzd2dW8Sm9qSIgxpwTMmqldYGIJ3ERJPGUFNloSBCOo9bN88gacyta136wastq68pESbLwwJLTGGNWL10E1stS8E3M+hZtKkKaKCE1AczdqT/X2gNrSj6OKmYYkicBcYTWjXFeY1bdWl21rHVZbC26rl6rEKdHx6yiDHzZIrBeJpG/uD97Fi9gAdQAEAgAt2alQISbwJpN6qKNRscgII6hh9ftsTGrYxnYO1ZlhVqi46ULMWb1KkVgvXQ0DEiSfHUUMIOIiBwgM19XbsmtUWu4p561kRmGRCJRHr4+vb9+scZ88TWwlOOlxpxZcprv5XmOMvCVicB6FYiFbQIz4EQKsLofH5VeVmoba3NVuqc2qbFWHx1JQNGJf/UejlnZ1upxzMrWYqV4a4klcWbOMWb1WkRgvSLEgnEGCRoRIRHMV0BBRrXZg2tXhRla83vqopUm85zA0Yl/Zc799aZVtbTTmNWxvw5kTkxJ0pjGSaYpysBXLwLr1RoGyFtYBuAaSqRMTkxk1vywqCqrWj9qZVWaDENyiU78K/DwmtD+NbAcD1Zaim+bgKQPheZJxjGfXouIg9UrFoH1yon4PEMEOeP62ldm3RKKo9FWVQ2qpsr31Ed10YrRkcWpj2yFF+6yv378Gnjctim2rmQm4CRZZLwcs4oy8LWIwHodRND/59wvXF4FGxFq8g2t0fU1NXU1qw331JM2mgw5ITrxL96ja8zHbRs9ze8hUgAAC6BJREFU99eBxOk8ZhXbNq9dBNbrMwzo18MPgz9gKgXOCVVto3UxU5zKQx/UaKyITvwLdrnG3MvAeu6v15qIE2eWLDJwbNvcDBFYr1W/BVCEmH1dcX1NygISb7rV1hSqroZZMauzVYyG6MS/AJdrzGqbbms73RFqW2HzxIn72eo0ZhXbNjdBBNYNMM9+Kg9tWWglAotXMtXrg6q5qqvarJ5VMRqGjMSO6MR/PMdrQrWqVdVHDlZWihAzJZHM/HDMKsrAGyIC62YYhnNmQcTXlXRlVEKjddVeG7ZGs/qkTlppEkiCkHt04j86d3egmaq1qsVaaevalsXLpmVFbYlFKLFkyccxqygDb5QIrBvj9IbY8c7SVbCthCLUqFZtjdRczVQxK8QaBscoIImPhx9N76+r6+m1iFXXtc+veynwUxkoD8esogy8aSKwbpZHnmtlpk3INkEhaDscTBuruqpPikGVzGh0SHTiP9Qja8yPjlnZtiVippTSyDL0MavYtrmZIrBunn7UGgYS8UWwMhmzb4mqls1U3cyaYlZM/ag1uueeWXHUetLja8ytHN/gKkXXFWqZJfXdwDTEts0NF4F1I4n4PLsI5Xwe1GJnRtWm+uAarblZ78QjaTt+PUwCouOOYgAu1pjPY1a6rrqWXgxyn1/v/fUYs9qDCKwb7NyJ74NaW4GzoJI3XVZTc1U09Vkx9kGtwZGjPDx76piVl03X4rUKc+LEnHsZOFxd9eNVHKxusgism+28x8Ps19fH8hBMqLptZoqmpgpVTIpk1a3PxN/x8tAdhn4/TDU79tfbsvbBBZglln4Fey8DY9tmLyKwbrxzZonQMNiy0HogUKKmrZEeyNTMvB+1eife7/TK9MP+utXjGvO62lrauvq2MUhizGq3IrB24slBLVsFRN6wrGjq/ag1K46DWoMji/OdWpl+bI1ZW2mn/np/NPBcBsaY1U5FYO3HRXl4HtRiqoRNazO9Rv+AeCoPG8yod+LvRHl4ucas5zGrtbR1tVLIPZ2+Bl6OWUUZuC8RWLtyWR4eB7UKOSdUs6bLcWX6XB46W3W7C534c3/drD8aePwaaKVcPhp4OWYVZeAeRWDt0EV5+HBQC0xedd1ITZtCFX2Ph8cKMwy3dWX6kTXm/jXwsr+umuiR/nqUgbsWgbVPT9njISJK1LQ2UrXeiVf1ST2bwpyG5LdtZbqvMffXIs7bNtqvCS2FHIkzc3qsDIxtm/2KwNqxJ/Z4CnwTENmxE29N0WfiRzVYpUGQbkcn/txfV2vNNq1922a1UnQtaI2JRJI8WgbGts3eRWDt3FP3eMDwiq2i9+BPg1ouqtQvXN735aXnNeb+WoTWYxnYD1YwkyfKwNi2uR0isPbvqXs8REyttUZ6MFM/DWr5YAo1GvZ7eenlGrPq9vBgVUp/NPCxMjC2bW6TCKzb4mKPB0vug1oJpN5oLaZmp048JnXqt9Nk2VUnvvfX1fUpY1ZlQ2tCfH7bJvrrt1IE1i3ytEEtoSpoWpuqmlm/6YFmtdRn4nPayeWl5/56X2O2Wtp5cKEUMk+SmB7vr0cZeMtEYN0uTxvUgm+CSqZ6OKg2buqqPKsPZqQVgyAlMPkN7cSfrwlt1rR/DSyn+2FKwVaFmZ/or0cZeCtFYN1GTx/UqoRGparacSC+36jF1uhYHt7Ay0sf7a8/HLPybdP+aCCL9EsXYszqDojAuqWeUh4eB7WoqV0foM31eBGg9/KQ8k3rxF/016u2orWcD1ZeNiYIRxl4t0Rg3V4fUB5CsRRTIzNT5Vkx2sUez+vvxF+uMZvVdhqz6gcrr02YmUQ4cxpkiDLwrojAuu3evzzUrfYpLVP1pjQrZGyw13556eU1oarbeczKts1KIbMUZeBdFYF1BzxZHlYi4uTNVPX6QKpu3rtaNJjBKo4r06+4E9/76w/XmM9jVtvWH4wQZuEsnIhSlIF3UATW3fBYebgwaiXf+lGrrcXNjketWXlUF2tw85To1V1e6g4DmjbtQ6HtkYMVWssXByvOOcrAOygC6y7p5eEwIGes68OjFqptlVTJtI+YUu/EY3AM8kouL+39dXVtuqluVktftbFt81LInDklznGwuuMisO6YJ45atBVyEm7Q5tcLN6XT0AONZjDvezwvbWX6kTXmfrDaii6rbZuuxbYtMYtkphT99RCBdSc9pRO/CRGhadnMlFWtqTflWZ1Nj4NaL35luvfX+5iV9W2bZW3rqQxUSywp+uvhJALrrnpaJ56JCVWrmh5I1d1Vj+Whsbm/4EGt85jVcXChHg9Wx20bh7BEGRguRWDdYe9THiZuas2W1cxE9XhJ/GRG6i9oZdq9X2p8XGO2trX14cHKa2Oi425glIHhQgTWnfdkeeibgBiqZTNVmLke50tdTE+DWh97Zfpyjfk4ZnXqr58fDTwPhR7vCI0nTgOACKwAPKU8pMaEdnz68PqgrYmZqtKkfnrbQuiZO/EX8+utvxahW2mn/rpvW7/NSjgTi+QxysDwmAisAODx8tAW5q3A+zp0Qymm1jvxNCsmc7Hm5pTFP+rKtDvU7Lxto8f7YU5lYNPzbVYkKcrA8FQRWOHCY+VhrdSYnQlVW6ODkh7ftqBZkcZeHronoQ/pxB/769ZUH27bnMvA46OBnJmzDCPnHF8Dw1NFYIVHXZaHtdrCvHEfLlVrtKxkZmZ2Lg/ptMfjzPSUTrw7DKf7YY5rzKWV1bbNy3YuAy/768fAijIwPCECKzzhnFnLcurEr+QkIKKGskENZqaGppgMYs3NkJMLA3xRIJq7Ac2a2uZWe8eqlWLbpmVlMyE+v23T21XntPqA32C4syKwwvvo5eGyXHbi+3s81JofFK2RmjfFpMijkTUaBGLuRITzJjOa+uZWtJR2WK1suharGwNCkjmz5HN/nYchysDwASKwwvvrR63T04e2MFdmYvLm1rAW7YGl6pNiUGMjEgb56Voaczc01+LL6ofiS7FS0JSJEieR1JtW5/46i0RahQ8QgRU+kAhEHh3UWok4gQnNt+qqrgpVb+pcCelypNTg5s1188Pq64alkJqwsGQiERlybNuEZxGBFT6CRwe1bF3RChMnVGjTZXEzqIGyIzkR4D223B3eYBvWjZYiTizZJTuJDGOephxjVuFZRGCFj+ZiUAsitjBqYeJkBGpeCtQMDZTccQ4sENwbWaWtETFTMs4miYYxz3Oaphz99fAsIrDCs3h0UMtrhZOAgaatea2ghGNgoWcWeeMEZnEko8x59JzltG3DcbAKzyICKzwjEZzKQ6wrNsbGAoZXt0p1xbnlDhARZ0mUCdko0zBiGGiaZJ55GCKtwrOKwArPTgTzTCLej1oivq4MTgQAvhXXBoAk0TiCMtPolHmaelrxPHOUgeFjicAKH9cwnDMLIr6u1AAmSuRaAFAawRk8IE08TTQMmCaKr4HhOURghecgQufy8PRPZyZmAMiZxhHjSPNMOdM80zAg0io8hwis8HzOmbUsJGI9tnpgjSOmiecZ57QK4flEYIUXgIaBRGxZmNn7oClA00TThGHgnmghPLcIrPCCiPA8+2lQCz2whiHKwPACRWCFF+dcHvbA6mkVwotDrbUP+5kQnpEqgDhYhRcuTljhJYioCi/Hi3piLoQQXroIrBDCbkRghRB2IwIrhLAbEVghhN2IwAoh7EYEVghhNyKwQgi7EYEVQtiNCKwQwm5EYIUQdiMCK4SwGxFYIYTdiMAKIexGBFYIYTcisEIIuxGBFULYjQisEMJuRGCFEHYjAiuEsBsRWCGE3YjACiHsRgRWCGE3IrBCCLsRgRVC2I0IrBDCbkRghRB2IwIrhLAbEVghhN2IwAoh7EYEVghhNyKwQgi7EYEVQtiNCKwQwm5EYIUQdiMCK4SwGxFYIYTdiMAKIexGBFYIYTcisEIIuxGBFULYjQisEMJuRGCFEHYjAiuEsBsRWCGE3YjACiHsRgRWCGE3/j/GzRhvmj9yzAAAAABJRU5ErkJggg==\" alt=\"PNG image\"></img>"
      ],
      "text/plain": [
       "<IPython.core.display.HTML object>"
      ]
     },
     "metadata": {},
     "output_type": "display_data"
    }
   ],
   "source": [
    "plot_2d(input_feature_array[:,:,1:2],contour=True,edges=edges)"
   ]
  },
  {
   "cell_type": "code",
   "execution_count": 258,
   "metadata": {},
   "outputs": [
    {
     "name": "stdout",
     "output_type": "stream",
     "text": [
      "590.47128195359 3\n",
      "1.0\n"
     ]
    },
    {
     "data": {
      "text/html": [
       "<img src=\"data:image/png;base64,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\" alt=\"PNG image\"></img>"
      ],
      "text/plain": [
       "<IPython.core.display.HTML object>"
      ]
     },
     "metadata": {},
     "output_type": "display_data"
    }
   ],
   "source": [
    "plot_2d(input_feature_array[:,:,3:4],contour=True,edges=edges)"
   ]
  },
  {
   "cell_type": "code",
   "execution_count": 259,
   "metadata": {},
   "outputs": [
    {
     "name": "stdout",
     "output_type": "stream",
     "text": [
      "487.4631351553655 3\n",
      "1.0\n"
     ]
    },
    {
     "data": {
      "text/html": [
       "<img src=\"data:image/png;base64,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\" alt=\"PNG image\"></img>"
      ],
      "text/plain": [
       "<IPython.core.display.HTML object>"
      ]
     },
     "metadata": {},
     "output_type": "display_data"
    }
   ],
   "source": [
    "plot_2d(input_feature_array[:,:,4:5],contour=True,edges=edges)"
   ]
  },
  {
   "cell_type": "markdown",
   "metadata": {},
   "source": [
    "Now, similarly, the output map must be built"
   ]
  },
  {
   "cell_type": "code",
   "execution_count": 260,
   "metadata": {},
   "outputs": [],
   "source": [
    "_ , raw_output_data_octant = scale.get_sample_dfs(data_folder_path, 94)"
   ]
  },
  {
   "cell_type": "code",
   "execution_count": 261,
   "metadata": {},
   "outputs": [
    {
     "data": {
      "text/html": [
       "<div>\n",
       "<style scoped>\n",
       "    .dataframe tbody tr th:only-of-type {\n",
       "        vertical-align: middle;\n",
       "    }\n",
       "\n",
       "    .dataframe tbody tr th {\n",
       "        vertical-align: top;\n",
       "    }\n",
       "\n",
       "    .dataframe thead th {\n",
       "        text-align: right;\n",
       "    }\n",
       "</style>\n",
       "<table border=\"1\" class=\"dataframe\">\n",
       "  <thead>\n",
       "    <tr style=\"text-align: right;\">\n",
       "      <th></th>\n",
       "      <th>node_number</th>\n",
       "      <th>x_loc</th>\n",
       "      <th>y_loc</th>\n",
       "      <th>z_loc</th>\n",
       "      <th>x_disp</th>\n",
       "      <th>y_disp</th>\n",
       "      <th>z_disp</th>\n",
       "    </tr>\n",
       "  </thead>\n",
       "  <tbody>\n",
       "    <tr>\n",
       "      <th>0</th>\n",
       "      <td>1</td>\n",
       "      <td>1.728600</td>\n",
       "      <td>0.94477</td>\n",
       "      <td>0.0</td>\n",
       "      <td>0.001270</td>\n",
       "      <td>-0.001291</td>\n",
       "      <td>0.0</td>\n",
       "    </tr>\n",
       "    <tr>\n",
       "      <th>1</th>\n",
       "      <td>2</td>\n",
       "      <td>1.632988</td>\n",
       "      <td>0.00000</td>\n",
       "      <td>0.0</td>\n",
       "      <td>0.002493</td>\n",
       "      <td>0.000889</td>\n",
       "      <td>0.0</td>\n",
       "    </tr>\n",
       "    <tr>\n",
       "      <th>2</th>\n",
       "      <td>3</td>\n",
       "      <td>1.723557</td>\n",
       "      <td>0.89495</td>\n",
       "      <td>0.0</td>\n",
       "      <td>-0.000116</td>\n",
       "      <td>-0.000800</td>\n",
       "      <td>0.0</td>\n",
       "    </tr>\n",
       "    <tr>\n",
       "      <th>3</th>\n",
       "      <td>4</td>\n",
       "      <td>1.718515</td>\n",
       "      <td>0.84512</td>\n",
       "      <td>0.0</td>\n",
       "      <td>0.000461</td>\n",
       "      <td>-0.001007</td>\n",
       "      <td>0.0</td>\n",
       "    </tr>\n",
       "    <tr>\n",
       "      <th>4</th>\n",
       "      <td>5</td>\n",
       "      <td>1.713473</td>\n",
       "      <td>0.79530</td>\n",
       "      <td>0.0</td>\n",
       "      <td>0.000514</td>\n",
       "      <td>0.000104</td>\n",
       "      <td>0.0</td>\n",
       "    </tr>\n",
       "    <tr>\n",
       "      <th>...</th>\n",
       "      <td>...</td>\n",
       "      <td>...</td>\n",
       "      <td>...</td>\n",
       "      <td>...</td>\n",
       "      <td>...</td>\n",
       "      <td>...</td>\n",
       "      <td>...</td>\n",
       "    </tr>\n",
       "    <tr>\n",
       "      <th>468</th>\n",
       "      <td>469</td>\n",
       "      <td>1.169198</td>\n",
       "      <td>0.72049</td>\n",
       "      <td>0.0</td>\n",
       "      <td>-0.000375</td>\n",
       "      <td>0.000759</td>\n",
       "      <td>0.0</td>\n",
       "    </tr>\n",
       "    <tr>\n",
       "      <th>469</th>\n",
       "      <td>470</td>\n",
       "      <td>1.064728</td>\n",
       "      <td>0.72427</td>\n",
       "      <td>0.0</td>\n",
       "      <td>-0.000338</td>\n",
       "      <td>0.000258</td>\n",
       "      <td>0.0</td>\n",
       "    </tr>\n",
       "    <tr>\n",
       "      <th>470</th>\n",
       "      <td>471</td>\n",
       "      <td>1.455548</td>\n",
       "      <td>0.35252</td>\n",
       "      <td>0.0</td>\n",
       "      <td>0.001127</td>\n",
       "      <td>-0.000002</td>\n",
       "      <td>0.0</td>\n",
       "    </tr>\n",
       "    <tr>\n",
       "      <th>471</th>\n",
       "      <td>472</td>\n",
       "      <td>1.586564</td>\n",
       "      <td>0.74267</td>\n",
       "      <td>0.0</td>\n",
       "      <td>-0.000681</td>\n",
       "      <td>0.001816</td>\n",
       "      <td>0.0</td>\n",
       "    </tr>\n",
       "    <tr>\n",
       "      <th>472</th>\n",
       "      <td>473</td>\n",
       "      <td>1.568542</td>\n",
       "      <td>0.76512</td>\n",
       "      <td>0.0</td>\n",
       "      <td>-0.001382</td>\n",
       "      <td>-0.000474</td>\n",
       "      <td>0.0</td>\n",
       "    </tr>\n",
       "  </tbody>\n",
       "</table>\n",
       "<p>473 rows × 7 columns</p>\n",
       "</div>"
      ],
      "text/plain": [
       "     node_number     x_loc    y_loc  z_loc    x_disp    y_disp  z_disp\n",
       "0              1  1.728600  0.94477    0.0  0.001270 -0.001291     0.0\n",
       "1              2  1.632988  0.00000    0.0  0.002493  0.000889     0.0\n",
       "2              3  1.723557  0.89495    0.0 -0.000116 -0.000800     0.0\n",
       "3              4  1.718515  0.84512    0.0  0.000461 -0.001007     0.0\n",
       "4              5  1.713473  0.79530    0.0  0.000514  0.000104     0.0\n",
       "..           ...       ...      ...    ...       ...       ...     ...\n",
       "468          469  1.169198  0.72049    0.0 -0.000375  0.000759     0.0\n",
       "469          470  1.064728  0.72427    0.0 -0.000338  0.000258     0.0\n",
       "470          471  1.455548  0.35252    0.0  0.001127 -0.000002     0.0\n",
       "471          472  1.586564  0.74267    0.0 -0.000681  0.001816     0.0\n",
       "472          473  1.568542  0.76512    0.0 -0.001382 -0.000474     0.0\n",
       "\n",
       "[473 rows x 7 columns]"
      ]
     },
     "execution_count": 261,
     "metadata": {},
     "output_type": "execute_result"
    }
   ],
   "source": [
    "translated_output = translate_df(raw_output_data_octant, max_dims)\n",
    "translated_output"
   ]
  },
  {
   "cell_type": "code",
   "execution_count": 262,
   "metadata": {},
   "outputs": [
    {
     "name": "stdout",
     "output_type": "stream",
     "text": [
      "0.6243329048156738\n"
     ]
    }
   ],
   "source": [
    "def get_output_map(translated_sample_df, element_size,hard_map, dimensionality=2):\n",
    "    ## takes a dataframe and returns the displacements in every element of the tensor\n",
    "    \n",
    "    ##Initialize an array for this feature\n",
    "    array = create_array(dimensionality, features=3, resolution = 32)\n",
    "    #print(array.shape)\n",
    "    \n",
    "    ## Create iterator for the array\n",
    "    arr_iterator = np.nditer(array, flags=['multi_index'])\n",
    "    \n",
    "    ## Create 2d array\n",
    "    hard_map_matrix = hard_map[:,:,0]\n",
    "    \n",
    "    update=False\n",
    "    ## iterates through every  element of array\n",
    "    for location in arr_iterator:\n",
    "        \n",
    "        if dimensionality == 2:\n",
    "            x = arr_iterator.multi_index[0]\n",
    "            y = arr_iterator.multi_index[1]\n",
    "            z=0\n",
    "            feature = arr_iterator.multi_index[2]\n",
    "        else:\n",
    "            raise Exception('3d not implemented yet')\n",
    "        \n",
    "        ## get the indices for this location\n",
    "        indices = get_dataframe_indices(element_size, translated_sample_df, x, y, z)\n",
    "        if dimensionality == 2 and  hard_map_matrix[x,y] > 0.0: ## empty list returns False\n",
    "            ##gets the features of the input at that location\n",
    "            displacements = translated_sample_df.loc[indices,['x_disp','y_disp','z_disp']].values\n",
    "            \n",
    "            if displacements.size > 0:\n",
    "                ## calculates the feature value based on current feature being analyzed\n",
    "                feature_value = displacements[:,feature].mean()\n",
    "                update=True\n",
    "\n",
    "            if update:\n",
    "                array[x,y,feature] = feature_value\n",
    "                update=False\n",
    "                \n",
    "        elif dimensionality > 2:\n",
    "            raise Exception('3d not implemented yet')    \n",
    "                \n",
    "            \n",
    "    return array\n",
    "tic = time.time()\n",
    "output_feature_array = get_output_map(translated_output, element_size,hard_map_array, dimensionality=2)\n",
    "print(time.time()-tic)"
   ]
  },
  {
   "cell_type": "code",
   "execution_count": 263,
   "metadata": {},
   "outputs": [
    {
     "name": "stdout",
     "output_type": "stream",
     "text": [
      "0.0023668 3\n",
      "1.0\n"
     ]
    },
    {
     "data": {
      "text/html": [
       "<img src=\"data:image/png;base64,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\" alt=\"PNG image\"></img>"
      ],
      "text/plain": [
       "<IPython.core.display.HTML object>"
      ]
     },
     "metadata": {},
     "output_type": "display_data"
    }
   ],
   "source": [
    "plot_2d(output_feature_array[:,:,0:1],contour=True, clear=False, edges=edges)"
   ]
  },
  {
   "cell_type": "code",
   "execution_count": 264,
   "metadata": {},
   "outputs": [
    {
     "name": "stdout",
     "output_type": "stream",
     "text": [
      "0.0018157 3\n",
      "1.0\n"
     ]
    },
    {
     "data": {
      "text/html": [
       "<img src=\"data:image/png;base64,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\" alt=\"PNG image\"></img>"
      ],
      "text/plain": [
       "<IPython.core.display.HTML object>"
      ]
     },
     "metadata": {},
     "output_type": "display_data"
    }
   ],
   "source": [
    "plot_2d(output_feature_array[:,:,1:2],contour=True, clear=False, edges=edges)"
   ]
  },
  {
   "cell_type": "markdown",
   "metadata": {},
   "source": [
    "Now having all the feature tensors/arrays, we need to concatenate them into a representative shape."
   ]
  },
  {
   "cell_type": "code",
   "execution_count": 265,
   "metadata": {},
   "outputs": [
    {
     "name": "stdout",
     "output_type": "stream",
     "text": [
      "2.967921733856201\n"
     ]
    }
   ],
   "source": [
    "## create a function that takes a sample and returns the concatenated, unscaled arrays\n",
    "def create_unscaled_arrays(data_folder_path, max_dimensions, sample_number, element_size, dimensionality=2):\n",
    "    ## gets the data from a sample dataframe and returns the input and output array\n",
    "    \n",
    "    # get dataframes\n",
    "    raw_input_df, raw_output_df = scale.get_sample_dfs(data_folder_path, sample_number)\n",
    "    \n",
    "    # translate dataframes\n",
    "    translated_input_df = translate_df(raw_input_df, max_dimensions)\n",
    "    translated_output_df = translate_df(raw_output_df, max_dimensions)\n",
    "\n",
    "    \n",
    "    # get material existence feature\n",
    "    material_existence = get_material_map_hard(translated_input_df, element_size, dimensionality)\n",
    "    material_existence = interpolate_array_spatially_2D(material_existence)\n",
    "\n",
    "    \n",
    "    # get input and output feature arrays\n",
    "    input_features_array = get_input_map(translated_input_df, element_size, material_existence, dimensionality)\n",
    "    output_features_array = get_output_map(translated_output_df, element_size,material_existence, dimensionality)\n",
    "\n",
    "    \n",
    "    # concatenate into arrays\n",
    "    concatenated_input = np.concatenate((material_existence, input_features_array), axis = 2)\n",
    "    concatenated_output = np.concatenate((material_existence, output_features_array), axis = 2)\n",
    "\n",
    "    \n",
    "    return concatenated_input, concatenated_output\n",
    "\n",
    "tic = time.time()\n",
    "\n",
    "concat_input, concat_output = create_unscaled_arrays(data_folder_path,  max_dims, 94, element_size, dimensionality = 2)\n",
    "\n",
    "print(time.time()-tic)"
   ]
  },
  {
   "cell_type": "markdown",
   "metadata": {},
   "source": [
    "One thing I've come to realize is that the way this is being done requires the computation to \"touch\" all the elements in the dataframe each time it has to check what the conditions are for a particular location in the tensor. An alternative would be to, instead of iterating through the tensor, iterate through the dataframe, and dynamically update the tensor for each new point. This removes the need for almost all of the if statements used as they are needed to control whether a certain location in the tensor contains selections. Alternatively, by iterating through the dataframe it is guaranteed that any point we go to in the tensor is by definition a material point. We need a function that gets the tensor location based on the coordinates in the dataframe,  and then gets all the data relevant to that dataframe location and correctly update the tensor based on it."
   ]
  },
  {
   "cell_type": "code",
   "execution_count": 358,
   "metadata": {},
   "outputs": [
    {
     "name": "stdout",
     "output_type": "stream",
     "text": [
      "8.22 ms ± 340 µs per loop (mean ± std. dev. of 7 runs, 100 loops each)\n",
      "1.0 3\n",
      "1.0\n"
     ]
    },
    {
     "data": {
      "text/html": [
       "<img src=\"data:image/png;base64,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\" alt=\"PNG image\"></img>"
      ],
      "text/plain": [
       "<IPython.core.display.HTML object>"
      ]
     },
     "metadata": {},
     "output_type": "display_data"
    }
   ],
   "source": [
    "## Create function that takes a sample df and returns the concatenated array\n",
    "def create_concat_array(sample_df, empty_array, element_size, dataframe_type):\n",
    "    ## takes a sample dataframe and creates the concatenated tensor with it\n",
    "    \n",
    "    ## initialize empty array copy\n",
    "    concat_array = empty_array.copy()\n",
    "    \n",
    "    ## get resolution of array\n",
    "    resolution = len(empty_array[0])\n",
    "\n",
    "    ## check dimensionality of array\n",
    "    if len(concat_array.shape) == 3:\n",
    "        dimensionality = 2\n",
    "        \n",
    "    if len(concat_array.shape) == 4:\n",
    "        dimensionality = 3\n",
    "\n",
    "    ## create dictionary to store number of nodes for each array location\n",
    "    nodes_dictionary = {}\n",
    "    \n",
    "    for i, row in enumerate(sample_df.itertuples()): #itertuples is much faster than iterrows\n",
    "        ## get spacial locations\n",
    "        x_loc, y_loc, z_loc = row.x_loc, row.y_loc, row.z_loc\n",
    "        \n",
    "        ## calculate tensor locations\n",
    "        ## points at the very edge of an element at the edge of the array \n",
    "        ## should fall to the previous index, not to the next\n",
    "        x = x_loc / element_size \n",
    "        y = y_loc / element_size \n",
    "        z = z_loc / element_size\n",
    "        \n",
    "        x,y,z = int(x), int(y), int(z)\n",
    "        \n",
    "        \n",
    "        ## check for upper edge case\n",
    "        if  x >= resolution:\n",
    "            x -= 1\n",
    "        if  y >= resolution:\n",
    "            y -= 1\n",
    "        if  z >= resolution:\n",
    "            z -= 1\n",
    "        \n",
    "        \n",
    "        ## create feature vector to update location\n",
    "        if dataframe_type.lower() == 'input':\n",
    "            feature_vector = np.array([1, row.x_disp, row.y_disp, row.z_disp, row.x_force, row.y_force, row.z_force])\n",
    "            \n",
    "        if dataframe_type.lower() == 'output':\n",
    "            feature_vector = np.array([1, row.x_disp, row.y_disp, row.z_disp])\n",
    "            \n",
    "        elif dataframe_type.lower() != 'input':\n",
    "            raise Exception(f'Incorrect dataframe type. Expected \\'input\\' or \\'output\\', got {dataframe_type}')\n",
    "       \n",
    "        ## update values at location\n",
    "        if dimensionality == 2:\n",
    "            \n",
    "           \n",
    "            try:\n",
    "                 ## update material existence\n",
    "                concat_array[x,y,0] = feature_vector[0]\n",
    "                \n",
    "                ## only do operation if there is a value to add\n",
    "                if any(feature_vector[1:] != 0.0):\n",
    "                    \n",
    "                    ## add displacements\n",
    "                    concat_array[x,y,1:4] += feature_vector[1:4]\n",
    "                    \n",
    "                    ## add forces if input\n",
    "                    if dataframe_type.lower() == 'input':\n",
    "                        concat_array[x,y,4:7] += feature_vector[4:7]\n",
    "                \n",
    "            except IndexError:\n",
    "                print(f'out of bounds, check sample at x:{x_loc} y:{y_loc} z:{z_loc}, indices {x,y,z}')\n",
    "               \n",
    "            \n",
    "            \n",
    "        elif dimensionality > 2:\n",
    "            raise Exception(f'Three dimensional or higher not implemented yet')\n",
    "        \n",
    "        ## add item to dictionary\n",
    "        ## control whether to create or update dictionary entry\n",
    "        if (x,y,z) in nodes_dictionary:\n",
    "            nodes_dictionary[(x,y,z)] +=1\n",
    "        else:\n",
    "            nodes_dictionary[(x,y,z)] = 1\n",
    "        \n",
    "    ## divide the displacements by the number of nodes\n",
    "    #for key in nodes_dictionary.keys():\n",
    "        #print(array[key], array[key]/nodes_dictionary[key])\n",
    "    \n",
    "    \n",
    "    ## smooth out material existence feature\n",
    "    concat_array[:,:,0:1] = interpolate_array_spatially_2D(concat_array[:,:,0:1])\n",
    "    return concat_array, nodes_dictionary\n",
    "\n",
    "\n",
    "empty_array_input = create_array(dimensionality = 2, features = 7)\n",
    "\n",
    "\n",
    "%timeit create_concat_array(translated_input, empty_array_input, element_size, dataframe_type = 'input')\n",
    "\n",
    "concat_array_input, div_dict = create_concat_array(translated_input, empty_array_input, element_size, dataframe_type = 'input')\n",
    "plot_2d(concat_array_input[:,:,0:1])\n",
    "\n"
   ]
  },
  {
   "cell_type": "markdown",
   "metadata": {},
   "source": [
    "The function above is equivalent to all of get_material_map_hard(), get_smoothed_map, Thus, this is a much much better approach to it. "
   ]
  },
  {
   "cell_type": "code",
   "execution_count": 340,
   "metadata": {},
   "outputs": [
    {
     "name": "stdout",
     "output_type": "stream",
     "text": [
      "0.00829497989962512 3\n",
      "1.0\n"
     ]
    },
    {
     "data": {
      "text/html": [
       "<img src=\"data:image/png;base64,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\" alt=\"PNG image\"></img>"
      ],
      "text/plain": [
       "<IPython.core.display.HTML object>"
      ]
     },
     "metadata": {},
     "output_type": "display_data"
    }
   ],
   "source": [
    "plot_2d(concat_array_input[:,:,1:2],contour=True, clear=False, edges=edges)"
   ]
  },
  {
   "cell_type": "code",
   "execution_count": 341,
   "metadata": {},
   "outputs": [
    {
     "name": "stdout",
     "output_type": "stream",
     "text": [
      "0.010894207494878938 3\n",
      "1.0\n"
     ]
    },
    {
     "data": {
      "text/html": [
       "<img src=\"data:image/png;base64,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\" alt=\"PNG image\"></img>"
      ],
      "text/plain": [
       "<IPython.core.display.HTML object>"
      ]
     },
     "metadata": {},
     "output_type": "display_data"
    }
   ],
   "source": [
    "plot_2d(concat_array_input[:,:,2:3],contour=True, clear=False, edges=edges)"
   ]
  },
  {
   "cell_type": "code",
   "execution_count": 346,
   "metadata": {},
   "outputs": [
    {
     "data": {
      "text/plain": [
       "dict_keys([(31, 17, 0), (30, 0, 0), (31, 16, 0), (31, 15, 0), (31, 14, 0), (31, 13, 0), (31, 12, 0), (31, 11, 0), (31, 9, 0), (31, 8, 0), (30, 7, 0), (30, 6, 0), (30, 5, 0), (30, 4, 0), (30, 3, 0), (30, 2, 0), (30, 1, 0), (16, 14, 0), (16, 15, 0), (17, 15, 0), (18, 15, 0), (19, 15, 0), (20, 15, 0), (21, 15, 0), (22, 15, 0), (23, 16, 0), (24, 16, 0), (25, 16, 0), (26, 16, 0), (27, 16, 0), (28, 16, 0), (29, 17, 0), (30, 17, 0), (29, 0, 0), (28, 1, 0), (28, 2, 0), (27, 2, 0), (27, 3, 0), (26, 4, 0), (25, 4, 0), (24, 5, 0), (24, 6, 0), (23, 7, 0), (22, 8, 0), (21, 9, 0), (20, 10, 0), (19, 10, 0), (19, 11, 0), (18, 12, 0), (17, 12, 0), (17, 13, 0), (29, 2, 0), (28, 6, 0), (26, 11, 0), (27, 14, 0), (28, 13, 0), (27, 6, 0), (27, 11, 0), (28, 12, 0), (27, 8, 0), (28, 5, 0), (26, 13, 0), (22, 12, 0), (29, 5, 0), (28, 14, 0), (24, 11, 0), (27, 13, 0), (25, 12, 0), (28, 7, 0), (29, 6, 0), (27, 15, 0), (28, 15, 0), (26, 14, 0), (23, 13, 0), (25, 13, 0), (19, 14, 0), (20, 13, 0), (21, 11, 0), (20, 12, 0), (22, 10, 0), (24, 10, 0), (26, 7, 0), (27, 5, 0), (28, 4, 0), (28, 8, 0), (28, 10, 0), (29, 12, 0), (29, 11, 0), (29, 15, 0), (29, 14, 0), (29, 3, 0), (30, 15, 0), (27, 9, 0), (30, 14, 0), (30, 13, 0), (30, 12, 0), (30, 11, 0), (30, 10, 0), (30, 9, 0), (29, 8, 0), (29, 7, 0), (28, 3, 0), (27, 4, 0), (26, 5, 0), (25, 6, 0), (24, 7, 0), (24, 8, 0), (23, 9, 0), (21, 10, 0), (20, 11, 0), (19, 12, 0), (18, 13, 0), (17, 14, 0), (18, 14, 0), (20, 14, 0), (21, 14, 0), (22, 14, 0), (23, 14, 0), (24, 15, 0), (25, 15, 0), (26, 15, 0), (29, 16, 0), (30, 16, 0), (29, 4, 0), (29, 1, 0), (27, 12, 0), (27, 10, 0), (25, 9, 0), (26, 10, 0), (25, 14, 0), (21, 13, 0), (26, 6, 0), (22, 13, 0), (21, 12, 0), (26, 8, 0), (29, 13, 0), (19, 13, 0), (31, 10, 0), (30, 8, 0), (22, 16, 0), (23, 15, 0), (26, 3, 0), (25, 5, 0), (23, 8, 0), (20, 9, 0), (18, 11, 0), (16, 13, 0), (26, 12, 0), (28, 11, 0), (27, 7, 0), (23, 12, 0), (22, 11, 0), (24, 12, 0), (25, 11, 0), (24, 13, 0), (24, 14, 0), (23, 10, 0), (24, 9, 0), (28, 9, 0), (29, 10, 0), (29, 9, 0), (26, 9, 0), (25, 7, 0), (22, 9, 0), (25, 10, 0), (25, 8, 0)])"
      ]
     },
     "execution_count": 346,
     "metadata": {},
     "output_type": "execute_result"
    }
   ],
   "source": [
    "div_dict.keys()"
   ]
  },
  {
   "cell_type": "markdown",
   "metadata": {},
   "source": [
    "Now with this function all we need to do is run through all the samples and save the arrays. Once the unscaled arrays are saved, we need to get the new maximum values in the sample (force only, as the maximum displacement can only be the same as the original displacement since it is an average), and finally scale the arrays and reshape them to the correct dimensions for the ConvNet"
   ]
  }
 ],
 "metadata": {
  "kernelspec": {
   "display_name": "Python 3",
   "language": "python",
   "name": "python3"
  },
  "language_info": {
   "codemirror_mode": {
    "name": "ipython",
    "version": 3
   },
   "file_extension": ".py",
   "mimetype": "text/x-python",
   "name": "python",
   "nbconvert_exporter": "python",
   "pygments_lexer": "ipython3",
   "version": "3.7.7"
  }
 },
 "nbformat": 4,
 "nbformat_minor": 4
}
