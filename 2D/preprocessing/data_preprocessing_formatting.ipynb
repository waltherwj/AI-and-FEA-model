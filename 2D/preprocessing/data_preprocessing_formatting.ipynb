{
 "cells": [
  {
   "cell_type": "code",
   "execution_count": 1,
   "metadata": {},
   "outputs": [
    {
     "name": "stdout",
     "output_type": "stream",
     "text": [
      "D:\\Ansys Simulations\\Project\\2D\\preprocessing\n"
     ]
    }
   ],
   "source": [
    "!cd"
   ]
  },
  {
   "cell_type": "markdown",
   "metadata": {},
   "source": [
    "## Formatting\n",
    "In this notebook, the objective is to explore and develop a way to transformed the scaled data into a relevant data format/file/shape that can be used for a 2d convolutional neural network. Ideally, what is desired is a file that can store tensors as spatial data and that can be used by a ConvNet.\n",
    "After some research, the conclusion is that the best way to do this is to format them as a 4D numpy array and saved as a .npy file so that they can be later quickly read into memory."
   ]
  },
  {
   "cell_type": "code",
   "execution_count": 692,
   "metadata": {},
   "outputs": [],
   "source": [
    "## Imports\n",
    "import numpy as np\n",
    "\n",
    "import PREPROCESSING_scaling as scale\n",
    "from pathlib import Path\n",
    "import pandas as pd\n",
    "import os, sys\n",
    "import torch.nn.functional as F\n",
    "import torch\n",
    "import warnings"
   ]
  },
  {
   "cell_type": "code",
   "execution_count": 2,
   "metadata": {},
   "outputs": [
    {
     "name": "stdout",
     "output_type": "stream",
     "text": [
      "Notebook initialized with png backend.\n"
     ]
    }
   ],
   "source": [
    "## 3d visualization import\n",
    "%gui qt\n",
    "from mayavi import mlab\n",
    "mlab.init_notebook('png')"
   ]
  },
  {
   "cell_type": "code",
   "execution_count": 709,
   "metadata": {},
   "outputs": [
    {
     "name": "stdout",
     "output_type": "stream",
     "text": [
      "splitting functions imported\n"
     ]
    },
    {
     "data": {
      "text/plain": [
       "<module 'PREPROCESSING_splitting' from 'D:\\\\Ansys Simulations\\\\Project\\\\2D\\\\preprocessing\\\\PREPROCESSING_splitting.py'>"
      ]
     },
     "execution_count": 709,
     "metadata": {},
     "output_type": "execute_result"
    }
   ],
   "source": [
    "from importlib import reload \n",
    "import PREPROCESSING_splitting as split\n",
    "reload(split)"
   ]
  },
  {
   "cell_type": "code",
   "execution_count": 3,
   "metadata": {},
   "outputs": [
    {
     "name": "stdout",
     "output_type": "stream",
     "text": [
      "UPDATED MAX \t sample #1 \t force: 0.00 \t displacement: 0.002053 \n",
      "UPDATED MAX \t sample #10 \t force: 152.79 \t displacement: 0.003020 \n",
      "UPDATED MAX \t sample #100 \t force: 152.79 \t displacement: 0.019382 \n",
      "UPDATED MAX \t sample #101 \t force: 242.87 \t displacement: 0.019382 \n",
      "UPDATED MAX \t sample #11 \t force: 287.27 \t displacement: 0.019382 \n",
      "UPDATED MAX \t sample #55 \t force: 295.32 \t displacement: 0.019382 \n"
     ]
    },
    {
     "data": {
      "text/html": [
       "<div>\n",
       "<style scoped>\n",
       "    .dataframe tbody tr th:only-of-type {\n",
       "        vertical-align: middle;\n",
       "    }\n",
       "\n",
       "    .dataframe tbody tr th {\n",
       "        vertical-align: top;\n",
       "    }\n",
       "\n",
       "    .dataframe thead th {\n",
       "        text-align: right;\n",
       "    }\n",
       "</style>\n",
       "<table border=\"1\" class=\"dataframe\">\n",
       "  <thead>\n",
       "    <tr style=\"text-align: right;\">\n",
       "      <th></th>\n",
       "      <th>node_number</th>\n",
       "      <th>named_selection</th>\n",
       "      <th>x_loc</th>\n",
       "      <th>y_loc</th>\n",
       "      <th>z_loc</th>\n",
       "      <th>x_disp</th>\n",
       "      <th>y_disp</th>\n",
       "      <th>z_disp</th>\n",
       "      <th>x_force</th>\n",
       "      <th>y_force</th>\n",
       "      <th>z_force</th>\n",
       "    </tr>\n",
       "  </thead>\n",
       "  <tbody>\n",
       "    <tr>\n",
       "      <th>170</th>\n",
       "      <td>171</td>\n",
       "      <td>-1</td>\n",
       "      <td>0.180590</td>\n",
       "      <td>0.242730</td>\n",
       "      <td>0.0</td>\n",
       "      <td>0.000000</td>\n",
       "      <td>0.000000</td>\n",
       "      <td>0.0</td>\n",
       "      <td>0.0</td>\n",
       "      <td>0.0</td>\n",
       "      <td>0.0</td>\n",
       "    </tr>\n",
       "    <tr>\n",
       "      <th>171</th>\n",
       "      <td>172</td>\n",
       "      <td>-1</td>\n",
       "      <td>0.138780</td>\n",
       "      <td>0.205680</td>\n",
       "      <td>0.0</td>\n",
       "      <td>0.000000</td>\n",
       "      <td>0.000000</td>\n",
       "      <td>0.0</td>\n",
       "      <td>0.0</td>\n",
       "      <td>0.0</td>\n",
       "      <td>0.0</td>\n",
       "    </tr>\n",
       "    <tr>\n",
       "      <th>172</th>\n",
       "      <td>173</td>\n",
       "      <td>-1</td>\n",
       "      <td>0.068634</td>\n",
       "      <td>0.123060</td>\n",
       "      <td>0.0</td>\n",
       "      <td>0.000000</td>\n",
       "      <td>0.000000</td>\n",
       "      <td>0.0</td>\n",
       "      <td>0.0</td>\n",
       "      <td>0.0</td>\n",
       "      <td>0.0</td>\n",
       "    </tr>\n",
       "    <tr>\n",
       "      <th>173</th>\n",
       "      <td>174</td>\n",
       "      <td>-1</td>\n",
       "      <td>0.054411</td>\n",
       "      <td>0.084662</td>\n",
       "      <td>0.0</td>\n",
       "      <td>0.000000</td>\n",
       "      <td>0.000000</td>\n",
       "      <td>0.0</td>\n",
       "      <td>0.0</td>\n",
       "      <td>0.0</td>\n",
       "      <td>0.0</td>\n",
       "    </tr>\n",
       "    <tr>\n",
       "      <th>174</th>\n",
       "      <td>175</td>\n",
       "      <td>-1</td>\n",
       "      <td>0.024266</td>\n",
       "      <td>0.072970</td>\n",
       "      <td>0.0</td>\n",
       "      <td>0.000000</td>\n",
       "      <td>0.000000</td>\n",
       "      <td>0.0</td>\n",
       "      <td>0.0</td>\n",
       "      <td>0.0</td>\n",
       "      <td>0.0</td>\n",
       "    </tr>\n",
       "    <tr>\n",
       "      <th>175</th>\n",
       "      <td>176</td>\n",
       "      <td>2</td>\n",
       "      <td>0.328590</td>\n",
       "      <td>0.694900</td>\n",
       "      <td>0.0</td>\n",
       "      <td>-0.050859</td>\n",
       "      <td>-0.107693</td>\n",
       "      <td>0.0</td>\n",
       "      <td>0.0</td>\n",
       "      <td>0.0</td>\n",
       "      <td>0.0</td>\n",
       "    </tr>\n",
       "    <tr>\n",
       "      <th>176</th>\n",
       "      <td>177</td>\n",
       "      <td>1</td>\n",
       "      <td>0.189800</td>\n",
       "      <td>0.568730</td>\n",
       "      <td>0.0</td>\n",
       "      <td>0.031275</td>\n",
       "      <td>-0.014854</td>\n",
       "      <td>0.0</td>\n",
       "      <td>0.0</td>\n",
       "      <td>0.0</td>\n",
       "      <td>0.0</td>\n",
       "    </tr>\n",
       "    <tr>\n",
       "      <th>177</th>\n",
       "      <td>178</td>\n",
       "      <td>1</td>\n",
       "      <td>0.127090</td>\n",
       "      <td>0.604280</td>\n",
       "      <td>0.0</td>\n",
       "      <td>0.031275</td>\n",
       "      <td>-0.014854</td>\n",
       "      <td>0.0</td>\n",
       "      <td>0.0</td>\n",
       "      <td>0.0</td>\n",
       "      <td>0.0</td>\n",
       "    </tr>\n",
       "    <tr>\n",
       "      <th>178</th>\n",
       "      <td>179</td>\n",
       "      <td>2</td>\n",
       "      <td>0.245740</td>\n",
       "      <td>0.732520</td>\n",
       "      <td>0.0</td>\n",
       "      <td>-0.050859</td>\n",
       "      <td>-0.107693</td>\n",
       "      <td>0.0</td>\n",
       "      <td>0.0</td>\n",
       "      <td>0.0</td>\n",
       "      <td>0.0</td>\n",
       "    </tr>\n",
       "    <tr>\n",
       "      <th>179</th>\n",
       "      <td>180</td>\n",
       "      <td>2</td>\n",
       "      <td>0.269410</td>\n",
       "      <td>0.625380</td>\n",
       "      <td>0.0</td>\n",
       "      <td>-0.050859</td>\n",
       "      <td>-0.107693</td>\n",
       "      <td>0.0</td>\n",
       "      <td>0.0</td>\n",
       "      <td>0.0</td>\n",
       "      <td>0.0</td>\n",
       "    </tr>\n",
       "    <tr>\n",
       "      <th>180</th>\n",
       "      <td>181</td>\n",
       "      <td>2</td>\n",
       "      <td>0.201990</td>\n",
       "      <td>0.666000</td>\n",
       "      <td>0.0</td>\n",
       "      <td>-0.050859</td>\n",
       "      <td>-0.107693</td>\n",
       "      <td>0.0</td>\n",
       "      <td>0.0</td>\n",
       "      <td>0.0</td>\n",
       "      <td>0.0</td>\n",
       "    </tr>\n",
       "    <tr>\n",
       "      <th>181</th>\n",
       "      <td>182</td>\n",
       "      <td>-1</td>\n",
       "      <td>0.092572</td>\n",
       "      <td>0.335460</td>\n",
       "      <td>0.0</td>\n",
       "      <td>0.000000</td>\n",
       "      <td>0.000000</td>\n",
       "      <td>0.0</td>\n",
       "      <td>0.0</td>\n",
       "      <td>0.0</td>\n",
       "      <td>0.0</td>\n",
       "    </tr>\n",
       "    <tr>\n",
       "      <th>182</th>\n",
       "      <td>183</td>\n",
       "      <td>-1</td>\n",
       "      <td>0.667620</td>\n",
       "      <td>0.799740</td>\n",
       "      <td>0.0</td>\n",
       "      <td>0.000000</td>\n",
       "      <td>0.000000</td>\n",
       "      <td>0.0</td>\n",
       "      <td>0.0</td>\n",
       "      <td>0.0</td>\n",
       "      <td>0.0</td>\n",
       "    </tr>\n",
       "    <tr>\n",
       "      <th>183</th>\n",
       "      <td>184</td>\n",
       "      <td>3</td>\n",
       "      <td>0.400010</td>\n",
       "      <td>0.799620</td>\n",
       "      <td>0.0</td>\n",
       "      <td>-0.008180</td>\n",
       "      <td>-0.006119</td>\n",
       "      <td>0.0</td>\n",
       "      <td>0.0</td>\n",
       "      <td>0.0</td>\n",
       "      <td>0.0</td>\n",
       "    </tr>\n",
       "    <tr>\n",
       "      <th>184</th>\n",
       "      <td>185</td>\n",
       "      <td>-1</td>\n",
       "      <td>-0.002717</td>\n",
       "      <td>0.596150</td>\n",
       "      <td>0.0</td>\n",
       "      <td>0.000000</td>\n",
       "      <td>0.000000</td>\n",
       "      <td>0.0</td>\n",
       "      <td>0.0</td>\n",
       "      <td>0.0</td>\n",
       "      <td>0.0</td>\n",
       "    </tr>\n",
       "    <tr>\n",
       "      <th>185</th>\n",
       "      <td>186</td>\n",
       "      <td>-1</td>\n",
       "      <td>0.151650</td>\n",
       "      <td>0.357250</td>\n",
       "      <td>0.0</td>\n",
       "      <td>0.000000</td>\n",
       "      <td>0.000000</td>\n",
       "      <td>0.0</td>\n",
       "      <td>0.0</td>\n",
       "      <td>0.0</td>\n",
       "      <td>0.0</td>\n",
       "    </tr>\n",
       "    <tr>\n",
       "      <th>186</th>\n",
       "      <td>187</td>\n",
       "      <td>1</td>\n",
       "      <td>0.239610</td>\n",
       "      <td>0.530310</td>\n",
       "      <td>0.0</td>\n",
       "      <td>0.031275</td>\n",
       "      <td>-0.014854</td>\n",
       "      <td>0.0</td>\n",
       "      <td>0.0</td>\n",
       "      <td>0.0</td>\n",
       "      <td>0.0</td>\n",
       "    </tr>\n",
       "    <tr>\n",
       "      <th>187</th>\n",
       "      <td>188</td>\n",
       "      <td>1</td>\n",
       "      <td>0.131800</td>\n",
       "      <td>0.432240</td>\n",
       "      <td>0.0</td>\n",
       "      <td>0.031275</td>\n",
       "      <td>-0.014854</td>\n",
       "      <td>0.0</td>\n",
       "      <td>0.0</td>\n",
       "      <td>0.0</td>\n",
       "      <td>0.0</td>\n",
       "    </tr>\n",
       "    <tr>\n",
       "      <th>188</th>\n",
       "      <td>189</td>\n",
       "      <td>-1</td>\n",
       "      <td>0.572190</td>\n",
       "      <td>0.728220</td>\n",
       "      <td>0.0</td>\n",
       "      <td>0.000000</td>\n",
       "      <td>0.000000</td>\n",
       "      <td>0.0</td>\n",
       "      <td>0.0</td>\n",
       "      <td>0.0</td>\n",
       "      <td>0.0</td>\n",
       "    </tr>\n",
       "  </tbody>\n",
       "</table>\n",
       "</div>"
      ],
      "text/plain": [
       "     node_number  named_selection     x_loc     y_loc  z_loc    x_disp  \\\n",
       "170          171               -1  0.180590  0.242730    0.0  0.000000   \n",
       "171          172               -1  0.138780  0.205680    0.0  0.000000   \n",
       "172          173               -1  0.068634  0.123060    0.0  0.000000   \n",
       "173          174               -1  0.054411  0.084662    0.0  0.000000   \n",
       "174          175               -1  0.024266  0.072970    0.0  0.000000   \n",
       "175          176                2  0.328590  0.694900    0.0 -0.050859   \n",
       "176          177                1  0.189800  0.568730    0.0  0.031275   \n",
       "177          178                1  0.127090  0.604280    0.0  0.031275   \n",
       "178          179                2  0.245740  0.732520    0.0 -0.050859   \n",
       "179          180                2  0.269410  0.625380    0.0 -0.050859   \n",
       "180          181                2  0.201990  0.666000    0.0 -0.050859   \n",
       "181          182               -1  0.092572  0.335460    0.0  0.000000   \n",
       "182          183               -1  0.667620  0.799740    0.0  0.000000   \n",
       "183          184                3  0.400010  0.799620    0.0 -0.008180   \n",
       "184          185               -1 -0.002717  0.596150    0.0  0.000000   \n",
       "185          186               -1  0.151650  0.357250    0.0  0.000000   \n",
       "186          187                1  0.239610  0.530310    0.0  0.031275   \n",
       "187          188                1  0.131800  0.432240    0.0  0.031275   \n",
       "188          189               -1  0.572190  0.728220    0.0  0.000000   \n",
       "\n",
       "       y_disp  z_disp  x_force  y_force  z_force  \n",
       "170  0.000000     0.0      0.0      0.0      0.0  \n",
       "171  0.000000     0.0      0.0      0.0      0.0  \n",
       "172  0.000000     0.0      0.0      0.0      0.0  \n",
       "173  0.000000     0.0      0.0      0.0      0.0  \n",
       "174  0.000000     0.0      0.0      0.0      0.0  \n",
       "175 -0.107693     0.0      0.0      0.0      0.0  \n",
       "176 -0.014854     0.0      0.0      0.0      0.0  \n",
       "177 -0.014854     0.0      0.0      0.0      0.0  \n",
       "178 -0.107693     0.0      0.0      0.0      0.0  \n",
       "179 -0.107693     0.0      0.0      0.0      0.0  \n",
       "180 -0.107693     0.0      0.0      0.0      0.0  \n",
       "181  0.000000     0.0      0.0      0.0      0.0  \n",
       "182  0.000000     0.0      0.0      0.0      0.0  \n",
       "183 -0.006119     0.0      0.0      0.0      0.0  \n",
       "184  0.000000     0.0      0.0      0.0      0.0  \n",
       "185  0.000000     0.0      0.0      0.0      0.0  \n",
       "186 -0.014854     0.0      0.0      0.0      0.0  \n",
       "187 -0.014854     0.0      0.0      0.0      0.0  \n",
       "188  0.000000     0.0      0.0      0.0      0.0  "
      ]
     },
     "metadata": {},
     "output_type": "display_data"
    }
   ],
   "source": [
    "## load in and scale  a sample\n",
    "\n",
    "data_folder_path =  Path('D:/Ansys Simulations/Project/2D/data') \n",
    "\n",
    "# get data\n",
    "raw_input_data, raw_output_data = scale.get_sample_dfs(data_folder_path, 26)\n",
    "\n",
    "max_force, max_disp = scale.get_max_disp_force(data_folder_path)\n",
    "\n",
    "scaled_input_data = scale.scale_dataframe(raw_input_data, max_force, max_disp)\n",
    "with pd.option_context(\"display.max_rows\", None):\n",
    "    display(scaled_input_data.iloc[170:189,:])"
   ]
  },
  {
   "cell_type": "markdown",
   "metadata": {},
   "source": [
    "To run the convolutional layer on the data, the data has to be converted from the positions table into an object that represents the element's positions in a way that a convolutional kernel is able to understand positional relationships. Looking at the 3D data files generated, there seem to be about 10000 nodes on each of those samples (although the intent is to decrease it later to speed up sample creation). With this in mind, and knowing that most of the samples have a relatively similar volume, choosing a size of 32x32x32 entries in which to split the data is an arbitrary choice which seems to lead to a good balance of nodal specificity, averaging and processing time for the network. \n",
    "\n",
    "The fourth dimension's size depends on the amount of features. For directional data such as displacement and forces, there are three components per type. On top of that, one more feature is created which is the \"existence\" feature, which encodes whether a certain \"volume\" in space contains material from the element or not, varying from 0 (no material) to 1 (filled with  material). It is only different than 1 or 0 on the edges/faces of the element. "
   ]
  },
  {
   "cell_type": "code",
   "execution_count": 4,
   "metadata": {},
   "outputs": [],
   "source": [
    "## Create an empty numpy array with the correct dimensions\n",
    "def create_array(dimensionality, features, resolution = 32):\n",
    "    ## returns an array of zeros for the correct type of model specified with the dimensionality and the features\n",
    "    positional_shape = [resolution]*dimensionality\n",
    "    shape = positional_shape + [features]\n",
    "    array = np.zeros(shape)\n",
    "    return array"
   ]
  },
  {
   "cell_type": "code",
   "execution_count": 5,
   "metadata": {},
   "outputs": [
    {
     "name": "stdout",
     "output_type": "stream",
     "text": [
      "(35, 35, 35, 6)\n",
      "(32, 32, 4)\n"
     ]
    }
   ],
   "source": [
    "print(create_array(3,6, 35).shape)\n",
    "print(create_array(2,4).shape)\n"
   ]
  },
  {
   "cell_type": "markdown",
   "metadata": {},
   "source": [
    "To correctly distribute the data inside of the tensor, it is necessary to get the maximum positional dimensions of the dataset so that every sample actually fits inside of the tensor"
   ]
  },
  {
   "cell_type": "code",
   "execution_count": 239,
   "metadata": {},
   "outputs": [],
   "source": [
    "## Create function to run through all data and get max values of dimensions\n",
    "def get_max_dimensions(samples_folder_path):\n",
    "    ## iterates through all data to get the max dimensions\n",
    "    samples = scale.sample_iterator(samples_folder_path)\n",
    "    \n",
    "    max_x = 0\n",
    "    max_y = 0\n",
    "    max_z = 0\n",
    "    \n",
    "    for sample in samples:\n",
    "        sample_number, input_data, output_data = sample\n",
    "        #print(samples)\n",
    "        \n",
    "        ## run through all data\n",
    "        # first absolute, then max in the columns \n",
    "        updated = False\n",
    "        \n",
    "        ## get ranges of data in sample\n",
    "        range_x = [input_data.loc[:,['x_loc']].max().item(), input_data.loc[:,['x_loc']].min().item()]\n",
    "        max_x_temp = abs(range_x[0] - range_x[1])\n",
    "        \n",
    "        range_y = [input_data.loc[:,['y_loc']].max().item(), input_data.loc[:,['y_loc']].min().item()]\n",
    "        max_y_temp = abs(range_y[0] - range_y[1])\n",
    "        \n",
    "        range_z = [input_data.loc[:,['z_loc']].max().item(), input_data.loc[:,['z_loc']].min().item()]\n",
    "        max_z = abs(range_z[0] - range_z[1])\n",
    "        \n",
    "        max_y_temp, max_z_temp = input_data.loc[:,['y_loc','z_loc']].abs().max()\n",
    "        \n",
    "        if max_x_temp > max_x:\n",
    "            max_x = max_x_temp\n",
    "            updated = True\n",
    "            \n",
    "        if max_y_temp > max_y:\n",
    "            max_y = max_y_temp\n",
    "            updated = True\n",
    "            \n",
    "        if max_z_temp > max_z:\n",
    "            max_z = max_z_temp\n",
    "            updated = True\n",
    "            \n",
    "        if updated:\n",
    "            print(f'UPDATED MAX \\t sample #{sample_number} \\t x: {max_x:.4f} \\t y: {max_y:.4f} \\t z: {max_z:.4f}')\n",
    "            \n",
    "    return max_x, max_y, max_z"
   ]
  },
  {
   "cell_type": "code",
   "execution_count": 240,
   "metadata": {},
   "outputs": [
    {
     "name": "stdout",
     "output_type": "stream",
     "text": [
      "UPDATED MAX \t sample #1 \t x: 0.9692 \t y: 1.1906 \t z: 0.0000\n",
      "UPDATED MAX \t sample #10 \t x: 1.0849 \t y: 1.1906 \t z: 0.0000\n",
      "UPDATED MAX \t sample #100 \t x: 1.4374 \t y: 1.3295 \t z: 0.0000\n",
      "UPDATED MAX \t sample #101 \t x: 1.4374 \t y: 1.4031 \t z: 0.0000\n",
      "UPDATED MAX \t sample #102 \t x: 1.6833 \t y: 1.4031 \t z: 0.0000\n",
      "UPDATED MAX \t sample #12 \t x: 1.7286 \t y: 1.4031 \t z: 0.0000\n",
      "UPDATED MAX \t sample #50 \t x: 1.7286 \t y: 1.4830 \t z: 0.0000\n"
     ]
    }
   ],
   "source": [
    "max_dims = get_max_dimensions(data_folder_path)"
   ]
  },
  {
   "cell_type": "code",
   "execution_count": 8,
   "metadata": {},
   "outputs": [],
   "source": [
    "class HiddenPrints:\n",
    "    def __enter__(self):\n",
    "        self._original_stdout = sys.stdout\n",
    "        sys.stdout = open(os.devnull, 'w')\n",
    "\n",
    "    def __exit__(self, exc_type, exc_val, exc_tb):\n",
    "        sys.stdout.close()\n",
    "        sys.stdout = self._original_stdout"
   ]
  },
  {
   "cell_type": "code",
   "execution_count": 273,
   "metadata": {},
   "outputs": [],
   "source": [
    "#create function that creates an element size for the resolution\n",
    "def get_element_size(samples_folder_path, resolution = 32):\n",
    "    ## runs through all samples to get the element size based on the resolution\n",
    "    with HiddenPrints():\n",
    "        max_x, max_y, max_z = get_max_dimensions(samples_folder_path)\n",
    "    \n",
    "    largest_dim = max([max_x, max_y, max_z])\n",
    "   \n",
    "    element_size = largest_dim/resolution\n",
    "    \n",
    "    return element_size"
   ]
  },
  {
   "cell_type": "code",
   "execution_count": 274,
   "metadata": {},
   "outputs": [],
   "source": [
    "element_size = get_element_size(data_folder_path)"
   ]
  },
  {
   "cell_type": "markdown",
   "metadata": {},
   "source": [
    "I just realized that the scaling step performed earlier on the pandas dataframe is of no use since there is no guarantee that two nodes aren't going to fall in the same element, and thus the data must be re-scaled after it has been fitted into the new format, as the maximums will change. This will be implemented later, and the previous scaling function will be considered deprecated."
   ]
  },
  {
   "cell_type": "code",
   "execution_count": 11,
   "metadata": {},
   "outputs": [],
   "source": [
    "## create function that takes  the element size and a tensor index and uses it to get\n",
    "## node indices that match that location from a sample.\n",
    "def get_dataframe_indices(element_size, sample_df, x, y, z=0, Is_2D=True):\n",
    "    ## create function that takes  the element size and a tensor index and uses it to get\n",
    "    ## dataframe indices that match that spatial location from a sample\n",
    "    \n",
    "    ## gets range of values\n",
    "    x_range = [x*element_size, (x+1)*element_size]\n",
    "    y_range = [y*element_size, (y+1)*element_size]   \n",
    "    \n",
    "    #get indices\n",
    "    if Is_2D:\n",
    "        indices = np.where((sample_df['x_loc'].values>=x_range[0]) & (sample_df['x_loc'].values<x_range[1])\\\n",
    "                          & (sample_df['y_loc'].values>=y_range[0]) & (sample_df['y_loc'].values<y_range[1]))\n",
    "    \n",
    "\n",
    "    if not(Is_2D):\n",
    "        z_range = [z*element_size, (z+1)*element_size]\n",
    "        indices = np.where((sample_df['x_loc'].values>=x_range[0]) & (sample_df['x_loc'].values<x_range[1])\\\n",
    "                          & (sample_df['y_loc'].values>=y_range[0]) & (sample_df['y_loc'].values<y_range[1])\\\n",
    "                          & (sample_df['z_loc'].values>=z_range[0]) & (sample_df['z_loc'].values<z_range[1]))\n",
    "   \n",
    "    # print(indices) uncomment to show selected indices\n",
    "\n",
    "    return indices[0]"
   ]
  },
  {
   "cell_type": "code",
   "execution_count": 12,
   "metadata": {},
   "outputs": [
    {
     "name": "stdout",
     "output_type": "stream",
     "text": [
      "0.0009639263153076172\n",
      "[137 453 455 511]\n"
     ]
    }
   ],
   "source": [
    "import time\n",
    "tic = time.time()\n",
    "get_dataframe_indices(element_size, raw_input_data, 0,4)\n",
    "toc = time.time()\n",
    "print(toc-tic)\n",
    "print(get_dataframe_indices(element_size, raw_input_data, 0,4))"
   ]
  },
  {
   "cell_type": "code",
   "execution_count": 14,
   "metadata": {},
   "outputs": [
    {
     "name": "stdout",
     "output_type": "stream",
     "text": [
      "298 µs ± 6.59 µs per loop (mean ± std. dev. of 7 runs, 1000 loops each)\n",
      "9.11 µs ± 312 ns per loop (mean ± std. dev. of 7 runs, 100000 loops each)\n"
     ]
    },
    {
     "data": {
      "text/plain": [
       "numpy.ndarray"
      ]
     },
     "execution_count": 14,
     "metadata": {},
     "output_type": "execute_result"
    }
   ],
   "source": [
    "## testing series.between and np.where\n",
    "\n",
    "\n",
    "time_test_series = pd.Series(np.random.rand(1000), name = 'test_series')\n",
    "\n",
    "%timeit time_test_series.between(0.25, 0.75)\n",
    "\n",
    "%timeit np.where((time_test_series.values>=0.25)&(time_test_series.values<=0.75))\n",
    "\n",
    "type(time_test_series.values)"
   ]
  },
  {
   "cell_type": "code",
   "execution_count": 26,
   "metadata": {},
   "outputs": [
    {
     "name": "stdout",
     "output_type": "stream",
     "text": [
      "['D:\\\\Ansys Simulations\\\\Project\\\\2D\\\\preprocessing', 'D:\\\\Anaconda3_2nd\\\\envs\\\\AI_FEA\\\\python37.zip', 'D:\\\\Anaconda3_2nd\\\\envs\\\\AI_FEA\\\\DLLs', 'D:\\\\Anaconda3_2nd\\\\envs\\\\AI_FEA\\\\lib', 'D:\\\\Anaconda3_2nd\\\\envs\\\\AI_FEA', '', 'D:\\\\Anaconda3_2nd\\\\envs\\\\AI_FEA\\\\lib\\\\site-packages', 'D:\\\\Anaconda3_2nd\\\\envs\\\\AI_FEA\\\\lib\\\\site-packages\\\\win32', 'D:\\\\Anaconda3_2nd\\\\envs\\\\AI_FEA\\\\lib\\\\site-packages\\\\win32\\\\lib', 'D:\\\\Anaconda3_2nd\\\\envs\\\\AI_FEA\\\\lib\\\\site-packages\\\\Pythonwin', 'D:\\\\Anaconda3_2nd\\\\envs\\\\AI_FEA\\\\lib\\\\site-packages\\\\IPython\\\\extensions', 'C:\\\\Users\\\\Owner\\\\.ipython']\n",
      "326 ms ± 3.6 ms per loop (mean ± std. dev. of 7 runs, 1 loop each)\n"
     ]
    }
   ],
   "source": [
    "time_test_series = pd.Series(np.random.rand(10000*1000), name = 'test_series')\n",
    "print(sys.path)\n",
    "from sortedcontainers import SortedList\n",
    "def NumbersWithinRange(items, lower, upper):\n",
    "    start = items.bisect(lower)\n",
    "    end = items.bisect_right(upper)\n",
    "    return items[start:end]\n",
    "data = SortedList(time_test_series.values)\n",
    "%timeit subset = NumbersWithinRange(data, 0.25, 0.75)\n",
    "\n"
   ]
  },
  {
   "cell_type": "markdown",
   "metadata": {},
   "source": [
    "The conclusion is that for the sample sizes used, it is never worth it to sort the list, not even with large batch sizes. A very interesting find however is that numpy.where is much faster than series.between, by as much as 32 times for the 2D case, and 5 times for the 3d case, and the function is going to be adjusted accordingly"
   ]
  },
  {
   "cell_type": "markdown",
   "metadata": {},
   "source": [
    "To be able to assign the correct position for the element inside of the tensor, the quadrant(2d)/octant(3d) it was created in must be determined. If the element wasn't created in a discernible quadrant in mind, it is still necessary to assign a equivalent one to it to position it inside of the tensor"
   ]
  },
  {
   "cell_type": "code",
   "execution_count": 15,
   "metadata": {},
   "outputs": [],
   "source": [
    "## create function to choose equivalent octant \n",
    "def get_quadrant(sample_df):\n",
    "    ## gets the sample's main octant by returning a 3 component vector that points to that octant. \n",
    "    ## a zero in the last component means that it is a 2d problem and thus it points to a 2d \n",
    "    ## quadrant\n",
    "    \n",
    "    #gets the maximum absolute values\n",
    "    max_x_abs, max_y_abs, max_z_abs = sample_df.loc[:,['x_loc','y_loc','z_loc']].abs().max()\n",
    "    \n",
    "    ## checks if 2d or 3d problem\n",
    "    Is_2D = True\n",
    "    if max_z_abs != 0:\n",
    "        Is_2D = False\n",
    "    ## get index of the maximum absolute values\n",
    "    x_index = np.where(sample_df.loc[:,['x_loc']].abs().values.squeeze() == [max_x_abs])\n",
    "    y_index = np.where(sample_df.loc[:,['y_loc']].abs().values.squeeze() == [max_y_abs])\n",
    "    if not(Is_2D):\n",
    "        z_index = np.where(sample_df.loc[:,['z_loc']].abs().values.squeeze() == [max_z_abs])\n",
    "    else:\n",
    "        z_index = [[0]]\n",
    "        \n",
    "    ## gets the value in that index\n",
    "    values = np.array([sample_df.loc[x_index[0],['x_loc']].values[0][0],\n",
    "                      sample_df.loc[y_index[0],['y_loc']].values[0][0],\n",
    "                      sample_df.loc[z_index[0],['z_loc']].values[0][0]])\n",
    "    \n",
    "    ## create array with information about the octant via a vector\n",
    "    octant = np.zeros(3)\n",
    "    octant[0:2] =  values[0:2]/abs(values[0:2])\n",
    "    if not(Is_2D):\n",
    "        octant[2] = values[2]/abs(values[2])\n",
    "    \n",
    "    return octant"
   ]
  },
  {
   "cell_type": "code",
   "execution_count": 16,
   "metadata": {},
   "outputs": [
    {
     "data": {
      "text/plain": [
       "array([1., 1., 0.])"
      ]
     },
     "execution_count": 16,
     "metadata": {},
     "output_type": "execute_result"
    }
   ],
   "source": [
    "get_quadrant(raw_input_data)"
   ]
  },
  {
   "cell_type": "markdown",
   "metadata": {},
   "source": [
    "Knowing in which octant the element was created in, it can be translated to the correct position. The idea is that, depending on the octant, the element was created in, it is going to be 'pressed against' a certain corner of the tensor. It is going to be translated to touch the \"edges\" of the tensor that correnspond to the planes it would be closest on the coordinate axis system it was created. So if it was created on the $(-x,-y,z)$ octant, for instance, it would be pressed the bottom, right, front corner of the cube shaped tensor. Illustratively, for some of the octants:\n",
    "$$\n",
    "(x,  y  ,z) \\rightarrow (left, back, bottom) : stays \\space in \\space place\n",
    "$$\n",
    "$$\n",
    "(-x, y, -z) \\rightarrow (right, back, top) : moves \\space right \\space and\\space up\n",
    "$$\n",
    "$$\n",
    "(x,  y, -z) \\rightarrow (left, back, top) : moves\\space up\n",
    "$$"
   ]
  },
  {
   "cell_type": "code",
   "execution_count": 597,
   "metadata": {},
   "outputs": [],
   "source": [
    "## create function to translate the dataframe\n",
    "def  translate_df(sample_df, max_dimensions):\n",
    "    ## gets a dataframe and translates the values to the correct position to place in the tensor\n",
    "    \n",
    "    octant = get_quadrant(sample_df)\n",
    "    \n",
    "    df_temp = sample_df.copy()\n",
    "    largest_dim = max(*max_dimensions)\n",
    "    \n",
    "    ## general translation: translates according to the overall octant\n",
    "    for i, direction in enumerate(octant):\n",
    "        direction_is_negative = direction < 0\n",
    "        if direction_is_negative:\n",
    "            if i == 0:\n",
    "                df_temp.loc[:,['x_loc']] = df_temp.loc[:,['x_loc']] + largest_dim - df_temp.loc[:,['x_loc']].max().item()\n",
    "            if i == 1:\n",
    "                df_temp.loc[:,['y_loc']] = df_temp.loc[:,['y_loc']] + largest_dim - df_temp.loc[:,['y_loc']].max().item()\n",
    "            if i == 2:\n",
    "                df_temp.loc[:,['z_loc']] = df_temp.loc[:,['z_loc']] + largest_dim - df_temp.loc[:,['z_loc']].max().item()\n",
    "        \n",
    "        ## minor translation: if some parts of the element are still \"sticking out\"\n",
    "        ## after the general translation, move it just enough to ensure that it fits inside\n",
    "        if not(direction_is_negative):\n",
    "            min_val = df_temp.loc[:,['x_loc','y_loc', 'z_loc']].iloc[:, i].min()\n",
    "            \n",
    "            if min_val < 0.0:\n",
    "                if i == 0:\n",
    "                    df_temp.loc[:,['x_loc']] = df_temp.loc[:,['x_loc']] + abs(min_val)\n",
    "                    #print('0',min_val)\n",
    "                if i == 1:\n",
    "                    df_temp.loc[:,['y_loc']] = df_temp.loc[:,['y_loc']] + abs(min_val)\n",
    "                    #print('1',min_val)\n",
    "                if i == 2:\n",
    "                    df_temp.loc[:,['z_loc']] = df_temp.loc[:,['z_loc']] + abs(min_val)\n",
    "                    #print('2',min_val)\n",
    "    \n",
    "    return df_temp\n",
    "    "
   ]
  },
  {
   "cell_type": "code",
   "execution_count": 245,
   "metadata": {},
   "outputs": [
    {
     "name": "stdout",
     "output_type": "stream",
     "text": [
      "5 -1.0 1.0 0.0 147.057785998219 166.069570297962 0.0\n",
      "8 -1.0 -1.0 0.0 165.698447240186 180.861165769649 0.0\n",
      "10 1.0 -1.0 0.0 152.792507663102 149.394579407457 0.0\n",
      "15 -1.0 -1.0 0.0 138.97977625039 156.61245154979798 0.0\n",
      "20 1.0 -1.0 0.0 91.1172765751173 187.122590501032 0.0\n",
      "21 -1.0 -1.0 0.0 138.145651166089 126.12108402020701 0.0\n",
      "23 -1.0 -1.0 0.0 163.900071094067 133.07615813741998 0.0\n",
      "31 1.0 -1.0 0.0 105.407586881892 59.9006837464504 0.0\n",
      "36 -1.0 1.0 0.0 160.540277786926 170.186700495539 0.0\n",
      "38 -1.0 1.0 0.0 234.138251395289 226.32566627417003 0.0\n",
      "41 -1.0 -1.0 0.0 62.000345022583296 166.981790863262 0.0\n",
      "46 1.0 -1.0 0.0 74.7446597298995 145.147086650578 0.0\n",
      "50 -1.0 1.0 0.0 84.83573227097429 58.385501816370706 0.0\n",
      "57 -1.0 -1.0 0.0 125.00876677717599 46.33362350697951 0.0\n",
      "59 -1.0 -1.0 0.0 195.693407955974 184.73811030351501 0.0\n",
      "77 -1.0 1.0 0.0 116.038541978898 149.608142012566 0.0\n",
      "78 -1.0 -1.0 0.0 210.29009486446603 159.92444563545 0.0\n",
      "79 1.0 -1.0 0.0 206.21058150825002 144.815955238538 0.0\n",
      "83 -1.0 -1.0 0.0 103.35230101666201 275.69397493229803 0.0\n",
      "88 -1.0 -1.0 0.0 197.799634358471 169.72604305195802 0.0\n",
      "89 1.0 -1.0 0.0 66.48105649413411 56.56666330489721 0.0\n",
      "90 -1.0 -1.0 0.0 151.20249396231898 129.58803940489202 0.0\n",
      "91 -1.0 1.0 0.0 145.313205302229 73.2081787169615 0.0\n",
      "92 -1.0 1.0 0.0 55.4039325717418 95.14141428113821 0.0\n",
      "94 -1.0 1.0 0.0 132.130914858501 104.46715758555099 0.0\n",
      "98 1.0 -1.0 0.0 168.611360638306 116.989817343682 0.0\n",
      "101 1.0 -1.0 0.0 242.87085682452096 48.8122048585366 0.0\n",
      "102 -1.0 1.0 0.0 193.929914639304 105.687558977663 0.0\n",
      "103 -1.0 1.0 0.0 135.582521558594 186.765977738806 0.0\n"
     ]
    }
   ],
   "source": [
    "## find all the samples that are good examples for testing\n",
    "for i in range(1,104):\n",
    "    try:\n",
    "        raw_input_data_octant, _ = scale.get_sample_dfs(data_folder_path, i)\n",
    "        translated_input = translate_df(raw_input_data_octant, max_dims)\n",
    "        force_condition = any(translated_input.loc[:,['x_force','y_force','z_force']].abs().max()!=0)\n",
    "        quadrant_condition = any(get_quadrant(raw_input_data_octant) < 0.0)\n",
    "        if force_condition and quadrant_condition:\n",
    "            print(i, *get_quadrant(raw_input_data_octant), *translated_input.loc[:,['x_force','y_force','z_force']].abs().max())\n",
    "    except UnboundLocalError:\n",
    "        pass"
   ]
  },
  {
   "cell_type": "code",
   "execution_count": 573,
   "metadata": {},
   "outputs": [
    {
     "name": "stdout",
     "output_type": "stream",
     "text": [
      "x_loc   -0.30444\n",
      "y_loc    0.00000\n",
      "z_loc    0.00000\n",
      "dtype: float64\n",
      "x_loc    0.81793\n",
      "y_loc    1.17330\n",
      "z_loc    0.00000\n",
      "dtype: float64\n"
     ]
    },
    {
     "data": {
      "text/html": [
       "<div>\n",
       "<style scoped>\n",
       "    .dataframe tbody tr th:only-of-type {\n",
       "        vertical-align: middle;\n",
       "    }\n",
       "\n",
       "    .dataframe tbody tr th {\n",
       "        vertical-align: top;\n",
       "    }\n",
       "\n",
       "    .dataframe thead th {\n",
       "        text-align: right;\n",
       "    }\n",
       "</style>\n",
       "<table border=\"1\" class=\"dataframe\">\n",
       "  <thead>\n",
       "    <tr style=\"text-align: right;\">\n",
       "      <th></th>\n",
       "      <th>node_number</th>\n",
       "      <th>named_selection</th>\n",
       "      <th>x_loc</th>\n",
       "      <th>y_loc</th>\n",
       "      <th>z_loc</th>\n",
       "      <th>x_disp</th>\n",
       "      <th>y_disp</th>\n",
       "      <th>z_disp</th>\n",
       "      <th>x_force</th>\n",
       "      <th>y_force</th>\n",
       "      <th>z_force</th>\n",
       "    </tr>\n",
       "  </thead>\n",
       "  <tbody>\n",
       "    <tr>\n",
       "      <th>0</th>\n",
       "      <td>1</td>\n",
       "      <td>1</td>\n",
       "      <td>-0.304440</td>\n",
       "      <td>1.17330</td>\n",
       "      <td>0.0</td>\n",
       "      <td>-0.001498</td>\n",
       "      <td>0.000396</td>\n",
       "      <td>0.0</td>\n",
       "      <td>0.0</td>\n",
       "      <td>0.0</td>\n",
       "      <td>0.0</td>\n",
       "    </tr>\n",
       "    <tr>\n",
       "      <th>1</th>\n",
       "      <td>2</td>\n",
       "      <td>-1</td>\n",
       "      <td>0.000000</td>\n",
       "      <td>0.00000</td>\n",
       "      <td>0.0</td>\n",
       "      <td>0.000000</td>\n",
       "      <td>0.000000</td>\n",
       "      <td>0.0</td>\n",
       "      <td>0.0</td>\n",
       "      <td>0.0</td>\n",
       "      <td>0.0</td>\n",
       "    </tr>\n",
       "    <tr>\n",
       "      <th>2</th>\n",
       "      <td>3</td>\n",
       "      <td>1</td>\n",
       "      <td>-0.291920</td>\n",
       "      <td>1.12500</td>\n",
       "      <td>0.0</td>\n",
       "      <td>-0.001498</td>\n",
       "      <td>0.000396</td>\n",
       "      <td>0.0</td>\n",
       "      <td>0.0</td>\n",
       "      <td>0.0</td>\n",
       "      <td>0.0</td>\n",
       "    </tr>\n",
       "    <tr>\n",
       "      <th>3</th>\n",
       "      <td>4</td>\n",
       "      <td>-1</td>\n",
       "      <td>-0.279390</td>\n",
       "      <td>1.07680</td>\n",
       "      <td>0.0</td>\n",
       "      <td>0.000000</td>\n",
       "      <td>0.000000</td>\n",
       "      <td>0.0</td>\n",
       "      <td>0.0</td>\n",
       "      <td>0.0</td>\n",
       "      <td>0.0</td>\n",
       "    </tr>\n",
       "    <tr>\n",
       "      <th>4</th>\n",
       "      <td>5</td>\n",
       "      <td>-1</td>\n",
       "      <td>-0.266870</td>\n",
       "      <td>1.02850</td>\n",
       "      <td>0.0</td>\n",
       "      <td>0.000000</td>\n",
       "      <td>0.000000</td>\n",
       "      <td>0.0</td>\n",
       "      <td>0.0</td>\n",
       "      <td>0.0</td>\n",
       "      <td>0.0</td>\n",
       "    </tr>\n",
       "    <tr>\n",
       "      <th>...</th>\n",
       "      <td>...</td>\n",
       "      <td>...</td>\n",
       "      <td>...</td>\n",
       "      <td>...</td>\n",
       "      <td>...</td>\n",
       "      <td>...</td>\n",
       "      <td>...</td>\n",
       "      <td>...</td>\n",
       "      <td>...</td>\n",
       "      <td>...</td>\n",
       "      <td>...</td>\n",
       "    </tr>\n",
       "    <tr>\n",
       "      <th>547</th>\n",
       "      <td>548</td>\n",
       "      <td>-1</td>\n",
       "      <td>0.090359</td>\n",
       "      <td>0.73598</td>\n",
       "      <td>0.0</td>\n",
       "      <td>0.000000</td>\n",
       "      <td>0.000000</td>\n",
       "      <td>0.0</td>\n",
       "      <td>0.0</td>\n",
       "      <td>0.0</td>\n",
       "      <td>0.0</td>\n",
       "    </tr>\n",
       "    <tr>\n",
       "      <th>548</th>\n",
       "      <td>549</td>\n",
       "      <td>-1</td>\n",
       "      <td>0.147930</td>\n",
       "      <td>0.75658</td>\n",
       "      <td>0.0</td>\n",
       "      <td>0.000000</td>\n",
       "      <td>0.000000</td>\n",
       "      <td>0.0</td>\n",
       "      <td>0.0</td>\n",
       "      <td>0.0</td>\n",
       "      <td>0.0</td>\n",
       "    </tr>\n",
       "    <tr>\n",
       "      <th>549</th>\n",
       "      <td>550</td>\n",
       "      <td>-1</td>\n",
       "      <td>-0.136410</td>\n",
       "      <td>0.99206</td>\n",
       "      <td>0.0</td>\n",
       "      <td>0.000000</td>\n",
       "      <td>0.000000</td>\n",
       "      <td>0.0</td>\n",
       "      <td>0.0</td>\n",
       "      <td>0.0</td>\n",
       "      <td>0.0</td>\n",
       "    </tr>\n",
       "    <tr>\n",
       "      <th>550</th>\n",
       "      <td>551</td>\n",
       "      <td>-1</td>\n",
       "      <td>0.621530</td>\n",
       "      <td>0.92063</td>\n",
       "      <td>0.0</td>\n",
       "      <td>0.000000</td>\n",
       "      <td>0.000000</td>\n",
       "      <td>0.0</td>\n",
       "      <td>0.0</td>\n",
       "      <td>0.0</td>\n",
       "      <td>0.0</td>\n",
       "    </tr>\n",
       "    <tr>\n",
       "      <th>551</th>\n",
       "      <td>552</td>\n",
       "      <td>-1</td>\n",
       "      <td>0.083775</td>\n",
       "      <td>0.26820</td>\n",
       "      <td>0.0</td>\n",
       "      <td>0.000000</td>\n",
       "      <td>0.000000</td>\n",
       "      <td>0.0</td>\n",
       "      <td>0.0</td>\n",
       "      <td>0.0</td>\n",
       "      <td>0.0</td>\n",
       "    </tr>\n",
       "  </tbody>\n",
       "</table>\n",
       "<p>552 rows × 11 columns</p>\n",
       "</div>"
      ],
      "text/plain": [
       "     node_number  named_selection     x_loc    y_loc  z_loc    x_disp  \\\n",
       "0              1                1 -0.304440  1.17330    0.0 -0.001498   \n",
       "1              2               -1  0.000000  0.00000    0.0  0.000000   \n",
       "2              3                1 -0.291920  1.12500    0.0 -0.001498   \n",
       "3              4               -1 -0.279390  1.07680    0.0  0.000000   \n",
       "4              5               -1 -0.266870  1.02850    0.0  0.000000   \n",
       "..           ...              ...       ...      ...    ...       ...   \n",
       "547          548               -1  0.090359  0.73598    0.0  0.000000   \n",
       "548          549               -1  0.147930  0.75658    0.0  0.000000   \n",
       "549          550               -1 -0.136410  0.99206    0.0  0.000000   \n",
       "550          551               -1  0.621530  0.92063    0.0  0.000000   \n",
       "551          552               -1  0.083775  0.26820    0.0  0.000000   \n",
       "\n",
       "       y_disp  z_disp  x_force  y_force  z_force  \n",
       "0    0.000396     0.0      0.0      0.0      0.0  \n",
       "1    0.000000     0.0      0.0      0.0      0.0  \n",
       "2    0.000396     0.0      0.0      0.0      0.0  \n",
       "3    0.000000     0.0      0.0      0.0      0.0  \n",
       "4    0.000000     0.0      0.0      0.0      0.0  \n",
       "..        ...     ...      ...      ...      ...  \n",
       "547  0.000000     0.0      0.0      0.0      0.0  \n",
       "548  0.000000     0.0      0.0      0.0      0.0  \n",
       "549  0.000000     0.0      0.0      0.0      0.0  \n",
       "550  0.000000     0.0      0.0      0.0      0.0  \n",
       "551  0.000000     0.0      0.0      0.0      0.0  \n",
       "\n",
       "[552 rows x 11 columns]"
      ]
     },
     "execution_count": 573,
     "metadata": {},
     "output_type": "execute_result"
    }
   ],
   "source": [
    "raw_input_data_octant, _ = scale.get_sample_dfs(data_folder_path, 13)\n",
    "print(raw_input_data_octant.loc[:,['x_loc','y_loc','z_loc']].min())\n",
    "print(raw_input_data_octant.loc[:,['x_loc','y_loc','z_loc']].max())\n",
    "raw_input_data_octant"
   ]
  },
  {
   "cell_type": "code",
   "execution_count": 572,
   "metadata": {},
   "outputs": [
    {
     "name": "stdout",
     "output_type": "stream",
     "text": [
      "[1. 1. 0.]\n",
      "0 -0.30444\n",
      "x_force    0.0\n",
      "y_force    0.0\n",
      "z_force    0.0\n",
      "dtype: float64\n",
      "x_loc    0.0\n",
      "y_loc    0.0\n",
      "z_loc    0.0\n",
      "dtype: float64\n",
      "x_loc    1.12237\n",
      "y_loc    1.17330\n",
      "z_loc    0.00000\n",
      "dtype: float64\n"
     ]
    },
    {
     "data": {
      "text/html": [
       "<div>\n",
       "<style scoped>\n",
       "    .dataframe tbody tr th:only-of-type {\n",
       "        vertical-align: middle;\n",
       "    }\n",
       "\n",
       "    .dataframe tbody tr th {\n",
       "        vertical-align: top;\n",
       "    }\n",
       "\n",
       "    .dataframe thead th {\n",
       "        text-align: right;\n",
       "    }\n",
       "</style>\n",
       "<table border=\"1\" class=\"dataframe\">\n",
       "  <thead>\n",
       "    <tr style=\"text-align: right;\">\n",
       "      <th></th>\n",
       "      <th>node_number</th>\n",
       "      <th>named_selection</th>\n",
       "      <th>x_loc</th>\n",
       "      <th>y_loc</th>\n",
       "      <th>z_loc</th>\n",
       "      <th>x_disp</th>\n",
       "      <th>y_disp</th>\n",
       "      <th>z_disp</th>\n",
       "      <th>x_force</th>\n",
       "      <th>y_force</th>\n",
       "      <th>z_force</th>\n",
       "    </tr>\n",
       "  </thead>\n",
       "  <tbody>\n",
       "    <tr>\n",
       "      <th>0</th>\n",
       "      <td>1</td>\n",
       "      <td>1</td>\n",
       "      <td>0.000000</td>\n",
       "      <td>1.17330</td>\n",
       "      <td>0.0</td>\n",
       "      <td>-0.001498</td>\n",
       "      <td>0.000396</td>\n",
       "      <td>0.0</td>\n",
       "      <td>0.0</td>\n",
       "      <td>0.0</td>\n",
       "      <td>0.0</td>\n",
       "    </tr>\n",
       "    <tr>\n",
       "      <th>1</th>\n",
       "      <td>2</td>\n",
       "      <td>-1</td>\n",
       "      <td>0.304440</td>\n",
       "      <td>0.00000</td>\n",
       "      <td>0.0</td>\n",
       "      <td>0.000000</td>\n",
       "      <td>0.000000</td>\n",
       "      <td>0.0</td>\n",
       "      <td>0.0</td>\n",
       "      <td>0.0</td>\n",
       "      <td>0.0</td>\n",
       "    </tr>\n",
       "    <tr>\n",
       "      <th>2</th>\n",
       "      <td>3</td>\n",
       "      <td>1</td>\n",
       "      <td>0.012520</td>\n",
       "      <td>1.12500</td>\n",
       "      <td>0.0</td>\n",
       "      <td>-0.001498</td>\n",
       "      <td>0.000396</td>\n",
       "      <td>0.0</td>\n",
       "      <td>0.0</td>\n",
       "      <td>0.0</td>\n",
       "      <td>0.0</td>\n",
       "    </tr>\n",
       "    <tr>\n",
       "      <th>3</th>\n",
       "      <td>4</td>\n",
       "      <td>-1</td>\n",
       "      <td>0.025050</td>\n",
       "      <td>1.07680</td>\n",
       "      <td>0.0</td>\n",
       "      <td>0.000000</td>\n",
       "      <td>0.000000</td>\n",
       "      <td>0.0</td>\n",
       "      <td>0.0</td>\n",
       "      <td>0.0</td>\n",
       "      <td>0.0</td>\n",
       "    </tr>\n",
       "    <tr>\n",
       "      <th>4</th>\n",
       "      <td>5</td>\n",
       "      <td>-1</td>\n",
       "      <td>0.037570</td>\n",
       "      <td>1.02850</td>\n",
       "      <td>0.0</td>\n",
       "      <td>0.000000</td>\n",
       "      <td>0.000000</td>\n",
       "      <td>0.0</td>\n",
       "      <td>0.0</td>\n",
       "      <td>0.0</td>\n",
       "      <td>0.0</td>\n",
       "    </tr>\n",
       "    <tr>\n",
       "      <th>...</th>\n",
       "      <td>...</td>\n",
       "      <td>...</td>\n",
       "      <td>...</td>\n",
       "      <td>...</td>\n",
       "      <td>...</td>\n",
       "      <td>...</td>\n",
       "      <td>...</td>\n",
       "      <td>...</td>\n",
       "      <td>...</td>\n",
       "      <td>...</td>\n",
       "      <td>...</td>\n",
       "    </tr>\n",
       "    <tr>\n",
       "      <th>547</th>\n",
       "      <td>548</td>\n",
       "      <td>-1</td>\n",
       "      <td>0.394799</td>\n",
       "      <td>0.73598</td>\n",
       "      <td>0.0</td>\n",
       "      <td>0.000000</td>\n",
       "      <td>0.000000</td>\n",
       "      <td>0.0</td>\n",
       "      <td>0.0</td>\n",
       "      <td>0.0</td>\n",
       "      <td>0.0</td>\n",
       "    </tr>\n",
       "    <tr>\n",
       "      <th>548</th>\n",
       "      <td>549</td>\n",
       "      <td>-1</td>\n",
       "      <td>0.452370</td>\n",
       "      <td>0.75658</td>\n",
       "      <td>0.0</td>\n",
       "      <td>0.000000</td>\n",
       "      <td>0.000000</td>\n",
       "      <td>0.0</td>\n",
       "      <td>0.0</td>\n",
       "      <td>0.0</td>\n",
       "      <td>0.0</td>\n",
       "    </tr>\n",
       "    <tr>\n",
       "      <th>549</th>\n",
       "      <td>550</td>\n",
       "      <td>-1</td>\n",
       "      <td>0.168030</td>\n",
       "      <td>0.99206</td>\n",
       "      <td>0.0</td>\n",
       "      <td>0.000000</td>\n",
       "      <td>0.000000</td>\n",
       "      <td>0.0</td>\n",
       "      <td>0.0</td>\n",
       "      <td>0.0</td>\n",
       "      <td>0.0</td>\n",
       "    </tr>\n",
       "    <tr>\n",
       "      <th>550</th>\n",
       "      <td>551</td>\n",
       "      <td>-1</td>\n",
       "      <td>0.925970</td>\n",
       "      <td>0.92063</td>\n",
       "      <td>0.0</td>\n",
       "      <td>0.000000</td>\n",
       "      <td>0.000000</td>\n",
       "      <td>0.0</td>\n",
       "      <td>0.0</td>\n",
       "      <td>0.0</td>\n",
       "      <td>0.0</td>\n",
       "    </tr>\n",
       "    <tr>\n",
       "      <th>551</th>\n",
       "      <td>552</td>\n",
       "      <td>-1</td>\n",
       "      <td>0.388215</td>\n",
       "      <td>0.26820</td>\n",
       "      <td>0.0</td>\n",
       "      <td>0.000000</td>\n",
       "      <td>0.000000</td>\n",
       "      <td>0.0</td>\n",
       "      <td>0.0</td>\n",
       "      <td>0.0</td>\n",
       "      <td>0.0</td>\n",
       "    </tr>\n",
       "  </tbody>\n",
       "</table>\n",
       "<p>552 rows × 11 columns</p>\n",
       "</div>"
      ],
      "text/plain": [
       "     node_number  named_selection     x_loc    y_loc  z_loc    x_disp  \\\n",
       "0              1                1  0.000000  1.17330    0.0 -0.001498   \n",
       "1              2               -1  0.304440  0.00000    0.0  0.000000   \n",
       "2              3                1  0.012520  1.12500    0.0 -0.001498   \n",
       "3              4               -1  0.025050  1.07680    0.0  0.000000   \n",
       "4              5               -1  0.037570  1.02850    0.0  0.000000   \n",
       "..           ...              ...       ...      ...    ...       ...   \n",
       "547          548               -1  0.394799  0.73598    0.0  0.000000   \n",
       "548          549               -1  0.452370  0.75658    0.0  0.000000   \n",
       "549          550               -1  0.168030  0.99206    0.0  0.000000   \n",
       "550          551               -1  0.925970  0.92063    0.0  0.000000   \n",
       "551          552               -1  0.388215  0.26820    0.0  0.000000   \n",
       "\n",
       "       y_disp  z_disp  x_force  y_force  z_force  \n",
       "0    0.000396     0.0      0.0      0.0      0.0  \n",
       "1    0.000000     0.0      0.0      0.0      0.0  \n",
       "2    0.000396     0.0      0.0      0.0      0.0  \n",
       "3    0.000000     0.0      0.0      0.0      0.0  \n",
       "4    0.000000     0.0      0.0      0.0      0.0  \n",
       "..        ...     ...      ...      ...      ...  \n",
       "547  0.000000     0.0      0.0      0.0      0.0  \n",
       "548  0.000000     0.0      0.0      0.0      0.0  \n",
       "549  0.000000     0.0      0.0      0.0      0.0  \n",
       "550  0.000000     0.0      0.0      0.0      0.0  \n",
       "551  0.000000     0.0      0.0      0.0      0.0  \n",
       "\n",
       "[552 rows x 11 columns]"
      ]
     },
     "execution_count": 572,
     "metadata": {},
     "output_type": "execute_result"
    }
   ],
   "source": [
    "## choose a dataset in a different octant for testing of next part\n",
    "raw_input_data_octant, _ = scale.get_sample_dfs(data_folder_path, 13)\n",
    "print(get_quadrant(raw_input_data_octant))\n",
    "translated_input = translate_df(raw_input_data_octant, max_dims)\n",
    "print(translated_input.loc[:,['x_force','y_force','z_force']].abs().max())\n",
    "print(translated_input.loc[:,['x_loc','y_loc','z_loc']].min())\n",
    "print(translated_input.loc[:,['x_loc','y_loc','z_loc']].max())\n",
    "translated_input"
   ]
  },
  {
   "cell_type": "code",
   "execution_count": null,
   "metadata": {},
   "outputs": [],
   "source": []
  },
  {
   "cell_type": "markdown",
   "metadata": {},
   "source": [
    "Now,  having translated the element into the part of the space we need for the tensor, we need to perform the data collection into the features of the tensor"
   ]
  },
  {
   "cell_type": "code",
   "execution_count": 248,
   "metadata": {},
   "outputs": [],
   "source": [
    "## Create a function that creates a hard map of where the element is\n",
    "def get_material_map_hard(translated_sample_df, element_size, dimensionality=2):\n",
    "    ## gets the sample df and returns a tensor with 1 where nodes are found,\n",
    "    ## and 0 where no nodes are found\n",
    "    \n",
    "    ##Initialize an array for this feature\n",
    "    array = create_array(dimensionality, features=1, resolution = 32)\n",
    "\n",
    "    arr_iterator = np.nditer(array, flags=['multi_index'])\n",
    "    for location in arr_iterator:\n",
    "\n",
    "        if dimensionality == 2:\n",
    "            x = arr_iterator.multi_index[0]\n",
    "            y = arr_iterator.multi_index[1]\n",
    "            z=0\n",
    "            feature = arr_iterator.multi_index[2]\n",
    "        else:\n",
    "            raise Exception('3d not implemented yet')\n",
    "        \n",
    "        if get_dataframe_indices(element_size, translated_sample_df, x, y, z).size > 0: ## empty list returns False\n",
    "            array[x,y,z] = 1.\n",
    "    return array"
   ]
  },
  {
   "cell_type": "code",
   "execution_count": null,
   "metadata": {},
   "outputs": [],
   "source": []
  },
  {
   "cell_type": "code",
   "execution_count": 249,
   "metadata": {
    "scrolled": true
   },
   "outputs": [
    {
     "name": "stdout",
     "output_type": "stream",
     "text": [
      "0.029919147491455078\n"
     ]
    }
   ],
   "source": [
    "tic = time.time()\n",
    "get_material_map_hard(translated_input, element_size, dimensionality=2)\n",
    "toc = time.time()\n",
    "print(toc-tic)"
   ]
  },
  {
   "cell_type": "code",
   "execution_count": 250,
   "metadata": {},
   "outputs": [
    {
     "name": "stdout",
     "output_type": "stream",
     "text": [
      "1.0 3\n",
      "1.0\n"
     ]
    },
    {
     "data": {
      "text/html": [
       "<img src=\"data:image/png;base64,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\" alt=\"PNG image\"></img>"
      ],
      "text/plain": [
       "<IPython.core.display.HTML object>"
      ]
     },
     "metadata": {},
     "output_type": "display_data"
    }
   ],
   "source": [
    "hard_map_array = get_material_map_hard(translated_input, element_size, dimensionality=2)\n",
    "\n",
    "## Create function to plot the tensor\n",
    "def plot_2d(sample_array, contour = False, clear = True, edges = np.array([])):\n",
    "    if clear:\n",
    "        mlab.clf()\n",
    "    #print(sample_array)\n",
    "    m = np.max(np.abs(sample_array))\n",
    "    print(m, len(sample_array.shape))\n",
    "    s = np.abs(sample_array)\n",
    "    mlab.figure(figure=None, bgcolor=(0.99,0.99,0.99), fgcolor=None, engine=None, size=(400, 350))\n",
    "    \n",
    "    if len(sample_array.shape)==3:\n",
    "        \n",
    "        sample_array = np.concatenate((sample_array, sample_array), axis=2)\n",
    "        \n",
    "    sample_array = np.abs(sample_array)\n",
    "\n",
    "    try:\n",
    "        sample_array = sample_array/m\n",
    "    except: ## if m is zero\n",
    "        pass\n",
    "    n = np.max(np.abs(sample_array))\n",
    "    print(n)\n",
    "\n",
    "    sample_array[0,:,:] += 1.2\n",
    "    sample_array[:,0,:] += 1.2\n",
    "    sample_array[-1,:,:] += 1.2\n",
    "    sample_array[:,-1,:] += 1.2\n",
    "    \n",
    "    if edges.size > 0:\n",
    "        sample_array = sample_array + 0.25*edges\n",
    "        \n",
    "    volume = mlab.pipeline.volume(mlab.pipeline.scalar_field(sample_array), vmin=0.2, vmax=0.8)\n",
    "    if contour:\n",
    "        mlab.contour3d(s)\n",
    "    \n",
    "        \n",
    "    return volume\n",
    "plot_2d(hard_map_array)"
   ]
  },
  {
   "cell_type": "markdown",
   "metadata": {},
   "source": [
    "In the image above, the shaded part represents the points where nodes were detected. The colourful edge is a contour of 'same value' surfaces, which is used to demonstrate where there is sharp transition in values. As can be seen,  it works roughly as expected, however the edges are jagged and some spots in the center where the nodes are very far apart, the tensor actually sees no nodes and receive a zero value. To correct this, it can be filtered with a convolutional kernel to create an average value for every point, smoothing out the edges and filling the internal elements that are empty.\n",
    "\n",
    "Note: the top left of the image shows no \"gradient\" because it is on the very edge of the tensor"
   ]
  },
  {
   "cell_type": "code",
   "execution_count": 251,
   "metadata": {},
   "outputs": [],
   "source": [
    "## create a function that creates a fuzzy map of where the element is\n",
    "def interpolate_array_spatially_2D(sample_array):\n",
    "    ## use gaussian blur kernel to smooth out the tensor\n",
    "    \n",
    "    ## define kernel\n",
    "    kernel_blur = 1/256*torch.Tensor([[1, 4, 6, 4, 1],\n",
    "                                [4, 16, 24, 16, 4],\n",
    "                                [6, 24, 36, 24, 6],\n",
    "                                [4, 16, 24, 16, 4],\n",
    "                                [1, 4, 6, 4, 1]])\n",
    "    \n",
    "    ## add redundant batch_size and _feature dimensions because of torch requirements\n",
    "    kernel_blur = kernel_blur.view([1,1,5,5])\n",
    "    \n",
    "    ## convert\n",
    "    tensor = torch.from_numpy(sample_array)\n",
    "    \n",
    "    ## convolve filter and tensor\n",
    "    smoothed_array = F.conv2d(input = tensor.view([1,1,32,32]), weight = kernel_blur.double(), stride = 1, padding=2)   \n",
    "    \n",
    "    ## return it as a correctly shaped numpy arra\n",
    "    return smoothed_array.view([32,32,1]).numpy()"
   ]
  },
  {
   "cell_type": "code",
   "execution_count": 252,
   "metadata": {},
   "outputs": [],
   "source": [
    "## create a function that runs any other arbitrary kernel\n",
    "def convolve_with_kernel(sample_array, kernel_name='edge_detection'):\n",
    "    ## use kernel on sample\n",
    "    \n",
    "    ## define kernel\n",
    "    \n",
    "    if kernel_name == 'edge_detection':\n",
    "        kernel = torch.Tensor([[-1,-1,-1],\n",
    "                              [-1,8,-1],\n",
    "                              [-1,-1,-1]])\n",
    "    \n",
    "    ## add redundant batch_size and _feature dimensions because of torch requirements\n",
    "    kernel = kernel.view([1,1,3,3])\n",
    "    \n",
    "    ## convert\n",
    "    tensor = torch.from_numpy(sample_array)\n",
    "    \n",
    "    ## convolve filter and tensor\n",
    "    convolved_array = F.conv2d(input = tensor.view([1,1,32,32]), weight = kernel.double(), stride = 1, padding=1)   \n",
    "    \n",
    "    ## return it as a correctly shaped numpy array\n",
    "    return convolved_array.view([32,32,1]).numpy()\n",
    "                               "
   ]
  },
  {
   "cell_type": "code",
   "execution_count": 253,
   "metadata": {},
   "outputs": [
    {
     "name": "stdout",
     "output_type": "stream",
     "text": [
      "1.0 3\n",
      "1.0\n"
     ]
    },
    {
     "data": {
      "text/html": [
       "<img src=\"data:image/png;base64,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\" alt=\"PNG image\"></img>"
      ],
      "text/plain": [
       "<IPython.core.display.HTML object>"
      ]
     },
     "metadata": {},
     "output_type": "display_data"
    }
   ],
   "source": [
    "#tic = time.time()\n",
    "smoothed_map_array = interpolate_array_spatially_2D(hard_map_array)\n",
    "#print(time.time()-tic)\n",
    "plot_2d(smoothed_map_array)"
   ]
  },
  {
   "cell_type": "code",
   "execution_count": 254,
   "metadata": {},
   "outputs": [
    {
     "name": "stdout",
     "output_type": "stream",
     "text": [
      "8.0 3\n",
      "1.0\n"
     ]
    },
    {
     "data": {
      "text/html": [
       "<img src=\"data:image/png;base64,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\" alt=\"PNG image\"></img>"
      ],
      "text/plain": [
       "<IPython.core.display.HTML object>"
      ]
     },
     "metadata": {},
     "output_type": "display_data"
    }
   ],
   "source": [
    "plot_2d(convolve_with_kernel(hard_map_array))"
   ]
  },
  {
   "cell_type": "markdown",
   "metadata": {},
   "source": [
    "The other features depend on the type of feature they are. Specifically, displacements have a value that vary spacially according to a shape function which in theory can be specified, however for the sake of simplicity and performance, they are going to be interpolated linearly. Forces on the element, on the other hand, are vector sums of the nodal forces."
   ]
  },
  {
   "cell_type": "code",
   "execution_count": 255,
   "metadata": {},
   "outputs": [
    {
     "name": "stdout",
     "output_type": "stream",
     "text": [
      "1.0920274257659912\n"
     ]
    }
   ],
   "source": [
    "## create a function that gets a sample dataframe and transforms it into an array\n",
    "\n",
    "def get_input_map(translated_sample_df, element_size, hard_map, dimensionality=2):\n",
    "    ## takes a dataframe and returns the displacements and forces in every element of the tensor\n",
    "\n",
    "    ##Initialize an array for this feature\n",
    "    array = create_array(dimensionality, features=6, resolution = 32)\n",
    "    #print(array.shape)\n",
    "\n",
    "    \n",
    "    ## Create iterator for the array\n",
    "    arr_iterator = np.nditer(array, flags=['multi_index'])\n",
    "    \n",
    "    ## create 2d array\n",
    "    hard_map_matrix = hard_map[:,:,0]\n",
    "    \n",
    "    ## iterates through every  element of array\n",
    "    update = False\n",
    "    for location in arr_iterator:\n",
    "        if dimensionality == 2:\n",
    "            x = arr_iterator.multi_index[0]\n",
    "            y = arr_iterator.multi_index[1]\n",
    "            z=0\n",
    "            feature = arr_iterator.multi_index[2]\n",
    "        else:\n",
    "            raise Exception('3d not implemented yet')\n",
    "        \n",
    "        \n",
    "        if dimensionality == 2 and  hard_map_matrix[x,y] > 0.0: \n",
    "            ## get the indices for this location\n",
    "            indices = get_dataframe_indices(element_size, translated_sample_df, x, y, z)\n",
    "\n",
    "            ## calculates the feature value based on current feature being analyzed\n",
    "            if 0 <= feature < 3: \n",
    "                displacements = translated_sample_df.loc[indices,['x_disp','y_disp','z_disp']].values\n",
    "                if displacements.size > 0:\n",
    "                    feature_value = displacements[:,feature].mean()\n",
    "                    update=True\n",
    "                    \n",
    "            if 3 <= feature < 6: \n",
    "                forces = translated_sample_df.loc[indices,['x_force','y_force','z_force']].values\n",
    "                if forces.size > 0:\n",
    "                    feature_value = forces[:,feature-3].sum()\n",
    "                    update = True\n",
    "                    \n",
    "            if update:\n",
    "                array[x,y,feature] = feature_value\n",
    "                update = False\n",
    "                \n",
    "        elif dimensionality != 2:\n",
    "            raise Exception('3d not implemented yet')    \n",
    "\n",
    "\n",
    "    return array\n",
    "tic = time.time()\n",
    "input_feature_array = get_input_map(warning_df, element_size, hard_map_array, dimensionality=2)\n",
    "print(time.time()-tic)"
   ]
  },
  {
   "cell_type": "markdown",
   "metadata": {},
   "source": [
    "Timing the above function, it seems that the major part of the time loss comes from getting the indices. We'll try to find a way to reduce that, as 8-10 seconds for a sample of this size is too much, since this has to be scaled to take samples as much as 10 times larger. It is obvious that this time comes from the .get_dataframe_indices() function, and thus that is where the improvements have to be made. After changing that function the time was lowered to 2 seconds. This can further be lowered by making sure to only call the get_dataframe_indices function where there is a possibility of there being a piece of material, using the hard map array. By doing that, the necessity to check for the list length is also  remove, which cuts the processing time further to 0.95 seconds approximately. "
   ]
  },
  {
   "cell_type": "code",
   "execution_count": 256,
   "metadata": {},
   "outputs": [
    {
     "name": "stdout",
     "output_type": "stream",
     "text": [
      "(32, 32, 1)\n",
      "0.00138249664993752 3\n",
      "1.0\n"
     ]
    },
    {
     "data": {
      "text/html": [
       "<img src=\"data:image/png;base64,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\" alt=\"PNG image\"></img>"
      ],
      "text/plain": [
       "<IPython.core.display.HTML object>"
      ]
     },
     "metadata": {},
     "output_type": "display_data"
    }
   ],
   "source": [
    "print(input_feature_array[:,:,0:1].shape)\n",
    "edges = convolve_with_kernel(hard_map_array)\n",
    "plot_2d(input_feature_array[:,:,0:1],contour=True, clear=False, edges=edges)"
   ]
  },
  {
   "cell_type": "code",
   "execution_count": 257,
   "metadata": {},
   "outputs": [
    {
     "name": "stdout",
     "output_type": "stream",
     "text": [
      "0.0018157012491464898 3\n",
      "1.0\n"
     ]
    },
    {
     "data": {
      "text/html": [
       "<img src=\"data:image/png;base64,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\" alt=\"PNG image\"></img>"
      ],
      "text/plain": [
       "<IPython.core.display.HTML object>"
      ]
     },
     "metadata": {},
     "output_type": "display_data"
    }
   ],
   "source": [
    "plot_2d(input_feature_array[:,:,1:2],contour=True,edges=edges)"
   ]
  },
  {
   "cell_type": "code",
   "execution_count": 258,
   "metadata": {},
   "outputs": [
    {
     "name": "stdout",
     "output_type": "stream",
     "text": [
      "590.47128195359 3\n",
      "1.0\n"
     ]
    },
    {
     "data": {
      "text/html": [
       "<img src=\"data:image/png;base64,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\" alt=\"PNG image\"></img>"
      ],
      "text/plain": [
       "<IPython.core.display.HTML object>"
      ]
     },
     "metadata": {},
     "output_type": "display_data"
    }
   ],
   "source": [
    "plot_2d(input_feature_array[:,:,3:4],contour=True,edges=edges)"
   ]
  },
  {
   "cell_type": "code",
   "execution_count": 259,
   "metadata": {},
   "outputs": [
    {
     "name": "stdout",
     "output_type": "stream",
     "text": [
      "487.4631351553655 3\n",
      "1.0\n"
     ]
    },
    {
     "data": {
      "text/html": [
       "<img src=\"data:image/png;base64,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\" alt=\"PNG image\"></img>"
      ],
      "text/plain": [
       "<IPython.core.display.HTML object>"
      ]
     },
     "metadata": {},
     "output_type": "display_data"
    }
   ],
   "source": [
    "plot_2d(input_feature_array[:,:,4:5],contour=True,edges=edges)"
   ]
  },
  {
   "cell_type": "markdown",
   "metadata": {},
   "source": [
    "Now, similarly, the output map must be built"
   ]
  },
  {
   "cell_type": "code",
   "execution_count": 260,
   "metadata": {},
   "outputs": [],
   "source": [
    "_ , raw_output_data_octant = scale.get_sample_dfs(data_folder_path, 94)"
   ]
  },
  {
   "cell_type": "code",
   "execution_count": 261,
   "metadata": {},
   "outputs": [
    {
     "data": {
      "text/html": [
       "<div>\n",
       "<style scoped>\n",
       "    .dataframe tbody tr th:only-of-type {\n",
       "        vertical-align: middle;\n",
       "    }\n",
       "\n",
       "    .dataframe tbody tr th {\n",
       "        vertical-align: top;\n",
       "    }\n",
       "\n",
       "    .dataframe thead th {\n",
       "        text-align: right;\n",
       "    }\n",
       "</style>\n",
       "<table border=\"1\" class=\"dataframe\">\n",
       "  <thead>\n",
       "    <tr style=\"text-align: right;\">\n",
       "      <th></th>\n",
       "      <th>node_number</th>\n",
       "      <th>x_loc</th>\n",
       "      <th>y_loc</th>\n",
       "      <th>z_loc</th>\n",
       "      <th>x_disp</th>\n",
       "      <th>y_disp</th>\n",
       "      <th>z_disp</th>\n",
       "    </tr>\n",
       "  </thead>\n",
       "  <tbody>\n",
       "    <tr>\n",
       "      <th>0</th>\n",
       "      <td>1</td>\n",
       "      <td>1.728600</td>\n",
       "      <td>0.94477</td>\n",
       "      <td>0.0</td>\n",
       "      <td>0.001270</td>\n",
       "      <td>-0.001291</td>\n",
       "      <td>0.0</td>\n",
       "    </tr>\n",
       "    <tr>\n",
       "      <th>1</th>\n",
       "      <td>2</td>\n",
       "      <td>1.632988</td>\n",
       "      <td>0.00000</td>\n",
       "      <td>0.0</td>\n",
       "      <td>0.002493</td>\n",
       "      <td>0.000889</td>\n",
       "      <td>0.0</td>\n",
       "    </tr>\n",
       "    <tr>\n",
       "      <th>2</th>\n",
       "      <td>3</td>\n",
       "      <td>1.723557</td>\n",
       "      <td>0.89495</td>\n",
       "      <td>0.0</td>\n",
       "      <td>-0.000116</td>\n",
       "      <td>-0.000800</td>\n",
       "      <td>0.0</td>\n",
       "    </tr>\n",
       "    <tr>\n",
       "      <th>3</th>\n",
       "      <td>4</td>\n",
       "      <td>1.718515</td>\n",
       "      <td>0.84512</td>\n",
       "      <td>0.0</td>\n",
       "      <td>0.000461</td>\n",
       "      <td>-0.001007</td>\n",
       "      <td>0.0</td>\n",
       "    </tr>\n",
       "    <tr>\n",
       "      <th>4</th>\n",
       "      <td>5</td>\n",
       "      <td>1.713473</td>\n",
       "      <td>0.79530</td>\n",
       "      <td>0.0</td>\n",
       "      <td>0.000514</td>\n",
       "      <td>0.000104</td>\n",
       "      <td>0.0</td>\n",
       "    </tr>\n",
       "    <tr>\n",
       "      <th>...</th>\n",
       "      <td>...</td>\n",
       "      <td>...</td>\n",
       "      <td>...</td>\n",
       "      <td>...</td>\n",
       "      <td>...</td>\n",
       "      <td>...</td>\n",
       "      <td>...</td>\n",
       "    </tr>\n",
       "    <tr>\n",
       "      <th>468</th>\n",
       "      <td>469</td>\n",
       "      <td>1.169198</td>\n",
       "      <td>0.72049</td>\n",
       "      <td>0.0</td>\n",
       "      <td>-0.000375</td>\n",
       "      <td>0.000759</td>\n",
       "      <td>0.0</td>\n",
       "    </tr>\n",
       "    <tr>\n",
       "      <th>469</th>\n",
       "      <td>470</td>\n",
       "      <td>1.064728</td>\n",
       "      <td>0.72427</td>\n",
       "      <td>0.0</td>\n",
       "      <td>-0.000338</td>\n",
       "      <td>0.000258</td>\n",
       "      <td>0.0</td>\n",
       "    </tr>\n",
       "    <tr>\n",
       "      <th>470</th>\n",
       "      <td>471</td>\n",
       "      <td>1.455548</td>\n",
       "      <td>0.35252</td>\n",
       "      <td>0.0</td>\n",
       "      <td>0.001127</td>\n",
       "      <td>-0.000002</td>\n",
       "      <td>0.0</td>\n",
       "    </tr>\n",
       "    <tr>\n",
       "      <th>471</th>\n",
       "      <td>472</td>\n",
       "      <td>1.586564</td>\n",
       "      <td>0.74267</td>\n",
       "      <td>0.0</td>\n",
       "      <td>-0.000681</td>\n",
       "      <td>0.001816</td>\n",
       "      <td>0.0</td>\n",
       "    </tr>\n",
       "    <tr>\n",
       "      <th>472</th>\n",
       "      <td>473</td>\n",
       "      <td>1.568542</td>\n",
       "      <td>0.76512</td>\n",
       "      <td>0.0</td>\n",
       "      <td>-0.001382</td>\n",
       "      <td>-0.000474</td>\n",
       "      <td>0.0</td>\n",
       "    </tr>\n",
       "  </tbody>\n",
       "</table>\n",
       "<p>473 rows × 7 columns</p>\n",
       "</div>"
      ],
      "text/plain": [
       "     node_number     x_loc    y_loc  z_loc    x_disp    y_disp  z_disp\n",
       "0              1  1.728600  0.94477    0.0  0.001270 -0.001291     0.0\n",
       "1              2  1.632988  0.00000    0.0  0.002493  0.000889     0.0\n",
       "2              3  1.723557  0.89495    0.0 -0.000116 -0.000800     0.0\n",
       "3              4  1.718515  0.84512    0.0  0.000461 -0.001007     0.0\n",
       "4              5  1.713473  0.79530    0.0  0.000514  0.000104     0.0\n",
       "..           ...       ...      ...    ...       ...       ...     ...\n",
       "468          469  1.169198  0.72049    0.0 -0.000375  0.000759     0.0\n",
       "469          470  1.064728  0.72427    0.0 -0.000338  0.000258     0.0\n",
       "470          471  1.455548  0.35252    0.0  0.001127 -0.000002     0.0\n",
       "471          472  1.586564  0.74267    0.0 -0.000681  0.001816     0.0\n",
       "472          473  1.568542  0.76512    0.0 -0.001382 -0.000474     0.0\n",
       "\n",
       "[473 rows x 7 columns]"
      ]
     },
     "execution_count": 261,
     "metadata": {},
     "output_type": "execute_result"
    }
   ],
   "source": [
    "translated_output = translate_df(raw_output_data_octant, max_dims)\n",
    "translated_output"
   ]
  },
  {
   "cell_type": "code",
   "execution_count": 262,
   "metadata": {},
   "outputs": [
    {
     "name": "stdout",
     "output_type": "stream",
     "text": [
      "0.6243329048156738\n"
     ]
    }
   ],
   "source": [
    "def get_output_map(translated_sample_df, element_size,hard_map, dimensionality=2):\n",
    "    ## takes a dataframe and returns the displacements in every element of the tensor\n",
    "    \n",
    "    ##Initialize an array for this feature\n",
    "    array = create_array(dimensionality, features=3, resolution = 32)\n",
    "    #print(array.shape)\n",
    "    \n",
    "    ## Create iterator for the array\n",
    "    arr_iterator = np.nditer(array, flags=['multi_index'])\n",
    "    \n",
    "    ## Create 2d array\n",
    "    hard_map_matrix = hard_map[:,:,0]\n",
    "    \n",
    "    update=False\n",
    "    ## iterates through every  element of array\n",
    "    for location in arr_iterator:\n",
    "        \n",
    "        if dimensionality == 2:\n",
    "            x = arr_iterator.multi_index[0]\n",
    "            y = arr_iterator.multi_index[1]\n",
    "            z=0\n",
    "            feature = arr_iterator.multi_index[2]\n",
    "        else:\n",
    "            raise Exception('3d not implemented yet')\n",
    "        \n",
    "        ## get the indices for this location\n",
    "        indices = get_dataframe_indices(element_size, translated_sample_df, x, y, z)\n",
    "        if dimensionality == 2 and  hard_map_matrix[x,y] > 0.0: ## empty list returns False\n",
    "            ##gets the features of the input at that location\n",
    "            displacements = translated_sample_df.loc[indices,['x_disp','y_disp','z_disp']].values\n",
    "            \n",
    "            if displacements.size > 0:\n",
    "                ## calculates the feature value based on current feature being analyzed\n",
    "                feature_value = displacements[:,feature].mean()\n",
    "                update=True\n",
    "\n",
    "            if update:\n",
    "                array[x,y,feature] = feature_value\n",
    "                update=False\n",
    "                \n",
    "        elif dimensionality > 2:\n",
    "            raise Exception('3d not implemented yet')    \n",
    "                \n",
    "            \n",
    "    return array\n",
    "tic = time.time()\n",
    "output_feature_array = get_output_map(translated_output, element_size,hard_map_array, dimensionality=2)\n",
    "print(time.time()-tic)"
   ]
  },
  {
   "cell_type": "code",
   "execution_count": 263,
   "metadata": {},
   "outputs": [
    {
     "name": "stdout",
     "output_type": "stream",
     "text": [
      "0.0023668 3\n",
      "1.0\n"
     ]
    },
    {
     "data": {
      "text/html": [
       "<img src=\"data:image/png;base64,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\" alt=\"PNG image\"></img>"
      ],
      "text/plain": [
       "<IPython.core.display.HTML object>"
      ]
     },
     "metadata": {},
     "output_type": "display_data"
    }
   ],
   "source": [
    "plot_2d(output_feature_array[:,:,0:1],contour=True, clear=False, edges=edges)"
   ]
  },
  {
   "cell_type": "code",
   "execution_count": 264,
   "metadata": {},
   "outputs": [
    {
     "name": "stdout",
     "output_type": "stream",
     "text": [
      "0.0018157 3\n",
      "1.0\n"
     ]
    },
    {
     "data": {
      "text/html": [
       "<img src=\"data:image/png;base64,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\" alt=\"PNG image\"></img>"
      ],
      "text/plain": [
       "<IPython.core.display.HTML object>"
      ]
     },
     "metadata": {},
     "output_type": "display_data"
    }
   ],
   "source": [
    "plot_2d(output_feature_array[:,:,1:2],contour=True, clear=False, edges=edges)"
   ]
  },
  {
   "cell_type": "markdown",
   "metadata": {},
   "source": [
    "Now having all the feature tensors/arrays, we need to concatenate them into a representative shape."
   ]
  },
  {
   "cell_type": "code",
   "execution_count": 265,
   "metadata": {},
   "outputs": [
    {
     "name": "stdout",
     "output_type": "stream",
     "text": [
      "2.967921733856201\n"
     ]
    }
   ],
   "source": [
    "## create a function that takes a sample and returns the concatenated, unscaled arrays\n",
    "def create_unscaled_arrays(data_folder_path, max_dimensions, sample_number, element_size, dimensionality=2):\n",
    "    ## gets the data from a sample dataframe and returns the input and output array\n",
    "    \n",
    "    # get dataframes\n",
    "    raw_input_df, raw_output_df = scale.get_sample_dfs(data_folder_path, sample_number)\n",
    "    \n",
    "    # translate dataframes\n",
    "    translated_input_df = translate_df(raw_input_df, max_dimensions)\n",
    "    translated_output_df = translate_df(raw_output_df, max_dimensions)\n",
    "\n",
    "    \n",
    "    # get material existence feature\n",
    "    material_existence = get_material_map_hard(translated_input_df, element_size, dimensionality)\n",
    "    material_existence = interpolate_array_spatially_2D(material_existence)\n",
    "\n",
    "    \n",
    "    # get input and output feature arrays\n",
    "    input_features_array = get_input_map(translated_input_df, element_size, material_existence, dimensionality)\n",
    "    output_features_array = get_output_map(translated_output_df, element_size,material_existence, dimensionality)\n",
    "\n",
    "    \n",
    "    # concatenate into arrays\n",
    "    concatenated_input = np.concatenate((material_existence, input_features_array), axis = 2)\n",
    "    concatenated_output = np.concatenate((material_existence, output_features_array), axis = 2)\n",
    "\n",
    "    \n",
    "    return concatenated_input, concatenated_output\n",
    "\n",
    "tic = time.time()\n",
    "\n",
    "concat_input, concat_output = create_unscaled_arrays(data_folder_path,  max_dims, 94, element_size, dimensionality = 2)\n",
    "\n",
    "print(time.time()-tic)"
   ]
  },
  {
   "cell_type": "markdown",
   "metadata": {},
   "source": [
    "One thing I've come to realize is that the way this is being done requires the computation to \"touch\" all the elements in the dataframe each time it has to check what the conditions are for a particular location in the tensor. An alternative would be to, instead of iterating through the tensor, iterate through the dataframe, and dynamically update the tensor for each new point. This removes the need for almost all of the if statements used as they are needed to control whether a certain location in the tensor contains selections. Alternatively, by iterating through the dataframe it is guaranteed that any point we go to in the tensor is by definition a material point. We need a function that gets the tensor location based on the coordinates in the dataframe,  and then gets all the data relevant to that dataframe location and correctly update the tensor based on it."
   ]
  },
  {
   "cell_type": "code",
   "execution_count": 421,
   "metadata": {},
   "outputs": [
    {
     "name": "stdout",
     "output_type": "stream",
     "text": [
      "9.14 ms ± 252 µs per loop (mean ± std. dev. of 7 runs, 100 loops each)\n",
      "1.0 3\n",
      "1.0\n"
     ]
    },
    {
     "data": {
      "text/html": [
       "<img src=\"data:image/png;base64,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\" alt=\"PNG image\"></img>"
      ],
      "text/plain": [
       "<IPython.core.display.HTML object>"
      ]
     },
     "metadata": {},
     "output_type": "display_data"
    }
   ],
   "source": [
    "## Create function that takes a sample df and returns the concatenated array\n",
    "def create_concat_array(sample_df, empty_array, element_size, dataframe_type):\n",
    "    ## takes a sample dataframe and creates the concatenated tensor with it\n",
    "    \n",
    "    ## initialize empty array copy\n",
    "    concat_array = empty_array.copy()\n",
    "    \n",
    "    ## get resolution of array\n",
    "    resolution = len(empty_array[0])\n",
    "\n",
    "    ## check dimensionality of array\n",
    "    if len(concat_array.shape) == 3:\n",
    "        dimensionality = 2\n",
    "        \n",
    "    if len(concat_array.shape) == 4:\n",
    "        dimensionality = 3\n",
    "\n",
    "    ## create dictionary to store number of nodes for each array location\n",
    "    nodes_dictionary = {}\n",
    "    \n",
    "    for i, row in enumerate(sample_df.itertuples()): #itertuples is much faster than iterrows\n",
    "        ## get spacial locations\n",
    "        x_loc, y_loc, z_loc = row.x_loc, row.y_loc, row.z_loc\n",
    "        \n",
    "        ## calculate tensor locations\n",
    "        ## points at the very edge of an element at the edge of the array \n",
    "        ## should fall to the previous index, not to the next\n",
    "        x = x_loc / element_size \n",
    "        y = y_loc / element_size \n",
    "        z = z_loc / element_size\n",
    "        \n",
    "        x,y,z = int(x), int(y), int(z)\n",
    "        \n",
    "        \n",
    "        ## check for upper edge case\n",
    "        if  x >= resolution:\n",
    "            x -= 1\n",
    "        if  y >= resolution:\n",
    "            y -= 1\n",
    "        if  z >= resolution:\n",
    "            z -= 1\n",
    "        \n",
    "        \n",
    "        ## create feature vector to update location\n",
    "        if dataframe_type.lower() == 'input':\n",
    "            feature_vector = np.array([1, row.x_disp, row.y_disp, row.z_disp, row.x_force, row.y_force, row.z_force])\n",
    "            \n",
    "        if dataframe_type.lower() == 'output':\n",
    "            feature_vector = np.array([1, row.x_disp, row.y_disp, row.z_disp])\n",
    "            \n",
    "        elif dataframe_type.lower() != 'input':\n",
    "            raise Exception(f'Incorrect dataframe type. Expected \\'input\\' or \\'output\\', got {dataframe_type}')\n",
    "       \n",
    "        ## update values at location\n",
    "        if dimensionality == 2:\n",
    "            \n",
    "           \n",
    "            try:\n",
    "                 ## update material existence\n",
    "                concat_array[x,y,0] = feature_vector[0]\n",
    "                \n",
    "                ## only do operation if there is a value to add\n",
    "                if any(feature_vector[1:] != 0.0):\n",
    "                    \n",
    "                    if any(feature_vector[1:4] != 0.0):\n",
    "                        ## add displacements\n",
    "                        concat_array[x,y,1:4] += feature_vector[1:4]\n",
    "\n",
    "                        ## add item to dictionary\n",
    "                        ## control whether to create or update dictionary entry\n",
    "                        if (x,y) in nodes_dictionary:\n",
    "                            nodes_dictionary[(x,y)] +=1\n",
    "                        else:\n",
    "                            nodes_dictionary[(x,y)] = 1\n",
    "                    \n",
    "                    ## add forces if input\n",
    "                    if dataframe_type.lower() == 'input':\n",
    "                        concat_array[x,y,4:7] += feature_vector[4:7]\n",
    "                \n",
    "            except IndexError:\n",
    "                print(f'out of bounds, check sample at x:{x_loc} y:{y_loc} z:{z_loc}, indices {x,y,z}')\n",
    "               \n",
    "            \n",
    "            \n",
    "        elif dimensionality > 2:\n",
    "            raise Exception(f'Three dimensional or higher not implemented yet')\n",
    "        \n",
    "        \n",
    "        \n",
    "    ## divide the displacements by the number of nodes\n",
    "    for key in nodes_dictionary.keys():\n",
    "        #print(concat_array[*key,1], concat_array[*key,1]/nodes_dictionary[key])\n",
    "        concat_array[(*key, [1,2,3])] = concat_array[(*key, [1,2,3])]/nodes_dictionary[key]\n",
    "    \n",
    "    \n",
    "    ## smooth out material existence feature\n",
    "    concat_array[:,:,0:1] = interpolate_array_spatially_2D(concat_array[:,:,0:1])\n",
    "    return concat_array\n",
    "\n",
    "\n",
    "empty_array_input = create_array(dimensionality = 2, features = 7)\n",
    "\n",
    "\n",
    "%timeit create_concat_array(translated_input, empty_array_input, element_size, dataframe_type = 'input')\n",
    "\n",
    "concat_array_input = create_concat_array(translated_input, empty_array_input, element_size, dataframe_type = 'input')\n",
    "plot_2d(concat_array_input[:,:,0:1])\n",
    "\n"
   ]
  },
  {
   "cell_type": "markdown",
   "metadata": {},
   "source": [
    "The function above is roughly equivalent to all of get_material_map_hard(), get_smoothed_map(), get_input_map() and with part of the create_unscaled_arrays() function. These functions, when combined for an input, lead to a time per sample of about 2.5 seconds. This new approach takes roughly 10 miliseconds, a 250 times increase in speed (or, for the shock factor, a 8000 times speedup when compared to the first iteration of these functions) Thus, this is a much much better approach to it."
   ]
  },
  {
   "cell_type": "code",
   "execution_count": 416,
   "metadata": {},
   "outputs": [
    {
     "name": "stdout",
     "output_type": "stream",
     "text": [
      "0.00138249664993752 3\n",
      "1.0\n"
     ]
    },
    {
     "data": {
      "text/html": [
       "<img src=\"data:image/png;base64,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\" alt=\"PNG image\"></img>"
      ],
      "text/plain": [
       "<IPython.core.display.HTML object>"
      ]
     },
     "metadata": {},
     "output_type": "display_data"
    }
   ],
   "source": [
    "plot_2d(concat_array_input[:,:,1:2],contour=True, clear=False, edges=edges)"
   ]
  },
  {
   "cell_type": "code",
   "execution_count": 417,
   "metadata": {},
   "outputs": [
    {
     "name": "stdout",
     "output_type": "stream",
     "text": [
      "0.0018157012491464895 3\n",
      "1.0\n"
     ]
    },
    {
     "data": {
      "text/html": [
       "<img src=\"data:image/png;base64,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\" alt=\"PNG image\"></img>"
      ],
      "text/plain": [
       "<IPython.core.display.HTML object>"
      ]
     },
     "metadata": {},
     "output_type": "display_data"
    }
   ],
   "source": [
    "plot_2d(concat_array_input[:,:,2:3],contour=True, clear=False, edges=edges)"
   ]
  },
  {
   "cell_type": "code",
   "execution_count": 418,
   "metadata": {},
   "outputs": [
    {
     "name": "stdout",
     "output_type": "stream",
     "text": [
      "590.47128195359 3\n",
      "1.0\n"
     ]
    },
    {
     "data": {
      "text/html": [
       "<img src=\"data:image/png;base64,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\" alt=\"PNG image\"></img>"
      ],
      "text/plain": [
       "<IPython.core.display.HTML object>"
      ]
     },
     "metadata": {},
     "output_type": "display_data"
    }
   ],
   "source": [
    "plot_2d(concat_array_input[:,:,4:5],contour=True, clear=False, edges=edges)"
   ]
  },
  {
   "cell_type": "code",
   "execution_count": 419,
   "metadata": {},
   "outputs": [
    {
     "name": "stdout",
     "output_type": "stream",
     "text": [
      "487.4631351553655 3\n",
      "1.0\n"
     ]
    },
    {
     "data": {
      "text/html": [
       "<img src=\"data:image/png;base64,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\" alt=\"PNG image\"></img>"
      ],
      "text/plain": [
       "<IPython.core.display.HTML object>"
      ]
     },
     "metadata": {},
     "output_type": "display_data"
    }
   ],
   "source": [
    "plot_2d(concat_array_input[:,:,5:6],contour=True, clear=False, edges=edges)"
   ]
  },
  {
   "cell_type": "code",
   "execution_count": 425,
   "metadata": {},
   "outputs": [
    {
     "name": "stdout",
     "output_type": "stream",
     "text": [
      "0.0023668 3\n",
      "1.0\n"
     ]
    },
    {
     "data": {
      "text/html": [
       "<img src=\"data:image/png;base64,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\" alt=\"PNG image\"></img>"
      ],
      "text/plain": [
       "<IPython.core.display.HTML object>"
      ]
     },
     "metadata": {},
     "output_type": "display_data"
    }
   ],
   "source": [
    "concat_array_output = create_concat_array(translated_output, empty_array_input, element_size, dataframe_type = 'output')\n",
    "plot_2d(concat_array_output[:,:,1:2],contour=True, clear=False, edges=edges)"
   ]
  },
  {
   "cell_type": "code",
   "execution_count": 426,
   "metadata": {},
   "outputs": [
    {
     "name": "stdout",
     "output_type": "stream",
     "text": [
      "0.0018157012491464895 3\n",
      "1.0\n"
     ]
    },
    {
     "data": {
      "text/html": [
       "<img src=\"data:image/png;base64,iVBORw0KGgoAAAANSUhEUgAAAZAAAAFeCAIAAAAkP95fAAAgAElEQVR4Xuy97Y9kSXbe95xzIu7NrKrp2VlSpE1bsGHCNizRhESR4pqkzDcZAiQSu0v4g2EC/uw/ywJJGzag5axfSH4wLICmCUqQAYEmBAMWYMCCRYpe2UtuV+a9EXHO4w9xMyu7p+dlZ6e7K6vjh0JNT9etrKzblb8659wn4kprDYPBYHAN6KcdMBgMBo+FIazBYHA1DGENBoOrYQhrMBhcDUNYg8HgahjCGgwGV8MQ1mAwuBqGsAaDwdUwhDUYDK6GIazBYHA1DGENBoOrYQhrMBhcDUNYg8HgahjCGgwGV8MQ1mAwuBqGsAaDwdUwhDUYDK6GIazBYHA1DGENBoOrYQhrMBhcDUNYg8HgahjCGgwGV8MQ1mAwuBqGsAaDwdUwhDUYDK6GIazBYHA1DGENBoOrYQhrMBhcDUNYg8HgahjCGgwGV8MQ1mAwuBqGsAaDwdUwhDUYDK6GIazBYHA1DGENBoOrYQhrMBhcDUNYg8HgahjCGgwGV8MQ1mAwuBqGsAaDwdUwhDUYDK6GIazBYHA1DGENBoOrYQhrMBhcDUNYg8HgahjCGgwGV8MQ1mAwuBqGsAaDwdUwhDUYDK6GIazBYHA1DGENBoOrYQhrMBhcDUNYg8HgahjCGgwGV8MQ1mAwuBqGsAaDwdUwhDUYDK6GIazBYHA1DGENBoOrYQhrMBhcDUNYg8HgahjCGgwGV8MQ1mAwuBqGsAaDwdUwhDUYDK6GIazBYHA1DGENBoOrYQhrMBhcDUNYg8HgahjCGgwGV8MQ1mAwuBqGsAaDwdUwhDUYDK6GIazBYHA1DGENBoOrYQhrMBhcDUNYg8HgahjCGgwGV8MQ1mAwuBqGsAaDwdUwhDUYDK6GIazBYHA1DGENBoOrYQhrMBhcDUNYg8HgahjCGgwGV8MQ1mAwuBqGsAaDwdUwhDUYDK6GIazBYHA1DGENBoOrIX3aAYPBd4l7HI8AdL+H2acdPRh8FwxhDb443ON45P09j0cA3O/l9nZoa/AFMoQ1+AKgO58/57LweOThgFIA8HCQ45H7vex2enc3tDX43hnCGnxPeCnteMSy4HAvKEGnVPixf1SCdlz0OHFZsNvJfo9p+uQHHAw+gSGswefES6nHY7m/j3WRqCYOBEglAG7HgKEtSchaZclyv8PtLYe2Bp+XIazBd42XUp8/b8vSytKiulcls4opBSICqgIQgQAkGhjSklT1Kt9e5H7H3Y53d0Nbg+8Waa192jGDAQDQvTeAbVm8rq0tje4AKCl8Mk1JhCLQHpYJgBJQqgCkmipgwUSF7GAzdzvs95ymMd4afEaGsAafzllV9f7e6+qsjiDE3SkCIotMJnYz67xPmqT3hERDQ120rEICNACkmGnQQoQZOvP2dmhr8BkZwhp8EnSvx6MvSzseW1s9aoARQUBECESEqE27ebrZ2+3e8s4kCwAIQUdjLDgeZV1kXdQdqiAFACAiFqKRoTP2e+52HBmIwScyhDV4NXTv3d+mKi/OCEBEADACImKm85z2+7zbpbRLaUpqcvkgQGM4CrjKepTjUdcV7iShvVOkkomqMhPT0NbgkxnCGrzMC1VVOTqbg/2yX/cUADWz3c52u7Tfp7RLmpOaXLrq8gGBhgipjEWWoyyLLAvcu7C6uYQwQiPR9rIb2hq8miGswQN0L8+f+7K0dWltdbYgIRLuvQEUETGzeU77fdrvzeakOZl9jKleYNMWKrDKcsRFtdXNJWYS7NqCzJhPFxOHtgYnhrAGwCn/2VXlXlrUENCjF1a9DRQz2+3Sbpd2e0tztslEP66q+jgIONhQhCvWF6otAL2SE1UNGjM4bdoa0a0BgCGswcuq8uIguUkKACM0Z9vt8n5v8+5zq+qSri3vTWJZ5HjEskitvT1En20BSphM4IRpaGsADGG9y5yTCm1dgtXpAfJUUyGCgKaU9nvb7fJub2lOmr9HVV2yaQsV2KotHI/afyBV+1NR9NmWgRl5xxGUf7cZwnrnuMx/trJEnFQFAdA9BWAbVO12Nu1SmpOY6evaPc2Bhkas0pauLVnXzYr9ixJGGg2RkXcjcfrOMoT1DvFSVN29ODyA8OgH9DbQ5nm7/DftzKbXqqpLuraAAl9wPMqy6Lqiz+P7EWrKsDDBNILy7yZDWO8El6qq6yGiOiJI4IXuTuc57/e226VpZzolfUOqusTJJk4U8YdqC5dPlDBAe1A+3wxtvVMMYT1xXhVVD0L6hGhLgfYG8FxV6ZTUvrBJ1ecigK6tl6otAIyt4FLgvL5nJE7fEYawniwvqSrYAvRtqP7Aw6wq75K9fVVdEkCDEwXxkWqrV4eECixEmUdQ/l1gCOsJcqmqLVSFB1GFO3pU/TSrsjQ/NlVd0rUVKMoVxyOWRdeVPbp1EpOQxk1bIyj/hBnCelJchqp6VeV8uaYSVT01gI9cVZectSWx9iZR1lUYuPj2ZMtAXATlRwbiaTGE9UT4aFSdQLwoq21VTV8DmHem+SpUdcnWJEqFL7IuOC5aVjS/PEZFJGjIwEicPjWGsK6el1S1rVVmn/BsiGpvAPOpqjLR61LVJQG4RLCAK7bV1KtEXB4jPSiPNILyT4khrGvlMqkQXt1Li0bZhlXnRlBUt5Jqt3sCqrokAEc4inCVZUFflnjS1rb+USDBxARM0DwyENfOENb18bFRdUIuY1Oq57CC2ZwsPxlVXRKES4TUc7WF46InXxOQCBEoMYLyT4AhrGviFVH1ywWAJ3Satqpq2qU0myYTkSenqksIOOnSiFXr6WJiKZcHiIiSxhGUv2KGsK6DnlSIUtqyeFubFw/vDeDZQyS3pEKPqtuULCvwtFV1CbepfAWK1AXLsmUgLk6CiAhpVMEEnbnbYZpGBuJaGMJ67LyU/6REi0YAp7Q6AAFkmlIfVE07sylbUjzxqurjuNQW6tLHW+dq6ywvIRNMmo6g/BUxhPV4eSn/6VGdcd53ZTuGPCcVLM/vuKouIRGChgqp52pL1vVhn6/eJLobVTGC8tfBENZjpA+qota2HL2V7V41JEk1OwvrclbVt1XQpz6r+m7p2nI0oqC9UG1tpZY7RBRQSteW7PbMeWQgHidDWI+Lc6jKa3EvzU+rarZ3m7DOs6peVQ1VfTKX2hJftwBEr7bc+201eqOoAevaytOIbj1ChrAeBXQP98v8Z0j4aS+9iw2hVM+zqqGq7xpxsJ209VBtnROnfbYFGERdXwjKm40+8TEwhPWW6UkFL+WlVTXnWRVP92Wwed5yVXmnmt/KZlVPg22nQKlo22VErKuc7g4LACIaIUGTDExbdGuaRgbirTOE9dY4h6qi1la6qtq2+k/1YXsFkYex+imqPlT1veOkSxAFcQrKr6v0XxLdXBEP63u6tnIe0a23yxDWW+ClqDrhPakQvfU73RIZImm36+OqK9pW4bq43ASi7wDBZVFyG2xF4CG6lSQMaQTl3yZDWG+UF/KfdXUvIQyS50FVv8+VyLYDzG5nab7GbRWui/MmEBIrXqy2cNEqKmAuD0H5kTh94wxhvSHOoSovxevavAQ9pP/y5nlQdW4Au6qyzXa6Vd/gdcPttmMr+GK1FXG+kghCI4wqMkFnTNOIbr1JhrBeO5f5z2DzqC0aedH6ASD75T+d5zTvzKYv9g6Ag8/OSVsVKCiLrOt2MfHsLECCABNMmME0EqdvjCGs18jD5b/j0b0EvIXztK1Ct9UWqupj9Tyf1ioPVb1lurZCGrlKXXuTuEW3zuOtPtuCWVjIaWvmaRrRrdfHENZr4aNRdRcAZIDg2Vaap7Tf2Tz3qPpQ1WPjVG21vixRe5N4rrZ6q9i1FRhB+TfAENYXyWX+8xxVJxjAeVYlqnixqhqqeuRcakvai9XWyVkANOJhfU+eRuL0dTCE9cXwUv4z2E6ragSyLazZFn9M07awJs9qU3oHNqt6GvC05daltqQUAnL69yWhpIkoEyL1oPxInH6BDGF9r7yQ/7xcVdMvhgsY7G3gZVWlmse2CtcIH/auqWiLrOv2tl3oFRICCqAQc4WMxOkXyRDW5+ejUXWP5r37C0LldBFQbPdCA5jUhqquGm47yl+spu5NIgmRXnP1IYAFR1D+C2QI6/PwMTeA2NZ1MNg3Tydg09zH6mOt8tPjUlvwtQcgZF23f10P6MN4y5hEJsi4Ecb3xBDWd8dLUfWAN68EKCIAg1sbKJKm2XZzz3+q5aGqp8rD3jVSX6q2SAgJFRIKCpkkw20E5T83Q1iflRei6m1trcQ5o64PtoJKmmbdzWm3S2nW06qaoaqnDbcNThtQEassK9ZF1hXB7iwQIEUgfX3PCMp/LoawPp3L/GewuVdHnG6q3DVEQMTU5tmmOe12mqbzHQCHqt4dtmpLnCzCcq624CHgeSTf8/KJ8kJQfiROPwNDWJ/EZf4z4rSqBiIQnvYgISlq21h93lmeTfNQ1buNOMMltiZxXbCusqzi3tvD82xeGQkmyGQaidPPwhDWKzjnPx+i6vBgRAREBedbwFMspd3cC6uuqrGtwuDMtglEbxJLn8qv4m1LbPXbdJMqUKrSXgjKj8TpqxjCeoGPRtUD0cK37akAnur5U/5ztjxbmpLmsa3C4JVcrqaW2sdbq9TyQqkFADQxdaVMkkZQ/tUMYW28Oqp+SlKduj8AsJOqHhYADlUNPo2ztgSVdZFlfQjK9xvibr8TYX1r5hGUfxVDWC9H1YPNozmDgEC27o+EiM1TmndbAzhUNfju4cMmEEXqKuuKsmK5SJwCBJRUEWUSppE4veSdFtbLUfVWXCIittu/k331H4FtVc2lqsZa5cHn5VRt9U0gtsU9WNf+w3YZlzcRCx1B+TPvqLAu8589qu4IjzjfyLz/roOIzbP2wmqaTfNQ1eCL4qwtQUVbsS5YVimlL0t8kBegIhb6EJR/hxOn75ywXlZV1OaVIn2cjr4SkIRImudeWNm05T9NbKhq8MXCh00gqrQVp2prK/BP8oJAPZJmML/L2nqHhHWeqfeoetA9WuDhB2P7nabax+ppt9M8jbXKgzcAX1hNXdBvTF0KIhTYbt1DQqCkIUnYQ1D+XUqcvhPC+qiqWjQ+JBW27q83gDbPaTf3HWCGqgZvkrO2IL1JPM22SFz0iQoKxMTE3zltPWVhvZT/7FF1ZwQpojxtAAJSzOzUAKY8qw1VDd4aF9VW3TaB6FtuuUNk+6kVEXJb3/NSUP5JR7eeprBeqaoAPLwnFR4KK7M0z9sda9JkY63y4HFwqS2Jsg221lXcL0otxDaShyDjHdDWUxPWOf/ZlsVrCS9Oj4jTgOr8y4lidh6rD1UNHifn1dRA5UeqrT5/PU1hQ6lGOwfln2Ti9OkIK9zjpKpotdU1EB5OATZJbZliTUmnabPVWKs8ePRs2jovS+zaKgWtvaQtZZiYhkJmWH562noKwgp3L6Weo+rRgv3yX2x9H7bMuqZ0joD2qmqoanAtkAjQJYgqLA8BiNbOI47+XkQsKHiCQfnrFlb0TfVKiVpbXT1aeCMQ4dvaP5VeXmnK23LlebaLBvDTvsJg8LggQTltAsFyWW1dzDt6BkKMtL7HadfW9Ue3rlVYZ1X1kqrvU+ytoQdWYuvwRUVTOs2qdmaTahqqGlw/EmCDQxperLYuO0SQQj6loPz1CWsLVbW+UNlrLQQiAgDO7wUkbZpsmrb9qmw22xrAT378weCKCMAlglVYULZqa9sEAtvQliISYaoWSsmCi9nWtUW3rklYXorX0srq3lqrfUN1ulMQ7iIS7gIwwqac9nub5zTNZn0B4FhVM3iyfGRZ4irHo5TCl68kUlUs9HqD8lcgrHCneytLhHu4u4MMd5LRGkkI2GurvllVzjZPlifVnGyoavCucNYWUMVP0a1SEAESqojoLwUFDCZhsBl5uqLo1iMXVjC81bWFt9pASPfXSVXsfw5XM82594CWsmpKmsblv8E7SF9NHepkES/bSP4iutXLLhER0sQ07IqC8o9UWAQDDWgerdbqLqyuEHgQfFBVa6Kq00lVllXMxkx98M7zsCwRlb5qKQ9B+e16lDJCABXRF4Pyjzm69fiE5Q5tRcVRgOYR3simUkMJ9uIW8NZUVXPWlCznrqpRUg0Gl7y0vgeXGYiTsLq/+voe1Ylhjzko/5iE5Y5ScDzK5OXWijrRSjT3SeqUayiE7kLA1HK2lEVN1fTzXvsjwf4OELxsOwLBIAIISN8wSxPe6ESs7yjRr/O8wS/7ApfPAdu244Nr4qPaemgSTx0iRASQl4Lyjy9xmj7tgDeCO0rh8Si14niENjWTHaChaFXcVRUmpE1TypNaUjERIUDxQARE+fL+6gQCJB0AoNp3kJHNUwFGFKmVHhAgKS2ppi0bzwA91sLahCGkqODZXOW9CW/oJRtkZdMoCIhpiCmyXZiL28DCt8WRYtK1cj6ACJBwCEBVvLxZ6kunyOThFJIk4OzPwgEimeiUYW/o+x98QQhggCIFktuEm5m7rdpCX9+zpRcDkAqKNJPQtkpNqBWPSVtvW1juPB5ZCmrtwpJ1BZo8M50tGCbNWJpKnZ5lu8k29R2Kg3SJYNEoCDZNKrtEU+k31kWQDieLsoCokg2TQvvYMehkxXrE/UoPAjDBzYScRYwk3LlWlIraEGFgEoHk9kyVd+n1v2SDLFHDD3I4aiNU+f5UdG+cTKz3xQGGNOEqrYVa011CVlIgkH7NKAJVYxGySRKdE9OLpyiCq7GAcJ2ck2JzFsEWLXyNZeHaVKA7k5ub0N0kWT/52Q8eH5u2aAFzydxNmOdzk8iLTouAC0Jdo1m4HGzT1iNInL41YbGU/oZlYSnsqmqNvkoKL1Y9hZBooRMkQhWSKNLvERgSzgIU4SqMFhaCSXZG7csSHC1QyFWjMFjRRJkkCyXQ4AVtiecH3K/iJAkVKUmezWIGZ9y3qC1qs9osQkAAyoSdrVNWzq/1bjlBFq+1HmL9jhyPCIqJxBzKJkicupIclVwFq6IFzAMhYrB+r9cAK1egKBZEhOUIhuwNKhCSpwOWYAHR3IHIOgsFQo8WUbwc4njksSppi5o3vfOSbjKmt/ljO/i8PGhLHrS1dYiloJTzkV1bjqZaU7gcjUtGKei5rbcU3XrTwqI73ePsqVKwrqxVWou6hoYI4MEFHhbU6JuTQSKaizcR2U5lNAQQAgo9BI0uIPtrEXSwMUAqSIZrn0YRYCCgVWQVW0UXuve2CZ6EzlAJamlYqi81SrMIkKqCprbX9gO7gjS/qjMiEAiSIr0D/chHSUiQULGPK1J6bdXasbZjtEViZVCTeUj11ZEpplAiHE640IVBikuQQVElADiigaQLQxDBCAQQhKgIicZoEiAjAoRLUAIMhQJoiIZCFnKNVixCRHQhxXEb1W4Ck4mOUusaETlXW+qSuZsxzbwMypNbdIt0gOIiVaPIsXLJmCbsduhN4pstuN6csE75z8ILVaHWLiyKE1QxAQVkteTJLfW7eAtYEQEGqRAKuI3MIRDpAxdhgCQAUCQIQrbbUwJBEuy7nRHifcao+KmEHBQ4REJ8hXtSk8jWslWxqlHvEDMiOaXaN+//nMtcpwzss2Q5DaH7MMijCAsjQrPKbKLal9CLEHB4oFgUgayYs0z2otT6cLSyVdTKWtlCKAwCGgHSyRCy/zTJdrxAFA+DOQIQIdj9GIRBSAQZfWIlQjLYDwD6/IKM08xLtgINAQlBYxDu0egEMRF0aDh05yk5ksA+OkAcPH5EYBClEdYkYZ42bfXX5qnakm1aKi6usiqr1MZeau128ma19SaE1VVVj0ev1UuJZZFaUausK2uFN6JRBSIakuYJu4yUhJOGQMW6cSSCTjFs16pERAllQLY5efRLftIXUfUXMgFRIBRw8DwuJyGQv5Js3zcg7WMdiPTXPYQqVBFBCNzpoIIa9Re5/lY7hN1TJYAkJhCIBMKjRKzCQvdgpcSkOxXtRaHTG1ZFIQqIBg9IZjJsFwApCMAZLuIhAXEKIf3KMwDpKsHDT9Dlt8P+1Lf/3S5rAj0eeDpFF045fcvA+dNeRM5fTCQAghKEN0jZC6Q0rKukxJyZs6fsSIr00bpy8MgRgQCZRrEmifPEqcg8n6stAP1XJNWcdLhwUarcL1uHmLO8qcTp6xVWnPb/jFrL8ei1Rq1cV6lVasW6Cvova6eYzLc27Wy/w5SwyyEJ6A0HM4UqPL1Gt0t9/VyLmiggsf0awFZ9oVc2KsQ2pz+9ygUqoioallra/UOmXrUIgTBhf3ULYK7TMtveIyuVIYy/2eyvR/yuF2OhZIioKIUu0RhkIBzhAaGFgAkQMoIu4f0LIAA4AmygQkxPTzlAx6lx7UoWMZlVYCJwM2NIPJxfAgKFmGhAtm++nwEAJ0EZRMUcwgdlbwd1Kxm1nyx/8FR/JFFV06Q2I9TEQRSsO7q0ot9ZaQkpYcqwhJzjZna5fWNXUQdfIF1bE1Ifycc0yTSzrLyYbZ1fWyHSUOfmWCpzRs7nqby85ouJr1dY5fnzqHWrrWpt6xq19vm6RpNWRByJMee2S7LL0/62zrtpP8suixlVQEJBYiKcUKE8vEoFMIVAJwATBALdTr2QklQRpnoLgQAKUVGBUiBMht2qs98WbRWkdmElhakwZJcA14m1ePIwhCBI/o+Mv+byl03+idPVDYat+dpE0wmAwRAGqKJEn12B2P7NXSjoI6WtK4v+Wdy8K5CkKjLLNCMpssAkSwbMtsYWAoFkgcFgEIX0elJFerGYRMEsYjBJgEFFRIFeXJkIICozdIKgm11FtJ8vmmoi5zZLSEOtEk7ziO8Ea1TBn6vkjJSQElNCStjdFJ0z8qiyrhYqoNDA7MicJ+SZrfQ7vKKUU1XOBp+44vkqOWOeWWuvs1iKvP/+p3yR74HXKywA6/Pn9XCI1rqw6I3RNKpFE1Y1kcmwV+419qnsJ93fcdqppi2gqWDPQJGpV1T91QgYEiTxVCkoFNz6K5ImSmZo3soyAXp7AyFoKqKpGNq8/zcYGiFAiP7zVvoXE20yBSLa2qSGKEnvc7DiquzF2oOhZCvhet8m3TyboE7lHgGIElAISGKrlU4f3946yVSwo0G7ZpMIRaizmMIEQvRTkik8PQUBoaL9DKgokSj91530bx+Ank4RoQnzVnbJ6SGkP38YJLALyaZzzM5WvbWK2uSetcRa+FwkZZj1IktuJg9p8tB3D66XTVucXBLzxDShFvbB1lp6Y9jaMS3BNaFWyZkp0V0/+ODTHvt74vUKy6ZJzaK19f550D08oiKawZFok8GAWWyW2Ivfit9Ys4k2q6jJ6Sd/+w8hW8PS5zKAXvQ45w/1Q9FfnuRpKo6HoDYpCVMg/0uP26TCEN1E8SW76YfoRKUTQHM4VaESf3I4RPg/jvi3kP7NpP/MefZgf3yhQERl+5vtmZ3+0J+hiirDBH6qp0766EYDIElVOasKTo4WiMpZKGeEfEEQorKJVAQ4y+N8xMVJ6J++ff0zFGwfI5Qyh0bkcHU399xcFsfUDguORZ43mRLmDJ2CIaFkXP6LDK6dU7U1uaSYJuQZdW15LWXx+m3EkUsDpt4Pyt0dzF533OH1CkvN1ExURaXW1qIBrkk0JRqhhNJ2qjN0hu/o1qhLVVNM0nufk4MgL7wOTv/34ovjRXldHncqIR7+zkQIKw3ENikmuTPrL+NAH6ARKaAhoCC+fDf1SZaAIA3sBRVBARQiots3Q+mpcTm1b2SfJSXt/RuxNV9k904vFEGYiGFSwUl82GoeXnw3Zz76V4KL0/LSRy9Pwksue/mA/p+ghhjMQhv6RUpIQKpDHeqh7BcYB0+Ws7YarKZUb7Tkmo6OtcTzVaQiJfnSl6gqZvI6B1h43cLq30AfjKiaZA1xKGikEYlqYTPSXpEZsXrch6kDRUhMGckI+8ir6otCttf7g92qx+mP298RAjGShM0q3ish8jveoNB+NV8kSJPUIwSnB9deGXXtKDTJ9FAQCRJEBD301GdOAghEe87q4emdeE1n4ePpgzmnt2jBiljFC7zVBqTZbnJOSVJSSSoZOM3s+Rae6uC1QzIYDI8INikNS8CBBMkZqlCV13+h8PUKC4Capd0OpEQ2RRNvLEikBibYHCkzK1QjUDzgIa4kosreOU0ykWI4LRh5zby6XjnVI/U0IScBzee/B7ZrAadx0ulTek3UOyzpBdvlI0v3IQmQ54JHZbPVW4SARzjpiBbVvXiU1lZKldDgLJrkDpKS5IScmJKklLALni7tDp4KvYSu3oovzReu91gOvK9ewnY73e9lv8fdnex2r9tWeN3CUrPdBx9AteYsbVGhaShKJGdqYc7kkCYSSSjiLqXFfWt0c6qH7FdGyJRhxov28C3xMD96VW/W3596u4ve6qLDukhm9GG8AKAQp8GRbCOwjdMlRLwxSATpjK2witq8eCvO6nQIs2SVhEnkfYUZcpIpS86SM2ya8QbWWQ7eHARaRIna2lLroR0OXA5YDjy6TDdqe9nvsd/Le+/h9lbef/91O+v1CgvdWe+/n6ZJl/tkqOLK0lBDi8vacksqhIOuoIkLFolQeCBcPdAK3DFNkhNE+YZKrc+NfKJdzh/dLh2e5ttyGle9Er5yevVF0+doHuHsVVX1qN7WiFajBShCE0nIKWmEaUqakk5Zu7AkiZjJqK+eDh7RGKWt7ks93rfjoR3uuRxzq1lmmbOkW+z3cnsrz57JG1kX/dqFBUDNprs73eUaoVHFV43VJblqS6WaJFEL0XCJmCSUa2M0d2FrWqne6EQEpgR9DKXW98jJVhsvzn3k3EW++Cn9Yy///RdCV1UvrKpXjxpRva7uxekBBiGgCRIky5xyRprUslnS/obPuSXZ4HHSUzw1Wm1Lq8d6eN7uj+14iOMhC2edks5qO9zd6d0dbm9lv/+0h/xieBPC6qQ0G2ieVNRohauIUNRNVykwoUt2twhDKKpEOB3cSiBpQ/kAACAASURBVC3H5qzXPYl/rfAjJupc1GUUyMcc9VpKrb7G0MM9vHn1KOElWmlevF/ChFi/aAAzJNPJ0mx5pzBTk08rKgdXR5AtonqpvrT1UO+f+/2hHY5c12Q662w66+5Wbm702bMtzfCmeHPCAiCQybJAjIbthkNJJLnoihImoZpbS+7CmISNIeGNDdpCK9Wr+DaJh9i1jXf5kdTT5Qcvcwb9jy/ZbfvsL85ZBIJw0umtFffa2hpeIoozIigqCpiIwlQtaU5ptjynNJmMjfOfICSDqNGqr7UefTm0+/t6f+/HRVqbNCedLO10t7dnz+z2Vu/uPu0hv2DeqLA62ZLBhFrEmphDAHWYi4bUSBIi2d3ILKFcha70xhb0MA/xlRGYEjVtC02uiV6zXHZ9InjlN3GprU9y3XcPCUpXVTTfVOW1D9dbXx2kqipiYqZmmlWnlGezKWmysanMU6TP13sb6FsbeGj3Bz8ek6jZlGxO843d3OS7u/Tsmb7mjOgreQvCAqCQnUwmVmCV2mgQI6zIEqouQtXUWopQxITaENL3fKC7VYoXeuhMpquYxL8Ety0l+NmaqS9SVeiFlaBFNDaP4rW0unpdm7dgQKgqKmpqSU0lmU0pzWpTsmzb5hODp0aQ1b1GaW2py327v2+Hgx+OLGXSZJpT2tluP733Xr69ne7uXndA9ON4O8JCbw+Z+oJkhTUkh5LqUkKE1rJItJYjlMxwxVLDhU3YwtylVXpgfuuT+L765yHN8EktG4F+N4ezsz6F88VEecUyms9Dz4I2eo3WfI22tLK61+ZOUgBTNZFkyTRp/zFNk1kePeBT5WK+vrZ2rIfncTi2w6EdDhpMlpNOeb5N+32+vZ2ePUtvar7+St6asDoJplClKqxAQixoAV2kuK6RhOGpNSMTQqScSy0x3ybx8tYm8UEGo28N2HOf0jeEoNir6hDpW1PJw3XAT7j299KVxE8exn8WSBLiZGPUqNUXb6v7GuEeAUAFppZUkyWzbDZZms3mNO7z+HQJsoXXaK0trRzq/XM/HNv9IZYlqSWbzGabdr2wynd39jbawEvesrAAKGVGVqhAKs1hIUpqEw1dQ9okkqonuoHCqhI13OGgh7aAV/g5E5+2jMDrJcggW7SI1mdBIoAApg1GyYnZIB8t+jZTvTRNf1FbH1HVw4GfpSh7JSS6rWp4jVp8dS8erd/nsS9aNDUTM8spncZVlvUiLTt4SvT5eqOXtrZ2bMu9H471/r4djqgtazLNebqx3T7f3r7dNvCSty8sXLSHJlagDeow0lxskSVUkkmukugmtL7HdITQWzRqo3qVIITIIF6rs3pV5RHNa0SlF6lFWqhQRJgFN5k2F8xJpgR7qeh7Zcaqc6Gpjz/os469XoAERZxRw2u04tW57c21LXeEmplJUsspzZamnKYeWRg8Schtvt587TGrXli1w8EgyXKyOU37tN9Pz57l29u32wZe8iiE1entoVAU1mANFlBCiphbcW/JLYcnhIIZDThAXSQaGIwVAFSQhLTPXYp8POwp8HCPFl5bXaMUlsVqNSeFIiJZWA03O8ytiQemhGx8odQS+dg01ifzOVTVIeiBJmiIFn764j0XIqpJoWrZbEp5Ns3J0ugBnzDnmFXzpa6H+vy5H4/t/sBSkmjSnNPedvt8c/NI2sBLHpGwcGoPjVrFAHFqwIDUYE1KRnNKphu9L0sESrDfZ4INCiShiBgCJl/YDJ598+Jwj+attFpaWaMUXxdtFbVKCwEhQFKtCV6jVdy0sF3FHB8ptV4Zs/oEPreq0J886WQjGxGEYNsgQkXNTKGqydLUIwsqowd8svT5eguvvrZ6bMt9r6r8cIR71pR0Snlnu/387Fm6vc37/WNoAy95XMICIJC8eUcqrMEciTSKrlIaxFUTNTG2uy6wQcqW5IqkkrXf0AL43s80yW0lcDSPGq20ZfV1revKWn+itV0tN7XuPSbQBKLibmu0NeIfeOO+cmpNPfg5S63P547zJcvt+QcroyqbkCK2bcVlZsnEVJNZVrURWXja9J/k4tV9ret9Oxz8eKz3hzgeVSTbnGy2aZdubqa7u0fVBl7y6ITVSTCjmtgKFWqDOJS0JoniLu50jZAWMIECFkRtWJWr9k2EeynxeV+A/aUeoEdzr+7F1zVKacsapfx4a1rKVMpfaD9/13hbMQMmUEU0FJd/UX/3Z9r+GPGPWsO+he5eOdX6hFLr0h3bvg7y8P8vmeUcrSC3YwEgAkALd7ZAiwgqqMKQDMuaVU019bzCUNXTpi9jrl5aW9p6X5/f+/HYDkeUmsSyTZbmNO/Tzc307Nkjma+/kkcqLPRSiyaYq5jCmqQKCxZHQBziaiEewn6NTsUYUirWhNmg+nkDpf0l74wWLbxGVF/XtvaJVfWyfqW2aS1frj9nlcnxX1bcNsxE+jr0Q2jFrzZO9W8soX/Sfv8r+/YHteGmMbWmHpgSc4JcPrGPlFoPPiK2OyoS7EuQBbLt9rddWiC7XsODsRlLsAUt6GyVpSBaUooQqpZymvamuyxjJeDTh4TzPF8/1MOhHQ7t/hDHowTzNrvc95jV42wDL5HW2qcd85YJ4cpSWGorrRXCBa6gSPS7OgecGi1LFSVvsrw/82aPNBH5u7lP3qaqCKd7VG8lavF19U1V5T9ozdb1y+VntVIbfr1CHDvHB1/HDGx3JftNYMJ/tkPdYbmRf77/n4/73XG3/0fzJDc3rnvD7URLHxO/unwyWzeKIBvAHsMSUVLOtwciQwAPJyPCwf55lKB6qDdpjbUgnEqYQCylOe128d5dwn4ssXnabDErr83XVu7b/aEdt5iViZ4Wh25t4PTs2aOar7+SKxAWAIIV3p3lEQEXUMDmJVjhVVk10YWUSfJ7Zu9l3OyZJ+FnLLIeolVsXVW9qoq1eClfaS3VYqV+X/kFrfiNhmigA1/HBPwAsLscmf0moMAOv3qDZYfjTv949/vH/e4ffHlf8p3IB3tO08e3q1s32tckR4M0sEhztGASqlIMMPQ7NJMAw53hURs9IkKCFkwRqadrW5FwIiQZNKU8MWX+0LPAl+exfdUThadtQluUWk8xq8PBD0dpLV2stnlUMatP5TqE1alola323icIsNSlPP9z8ZqiZnORoKrmW+RbvX1PeHODnD/tJXm2g/cGsG7jKl9LlPKTrVkpVsr31V9MjdLwawUM4Gsg0M/d+9/4xgdAH1HKr/wKAPwmIEDGr+5R9lh28sfv/d6f/+vv/Yv5/f/dv3zL/f5VwuolXpDNm0cLNLIgqpQVtbGRKp40zLYdX7B1g9E8amP1HgS14BTMHhau3tCahgtCTGlJLEue/IeflfQXb69sw4vBZ4JAc39oA+/v/Xj0w9GPRwVSXx960QZOb3zThc/NNQkLQIAV7tuKGDavy5/9f/GdP8ttndRFHApJWadb7m747D3T9/byscraVNWjVVGjlW1ctZaotasqlfJ97ResUBp+rQIOEPg6GtCA9RvfCOAZ8CXgPeCmP253FsDfBBMw4z95D8fvw7f/ov7R7v/4Nn/w277bAy/lMs9Ppgfo3QuioK1sRbyhNa8MRZhSTNUoEAiDcEZz78LyTVg5YoroRZa0ZnRF34XPmDNvdv7vfFDzD78nV/BLdfBd4dF/mku/Glif38eytMORy5rUrLeB8yONWX0qVyYsAASc23i5hR+/823/9rfT8z+b26IaIkQypFl2N/7sDs/eN7ub8LKzCATQx+reajuNq2ItPa+Quqrqz6dGq/j1imgAwa8jgAqUb3yj66up3gDPgDvgBrjtk6yvfa1/FXwTFMiX8R//AL71r+GP99M/xbeA91YPOy0NJBDB081pWnhptXgp8PWvwlPUFM1qE+/CkoCBigAgcIpTmmtzqY0eTmpwR07BKXyOmD1SUAlR+N6W/XS/v/mX//aX/8/5h1t8toZ5cA1s83VvLUqrx3a87xMrPy7ifrLV9bWBlzzeq4Qfh2C7C3IEReEpl5TMspUlHRYoRIWpobggAuT7LPpeZtLTouMAHB5sZA1f21LqsrZSWOtfby2XslvX728/nyqt4jca0CBA+tr2BFZg+fDDBjjQnfUc0G5SIAMTwA8/BCBf+xq+Cgj4+/ivA39e/5ef2v/i98u/8i0+n1UbnX37BEaLGmwRlVFYViwlvP6YeGIztu+Lrxgo2xVBQEQBbdBl+2bQgMZo8IADGpiJKZD6G6EGSYgsbjAgC/5f/hMgkk3N/ZNO9+BKOC9jdl9b2drAdjhuu1m9OF9/tDGrT+X6hNURwFSEmpJFSpaS2WTS5LgKGqyxtEAE4ARuybxzSYSS4nBBYxQuaxzXOK6+th9rLdWSS/mB+rNTZWr4ryrQoIR89eG+W/HhhwaswJ8B68kVARiQgBmoF+eUH36oX/saCPwK8AcI++nfxe2PED1U5XEK0LMyCqPAC5YVrfwYIqQltA/wk9YlK/pNAgIKVTgDqUEOCEcE3NEc1dECjVAin65aqsEMKUuaYBM0QxJ+bsKX4i8Bx487vYMrgg/bhBZvx7Ye6/3WBqLU3Asr22JW19gGXnKtwuqoSEoZ006mphUyKZvieLRjkSmcDkAAdzIVSUnMKAIlWbEWWYscVzmWn6rtppQP2s9qZar4byqsQQn9ar/tLeRUNAEIYA/0CusIBCBAAwrQgArMAE6C8w8/FMD+86/J3wH+V1TgW/x/IP48WCXcG1nBQl9kLVHXH5MwqbPXBj6TrxAakN/p10QzAuKKrC0FbAWOYICB6DveO+JU6CkAgxg0iUxgBvv7HWTC/YRVz89xcMUQD8uYvR3r4eCnNlAZpildVczqU7luYQGYpr3eglCIUlX67WfXFcejRRV8pxHqlNTEElXFVBSMKrVyXX96bbKU99b6pfoL4vj13uM58ldhOG2w9eGHL72yJ2APlJOzehFUT8JyQC7eALBBfg9i+Anw+/ED3+K3ajg1IFW4SlvksPzVaCnqTpqwvS8/tQJV5LegBpEUMDj/t1CEHJXP9biirL6GEy3Yoj/rrUEUk2raUrKc8zS1nG2aMP84ZmDCj+5QJ5QJQP7I6RxcE+dlzLUdvfRd945+PMaymmrSyWx6Am3gJVcvLABpv+c0MWeZJuaMnHk4iCqOR33uGc8rKcklJZpSLQRA+ylv01ru1vLB8vMsYMOvNbgDX0UfdRmgH36oL6oHAIEZaKccA/tYDeitYteWnt7On0IBAwBBB1pFhDTFmnD8Ua0z1l0rCfXL8jMUNkEAvyVKUSSE/lOIipDaklYrGo0S8MZGBLbCiug1pzIl5qw56zTJNKX5x20CJmDGvzej7VAz/gQNImOAdaXwYhmzt2M9HraJ1eHI1pJatkltTtc8X38lT0FYAMRM7u5oJmYwg/abEmccj/K8ZN637LAkySj2M8kM7a7Vv1B/Li0E8HcBV3iG/QqYwQC+8WEl5q6tC1t1l03dDqfaKk7OSqdJfDoZRBSShYJwMCDgt/DPoWikI0TaXzJ/z9dJ1h+QrxhJwoEPgVWFs4iKGlT/XTWSotRoTq/sT1jRfBv/u8CTxpQl55SyTZPmvLv5CTHYBJ3xl3fwGS3j/4p1llFbXTHbMuZWm69eD/Vw6BMrPx6VmNKkkp5SG3jJExEWAJjJ3R2miTn3NzkeoYqjymFJdmBKNP1bKb0n8oH+4tSYCn5jRSj8DvpLMMD3aN/87+gUBxpbo8XmrE6vp26BdCq72qkH1NOcuwABJIElkUn1a7/sM+CiISIBCZA/pAZlFn0W/g+5fl1+Ugk4/h4QipLAHZAgir9mACkObdTGqeHvH4ADuMIDLl9rQCR4AiZJE1KGTegj9v72I7eIBM+A4k8lZgWAUVtdI30VxGkZ89HXLbzuy7K1gZaTXXHM6lN5QsLqTJO8/z7MaAZVUYUq1iTHo6zrV7PdaX2mvwSB9iBoQH8F+BKwAwn89u9IEE44pRFr1Eo05jhNo05fJ59ion1uxdPAq8/5aYKkkVUmMxW4SMAIoX+//FDvIAlNqHdY/5b5XvD3iAhUBSdgghqCf/iz+Cu7VVBBpzaRhuT46gG3R/za8k0nmb7WVaUZOiHNsJOzfuwGkRAzPAOGP5U4n6Rhq2uExPluzN6Wdjy0U359283K8pNsAy95csICYIZ+N9ppipwlJTkeYYbjUWtVsH/Pf5fAVwFABOaQOwSgv/y3jWhEBCOoDfHN/6GuESUSIUHZOj1QoMANUAgj+tSJKq3bKhtNbco2ZUD0tG3eH4IRLioBKdQGydCEkGAlmBAGNQj+QIup1x2AFv9T+cf/flDctdbfq/f/afnZOKA6fNLIv63TpNNkp7efvvsRGnw+qUrxpzpUdfWcljGX5msrx3Y4+HHxY19tI9km04f5etrt0hNqAy95isICYMa7O06T9GFWf0vpfl3/1eMvSuC/4MOxPQigDXqDMLAmiQiBK12gX/8l+e9/O1aPRg0aqAC47VwTwI5A3yBdxEUoAlPJWXLWKevf+BkRxB/9ke1/RBTb9jDbpUhxWgsNwgzMW/2m7fe0OGv8bX5l5/Jb9Q9+wo9TcwmX1v6jtv5gQQ20KSPnNE06TWmeNef/8OZHfYbPiAme8c+wzulhVjVUdaU8LGP2tbWlrdvVwFgWlprEkk2m+Qm3gZc8UWF1ponvv7/ZKmdJ6XnO/7f+/R8sP48FAPBNAIACN/9tfJDw5Znv71v+Oax/KO4s3lrTn/yK/vLfoYf/1u9oC+vOUkARgiBAaEAhDsH/3969PVuWHOUB/zKzqtZa57RmAAdgsCGQAQUYaRCSCIURQliKUCAJC2HsF5AJ/2ngS9iAwxcJkLmYu8E2mJuwhYS4GDscBAILNL33ulRlph9q7927Z1qa6Znunt7n5O/hPPXDieg4X1TmyqwidhaX5DnLO9/Zr2mmP4LkN0Lw9UxGBGIww8kNDvp1hxmMQAzfwO2X3bWv/xR3V/92XXJVa0atkSnDq6Ml4jRJLmkYuJR3Td98iKoBn053hfOQ0nC8vyai6nKZu5pV6/31pc573c+tH6zMM6fUBxfGScbxppaB5y5vl/AVoHmm3e5r5/l6v//43bsfqm+fZowznPFD/W95BL4I+sWYn6H6TFIRUWe3Zf/xWht/y1vYjM3xMz8j5uzGcBIY9UdJoU7VWSEKhqT0jm/vg++FIH8KLuCEr2MyEJg/wzPcvtSedU8EsG6/sv43rhvPleZmTQcYm3+fvQeVfrT9tDZ9r8KawV2FfxLMKX/v+B4r+On0W1zKO66+qafVH6TPSSpjKqePmhFVF62vMTevrc6nMrDN8+k2K+F8w8asXtKtCCwA2Da6e/f1yzIty/V+/7f2b55mDCukAYADP3QH/kVYnqHldb+B130bBriBlLRiWX4X2yZveQuZs7u4EzkxnNypP+VKZjAFFG5gB8Pznxz6318vZAyAPkPLYQrClayx1S/3rxLVX1r/K+8WnltbW2s6klHT77fv6kOoplBDA5qQFliGFvx0/k3O+Z1Xb9KCNuL302dzmcaUEaeqG+G4xlybbdqWe2NW80LahEQ4iwxpnNI43vgy8NyNLgnPleLPPvvHpfztUlRE+XfHvP6X3e4H1u8sKwj4p3u0hM+xP09vfx4yN/zS+Ieevw7CJX1z2+C/L14db3K4E3mv6hzoDz7AweQgyB86MSSRZHxDgjFA9Bma4X1k1P68Lubtq8mT10F1aJZ3q++rLw2belODUVNSWIM6lFAzWiYr0AIrsAHvKm/ppyod8Ue0n/IQUXVj3Ftjbkurc/8U2A9W7EichYvkw9fAGzZm9ZJuzQnrZJ55t/uabbuz31/t9+OyXM3zsK4AvoTeX+/gc6/ju9eyn2i+pv01LZmb0+82aHNXQJ3V2Z0SQN6vY3eHNzjQg0wE35jdCf0S489gDzhMP9M2QzNrr2crqL+/7bnV71renPb27/c/76u2TataMkVza+7CngQ5cymplD4L+s6r57TABuiIT8tOKA350FmPqLp0fnyN+XzMyualzbOvW2JhkpQGKVO+ujrMhd6CMvDcrTlhnUyTifzxPBPwjczGbCLKfDXPn6sf8R0pUvM7rV1VHZ9p35KuaR7oTYlJANPfqcDxDikigPqEA/VvfG9kcgfYQQT2z2AHd6D9Rd3UWoN+DVvieoX6ibr4tvq85cV5gc/VNvVqrRn1VZuSKGcuhXOWUvIwfMf43Kmz/il5XiSfasCIqhvAgWbWvLW2tra0ea/L0vazzQtUs6TEhSSn4TBmlabplpSB525fYAEoxUUg8gkRZ2ZmACB6X63TPA9o8LvSNGnb62/85prbnavnXvd3ZxJjeVNWmAP4vfZ/Qf3pLX8jf0W/uIYIgMPtD+yzXwQGGlz/vG3Vmnn7WrbB24Dt9+ri2+b77UPrO9KMH5t/ytbm1VydiKowp8wl96iSUr5zfPOvpU/XK+iAT6a/llSmVKIGvEnU7NC00qVtc+9Y9TIwETOnLAOnIV1d5Wm6bWXgudtXEp6b5/4BkfZ7rCv2e8wz1hWkGEWn8Z3X0zxNvzaWen3V7lw3vvom+Up4642r/vNT+tk3yJf0VyE+oX9BDKj+DQLc/kw3c/0qdraWUTPqJ21NVGnb3r9/O+3AC35k/zHfzJo7SFk0JUrpg9Pf9wxLOPStBvxO+rM0DJLKVRkjqm6S3l9vps3WVpe2zm2312XReUGtQtz761KGPmaVpum2lYHnbndgAVClu3dpt8Oy0Cmw5hmtYmCf0ruur+ar6ZfHoV5d2Z07mq8Eo4D+jtzpc55/1J43P4w4GOxLE0Mr2gY18sZQQUteC9onbE20fYjelvfQv4LP+Ffzx6yaGxnk+/J3tQTNsAxLh/56T6v/kf4yl+Eqj/1NQkRU3RR9jblqa7poXdp8GFzoY1bS37a5TWNWL+nWBxYA1WdU7+x213fvTut6td9f7/fDuk7z7JnqJPNU5qurX5hGna7szjWGa6JCSAzG8XYXhTfYlwqARrbRtqEpuQr0k7owWqKWqH0vve3akP4a//L//dR+NVU353/I79fsLR92mC3jV/iTUrKUIsOQypBSiXbVDXPWX19V1/ODlS5LYk6cJQ3MuY9ZyTje2jLw3K3sYb2AyL6UJqLMttspszH3n9M8l7tN1MX83WZ3QTuinWIddC2lUm5IcMZh2cYJjbySr5+2xZq6KtBIjKm9j988AteOn9h+jtb2OVWH/+P0/plZM6zgZ+V3iKV/CpScpS/ccL4qQ0TVDePoa8y16WHMqq/a6Lx4a1mSUEp5lDLetjGrlxSBdbCV8lfPPqsi22FQi2vOKjKs67Bfr2xlVVJlVam6rts6lK2UrQwbJwX396j/RBdDM9+cqpP2OYh347kRGB0Z+Gj9eWyNq34Y77ubURO2LD8rvyk5Sc6cDlElpYjkKRXw4WKbSKsbo49ZNauHNeZ5PsyvzwsDiVNOA0vpY1YyjlEGnovAAs7jYJpIhAB3ZxEQHSJjN6OqNdWmvjYahsOtW6W0nL/yatySf8qqorlXpwaufRX6PXguK5jwMfxqavV767uuF4wr0oo04T+MP7eUL2aZytAPViWVwpymPACIg9UNc7wmtDXdDmXgYTFw8W0T6rdZFckjD0PftpFSIq3ORWDdT8SnyUWI2ZflcKNWv8J023jXyPatGbZKpSBnz9ubxuF1bfutwbcBCnMyoBHru8ubyCENP6O//kH+1u9p3zZVDCtoAa3418tH1ySVoFdEeSrDleTMnGJe4aY6rTGrbYc15uNiIJomliRFpEgZ8/V1GscoAx8oAutB+jUPpVC/CDAlYu5fD2m3ZZ1bbdgqSv62odxp9VeTtIm9OSau4t/BbxR2ATjh5/Q3PsBvGxeUDani3yz/URYdFqsOM7C5muWJuFxdS2wC3kyHa0LNmm364jKQKEth6buB4y3ctnkoEVifh4jfuYN+SXzOhxvimbEmLHPaVhua1XTdWs1ZhLxxqkDl99751jJAgV/AbyfSD9Bbpxk/uf8F2VqqSpticzQwkB3SvG011U2HBiqIqLpxDteEHtaYV13nutvbuuq8eK2JRTilNHIqt3bb5qFEYH0hh/LwGFj3rgOcZ9rV7yl+VfWjiS0lqfQhffemuDb8p+HXrQiT/gO8dVrxE/tfpKXJZlyNq9Pm7iBCau6rFamU9s8+W+FoFml1oxzXmKvpVrdZl8PBSpel32bFnFK6N2Z1O7dtHkoE1ks57vGQiPV3Dw9HrZXWNTUVbpzb9+sHrhyp4ce3X9KpWjESTI5hQVobLcqbUjVqhub9vlKHgVry2cYdWz1uKIaboF8T2vprzMf+eh+zuneb1XHM6pZv2zyUCKyXoV+4LEI5u4gvCzEj57splW3zdf1B/cCg+JH2k20TG6qoazEwRsawIm+KTWmzD9sHREEEEvyL9hFURzKevLUm0Fs/v3tz9P56X2NWXds81/2hDCRt5/31dDxYRRn4MkVgvWzT5KX0o1Z/kuduStM8A/jh9SM/WD/4g/r+f15/3JqbOVeD0MDIM9KqH27vY0U5FXyOH5g+uCWqGRvh39qv/aluXy6eRKKHddF6f13dqm5qW9vODlbrQuaJk0gRKbFt88pEYD0MEfSjVinGfLc1lcNjYl4hBlosaTU1HtL3pfdmRlnxT7b3yQYY/pl9BAzPbDn9o+H9LXm/me+99Pc+iv+FKAkvXO+vv2DMqqeVb5swi+T+drwMQ2zbvDIRWA+pZ1YpX5bzuCwfd++vTO8rphm0gqqLKTf/d/KxD6f3yQZa8cP6EfQLj64S8oCUfjT/CnJCLu8avqVmfLVMiE+El+x4sDq8FtGWWefDYiCZnvrrnEuMWb0asfz8Cg3A9d27f7nbYbfzZeF5/lB9+7Dix3aHbAIBQt783otiE2/PXEseXRKVbJJoyG+7+oYt409e93yl6/hKeImOa8yt6mZ6XxnY15j59zVtuAAAD85JREFU3hXsY2zbvEpxwnqFVgDTdHpDzEV2tb9ZeO3zDDN3eHMAztwzy66y3bmWNHkSlIFyem56fcv4n/LXEw2496p0uBjmbsc1Zmv3ysA2L6g1swgnkeF8zCq2bV6NCKxXQeSQWcxvLa+/2sEZJHcgYmt/5B445VChNo24mjxNlPNz09e0gq3gD30epQAU9eBlOfXXm9XW1laXNs+2rv3eBXaXY389ysBHKALrVSuFnn32+Q0m+M/8acOe+u4hs68rjoFlk/g40tX03PiGWrwWNMb/1q1I/BdcnlN/Xa22trRt6QcrW9Y+ZsWcksSY1aMXfy2PgsgflBXYCDsX0WUB82GVZ9tcFYV0Gt9z/Y7P3vF5PEYVUhEgeu2X5tRfV91aW3Q5DK/bsnjTxL1jdRizijLw0YrAekRE+ns8ffHQRbyPO6wrzbNP/t3X754nmUf6tO0nPkQVIq0uyqG/bq3fZqXboQzs8+twz5x6WsW2zWMSgfVIldLb8FSKMyNnEvnu9B0ygBL9Yvr4V+Bv3klGqA5Z1elYMMYM1tPvcE2oVvWqx/76Ia2Ot1kx5xizeqwisB41EerDpcxvXb5syCgLCuOj439/Qyp39otm/TMCWIyTOwNMYDldLRqeSmfXhG5aTzXgquuCpomOly7kEts2j1XMYT02qm+Yh2HBb3/uU9+Udf7iNKer/7Ma14okngQinpOLGDJTSRCOo9bT57415rZqXfrBqs2LLQsTJU7ChSWnIcasHrsIrMdJ1ef5y2stttZn/Y+3lGqjbaNWHXARJLEpWRkgI6EkTwLiCK2nxmmNWXVrddF1qfNsy6rL4rUKcbp/zCrKwMctSsLHSYTu3Hledbf/XCM4GXC4qZ1b83V1EW6Cq2ajumijwVEE1N+6D6+hF4xZHcrA3rFaF6glOly6EGNWT1IE1mM3i/j1M+KLYwX3l1DJAZhhWbglt0at4Uo9ayMzlEQiUR6+dnp//WyN+exr4LoeLjXmzJLTdJWnKcrAJyYC60kgFvYRzIATGYjV/fCBcF6obazNVelKbVRjrT44koCiE//k3Ruzsq3Vw5iVLautq7eWWBJn5hxjVq+JCKwnhEgwTCBBIwISwXwBFGRUm93duSrM0JpfqYtWGs1zAkcn/ok59debVtW1HcesDv11IHNiSpKGNIwyjlEGPnkRWE9WKZBnMRfsdlAiZXJiIrPm+1lVWdX6USur0mgoySU68U/AvWtC+9fA9XCw0nX1bROQ9KHQPMow5ONrEXGwesIisJ44Ee8r0zljt/OFWbeE1dFoq6oGVVPlK/VBXbRicGRxYkQn/rE4768fvgYetm1WWxYyE3CSLDKcj1lFGfiaiMB6LYj0J6YPFy4vgo0INfmG1mi3o6auZrXhSj1po9GQE6IT/+jdv8Z82LbRU38dOB+zim2b11wE1munlL51SKX4XaZ1hXNCVdtomc0Ux/LQixoNFdGJf8TO15h7GVhP/fVaE3HizJJFCse2zdMhAus1dbokntmXBbsdKQtIvOlWW1OouhomxaTOVjEYohP/CJyvMattui3teEeobSubJ07cz1bHMavYtnkaRGA9Babp3tOH80wLEVi8kqnu9qrmqq5qk3pWxWAoGYkd0Yl/ZQ7XhGpVq6r3HaxsXYWYKYlk5ntjVlEGPiUisJ4OZ8+1oj99qAujEhoti/basDWa1Ed10kqjQBKE3KMT//K5uwPNVK1VXa2tbVnaPPu66bKgtcQilFiy5MOYVZSBT5UIrKeGiN+50y9cPnbiF8Iq1KhWbY3UXM1UMSnEGopjEJDEx8OXp/fX1fX4WsSiy9Ln131dyV16GSj3xqyiDHzaRGA9XXyacHqulZk2IdsEK0Hbfm/aWNVVfVQUVTKjwSHRiX9J960x3z9mZduWiJlSSgNL6WNWsW3zdIrAevr0o1YpJOKzYGEyZt8SVV03U3Uza4pJMfaj1uCee2bFUevFXrjG3NbDG1zrqssCtcyS+m5gKrFt85SLwHoqifg0uQjlfBrUYmdG1aZ6d4fW3Kx34pG0Hb4eJgFRPBd25rTGrFa1rb0M1GXtxSD3+fXeX48xq0sQgfUUO3Xi+6DWtsJZUMmbzoupuSqa+qQY+qBWceQoD08eOGbl66bL6rUKc+LEnHsZWO7c6cerOFg9zSKwnm6nPR5m3+0O5SGYUHXbzBRNTRWqGBXJqlufib/l5aE7DP1+mGp26K+3eemDCzBLLP0K9l4GxrbNpYjAeuqdMkuESrF5pmVPoERNWyPdk6mZ3deJ91u9Mn2vv271sMa8LLasbVl82xgkMWZ1sSKwLsSLB7VsERB5w7ygqTc9deKdtFJxZHG+VSvTL1hj1ra2Y3+9Pxp4KgNjzOpCRWBdjrPy8DSoxVQJm9ZmukP/gHgsDxvMqHfib0V5eL7GrKcxq2Vty2LrSu7p+DXwfMwqysDLEoF1Uc7Lw8Og1krOCdWs6XxYmfbeiS/qbNXtNnTiT/11618D1+PBal3PHw08H7OKMvASRWBdoLPy8N6gFpi86rKRmjaFKvoeDw8VZig3dWX6vjXm/jXwvL+umui+/nqUgRctAusyPWCPh4goUdPaSNXOOvGeTWFOJflNW5nua8z9tYjTto32a0LXlRyJM3N6QRkY2zaXKwLrgr1oj2eFbwIiO3TirSl6J35Qg1UqgnQzOvGn/rpaa7Zp7ds2i62rLitaYyKRJPeXgbFtc+kisC7cA/d4wPCKraL34I+DWi6q1C9cvuzLS09rzP21CK2HMrAfrGAmLyoDY9vmZojAunwP3OMhYmqtNdK9mbpZ78R7MYUalcu9vPR8jVl1u3ewWtf+aOALysDYtrlJIrBuirM9Hsy5D2olkHqjZTU1O3biMapTv50my0V14nt/XV0fMGa1bmhNiE9v20R//UaKwLpBHjSoJVQFTWtTVTPrNz3QpJb6THxOF3J56am/3l+LsLq2ZdHjNaFkniQxvbC/HmXgDROBdbM8aFALvgkqmep+r9q4qavypF7MSCuKICUw+VPaiT9dE9qsaf8aeByz0nXFVoWZX9RfjzLwRorAuokePKhVCY3WqmqHgfh+oxZbo0N5+BReXnp/f/3emJVvm/ZHA1mkX7oQY1a3QATWDfWA8vAwqEVNbbeHttNFgN7LQ8pPWyf+rL9eta1a19PByteNCcJRBt4uEVg31xcoD6GYV1MjNVPlSTHY2R7Pa9+JP19jNqvtOGbVD1ZemzAziXDmVKREGXhbRGDddJ+/PNSt9iktU/WmNClkaLDX/PLS+64J1e00ZmXbZutKZinKwNsqAusWeHF5WImIkzdT1d2eVN28d7WomMEqDivTT7gT3/vr99aYT2NW29YfjBBm4SyciFKUgbdQBNbt8ILycGbUSr71o1ZbVjc7HLUm5UFdrMHNU6Ind3mpOwxo2rQPhbb7DlZoLZ8drDjnKANvoQis26SXh6UgZyzLvaMWqm2VVMm0j5hS78SjOIo8kctLe39dXZtuqpvVta/a2Lb5upI5c0qc42B1y0Vg3TIvOmrRtpKTcIM2383clI5DDzSYwbzv8Ty2len71pj7wWpbdV5s23RZbdsSs0hmStFfDxFYt9IDOvGbEBGarpuZsqo19aY8qbPpYVDr0a9M9/56H7Oyvm0zL205loFqiSVFfz0cRWDdVg/qxDMxoWpV0z2purvqoTw0NvdHPKh1GrM6DC7Uw8HqsG3jEJYoA8O5CKxb7POUh4mbWrN5MTNRPVwSP5qR+iNamXbvlxof1pitbW25d7Dy2pjosBsYZWA4E4F16724PPRNQAzVdTNVmPlxvtTF9Dio9YpXps/XmA9jVsf++unRwNNQ6OGO0HjiNACIwArAA8pDakxoh6cPd3ttTcxUlUb149sWQg/diT+bX2/9tQjd1nbsr/u29dushDOxSB6iDAwvEIEVALywPLSZeVvhfR26YV1NrXfiaVKM5mLNzSmLv9yVaXeo2WnbRg/3wxzLwKan26xIUpSB4YEisMKZF5SHtVJjdiZUbY32Snp424ImRRp6eeiehF6iE3/or1tTvbdtcyoDD48GcmbOUgbOOb4GhgeKwAr3Oy8Pa7WZeeM+XKrWaF7IzMzsVB7ScY/HmekBnXh3GI73wxzWmNe2LrZtvm6nMvC8v34IrCgDw4tEYIUXOWXWPB878Qs5CYioYd2gBjNTQ1OMBrHmZsjJhQE+KxDN3YBmTW1zq71j1dbVtk3Xhc2E+PS2TW9XndLqC/yC4daKwAqfRy8P5/m8E9/f46HWfK9ojdS8KUZFHoysURGIuRMRTpvMaOqb26rr2vaLrZsuq9WNASHJnFnyqb/OpUQZGL6ACKzw+fWj1vHpQ5uZKzMxeXNrWFbtgaXqo6KosREJg/x4LY25G5rr6vPi+9Xn1dYVTZkocRJJvWl16q+zSKRV+AIisMIXJAKR+we1FiJOYELzrbqqq0LVmzpXQjofKTW4eXPdfL/4smFeSU1YWDKRiJQc2zbhYURghZfh/kEtWxa0lYkTKrTpPLsZ1EDZkZwI8B5b7g5vsA3LRvMqTizZJTuJlCGPY44xq/AwIrDCy3M2qAURmxl1ZeJkBGq+rlAzNFByxymwQHBvZJW2RsRMyTibJCpDnqY0jjn66+FhRGCFh3H/oJbXCicBA01b81pBCYfAQs8s8sYJzOJIRpnz4DnLcduG42AVHkYEVnhIIjiWh1gWbIyNBQyvbpXqglPLHSAizpIoE7JRpjKgFBpHmSYuJdIqPKwIrPDwRDBNJOL9qCXiy8LgRADg2+raAJAkGgZQZhqcMo9jTyueJo4yMLwiEVjhlSrllFkQ8WWhBjBRItcVAKUBnMEFaeRxpFIwjhRfA8OrEIEVXgUROpWHx5/OTMwAkDMNA4aBpolypmmiUhBpFV6FCKzw6pwya55JxHps9cAaBowjTxNOaRXCqxOBFR4BKoVEbJ6Z2fugKUDjSOOIUrgnWgivWgRWeEREeJr8OKiFHlilRBkYHqEIrPDonMrDHlg9rUJ4dKi19lL/JoSHpAogDlbhkYsTVngMIqrC4/GonpgLIYTHLgIrhHAxIrBCCBcjAiuEcDEisEIIFyMCK4RwMSKwQggXIwIrhHAxIrBCCBcjAiuEcDEisEIIFyMCK4RwMSKwQggXIwIrhHAxIrBCCBcjAiuEcDEisEIIFyMCK4RwMSKwQggXIwIrhHAxIrBCCBcjAiuEcDEisEIIFyMCK4RwMSKwQggXIwIrhHAxIrBCCBcjAiuEcDEisEIIFyMCK4RwMSKwQggXIwIrhHAxIrBCCBcjAiuEcDEisEIIFyMCK4RwMSKwQggXIwIrhHAxIrBCCBcjAiuEcDEisEIIFyMCK4RwMSKwQggXIwIrhHAxIrBCCBcjAiuEcDEisEIIF+P/A7TWvUsHzffRAAAAAElFTkSuQmCC\" alt=\"PNG image\"></img>"
      ],
      "text/plain": [
       "<IPython.core.display.HTML object>"
      ]
     },
     "metadata": {},
     "output_type": "display_data"
    }
   ],
   "source": [
    "plot_2d(concat_array_input[:,:,2:3],contour=True, clear=False, edges=edges)"
   ]
  },
  {
   "cell_type": "markdown",
   "metadata": {},
   "source": [
    "Now with this function all we need to do is run through all the samples and save the arrays. Once the unscaled arrays are saved, we need to get the new maximum values in the sample (force only, as the maximum displacement can only be the same, at maximum, as the original displacement since it is an average), and finally scale the arrays and reshape them to the correct dimensions for the ConvNet"
   ]
  },
  {
   "cell_type": "code",
   "execution_count": 735,
   "metadata": {},
   "outputs": [],
   "source": [
    "## create sample iterator that returns the input and output arrays for each of the samples\n",
    "def get_unscaled_arrays(data_folder_path, resolution = 32):\n",
    "    ## takes the path to the folder with all samples and creates\n",
    "    ## an iterator that goes through all of them and returns the corresponding\n",
    "    ## array to each sample\n",
    "    \n",
    "    with HiddenPrints():\n",
    "        # get max dimensions for the dataset\n",
    "        max_dimensions = get_max_dimensions(data_folder_path)\n",
    "    \n",
    "    # get element size for this dataset\n",
    "    element_size = get_element_size(data_folder_path, resolution)\n",
    "    \n",
    "    # create an iterator for all samples\n",
    "    samples_iterator = scale.sample_iterator(data_folder_path)\n",
    "    \n",
    "    # create empty arrays to use in functions\n",
    "    dimensionality = 2\n",
    "    input_features = 7\n",
    "    output_features = 4\n",
    "    empty_arr_input = create_array(dimensionality, input_features, resolution)\n",
    "    empty_arr_output = create_array(dimensionality, output_features, resolution)\n",
    "    \n",
    "    # iterates through all samples\n",
    "    for sample_number, input_dataframe, output_dataframe in samples_iterator:\n",
    "        \n",
    "        \n",
    "        # translate the data\n",
    "        translated_input_df = translate_df(input_dataframe, max_dimensions)\n",
    "        translated_output_df = translate_df(output_dataframe, max_dimensions)\n",
    "        \n",
    "        # creates the arrays\n",
    "        concatenated_input = create_concat_array(translated_input_df, empty_arr_input, element_size, dataframe_type='input')\n",
    "        concatenated_output = create_concat_array(translated_output_df, empty_arr_output, element_size, dataframe_type='output')\n",
    "    \n",
    "        yield sample_number, concatenated_input, concatenated_output\n",
    "        \n",
    "data_folder_path =  Path('D:/Ansys Simulations/Project/2D/data')\n",
    "array_it = get_unscaled_arrays(data_folder_path, resolution = 32)"
   ]
  },
  {
   "cell_type": "code",
   "execution_count": 691,
   "metadata": {},
   "outputs": [
    {
     "name": "stdout",
     "output_type": "stream",
     "text": [
      "11\n"
     ]
    },
    {
     "data": {
      "image/png": "[encoded data removed]",
      "text/plain": [
       "<Figure size 1080x432 with 10 Axes>"
      ]
     },
     "metadata": {
      "needs_background": "light"
     },
     "output_type": "display_data"
    }
   ],
   "source": [
    "sample_number, concat_input, concat_output = next(array_iterator)\n",
    "%matplotlib inline \n",
    "import matplotlib.pyplot as plt\n",
    "#f = plt.figure()\n",
    "\n",
    "f, axarr = plt.subplots(2,5, figsize = (15,6)) \n",
    "#plt.imshow(concat_input[:,:,0])\n",
    "def plot_grid_2d(concat_input):\n",
    "    axarr[0,0].imshow(np.abs(concat_input[:,:,0]))\n",
    "    axarr[0,0].set(title='smoothed map')\n",
    "\n",
    "    axarr[0,1].imshow(np.abs(concat_input[:,:,1]))\n",
    "    axarr[0,1].set(title='X displacement B.C.')\n",
    "\n",
    "    axarr[0,2].imshow(np.abs(concat_input[:,:,2]))\n",
    "    axarr[0,2].set(title='Y displacement B.C.')\n",
    "\n",
    "    axarr[0,3].imshow(np.abs(concat_input[:,:,3]))\n",
    "    axarr[0,3].set(title='Z displacement  B.C')\n",
    "\n",
    "    axarr[0,4].imshow(np.abs(concat_input[:,:,4]))\n",
    "    axarr[0,4].set(title='X force B.C.')\n",
    "\n",
    "    axarr[1,0].imshow(np.abs(concat_input[:,:,5]))\n",
    "    axarr[1,0].set(title='Y force B.C.')\n",
    "\n",
    "    axarr[1,1].imshow(np.abs(concat_input[:,:,6]))\n",
    "    axarr[1,1].set(title='Z force B.C.')\n",
    "\n",
    "    axarr[1,2].imshow(np.abs(concat_output[:,:,1]))\n",
    "    axarr[1,2].set(title='X displacement result')\n",
    "\n",
    "    axarr[1,3].imshow(np.abs(concat_output[:,:,2]))\n",
    "    axarr[1,3].set(title='Y displacement result')\n",
    "\n",
    "    axarr[1,4].imshow(np.abs(concat_output[:,:,3]))\n",
    "    axarr[1,4].set(title='Z displacement result')\n",
    "\n",
    "    print(sample_number)\n",
    "    plt.show()\n",
    "    \n",
    "plot_grid_2d(concat_input)    "
   ]
  },
  {
   "cell_type": "markdown",
   "metadata": {},
   "source": [
    "Now we need to save the arrays to the correct place"
   ]
  },
  {
   "cell_type": "code",
   "execution_count": 777,
   "metadata": {},
   "outputs": [
    {
     "name": "stdout",
     "output_type": "stream",
     "text": [
      "folder D:\\Ansys Simulations\\Project\\2D\\data\\arrays\\input likely already exist\n",
      "folder D:\\Ansys Simulations\\Project\\2D\\data\\arrays\\output likely already exist\n"
     ]
    }
   ],
   "source": [
    "data_folder_path =  Path('D:/Ansys Simulations/Project/2D/data')\n",
    "array_it = get_unscaled_arrays(data_folder_path, resolution = 32)\n",
    "\n",
    "## create function to save arrays to correct location\n",
    "def save_arrays(array_iterator, data_folder_path, save_path=data_folder_path, array_type = 'unscaled'):\n",
    "    # take the folder where the samples are and the folder where the samples are going to be\n",
    "    # saved to, create the folder and save the arrays\n",
    "    \n",
    "    ## create save path\n",
    "    save_path = Path(save_path, 'arrays')\n",
    "    \n",
    "    ## create save folders\n",
    "    input_save_path, output_save_path = split.create_folders(save_path)\n",
    "    \n",
    "    #sample_number, input_array, output_array = next(array_iterator)\n",
    "    \n",
    "    if 'nscaled' in array_type.lower():\n",
    "        input_file_root = array_type.lower()\n",
    "        output_file_root = array_type.lower()\n",
    "        \n",
    "    elif 'scaled' in array_type.lower():\n",
    "        input_file_root = array_type.lower()\n",
    "        output_file_root = array_type.lower()\n",
    "        \n",
    "    else:\n",
    "        raise Exception(f'Expected \\'scaled\\' or \\'unscaled\\' strings for argument <array_type>, got \\'{array_type}\\'')\n",
    "        \n",
    "    ## create log file\n",
    "    log_file = Path(save_path,'log.txt')\n",
    "    \n",
    "    with open(log_file, mode = '+w') as log:\n",
    "        log.write(f\"{'SAMPLE': <20} {'INPUT': <20} {'OUTPUT': <20} {'PATH': <20} {'TIME': >40}\\n\")\n",
    "        \n",
    "        initial_time = time.time()\n",
    "        for sample_number, input_array, output_array in array_iterator:\n",
    "            tic = time.time()\n",
    "            input_file_ending = '_input_' + str(sample_number) + '.npy'\n",
    "            output_file_ending = '_output_' + str(sample_number) + '.npy'\n",
    "            \n",
    "            input_array_path = Path(input_save_path, input_file_root + input_file_ending)\n",
    "            output_array_path = Path(output_save_path, output_file_root + output_file_ending)\n",
    "            \n",
    "            \n",
    "            if not(input_array_path.is_file()) :\n",
    "                action_input = 'CREATE'\n",
    "            else:\n",
    "                action_input = 'OVRWRT'\n",
    "                \n",
    "            if not(output_array_path.is_file()):\n",
    "                action_output = 'CREATE'\n",
    "            else:\n",
    "                action_output = 'OVRWRT'\n",
    "            \n",
    "            np.save(input_array_path, input_array)\n",
    "            np.save(output_array_path, output_array)\n",
    "            \n",
    "            \n",
    "            log.write(f'{sample_number: <20} {action_input: <20} {action_output: <20} {str(save_path): <20} {time.time()-tic: >40}s \\n')\n",
    "        \n",
    "        log.write(f'OVERALL TIME: {time.time()-initial_time}s \\n')\n",
    "        \n",
    "save_arrays(array_it, data_folder_path, array_type = 'unscaled_2d')"
   ]
  }
 ],
 "metadata": {
  "kernelspec": {
   "display_name": "Python 3",
   "language": "python",
   "name": "python3"
  },
  "language_info": {
   "codemirror_mode": {
    "name": "ipython",
    "version": 3
   },
   "file_extension": ".py",
   "mimetype": "text/x-python",
   "name": "python",
   "nbconvert_exporter": "python",
   "pygments_lexer": "ipython3",
   "version": "3.7.7"
  }
 },
 "nbformat": 4,
 "nbformat_minor": 4
}
