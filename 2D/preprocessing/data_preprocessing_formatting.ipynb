{
 "cells": [
  {
   "cell_type": "code",
   "execution_count": 1,
   "metadata": {},
   "outputs": [
    {
     "name": "stdout",
     "output_type": "stream",
     "text": [
      "D:\\Ansys Simulations\\Project\\2D\\preprocessing\n"
     ]
    }
   ],
   "source": [
    "!cd"
   ]
  },
  {
   "cell_type": "markdown",
   "metadata": {},
   "source": [
    "## Formatting\n",
    "In this notebook, the objective is to explore and develop a way to transformed the scaled data into a relevant data format/file/shape that can be used for a 2d convolutional neural network. Ideally, what is desired is a file that can store tensors as spatial data and that can be used by a ConvNet.\n",
    "After some research, the conclusion is that the best way to do this is to format them as a 4D numpy array and saved as a .npy file so that they can be later quickly read into memory."
   ]
  },
  {
   "cell_type": "code",
   "execution_count": 270,
   "metadata": {},
   "outputs": [],
   "source": [
    "## Imports\n",
    "import numpy as np\n",
    "import matplotlib.pyplot as plt\n",
    "from PREPROCESSING_splitting import get_number\n",
    "import PREPROCESSING_scaling as scale\n",
    "from pathlib import Path\n",
    "import pandas as pd\n",
    "import os, sys\n",
    "import torch.nn.functional as F\n",
    "import torch"
   ]
  },
  {
   "cell_type": "code",
   "execution_count": 203,
   "metadata": {},
   "outputs": [
    {
     "name": "stdout",
     "output_type": "stream",
     "text": [
      "Notebook initialized with png backend.\n"
     ]
    }
   ],
   "source": [
    "## 3d visualization import\n",
    "%gui qt\n",
    "from mayavi import mlab\n",
    "mlab.init_notebook('png')"
   ]
  },
  {
   "cell_type": "code",
   "execution_count": 7,
   "metadata": {},
   "outputs": [
    {
     "name": "stdout",
     "output_type": "stream",
     "text": [
      "UPDATED MAX \t sample #1 \t force: 0.00 \t displacement: 0.002053 \n",
      "UPDATED MAX \t sample #10 \t force: 152.79 \t displacement: 0.003020 \n",
      "UPDATED MAX \t sample #100 \t force: 152.79 \t displacement: 0.019382 \n",
      "UPDATED MAX \t sample #101 \t force: 242.87 \t displacement: 0.019382 \n",
      "UPDATED MAX \t sample #11 \t force: 287.27 \t displacement: 0.019382 \n",
      "UPDATED MAX \t sample #55 \t force: 295.32 \t displacement: 0.019382 \n"
     ]
    },
    {
     "data": {
      "text/html": [
       "<div>\n",
       "<style scoped>\n",
       "    .dataframe tbody tr th:only-of-type {\n",
       "        vertical-align: middle;\n",
       "    }\n",
       "\n",
       "    .dataframe tbody tr th {\n",
       "        vertical-align: top;\n",
       "    }\n",
       "\n",
       "    .dataframe thead th {\n",
       "        text-align: right;\n",
       "    }\n",
       "</style>\n",
       "<table border=\"1\" class=\"dataframe\">\n",
       "  <thead>\n",
       "    <tr style=\"text-align: right;\">\n",
       "      <th></th>\n",
       "      <th>node_number</th>\n",
       "      <th>named_selection</th>\n",
       "      <th>x_loc</th>\n",
       "      <th>y_loc</th>\n",
       "      <th>z_loc</th>\n",
       "      <th>x_disp</th>\n",
       "      <th>y_disp</th>\n",
       "      <th>z_disp</th>\n",
       "      <th>x_force</th>\n",
       "      <th>y_force</th>\n",
       "      <th>z_force</th>\n",
       "    </tr>\n",
       "  </thead>\n",
       "  <tbody>\n",
       "    <tr>\n",
       "      <th>170</th>\n",
       "      <td>171</td>\n",
       "      <td>-1</td>\n",
       "      <td>0.180590</td>\n",
       "      <td>0.242730</td>\n",
       "      <td>0.0</td>\n",
       "      <td>0.000000</td>\n",
       "      <td>0.000000</td>\n",
       "      <td>0.0</td>\n",
       "      <td>0.0</td>\n",
       "      <td>0.0</td>\n",
       "      <td>0.0</td>\n",
       "    </tr>\n",
       "    <tr>\n",
       "      <th>171</th>\n",
       "      <td>172</td>\n",
       "      <td>-1</td>\n",
       "      <td>0.138780</td>\n",
       "      <td>0.205680</td>\n",
       "      <td>0.0</td>\n",
       "      <td>0.000000</td>\n",
       "      <td>0.000000</td>\n",
       "      <td>0.0</td>\n",
       "      <td>0.0</td>\n",
       "      <td>0.0</td>\n",
       "      <td>0.0</td>\n",
       "    </tr>\n",
       "    <tr>\n",
       "      <th>172</th>\n",
       "      <td>173</td>\n",
       "      <td>-1</td>\n",
       "      <td>0.068634</td>\n",
       "      <td>0.123060</td>\n",
       "      <td>0.0</td>\n",
       "      <td>0.000000</td>\n",
       "      <td>0.000000</td>\n",
       "      <td>0.0</td>\n",
       "      <td>0.0</td>\n",
       "      <td>0.0</td>\n",
       "      <td>0.0</td>\n",
       "    </tr>\n",
       "    <tr>\n",
       "      <th>173</th>\n",
       "      <td>174</td>\n",
       "      <td>-1</td>\n",
       "      <td>0.054411</td>\n",
       "      <td>0.084662</td>\n",
       "      <td>0.0</td>\n",
       "      <td>0.000000</td>\n",
       "      <td>0.000000</td>\n",
       "      <td>0.0</td>\n",
       "      <td>0.0</td>\n",
       "      <td>0.0</td>\n",
       "      <td>0.0</td>\n",
       "    </tr>\n",
       "    <tr>\n",
       "      <th>174</th>\n",
       "      <td>175</td>\n",
       "      <td>-1</td>\n",
       "      <td>0.024266</td>\n",
       "      <td>0.072970</td>\n",
       "      <td>0.0</td>\n",
       "      <td>0.000000</td>\n",
       "      <td>0.000000</td>\n",
       "      <td>0.0</td>\n",
       "      <td>0.0</td>\n",
       "      <td>0.0</td>\n",
       "      <td>0.0</td>\n",
       "    </tr>\n",
       "    <tr>\n",
       "      <th>175</th>\n",
       "      <td>176</td>\n",
       "      <td>2</td>\n",
       "      <td>0.328590</td>\n",
       "      <td>0.694900</td>\n",
       "      <td>0.0</td>\n",
       "      <td>-0.050859</td>\n",
       "      <td>-0.107693</td>\n",
       "      <td>0.0</td>\n",
       "      <td>0.0</td>\n",
       "      <td>0.0</td>\n",
       "      <td>0.0</td>\n",
       "    </tr>\n",
       "    <tr>\n",
       "      <th>176</th>\n",
       "      <td>177</td>\n",
       "      <td>1</td>\n",
       "      <td>0.189800</td>\n",
       "      <td>0.568730</td>\n",
       "      <td>0.0</td>\n",
       "      <td>0.031275</td>\n",
       "      <td>-0.014854</td>\n",
       "      <td>0.0</td>\n",
       "      <td>0.0</td>\n",
       "      <td>0.0</td>\n",
       "      <td>0.0</td>\n",
       "    </tr>\n",
       "    <tr>\n",
       "      <th>177</th>\n",
       "      <td>178</td>\n",
       "      <td>1</td>\n",
       "      <td>0.127090</td>\n",
       "      <td>0.604280</td>\n",
       "      <td>0.0</td>\n",
       "      <td>0.031275</td>\n",
       "      <td>-0.014854</td>\n",
       "      <td>0.0</td>\n",
       "      <td>0.0</td>\n",
       "      <td>0.0</td>\n",
       "      <td>0.0</td>\n",
       "    </tr>\n",
       "    <tr>\n",
       "      <th>178</th>\n",
       "      <td>179</td>\n",
       "      <td>2</td>\n",
       "      <td>0.245740</td>\n",
       "      <td>0.732520</td>\n",
       "      <td>0.0</td>\n",
       "      <td>-0.050859</td>\n",
       "      <td>-0.107693</td>\n",
       "      <td>0.0</td>\n",
       "      <td>0.0</td>\n",
       "      <td>0.0</td>\n",
       "      <td>0.0</td>\n",
       "    </tr>\n",
       "    <tr>\n",
       "      <th>179</th>\n",
       "      <td>180</td>\n",
       "      <td>2</td>\n",
       "      <td>0.269410</td>\n",
       "      <td>0.625380</td>\n",
       "      <td>0.0</td>\n",
       "      <td>-0.050859</td>\n",
       "      <td>-0.107693</td>\n",
       "      <td>0.0</td>\n",
       "      <td>0.0</td>\n",
       "      <td>0.0</td>\n",
       "      <td>0.0</td>\n",
       "    </tr>\n",
       "    <tr>\n",
       "      <th>180</th>\n",
       "      <td>181</td>\n",
       "      <td>2</td>\n",
       "      <td>0.201990</td>\n",
       "      <td>0.666000</td>\n",
       "      <td>0.0</td>\n",
       "      <td>-0.050859</td>\n",
       "      <td>-0.107693</td>\n",
       "      <td>0.0</td>\n",
       "      <td>0.0</td>\n",
       "      <td>0.0</td>\n",
       "      <td>0.0</td>\n",
       "    </tr>\n",
       "    <tr>\n",
       "      <th>181</th>\n",
       "      <td>182</td>\n",
       "      <td>-1</td>\n",
       "      <td>0.092572</td>\n",
       "      <td>0.335460</td>\n",
       "      <td>0.0</td>\n",
       "      <td>0.000000</td>\n",
       "      <td>0.000000</td>\n",
       "      <td>0.0</td>\n",
       "      <td>0.0</td>\n",
       "      <td>0.0</td>\n",
       "      <td>0.0</td>\n",
       "    </tr>\n",
       "    <tr>\n",
       "      <th>182</th>\n",
       "      <td>183</td>\n",
       "      <td>-1</td>\n",
       "      <td>0.667620</td>\n",
       "      <td>0.799740</td>\n",
       "      <td>0.0</td>\n",
       "      <td>0.000000</td>\n",
       "      <td>0.000000</td>\n",
       "      <td>0.0</td>\n",
       "      <td>0.0</td>\n",
       "      <td>0.0</td>\n",
       "      <td>0.0</td>\n",
       "    </tr>\n",
       "    <tr>\n",
       "      <th>183</th>\n",
       "      <td>184</td>\n",
       "      <td>3</td>\n",
       "      <td>0.400010</td>\n",
       "      <td>0.799620</td>\n",
       "      <td>0.0</td>\n",
       "      <td>-0.008180</td>\n",
       "      <td>-0.006119</td>\n",
       "      <td>0.0</td>\n",
       "      <td>0.0</td>\n",
       "      <td>0.0</td>\n",
       "      <td>0.0</td>\n",
       "    </tr>\n",
       "    <tr>\n",
       "      <th>184</th>\n",
       "      <td>185</td>\n",
       "      <td>-1</td>\n",
       "      <td>-0.002717</td>\n",
       "      <td>0.596150</td>\n",
       "      <td>0.0</td>\n",
       "      <td>0.000000</td>\n",
       "      <td>0.000000</td>\n",
       "      <td>0.0</td>\n",
       "      <td>0.0</td>\n",
       "      <td>0.0</td>\n",
       "      <td>0.0</td>\n",
       "    </tr>\n",
       "    <tr>\n",
       "      <th>185</th>\n",
       "      <td>186</td>\n",
       "      <td>-1</td>\n",
       "      <td>0.151650</td>\n",
       "      <td>0.357250</td>\n",
       "      <td>0.0</td>\n",
       "      <td>0.000000</td>\n",
       "      <td>0.000000</td>\n",
       "      <td>0.0</td>\n",
       "      <td>0.0</td>\n",
       "      <td>0.0</td>\n",
       "      <td>0.0</td>\n",
       "    </tr>\n",
       "    <tr>\n",
       "      <th>186</th>\n",
       "      <td>187</td>\n",
       "      <td>1</td>\n",
       "      <td>0.239610</td>\n",
       "      <td>0.530310</td>\n",
       "      <td>0.0</td>\n",
       "      <td>0.031275</td>\n",
       "      <td>-0.014854</td>\n",
       "      <td>0.0</td>\n",
       "      <td>0.0</td>\n",
       "      <td>0.0</td>\n",
       "      <td>0.0</td>\n",
       "    </tr>\n",
       "    <tr>\n",
       "      <th>187</th>\n",
       "      <td>188</td>\n",
       "      <td>1</td>\n",
       "      <td>0.131800</td>\n",
       "      <td>0.432240</td>\n",
       "      <td>0.0</td>\n",
       "      <td>0.031275</td>\n",
       "      <td>-0.014854</td>\n",
       "      <td>0.0</td>\n",
       "      <td>0.0</td>\n",
       "      <td>0.0</td>\n",
       "      <td>0.0</td>\n",
       "    </tr>\n",
       "    <tr>\n",
       "      <th>188</th>\n",
       "      <td>189</td>\n",
       "      <td>-1</td>\n",
       "      <td>0.572190</td>\n",
       "      <td>0.728220</td>\n",
       "      <td>0.0</td>\n",
       "      <td>0.000000</td>\n",
       "      <td>0.000000</td>\n",
       "      <td>0.0</td>\n",
       "      <td>0.0</td>\n",
       "      <td>0.0</td>\n",
       "      <td>0.0</td>\n",
       "    </tr>\n",
       "  </tbody>\n",
       "</table>\n",
       "</div>"
      ],
      "text/plain": [
       "     node_number  named_selection     x_loc     y_loc  z_loc    x_disp  \\\n",
       "170          171               -1  0.180590  0.242730    0.0  0.000000   \n",
       "171          172               -1  0.138780  0.205680    0.0  0.000000   \n",
       "172          173               -1  0.068634  0.123060    0.0  0.000000   \n",
       "173          174               -1  0.054411  0.084662    0.0  0.000000   \n",
       "174          175               -1  0.024266  0.072970    0.0  0.000000   \n",
       "175          176                2  0.328590  0.694900    0.0 -0.050859   \n",
       "176          177                1  0.189800  0.568730    0.0  0.031275   \n",
       "177          178                1  0.127090  0.604280    0.0  0.031275   \n",
       "178          179                2  0.245740  0.732520    0.0 -0.050859   \n",
       "179          180                2  0.269410  0.625380    0.0 -0.050859   \n",
       "180          181                2  0.201990  0.666000    0.0 -0.050859   \n",
       "181          182               -1  0.092572  0.335460    0.0  0.000000   \n",
       "182          183               -1  0.667620  0.799740    0.0  0.000000   \n",
       "183          184                3  0.400010  0.799620    0.0 -0.008180   \n",
       "184          185               -1 -0.002717  0.596150    0.0  0.000000   \n",
       "185          186               -1  0.151650  0.357250    0.0  0.000000   \n",
       "186          187                1  0.239610  0.530310    0.0  0.031275   \n",
       "187          188                1  0.131800  0.432240    0.0  0.031275   \n",
       "188          189               -1  0.572190  0.728220    0.0  0.000000   \n",
       "\n",
       "       y_disp  z_disp  x_force  y_force  z_force  \n",
       "170  0.000000     0.0      0.0      0.0      0.0  \n",
       "171  0.000000     0.0      0.0      0.0      0.0  \n",
       "172  0.000000     0.0      0.0      0.0      0.0  \n",
       "173  0.000000     0.0      0.0      0.0      0.0  \n",
       "174  0.000000     0.0      0.0      0.0      0.0  \n",
       "175 -0.107693     0.0      0.0      0.0      0.0  \n",
       "176 -0.014854     0.0      0.0      0.0      0.0  \n",
       "177 -0.014854     0.0      0.0      0.0      0.0  \n",
       "178 -0.107693     0.0      0.0      0.0      0.0  \n",
       "179 -0.107693     0.0      0.0      0.0      0.0  \n",
       "180 -0.107693     0.0      0.0      0.0      0.0  \n",
       "181  0.000000     0.0      0.0      0.0      0.0  \n",
       "182  0.000000     0.0      0.0      0.0      0.0  \n",
       "183 -0.006119     0.0      0.0      0.0      0.0  \n",
       "184  0.000000     0.0      0.0      0.0      0.0  \n",
       "185  0.000000     0.0      0.0      0.0      0.0  \n",
       "186 -0.014854     0.0      0.0      0.0      0.0  \n",
       "187 -0.014854     0.0      0.0      0.0      0.0  \n",
       "188  0.000000     0.0      0.0      0.0      0.0  "
      ]
     },
     "metadata": {},
     "output_type": "display_data"
    }
   ],
   "source": [
    "## load in and scale  a sample\n",
    "\n",
    "data_folder_path =  Path('D:/Ansys Simulations/Project/2D/data') \n",
    "\n",
    "# get data\n",
    "raw_input_data, raw_output_data = scale.get_sample_dfs(data_folder_path, 26)\n",
    "\n",
    "max_force, max_disp = scale.get_max_disp_force(data_folder_path)\n",
    "\n",
    "scaled_input_data = scale.scale_dataframe(raw_input_data, max_force, max_disp)\n",
    "with pd.option_context(\"display.max_rows\", None):\n",
    "    display(scaled_input_data.iloc[170:189,:])"
   ]
  },
  {
   "cell_type": "markdown",
   "metadata": {},
   "source": [
    "To run the convolutional layer on the data, the data has to be converted from the positions table into an object that represents the element's positions in a way that a convolutional kernel is able to understand positional relationships. Looking at the 3D data files generated, there seem to be about 10000 nodes on each of those samples (although the intent is to decrease it later to speed up sample creation). With this in mind, and knowing that most of the samples have a relatively similar volume, choosing a size of 32x32x32 entries in which to split the data is an arbitrary choice which seems to lead to a good balance of nodal specificity, averaging and processing time for the network. \n",
    "\n",
    "The fourth dimension's size depends on the amount of features. For directional data such as displacement and forces, there are three components per type. On top of that, one more feature is created which is the \"existence\" feature, which encodes whether a certain \"volume\" in space contains material from the element or not, varying from 0 (no material) to 1 (filled with  material). It is only different than 1 or 0 on the edges/faces of the element. "
   ]
  },
  {
   "cell_type": "code",
   "execution_count": 8,
   "metadata": {},
   "outputs": [],
   "source": [
    "## Create an empty numpy array with the correct dimensions\n",
    "def create_array(dimensionality, features, resolution = 32):\n",
    "    ## returns an array of zeros for the correct type of model specified with the dimensionality and the features\n",
    "    positional_shape = [resolution]*dimensionality\n",
    "    shape = positional_shape + [features]\n",
    "    array = np.zeros(shape)\n",
    "    return array"
   ]
  },
  {
   "cell_type": "code",
   "execution_count": 9,
   "metadata": {},
   "outputs": [
    {
     "name": "stdout",
     "output_type": "stream",
     "text": [
      "(35, 35, 35, 6)\n",
      "(32, 32, 4)\n"
     ]
    }
   ],
   "source": [
    "print(create_array(3,6, 35).shape)\n",
    "print(create_array(2,4).shape)"
   ]
  },
  {
   "cell_type": "markdown",
   "metadata": {},
   "source": [
    "To correctly distribute the data inside of the tensor, it is necessary to get the maximum positional dimensions of the dataset so that every sample actually fits inside of the tensor"
   ]
  },
  {
   "cell_type": "code",
   "execution_count": 10,
   "metadata": {},
   "outputs": [],
   "source": [
    "## Create function to run through all data and get max values of dimensions\n",
    "def get_max_dimensions(samples_folder_path):\n",
    "    ## iterates through all data to get the max dimensions\n",
    "    samples = scale.sample_iterator(samples_folder_path)\n",
    "    \n",
    "    max_x = 0\n",
    "    max_y = 0\n",
    "    max_z = 0\n",
    "    \n",
    "    for sample in samples:\n",
    "        sample_number, input_data, output_data = sample\n",
    "        #print(samples)\n",
    "        \n",
    "        ## run through all data\n",
    "        # first absolute, then max in the columns \n",
    "        updated = False\n",
    "        max_x_temp, max_y_temp, max_z_temp = input_data.loc[:,['x_loc','y_loc','z_loc']].abs().max()\n",
    "        \n",
    "        if max_x_temp > max_x:\n",
    "            range_x = [input_data.loc[:,['x_loc']].max().item(), input_data.loc[:,['x_loc']].min().item()]\n",
    "            max_x = abs(range_x[0] - range_x[1])\n",
    "            updated = True\n",
    "            \n",
    "        if max_y_temp > max_y:\n",
    "            range_y = [input_data.loc[:,['y_loc']].max().item(), input_data.loc[:,['y_loc']].min().item()]\n",
    "            max_y = abs(range_y[0] - range_y[1])\n",
    "            updated = True\n",
    "            \n",
    "        if max_z_temp > max_z:\n",
    "            range_z = [input_data.loc[:,['z_loc']].max().item(), input_data.loc[:,['z_loc']].min().item()]\n",
    "            max_z = abs(range_z[0] - range_z[1])\n",
    "            updated = True\n",
    "            \n",
    "        if updated:\n",
    "            print(f'UPDATED MAX \\t sample #{sample_number} \\t x: {max_x:.4f} \\t y: {max_y:.4f} \\t z: {max_z:.4f}')\n",
    "            \n",
    "    return max_x, max_y, max_z"
   ]
  },
  {
   "cell_type": "code",
   "execution_count": 11,
   "metadata": {},
   "outputs": [
    {
     "name": "stdout",
     "output_type": "stream",
     "text": [
      "UPDATED MAX \t sample #1 \t x: 0.9692 \t y: 1.1906 \t z: 0.0000\n",
      "UPDATED MAX \t sample #10 \t x: 1.0849 \t y: 1.1906 \t z: 0.0000\n",
      "UPDATED MAX \t sample #100 \t x: 1.4374 \t y: 1.3295 \t z: 0.0000\n",
      "UPDATED MAX \t sample #101 \t x: 1.4374 \t y: 1.4031 \t z: 0.0000\n",
      "UPDATED MAX \t sample #102 \t x: 1.6833 \t y: 1.4031 \t z: 0.0000\n",
      "UPDATED MAX \t sample #12 \t x: 1.7286 \t y: 1.4031 \t z: 0.0000\n",
      "UPDATED MAX \t sample #50 \t x: 1.7286 \t y: 1.4830 \t z: 0.0000\n"
     ]
    }
   ],
   "source": [
    "max_dims = get_max_dimensions(data_folder_path)"
   ]
  },
  {
   "cell_type": "code",
   "execution_count": 12,
   "metadata": {},
   "outputs": [],
   "source": [
    "class HiddenPrints:\n",
    "    def __enter__(self):\n",
    "        self._original_stdout = sys.stdout\n",
    "        sys.stdout = open(os.devnull, 'w')\n",
    "\n",
    "    def __exit__(self, exc_type, exc_val, exc_tb):\n",
    "        sys.stdout.close()\n",
    "        sys.stdout = self._original_stdout"
   ]
  },
  {
   "cell_type": "code",
   "execution_count": 13,
   "metadata": {},
   "outputs": [],
   "source": [
    "#create function that creates an element size for the resolution\n",
    "def get_element_size(samples_folder_path, resolution = 32):\n",
    "    ## runs through all samples to get the element size based on the resolution\n",
    "    with HiddenPrints():\n",
    "        max_x, max_y, max_z = get_max_dimensions(samples_folder_path)\n",
    "    \n",
    "    largest_dim = max([max_x, max_y, max_z])\n",
    "   \n",
    "    element_size = largest_dim/resolution\n",
    "    \n",
    "    return element_size"
   ]
  },
  {
   "cell_type": "code",
   "execution_count": 14,
   "metadata": {},
   "outputs": [],
   "source": [
    "element_size = get_element_size(data_folder_path)"
   ]
  },
  {
   "cell_type": "markdown",
   "metadata": {},
   "source": [
    "I just realized that the scaling step performed earlier on the pandas dataframe is of no use since there is no guarantee that two nodes aren't going to fall in the same element, and thus the data must be re-scaled after it has been fitted into the new format, as the maximums will change. This will be implemented later, and the previous scaling function will be considered deprecated."
   ]
  },
  {
   "cell_type": "code",
   "execution_count": 240,
   "metadata": {},
   "outputs": [],
   "source": [
    "## create function that takes  the element size and a tensor index and uses it to get\n",
    "## node indices that match that location from a sample.\n",
    "def get_dataframe_indices(element_size, sample_df, x, y, z=0, Is_2D=True):\n",
    "    ## create function that takes  the element size and a tensor index and uses it to get\n",
    "    ## dataframe indices that match that spatial location from a sample\n",
    "    \n",
    "    ## gets range of values\n",
    "    x_range = [x*element_size, (x+1)*element_size]\n",
    "    y_range = [y*element_size, (y+1)*element_size]    \n",
    "     \n",
    "    #print((sample_df['x_loc']))\n",
    "    x_condition = sample_df['x_loc'].between(x_range[0], x_range[1])\n",
    "    y_condition = sample_df['y_loc'].between(y_range[0], y_range[1])\n",
    "    \n",
    "    if Is_2D:\n",
    "        indices =  (x_condition.values & y_condition.values)\n",
    "    \n",
    "    if not(Is_2D):\n",
    "        z_range = [z*element_size, (z+1)*element_size]\n",
    "        z_condition = sample_df['z_loc'].between(z_range[0], z_range[1])\n",
    "        indices =  (x_condition.values & y_condition.values &z_condition.values) \n",
    "    # print(np.where(indices)[0]) uncomment to show selected indices\n",
    "    return np.where(indices)[0]"
   ]
  },
  {
   "cell_type": "code",
   "execution_count": 179,
   "metadata": {},
   "outputs": [
    {
     "name": "stdout",
     "output_type": "stream",
     "text": [
      "-0.0009658336639404297\n",
      "[137 453 455 511]\n"
     ]
    }
   ],
   "source": [
    "import time\n",
    "tic = time.time()\n",
    "get_dataframe_indices(element_size, raw_input_data, 0,4)\n",
    "toc = time.time()\n",
    "print(tic-toc)\n",
    "print(get_dataframe_indices(element_size, raw_input_data, 0,4))"
   ]
  },
  {
   "cell_type": "markdown",
   "metadata": {},
   "source": [
    "To be able to assign the correct position for the element inside of the tensor, the quadrant(2d)/octant(3d) it was created in must be determined. If the element wasn't created in a discernible quadrant in mind, it is still necessary to assign a equivalent one to it to position it inside of the tensor"
   ]
  },
  {
   "cell_type": "code",
   "execution_count": 180,
   "metadata": {},
   "outputs": [],
   "source": [
    "## create function to choose equivalent octant \n",
    "def get_quadrant(sample_df):\n",
    "    ## gets the sample's main octant by returning a 3 component vector that points to that octant. \n",
    "    ## a zero in the last component means that it is a 2d problem and thus it points to a 2d \n",
    "    ## quadrant\n",
    "    \n",
    "    #gets the maximum absolute values\n",
    "    max_x_abs, max_y_abs, max_z_abs = sample_df.loc[:,['x_loc','y_loc','z_loc']].abs().max()\n",
    "    \n",
    "    ## checks if 2d or 3d problem\n",
    "    Is_2D = True\n",
    "    if max_z_abs != 0:\n",
    "        Is_2D = False\n",
    "    ## get index of the maximum absolute values\n",
    "    x_index = np.where(sample_df.loc[:,['x_loc']].abs().values.squeeze() == [max_x_abs])\n",
    "    y_index = np.where(sample_df.loc[:,['y_loc']].abs().values.squeeze() == [max_y_abs])\n",
    "    if not(Is_2D):\n",
    "        z_index = np.where(sample_df.loc[:,['z_loc']].abs().values.squeeze() == [max_z_abs])\n",
    "    else:\n",
    "        z_index = [[0]]\n",
    "        \n",
    "    ## gets the value in that index\n",
    "    values = np.array([sample_df.loc[x_index[0],['x_loc']].values[0][0],\n",
    "                      sample_df.loc[y_index[0],['y_loc']].values[0][0],\n",
    "                      sample_df.loc[z_index[0],['z_loc']].values[0][0]])\n",
    "    \n",
    "    ## create array with information about the octant via a vector\n",
    "    octant = np.zeros(3)\n",
    "    octant[0:2] =  values[0:2]/abs(values[0:2])\n",
    "    if not(Is_2D):\n",
    "        octant[2] = values[2]/abs(values[2])\n",
    "    \n",
    "    return octant"
   ]
  },
  {
   "cell_type": "code",
   "execution_count": 181,
   "metadata": {},
   "outputs": [
    {
     "data": {
      "text/plain": [
       "array([1., 1., 0.])"
      ]
     },
     "execution_count": 181,
     "metadata": {},
     "output_type": "execute_result"
    }
   ],
   "source": [
    "get_quadrant(raw_input_data)"
   ]
  },
  {
   "cell_type": "markdown",
   "metadata": {},
   "source": [
    "Knowing in which octant the element was created in, it can be translated to the correct position. The idea is that, depending on the octant, the element was created in, it is going to be 'pressed against' a certain corner of the tensor. It is going to be translated to touch the \"edges\" of the tensor that correnspond to the planes it would be closest on the coordinate axis system it was created. So if it was created on the $(-x,-y,z)$ octant, for instance, it would be pressed the bottom, right, front corner of the cube shaped tensor. Illustratively, for some of the octants:\n",
    "$$\n",
    "(x,  y  ,z) \\rightarrow (left, back, bottom) : stays \\space in \\space place\n",
    "$$\n",
    "$$\n",
    "(-x, y, -z) \\rightarrow (right, back, top) : moves \\space right \\space and\\space up\n",
    "$$\n",
    "$$\n",
    "(x,  y, -z) \\rightarrow (left, back, top) : moves\\space up\n",
    "$$"
   ]
  },
  {
   "cell_type": "code",
   "execution_count": 460,
   "metadata": {},
   "outputs": [
    {
     "data": {
      "text/plain": [
       "array([1., 1., 0.])"
      ]
     },
     "execution_count": 460,
     "metadata": {},
     "output_type": "execute_result"
    }
   ],
   "source": [
    "## find a dataset in a different octant for testing of next part\n",
    "raw_input_data_octant, _ = scale.get_sample_dfs(data_folder_path, 26)\n",
    "get_quadrant(raw_input_data_octant)"
   ]
  },
  {
   "cell_type": "code",
   "execution_count": 183,
   "metadata": {},
   "outputs": [],
   "source": [
    "## create function to translate the dataframe\n",
    "def  translate_df(sample_df, max_dimensions):\n",
    "    ## gets a dataframe and translates the values to the correct position to place in the tensor\n",
    "    \n",
    "    octant = get_quadrant(sample_df)\n",
    "    \n",
    "    df_temp = sample_df.copy()\n",
    "    largest_dim = max(*max_dimensions)\n",
    "    \n",
    "    ## general translation: translates according to the overall octant\n",
    "    for i, direction in enumerate(octant):\n",
    "        direction_is_negative = direction < 0\n",
    "        if direction_is_negative:\n",
    "            if i == 0:\n",
    "                df_temp.loc[:,['x_loc']] = df_temp.loc[:,['x_loc']] + largest_dim\n",
    "            if i == 1:\n",
    "                df_temp.loc[:,['y_loc']] = df_temp.loc[:,['y_loc']] + largest_dim\n",
    "            if i == 2:\n",
    "                df_temp.loc[:,['z_loc']] = df_temp.loc[:,['z_loc']] + largest_dim\n",
    "        \n",
    "        ## minor translation: if some parts of the element are still \"sticking out\"\n",
    "        ## after the general translation, move it just enough to ensure that it fits inside\n",
    "        if not(direction_is_negative):\n",
    "            min_val = df_temp.loc[:,['x_loc','y_loc', 'z_loc']].iloc[:, i].min()\n",
    "            if min_val < 0.0:\n",
    "                if i == 0:\n",
    "                    df_temp.loc[:,['x_loc']] = df_temp.loc[:,['x_loc']] + abs(min_val)\n",
    "                if i == 1:\n",
    "                    df_temp.loc[:,['y_loc']] = df_temp.loc[:,['y_loc']] + abs(min_val)\n",
    "                if i == 2:\n",
    "                    df_temp.loc[:,['z_loc']] = df_temp.loc[:,['z_loc']] + abs(min_val)\n",
    "    \n",
    "    return df_temp\n",
    "    "
   ]
  },
  {
   "cell_type": "code",
   "execution_count": 461,
   "metadata": {},
   "outputs": [
    {
     "data": {
      "text/html": [
       "<div>\n",
       "<style scoped>\n",
       "    .dataframe tbody tr th:only-of-type {\n",
       "        vertical-align: middle;\n",
       "    }\n",
       "\n",
       "    .dataframe tbody tr th {\n",
       "        vertical-align: top;\n",
       "    }\n",
       "\n",
       "    .dataframe thead th {\n",
       "        text-align: right;\n",
       "    }\n",
       "</style>\n",
       "<table border=\"1\" class=\"dataframe\">\n",
       "  <thead>\n",
       "    <tr style=\"text-align: right;\">\n",
       "      <th></th>\n",
       "      <th>node_number</th>\n",
       "      <th>named_selection</th>\n",
       "      <th>x_loc</th>\n",
       "      <th>y_loc</th>\n",
       "      <th>z_loc</th>\n",
       "      <th>x_disp</th>\n",
       "      <th>y_disp</th>\n",
       "      <th>z_disp</th>\n",
       "      <th>x_force</th>\n",
       "      <th>y_force</th>\n",
       "      <th>z_force</th>\n",
       "    </tr>\n",
       "  </thead>\n",
       "  <tbody>\n",
       "    <tr>\n",
       "      <th>0</th>\n",
       "      <td>1</td>\n",
       "      <td>-1</td>\n",
       "      <td>0.000000</td>\n",
       "      <td>1.13540</td>\n",
       "      <td>0.0</td>\n",
       "      <td>0.000000</td>\n",
       "      <td>0.000000</td>\n",
       "      <td>0.0</td>\n",
       "      <td>0.0</td>\n",
       "      <td>0.0</td>\n",
       "      <td>0.0</td>\n",
       "    </tr>\n",
       "    <tr>\n",
       "      <th>1</th>\n",
       "      <td>2</td>\n",
       "      <td>-1</td>\n",
       "      <td>0.186530</td>\n",
       "      <td>0.00000</td>\n",
       "      <td>0.0</td>\n",
       "      <td>0.000000</td>\n",
       "      <td>0.000000</td>\n",
       "      <td>0.0</td>\n",
       "      <td>0.0</td>\n",
       "      <td>0.0</td>\n",
       "      <td>0.0</td>\n",
       "    </tr>\n",
       "    <tr>\n",
       "      <th>2</th>\n",
       "      <td>3</td>\n",
       "      <td>-1</td>\n",
       "      <td>0.008230</td>\n",
       "      <td>1.08530</td>\n",
       "      <td>0.0</td>\n",
       "      <td>0.000000</td>\n",
       "      <td>0.000000</td>\n",
       "      <td>0.0</td>\n",
       "      <td>0.0</td>\n",
       "      <td>0.0</td>\n",
       "      <td>0.0</td>\n",
       "    </tr>\n",
       "    <tr>\n",
       "      <th>3</th>\n",
       "      <td>4</td>\n",
       "      <td>-1</td>\n",
       "      <td>0.016470</td>\n",
       "      <td>1.03510</td>\n",
       "      <td>0.0</td>\n",
       "      <td>0.000000</td>\n",
       "      <td>0.000000</td>\n",
       "      <td>0.0</td>\n",
       "      <td>0.0</td>\n",
       "      <td>0.0</td>\n",
       "      <td>0.0</td>\n",
       "    </tr>\n",
       "    <tr>\n",
       "      <th>4</th>\n",
       "      <td>5</td>\n",
       "      <td>-1</td>\n",
       "      <td>0.024710</td>\n",
       "      <td>0.98496</td>\n",
       "      <td>0.0</td>\n",
       "      <td>0.000000</td>\n",
       "      <td>0.000000</td>\n",
       "      <td>0.0</td>\n",
       "      <td>0.0</td>\n",
       "      <td>0.0</td>\n",
       "      <td>0.0</td>\n",
       "    </tr>\n",
       "    <tr>\n",
       "      <th>...</th>\n",
       "      <td>...</td>\n",
       "      <td>...</td>\n",
       "      <td>...</td>\n",
       "      <td>...</td>\n",
       "      <td>...</td>\n",
       "      <td>...</td>\n",
       "      <td>...</td>\n",
       "      <td>...</td>\n",
       "      <td>...</td>\n",
       "      <td>...</td>\n",
       "      <td>...</td>\n",
       "    </tr>\n",
       "    <tr>\n",
       "      <th>569</th>\n",
       "      <td>570</td>\n",
       "      <td>-1</td>\n",
       "      <td>0.355980</td>\n",
       "      <td>0.33947</td>\n",
       "      <td>0.0</td>\n",
       "      <td>0.000000</td>\n",
       "      <td>0.000000</td>\n",
       "      <td>0.0</td>\n",
       "      <td>0.0</td>\n",
       "      <td>0.0</td>\n",
       "      <td>0.0</td>\n",
       "    </tr>\n",
       "    <tr>\n",
       "      <th>570</th>\n",
       "      <td>571</td>\n",
       "      <td>-1</td>\n",
       "      <td>0.326990</td>\n",
       "      <td>0.33622</td>\n",
       "      <td>0.0</td>\n",
       "      <td>0.000000</td>\n",
       "      <td>0.000000</td>\n",
       "      <td>0.0</td>\n",
       "      <td>0.0</td>\n",
       "      <td>0.0</td>\n",
       "      <td>0.0</td>\n",
       "    </tr>\n",
       "    <tr>\n",
       "      <th>571</th>\n",
       "      <td>572</td>\n",
       "      <td>1</td>\n",
       "      <td>0.291370</td>\n",
       "      <td>0.44160</td>\n",
       "      <td>0.0</td>\n",
       "      <td>0.000606</td>\n",
       "      <td>-0.000288</td>\n",
       "      <td>0.0</td>\n",
       "      <td>0.0</td>\n",
       "      <td>0.0</td>\n",
       "      <td>0.0</td>\n",
       "    </tr>\n",
       "    <tr>\n",
       "      <th>572</th>\n",
       "      <td>573</td>\n",
       "      <td>-1</td>\n",
       "      <td>0.742680</td>\n",
       "      <td>0.75061</td>\n",
       "      <td>0.0</td>\n",
       "      <td>0.000000</td>\n",
       "      <td>0.000000</td>\n",
       "      <td>0.0</td>\n",
       "      <td>0.0</td>\n",
       "      <td>0.0</td>\n",
       "      <td>0.0</td>\n",
       "    </tr>\n",
       "    <tr>\n",
       "      <th>573</th>\n",
       "      <td>574</td>\n",
       "      <td>-1</td>\n",
       "      <td>0.152314</td>\n",
       "      <td>0.99149</td>\n",
       "      <td>0.0</td>\n",
       "      <td>0.000000</td>\n",
       "      <td>0.000000</td>\n",
       "      <td>0.0</td>\n",
       "      <td>0.0</td>\n",
       "      <td>0.0</td>\n",
       "      <td>0.0</td>\n",
       "    </tr>\n",
       "  </tbody>\n",
       "</table>\n",
       "<p>574 rows × 11 columns</p>\n",
       "</div>"
      ],
      "text/plain": [
       "     node_number  named_selection     x_loc    y_loc  z_loc    x_disp  \\\n",
       "0              1               -1  0.000000  1.13540    0.0  0.000000   \n",
       "1              2               -1  0.186530  0.00000    0.0  0.000000   \n",
       "2              3               -1  0.008230  1.08530    0.0  0.000000   \n",
       "3              4               -1  0.016470  1.03510    0.0  0.000000   \n",
       "4              5               -1  0.024710  0.98496    0.0  0.000000   \n",
       "..           ...              ...       ...      ...    ...       ...   \n",
       "569          570               -1  0.355980  0.33947    0.0  0.000000   \n",
       "570          571               -1  0.326990  0.33622    0.0  0.000000   \n",
       "571          572                1  0.291370  0.44160    0.0  0.000606   \n",
       "572          573               -1  0.742680  0.75061    0.0  0.000000   \n",
       "573          574               -1  0.152314  0.99149    0.0  0.000000   \n",
       "\n",
       "       y_disp  z_disp  x_force  y_force  z_force  \n",
       "0    0.000000     0.0      0.0      0.0      0.0  \n",
       "1    0.000000     0.0      0.0      0.0      0.0  \n",
       "2    0.000000     0.0      0.0      0.0      0.0  \n",
       "3    0.000000     0.0      0.0      0.0      0.0  \n",
       "4    0.000000     0.0      0.0      0.0      0.0  \n",
       "..        ...     ...      ...      ...      ...  \n",
       "569  0.000000     0.0      0.0      0.0      0.0  \n",
       "570  0.000000     0.0      0.0      0.0      0.0  \n",
       "571 -0.000288     0.0      0.0      0.0      0.0  \n",
       "572  0.000000     0.0      0.0      0.0      0.0  \n",
       "573  0.000000     0.0      0.0      0.0      0.0  \n",
       "\n",
       "[574 rows x 11 columns]"
      ]
     },
     "execution_count": 461,
     "metadata": {},
     "output_type": "execute_result"
    }
   ],
   "source": [
    "translated_input = translate_df(raw_input_data_octant, max_dims)\n",
    "translated_input"
   ]
  },
  {
   "cell_type": "markdown",
   "metadata": {},
   "source": [
    "Now,  having translated the element into the part of the space we need for the tensor, we need to perform the data collection into the features of the tensor"
   ]
  },
  {
   "cell_type": "code",
   "execution_count": 371,
   "metadata": {},
   "outputs": [],
   "source": [
    "## Create a function that creates a hard map of where the element is\n",
    "def get_material_map_hard(translated_sample_df, element_size, dimensionality=2):\n",
    "    ## gets the sample df and returns a tensor with 1 where nodes are found,\n",
    "    ## and 0 where no nodes are found\n",
    "    \n",
    "    ##Initialize an array for this feature\n",
    "    array = create_array(dimensionality, features=1, resolution = 32)\n",
    "\n",
    "    arr_iterator = np.nditer(array, flags=['multi_index'])\n",
    "    for location in arr_iterator:\n",
    "\n",
    "        if dimensionality == 2:\n",
    "            x = arr_iterator.multi_index[0]\n",
    "            y = arr_iterator.multi_index[1]\n",
    "            z=0\n",
    "            feature = arr_iterator.multi_index[2]\n",
    "        else:\n",
    "            raise Exception('3d not implemented yet')\n",
    "        \n",
    "        if get_dataframe_indices(element_size, translated_sample_df, x, y, z).size > 0: ## empty list returns False\n",
    "            array[x,y,z] = 1.\n",
    "    return array"
   ]
  },
  {
   "cell_type": "code",
   "execution_count": 462,
   "metadata": {
    "scrolled": true
   },
   "outputs": [
    {
     "name": "stdout",
     "output_type": "stream",
     "text": [
      "0.743030309677124\n"
     ]
    }
   ],
   "source": [
    "tic = time.time()\n",
    "get_material_map_hard(translated_input, element_size, dimensionality=2)\n",
    "toc = time.time()\n",
    "print(toc-tic)"
   ]
  },
  {
   "cell_type": "code",
   "execution_count": 477,
   "metadata": {},
   "outputs": [
    {
     "name": "stdout",
     "output_type": "stream",
     "text": [
      "1.0 3\n",
      "1.0\n"
     ]
    },
    {
     "data": {
      "text/html": [
       "<img src=\"data:image/png;base64,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\" alt=\"PNG image\"></img>"
      ],
      "text/plain": [
       "<IPython.core.display.HTML object>"
      ]
     },
     "metadata": {},
     "output_type": "display_data"
    }
   ],
   "source": [
    "hard_map_array = get_material_map_hard(translated_input, element_size, dimensionality=2)\n",
    "\n",
    "## Create function to plot the tensor\n",
    "def plot_2d(sample_array, contour = False):\n",
    "    mlab.clf()\n",
    "    #print(sample_array)\n",
    "    m = np.max(np.abs(sample_array))\n",
    "    print(m, len(sample_array.shape))\n",
    "    s = np.abs(sample_array)\n",
    "    mlab.figure(figure=None, bgcolor=(0.99,0.99,0.99), fgcolor=None, engine=None, size=(400, 350))\n",
    "    \n",
    "    if len(sample_array.shape)==3:\n",
    "        \n",
    "        sample_array = np.concatenate((sample_array, sample_array), axis=2)\n",
    "        \n",
    "    sample_array = np.abs(sample_array)\n",
    "\n",
    "    try:\n",
    "        sample_array = sample_array/m\n",
    "    except: ## if m is zero\n",
    "        pass\n",
    "    n = np.max(np.abs(sample_array))\n",
    "    print(n)\n",
    "\n",
    "    sample_array[0,:,:] += 1.2\n",
    "    sample_array[:,0,:] += 1.2\n",
    "    sample_array[-1,:,:] += 1.2\n",
    "    sample_array[:,-1,:] += 1.2\n",
    "        \n",
    "    \n",
    "    volume = mlab.pipeline.volume(mlab.pipeline.scalar_field(sample_array), vmin=0.2, vmax=0.8)\n",
    "    if contour:\n",
    "        mlab.contour3d(s)\n",
    "    \n",
    "        \n",
    "    return volume\n",
    "plot_2d(hard_map_array)"
   ]
  },
  {
   "cell_type": "markdown",
   "metadata": {},
   "source": [
    "In the image above, the shaded part represents the points where nodes were detected. The colourful edge is a contour of 'same value' surfaces, which is used to demonstrate where there is sharp transition in values. As can be seen,  it works roughly as expected, however the edges are jagged and some spots in the center where the nodes are very far apart, the tensor actually sees no nodes and receive a zero value. To correct this, it can be filtered with a convolutional kernel to create an average value for every point, smoothing out the edges and filling the internal elements that are empty.\n",
    "\n",
    "Note: the top left of the image shows no \"gradient\" because it is on the very edge of the tensor"
   ]
  },
  {
   "cell_type": "code",
   "execution_count": 364,
   "metadata": {},
   "outputs": [],
   "source": [
    "## create a function that creates a fuzzy map of where the element is\n",
    "def interpolate_array_spatially_2D(sample_array):\n",
    "    ## use gaussian blur kernel to smooth out the tensor\n",
    "    \n",
    "    ## define kernel\n",
    "    kernel_blur = 1/256*torch.Tensor([[1, 4, 6, 4, 1],\n",
    "                                [4, 16, 24, 16, 4],\n",
    "                                [6, 24, 36, 24, 6],\n",
    "                                [4, 16, 24, 16, 4],\n",
    "                                [1, 4, 6, 4, 1]])\n",
    "    \n",
    "    ## add redundant batch_size and _feature dimensions because of torch requirements\n",
    "    kernel_blur = kernel_blur.view([1,1,5,5])\n",
    "    \n",
    "    ## convert\n",
    "    tensor = torch.from_numpy(sample_array)\n",
    "    \n",
    "    ## convolve filter and tensor\n",
    "    smoothed_array = F.conv2d(input = tensor.view([1,1,32,32]), weight = kernel_blur.double(), stride = 1, padding=2)   \n",
    "    \n",
    "    ## return it as a correctly shaped numpy arra\n",
    "    return smoothed_array.view([32,32,1]).numpy()"
   ]
  },
  {
   "cell_type": "code",
   "execution_count": 534,
   "metadata": {},
   "outputs": [],
   "source": [
    "## create a function that runs any other arbitrary kernel\n",
    "def convolve_with_kernel(sample_array, kernel_name='edge_detection'):\n",
    "    ## use kernel on sample\n",
    "    \n",
    "    ## define kernel\n",
    "    \n",
    "    if kernel_name == 'edge_detection':\n",
    "        kernel = torch.Tensor([[-1,-1,-1, -1, -1],\n",
    "                                [-1,-1, -1,-1, -1],\n",
    "                                [-1,-1, 24,-1, -1],\n",
    "                                [-1,-1, -1,-1, -1],\n",
    "                                [-1,-1, -1,-1, -1]])\n",
    "    \n",
    "    ## add redundant batch_size and _feature dimensions because of torch requirements\n",
    "    kernel = kernel.view([1,1,5,5])\n",
    "    \n",
    "    ## convert\n",
    "    tensor = torch.from_numpy(sample_array)\n",
    "    \n",
    "    ## convolve filter and tensor\n",
    "    convolved_array = F.conv2d(input = tensor.view([1,1,32,32]), weight = kernel.double(), stride = 1, padding=2)   \n",
    "    \n",
    "    ## return it as a correctly shaped numpy array\n",
    "    return convolved_array.view([32,32,1]).numpy()\n",
    "                               "
   ]
  },
  {
   "cell_type": "code",
   "execution_count": 464,
   "metadata": {},
   "outputs": [
    {
     "name": "stdout",
     "output_type": "stream",
     "text": [
      "1.0 3\n",
      "1.0\n"
     ]
    },
    {
     "data": {
      "text/html": [
       "<img src=\"data:image/png;base64,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\" alt=\"PNG image\"></img>"
      ],
      "text/plain": [
       "<IPython.core.display.HTML object>"
      ]
     },
     "metadata": {},
     "output_type": "display_data"
    }
   ],
   "source": [
    "#tic = time.time()\n",
    "smoothed_map_array = interpolate_array_spatially_2D(hard_map_array)\n",
    "#print(time.time()-tic)\n",
    "plot_2d(smoothed_map_array)"
   ]
  },
  {
   "cell_type": "code",
   "execution_count": 535,
   "metadata": {},
   "outputs": [
    {
     "name": "stdout",
     "output_type": "stream",
     "text": [
      "24.0 3\n",
      "1.0\n"
     ]
    },
    {
     "data": {
      "text/html": [
       "<img src=\"data:image/png;base64,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\" alt=\"PNG image\"></img>"
      ],
      "text/plain": [
       "<IPython.core.display.HTML object>"
      ]
     },
     "metadata": {},
     "output_type": "display_data"
    }
   ],
   "source": [
    "plot_2d(convolve_with_kernel(hard_map_array))"
   ]
  },
  {
   "cell_type": "markdown",
   "metadata": {},
   "source": [
    "The other features depend on the type of feature they are. Specifically, displacements have a value that vary spacially according to a shape function which in theory can be specified, however for the sake of simplicity and performance, they are going to be interpolated linearly. Forces on the element, on the other hand, are vector sums of the nodal forces."
   ]
  },
  {
   "cell_type": "code",
   "execution_count": 488,
   "metadata": {},
   "outputs": [
    {
     "name": "stdout",
     "output_type": "stream",
     "text": [
      "(32, 32, 6)\n"
     ]
    }
   ],
   "source": [
    "## create a function that gets a sample dataframe and transforms it into an array\n",
    "\n",
    "def get_input_map(translated_sample_df, element_size, dimensionality=2):\n",
    "    ## takes a dataframe and returns the displacements and forces in every element of the tensor\n",
    "    \n",
    "    ##Initialize an array for this feature\n",
    "    array = create_array(dimensionality, features=6, resolution = 32)\n",
    "    print(array.shape)\n",
    "    \n",
    "    ## Create iterator for the array\n",
    "    arr_iterator = np.nditer(array, flags=['multi_index'])\n",
    "    \n",
    "    ## iterates through every  element of array\n",
    "    for location in arr_iterator:\n",
    "        \n",
    "        if dimensionality == 2:\n",
    "            x = arr_iterator.multi_index[0]\n",
    "            y = arr_iterator.multi_index[1]\n",
    "            z=0\n",
    "            feature = arr_iterator.multi_index[2]\n",
    "        else:\n",
    "            raise Exception('3d not implemented yet')\n",
    "        \n",
    "        ## get the indices for this location\n",
    "        indices = get_dataframe_indices(element_size, translated_sample_df, x, y, z)\n",
    "        if indices.size > 0: ## empty list returns False\n",
    "            ##gets the features of the input at that location\n",
    "            displacements = translated_sample_df.loc[indices,['x_disp','y_disp','z_disp']]\n",
    "            forces = translated_sample_df.loc[indices,['x_force','y_force','z_force']]\n",
    "            \n",
    "            ## calculates the feature value based on current feature being analyzed\n",
    "            if 0 <= feature < 3: \n",
    "                feature_value = displacements.values[:,feature].mean()\n",
    "                #print('disp', feature, feature_value)\n",
    "            if 3 <= feature < 6: \n",
    "                feature_value = forces.values[:,feature-3].sum()\n",
    "                #print('force', feature-3, feature_value)\n",
    "            \n",
    "            if dimensionality == 2:\n",
    "                array[x,y,feature] = feature_value\n",
    "            else:\n",
    "                raise Exception('3d not implemented yet')    \n",
    "                \n",
    "            #print(displacements)\n",
    "            \n",
    "    return array\n",
    "\n",
    "input_feature_array = get_input_map(translated_input, element_size, dimensionality=2)"
   ]
  },
  {
   "cell_type": "code",
   "execution_count": 467,
   "metadata": {},
   "outputs": [
    {
     "name": "stdout",
     "output_type": "stream",
     "text": [
      "(32, 32, 1)\n",
      "0.00142152849334207 3\n",
      "1.0\n"
     ]
    },
    {
     "data": {
      "text/html": [
       "<img src=\"data:image/png;base64,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\" alt=\"PNG image\"></img>"
      ],
      "text/plain": [
       "<IPython.core.display.HTML object>"
      ]
     },
     "metadata": {},
     "output_type": "display_data"
    }
   ],
   "source": [
    "print(input_feature_array[:,:,0:1].shape)\n",
    "plot_2d(input_feature_array[:,:,0:1],contour=True)"
   ]
  },
  {
   "cell_type": "code",
   "execution_count": 468,
   "metadata": {},
   "outputs": [
    {
     "name": "stdout",
     "output_type": "stream",
     "text": [
      "0.00208731508313133 3\n",
      "1.0\n"
     ]
    },
    {
     "data": {
      "text/html": [
       "<img src=\"data:image/png;base64,iVBORw0KGgoAAAANSUhEUgAAAZAAAAFeCAIAAAAkP95fAAAgAElEQVR4Xu29W5Nl2Xbf9R9jzHXZmdXdOjKSjmwHGKOwAEtHdnAHOUByGB6Mwg92EA4/8334DMADDkzAI4EfbBMOHhxgAsnXwNjYVoSxdRSy3J17r8scFx7m2jt3VlV3dXVXVuXKHL/TUR2na3dWdl5+OcdY/zEmqSqSJEn2AL/rBUmSJE+FFFaSJLshhZUkyW5IYSVJshtSWEmS7IYUVpIkuyGFlSTJbkhhJUmyG1JYSZLshhRWkiS7IYWVJMluSGElSbIbUlhJkuyGFFaSJLshhZUkyW5IYSVJshtSWEmS7IYUVpIkuyGFlSTJbkhhJUmyG1JYSZLshhRWkiS7IYWVJMluSGElSbIbUlhJkuyGFFaSJLshhZUkyW5IYSVJshtSWEmS7IYUVpIkuyGFlSTJbkhhJUmyG1JYSZLshhRWkiS7IYWVJMluSGElSbIbUlhJkuyGFFaSJLshhZUkyW5IYSVJshtSWEmS7IYUVpIkuyGFlSTJbkhhJUmyG1JYSZLshhRWkiS7IYWVJMluSGElSbIbUlhJkuyGFFaSJLshhZUkyW5IYSVJshtSWEmS7IYUVpIkuyGFlSTJbkhhJUmyG1JYSZLshhRWkiS7IYWVJMluSGElSbIbUlhJkuyGFFaSJLshhZUkyW5IYSVJshtSWEmS7IYUVpIkuyGFlSTJbkhhJUmyG1JYSZLshhRWkiS7IYWVJMluSGElSbIbUlhJkuyGFFaSJLshhZUkyW5IYSVJshtSWEmS7IYUVpIkuyGFlSTJbkhhJUmyG1JYSZLshhRWkiS7IYWVJMluSGElSbIbUlhJkuyGFFaSJLshhZUkyW5IYSVJshtSWEmS7IYUVpIkuyGFlSTJbijvekGSvCdmPk0A+HCAyLtenSTvQQor+XCY+TTF8RjTBCAOB7q9TW0lH5AUVvIBCLO4u4t5jmmK0wnrCiBOJ5qmOBxoHPnVq9RW8v1JYSXfC1tXnSbMM05HwuphgQqb2u+Sh0wzT33MM8aRDgf0/Te/wST5BlJYyXfE1rVO03o8+jKTVyEDOSIYAGJ7DcJZCzktleaOjiNubyO1lXxXUljJe2PrWu/udJ51ndWrWeWIjkk4CCBCMAMgAoAIKMJJC1W2Sr8703GMcYxXr1JbyftCqvqu1yQJAIRZKwB1nq0uqrOGGYCg4tYLl0IUROAWlnEgyElACESwMAPiUYJBI2SIccThEH2f7a3kW5LCSt7NRVX1eLS6WFSDB8jMggiBjqgXkpuBh4Nw4VYTBhSKOvO6UAQQAiCCRDhCjCg68BC3t6mt5FuSwkq+iTCr02TzrNOkuphXR7h7AEQUgLsTSz8Ow+0N34zSjUIdAQAFwqDhM6aJlpmWmc3ATAAiABCROLF34AGHQ4xjZAYi+UZSWMnbCbNW/W2qstXCHSAiAOEOIhLhYSiHQzeOpYyl9IWFrt8IoOGGFbHQMtE00bKQWUQ0c0UER5RgpiHQp7aSbyaFlbzOg1NVnSzUItpjv+YpACwi4yjjWA6HUsbCXWGha1ddv0FA4U41fKZ5onmmeYZZE1YzFwUkwF5CDjSmtpK3k8JK7gmz9e7O5lmXWXWxUI8IIrg3YRERicgwlMOhHA4iQ+GuiHyNqR7QtGWohAXzRNPEywKziGjmIhEOsAdHAQYM54eJqa3kTAorAc75z6Yqs1W9OsHNca4BAZCIjGMZxzIepAyd9EL8daeqryMAQyhWigXLg9MWcO5tMbOHRIfoN21ldCsBkMJKHqjKV9XVEBH3ngp37joZx+5wkGEs3Vi4+w6quqZpy6iiaWuaMM9U69aSb70tgANCPaJHn9pKgBTWS+aSVNBl9qgW5jg3q85lIJdSDgcZx248SBm+v6qu2bSFCmynLUwTty9I5vauMFpvSxAdujEyKP+ySWG9OK7zn7rO7mdV4fz4DwCwNarGUfqxlKGQCD/W9jQDFApaUTdt0bJsR60tBgGJkBB4h27MxOmLJYX1gngtqm62Gsyx9apwblfJMGyP//pRpH9UVV1jASUFVtiMaaJ55mVB68e3V7BwuLgQ+gzKv0xSWC+Ca1XV5eReDe4RwIPqjoehOxxkHEs/CvedlA9W/n1rLELJAivZfDltIXD/jgQEYCeKDt1NautFkcJ65rwtqu4BinPWHEC0ArCdqrpRpC8sH19V1zjQtPXaaQtAeACg1t7ybb4nE6cvhBTWs+VaVWZrm6qxram+QUTc91uvqhvLE1DVNQ4oLLDCr05bAC4nwwATxImjy6D8SyCF9Qx5oCpf1arjXlRuhhZVP/eqpAxPTVXXNG05VoqlBSB4WaJFt85iogiJTVsZlH/GpLCeFdehKtXFr6ZqLhDzpVf1xFV1zb22fGlFIi0LhePqP4+2DEQBDZk4fZaksJ4Jb0bVA/DXCsA2VdNmALtRuNuFqq7ZikSqaC351tsyu34NE5GHIIPyz5AU1u55TVUWukXVcX/4IOZWAHbnAlCI96WqaxwwuGNFLNimqRc6J8gaW1c+CtC36FZq6xmQwtor10kFt2q2qmvQ1qy6FILEvB2pzgXgrlV1TdOWtd7WMqONJZ61Rdv/QB6laYu7zEDsnRTW/vjaqHqArhOezJewgshQpHs2qrrGA0bubSzxjdNWAOROBA5kUP4ZkMLaE2+Jql8PAJ7hvt9OVf1YyiBchIienaquCcAijBS00jqjPUxc1+sXEBFHSGRQfseksPZBSyr4uuo8my5qq7ldCsDLhoMtqdCi6tIXKYxnrqprYuvKV2ClOuPSlb/+CGzaYkIPHmIc0feZgdgLKaynzmtR9SBX16ap+0YVQH1fWqOqH0X67oWp6pprbaGeHyaeT1txzvdTRIGQcgbld0QK6+nyZlTdwi97V7bXRNwnFfqRuXvJqromAk5QVFC9nLZoWe73fLUi0UyCGRmU3wcprKdIa1R5rTpPpttUjZ+3cV6Edd2ramsV+Ln3qt6Xpi2DBlbog9PWdtQyAxEDHNS0ReMhui4zEE+TFNbT4hKqsrqaXU3VbL8Ei1z3qqQbUlXv5HzaUmAlWx6ctsy2DhcRtR2nbb6n6zO69QRJYT0JwszNrvOfTm7nqx+2zQoAmPnSq0pVvTdkCIUGVrLl/rR1SZy23hYgIDYGrlYzi2Sd+BRIYX1iWlLB1vW1qZpLryrOlaAMw5ar6kbmrvBH2qv3/NgWnKKSL9Eu71kWOt9gBgBE7E4eQt0lKI++zwzEJyeF9cm4hKq8Vl2bqnSb/mO+X69AdGmrX6Lqqarvj0UYeWCFb6ctWhZqPyRagei+FYk4z/d0XUa3Pi0prE/Aa1H1gLWkgrddwOcrkUFUxrG1q3a0VmFfPFgC0RbXzDPHecNpu4mDiCIEhVQyKP9pSWF9VB7kP+titjqFXx77xXYNMoi4VX/jKGXY41qFfXFZAtG0dX3awlWpyIAY3QflM3H60UlhfSQuoSpbV9NFdfUwJyKiS6+KmC+nqqaqTgY5X9WXPDaxXTu2IJa2b2s7bV2cRYQAu0swUQ8e0PcZ3fqYpLAenev8p4eaV3WNuCr9AES0x388DGVoW9U/5A2Az4mI8yzS9v/xYT9KZ21VYMU607JsDxMvzgLIA4gCoegQJROnH40U1iNy//hvmsxWh6lbIMJBcm8r7vvtSNUN51nlF6qqTUYBIN7MagTggSB4xMVZBKIAAx/2INq05aQRC9VlKxLbfE97x8zBrbcl4uJ0Xs3c9xndejxSWI/Cm1F1IwARjoi42Iq7vhxGGYYWVX/2qgq0y8UiIoi2/FhbWxWBFpENtNAZEcDb2B8CMHenMHjAA95ufQ0QoStROpDQ+bnqh+N82tJtLPG101YrFVtL3sCUQflHJ4X1IbnOf16i6oFwtK/qaI0qeniqehGqirAIDXXXcA8PEDEzETMzCIFwOODY9qQSQAxpxooICwtohFFb20dBhSqJ4XbAYXB0j5b0uNYW6XbaQgvKn50FgN3v53u6PhOnj0EK68PwWv7TQ83VwqNtvWyNqjb80fdbUqFF1V/AsioAFrG4Vbujuvik7RJXLkIiJEytrnMl9cvHijsBCzEF4OZu5lrDlN0LBTj4c177bsJnfXxx4zI+mrAacVm5ddYWloXXNQA6v88R4Agh4ijw0oLymTj9gJR3vSB5Bw/yn69P1RCoXQUR11H1s6rk5axV8EANX33q6tG/rKZORCYMYTCDEQiGs5oECEFEXgTEaMLycDdTJdNfpujdRQCSrz4ffnsoRxx+7EMXLI/5sSSgEAk6R6elx6uRDoufT1vwaH03BwUCVEVU1pXqjG5EJk4/ECms786bUXVzNYDaT1ymra1+nVR4eapqBKARK5QwI2ZaDWsQM4mAKQggqCvMOUIAJuIiJAyQA+bxy+FFtQv/wq0PF4mAkPf1FdHY/ZTgd30gPPoEAAECMDpHZ9LH7YBxiaateaEIIoogijCGiYmfpK5Ue9Sa2vr+pLC+C19zAQS1q2rcvDWqApBhbG31nFX+mVJ6yO9hPogPZR3MuAZmCWrP3RzhOC98JiIqDGYn/ovu/xnoc7di2pv+VPxa52BBAHeOW+3+8Wd/w25lAXP0HT7GR/esreIoTVsxLjQu0erE9l9kDiYTNjg3bWmPeUYG5b8HKaz347WousPM1eM8yhEBIhYKIukHGbf8J0v3klUF4EYE7r+H/uBPEkZGRzFwjOwdQWYKBSjI0Z4UOmAEY5CQE/4c8NMRRdEZ/ltHcXQAGP8lYI7V7Wb46ngzrDH26LuP+AHetBXFqaj0cTPSOGKeY16wLiQcAfIAkxEHGWMSVDoum7YyKP/+ZNP92/KWqPr23O9c/XmACEylH2QcZRxKGfg8VfNiVdUoxID9Xjv8zQn+z0H/9hagGshkAe7gtsWs2pPCFdD28I0QAEfbVIUCyH+HDiAG30C/+B/+i5/8M7/zw/J3vvg7v4MffunjgT/NRzruV25V+ELzgmWmZYEHRYAJAUQQgdp8TwblvxMprHdznf/0ULNqLU4E4Hz/A0AkLMMg/VDGkUt/uQHw03wDPTEKMxA/jOH/rvAj8PMAkfbcy3KoiN9BLDBsf1VgAfT8wQXAbY4PKEABBMBf+PNy82fjc6w/8T//yZ/9z//Z5/L3+Xe+tP7wSW8yi23BqQVWihXTTOuCZYE5IdpjRGpfLUAJehCUz8TptyCF9U1c5z/dz1M1IGpPgkBEbQZQZBykTdV0g3CXG2Beo4gA+KnoSuDvOXwl+9dkHenQTeN//z/5P1ywbKpqt87/LqAAn53VbCUAA92f+7NSwB1CCH+RcEvxw7/27/zEv/cvMP42fVXDP6GwzpCFG3lQJVuwzFgWmhdy25wVAaIAOLxACF1EycTptyGF9RYu+c/7qDrMw90dtHXT2wtJShmHdrBqqsq1Cl9HEUHgp6mLEAn6DSVd4ubfn4cj9L/683G+QpAAB34MLGdhtVYRtXOWoIxCo8if+dPELAD/H+CfxC/d4sjdj+lU3Z7OkXZbAtGKxHXZniSabtoiNHkRQYI55EFQPhOnbyOF9YA3o+oOV7cWT2gvaef5c/5zkG6Q0hfucq3CN1PakTOcUX/Wf2Iw+qtHHI5z9x/Cfgv+3/x5Ppd7Dvw2cLz/wbCZS3rigflQ6DDyeDP+6h/vEPT3wDf4+Q5K8mNe1O3r34VPwzko325LXKi15Nf1wVELAEJI2DiD8t9APiXceDOqrladcF6n0Ko/ACRDL/1QDldTNamqdxGB2XzF+lNcB1vq9Pf+pdPP/amZfmLC//gXgD8GXHWsADR5KeAACM7gjmNgPxQ7DP2f/LUSxH8bfAvq8YcExvgxpivFPSEIKCBBb+i8H6JboUts7a21/QD0AAUUDnbxKrrSlzPNcwblXyOF9XpU/WqqBhS0HawiAlTGQfpzAZiqeh8cqIgV82/rHf3z07+1Vj/9b1/M/8FhAU0gBjEQaKPPcS4DnRFCIYTC6MRHkT/9p4gZLPS3UG7jX++gDAJ+TBVEak/ueHWhaSuiMxQvfXw2oC5YFqxLzMvlqEWAMnlUFmVV+iqD8g940cJ6S1Qd7u7ROicRQVujYYsp9Feqetazyh8cD1SKBacRR56Pny1rvyy3bgWAAAPwmcACFmTgQAFUYIWtCERQCv/ar5UOVIj+OskN8YA/VCg4fkzafqY8ZVtd2LSFzlCs66MbUBcaFsxtmnrragWRAkRVSDMof80LFdZ1/rNF1Q1u7udHf+e/E22NqqYq7lJV3xGCAZX8F8U/L/oz9Y91EnD6r5msAwr8sxvyCLW2MwwACUOYpOPSlT/xJwqhAPTrRAfiQr9QgsR/THVHtrpwLhI3baEbY1iwzDFvK7faUStAFmFsjPlBUP4FJ05fnLBeV5VXtRpECACEbbtRbKoargpAYiFJVX1nIuLnRH4p/ugrBBH9haCgiA7ynwIIvn1FHmTu6h7BASncFSm/8qvkEIB+/de7V79EA4x/80fdH4DEb+Gpl4HfzL22oljpUAYalmij1MtyPz0BOODsHKeCDlOlucO6vkxtvSBhXXrqLaruYebqwFYAItrBCkTlvFaBu/5lzip/cA5tXT0B7v9L+0cF+I+337W//n8SItTDPKoRwMDwy/+RtPEBgP8fSP9LpYPSP/2F7veC6cc0gXZ2sHordLUEwkofZcC4tt01tK4RwduTB3LwQiZQQaXTgnloXfkXlTh9EbGGN1WlrnH+EdaO37gUgMOwTdVIl6r6UBQSsP8Qw884/to/Bf4wAOD8SANtCSkoAuHQ3/gN+sUfOSP+fjiBOxDj5zuAEET/wO8+Kz2InlTk6oPQDlMGBVXogmXZdtdEtKtK2pcrIwgkJGRyP9/zMrT1nIX1Wv6zRdUt3COIOLZNINtVgJcCsHSpqg9PS7r/DLpb4G+tZ00JQEFARBAhgsIRFWgPDB0h8XMCtHqd8WPW8/csAOy6HvwGLtoKVNjZWcsift65df7apTbf81pQ/llHt56nsN6qKgfMjUCXn1QEQKScVcWll5xVfhy20Rx0rfxuH//YNsm0T0ZEW9Bz/vS0kAMBv9U89fAT8ixVdU1sQXkFKvl6OW2R2dVRCw4wkxiIOvjz19ZzE9Z1/vMSVTe3QFv9QvcHq4eqylnlx6Zcvn/i8jcC8MBEcf/baL939bvPXlJvsk1TkwE1zqctWhYyO4/20Pkr2wXCzkE9lf65Jk6fj7CuVeVaVZc2VRMAzjVg++xyKdz3ZdjWKrRZ5VTVY1O+63fOC/TUa1wtgagU9y15qL6mLQ4XEnYGD+Du+WnrOQjrtfynu5qrE8L9uq0eAJeyNarOBWCqKtkLEXCEkW/aurTkVa+/yAkgIvEgFIqCboxnlDjdt7AuoapNVWFm1QEPf9BWJ2qnqq2zftWretefkCRPiwgEnZdAxLoViesKVbr+im9ZwgihDiabtvYf3dqrsN4SVd+uuwOI0XYrRICYi5Rh3FQlPXNJVSXPgLa7BqR4eNq6rhBbHoKJxJmoB52LxN1qa3/Cao2q66i6w9XscqTCObHCfd96VU1VIlsB+K4/IUl2gwNG7lEpVqzbaYvabYlAc1YQkbswi3NQR7jqbe0turUnYb2Z/3S0GwAJD87CIX1fDodtqqYNAOZaheT5Eue7qQnnxOk00brG608Sg5nEmXyvidMdCOs6VPUgqo4trUPM4d5injKM7UjFXZ+zysmL4qItoJJt7S2sK9wRAWa4t8a8AAIhF8iArt9RdOtJC+vN/KfD1DSIwh8cqVqoivuuDNsAYM4qJy+TACzCyQIr2bq15K+iW9tUARFFCAm77Cgo/0SFdQlVPYyqh/t9W52IIpyklKGXYeC+L914nqrJU1XyornM97TEKa9rm+/BWVutLqF2ybY/CMo/5ejWkxPWa1H1gFVdHXC39qwWADGFO5dO+l6GXoZRSsfbWoVUVZJsxNVYYpvvuU+cMlPE5cDV5nuY+3B5ykH5JySs6/znfVTdDAQQh/ulBiRhGcbNVmVgLkVKzionyVt5y1jipUi8VIjMbfr8QVD+6SVOn4Sw3oyqN1W1DVVEBKImrEv+M6PqSfJebKctMqDitdPWWVg4d4WFmJ2fYFD+Ewsr2p1ab0TVg3BuqzsAYiYpra3eCkDhnFVOkvfmXCTa/XzP+bTVWlqXAxdFsIfw0wrKfzJhxbr6Of+pVg2mWoPg7kQMonAjYoRzP7Tqj/ttqiZVlSTfh+tpasS6teRb4vSqQjwPVEehDi5xDsrj00W3PrqwzMIs1jXm2dfVoprXxc2JTJ3O7ao2WCP9cB1VZy6pqiT5UFymqUEKPwfll5XqOXF61hYzkzkHE/eBDn3f7sL4+BmIjygsM5jFumKefV0Dar4qfDV3kIPcnIhACI+tod73MowiHXMpXNoY+rv+mCRJ3oPLNDWgiLXdSr0lTpnhQWih0wCCQJu2ojRt0cfV1kcRVlPVNKHWWNdYZ+9cyc3CASdScweFBRG4H6Q1qvpOZMhZ5ST5CFwtgVDESnW9jCVuTxI94nzgIiIOJmV0I/U9uo4+VuL0kW/NaUeqdUWtTViolUqtnQAFCGBbmEsAj0Ppe+6H0vcsnZxXgL7rz0iS5PtCBAJ6iEOMOu976odYF1xOW41o/S9S1EENc42uQ9dt97z2PT3yw8THFVbc3V2rCssSteILKAYJAbaVY2Uc0fXcD1x6Kb2wCOWpKkk+AQww2DEYuhj66FYMA+b7JRAAIkJhfSy4W6jrMAxRaztnxbrSF1+848/4HjyusAD43R1OJ1KNWrEsCK23bCgEMDP6Trqe+oFKz9ILlTxVfVoi7leqZ8fwxbJpK3qjEl2Pboi1XfK6Yl09wmCqU5k9loJaqeuilDDjH/zgXW/7e/HIwup7EoFq3N1FrVAFVvJi0nv5ou+H0g/U9UQdI1X1iYkIj4izs9qzWGq53Xf9u8mz5Hza6g3F+w7dgGHReVmW2fV34VPMCvStHqRXryDy2HGHxxUWiYRIMAOI45FUEcrLwKPpgbW7YRw6lEK5AubTEwEH1M3Dwp1ZmISZGXzpM+Zn6QVy0ZZCain1hmtXZTIsq98tRBWl0E/8RDCTCD1mAwuPLSyIUBMWM3UdVMlAi3er+q0SmW+30OX3wROAyMzVQ71GGIxEilAnVBjEIMJ2VXOa6yUSgYC7m7uHdqvG7GRAAXUd2vf44z8ofGRhARChcWypf5SCaaKllq9q4FQ+kxh9pYNj7CAc+W3wiWkb4DTCTBEhMBFvN0cJhLcRBPDFXPn5egFEhAPVtPpSdYrliPkUx+qr0zjy4UCHA169onF8bFvh0YUlQj/4QTBT1wUzuo66jmTqvjL2uzCPV+q3qmyOsaO+gOjBPZrJR8UjLEIjNCzMOLR0LjBDYRRBEQiDGBAiiuA8Gz93AlD31avqXOtJT6dYTphOMRn1NywHOhxwONBnn+H2lr744rGd9cjCAiDCX3zRRr2j66jroCKofJpN1VVJzV9pdLbAHEMJlvwm+BT0IvBW72kLnFA4g6ggCL9ppmGFOqEiII8QULTTVh61ninmruGrLmZznY56Oul0jHnqTTsMNHRUbnE40O0tff45fZS56McXFgCR9gSB+j66ju+YbQYWWlf73S9djVTtVnHQSuY0diiSP7o/PnGpyeP30B/8HfxNIidTjhLU/ctSHIjAPzErKBIcxM1Zko8Rnx0RYRHVteqsdaqnOz1OOp18OnUUPfeFB5YRr17xq1e4vaXD4V1v8sPwUYQFAKDDAX2ProNInDpeuIA5VvvqzsxQq1eNV+piC8YOfQHxu95m8kEhUPwT91+Uf4WAn4qfh/v/6n9DVFjqv8E9o4vQ38ddAP+fUaCL4AJwpLGeFR6h7tXWarMup3p3Z6eTnqZYliI88CA88HhLNzf8+edbmuFj8fGEBQAiW5Xb9/El01w4hLHSNJsqmbmZ3yoGW2GOITvxHxuiAEDBDAiY4lflFyjor/jf/FuuhEIoP89jwH8owz9VJ5CA01bPhojwQHWttqjOOh31eKzHo00zqfbcFemljDwe5PPP5faWX71615v8wHxcYTVevYq+JxG/6/hUoKcSC1fVf/ElqlJVf6V8o0qtE19KKusjEQCCAEJI/FX/DWL7FfyINH6l/8N/yX8j4ID/3QAhfk76H4oA5SuzLN+fB62/3spA28rAkx5PNk2FWKQvMpThRm5uulevyuef8yNnRN/KpxAWgL73H/yAui76nr4SrIVj7lHr8Whq0OpV+ZVGZ2uMjr4DZ3n4+BDCQQRmBAUHIf6y/l9R8cf5j/wq/8iJ/rL9bScvhH+o+gckQPFZKYvZu95y8tTxiGpWfVWd63zU41FPJztNsa49F+GulFHGQ//ZZ93tbf/q1WMHRL+OTyQsACLxxRfbDrBjR1MHO3YgWhZTJbVQ81fqg1Y6OIbsxH8MWqqECERgCoACofhL/Ou/0v0REP8n/ItO/Nfs/xXGP3PrQT8oNBRRT2ftlav++qI66XTU46nZit2LdIX7brgth0N3e9t//nn5WP31t/LphAUAiMMhRKjr0HX0FcHmgoWt6pdfmSprjZuKV+psK8YSXQHllfOPCeE8OhgECoAojEL5r+BvM5df7v5NIP7d8q/+Df+tApLzv5TsFI+w8NWq6qzrqR7v7DTp8eTzXFiKDCKD9GM7WHWvXsmnKAOv+cTCAoC+j9aJF8HxSHPhOHVU6TSZKlTj3ImvGD36DiLbWprkgxLY5i9AQFvVwBFEQRxFokiU/13/YZHuR+X3/6L89N+Pr0oTXLJDWn9dw84xqzs7TfV41NOEqh0X4a7rb2Q8dLe3n7YMvOYJCAv35SH1fXwpNAnZ1NHKa1X9qgW1/FZxUKODY+jRZXn4YYkAGAD9Ufn9hPir/ncDC4LZiVgEUmibK/xR+VkQ/QP7UohuigDQ7GHtjYitv662tJhVO1jp6SSgIl2RofSHcjj0n3/e3d5+2jLwmis2djAAABmtSURBVKchLACX8rBN8JwK1kkwkVe7O2pVVvWqeKVRbMHYRQa1HoN2biVGCYDCC5iFihTh8qPu94EB4B/5HRONzVbZvdobl5iV2lxbzGqa9HiKdS3EhbuuHGQ8dDc3T6QMvOYJCQs4l4ftEqEvmRbmmClWmhczQ9VQjVv1USsdPIYSLLlm7gNCrdZ2CYGDASEuhX+p+30QgAkc/9hPDBpKySPu7mj9dXWrtmiddL7vr8Os41K4L90o42H4/PNye9sdDk+hDLzmiQkLgEi0OZ5zUItsLliorvTlV2YWZlCNWzNu4dJeAtmJ/zBEgJxgHZiIOaiI/EL5aTAg8Y/jxE5Dt33NZCW4Ly79dbNF11M9Hm2a6vHk08REnQxFBunHcnPTv3r1pMrAa56esAC08rDvqetChE6ClQXMsdLx1DrxrkotqAUv6HNk+gOwfQANsA7C4F8sPwwOBP5RHNlp7O6/WtJW+6KNMVdbVWddjvXuaNOkpwlrLSSd9FKGMhzKzU3/+edPpL/+Vp6osID7oxb6HseO5ols6rDSvJoaqkLNbxWjKmdQ60NBBCPYL8nPhhMI4PhNO22qIkKqam9EwGLrr7f9MHo66fHk00QRnXQifekOLWb1NMvAa56wsLA5K/qeRZyZTwTjAiKt9NWdqYmpqeJGvdgSQ45Mf2fu+4ChQS3bEL9pEwN94VTVTvGtY1XVFl2PejzptMWshLhwX8og3VYG9p9//qT662/lo1yk+v0xo7s7Oh5xPNIyIWZQVZh2JW5v4vbWbg4x3IAOEn2OTH8HSvuhGuczagCEatZJBhd2yWVNqPpa66Tz0U5TPZ3sNJFquZq2eVIxq3fytE9YF1pQq22IPwrNApsKrVTVvvrKzaDVbzRuzPjgMXRUCjiXl3571Ky0QG6DLr+krfbHZYxZbdG69dftNNk0MVD49TKw/+hLF74zOxEWAKCVh9R1OHZ0KqiTtDmer+6gRmrelpeKrhg9O/HvyVvFlLbaHeau7tVXs6Uux7ZuQU9TzEsREepKGWR4ojGrd7InYQGvzfEwLUzg7rxRC6pk6jfqoym5o89OfPJy2Prrpuqr1kmnY+tY2TSTWSd7LQOv2Zuw8GCOx+86Pp3gsm3U+vIrU+OqUI0bdblZYyjRFcpOfPLM2frrrtcxKz1N2zYr7q776082ZvVOdigsAFdzPFtQqzJjKVHpeDIzMrNa6ZV5p5XGwFDA2YlPniUPxph10mWqx6PPc4tZdSzCXZEtZrXHMvCavQoLeDjHc+xontgmppXmZVvz4I4bjdGU3aLvkMtLk+dGABaxWjVftZ7q6WTnMpDDhUvZVczqnexZWHg4x9OCWs6FVla1r44tX+q14lZDDiuNkUGt5BlxHmNe1BZdWih0smnyeRHmwr1I/wzKwGt2LiwA13M8fd+CWoyFYsU0kdl2t8VN26jVrj6UvJkq2TXXY8ymU522R4F2mkK1sHTSswxlz/31t/IchAU8OGq1oBY5dVBba1u4TGp+aziYkTnlyHSyY7YxZq1qi+mkp9Olv86BXnrm8pzKwGuei7BwP8fzMKhFbaMWTKEatcaterEVXqjPTnyyLyLCI85jzJMtW3jd5nkrA6UrsuOY1Tt5RsJqvBHUYjBFxbSQmrftNDcagymZY+gog1rJPojA5TZm01mnk57z69s2K+meZRl4zbMTFq7Kw3NQi2LusGqt9GVbuGx2qLhRF1vpfLfFu95qknxCzmPMq9qiaysDZ5vatA110gvf99fLOJZnVAZe8xyFhavy8CqoVUg8VjudTJVVwyxuzTuraFcfCudRK3l63I8xt9uYl6k9DfRpjloLSZFeuHvGZeA1z1RYjevycO5onjiYY6VlNTVXCzXc1Gid+LZRK/IaseQJ4RHmXr2qLVbnOp3sNGk7WHl0XEoLLowHGcfnWgZe86yFhas5nuPRmelE5FSIyap9dectE6+KWw2xSqOjy5Hp5InQxpg1qtbpUgbqNG3brNrB6nnFrN7JcxcWgOv7eERi7midBExYfZpVlauGmt9WDKYYnXJkOvnEnMeYq/pqOt/HrKaZbLs0UGQo46GM47MvA695EcIC7ud46HiMo9Ai7MKxUlWzuzZ+GDcWN+ZkK3JkOvlk3I8x62w6t+BCO1hxoHAn3Eu3PQ18ZjGrd/JihIWH4dKpo9MJyhILu7WR6VAzVb7VKKY8RmRQK/moXMaYr2NWPs06TbGshYVZShmkP3Q3N1su9AWUgde8JGEBuJSHXbcFtVamqB2drz40C3M/aBxMYU5DgeTy0uQj0NaEaqjqojrrdLJ5bk8DYdZJKdyTdGXYYlblcHghZeA1L05YAND3IbKNTE8dnU4ELli4mmpbuKxh6gcNsRVDoC9gTmclj4a5b00rm3Wdto7VPLdtVsylKwPLUG5uusPhpZWB17xIYeHqDrF21DoJVBhLQbXjiVRdDVXjVtGbknv0BZKd+OSD0/rr6m1N6Bazsmm2aUatHUnrr0s/tJhVORxeWhl4zUsVFgAgDgf0/X1QaxGOmVF1WaFKZu7uB8XBnK3GEOgEyE588qFoY8zVVG22Ouu0BRdazEra3TYvKWb1Tl60sIDX5niYJqIoBQtZ9bsj2iJAtbjRKLZiKMhOfPIBuOqvL6aLrtM5ETr7sghRkV7KwNy1mJWM44stA6958cLCgzkeiMQ8U2UBcSimGS0Qrxq3isGM3KPPkenk+9DWhFavalvMSk+Tz7NNc9tmJVRKN0o/vrSY1TtJYZ05z/FQ38dRaGGKtcPCVe2rO5jB3VTjoCGHLaiVI9PJ+9NiVnqZtrnk16eZgbL11/sWs5JxzDLwmhTWFa087HsS8TvmpcBYsJJXOp7snImPG43OKobz1YdZHSbfivOaUFVbzRZdJj2XgbGuQlykXXE68jC0aRvp+7TVNSmsh4jc38czzzgyKXMwxUrzauZto5YflA63Tl7RR45MJ9+CyxiztaeB0/1gINQKS5FepJd+7G5vyzhmGfhWUlhv4zLHIxJHwSIUXFCpVtM7M5O27OGmRrmpMTh12YlPvo5tTai7+mptm9U03ZeBRJ30LG02cHyB0zbvRQrra7ia48HU4STwVYI4lE6Tm6HlS28telMMjuzEJ29hWxO6jTEvukx6PPmyWNtmxSJcShm59C922ua9SGF9Ew/meOaZFqaYO6guFe3RobnfKB1ugn2NviA78ck95zHm6rbWdbJ5O1jZPLdtVsyllPuY1cuctnkvUljv4nqOh1tQqxZaSNXujm5OZq6GG41yo/DzHE8etV40bU2outar/rrNs03zts2Ku0vM6oVP27wXKaxvwcM5nphnUhasFKtPs6nCzKvSK4vhPDIdkp34F0vrr7cxZrNFp6metjKQTK/76+V8sMoy8FuSwvq2XOZ4SCRmaffxMFasldxIzd3joHQ4RPGKPqiXIEZ24l8Qrb9u4dVW81XX88Fqnn2eyaNwEelF+py2+W6ksN6Hh3M8vBQ4F6pu1Y5HnG+ZjhuL7kbhTjky/YJo/fXXYlatDIx1FeZSeuZOulGGIadtvhsprPfk+j6eLai1chCT0ryoKquFmY+Kw42RBXJk+kVwPlhVtcV1qdO2ccHmmcwu/XXu+oxZfR9SWN+JyxyPSByPWIiwFFRW07s7N4NamPGNRvEK9+iyE/9cOY8xq3ptY8yXg5XNc2Fm6c4r2MectvmepLC+K1dzPJegFmPpQutpgmmouRkOhsGsBbVQOJCd+OeER/h5jNn1vgzUts2KRbiIDNcxq5y2+T6ksL4HV3M8EMHxSMqEtcNqSzU1mMHcVHE4OB9WDKVl4nN56f6JiAC2MWZdtM46Tb4sbe8CR3C7NFD6LAM/ICms783VHI9PE03UFi6Tmd0dwy3aLdM3hs61lYchQlke7phLf928qs66zu1g5fNi89yWGhfJmNWHJ4X1IRCJw2Gb47kEtWIlqjbNUHNt4VKLoTodKvWBIpmJ3yeX/rrZqjrbvIXXfZ5DreO21HiLWWUZ+GFJYX0gLuVh1z0IakXVWqkt/nOHahws5FAxOHJkemecx5jP26zWrQzcngZGnK847XPa5pFIYX1QLnM890GtuQS7qx1P3jLx7ajVqfHBo8uR6b2wrQm1alFNF52nrWl1tc0qY1aPTQrrQ3OZ42GO4xEzk60cM0FtWcmddAuX+mDB44ohR6afPu1gZa7VFqtbGejzYssMtULnpQtdn9M2j0oK61G4n+Pp+3NQq0osVBV6165r3crDYooxR6afLA/GmHWxOutpO1j5PDNRkU64Z+nKkDGrRyeF9Wi8vlHrRM4SC0HtdDJVNnM1ujHvzfh89WGOTD8lLmPMZqvW2Za5toPVPENViMvDmFWWgY9NCusxeXgfD45HMuZYCSutta2mCXccLEYLPii1OR7KTvwn5zLGfIlZtRlmm2ZfZpgLScasPj4prMfnao7nKqhVzSrujq7Kal61deIVo6MvlCPTn5LWX78aY75/GujLsi015o6lK4eb7nDIMvCjkcL6KFzP8bSgls0CZlRdFneHmZvRjflwuWU6g1qfhrfGrHxebFmgWlgKd8xdxqw+CSmsj8XVHE8LamGZiagL1bVCdSsP1eJgIVZpzJHpj8ylv65WzRY9x6y2/jpQuDAVKUMZRhnHLAM/Pimsj8v1fTzMtAhiLiBy9dOprXlwbeWhGY2OvoQIshP/6NyvCW1PA5f7g1Wsq4CkhUK7UYahO98WkQerj0wK66NznuNB112CWoKFobasULuUhzFYsNXWic/lpY/GdX99exq4TdssPs/k3mJWIsN1zCrLwE9CCutTcHHWeeEyVqKoBSuZ2fFIamEeat6CWjQ6ulxe+hg8HGNebJ1tnnV7GrgIkXAR6Zm7VgbmtM2nJYX16bia44k7pmVBsEQlVJsnd3MzUm1BLaehIjvxH5jr/norA1vMypclai3EhTuWjqXPaZsnQgrrk3I9xzPP56AWMdTWauZQC3M+WBws2O9HpvOo9f3Y1oS6tjLQ6naqsnn2dWGPwoXb2apsMauctnkKpLA+PdfloU8TzURgiUpmdDqZe5iFmR8sOjMMQUMJyeWl35ltTahV83ofs2r99WURYqYi0jHfx6yyDHwipLCeBlfXtV6CWoxKUJpnMwv3UKWWiSevNAikgCkz8e/DZU1oG2N2XXSedZpiWW2ZUbWwCBWWTrotZpVl4JMihfVkuCoPz534mbAIKdW6JR7MYVtQS9EHBgFJKuvb0frrFlZtdVt1nW2eW349lgVxKQPvY1ZZBj41UlhPiwfXtTLTKuSrYIFbnE4whbubxWjRm5F7Li/9drwZs9outlkWX9dCzFRKGVp/PadtniwprKfH1RxPTIKZyc8Ll5fVzduaBxwMo0FcMUR0zVl51HqTt8asbJ6tLV0w71hKmw0sfU7bPHFSWE+SNxYuYyUOZlRTs7sjVMO9deJRzGj0KAW5vPR1LmPM1zGrpipfFm759dZfz5jVHkhhPWFeC2qtC4IFlUJtmt082o2tB4uhBbX6bTvNu97wC+HNmJVOsy9t2qYKc+HCfB+zaserPFg9ZVJYT5tLJv6ycNmZwYRqa3VvnXiDGUZD8RreMvEvvDyMgKPth6nuW3+92cqXBe6Fpa1gb2VgTtvshRTWk+d6jqfvfZpoPhGokJoq2Ync3D3U4mBonfh40SPT92tCvW4Hq3Zj4LK0MrBwx1wyZrVHUlg74c2gls8ColBMM9TCzG3rxAdZpT7QSfCLGpl+rb9uuujlUeAyR7VLGZgxq52SwtoPV+XhJajFVAmrVXU7Qi3cN22JK9ypezmd+OsxZrvErOZF59mXhSLK+Wngdcwqy8B9kcLaFa+teWCmdaHgguquNk3uBrNLeejsNfwldOIv/XX3arrosj0N9GXxdRVikU7O/fUsA/dLCmuHXJWHl6AWgymqzSuZmxou5SEPFe7P9xqx18eYdXnQXzcr9KC/nmXgrklh7ZO3zPEQERVSq0pm5lt5SKNF5wYP6kuUZzYy7dvd8apX0za2LDYvsSwUuO+v57TNsyCFtWPemONZEKuA4IppNjVWi5aJH8zhlXpBeR6d+Kv+upqvVq9iVvMCVSYSKa+VgTlts3dSWDvnrXM8YIZirW6+pbTUcLAQs23h8r6Xl17GmNttEVbPZeC6+jxTBBO/VgbmtM3zIIW1f942x0OgjkhN6XRytzbHEweL3g2265Hp6zFmt/U6v+7LIsxC5boMzGmb50QK67lwNceDqWtBrQKyUJoXN/dLJ36wYNdtjmdPnfhvjFmt7dJAJpGMWT1fUljPiLcFtYSqQK2qmbl7uLsaHbZOvEdXsI9O/KW/3mJWts56CS4sCwdECtPr/fUsA58ZKaznxduCWohVUMnNTiczZbUww8GiNyer6AXlKS8vvawJVdf7mNV5lVUsqzAzS8asXgIprOfI24NalaC0VDO/D8SPBnalPtAVeooj0xG4uo35PmYV62rt0kAWaUsXMmb1AkhhPVPeUh4SMRdUUvPjCaatPMTB0MpDtDmeJ9SJvx9jtrrFrM4HK18WBtptzEQly8AXQgrr+fL28pAElWCYFjenlnsYt6PWeY7n03fir/vr7lXPMat2sIqqwtz661x66bMMfCmksJ47X18e2lpbSuv+AaIMen/U+mTOul4TarY+iFktS5aBL5kU1gvgzfKwEhGXUDfT44nMIsLM6GDUu8OVIqII6CN34lt//X6M+RKzWte20EqYhTvhkmXgyySF9TJ4rTycGLVSrIzaQXVewh1mbhYH48FCXKn3KB+zE7/1100t9Dpm1Q5WUO2uDlbcdVkGvkBSWC+JVh72PboO83x/1EK1tcKM3FrElA4WxQx9oP84Qa3WX7ewdluE10XvgwsLRTCXkv31F08K64XxxlGL1oWCCqu52nFiNTqHHqh3J6/ohR5xZPrSX7fL0oVlO1jZvPi6Fmbhjqlkfz1JYb1I3tKJX4WIoLas7sZmbh6j8cGC3drCZXz4kenWX29jzN7KwGm282AgzAtLyf56ciaF9VJ5oxNPer6Pp5rbCW5wt22jljl7RPdhR6Yf3BZRF6vLdrBaFl8WAoQly8DkmhTWC+ZheegT88rbfTyhdJrdXMxMjQ6G0Z0sPtDIdERbamxtjNl11XnWeeuvR1UmKlyyDExeI4X14nmzPIxVQAyzpboZ3N09zPhg0e62wPcamX59jLku1/n1dmngJRS67QjNK04TACmsBHh7eUhkBdVM6XiC6rZw+WDoLNhr+HdYXvrmGLOti57767GuTFS4E+6IRbohy8DkNVJYCYC3locLQAIiUiyLm8MszDEaRm9HrXb1oXw7ZUXA3C/TNla3C7haxyrU2u494Y6kZBmYvJUUVnLFa+VhraTMwYRqqnQyb+HSdtQqQxuZjihC7+jEb/11V7P7aZtLGbhdGsgdcyf9wF2XTwOTt5LCSh5yXR7WunXiW7jUlaaZ3N3PI9O9BXk9H7WY3tKJj4DjvH99G2NedJnbKqsHZaB07WC1CSvLwOQNUljJG1ycNU3nTvxMcSkPV5jD3c1DDaNDXMMdXQlhgK8KRI9o26zM1/DaOlbaDlbrQmZCLFKK9MRda1ddbPUN72DyYklhJV9DKw+n6bWgFqKSapwMqrQ5y9ANTq7UCySu3oYjLNRiDV9sWfR4zq/XlQEh6bhj6S79de77LAOTbyCFlXw97ah1vvrQJ+bKTEyh4Yp5sSYssxgNvTk74UEL3iMcGrbENMdpiWnxZYFai1mJlNa0uvTXWSRtlXwDKazkGxGByMOg1kzEBUzQWGuYhRnMQi24Esp1pNQRHhq2xmmOacW8kHmRQlyIRKTvctomeR9SWMm34GFQy+cZujBxQYWpTVO4wxzUBUoQAdG0FREIha+YV5oXCWLpQrogkX7oxrHLmFXyPqSwkm/HVVALIj4x6sLExQmksSwwDzJAInARFggRSl5pVSJmKiG9sVA/dIdDGccu++vJ+5DCSt6Hh0GtqBVBAgZUVaNWUEGACBGbsyiUC5glUJy66AbuOjlP23AerJL3IYWVvCciOJeHmGesjMocXKKqV6pzc1WDiLiTQh2hc+qoH9D3NI5yOHDfp62S9yWFlbw/IjgcSCTaUUsE88zEhQAg1iVMAZAUGgZQxzQEdTyOzVZ8OHCWgcl3IoWVfFf6/uIsiMQ8U4uNFgpbAFAZwB24Rxl5HKnvMY6UTwOT70EKK/keiNClPDz/GszEDABdR8OAYaDDgbqODgfqe6Stku9BCiv5flycNU0k4k1bTVjDgHHkwwEXWyXJ9yOFlXwAqO9JxKeJmaN1tQAaRxpH9D03oyXJ9yaFlXwgRPhwiHNQC01YfZ9lYPIBSWElH45LediE1WyVJB8OUtV3vSZJ3hMzAHmwSj44ecJKHoFUVfI4fKgr5pIkSR6dFFaSJLshhZUkyW5IYSVJshtSWEmS7IYUVpIkuyGFlSTJbkhhJUmyG1JYSZLshhRWkiS7IYWVJMluSGElSbIbUlhJkuyGFFaSJLshhZUkyW5IYSVJshtSWEmS7IYUVpIkuyGFlSTJbkhhJUmyG1JYSZLshhRWkiS7IYWVJMluSGElSbIbUlhJkuyGFFaSJLshhZUkyW5IYSVJshtSWEmS7IYUVpIkuyGFlSTJbkhhJUmyG1JYSZLshhRWkiS7IYWVJMluSGElSbIbUlhJkuyGFFaSJLshhZUkyW5IYSVJshtSWEmS7IYUVpIkuyGFlSTJbkhhJUmyG1JYSZLshhRWkiS7IYWVJMlu+P8BjUwj5xIvZokAAAAASUVORK5CYII=\" alt=\"PNG image\"></img>"
      ],
      "text/plain": [
       "<IPython.core.display.HTML object>"
      ]
     },
     "metadata": {},
     "output_type": "display_data"
    }
   ],
   "source": [
    "plot_2d(input_feature_array[:,:,1:2],contour=True)"
   ]
  },
  {
   "cell_type": "code",
   "execution_count": 486,
   "metadata": {},
   "outputs": [
    {
     "name": "stdout",
     "output_type": "stream",
     "text": [
      "361.493766774525 3\n",
      "1.0\n"
     ]
    },
    {
     "data": {
      "text/html": [
       "<img src=\"data:image/png;base64,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\" alt=\"PNG image\"></img>"
      ],
      "text/plain": [
       "<IPython.core.display.HTML object>"
      ]
     },
     "metadata": {},
     "output_type": "display_data"
    }
   ],
   "source": [
    "plot_2d(input_feature_array[:,:,3:4],contour=True)"
   ]
  },
  {
   "cell_type": "code",
   "execution_count": 487,
   "metadata": {},
   "outputs": [
    {
     "name": "stdout",
     "output_type": "stream",
     "text": [
      "164.2917795658252 3\n",
      "1.0\n"
     ]
    },
    {
     "data": {
      "text/html": [
       "<img src=\"data:image/png;base64,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\" alt=\"PNG image\"></img>"
      ],
      "text/plain": [
       "<IPython.core.display.HTML object>"
      ]
     },
     "metadata": {},
     "output_type": "display_data"
    }
   ],
   "source": [
    "plot_2d(input_feature_array[:,:,4:5],contour=True)"
   ]
  },
  {
   "cell_type": "code",
   "execution_count": null,
   "metadata": {},
   "outputs": [],
   "source": []
  }
 ],
 "metadata": {
  "kernelspec": {
   "display_name": "Python 3",
   "language": "python",
   "name": "python3"
  },
  "language_info": {
   "codemirror_mode": {
    "name": "ipython",
    "version": 3
   },
   "file_extension": ".py",
   "mimetype": "text/x-python",
   "name": "python",
   "nbconvert_exporter": "python",
   "pygments_lexer": "ipython3",
   "version": "3.7.7"
  }
 },
 "nbformat": 4,
 "nbformat_minor": 4
}
