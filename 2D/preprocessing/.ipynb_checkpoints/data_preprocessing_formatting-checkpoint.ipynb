{
 "cells": [
  {
   "cell_type": "code",
   "execution_count": 1,
   "metadata": {},
   "outputs": [
    {
     "name": "stdout",
     "output_type": "stream",
     "text": [
      "D:\\Ansys Simulations\\Project\\2D\\preprocessing\n"
     ]
    }
   ],
   "source": [
    "!cd"
   ]
  },
  {
   "cell_type": "markdown",
   "metadata": {},
   "source": [
    "## Formatting\n",
    "In this notebook, the objective is to explore and develop a way to transformed the scaled data into a relevant data format/file/shape that can be used for a 2d convolutional neural network. Ideally, what is desired is a file that can store tensors as spatial data and that can be used by a ConvNet.\n",
    "After some research, the conclusion is that the best way to do this is to format them as a 4D numpy array and saved as a .npy file so that they can be later quickly read into memory."
   ]
  },
  {
   "cell_type": "code",
   "execution_count": 270,
   "metadata": {},
   "outputs": [],
   "source": [
    "## Imports\n",
    "import numpy as np\n",
    "import matplotlib.pyplot as plt\n",
    "from PREPROCESSING_splitting import get_number\n",
    "import PREPROCESSING_scaling as scale\n",
    "from pathlib import Path\n",
    "import pandas as pd\n",
    "import os, sys\n",
    "import torch.nn.functional as F\n",
    "import torch"
   ]
  },
  {
   "cell_type": "code",
   "execution_count": 203,
   "metadata": {},
   "outputs": [
    {
     "name": "stdout",
     "output_type": "stream",
     "text": [
      "Notebook initialized with png backend.\n"
     ]
    }
   ],
   "source": [
    "## 3d visualization import\n",
    "%gui qt\n",
    "from mayavi import mlab\n",
    "mlab.init_notebook('png')"
   ]
  },
  {
   "cell_type": "code",
   "execution_count": 7,
   "metadata": {},
   "outputs": [
    {
     "name": "stdout",
     "output_type": "stream",
     "text": [
      "UPDATED MAX \t sample #1 \t force: 0.00 \t displacement: 0.002053 \n",
      "UPDATED MAX \t sample #10 \t force: 152.79 \t displacement: 0.003020 \n",
      "UPDATED MAX \t sample #100 \t force: 152.79 \t displacement: 0.019382 \n",
      "UPDATED MAX \t sample #101 \t force: 242.87 \t displacement: 0.019382 \n",
      "UPDATED MAX \t sample #11 \t force: 287.27 \t displacement: 0.019382 \n",
      "UPDATED MAX \t sample #55 \t force: 295.32 \t displacement: 0.019382 \n"
     ]
    },
    {
     "data": {
      "text/html": [
       "<div>\n",
       "<style scoped>\n",
       "    .dataframe tbody tr th:only-of-type {\n",
       "        vertical-align: middle;\n",
       "    }\n",
       "\n",
       "    .dataframe tbody tr th {\n",
       "        vertical-align: top;\n",
       "    }\n",
       "\n",
       "    .dataframe thead th {\n",
       "        text-align: right;\n",
       "    }\n",
       "</style>\n",
       "<table border=\"1\" class=\"dataframe\">\n",
       "  <thead>\n",
       "    <tr style=\"text-align: right;\">\n",
       "      <th></th>\n",
       "      <th>node_number</th>\n",
       "      <th>named_selection</th>\n",
       "      <th>x_loc</th>\n",
       "      <th>y_loc</th>\n",
       "      <th>z_loc</th>\n",
       "      <th>x_disp</th>\n",
       "      <th>y_disp</th>\n",
       "      <th>z_disp</th>\n",
       "      <th>x_force</th>\n",
       "      <th>y_force</th>\n",
       "      <th>z_force</th>\n",
       "    </tr>\n",
       "  </thead>\n",
       "  <tbody>\n",
       "    <tr>\n",
       "      <th>170</th>\n",
       "      <td>171</td>\n",
       "      <td>-1</td>\n",
       "      <td>0.180590</td>\n",
       "      <td>0.242730</td>\n",
       "      <td>0.0</td>\n",
       "      <td>0.000000</td>\n",
       "      <td>0.000000</td>\n",
       "      <td>0.0</td>\n",
       "      <td>0.0</td>\n",
       "      <td>0.0</td>\n",
       "      <td>0.0</td>\n",
       "    </tr>\n",
       "    <tr>\n",
       "      <th>171</th>\n",
       "      <td>172</td>\n",
       "      <td>-1</td>\n",
       "      <td>0.138780</td>\n",
       "      <td>0.205680</td>\n",
       "      <td>0.0</td>\n",
       "      <td>0.000000</td>\n",
       "      <td>0.000000</td>\n",
       "      <td>0.0</td>\n",
       "      <td>0.0</td>\n",
       "      <td>0.0</td>\n",
       "      <td>0.0</td>\n",
       "    </tr>\n",
       "    <tr>\n",
       "      <th>172</th>\n",
       "      <td>173</td>\n",
       "      <td>-1</td>\n",
       "      <td>0.068634</td>\n",
       "      <td>0.123060</td>\n",
       "      <td>0.0</td>\n",
       "      <td>0.000000</td>\n",
       "      <td>0.000000</td>\n",
       "      <td>0.0</td>\n",
       "      <td>0.0</td>\n",
       "      <td>0.0</td>\n",
       "      <td>0.0</td>\n",
       "    </tr>\n",
       "    <tr>\n",
       "      <th>173</th>\n",
       "      <td>174</td>\n",
       "      <td>-1</td>\n",
       "      <td>0.054411</td>\n",
       "      <td>0.084662</td>\n",
       "      <td>0.0</td>\n",
       "      <td>0.000000</td>\n",
       "      <td>0.000000</td>\n",
       "      <td>0.0</td>\n",
       "      <td>0.0</td>\n",
       "      <td>0.0</td>\n",
       "      <td>0.0</td>\n",
       "    </tr>\n",
       "    <tr>\n",
       "      <th>174</th>\n",
       "      <td>175</td>\n",
       "      <td>-1</td>\n",
       "      <td>0.024266</td>\n",
       "      <td>0.072970</td>\n",
       "      <td>0.0</td>\n",
       "      <td>0.000000</td>\n",
       "      <td>0.000000</td>\n",
       "      <td>0.0</td>\n",
       "      <td>0.0</td>\n",
       "      <td>0.0</td>\n",
       "      <td>0.0</td>\n",
       "    </tr>\n",
       "    <tr>\n",
       "      <th>175</th>\n",
       "      <td>176</td>\n",
       "      <td>2</td>\n",
       "      <td>0.328590</td>\n",
       "      <td>0.694900</td>\n",
       "      <td>0.0</td>\n",
       "      <td>-0.050859</td>\n",
       "      <td>-0.107693</td>\n",
       "      <td>0.0</td>\n",
       "      <td>0.0</td>\n",
       "      <td>0.0</td>\n",
       "      <td>0.0</td>\n",
       "    </tr>\n",
       "    <tr>\n",
       "      <th>176</th>\n",
       "      <td>177</td>\n",
       "      <td>1</td>\n",
       "      <td>0.189800</td>\n",
       "      <td>0.568730</td>\n",
       "      <td>0.0</td>\n",
       "      <td>0.031275</td>\n",
       "      <td>-0.014854</td>\n",
       "      <td>0.0</td>\n",
       "      <td>0.0</td>\n",
       "      <td>0.0</td>\n",
       "      <td>0.0</td>\n",
       "    </tr>\n",
       "    <tr>\n",
       "      <th>177</th>\n",
       "      <td>178</td>\n",
       "      <td>1</td>\n",
       "      <td>0.127090</td>\n",
       "      <td>0.604280</td>\n",
       "      <td>0.0</td>\n",
       "      <td>0.031275</td>\n",
       "      <td>-0.014854</td>\n",
       "      <td>0.0</td>\n",
       "      <td>0.0</td>\n",
       "      <td>0.0</td>\n",
       "      <td>0.0</td>\n",
       "    </tr>\n",
       "    <tr>\n",
       "      <th>178</th>\n",
       "      <td>179</td>\n",
       "      <td>2</td>\n",
       "      <td>0.245740</td>\n",
       "      <td>0.732520</td>\n",
       "      <td>0.0</td>\n",
       "      <td>-0.050859</td>\n",
       "      <td>-0.107693</td>\n",
       "      <td>0.0</td>\n",
       "      <td>0.0</td>\n",
       "      <td>0.0</td>\n",
       "      <td>0.0</td>\n",
       "    </tr>\n",
       "    <tr>\n",
       "      <th>179</th>\n",
       "      <td>180</td>\n",
       "      <td>2</td>\n",
       "      <td>0.269410</td>\n",
       "      <td>0.625380</td>\n",
       "      <td>0.0</td>\n",
       "      <td>-0.050859</td>\n",
       "      <td>-0.107693</td>\n",
       "      <td>0.0</td>\n",
       "      <td>0.0</td>\n",
       "      <td>0.0</td>\n",
       "      <td>0.0</td>\n",
       "    </tr>\n",
       "    <tr>\n",
       "      <th>180</th>\n",
       "      <td>181</td>\n",
       "      <td>2</td>\n",
       "      <td>0.201990</td>\n",
       "      <td>0.666000</td>\n",
       "      <td>0.0</td>\n",
       "      <td>-0.050859</td>\n",
       "      <td>-0.107693</td>\n",
       "      <td>0.0</td>\n",
       "      <td>0.0</td>\n",
       "      <td>0.0</td>\n",
       "      <td>0.0</td>\n",
       "    </tr>\n",
       "    <tr>\n",
       "      <th>181</th>\n",
       "      <td>182</td>\n",
       "      <td>-1</td>\n",
       "      <td>0.092572</td>\n",
       "      <td>0.335460</td>\n",
       "      <td>0.0</td>\n",
       "      <td>0.000000</td>\n",
       "      <td>0.000000</td>\n",
       "      <td>0.0</td>\n",
       "      <td>0.0</td>\n",
       "      <td>0.0</td>\n",
       "      <td>0.0</td>\n",
       "    </tr>\n",
       "    <tr>\n",
       "      <th>182</th>\n",
       "      <td>183</td>\n",
       "      <td>-1</td>\n",
       "      <td>0.667620</td>\n",
       "      <td>0.799740</td>\n",
       "      <td>0.0</td>\n",
       "      <td>0.000000</td>\n",
       "      <td>0.000000</td>\n",
       "      <td>0.0</td>\n",
       "      <td>0.0</td>\n",
       "      <td>0.0</td>\n",
       "      <td>0.0</td>\n",
       "    </tr>\n",
       "    <tr>\n",
       "      <th>183</th>\n",
       "      <td>184</td>\n",
       "      <td>3</td>\n",
       "      <td>0.400010</td>\n",
       "      <td>0.799620</td>\n",
       "      <td>0.0</td>\n",
       "      <td>-0.008180</td>\n",
       "      <td>-0.006119</td>\n",
       "      <td>0.0</td>\n",
       "      <td>0.0</td>\n",
       "      <td>0.0</td>\n",
       "      <td>0.0</td>\n",
       "    </tr>\n",
       "    <tr>\n",
       "      <th>184</th>\n",
       "      <td>185</td>\n",
       "      <td>-1</td>\n",
       "      <td>-0.002717</td>\n",
       "      <td>0.596150</td>\n",
       "      <td>0.0</td>\n",
       "      <td>0.000000</td>\n",
       "      <td>0.000000</td>\n",
       "      <td>0.0</td>\n",
       "      <td>0.0</td>\n",
       "      <td>0.0</td>\n",
       "      <td>0.0</td>\n",
       "    </tr>\n",
       "    <tr>\n",
       "      <th>185</th>\n",
       "      <td>186</td>\n",
       "      <td>-1</td>\n",
       "      <td>0.151650</td>\n",
       "      <td>0.357250</td>\n",
       "      <td>0.0</td>\n",
       "      <td>0.000000</td>\n",
       "      <td>0.000000</td>\n",
       "      <td>0.0</td>\n",
       "      <td>0.0</td>\n",
       "      <td>0.0</td>\n",
       "      <td>0.0</td>\n",
       "    </tr>\n",
       "    <tr>\n",
       "      <th>186</th>\n",
       "      <td>187</td>\n",
       "      <td>1</td>\n",
       "      <td>0.239610</td>\n",
       "      <td>0.530310</td>\n",
       "      <td>0.0</td>\n",
       "      <td>0.031275</td>\n",
       "      <td>-0.014854</td>\n",
       "      <td>0.0</td>\n",
       "      <td>0.0</td>\n",
       "      <td>0.0</td>\n",
       "      <td>0.0</td>\n",
       "    </tr>\n",
       "    <tr>\n",
       "      <th>187</th>\n",
       "      <td>188</td>\n",
       "      <td>1</td>\n",
       "      <td>0.131800</td>\n",
       "      <td>0.432240</td>\n",
       "      <td>0.0</td>\n",
       "      <td>0.031275</td>\n",
       "      <td>-0.014854</td>\n",
       "      <td>0.0</td>\n",
       "      <td>0.0</td>\n",
       "      <td>0.0</td>\n",
       "      <td>0.0</td>\n",
       "    </tr>\n",
       "    <tr>\n",
       "      <th>188</th>\n",
       "      <td>189</td>\n",
       "      <td>-1</td>\n",
       "      <td>0.572190</td>\n",
       "      <td>0.728220</td>\n",
       "      <td>0.0</td>\n",
       "      <td>0.000000</td>\n",
       "      <td>0.000000</td>\n",
       "      <td>0.0</td>\n",
       "      <td>0.0</td>\n",
       "      <td>0.0</td>\n",
       "      <td>0.0</td>\n",
       "    </tr>\n",
       "  </tbody>\n",
       "</table>\n",
       "</div>"
      ],
      "text/plain": [
       "     node_number  named_selection     x_loc     y_loc  z_loc    x_disp  \\\n",
       "170          171               -1  0.180590  0.242730    0.0  0.000000   \n",
       "171          172               -1  0.138780  0.205680    0.0  0.000000   \n",
       "172          173               -1  0.068634  0.123060    0.0  0.000000   \n",
       "173          174               -1  0.054411  0.084662    0.0  0.000000   \n",
       "174          175               -1  0.024266  0.072970    0.0  0.000000   \n",
       "175          176                2  0.328590  0.694900    0.0 -0.050859   \n",
       "176          177                1  0.189800  0.568730    0.0  0.031275   \n",
       "177          178                1  0.127090  0.604280    0.0  0.031275   \n",
       "178          179                2  0.245740  0.732520    0.0 -0.050859   \n",
       "179          180                2  0.269410  0.625380    0.0 -0.050859   \n",
       "180          181                2  0.201990  0.666000    0.0 -0.050859   \n",
       "181          182               -1  0.092572  0.335460    0.0  0.000000   \n",
       "182          183               -1  0.667620  0.799740    0.0  0.000000   \n",
       "183          184                3  0.400010  0.799620    0.0 -0.008180   \n",
       "184          185               -1 -0.002717  0.596150    0.0  0.000000   \n",
       "185          186               -1  0.151650  0.357250    0.0  0.000000   \n",
       "186          187                1  0.239610  0.530310    0.0  0.031275   \n",
       "187          188                1  0.131800  0.432240    0.0  0.031275   \n",
       "188          189               -1  0.572190  0.728220    0.0  0.000000   \n",
       "\n",
       "       y_disp  z_disp  x_force  y_force  z_force  \n",
       "170  0.000000     0.0      0.0      0.0      0.0  \n",
       "171  0.000000     0.0      0.0      0.0      0.0  \n",
       "172  0.000000     0.0      0.0      0.0      0.0  \n",
       "173  0.000000     0.0      0.0      0.0      0.0  \n",
       "174  0.000000     0.0      0.0      0.0      0.0  \n",
       "175 -0.107693     0.0      0.0      0.0      0.0  \n",
       "176 -0.014854     0.0      0.0      0.0      0.0  \n",
       "177 -0.014854     0.0      0.0      0.0      0.0  \n",
       "178 -0.107693     0.0      0.0      0.0      0.0  \n",
       "179 -0.107693     0.0      0.0      0.0      0.0  \n",
       "180 -0.107693     0.0      0.0      0.0      0.0  \n",
       "181  0.000000     0.0      0.0      0.0      0.0  \n",
       "182  0.000000     0.0      0.0      0.0      0.0  \n",
       "183 -0.006119     0.0      0.0      0.0      0.0  \n",
       "184  0.000000     0.0      0.0      0.0      0.0  \n",
       "185  0.000000     0.0      0.0      0.0      0.0  \n",
       "186 -0.014854     0.0      0.0      0.0      0.0  \n",
       "187 -0.014854     0.0      0.0      0.0      0.0  \n",
       "188  0.000000     0.0      0.0      0.0      0.0  "
      ]
     },
     "metadata": {},
     "output_type": "display_data"
    }
   ],
   "source": [
    "## load in and scale  a sample\n",
    "\n",
    "data_folder_path =  Path('D:/Ansys Simulations/Project/2D/data') \n",
    "\n",
    "# get data\n",
    "raw_input_data, raw_output_data = scale.get_sample_dfs(data_folder_path, 26)\n",
    "\n",
    "max_force, max_disp = scale.get_max_disp_force(data_folder_path)\n",
    "\n",
    "scaled_input_data = scale.scale_dataframe(raw_input_data, max_force, max_disp)\n",
    "with pd.option_context(\"display.max_rows\", None):\n",
    "    display(scaled_input_data.iloc[170:189,:])"
   ]
  },
  {
   "cell_type": "markdown",
   "metadata": {},
   "source": [
    "To run the convolutional layer on the data, the data has to be converted from the positions table into an object that represents the element's positions in a way that a convolutional kernel is able to understand positional relationships. Looking at the 3D data files generated, there seem to be about 10000 nodes on each of those samples (although the intent is to decrease it later to speed up sample creation). With this in mind, and knowing that most of the samples have a relatively similar volume, choosing a size of 32x32x32 entries in which to split the data is an arbitrary choice which seems to lead to a good balance of nodal specificity, averaging and processing time for the network. \n",
    "\n",
    "The fourth dimension's size depends on the amount of features. For directional data such as displacement and forces, there are three components per type. On top of that, one more feature is created which is the \"existence\" feature, which encodes whether a certain \"volume\" in space contains material from the element or not, varying from 0 (no material) to 1 (filled with  material). It is only different than 1 or 0 on the edges/faces of the element. "
   ]
  },
  {
   "cell_type": "code",
   "execution_count": 8,
   "metadata": {},
   "outputs": [],
   "source": [
    "## Create an empty numpy array with the correct dimensions\n",
    "def create_array(dimensionality, features, resolution = 32):\n",
    "    ## returns an array of zeros for the correct type of model specified with the dimensionality and the features\n",
    "    positional_shape = [resolution]*dimensionality\n",
    "    shape = positional_shape + [features]\n",
    "    array = np.zeros(shape)\n",
    "    return array"
   ]
  },
  {
   "cell_type": "code",
   "execution_count": 9,
   "metadata": {},
   "outputs": [
    {
     "name": "stdout",
     "output_type": "stream",
     "text": [
      "(35, 35, 35, 6)\n",
      "(32, 32, 4)\n"
     ]
    }
   ],
   "source": [
    "print(create_array(3,6, 35).shape)\n",
    "print(create_array(2,4).shape)"
   ]
  },
  {
   "cell_type": "markdown",
   "metadata": {},
   "source": [
    "To correctly distribute the data inside of the tensor, it is necessary to get the maximum positional dimensions of the dataset so that every sample actually fits inside of the tensor"
   ]
  },
  {
   "cell_type": "code",
   "execution_count": 10,
   "metadata": {},
   "outputs": [],
   "source": [
    "## Create function to run through all data and get max values of dimensions\n",
    "def get_max_dimensions(samples_folder_path):\n",
    "    ## iterates through all data to get the max dimensions\n",
    "    samples = scale.sample_iterator(samples_folder_path)\n",
    "    \n",
    "    max_x = 0\n",
    "    max_y = 0\n",
    "    max_z = 0\n",
    "    \n",
    "    for sample in samples:\n",
    "        sample_number, input_data, output_data = sample\n",
    "        #print(samples)\n",
    "        \n",
    "        ## run through all data\n",
    "        # first absolute, then max in the columns \n",
    "        updated = False\n",
    "        max_x_temp, max_y_temp, max_z_temp = input_data.loc[:,['x_loc','y_loc','z_loc']].abs().max()\n",
    "        \n",
    "        if max_x_temp > max_x:\n",
    "            range_x = [input_data.loc[:,['x_loc']].max().item(), input_data.loc[:,['x_loc']].min().item()]\n",
    "            max_x = abs(range_x[0] - range_x[1])\n",
    "            updated = True\n",
    "            \n",
    "        if max_y_temp > max_y:\n",
    "            range_y = [input_data.loc[:,['y_loc']].max().item(), input_data.loc[:,['y_loc']].min().item()]\n",
    "            max_y = abs(range_y[0] - range_y[1])\n",
    "            updated = True\n",
    "            \n",
    "        if max_z_temp > max_z:\n",
    "            range_z = [input_data.loc[:,['z_loc']].max().item(), input_data.loc[:,['z_loc']].min().item()]\n",
    "            max_z = abs(range_z[0] - range_z[1])\n",
    "            updated = True\n",
    "            \n",
    "        if updated:\n",
    "            print(f'UPDATED MAX \\t sample #{sample_number} \\t x: {max_x:.4f} \\t y: {max_y:.4f} \\t z: {max_z:.4f}')\n",
    "            \n",
    "    return max_x, max_y, max_z"
   ]
  },
  {
   "cell_type": "code",
   "execution_count": 11,
   "metadata": {},
   "outputs": [
    {
     "name": "stdout",
     "output_type": "stream",
     "text": [
      "UPDATED MAX \t sample #1 \t x: 0.9692 \t y: 1.1906 \t z: 0.0000\n",
      "UPDATED MAX \t sample #10 \t x: 1.0849 \t y: 1.1906 \t z: 0.0000\n",
      "UPDATED MAX \t sample #100 \t x: 1.4374 \t y: 1.3295 \t z: 0.0000\n",
      "UPDATED MAX \t sample #101 \t x: 1.4374 \t y: 1.4031 \t z: 0.0000\n",
      "UPDATED MAX \t sample #102 \t x: 1.6833 \t y: 1.4031 \t z: 0.0000\n",
      "UPDATED MAX \t sample #12 \t x: 1.7286 \t y: 1.4031 \t z: 0.0000\n",
      "UPDATED MAX \t sample #50 \t x: 1.7286 \t y: 1.4830 \t z: 0.0000\n"
     ]
    }
   ],
   "source": [
    "max_dims = get_max_dimensions(data_folder_path)"
   ]
  },
  {
   "cell_type": "code",
   "execution_count": 12,
   "metadata": {},
   "outputs": [],
   "source": [
    "class HiddenPrints:\n",
    "    def __enter__(self):\n",
    "        self._original_stdout = sys.stdout\n",
    "        sys.stdout = open(os.devnull, 'w')\n",
    "\n",
    "    def __exit__(self, exc_type, exc_val, exc_tb):\n",
    "        sys.stdout.close()\n",
    "        sys.stdout = self._original_stdout"
   ]
  },
  {
   "cell_type": "code",
   "execution_count": 13,
   "metadata": {},
   "outputs": [],
   "source": [
    "#create function that creates an element size for the resolution\n",
    "def get_element_size(samples_folder_path, resolution = 32):\n",
    "    ## runs through all samples to get the element size based on the resolution\n",
    "    with HiddenPrints():\n",
    "        max_x, max_y, max_z = get_max_dimensions(samples_folder_path)\n",
    "    \n",
    "    largest_dim = max([max_x, max_y, max_z])\n",
    "   \n",
    "    element_size = largest_dim/resolution\n",
    "    \n",
    "    return element_size"
   ]
  },
  {
   "cell_type": "code",
   "execution_count": 14,
   "metadata": {},
   "outputs": [],
   "source": [
    "element_size = get_element_size(data_folder_path)"
   ]
  },
  {
   "cell_type": "markdown",
   "metadata": {},
   "source": [
    "I just realized that the scaling step performed earlier on the pandas dataframe is of no use since there is no guarantee that two nodes aren't going to fall in the same element, and thus the data must be re-scaled after it has been fitted into the new format, as the maximums will change. This will be implemented later, and the previous scaling function will be considered deprecated."
   ]
  },
  {
   "cell_type": "code",
   "execution_count": 240,
   "metadata": {},
   "outputs": [],
   "source": [
    "## create function that takes  the element size and a tensor index and uses it to get\n",
    "## node indices that match that location from a sample.\n",
    "def get_dataframe_indices(element_size, sample_df, x, y, z=0, Is_2D=True):\n",
    "    ## create function that takes  the element size and a tensor index and uses it to get\n",
    "    ## dataframe indices that match that spatial location from a sample\n",
    "    \n",
    "    ## gets range of values\n",
    "    x_range = [x*element_size, (x+1)*element_size]\n",
    "    y_range = [y*element_size, (y+1)*element_size]    \n",
    "     \n",
    "    #print((sample_df['x_loc']))\n",
    "    x_condition = sample_df['x_loc'].between(x_range[0], x_range[1])\n",
    "    y_condition = sample_df['y_loc'].between(y_range[0], y_range[1])\n",
    "    \n",
    "    if Is_2D:\n",
    "        indices =  (x_condition.values & y_condition.values)\n",
    "    \n",
    "    if not(Is_2D):\n",
    "        z_range = [z*element_size, (z+1)*element_size]\n",
    "        z_condition = sample_df['z_loc'].between(z_range[0], z_range[1])\n",
    "        indices =  (x_condition.values & y_condition.values &z_condition.values) \n",
    "    # print(np.where(indices)[0]) uncomment to show selected indices\n",
    "    return np.where(indices)[0]"
   ]
  },
  {
   "cell_type": "code",
   "execution_count": 179,
   "metadata": {},
   "outputs": [
    {
     "name": "stdout",
     "output_type": "stream",
     "text": [
      "-0.0009658336639404297\n",
      "[137 453 455 511]\n"
     ]
    }
   ],
   "source": [
    "import time\n",
    "tic = time.time()\n",
    "get_dataframe_indices(element_size, raw_input_data, 0,4)\n",
    "toc = time.time()\n",
    "print(tic-toc)\n",
    "print(get_dataframe_indices(element_size, raw_input_data, 0,4))"
   ]
  },
  {
   "cell_type": "markdown",
   "metadata": {},
   "source": [
    "To be able to assign the correct position for the element inside of the tensor, the quadrant(2d)/octant(3d) it was created in must be determined. If the element wasn't created in a discernible quadrant in mind, it is still necessary to assign a equivalent one to it to position it inside of the tensor"
   ]
  },
  {
   "cell_type": "code",
   "execution_count": 180,
   "metadata": {},
   "outputs": [],
   "source": [
    "## create function to choose equivalent octant \n",
    "def get_quadrant(sample_df):\n",
    "    ## gets the sample's main octant by returning a 3 component vector that points to that octant. \n",
    "    ## a zero in the last component means that it is a 2d problem and thus it points to a 2d \n",
    "    ## quadrant\n",
    "    \n",
    "    #gets the maximum absolute values\n",
    "    max_x_abs, max_y_abs, max_z_abs = sample_df.loc[:,['x_loc','y_loc','z_loc']].abs().max()\n",
    "    \n",
    "    ## checks if 2d or 3d problem\n",
    "    Is_2D = True\n",
    "    if max_z_abs != 0:\n",
    "        Is_2D = False\n",
    "    ## get index of the maximum absolute values\n",
    "    x_index = np.where(sample_df.loc[:,['x_loc']].abs().values.squeeze() == [max_x_abs])\n",
    "    y_index = np.where(sample_df.loc[:,['y_loc']].abs().values.squeeze() == [max_y_abs])\n",
    "    if not(Is_2D):\n",
    "        z_index = np.where(sample_df.loc[:,['z_loc']].abs().values.squeeze() == [max_z_abs])\n",
    "    else:\n",
    "        z_index = [[0]]\n",
    "        \n",
    "    ## gets the value in that index\n",
    "    values = np.array([sample_df.loc[x_index[0],['x_loc']].values[0][0],\n",
    "                      sample_df.loc[y_index[0],['y_loc']].values[0][0],\n",
    "                      sample_df.loc[z_index[0],['z_loc']].values[0][0]])\n",
    "    \n",
    "    ## create array with information about the octant via a vector\n",
    "    octant = np.zeros(3)\n",
    "    octant[0:2] =  values[0:2]/abs(values[0:2])\n",
    "    if not(Is_2D):\n",
    "        octant[2] = values[2]/abs(values[2])\n",
    "    \n",
    "    return octant"
   ]
  },
  {
   "cell_type": "code",
   "execution_count": 181,
   "metadata": {},
   "outputs": [
    {
     "data": {
      "text/plain": [
       "array([1., 1., 0.])"
      ]
     },
     "execution_count": 181,
     "metadata": {},
     "output_type": "execute_result"
    }
   ],
   "source": [
    "get_quadrant(raw_input_data)"
   ]
  },
  {
   "cell_type": "markdown",
   "metadata": {},
   "source": [
    "Knowing in which octant the element was created in, it can be translated to the correct position. The idea is that, depending on the octant, the element was created in, it is going to be 'pressed against' a certain corner of the tensor. It is going to be translated to touch the \"edges\" of the tensor that correnspond to the planes it would be closest on the coordinate axis system it was created. So if it was created on the $(-x,-y,z)$ octant, for instance, it would be pressed the bottom, right, front corner of the cube shaped tensor. Illustratively, for some of the octants:\n",
    "$$\n",
    "(x,  y  ,z) \\rightarrow (left, back, bottom) : stays \\space in \\space place\n",
    "$$\n",
    "$$\n",
    "(-x, y, -z) \\rightarrow (right, back, top) : moves \\space right \\space and\\space up\n",
    "$$\n",
    "$$\n",
    "(x,  y, -z) \\rightarrow (left, back, top) : moves\\space up\n",
    "$$"
   ]
  },
  {
   "cell_type": "code",
   "execution_count": 460,
   "metadata": {},
   "outputs": [
    {
     "data": {
      "text/plain": [
       "array([1., 1., 0.])"
      ]
     },
     "execution_count": 460,
     "metadata": {},
     "output_type": "execute_result"
    }
   ],
   "source": [
    "## find a dataset in a different octant for testing of next part\n",
    "raw_input_data_octant, _ = scale.get_sample_dfs(data_folder_path, 26)\n",
    "get_quadrant(raw_input_data_octant)"
   ]
  },
  {
   "cell_type": "code",
   "execution_count": 183,
   "metadata": {},
   "outputs": [],
   "source": [
    "## create function to translate the dataframe\n",
    "def  translate_df(sample_df, max_dimensions):\n",
    "    ## gets a dataframe and translates the values to the correct position to place in the tensor\n",
    "    \n",
    "    octant = get_quadrant(sample_df)\n",
    "    \n",
    "    df_temp = sample_df.copy()\n",
    "    largest_dim = max(*max_dimensions)\n",
    "    \n",
    "    ## general translation: translates according to the overall octant\n",
    "    for i, direction in enumerate(octant):\n",
    "        direction_is_negative = direction < 0\n",
    "        if direction_is_negative:\n",
    "            if i == 0:\n",
    "                df_temp.loc[:,['x_loc']] = df_temp.loc[:,['x_loc']] + largest_dim\n",
    "            if i == 1:\n",
    "                df_temp.loc[:,['y_loc']] = df_temp.loc[:,['y_loc']] + largest_dim\n",
    "            if i == 2:\n",
    "                df_temp.loc[:,['z_loc']] = df_temp.loc[:,['z_loc']] + largest_dim\n",
    "        \n",
    "        ## minor translation: if some parts of the element are still \"sticking out\"\n",
    "        ## after the general translation, move it just enough to ensure that it fits inside\n",
    "        if not(direction_is_negative):\n",
    "            min_val = df_temp.loc[:,['x_loc','y_loc', 'z_loc']].iloc[:, i].min()\n",
    "            if min_val < 0.0:\n",
    "                if i == 0:\n",
    "                    df_temp.loc[:,['x_loc']] = df_temp.loc[:,['x_loc']] + abs(min_val)\n",
    "                if i == 1:\n",
    "                    df_temp.loc[:,['y_loc']] = df_temp.loc[:,['y_loc']] + abs(min_val)\n",
    "                if i == 2:\n",
    "                    df_temp.loc[:,['z_loc']] = df_temp.loc[:,['z_loc']] + abs(min_val)\n",
    "    \n",
    "    return df_temp\n",
    "    "
   ]
  },
  {
   "cell_type": "code",
   "execution_count": 461,
   "metadata": {},
   "outputs": [
    {
     "data": {
      "text/html": [
       "<div>\n",
       "<style scoped>\n",
       "    .dataframe tbody tr th:only-of-type {\n",
       "        vertical-align: middle;\n",
       "    }\n",
       "\n",
       "    .dataframe tbody tr th {\n",
       "        vertical-align: top;\n",
       "    }\n",
       "\n",
       "    .dataframe thead th {\n",
       "        text-align: right;\n",
       "    }\n",
       "</style>\n",
       "<table border=\"1\" class=\"dataframe\">\n",
       "  <thead>\n",
       "    <tr style=\"text-align: right;\">\n",
       "      <th></th>\n",
       "      <th>node_number</th>\n",
       "      <th>named_selection</th>\n",
       "      <th>x_loc</th>\n",
       "      <th>y_loc</th>\n",
       "      <th>z_loc</th>\n",
       "      <th>x_disp</th>\n",
       "      <th>y_disp</th>\n",
       "      <th>z_disp</th>\n",
       "      <th>x_force</th>\n",
       "      <th>y_force</th>\n",
       "      <th>z_force</th>\n",
       "    </tr>\n",
       "  </thead>\n",
       "  <tbody>\n",
       "    <tr>\n",
       "      <th>0</th>\n",
       "      <td>1</td>\n",
       "      <td>-1</td>\n",
       "      <td>0.000000</td>\n",
       "      <td>1.13540</td>\n",
       "      <td>0.0</td>\n",
       "      <td>0.000000</td>\n",
       "      <td>0.000000</td>\n",
       "      <td>0.0</td>\n",
       "      <td>0.0</td>\n",
       "      <td>0.0</td>\n",
       "      <td>0.0</td>\n",
       "    </tr>\n",
       "    <tr>\n",
       "      <th>1</th>\n",
       "      <td>2</td>\n",
       "      <td>-1</td>\n",
       "      <td>0.186530</td>\n",
       "      <td>0.00000</td>\n",
       "      <td>0.0</td>\n",
       "      <td>0.000000</td>\n",
       "      <td>0.000000</td>\n",
       "      <td>0.0</td>\n",
       "      <td>0.0</td>\n",
       "      <td>0.0</td>\n",
       "      <td>0.0</td>\n",
       "    </tr>\n",
       "    <tr>\n",
       "      <th>2</th>\n",
       "      <td>3</td>\n",
       "      <td>-1</td>\n",
       "      <td>0.008230</td>\n",
       "      <td>1.08530</td>\n",
       "      <td>0.0</td>\n",
       "      <td>0.000000</td>\n",
       "      <td>0.000000</td>\n",
       "      <td>0.0</td>\n",
       "      <td>0.0</td>\n",
       "      <td>0.0</td>\n",
       "      <td>0.0</td>\n",
       "    </tr>\n",
       "    <tr>\n",
       "      <th>3</th>\n",
       "      <td>4</td>\n",
       "      <td>-1</td>\n",
       "      <td>0.016470</td>\n",
       "      <td>1.03510</td>\n",
       "      <td>0.0</td>\n",
       "      <td>0.000000</td>\n",
       "      <td>0.000000</td>\n",
       "      <td>0.0</td>\n",
       "      <td>0.0</td>\n",
       "      <td>0.0</td>\n",
       "      <td>0.0</td>\n",
       "    </tr>\n",
       "    <tr>\n",
       "      <th>4</th>\n",
       "      <td>5</td>\n",
       "      <td>-1</td>\n",
       "      <td>0.024710</td>\n",
       "      <td>0.98496</td>\n",
       "      <td>0.0</td>\n",
       "      <td>0.000000</td>\n",
       "      <td>0.000000</td>\n",
       "      <td>0.0</td>\n",
       "      <td>0.0</td>\n",
       "      <td>0.0</td>\n",
       "      <td>0.0</td>\n",
       "    </tr>\n",
       "    <tr>\n",
       "      <th>...</th>\n",
       "      <td>...</td>\n",
       "      <td>...</td>\n",
       "      <td>...</td>\n",
       "      <td>...</td>\n",
       "      <td>...</td>\n",
       "      <td>...</td>\n",
       "      <td>...</td>\n",
       "      <td>...</td>\n",
       "      <td>...</td>\n",
       "      <td>...</td>\n",
       "      <td>...</td>\n",
       "    </tr>\n",
       "    <tr>\n",
       "      <th>569</th>\n",
       "      <td>570</td>\n",
       "      <td>-1</td>\n",
       "      <td>0.355980</td>\n",
       "      <td>0.33947</td>\n",
       "      <td>0.0</td>\n",
       "      <td>0.000000</td>\n",
       "      <td>0.000000</td>\n",
       "      <td>0.0</td>\n",
       "      <td>0.0</td>\n",
       "      <td>0.0</td>\n",
       "      <td>0.0</td>\n",
       "    </tr>\n",
       "    <tr>\n",
       "      <th>570</th>\n",
       "      <td>571</td>\n",
       "      <td>-1</td>\n",
       "      <td>0.326990</td>\n",
       "      <td>0.33622</td>\n",
       "      <td>0.0</td>\n",
       "      <td>0.000000</td>\n",
       "      <td>0.000000</td>\n",
       "      <td>0.0</td>\n",
       "      <td>0.0</td>\n",
       "      <td>0.0</td>\n",
       "      <td>0.0</td>\n",
       "    </tr>\n",
       "    <tr>\n",
       "      <th>571</th>\n",
       "      <td>572</td>\n",
       "      <td>1</td>\n",
       "      <td>0.291370</td>\n",
       "      <td>0.44160</td>\n",
       "      <td>0.0</td>\n",
       "      <td>0.000606</td>\n",
       "      <td>-0.000288</td>\n",
       "      <td>0.0</td>\n",
       "      <td>0.0</td>\n",
       "      <td>0.0</td>\n",
       "      <td>0.0</td>\n",
       "    </tr>\n",
       "    <tr>\n",
       "      <th>572</th>\n",
       "      <td>573</td>\n",
       "      <td>-1</td>\n",
       "      <td>0.742680</td>\n",
       "      <td>0.75061</td>\n",
       "      <td>0.0</td>\n",
       "      <td>0.000000</td>\n",
       "      <td>0.000000</td>\n",
       "      <td>0.0</td>\n",
       "      <td>0.0</td>\n",
       "      <td>0.0</td>\n",
       "      <td>0.0</td>\n",
       "    </tr>\n",
       "    <tr>\n",
       "      <th>573</th>\n",
       "      <td>574</td>\n",
       "      <td>-1</td>\n",
       "      <td>0.152314</td>\n",
       "      <td>0.99149</td>\n",
       "      <td>0.0</td>\n",
       "      <td>0.000000</td>\n",
       "      <td>0.000000</td>\n",
       "      <td>0.0</td>\n",
       "      <td>0.0</td>\n",
       "      <td>0.0</td>\n",
       "      <td>0.0</td>\n",
       "    </tr>\n",
       "  </tbody>\n",
       "</table>\n",
       "<p>574 rows × 11 columns</p>\n",
       "</div>"
      ],
      "text/plain": [
       "     node_number  named_selection     x_loc    y_loc  z_loc    x_disp  \\\n",
       "0              1               -1  0.000000  1.13540    0.0  0.000000   \n",
       "1              2               -1  0.186530  0.00000    0.0  0.000000   \n",
       "2              3               -1  0.008230  1.08530    0.0  0.000000   \n",
       "3              4               -1  0.016470  1.03510    0.0  0.000000   \n",
       "4              5               -1  0.024710  0.98496    0.0  0.000000   \n",
       "..           ...              ...       ...      ...    ...       ...   \n",
       "569          570               -1  0.355980  0.33947    0.0  0.000000   \n",
       "570          571               -1  0.326990  0.33622    0.0  0.000000   \n",
       "571          572                1  0.291370  0.44160    0.0  0.000606   \n",
       "572          573               -1  0.742680  0.75061    0.0  0.000000   \n",
       "573          574               -1  0.152314  0.99149    0.0  0.000000   \n",
       "\n",
       "       y_disp  z_disp  x_force  y_force  z_force  \n",
       "0    0.000000     0.0      0.0      0.0      0.0  \n",
       "1    0.000000     0.0      0.0      0.0      0.0  \n",
       "2    0.000000     0.0      0.0      0.0      0.0  \n",
       "3    0.000000     0.0      0.0      0.0      0.0  \n",
       "4    0.000000     0.0      0.0      0.0      0.0  \n",
       "..        ...     ...      ...      ...      ...  \n",
       "569  0.000000     0.0      0.0      0.0      0.0  \n",
       "570  0.000000     0.0      0.0      0.0      0.0  \n",
       "571 -0.000288     0.0      0.0      0.0      0.0  \n",
       "572  0.000000     0.0      0.0      0.0      0.0  \n",
       "573  0.000000     0.0      0.0      0.0      0.0  \n",
       "\n",
       "[574 rows x 11 columns]"
      ]
     },
     "execution_count": 461,
     "metadata": {},
     "output_type": "execute_result"
    }
   ],
   "source": [
    "translated_input = translate_df(raw_input_data_octant, max_dims)\n",
    "translated_input"
   ]
  },
  {
   "cell_type": "markdown",
   "metadata": {},
   "source": [
    "Now,  having translated the element into the part of the space we need for the tensor, we need to perform the data collection into the features of the tensor"
   ]
  },
  {
   "cell_type": "code",
   "execution_count": 371,
   "metadata": {},
   "outputs": [],
   "source": [
    "## Create a function that creates a hard map of where the element is\n",
    "def get_material_map_hard(translated_sample_df, element_size, dimensionality=2):\n",
    "    ## gets the sample df and returns a tensor with 1 where nodes are found,\n",
    "    ## and 0 where no nodes are found\n",
    "    \n",
    "    ##Initialize an array for this feature\n",
    "    array = create_array(dimensionality, features=1, resolution = 32)\n",
    "\n",
    "    arr_iterator = np.nditer(array, flags=['multi_index'])\n",
    "    for location in arr_iterator:\n",
    "\n",
    "        if dimensionality == 2:\n",
    "            x = arr_iterator.multi_index[0]\n",
    "            y = arr_iterator.multi_index[1]\n",
    "            z=0\n",
    "            feature = arr_iterator.multi_index[2]\n",
    "        else:\n",
    "            raise Exception('3d not implemented yet')\n",
    "        \n",
    "        if get_dataframe_indices(element_size, translated_sample_df, x, y, z).size > 0: ## empty list returns False\n",
    "            array[x,y,z] = 1.\n",
    "    return array"
   ]
  },
  {
   "cell_type": "code",
   "execution_count": 462,
   "metadata": {
    "scrolled": true
   },
   "outputs": [
    {
     "name": "stdout",
     "output_type": "stream",
     "text": [
      "0.743030309677124\n"
     ]
    }
   ],
   "source": [
    "tic = time.time()\n",
    "get_material_map_hard(translated_input, element_size, dimensionality=2)\n",
    "toc = time.time()\n",
    "print(toc-tic)"
   ]
  },
  {
   "cell_type": "code",
   "execution_count": 559,
   "metadata": {},
   "outputs": [
    {
     "name": "stdout",
     "output_type": "stream",
     "text": [
      "1.0 3\n",
      "1.0\n"
     ]
    },
    {
     "data": {
      "text/html": [
       "<img src=\"data:image/png;base64,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\" alt=\"PNG image\"></img>"
      ],
      "text/plain": [
       "<IPython.core.display.HTML object>"
      ]
     },
     "metadata": {},
     "output_type": "display_data"
    }
   ],
   "source": [
    "hard_map_array = get_material_map_hard(translated_input, element_size, dimensionality=2)\n",
    "\n",
    "## Create function to plot the tensor\n",
    "def plot_2d(sample_array, contour = False, clear = True, edges = np.array([])):\n",
    "    if clear:\n",
    "        mlab.clf()\n",
    "    #print(sample_array)\n",
    "    m = np.max(np.abs(sample_array))\n",
    "    print(m, len(sample_array.shape))\n",
    "    s = np.abs(sample_array)\n",
    "    mlab.figure(figure=None, bgcolor=(0.99,0.99,0.99), fgcolor=None, engine=None, size=(400, 350))\n",
    "    \n",
    "    if len(sample_array.shape)==3:\n",
    "        \n",
    "        sample_array = np.concatenate((sample_array, sample_array), axis=2)\n",
    "        \n",
    "    sample_array = np.abs(sample_array)\n",
    "\n",
    "    try:\n",
    "        sample_array = sample_array/m\n",
    "    except: ## if m is zero\n",
    "        pass\n",
    "    n = np.max(np.abs(sample_array))\n",
    "    print(n)\n",
    "\n",
    "    sample_array[0,:,:] += 1.2\n",
    "    sample_array[:,0,:] += 1.2\n",
    "    sample_array[-1,:,:] += 1.2\n",
    "    sample_array[:,-1,:] += 1.2\n",
    "    \n",
    "    if edges.size > 0:\n",
    "        sample_array = sample_array + 0.25*edges\n",
    "        \n",
    "    volume = mlab.pipeline.volume(mlab.pipeline.scalar_field(sample_array), vmin=0.2, vmax=0.8)\n",
    "    if contour:\n",
    "        mlab.contour3d(s)\n",
    "    \n",
    "        \n",
    "    return volume\n",
    "plot_2d(hard_map_array)"
   ]
  },
  {
   "cell_type": "markdown",
   "metadata": {},
   "source": [
    "In the image above, the shaded part represents the points where nodes were detected. The colourful edge is a contour of 'same value' surfaces, which is used to demonstrate where there is sharp transition in values. As can be seen,  it works roughly as expected, however the edges are jagged and some spots in the center where the nodes are very far apart, the tensor actually sees no nodes and receive a zero value. To correct this, it can be filtered with a convolutional kernel to create an average value for every point, smoothing out the edges and filling the internal elements that are empty.\n",
    "\n",
    "Note: the top left of the image shows no \"gradient\" because it is on the very edge of the tensor"
   ]
  },
  {
   "cell_type": "code",
   "execution_count": 364,
   "metadata": {},
   "outputs": [],
   "source": [
    "## create a function that creates a fuzzy map of where the element is\n",
    "def interpolate_array_spatially_2D(sample_array):\n",
    "    ## use gaussian blur kernel to smooth out the tensor\n",
    "    \n",
    "    ## define kernel\n",
    "    kernel_blur = 1/256*torch.Tensor([[1, 4, 6, 4, 1],\n",
    "                                [4, 16, 24, 16, 4],\n",
    "                                [6, 24, 36, 24, 6],\n",
    "                                [4, 16, 24, 16, 4],\n",
    "                                [1, 4, 6, 4, 1]])\n",
    "    \n",
    "    ## add redundant batch_size and _feature dimensions because of torch requirements\n",
    "    kernel_blur = kernel_blur.view([1,1,5,5])\n",
    "    \n",
    "    ## convert\n",
    "    tensor = torch.from_numpy(sample_array)\n",
    "    \n",
    "    ## convolve filter and tensor\n",
    "    smoothed_array = F.conv2d(input = tensor.view([1,1,32,32]), weight = kernel_blur.double(), stride = 1, padding=2)   \n",
    "    \n",
    "    ## return it as a correctly shaped numpy arra\n",
    "    return smoothed_array.view([32,32,1]).numpy()"
   ]
  },
  {
   "cell_type": "code",
   "execution_count": 540,
   "metadata": {},
   "outputs": [],
   "source": [
    "## create a function that runs any other arbitrary kernel\n",
    "def convolve_with_kernel(sample_array, kernel_name='edge_detection'):\n",
    "    ## use kernel on sample\n",
    "    \n",
    "    ## define kernel\n",
    "    \n",
    "    if kernel_name == 'edge_detection':\n",
    "        kernel = torch.Tensor([[-1,-1,-1],\n",
    "                              [-1,8,-1],\n",
    "                              [-1,-1,-1]])\n",
    "    \n",
    "    ## add redundant batch_size and _feature dimensions because of torch requirements\n",
    "    kernel = kernel.view([1,1,3,3])\n",
    "    \n",
    "    ## convert\n",
    "    tensor = torch.from_numpy(sample_array)\n",
    "    \n",
    "    ## convolve filter and tensor\n",
    "    convolved_array = F.conv2d(input = tensor.view([1,1,32,32]), weight = kernel.double(), stride = 1, padding=1)   \n",
    "    \n",
    "    ## return it as a correctly shaped numpy array\n",
    "    return convolved_array.view([32,32,1]).numpy()\n",
    "                               "
   ]
  },
  {
   "cell_type": "code",
   "execution_count": 464,
   "metadata": {},
   "outputs": [
    {
     "name": "stdout",
     "output_type": "stream",
     "text": [
      "1.0 3\n",
      "1.0\n"
     ]
    },
    {
     "data": {
      "text/html": [
       "<img src=\"data:image/png;base64,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\" alt=\"PNG image\"></img>"
      ],
      "text/plain": [
       "<IPython.core.display.HTML object>"
      ]
     },
     "metadata": {},
     "output_type": "display_data"
    }
   ],
   "source": [
    "#tic = time.time()\n",
    "smoothed_map_array = interpolate_array_spatially_2D(hard_map_array)\n",
    "#print(time.time()-tic)\n",
    "plot_2d(smoothed_map_array)"
   ]
  },
  {
   "cell_type": "code",
   "execution_count": 541,
   "metadata": {},
   "outputs": [
    {
     "name": "stdout",
     "output_type": "stream",
     "text": [
      "8.0 3\n",
      "1.0\n"
     ]
    },
    {
     "data": {
      "text/html": [
       "<img src=\"data:image/png;base64,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\" alt=\"PNG image\"></img>"
      ],
      "text/plain": [
       "<IPython.core.display.HTML object>"
      ]
     },
     "metadata": {},
     "output_type": "display_data"
    }
   ],
   "source": [
    "plot_2d(convolve_with_kernel(hard_map_array))"
   ]
  },
  {
   "cell_type": "markdown",
   "metadata": {},
   "source": [
    "The other features depend on the type of feature they are. Specifically, displacements have a value that vary spacially according to a shape function which in theory can be specified, however for the sake of simplicity and performance, they are going to be interpolated linearly. Forces on the element, on the other hand, are vector sums of the nodal forces."
   ]
  },
  {
   "cell_type": "code",
   "execution_count": 488,
   "metadata": {},
   "outputs": [
    {
     "name": "stdout",
     "output_type": "stream",
     "text": [
      "(32, 32, 6)\n"
     ]
    }
   ],
   "source": [
    "## create a function that gets a sample dataframe and transforms it into an array\n",
    "\n",
    "def get_input_map(translated_sample_df, element_size, dimensionality=2):\n",
    "    ## takes a dataframe and returns the displacements and forces in every element of the tensor\n",
    "    \n",
    "    ##Initialize an array for this feature\n",
    "    array = create_array(dimensionality, features=6, resolution = 32)\n",
    "    print(array.shape)\n",
    "    \n",
    "    ## Create iterator for the array\n",
    "    arr_iterator = np.nditer(array, flags=['multi_index'])\n",
    "    \n",
    "    ## iterates through every  element of array\n",
    "    for location in arr_iterator:\n",
    "        \n",
    "        if dimensionality == 2:\n",
    "            x = arr_iterator.multi_index[0]\n",
    "            y = arr_iterator.multi_index[1]\n",
    "            z=0\n",
    "            feature = arr_iterator.multi_index[2]\n",
    "        else:\n",
    "            raise Exception('3d not implemented yet')\n",
    "        \n",
    "        ## get the indices for this location\n",
    "        indices = get_dataframe_indices(element_size, translated_sample_df, x, y, z)\n",
    "        if indices.size > 0: ## empty list returns False\n",
    "            ##gets the features of the input at that location\n",
    "            displacements = translated_sample_df.loc[indices,['x_disp','y_disp','z_disp']]\n",
    "            forces = translated_sample_df.loc[indices,['x_force','y_force','z_force']]\n",
    "            \n",
    "            ## calculates the feature value based on current feature being analyzed\n",
    "            if 0 <= feature < 3: \n",
    "                feature_value = displacements.values[:,feature].mean()\n",
    "                #print('disp', feature, feature_value)\n",
    "            if 3 <= feature < 6: \n",
    "                feature_value = forces.values[:,feature-3].sum()\n",
    "                #print('force', feature-3, feature_value)\n",
    "            \n",
    "            if dimensionality == 2:\n",
    "                array[x,y,feature] = feature_value\n",
    "            else:\n",
    "                raise Exception('3d not implemented yet')    \n",
    "                \n",
    "            #print(displacements)\n",
    "            \n",
    "    return array\n",
    "\n",
    "input_feature_array = get_input_map(translated_input, element_size, dimensionality=2)"
   ]
  },
  {
   "cell_type": "code",
   "execution_count": 560,
   "metadata": {},
   "outputs": [
    {
     "name": "stdout",
     "output_type": "stream",
     "text": [
      "(32, 32, 1)\n",
      "0.00142152849334207 3\n",
      "1.0\n"
     ]
    },
    {
     "data": {
      "text/html": [
       "<img src=\"data:image/png;base64,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\" alt=\"PNG image\"></img>"
      ],
      "text/plain": [
       "<IPython.core.display.HTML object>"
      ]
     },
     "metadata": {},
     "output_type": "display_data"
    }
   ],
   "source": [
    "print(input_feature_array[:,:,0:1].shape)\n",
    "edges = convolve_with_kernel(hard_map_array)\n",
    "plot_2d(input_feature_array[:,:,0:1],contour=True, clear=False, edges=edges)"
   ]
  },
  {
   "cell_type": "code",
   "execution_count": 561,
   "metadata": {},
   "outputs": [
    {
     "name": "stdout",
     "output_type": "stream",
     "text": [
      "0.00208731508313133 3\n",
      "1.0\n"
     ]
    },
    {
     "data": {
      "text/html": [
       "<img src=\"data:image/png;base64,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\" alt=\"PNG image\"></img>"
      ],
      "text/plain": [
       "<IPython.core.display.HTML object>"
      ]
     },
     "metadata": {},
     "output_type": "display_data"
    }
   ],
   "source": [
    "plot_2d(input_feature_array[:,:,1:2],contour=True,edges=edges)"
   ]
  },
  {
   "cell_type": "code",
   "execution_count": 562,
   "metadata": {},
   "outputs": [
    {
     "name": "stdout",
     "output_type": "stream",
     "text": [
      "361.493766774525 3\n",
      "1.0\n"
     ]
    },
    {
     "data": {
      "text/html": [
       "<img src=\"data:image/png;base64,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\" alt=\"PNG image\"></img>"
      ],
      "text/plain": [
       "<IPython.core.display.HTML object>"
      ]
     },
     "metadata": {},
     "output_type": "display_data"
    }
   ],
   "source": [
    "plot_2d(input_feature_array[:,:,3:4],contour=True,edges=edges)"
   ]
  },
  {
   "cell_type": "code",
   "execution_count": 563,
   "metadata": {},
   "outputs": [
    {
     "name": "stdout",
     "output_type": "stream",
     "text": [
      "164.2917795658252 3\n",
      "1.0\n"
     ]
    },
    {
     "data": {
      "text/html": [
       "<img src=\"data:image/png;base64,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\" alt=\"PNG image\"></img>"
      ],
      "text/plain": [
       "<IPython.core.display.HTML object>"
      ]
     },
     "metadata": {},
     "output_type": "display_data"
    }
   ],
   "source": [
    "plot_2d(input_feature_array[:,:,4:5],contour=True,edges=edges)"
   ]
  },
  {
   "cell_type": "markdown",
   "metadata": {},
   "source": [
    "Now, similarly, the output map must be built"
   ]
  },
  {
   "cell_type": "code",
   "execution_count": 566,
   "metadata": {},
   "outputs": [],
   "source": [
    "_ , raw_output_data_octant = scale.get_sample_dfs(data_folder_path, 26)"
   ]
  },
  {
   "cell_type": "code",
   "execution_count": 567,
   "metadata": {},
   "outputs": [
    {
     "data": {
      "text/html": [
       "<div>\n",
       "<style scoped>\n",
       "    .dataframe tbody tr th:only-of-type {\n",
       "        vertical-align: middle;\n",
       "    }\n",
       "\n",
       "    .dataframe tbody tr th {\n",
       "        vertical-align: top;\n",
       "    }\n",
       "\n",
       "    .dataframe thead th {\n",
       "        text-align: right;\n",
       "    }\n",
       "</style>\n",
       "<table border=\"1\" class=\"dataframe\">\n",
       "  <thead>\n",
       "    <tr style=\"text-align: right;\">\n",
       "      <th></th>\n",
       "      <th>node_number</th>\n",
       "      <th>x_loc</th>\n",
       "      <th>y_loc</th>\n",
       "      <th>z_loc</th>\n",
       "      <th>x_disp</th>\n",
       "      <th>y_disp</th>\n",
       "      <th>z_disp</th>\n",
       "    </tr>\n",
       "  </thead>\n",
       "  <tbody>\n",
       "    <tr>\n",
       "      <th>0</th>\n",
       "      <td>1</td>\n",
       "      <td>0.000000</td>\n",
       "      <td>1.13540</td>\n",
       "      <td>0.0</td>\n",
       "      <td>-0.000264</td>\n",
       "      <td>-0.000852</td>\n",
       "      <td>0.0</td>\n",
       "    </tr>\n",
       "    <tr>\n",
       "      <th>1</th>\n",
       "      <td>2</td>\n",
       "      <td>0.186530</td>\n",
       "      <td>0.00000</td>\n",
       "      <td>0.0</td>\n",
       "      <td>-0.000586</td>\n",
       "      <td>-0.000198</td>\n",
       "      <td>0.0</td>\n",
       "    </tr>\n",
       "    <tr>\n",
       "      <th>2</th>\n",
       "      <td>3</td>\n",
       "      <td>0.008230</td>\n",
       "      <td>1.08530</td>\n",
       "      <td>0.0</td>\n",
       "      <td>-0.000265</td>\n",
       "      <td>-0.000852</td>\n",
       "      <td>0.0</td>\n",
       "    </tr>\n",
       "    <tr>\n",
       "      <th>3</th>\n",
       "      <td>4</td>\n",
       "      <td>0.016470</td>\n",
       "      <td>1.03510</td>\n",
       "      <td>0.0</td>\n",
       "      <td>-0.000264</td>\n",
       "      <td>-0.000852</td>\n",
       "      <td>0.0</td>\n",
       "    </tr>\n",
       "    <tr>\n",
       "      <th>4</th>\n",
       "      <td>5</td>\n",
       "      <td>0.024710</td>\n",
       "      <td>0.98496</td>\n",
       "      <td>0.0</td>\n",
       "      <td>-0.000261</td>\n",
       "      <td>-0.000849</td>\n",
       "      <td>0.0</td>\n",
       "    </tr>\n",
       "    <tr>\n",
       "      <th>...</th>\n",
       "      <td>...</td>\n",
       "      <td>...</td>\n",
       "      <td>...</td>\n",
       "      <td>...</td>\n",
       "      <td>...</td>\n",
       "      <td>...</td>\n",
       "      <td>...</td>\n",
       "    </tr>\n",
       "    <tr>\n",
       "      <th>569</th>\n",
       "      <td>570</td>\n",
       "      <td>0.355980</td>\n",
       "      <td>0.33947</td>\n",
       "      <td>0.0</td>\n",
       "      <td>0.000249</td>\n",
       "      <td>-0.000553</td>\n",
       "      <td>0.0</td>\n",
       "    </tr>\n",
       "    <tr>\n",
       "      <th>570</th>\n",
       "      <td>571</td>\n",
       "      <td>0.326990</td>\n",
       "      <td>0.33622</td>\n",
       "      <td>0.0</td>\n",
       "      <td>0.000280</td>\n",
       "      <td>-0.000460</td>\n",
       "      <td>0.0</td>\n",
       "    </tr>\n",
       "    <tr>\n",
       "      <th>571</th>\n",
       "      <td>572</td>\n",
       "      <td>0.291370</td>\n",
       "      <td>0.44160</td>\n",
       "      <td>0.0</td>\n",
       "      <td>0.000606</td>\n",
       "      <td>-0.000288</td>\n",
       "      <td>0.0</td>\n",
       "    </tr>\n",
       "    <tr>\n",
       "      <th>572</th>\n",
       "      <td>573</td>\n",
       "      <td>0.742680</td>\n",
       "      <td>0.75061</td>\n",
       "      <td>0.0</td>\n",
       "      <td>0.000115</td>\n",
       "      <td>-0.000399</td>\n",
       "      <td>0.0</td>\n",
       "    </tr>\n",
       "    <tr>\n",
       "      <th>573</th>\n",
       "      <td>574</td>\n",
       "      <td>0.152314</td>\n",
       "      <td>0.99149</td>\n",
       "      <td>0.0</td>\n",
       "      <td>-0.000257</td>\n",
       "      <td>-0.000864</td>\n",
       "      <td>0.0</td>\n",
       "    </tr>\n",
       "  </tbody>\n",
       "</table>\n",
       "<p>574 rows × 7 columns</p>\n",
       "</div>"
      ],
      "text/plain": [
       "     node_number     x_loc    y_loc  z_loc    x_disp    y_disp  z_disp\n",
       "0              1  0.000000  1.13540    0.0 -0.000264 -0.000852     0.0\n",
       "1              2  0.186530  0.00000    0.0 -0.000586 -0.000198     0.0\n",
       "2              3  0.008230  1.08530    0.0 -0.000265 -0.000852     0.0\n",
       "3              4  0.016470  1.03510    0.0 -0.000264 -0.000852     0.0\n",
       "4              5  0.024710  0.98496    0.0 -0.000261 -0.000849     0.0\n",
       "..           ...       ...      ...    ...       ...       ...     ...\n",
       "569          570  0.355980  0.33947    0.0  0.000249 -0.000553     0.0\n",
       "570          571  0.326990  0.33622    0.0  0.000280 -0.000460     0.0\n",
       "571          572  0.291370  0.44160    0.0  0.000606 -0.000288     0.0\n",
       "572          573  0.742680  0.75061    0.0  0.000115 -0.000399     0.0\n",
       "573          574  0.152314  0.99149    0.0 -0.000257 -0.000864     0.0\n",
       "\n",
       "[574 rows x 7 columns]"
      ]
     },
     "execution_count": 567,
     "metadata": {},
     "output_type": "execute_result"
    }
   ],
   "source": [
    "translated_output = translate_df(raw_output_data_octant, max_dims)\n",
    "translated_output"
   ]
  },
  {
   "cell_type": "code",
   "execution_count": 568,
   "metadata": {},
   "outputs": [
    {
     "name": "stdout",
     "output_type": "stream",
     "text": [
      "(32, 32, 3)\n"
     ]
    }
   ],
   "source": [
    "def get_output_map(translated_sample_df, element_size, dimensionality=2):\n",
    "    ## takes a dataframe and returns the displacements in every element of the tensor\n",
    "    \n",
    "    ##Initialize an array for this feature\n",
    "    array = create_array(dimensionality, features=3, resolution = 32)\n",
    "    print(array.shape)\n",
    "    \n",
    "    ## Create iterator for the array\n",
    "    arr_iterator = np.nditer(array, flags=['multi_index'])\n",
    "    \n",
    "    ## iterates through every  element of array\n",
    "    for location in arr_iterator:\n",
    "        \n",
    "        if dimensionality == 2:\n",
    "            x = arr_iterator.multi_index[0]\n",
    "            y = arr_iterator.multi_index[1]\n",
    "            z=0\n",
    "            feature = arr_iterator.multi_index[2]\n",
    "        else:\n",
    "            raise Exception('3d not implemented yet')\n",
    "        \n",
    "        ## get the indices for this location\n",
    "        indices = get_dataframe_indices(element_size, translated_sample_df, x, y, z)\n",
    "        if indices.size > 0: ## empty list returns False\n",
    "            ##gets the features of the input at that location\n",
    "            displacements = translated_sample_df.loc[indices,['x_disp','y_disp','z_disp']]\n",
    "            \n",
    "            ## calculates the feature value based on current feature being analyzed\n",
    "            feature_value = displacements.values[:,feature].mean()\n",
    "            #print('disp', feature, feature_value)\n",
    "\n",
    "            \n",
    "            if dimensionality == 2:\n",
    "                array[x,y,feature] = feature_value\n",
    "            else:\n",
    "                raise Exception('3d not implemented yet')    \n",
    "                \n",
    "            #print(displacements)\n",
    "            \n",
    "    return array\n",
    "\n",
    "output_feature_array = get_output_map(translated_output, element_size, dimensionality=2)"
   ]
  },
  {
   "cell_type": "code",
   "execution_count": 569,
   "metadata": {},
   "outputs": [
    {
     "name": "stdout",
     "output_type": "stream",
     "text": [
      "0.0014215 3\n",
      "1.0\n"
     ]
    },
    {
     "data": {
      "text/html": [
       "<img src=\"data:image/png;base64,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\" alt=\"PNG image\"></img>"
      ],
      "text/plain": [
       "<IPython.core.display.HTML object>"
      ]
     },
     "metadata": {},
     "output_type": "display_data"
    }
   ],
   "source": [
    "plot_2d(output_feature_array[:,:,0:1],contour=True, clear=False, edges=edges)"
   ]
  },
  {
   "cell_type": "code",
   "execution_count": 570,
   "metadata": {},
   "outputs": [
    {
     "name": "stdout",
     "output_type": "stream",
     "text": [
      "0.0021874000000000004 3\n",
      "1.0\n"
     ]
    },
    {
     "data": {
      "text/html": [
       "<img src=\"data:image/png;base64,iVBORw0KGgoAAAANSUhEUgAAAZAAAAFeCAIAAAAkP95fAAAgAElEQVR4Xuy965OlWVbe9zxr7/dyTmZVd2sGkLhLAoTERTJyCGzJ4i5A3CTCIIRQhO0Ihy1/8Qf/KQ6FIizJlrECIUvYQleC2wAWkrADgWxA0oCQxEUMDNB0V2We9917r/X4w/uerOyenunumZ6ePlX7F9lV1VVZebJOZv5y7bWfvTZba+h0Op1LwF7vFTqdTuedQhdWp9O5GLqwOp3OxdCF1el0LoYurE6nczF0YXU6nYuhC6vT6VwMXVidTudi6MLqdDoXQxdWp9O5GLqwOp3OxdCF1el0LoYurE6nczF0YXU6nYuhC6vT6VwMXVidTudi6MLqdDoXQxdWp9O5GLqwOp3OxdCF1el0LoYurE6nczF0YXU6nYuhC6vT6VwMXVidTudi6MLqdDoXQxdWp9O5GLqwOp3OxdCF1el0LoYurE6nczF0YXU6nYuhC6vT6VwMXVidTudi6MLqdDoXQxdWp9O5GLqwOp3OxdCF1el0LoYurE6nczF0YXU6nYuhC6vT6VwMXVidTudi6MLqdDoXQxdWp9O5GLqwOp3OxdCF1el0LoYurE6nczF0YXU6nYuhC6vT6VwMXVidTudi6MLqdDoXQxdWp9O5GLqwOp3OxdCF1el0LoYurE6nczF0YXU6nYuhC6vT6VwMXVidTudi6MLqdDoXQxdWp9O5GLqwOp3OxdCF1el0LoYurE6nczF0YXU6nYuhC6vT6VwMXVidTudi6MLqdDoXQxdWp9O5GLqwOp3OxdCF1el0LoYurE6nczF0YXU6nYuhC6vT6VwMXVidTudi6MLqdDoXQxdWp9O5GLqwOp3OxdCF1el0LoYurE6nczF0YXU6nYuhC6vT6VwMXVidTudi6MLqdDoXQxdWp9O5GLqwOp3OxdCF1el0LoYurE6nczF0YXU6nYuhC6vT6VwMXVidTudi6MLqdDoXQxdWp9O5GLqwOp3OxZBf7xU6nTeJu04nADwckNLrvXan8ybowuq8dbjrdNLNzZ2weHXVtdV5C+nC6rwFyF2PH3NZtCy6vUEpAHS6xbpgmjHPvL7u2up85HRhdT4iopRalqjFyonRhMYUQAWAlENr8ppvTloXTDMPB4zj673JTueD0oXV+TBRKS27e2nRFD6YwQUJgCRsGzqSS5GCcZOXhacbHq7UtdX5cOnC6rxpVIoeP8ayLJ9wHFNCBUL3/liwTVYCwPNv1/A0MJWXUrlVmnR93bXVebN0YXXeMO4qRaeTlgXLgtvb5ROGEYlmIhSiJVjgcODhcP47gtm54kqQAnAVk6dHKzjhcNA49vZW5w3ShdV5fcI9StHpxJsbLQvXFeuquq56NwTtJZVxnnidSG7lliQCiBWnBQB5LrpSCkl06CY/PjEdurY6b5AurM6HxN1Pp3VZ2ulky5LW1daVpxPWVWOtUETQUr6aLCWmIYDwVUuNCA4Jw5TSlR1XnU5YVoUzJYRIQpJZSwBu8+1it6OmWT0D0fmQdGF1PghbqGpZ2um0LEs9nYZ1HdbVygrU8AJEwdrG5weMyUxQVY26+OPHcVPgYYOlBwdcP1C6tgdHHResC5aFEZCQ0tahB9DkTMVKsXXp2up8CLqwOq+GCD2+xbLgdIrb27au67qWdQ0v4cUQUMQAHEaFuQXUXBaU2xL+uJVHsZTsboX0BV75/MPgMdmVjgcci5YTTgsjCGx1FsmIEBBYrFaWBWPXVuc16MLq3CcKimEd15f1W7daVq5rrOuynqpamEBLljBOGhOuc4rcFKACCqhBwagMVwlWmpI1A7gEU4lhJmfioHnCXFEWnE5w3+osSjID4AppSetiyw2GWT1x2rlHF1YHALyWQEVuzYJYs91YPOaLNyhF6+pDK5SnxOnBNM82DRgTrvOIQUBIRgqQIEFAkM1lFlAT1oEyNSuLOMV4EOeECcMY44F14emk1rauFrZWfUouBZv5Y3txwTD36FZnowvrWUeleFsavUnMqAiiJdbBbq0+5uOVp8XebRomP45+dfTDNacRY7KrYaRJArH9CIAkCQOT5UQHrSlCnqwk1azCspJT5Fl2SBg4jDEeUE46nVjKtjzUtloEXIrk9Mfp8Yo0dW11urCeXaKUOJ0ilmaIZEEmEQJoSMmFlhxjMSIfLY05Hk5+dRWH5zRNaRyMNIEk93SoDDBmpGO6Hgf4oEp6IARWKYyBmtCSCusKnGI4yOakkcMQwyHqiacTauW5Jb+VXSGFClHTzQnrAVPX1rNLF9Yzh9yjFD+d1FZni5TIDJIgQFCCIPFwaA/lB1MtfJCGw1SeP+r4PPLzyYaRlgDjHmTfsqOwI6ZpHK69NaJZFHgzL0BzKgQZHTLWrF1bxBT5oDQbhpQf+sMraMXpxNMJ5+UhsL13dKO0WqnWMjihR7eePbqwniHuVBXrElE8RaScSEXATBQBCOQYD5+Hcm05Sh1qzFeGq6FOScnIZEgJNhBpExYJkgCUBCkhUkS40EItUKiS6sLkTR6EwKCMNalmVLYVdVSa2zAbJsPRjxMOB5xOXJbz8lCAgaRZkIGg3aa6qk4curaeIbqwngnk7puqlsXbydVkBI0MKcwyAILAOCqBEKb1OsVa8DJZMCQ005CjWpMRoJFGJOPdUUFsWXZs0ktiCmWHGqdg1TxDJbWFqM6IgMigAjWhZhW0FfWkPLdxNsyJRz/OOq44nXQ6UQCJCOzVHFdvk24T11hGjgfkgezaevrpwnrKkXs7nXxZ2ukUbQ22gGDG8zoLIMg0HQcbjIkgxEDcJNhEAxRILqPGUdVCgMDt1A12Sb0aAiSMloAsa8oNo6xpnKDV6pJYHRFACA45S0azrbelJYZj2DFjoA5+mDAfsCxYV20tfVLAqmrtcbtFrcNxmtPxoKsDbO5Tv59uurCeWjZVtWVpp5O3VWgBCXubfFvHgbTjIQ9Xgw33q6UESxprmtJxUCQpxkE1SwgJAgMIIEI0vqazNggk0piykmOoGGTTfW01NIENCISZTG50IAhvmMk5w8iDH2YdKuqqZXGotrWuL6fbR3ELb0Ma17wsOVY+OIbNwGhdW08pXVhPIXKvd1VVlBY1INz1mragJmnznK8eDOmYX9M6YmBzEpiYExIheSACirOzKBi3ztcHvB9nCKQt64DBle9rK5UTUAIKQKCDNInFCCJMLg1gpoiwyLNfIW4f1Zdeqje/ZacbreZt8GG04xwq1lY+d9Xs4DZlDOctgc7TQxfWU4WXsi8A16W1NdRim5Bw97VrZErpeMzHY5qOmVO21y5GmiSug0pamodMPjCgGmiBCDAEkQIitkkMH8pZ2LSFXVstUuMQHDFNjJOVxbQtEhl3w7XUDMqqbBZBhEDPdckvntpti9tVj290E/CMaWJd6LPFGr7iePTpgGErtXJC7209PXRhPSXcV5V7aVG3DDrujdBjTmme8/GY56PZNFi2D+IYlwK3+eWbb3qpXd/Iq27CvkdubIEWUkCiBURxq7DwBpyFO23RMqwpNQ5hA6YpYrV1NXqTJIQQkrxmrwzCIXeqttMyNkesBnPLSIXrwlqsFnphVGvV1hrDwsOEedY4N5uooWvr6aAL6+J5lapcbTuet7fVAQA0S/OUD3M+HFOeBxvTh1SLQKp8ufiubam2AsW/0vhe8Md9X8G5tK8kBdtWmm/MWbinraTBkdu2SDxURElRwVhB39pkcjVXc7pywgRuM7VGmOygYcxHR22OOtxURoVXriWNM9bRpgXThGnWYW6ciLFr69LpwrpUtqTC1lYPr/tsdULAVu1s6yqa5XnOhznNc0pTTmO29AaUAsLWlPyQ/uaqssQo/zIowz/XAsQvNTlowq4oidv+3Bt2FgACmUxg0ugYGlxWlRxqWd7UGiSF0AzIgLaTioABQ5o1Txg8Nad71LXVR+OjG0aztcaw8jBxGDlNMZ54mHk8xDxXTsSQzgGyzsXRhXV53FdVK0tEdfnWq+K5IUUSZnma0jwPh0PKU7Ih0T7YGvDVSL87pU9i+4dyAq1hCryn+a9Z+wwrQPuUlCED+GLbz/0ZGNKbdRbutCUONFcOoMKbHKqm24oaW7W4VWSIzAFT9hkULIK1pdbQ1nbCuLyIR6utrQ5DXlcbR0wTx4FljWXXlo+zbCLHpK6ty6ML65K4ryqvq3u5U9X+ChEAbBzzPKd5zuOc85QsJ/JDpQ8+gABM5ehLvql47HYbWHxQjPD/N9ZR62fbtDWuXsgJwMvugAzYTkJvb+TNPCC4nwyCBCqHksvaNuoPIDTkNNIsMz+faBxIRai5uX8m+fO3j5ZJePklvCRWzynyWjEuGkcbR6yrTZNKidPCw+zTnI8Ht4kYrWvroujCugy2pEKU0pbF29q8ePh+VPncqpKUpinNc57nPM4pjTkNdq+T9cYp8AflZn6paglWMbA+9sl9TEEUR/k33iYwS78zJYAPU3rZHQAk29+hs0TfDJtWk5DFLBs4hYmWLMmYkg35mJHSdisPIYajtpcjPu2Qfuf06LPfl7/zCgLNKCkHUFbUglI0rixrmmeW4sOyLMt0mDHPbpMwZgxv+jnqfCzownqncz9U1doqRou2Jam2ymrvr4/jMM95ntM4pzQOKRveXFV1nwAGuUiK2rLtJ9EjhWfzhhp0RyLs1yJM+LiUHqb0sgewtZn0uuGsDwEJIxKYmLJNjpREWmbKW6DMQMpIyJKm9B9QPuWYH9v88vWDPzlYmJ3MfqDUiLAIwIWw02OVorVgnWyc1lLysuR51jThai52TJqSPvxnrPP20IX1zuW+qtyLR3UFzHRewpDcqqptAZiG6SNX1R0BQ+aWGK/A1RJokWdleGNxFIcRmaCA94d/XEr78NDzqvDDc9Y+BVCCRMiYYGYwGCuiyUlPkIF0WHKiOXzl+NLDB393fvyfTdnNKvBHpcGDwI8uC1oN3ab1FNs8wnFalvE4T1jWNE/C2o7e6Fnz8OrzkZ13Fl1Y70S2RlXU2paTt+JRAwpJW1f7zP1eVUpjZrI32av6YPyOlH5X0vepoLlO4Q7cBluk8DH5ihJYHIkgSWk7k4gXcnrRA9r3DfEmnbUlXEPhgQhJAYhGwgKqEOFAhWqCD8RABVzylQSmghnXz/2oLIwBfL5Zjhia/5HDYSzrj9waoqbfrql4G0pMY1tXmyYso6EQHodYQ+KczaSwUBr61K13HF1Y7yzuQlVei3tpXve2811fHQBw16vaqqq3UFU78oPfDDeFN85VJuhGXD2HD+aJtWk1DMbkMNGE+A+hBL6Q0m+5466D9QYO7uCJqiQottvtJSgSCTMHnKgKEmII1VADEVSiC15BYEbkuH4OOYk08mckubP6Z0NTWf/omN413D58Ud9x05AiFW+lcC0xDZmVDGY0YnX3ENaSGzTP6XBgHxb4TqIL6x2B3ONurMK6uJdgeJzPqJxnIzClJ72qj5KqgABGnA6/vXIVHAAIuIM3kV6IEWGosBpqjj2MJZiwx1V/R0q/6f4k6/V6ztpOVGubLAp5xJ7K2JrnJCECDXDIgaAoF5qjZQboq4xYi10dPvGFhhHg2k6A4IHa/pU3X06fn+MBUhv1rZFO4F9ZWq5RcktTclQhfIAzUl3QQmuRU9OkZcE8c7u/p0/degfQhfUxZp9UVcqrTtXA7M5WAGCWpmlrV+VhNhuypfRBjgF+hEggKysQ938XuAl6JPlAL1gdI5AEGZMhGcxgvxz6ZMvvSvYbHnsiCx/UWVsONCJCCskj7gIGBMyIc9bBSIoERFRJFBhSeFSk1pgadIIBThQgTWkGiSSMetxWn+LHUraW7Cp/C1ilb5cdpb9WvLVAKW258RsagmW11VGqBW2asK6aJmzaGsc+4/RjThfWx4y7UFXU2sqmqhZnPT1JM5k9aavnKacx0T5KqrpDQBgx7MH5ALKgre+uGOErarAI5ghxCJkhGVMo/WLEp9rw7rTFSvcKjectgnN3C5JExHYER4ptOB8IiMSW4iJogEiXCBoSlYChqonNGVg9ZhZO/yJ4wDqgZZjJ3p1GwACZ/AVzWvq562H0mc/przuK9M1EIL6+Blf/u4xkLpxMgFZ6cClWjFuTa5qwrpgmHg4aBmwXYXRtfYzowvoY8KqouuBbUiG2pZ/tp4lB5nne2lWbqrK9HXtYU7Ih7Ae0EoFVvOueFbFFUgzyka2xBBiIQAOSkIQcTIH078I/3UbAXsjpxebY9jUlu7MVIMADDrnkCkl5L6HIPUdKs31cXyIdcsIwEGFQEcLgm+WQA6oMAa4w8ldrNdGoYHyiAYoW1NWRD1IKQvg7CiC+tAlT/Wp6HvR3DVANNjenFTNjNNystk44a4vDgGXRfL52rGvrbacL623lFfnPurqXoELSXaPKbCsv9vznPG+nat4eVZ0hUUYvvI3/Bn8OGY8M/2v7Tt0CVeYaTKOCaJVGQnDJBBMzYKEkDr8QLSt/qk0v5PTbHtxqKzwJle/rQcmlpj0zOtASaUYj7UkgFgICdDFtNZdYpOZS0Bw0C6pC284iw81FwQyflolwAE6BRz43I5hCVIT879dopX5N0sT2lUMk2KA2ABljGiKV+vciZXleC8uKdcI0aVk4z1wWzTPGsV9P/TbThfU2cReq8lK8rs1LyIPcckx3jSqQtjWq5jnlaUhT2hT2diIdY+Vt/Nf4liQIsMB/Z992qPhL5f9kRFIMCNHF6nAgyUglYyUSaFQVcsXw7yM+LR2eT+ml5gbwlW0saQ+lipAgmow0y6/cRCBBwIAEUuZhCEImUbSoZMo2DAH83v1cN5nEEBn0rVMPSIEre84QtnktyVEaa/s+NlP7kuRX8IAHa7NI2S2jLk2yCCWr2RtuVuYJpWzawtlcXVtvG2ytvd7rdD4iXjH/U82jtmjSeel37uhsoSqbpjzNKY3ZhsS3sai6R6Z9nP/bL3jv7333r+Mvv+87AdwA/4N9W56wfj5OH4fHM77LfnS1XJCcJhhEYjuTY0QCcosUmKh5xPFTbUbgkcdA3Nk3pBZysilaBMhMDskSacD2cv9fvzXmW/ga7cbLbSxNi+TMxnGwPP5+m7BltUJs2/U9/rPRQm4wIRszkRKSGWggvLVwb0QzNlMzNQtncxZnDa6RqnKJVJrVmrZxzwKVwYx51jhinjEMOBy6tt4eeoX1UeTJ9t/p5F4C3sK3FDfPttJ2AHBrqw/T+azyx0ZVdwjJRyDvCdAM/KX4zhz4r+LbTBiE/xx//ASshAMNUOAfxo9zx8BsyI5wgEi/1PgpaXqQ7HGE7dejAtj1ZmDaSktaEAFxu5NVSDQKgCLC5S3co1Wv0QpVDCWZDAbYZxsB/VwQSvAGD0lmApMhAzlZNmSDUUYYQEcgh2UHmtBEd3gwuFVeJVikEiih0lhK1BrrkkhjMzTeFi4jSsE43l8nattM7Hx06ML6qPCBUXXf2s6C8MRWNoz5MKdp2qLq7wRVbQQpwzbtbtuPFKDMvxrfjTZFG7+BfyIDSghABRC+Ib4QgBF/n/8ErGQGXUBDImwrl6qq7duAJtGYISaApNP26Vd0yjepmJLJoHBv7tWjtlabl9aKoWXWZMo5/8FkM+pPRgAjkYARCNp+NpykMRNmew1I0iAQFFIwicNmK8AFp0lTcAyrUkMUz2uzWqOUWCdf11SKQZYixS1vC5aR84x13bV1OGgY9q58562mC+ut5H7+8y6qLigAnq9Uphkku1dVvaNUdSYmwAqoLUWOBaCBAoUQ/rb/kCu5k5lrhUJ/Cn8cDgJ/2v7TMFTDd+PHaTCzhLj2IdVgqectQLOcZVlIgokWYoETlWoGV0gwh4UMIffmtdRavFZvJWrJ0b7CkA7g7P8ytFoUziEKMGbYQG5jBbcAFwkabfsdKfZemmAwSQLFFHAgYt8MkGf6YHlSzM1KTbXEutq6+rqmZU2lREoWnnHCbYGNXNcn2rrf2+rrxLeOLqy3hlflP0PtfKqG27JKEkgjbRz3gzXDZGnMb35Y1dvArGILGNg2BbZia83MoInN0QQnRAxZSYgW3xPviRYIfTO/ggQSvil9oZt9b/zz7OsvNPsjgT/s+slwmgmMZMqDWwJzcLvby0lPUaGAFCTMiCSpldJqq2uppXitX404hD9HWYOlNA4VOUQskACmtMW39hfuwtr+aYK2qARwbpIJ3IOpJkgIQIrYirMAyzTb1KyWNI55mmxdY1p9XdNabF0dyAzTwlJQ666tacLpZHebiT0D8RbRhfWR8or85/1TNeet+u1cHO9F1dMwmQ1v1ViFtx6C0F0GYduhs4x1IJIZzGUe1kQbqG0ZJ8R2PUWLv+nfK5dkfzZ/VViYHiUfzPmTNb5E+BLyRySY1ZSYMixvQjEyMQK1RTNFlmikZYERarWWUkupX+me3Q/uDxTfL8+Vg6Vvti/9Dv9RP0azqICLZiOVCIMIILQn5rHvR94NvNj/vTsSCcIU2p6D/UkIiEMbso+j15LWMZUprasva1rHVEqsq3kkC8NirWJdOU08B+V5OOyN+a6tj5i+S/jh84FRdY/mAEnFdjHDtgnINL9iAZgtvUNVBQDI5Mf5v//Xv/je//7Xvjr/Kv5y/U4aHh/s0bvz/IkzrsaWckVyt3TFcUR5HGih6vuPxe1xnAKD2bcPXwvwb9fvz67UwkJfZxZgJCuWfoDGlMgEMoAGD7SIFhEEkpE00TxUWvsTHqwtN88eHx/feC0ciHRAukZ9gMdX+F+mHz5dH+tw1XAITMBAJWPeuuzbwnBrXUHYKi1gr7Tuft7/L+IstT2kf/ciimiprmldUylpXW1ZbV1TKbkU8zAgkXRAA6YJw4BpintB+a6tj4QurA+HD3IBBCUAUmgbni4gjdPWVv/onVV+y8lm7/Zf+plf/PmHL778F17807nhf1y/a3mQHr1rGN414TBWyy2Su9kDjCPabZiH1cbauFS+3PDb/siREpPxv7A/NQQGRw6QUOZvpn/AbM0MoDlYqb3R5KZGRXg4EImZFOzvtPZ1AFo8174xNaTAJByF7yD+2xF2xP90+D++9fqbXjrgfz68px6PMR09zY5BHLClGZQI24MXMAjQOcG//3jPWMIrqrBNVdsr3i0ujURNZbWy5lJsKWldUim2rKkUizAhS5QBA8Z72hrHHpT/SOjCenO8Kqoe8OZVgEgCCu3LQDKPU5qnLf9pabgIVW1k2rvil3/ml//Ng5deGh/XVOPP+Z95+SH+4oN/YM9PGoeG3CJ7Y3rBcharW2tjq7kUe1z4vuIv+ssBGY0w6S/wW5hB49/IssxvNjBju7vCAoNzvtnGQmzrN7iwCJEwGwg0oQbkkOOvCAwMjgMwAsxIM3z633nM33r8pkdX+I7ph/z6EMeD56lycA1iJrMhE4na9ge3Ccv7ou9so7s6S0+cBZzbX2dVPWmIUZCxWS1p3bS1l1pp15Yn0CIMBg3Iw3bER8OAee5B+Q+P3sN6o7wiqt7W1kpwy1FhX/2FQMKYxsnmKc9zzpOdT9VchKp2CCAI0hLMcWBL8CO+af7amvF3+OOuHEqiKSVZeFpHKNMn0Zq4Su1baqABTXDDXxwwJx5mMRNZfzvREkKAgxUyWo7hBvJtfw5F+6bkRARQt7cj3C3UBDiw6jstvo0VpEbzOaCKaVq9yeXtWJmnxrHGIA5OJzORSCOEbevQDFsttX10tl+co7znl7vn5dzVe/I8URjakGMYvZY0jqlMsaw+jqmUtBZf10QmD3JNXvF4xTrxfL5Hd0d8urbeML3Cen3u5z9Dzb06Yh+rsH8GCyCTpWlK45Tn2fK4jVW4MFUBADLtBf3yv/6lf3v90svDTUnXWMb8+DB9xfDVpwNKSk3WXO9pP2PvSrSIOE2xPIz1UJb8vlP6998YL+FRYAFOgF9Dh/TgGIcDkv0ULdn0eSkjArnBKlStLHH8demEBhSAwAIIyNiDqe086obxXQRSYh5SzgPNLH9DSkj295ClAX9+/Pqa8B3X399emOo81jwVjSUGDBnM4LCVWtsG4h5cvV9zAfeEhSfV1gbv1VnbK9/72BI1tWJryee1Ydp2EktJERZuiuQJynuplTPmWeegPHri9A3QK6wPxf38Z8T5VM15SYD9+7FoaW+rT3MantwAeHGq2iEXTH41oCWE8Zqac7Hhu/ljwcOX2BeFTB5fPP1BpuFH/adFuXlYs2DOMCARKb6LQAZ4NSzX78b8vOaDhoF5iPwryZAVbI7avC4Vv7i2lxS7nrZnrZ0rqQb4ubwxQKPZfLBpUkpMKexH0vDFiK+H/6AxGiyZ/sv2lctj/G94D+eo3hBjzmODB0Jw40AmIgGSgiAU2Ass7iXc/uE7aysknRN1sPMy8vzxDUGSrNmBxzHGYsOQS4lp9LXYulo5sdShLomGlvDyim0bsRSMI2rF6dQTp2+ELqzX4C7/+SSqDg9FRIDn2S/b57XlYZ62wmpT1ds7VuGjwsn9BdoXpeNP5cc8OK9Z8uAaQrPs8J74V0kDQ1+YP5tKfyx9PlD/afyEIzyVlm2cAcBONknW5AQOtIfX+fAwjYPlTDMzAIrWtC7L47q+vJshAAEjMAENqGdh7eUV4Afj8Wo8XGMYOAzbfTqe/nniF9C/XOWf/A39sLz+WX7lqPjz/qV/7fRDUCQTmywpqIBA7uPEJMq0z6gBt6usye3Pt+IKACI2JW1/h3s1ZrBdVZAQsf0haM1mHgcfSyrFxsVmpNKGNWGhHq+sgZK1JbamCTnzfL4H88xa96lbPXH6WnRhvYIPjKoHosmx5T5pe8cDOOc/pzRMKY/Zho/BWIWPGr/g8UVIX5KHf5waEyNljzFigkbjZMzJ8JP8Zfj4BelTxJQwE+50ZunaOAnjkBXWpAeJ13Y1fdZ00GcO8q17FTDHzzs8uMbPlngydWsrowZgBBbAgQJgOyZE6HpIxwc4XmsclTNSDmNKMIIOrQ/QasTy1/Ee8vbb8TV/xr/sr9b3MBGZEWZknyQAACAASURBVNh67uL55iFpG7kMEKIo0rYjCdw3B4UQQlDs+uIWeiAYCIOCwhOdkSBIguac65zSrNkbllW3SW5hRoXWAi98fo4WtAlV9NXqFLVu2tqmbvXRzB9IF9bOa0fVCej8mbh3Y5nOqnpyAPApUtWGoB+XfxXwNcm+L9MtyTLaZJwGm7JSMhkzIv8L/Yrb+kfSJz1E/N/xEz5S1wlNLR8JJ/9kfh58mKeG9JKeG1AMv65fTaGP909Ug6rS6XPkf8/P2c7t1GHe6imgAA4MQAYMiIdZxwfD1cM0jhwGWErJhu34YIEtn+enn0MZCm9Mp+1t2jbOtDmQENtNPCBBac/HAtqPZN/tA+ouR4dtJfikwuL+PYvYjilJwp1w97/OQICeWHPybTyhN6nJmyxAIR3NR8tM4DaJ1UIuL2LY4xJ51OnURzN/IF1Yr46qh5pHc4UAinffigWmaczTvC8An1JVAXApoaHED7b4xoN9+ZzfF8M/qhlpTDZlDgMtSWYJMIEeUxhPpOPIQ4pmaIr56yyglngMJsTpJ7749B9NN3gp/cuH8VKWqv/0l7fP/b6iVCI9qk9uWzyrarssxwEZcmJOSJlxnfzhNDz8rGmObUz01v4WgAExvhzjstxyqWtGPgkLESkFzJTg+0wIE3exAPt3oV1D2NeAICD5OSa/vWx24/Zf7G7adi7jvJlIghCDrNla8sLbBcuqdfUa1TdhIh+SPTjY9bU0MQIRhGSEGaVIDF+Bymg6nXBOnHIc+cxr65kW1quj6q04I+J8kEPSuQOb5jlNU76vqnfWWeW3HGIyiN974JfltNT0uRzbcPh3GrNyBpOF0UgCDNjP+m/8gfSuz0t/4Kfzz/HqX6EW1c8N0Oo/hbUQvyJ9wQTcln/2sLxMMYfepS9kAwE6RjXMhm2kjMuFBChRpEAkYiCyYSQeHtMLX8AZIj8JgJ7cWwEQw3NIKc02VPuxRz9wY2kRnBPzAI4MM2SztL3n3O94vPf37z6i+0cee3PqbkmI/QIyQdjKs9iltkezCLBlaxnVblcuBesSy4paUGvUCCIOWZzGh9e4fogYJCFC7mwOSWaKgJnIpgqKNWQjq7NkG2c+29XWMyqs+/nPLaruCFdgv2Jq3yYCmabJtsJqnJINz4CqQJJKjqyUhgHfL77f+fvSiDR9uiYwveieSNuutQEEZAzv9d/+rPTc5wyfkUcMoWgYEn785oG8JBUpCfFu+yIQKZAggH8roclaQHnEAxq29nYoVMgwComgJctjGnKyyfz5r8Q4fsY5VvJ+NARghPDxGCQCrEqR+eUPv2SuaXUwXTENCjOZMVPZkCGjmXQutPaP6FYgAcC2b/hEWLurtpHOvocdJGwPSVOIEuBjcqvFymqnomVlXW2pqq7mkeh5wGHmeMRzD3S8FkZEqDkVag210f38yQfQJATppLQOKrxZcJowjnxWo1vPnLBeraqozes+bxx7x3TrsG9nlbcF4H6tFtPTraqdrW1Hk6wqAEPKP93SwfF7kgF8IeXti3zR9pUMAEn2C+3R787XTSiEZbjhDz/4/FE6VswLAAoJwN861zYuAMj5+zWcIyASmwNqAGiZaWSyZNNo0+GPIbMkevw72ScD9n49OmslAfh1lJe8tvDVy62WL7VPbyN+sP5/ogmZsmQEkjGRCVsLyoBtROD+6Hufff9v3wHEtgsoNpqbHHK5KwLnzAMCyZU9kjdDjai+rloLTytLQ4mAPKfgxDTbfOTDazz3gFcPicwQ3OGO2tCaWlUpqNtVb4SRyQAFWaKNphyNjxeUwmcyKP8MCeuup75F1UPu0WL/LKWg/XOVzOexCjaM7/yzyh8NQnB4grjtgBnJZLT3hUbF78gZBAzztnYGAKzuJvxieywiFAH3iM9Oz1fSs/yIH1n/H5ZV+KNm22RAGP4vpcTtSkNA2EaLhksBwCwxDUzT/AVjRspERsZ7/1D+VADv10sAH3sYtmkKuCKfs/Qb4QKS8I/bz5PgYGKSDCQChgRw64tv0dHtF2fuDEQpiLOqrEF1H6NMNzjMJQ+gFqEpLxpC2YPeyNa8qBSsLdamEk76OHI62DzzcLDD0Z57kB4+d52vcc5XUJHkudax1rGWoZTc6nvXBSRC+0QvsFERy0hLt6uWyZ69GafPhLA+UFUt2j6hansN7dvYZ1VN2wSYZ1BVABwSa45mHgi5Qxlk2vb6jbwNz0YL5JQgbc6actoXUwCYlsqQ/o0/bqpA+UPTx/8nz/3H/yzDVrD9xLbooRnPwjqvw0IesZd4zMPnZVNOyBM+f4IBSp/1L/xXPz4dALzkfqdLAC+HPzR7txmQfkUDbQSBvcluJOHidkB9sxXOI7O2h943AQVyK6xCEWpkJSpVkpxRzJu1xohIkJDIBB9Wz2skD4STjV5VWqyx1lBK6XgYD0c7HHg4aJ7z1XW+fnA9XN9/50VrtDYNy6is3VlYR7hLAaMijFQL0WrUMCY4lxWl2Hag+tnQ1tN8NOdV+c8tqu6KkEjbdrL3NkRKdwvAPEyWnlFVbTyKWsqv6uWXzB/Zc9HG8UW7Mn3CAQ9n5QkcyWR41f5o3tYmT5y1/3pxd7qrfo49N1f81Al3CQAZLINZ2wCFkLmzNQsRkFG0+P0WJJAh8n1c9rerAPCSI+0pTgsoAFe8wP2d+M0tyUmChq1D7gFyiydsCdVdW1tZpe2XUsSmKkQFClUYxVpFXa0180YGRouUmlIAqbTh5XW6belxpTvg4dFKrMJpzOlwNT24yscj5zkdj3Y8vnB4qDTCrLnjg6DtDLgc3hRe1aIuLKtJjDBvFCkRyCIxSJnzOSj/VEe3ns4K6zVVFYCH87wDCGBTVZ6m/caaPKZLPKv8ViOCxL5QEsK39AKg7XnZ2z145TP0qi+/nNL2CnNOUALHx+3xZ47Xv2/chbVZI2yLBOw9RNKYeG4l7Yu196ctOsrzowq0x753vrFvz5GKTD4SAD7I+V0Jj92xa5OCwkyAYHFe/ovaBi1K2iqsiM1YhSry1aKgLCwFrbBWuiMHpmwczAYihbCFUs2CGcmlUGtysF2NmI75eJUfXqfjMR2P7374fLMRTCA/hK22f2pCApPyGJKhcRw5nnR7C2/A9p0WAAplrCkq1oYlW61Pt7aeNmHdz39uUXWXh7ZtHtwvrDZVbVVVV9UrELXNb9+27/cdewCQsK+kX+9JuvuCvDPXdZ6hinMFtDVlzhXZ/v3jSU8sBONdi2ej+lY0nWMF5B5/IgCk7ZUJAEvEnNJ1zou7NrFx76eHQPBcTW3Xsu7RglBITSpJK9qi04qysJYtlEBvGIBhzDYOeVYemkxkqjYkpgTLZHiNQBaNPE55vhqurvPD63x19fzhQdj4uqp6FdzuFsPQkH3MzJmnG94uiLYvXUlJzUithpqWgnV8ikczPz3Cuq+qaLW1NRAtHIC2NeD5i4MpbcO597l6l35W+aOAA4ITTjCZ9jHn2KKVmybe6HP1SnNtf+tco20/CXvBC4Dc37Zhf2Vi3Tx17pZx/xOem5Cvbc8aPqQ0pwRgaduGJELb+b/t/3ZrbcZSRKBSS4oVbcHt4jcnloK6WnOLwEBiyjxkO5rNSCOZBA3DkObRNIgFg+ctTJ+tHSafr/KDB5/wwgs1H8D0plR1HwIDzDBVM10l5VGnhaWoNZyfSIFhCNXEYCu8qVgGPHXaehqE9ar8Z0TzaEEoQnef9RIAO/eq8rmq6qr6QEJwNEPNCHNEhFFB3xZge9N6k9abedq2L1ediwJtcYEnSQIAOAtxX+ZBOBdGkM4nZ84V3ut+1Jp7toR9Waqb2vaHBPaLcxSKLfrlEZVc6YvWU9ycdHPCUlCruZOKlIAp2xE8yK6QDkgjLQ9ZNrhS0Vi0FDYnlCXL5seZhwfvvnqoPL/Zwuq1UAKIocE0DRwnret24QVa21aI23VAUtCU4oYt89GCYX6aJspftrDuQlW7quTuNYhQEKatsyGRtJz348rTlO4tAF/vEZ45QgiWoTWsgSUwU6GctaBt7eq7bbUPA22HWCQBEYF99OGrOf/mXem0/SRgj3DaXlm9vjFbeITGlBBxZQYFxN9sVcK+ClQjm6kiSquryom3i25OOK1cqlEyysaUJw6zjVd2ONr1AxsPtLzfHGbB55qWlWOB+3aHK6b0KQ8eLPlKaWhb+/+twIBBSUyNg+ZR07Q7qxS0tq0QIQUgAvSklsJ5m1ArhuEpmHF6qcJ6jai6Yu9Vwc7LFgm0YbjrVaU0muWuqg+BQ6ZFt44AAqhiaMha3LWfW0rnOuv13tYrkbBFxQPYggvbym9jK5e2eorYauK7hSLuP1iAkozb5t+HYn9E6KY1VzwkoUDEu6j3eYEa2RKa1YJS21pQ1yiLTgtuV6suwi1bntI4pXm249GOV/n6ehivrsb51bIcIl+35M5ttBa12gymt9BWG1t1OSIHUuOAw4S5bNWW1hWt3S13sY0Si2LGVAvbiGXYr6q+WG1dnrC2RtX9qPrWqyL3kgp7eQwbp3RXVaUxpX0B+HqP8EwjIRhEIIQmNSCUFIQLLm7SgUjp9QucO3Te0gvAz87aluL7PV/EeWV+Lqv25vq2At1XhS6FZCQk2gd9H7b1YwC+z4J3p/9atFC4xyeDn2LtV2JJZc2loVaVGstqbVUtWqqaO8zSvM+PnWfOU76+Tsfr58YrpPxaj2qNY8vYXSG0iD2I/1FBBoxIoeQcYhoxTphWrCtLYSnbCnF7P50MerI1RcVSeaetC4xuXZKwPjD/GQi/O6t8RkAax3w47GMVtgOAT+NYhY8GJD0AeIYbpUBCZAhsIQ9sM1kYkOHNOmurgbV5JADsEW7mD7I23KqJzVYBecjP6qK9YgPxDkkiHQqpxbZCc1cTmiNcjNC/BX5fap8z1OfW5ScfnVQqa0tryV6ttVVyDnmY0uGY5nl/uTq+6+qhp3kL5X/EDam3DANMJkzO0aeZU1Vbta48nVDKXYkqsgFON4sUlbcrlvMVPhelrQsQ1v1Q1Sui6sC2xUTjtnygMU3ztgC0YXxGziq/xUgOwnxgS/DqyAghQA9tFdaWutzD4ls98Uaf4XPRtClvG/QShIOC0gd5M3vv7A5gswZeuSyVJNCB/aSfmkcVth+jAYJJ24QJ/LziD0NG/1KuP3x7Ym1cHYwls2GyfBiuDsPxyubZ5vl3PXhQh/nDCCW8bWyFasLgyJ4H5AnzjLv21jlDu3/PgJv5FpRnLRzGC4puvaOF9YH5z4A3byBDICmIpCK27T/bbhIfxpxGoz0rZ5XfUgQ0tUE1y1mcpEUkBdkCNRAB27pb22CV7aq/+92mO17jyd92/bT9RIAwBiDIgK1q2ztT2mUY5w79Jq27t3B/i3CzmAMOdzVXlVp4kdeIFqZKMxuMFEgzKUj+bMQY+gra1w72j4Iiw5KnMU3HPB/z8fAZz79Qp6lMB7cRTFtE5p3ME20pRx4jjdvt0ywF60r37UMl0qVg0DzBbV0vKHH6DhXWXajqlVF1RWxt9btPVsHSsJVU45CH+XyqpldVHyYVPnhJt/5V1cY0fs/tGiUSIiMqWyi2JeGTnpT2nMGruGex7ScC2HZtjRS2MQkMQdh+Z5sL8WQH8K6eOv+899pxtuT2oNsasykczVUVRV6iFNWq5C3JlWkpmYHG/7+9t3u1Nfvyu75jjDmfl7V2nfpVsDtERREhQUzftF74FmgTm2gidsiFVxEvvMofJSgI3oQOKAgSTRPxBdPghQZJTNAYxCaJJN1Ve63neeYcL17MZ62zzqnz+1XV75x9zl57zw+H4lBsdr2t+u4xxvx+xwhGMEBMnMCZ5L+P9G/S9Juc/8pgnigdJoyHf/HNNzaP5fhQ5TI4j+euVlcISEQRyZFMBhxGHzcex9i2Xbb2ryOPiDBm53eN8s/ZuvXsBOs9q3rAqhYH3I1o3/+5/5yQlIZZxkHGSdLQperjiYCi5q3+CdAfUk9F/5xxMVLmv0v817QG+WUORfuLLBH2dw7gWlUF3hlvXVpHov3gDIEM8CZqRLZvlULTrIscRnibdLXZ+z6kZ6b2RBgRTjC4hnlU9+K2RVljq02tjCmQhYiJpaV+iCkEBKYY4BwOir8q6V+Z8a9NKLN8Nw5/MD+s84NOx4WSBD3l4PwJIUAARpOt7HNt1Va0gusmQWyAXfI9VA2bUBqereP0GQnWrf/zrVXdDITLWJ32Ty1zmg8yDDIOkkbmlCS92qzyp8UQwpbUSeO/qP7vGMORIgb4ryV4AMx/X1td01q3oKu9M96WvnTp6trc/PonGft/JwIctLsAgGj/jdsylQiKdushcFn+SQACzMS7tIVTaJiHum9um9ct1i22LayGhDNRZAEELJCEgZGJEhEHoZ0ii0mgKaT+Tx6/xqSTnOZ5nR/+EY0DpRfwo+8d2eIc80Dj2DQrto0irmWwoz2jrMLy1ij//Bynz0Kwvm9Vb1J1zd+2sToAybn5P7tV/cngX0v0K+z/tTss/vKmQ6XJ9B+L/VOXk6Z/OKV/WN0vxW4rsS6aFUT7NJ4u5TCu1VYrqJr9KnaVoj0J1No/EHA9q9VEihBMxETC3BwQRmEwixJeTTevm60rthJaImowOCSRMCWhIfHMPDONifKuQUSBbMhxyMSZckX4/xaIiW06CM2Z5SV9ot6ttgYcxpgKbh2nQJsFA1QRRCrkrBvVtDtOn41sfWHBinZT6z2rOnY7NbVt/0CEc86tpErjxCkL3+td5ecMERAUFMLKMHfXGqMHR0j434hCsYxI/5zwryQG6B+ZU4Ao9lH6Vbz2agnAvpuBrqPH2NvFt7IFoFVb8ADCff/J3/rEaNfliYj2J0WqDg2v4ZuXzZbNts23DVEDRkTSblbQSDwxH1iOiafva5AgBSWbRpo9ov2DkCC/1JeaXbZCHGKUYxowjk22rrHERgBGcDb2Z2eU/2KCFaX4xf+pVg2mWqOlavaXIgeIQDwMTap42FM1Xaqejl9l/qdRf0cVNaABBxfniEQhcI3qsL9n5Z+RCcAfSjc7sAIA/rFp6wEvfVz7PXb1uSytaaUW9iaR2npPQjjCw1szSCAGCRGIHBEcIHdSQOEl6urrZstmy+ZWHTUAYcmcmTLTIDJTPshwzDyln2PaIiCRAALC2272RfNWtuitbO3PiKWglOtXxn61SIWruNEicXGc4stZtz67YJmFWZQS6+qlmFePWt38OnlliXYLCeCc+bpWQQbm1KXqSbFAppJWj3qxSwVsC6hL8kSuqE7qyP+PVQH/EckA9iEVAYhv2o/fveAiIH7frDkg6KpctAsZCBFoL48ebdFoeNuQvH8NUZu+S3BEuAU0rKCssZZWWwWZhREkcRLKwiPJIPMsxwOnOfP4Uiumj4HoWm2xUY5pxDBGuTHKtyKXGS3sQEZU2QstNdaMYZ/Kf34PxGcULGtjh4J1jVIC6l4MXtzbMzmAy2cfkgcZW2E1iWTmlDgR0KXqSTHEFBufL56FAAG+BYrz4IN4QbUojIFIgPh/XelqjAIQ8YcloT3qEZpf8WdEkH2q9ftaCcDeEVIADndyp3C03ILtR/68jYOJ4UQu4WGuqmoKK1QL1gIvAXPnRJk5swwsg0yzzDNPM8uYX8Tg/OkggoA4JCBKCeOwy1Yp+3irfdnls2BkTBtHparRSq3pcnbsc8nWZxGsJlXLglqjlCirZ1fabw2QcJhfRhkheeQhyzjJkEXGnlX+nDggKEM1rBc/O4ASKM7hyU3YNIqjOgmaLhER9hkWEX7PdO+ufJ9A/QrTpWeMnzHvz1JM/5/XgAc5YAEDjMlBBoQjAhQWYp6KSxiFIYLUwqpbjVo4lBnMiSmTDCwj51HmWQ5zyrNQ7gmHHwkR6O0SiBTjEEO5Ok6pFACt4AqWtraZYuVgOq17h5gzfS7H6RMLViup2tmiZUGtqJVSrVmA1IopuvziaUzDwMOYxoE5iww9q/y5CTiBuTIcq5PCLWgFqUt4gnPUiOJULBg0AEHgyythG1QRAXCnaGs9/e8b9k4Q+BVmwMEhZH8kmZBLmIT9Hd3gBjcRGFF7JBRygfKpijvBTS3UyBVeQyxCaBiZRkojpZHGSeY5TbPImKj/hPvJNNlqSyCMsg8DDWOUi2+rFFxLrYATKeqohrVGzsj5OpV/6juvTytY8fh4K1XYtqgVX0MxSggu/wrSNCEPlAfJbawu0j9zX4KHlL4y/I5viT3cY3UP4ByhzuEZnuHGFlH2CosS7cfzgIsvq0kVOdCe3lrvh4jw3wsjUiaH6h/lSKpsJqq/7socMVJlqZAq8r+qBSPIiDecNlQj82QOaAwwysSj8MzD3KRq7wFl6BOrjyMYYLBjNOQYB+QxtGC9yNalWFbYEBseN8oZ4xi1tjorSqGvv/6Bv8hH8LSCBcAfH3E+k2rUim1DaD2yIRGImTBkyQMNI6WBZRBKvar6kkQEgtmgTiXIQQAZqAaZi3gmr1Cl6sGtMKZgAqMZqjzIsddWvvs/CWiOdCZjVA7FplD922owdVWY/RsZOnGNsT0Lk9Ov5Zxd/5YSALADlUzZghKcRqJZ8oGmWR6OMs08zMJDYumfm0/FLlsxGKXIQ6QBtUQbbG1lv+ejS1o9toRaKedIKcz4m29+6Ht/FE8sWMNAIlCNx8eoFaqgQp5MBk9fj8Mow0h5IMqMLlXPgRjCSJulBGglcCAWhzm3rhAGVCcCOCJ2wXI0lxQFyAnutBdcTnAmZahY5VrZLFTDqqtBFWYh/t9JIh9SoC3et6B/XgSIf5nTg+TfpUoEI3ECMVGaaDzwfMxfP8h8EJlSH64/DZdqazBKPgzII+qmeStltfr78CVWBYbWD9LDA0Se2u7wtIJFIiES7a7v6USqCOVvRp6sTsTDgTBnpER9QPrliQBIc9G2P6EV/wwEUJfIFkyRKRgGsojqIIE3IzoC4URO8ObvBDyYXGCJTKxKVaoVpUS7xt5uFarSAOckIYIsSIIhKAvL3wsQ8MfzpAki4awygsJ5kphnHQ/p8CDzMadJenr0ibnKlkJqSvXAJde0GLbijxtRRUr0s5/Ffhb3CQdYeGrBggg1wWKmnKFKBlo9F/WjEZnv2/P7J+55QD66RYn2AtgIwAqytUUHnikq6R6jCYcTHAgKA4Lh1HZ9JooEE9dUlGqlUqlUqIZWqJIZwiEUMSSMvP+amSZHEkqOSMn/Dy3/7JvDH6Xxb6aFIgTwgdLhINNDHg+DjEIfdoR2Pj0RzdRr7h5KRbE6DEignNH+H3/6h8InFiwAIjRN0ZJnKWFZqNT0XQ2c01cSk1eaA1OGcHTh+pJQewEhZfitZhkADfKg8ITIsBEk1NIzFo4wgsOvgmVgjxyRwkgrV6VS0TYRq0KVzcEwkcBAmIgmopnkQOkIGhlyHGbACZZFRy5wgFN4AMGTyHxgOQwy9Mrq8xARDlTTYqvaGtsJ6zlO1YrLNPE80zzj4YGm6anVCk8uWCL0zTfBTDkHM3KmnEmW/J2xP4Z5PKgf20d4yjQkEL390d75/JAzhIIQXiIABxLaqx+xgsMze4RmcITDSWu7pg4yhDEp2CIHcZi7k1ZWQ6lUK1Vj9UAYs9NAMvIw0jTT4SAPDzxNXw0P4OsHkoOkRP4DFjoK8thsqDSK0NQdoZ+NANS9eFVdaz3r+RzrGes5FqPhwDLTPGOe6auvcDzS118/tWY9sWABEOGvv25R78iZcoaKoNJpcVVXJTV/0BhsC3OMKfpjz5chicDtd8O4regjdsa+C0opzg42MAlFJo6g1gaKhhqKIgzSfjlJBIe7G8y0VqnG6lB3JpOMPNI48jTRPGGa5OFBpuPDcLjeeX5nDTElUIppL/i4+SS6Wn0WzF3Di25ma11Oupz1fIp1yVozjTRmSkfMMx2P9OYNfZZc9NMLFgCR9oJAwxA58yOzrYLNSrHf/9bVSNWP6rNWMqcpI8n+SNX5zER7FvwP6LeIYIRHxl/S3w6HnzzCwCC4XFJ+4SEGOEyRDGzBBg6Ig+HqCnOvpjVgwUmQR57nXa3GkeaJDoc0Ho95xi9cl94cFPvvOk9PRFhEda26al3q+VFPiy5nX86ZYuQh8cgy4eGBHx5wPNI8/9C3/DR8FsECANA8Nxc/ROKceeMEZi/23aOZoVZUjQd1sQ1TxpDQB6qflwBHxRL/Pv/pGbupVxz/Ef/5RMCGGvjP4r8i0HVRSwg5KBzJQ2rwGmxBHhJB4RRhFlq8MNGQ8zyl44HGkcaRpknmmQ7zm/EhKP1itep8ZjxC3auVaqtu53p6tNNZz0tsWxIeeRQeeTrS4cBv3uxuhs/F5xMsABDZu9xhiG+Z1sQQRqFlNdXmyrGjxqgFs2Psk/jPTIoSjxYOBP4T/20LFOAv8p+ngK2ggr9AfwYACJGgA2pQYfzn9N9CAFEWTUV5c275ZQ8P2MiahzRNfDzw8UDjKPPM08TTfEwzSEDP6GrWKyciPFBdq221Lrae9XSqp5MtK6kOnBMPkiaeZnnzRo5Hfnj4oW/5ifm8gtV4eIhhIBF/zHxO0HOKjavSt9+ZmlT1B42DKbVJfPrg1crOpycioFkrLbsJSwAH/lP/bTHyMwXwH/KfC8AHVKEacEZl/Hv8p0A0AP9l/W8oFWqdIMIBZ9JxoHGWaebDzA9HmWeZ54fh0Aur50abr7c20PY28Kynsy1LIhYZkoxpPMjhkB8e0ps3/MQe0Q/yJQQLwDD4N99QzjEM9J2gJI51QK2nk6lBa1SNY43BSkyOIePnbGDrfEKIAia+jifICgkUgNv+4hJRI4D/GL8dI3seOaaMmSgb8W+kXycCEX4r/tQskAF/Sf8KR0hAEqdx8OnA0yzHgzwcZZyPeQaoq9WzwiOqWfWiutb1pKeTns92XqKUgZNwTmmSaR6++iofj8PDw1MbRH8eX0iwAIjE11/vO8BOmZYMO2UQb5uquhqZ2UFj0kqtknIbPAAAHEtJREFUPeyT+CcmglFlPQ9nSAEDFaDmwwq0VzqbOOaJphnzwceJckaSv8p/WxhJ9U8O/4JnpIo/67+JgAdqwl/O/4uNczoc08MxD4c5Pd9zpK+Tm/n6prrU86OfFz2f9XxmjyQ58ZDHY5rnfDwOb96kzzVf/yBfTrAAADHPIUI5I2f6jmCrYCOr+u13piq1elV/UGcrNCXPCdRPzj8RBD1u57xo2tqrHLStXW8/Jwg+i8+77waHA80H5IwkYGIGVH+n/F+Qgq3+Bv3xZiytCSk/pPmY5+NX4wEsXa2eFR6hbtVVddVyrqdHOy96Ovu6JpYkg8gow9QKq/zwIF+iDbzlCwsWAAxDtEm8CE4nWhPHOVOl89Im8WTmR8VolSePIUOkvWB1Ph0V9lBPXz1uXIN3GwEcLXoBYmBOOBx4nulw+BMPv74+oEzQBCeAwUQC5Iq8xlBBBnIE8D/T39Vp/ObwxmVsbX1Xq2dCm69rWNFNddH1ZOelnk56XlA1cxLOeTjINOfj8cu2gbc8A8HC2/aQhiG+FVqEbMlUuFTV765GLcxqNDvGAbm3h58QAxzLV989PjwqA3IRLLSuMBHNQ5onOhz+rYd/fT1gPWI9wBL+Ab9zZPRXB5GMXCABOP53/YeR+GfjIbi3gc+LiH2+rrY1m1UrrPR8FlCSnGRMw5zmeXjzJh+PX7YNvOV5CBaAa3vYEjznhLIIFvJqjydVZVWvigeNZAVTim7U+mQoEHF+8/j48LhxibdtIGCZYxr5MP27D39yO9J6wHLE3xj/IPM0cn7v+/wDGAgYATgiZmAzD07qd3k8+aVytVmprXU718dHWxY9naOURJw45zTLNOfD4Zm0gbc8I8ECLu1hOyL0LdPGHCtHoWUzNarqqnFUb5P4GFOIoLsePhaLAG3H7XRcz7Q5tbUMQSaMcaJp+jNf/UZ9oO2Ivz7+njRj+uXZ9rZuSm9bhnaRHkLoavV8aPN1dau2aV10PbWqys4LzDKnxEPKk0zz+OZNOh7zPD+HNvCWZyZYAESi5XiuRi1bEzaqxb79rl0Jg2oczdgcY8YggT6J/xiISEFBASYbx2Vi5zA75CR/dv5NmhFH/I/z/8mHBx4PhzS1HxHfb/F60/ec8QgLL1bNtrqd9Hy2Zamnsy8LE2UZk4wyTOlwGB4enlUbeMvzEywArT0cBso5ROgsKCxgjkKns6mSqqnSg3rSQp4w9Mj0RxERTGCqNNExnwkO/Bb9298KyoQ44Hfn/5sfHr46fBWU0IXpDmkx5mpFddXtVB9Ptix6XlBqIskySBrTOKfDYXjz5pnM1z/IMxUs4G2phWHAKdO6kC0ZhdZialEVajhqTKbcjVofRTt1U2l8PKY/Hf8SAAcKozL+Wv5b4+H4q19/VfKMrlZ3SAQsrvP1cz2f9XzW09mXhTyyZJEh5bnZrJ5nG3jLMxYs7JoVw8AizsxngnECkVb67tHUxNRUcVBPtsXYI9O/HExImL49BM/+1/VvRuBfTX/sf/C/o5L+iYeHOh88jf2Z7x7ZbVZW1TYtJz2dddltVkKcZEhplLy3gcObN89qvv5BSFV/6GueAWb0+EinE04n2hbECqoK05zieIjj0Y5zDAfQLDH0yPRPxUEFp3+yOIeTBwBjMrARb8PUn/nukeuaUPVS68VmdT7beSHVdJO2eVY2qx/keVdYV5pRq22IPwmtAlsSFZTq9p2bQasfNA5mPHuMmVIC9+WlPxJGZMynGW0lezs1b5AI1gh0tbo3rjHmvQ08nWxZ7LzYsjCQ+P02cPjsSxd+ae5EsAAArT2knHHKdE6oS6ItvOp3j1AjNW/LS0ULJu+T+J+CgDZDhLy7Jq8r/v1h7upevbTXwPp48nXV8xLrlkSEckqjjM/UZvWD3JNgAe/leJg2JnC+2ahFpn7QmEzJHUOfxP8keh991+zzdVP1onXR5dQmVrasZJblXtvAW+5NsPBOjscfM5/PMEnYuKp++52roaqr4qAhhxJjipyoT+I7L5xrjNls07K3gXpe9m1WnG/n68/WZvWD3KFgAbjJ8exGrcqMLUfV0xlmZGa14sE8a6UpMCZwn8R3XiQ3a0KL6aLbUk97G4hSM4twTrLbrO6xDbzlXgULeDfHczVqUaF1a+1huGNvD80wZvTlpZ2Xxu183XSp57Nd2kAOF07prmxWP8g9CxbezfE0o5ZzQmFV++5krT2sFUcNsUpTdKNW5wXx9lqELlba1r3FlsXXTZgTDyLDC2gDb7lzwQJwm+MZhmbUYmwUBedlX6dl5gfFaBXt9KEI9Ul85465jTGbLnU57xOr8xKqiSXLwDKme56vf5CXIFjAO6VWM2qRUyblWu3b70iN1OJgfjAjc+qR6c4ds8eYtaptVs/1fG4TK1sWDgwyMKeX1Abe8lIEC29zPLdGLQG1jVpkaqqsNY7qyQo80dAn8Z37IiI84hJjXmzbzeu2rnsbKDnJHdusfpAXJFiN7xm1OJhQbdmg5m07TZvEwxxjpm7U6twHEbheYzZddTnrxb++b7OS/CLbwFtenGDhpj28GLXI14RCtdq3beGyWa04tCvTPTLduQNuYsyrlkXPZ1tWW1rahrIMwm/n62ma0gtqA295iYKFm/bwxqglJBTFzmdXDdUwi6NFtormiRfupVbn+fE2xmyb6qrb/hroyxq1JpIkg3B+wW3gLS9UsBq37eGaaV04mKPoVqDmaqHmh4rZjGzfqBX9jFjnGeER5l69zdfXupztvGgrrDwyp9SMC9Ms0/RS28BbXrRg4SbHczo5M52JnBIxWbXvHr154lWvRi1HTsFC/YxY58vTYswaVetybQN1Wa7brITzC7NZ/SAvXbAA3N7jEYk1U1kETCi+rKoqVV3NjxWjKSanHpnufGEuMeaqXkzXtzarZSXbjwaKjGma0zS9+DbwllchWMDbHA+dTs2oxS6MQlXNHlv8MA7mszrPBWNC7pP4zhfhbYxZV61LewpshRUHEmfhQfL+GvjCbFY/yKsRLLxrLs2ZzmcoS2zsRqez6dt7PJFMaYroRq3OZ+V6jfnWZuXLqssSW0kszJLSKMOcD4fdF/oK2sBbXpNgAbi2hznvRq3CFDVToW0zN1Jzc59rzKZkFkNfXtr5PLQYs4aqbqqrLmdb1/YaCLMsKfFAktO426zSPL+SNvCWVydYADAMIbJHppdM5zOBU2xcTfW7UGXVMPNZIXPFGBgkqC8v7Twd5r4PrWzVsrSJVWsDEzFzymlkGdPhkOf5tbWBt7xKwcLNDbFWap0FKhxbQqXz4mZtEWAcNQarMKcxIH0S3/nktPm6uqlvWlfdFj2dbV1tWVFrJmnzdRnGZrNK8/za2sBbXqtgAQBinjEMb41am3CsjKpbaWsewt1mpfno7DXGQBagT+I7n4oWY66maqvVVZfduNBsVtJu27wmm9UP8qoFC3gvx8O0EEVK2HajVmsP1eKgkaxgTOiT+M4n4Ga+vpltt4WVrWtiTjJIGplzs1nJNL3aNvCWVy9YeCfHA5FYV6osQUyqy9qO8bTXQ4w9Mt35BARajLmq7TYrPS++rrasoZolCaWUJxmm12az+kG6YF245HhoGOIktDFFydisqn33CDO4m1bMhxAvGFN0o1bnl6HZrNTbNeaWs1l1WXxZGUj7fH1oNiuZpt4G3tIF64bWHg4Difgj85ZgLCjklU5nu3ji46CRrWK8nD7s3WHnR3FZE6pqZW8D92DgGqUItW1Wg+SJx7GlbWQYulrd0gXrXUTe3uNZV5yYlDmYotBazBxmzfFA89HJK4bokenOj+AaYzYve4z5EgyEWmJJMogMMkz5eEzT1NvAD9IF60NcczwicRJsQsEJlWo1fTQzacseDjXSoWJ05D6J7/w89jWh7urFvt8GEmUZWFo2cHqFaZufRBesn8NNjgdLxlngRYI4tBm1cM3xDKYYHUOfxHe+z74mdI8xb7Yt9XT2bbO2zYpFOKU0cRpebdrmJ9EF6xfxTo5nXWljijVD61rQng7NfVbMc8ihxNAj051bLjHm6lZqWWzdCytb17bNijml9NZm9TrTNj+JLlg/xG2Oh5tRq2ZspmqPJzdvZ8TiYJEOCo9m1Oql1uumrQnVdo35Ml9vNqt9mxXnq83qladtfhJdsH4E7+Z4Yl1JWaJQFDsvrgozV6WjRTNq0ZhC+iT+1dLm6y3GbLbpstTz3gaS6e18PV0Kq94G/ki6YP1YrjkeEolVaGMGM4qWSpc1DzErzXMkrxiCBgli9En8K6LN1y28WjEvWi6F1br6upJH4iQyiAw9bfPL0QXrp/Bujoe3BOdE1a3a6dS2ALb2EPmgcKch9cj0q6HN19+zWbU2sNmsRHK7HS/j2NM2vxxdsH4it/d4dqNW4SAmpXUzVaiFmU+KaTaeAz0y/Sq4FFb7tQhdF1v2YCCZXefrnIdus/oYumD9UlxzPCJxOmEjwpZQWU0fH92syVYcLJKXsNQn8S+XS4xZqxW3mzbwEmNmyZcV7FNP23wkXbB+WW5yPFejFmPLoXpeYBpmbkazxXiw/fRh4kCfxL8kPMIvMWbXt22gtm1WLMJJZLy1WfW0zcfQBesjuMnxQASnEykTSkKhrZoa1GBuqpjn/bYFZQnqZ8ReANf5unpV3bS2zetbPbdrESGX+XpvAz8hXbA+mpscjy8LLUTghI3M7PEUbvuV6cN+28KRI0Sot4d3zHW+bl5VVy1rK6x83ZrNijkl6TarT08XrE+BSMzznuO5NWpRtfParky7Gh3MR3WaKw2BJN0Tf59c5+tmRXW1dTev+7qGWuK21Hi3WfU28NPSBesTcW0Pc37XqFW1VjIj93CHaswWMvfI9D2yz9dd2zYrK6suS3OE+roi4nLidOhpmyeiC9Yn5ZrjeWvUWlOwu9rp7KpRFWo4WGQ1nj1yj0zfC/uaUKsW1S7z9V2tLtusmHO3WT0pXbA+NdccD3OcTliZrHCsBLWtwCzcm7nURwueC3pk+g64WRNarF57wM22FWqJLksX8tDTNk9KF6wn4W2OZxguRq2aYiM1e3xssrW3h2lSTD0y/Wx5J8asm9W1FVa6rL6uTJQkCw8sOY3dZvXkdMF6Mt7fqHWGs8RGUDufTVXUrE3iBzN2jyGhR6afF9cYs1nRutq21mXxdbN1jVqFOL1rs+pt4FPTBespefceD04nMuYohEKlelu47B6TYrbgWanleKhP4r8479ms9jawTay2FeaJ9qUL3Wb1OemC9fTc5HhujFrVrOLx5Kpt4XKbxCsmx5CoR6a/JG2+fhNjvnkN3LZ9qTFnlpzmQ57n3gZ+NrpgfRZuczzNqGWrNNPDtrk7Wo7nYD6as9UYu1HrS/HWZuVF626z8nXzbQvVxJI4M+dus/oidMH6XNzkeJpRC9tKoAzVUqFKbRJfNQ4WYpUmj9wn8Z+T63xdrZpterFZ7fN1IHNiSpLGNE4yTb0N/Px0wfq83N7jYaZNEGsCkaufz6bKeim1shlNjiGFCPok/sl5uya0vQZue2Gl64paBSTNFJonGcd8uRbRC6vPTBesz84lx4Ocr0YtwcZQKrWdPnQzPliMFmK1bdTqy0ufjNv5+v4auKdtNl9Xcmdwkiwy3tqsehv4ReiC9SW4atZl4TIKUdSEAlU6nUgtzL0qbiLTfXnpU/BujHlP29h1vg4kTlebVU/bfHG6YH05bnI88ci0bQhOqOaF1sXdrpP4GMxprOiT+E/MbYy5tYH1Ol+vNREnzixZZOCetnkedMH6otzmeNa1GbUEJKFWqqrBLMwxG2YL9reR6V5qfRy3MWbzYmXVy45QLxt7JE7caquLzaqnbZ4DXbC+PLftoS8LrURgiUpudjqbeZiFmc8W2axdme7LSz+CfU2oVfNq9k5h5dsmxExJJDO/tVn1NvCZ0AXreXBzrvVq1GJUgtK6WusNVWm2mCzIKk0CSRCK6JP4H09EBKBu5lptc910bZtCi60rVBOLUGLJknebVW8DnxVdsJ4NN+3hZRK/EjYhpVpNlczD3M0wG8QVQ2AUkPTHwx9Hm69b2OVaxGrr2vzrsW0UIa0NlLc2q94GPje6YD0v3jnXykxFyItgI5iez27KZmEWk2EwI3caA9In8T/IOzHmG5uVbZuXkoiZUkojy9BsVj1t8zzpgvX8uMnxxCJYmZw5SqJqW/G2UUsNs2FqpdYYkZtm9VLr+7wfY9Ztv8G1bb6uYZ5ZUssGpqGnbZ45XbCeJd9buIxCHMyopmaPJ6iGe5vEI5nur4dJQNTv8dxwjTGbV9OttYG2bq0ZZFDiy3y926zugS5Yz5j3jFplQ7CgUqgtq5tHu9g6G8Zm1Br27TQ/9I1fCR+0WcVWbNuiVGFOnJhzawOHh4dWXvXC6jnTBet5c/XEXxcuOzOYUK0Ud4Oam8EMkyF5DW+e+FfeHkbA0fbDVPd9vq7L2owLcE8sbQV7awN72uZe6IL17LnN8QyDLwutZwIlUlMlO5Obu78ziY9XHZl+O1/3useY17XFmKMUBkm3Wd0tXbDuhO8btXwVEIViWaEWbQvgbNiNWkMgS/Criky/F2M23fR2vq52bQO7zepO6YJ1P9y0h1ejFqMSFavqdrqe5GntocKd2iT+VbSHtzFmu9qs1k3X1beNItLlNfDWZtXbwPuiC9Zd8d6aB2YqGwUnVHe1ZY9MR5vEDxbsNfw1TOKv83Vvr4Hb/hro23Z7NPDWZtXbwHukC9YdctMevjVqgSmqrYXMTQ1maDkeHivcX+4ZsXdizO018Ha+bpbonfl6bwPvmi5Y98kHcjxERInUqpKZ30ziI7vBg4YULy0y3WLM7VrENW1j62bbFttGgcSZOb3XBva0zf3SBeuO+V6OZ0MUAZHvk3hXQ5vEj+bwSoMgvYxJ/HW+bq7qxWpL26y+bbZuUGUikSTvtoE9bXPvdMG6cz6Y4wEjKkpFm8FfjFohZu30Ydz38tJrjLldi7C6t4GtsIK7fK8N7Gmbl0EXrPvngzkeIiZVVbKzu4V7m8TH4AZzGu53eeltjNmsvC2stq0dDXyvDexpm5dEF6yXwk2OB0tuRq0EslBaNzf3yyQekwW17TRZ7moS3+brFvYBm9VWoCrE19s2fb7+IumC9YL4kFFLqArUqpqZu7dNDzSbp+aJz+lOlpde5+vtWoTXTa/GhW0jjySJ6f35em8DXxhdsF4WHzJqIYqgkpudz2bKamHGs8XgTlYxCFICUzzTSfx1Tai6WnsN3PbCyrYNpQozf2++3tvAF0kXrJfIh41alaC0VTPfDfFtoxa70t4ePsPlpe/O19/arKIUW1dyFxZpSxe6zeoV0AXrhfKB9nA3apGan84wvS4CjNYeUn5uk/ib+Xo13axu18IqtsIE4d4Gvi66YL1cfkF7CMOyuTmZuxnPhtFvcjxffhJ/G2N2r3qxWbXCKqoKM5MIZ06DDL0NfC10wXrp/Pz20EptLi03CzWaDTIq/IsvL31nTaiVq83KS/FtI/fU28DXShesV8D328NKRJxC3cxOZzILjzbVosEdXrFHpj/zJL7N19/GmK82q1LawQhhFs7CiSj1NvAV0gXrdfBee7gwaqUordTSdQv3vdSajUcLcUV4pESfb3lpBBxQU2umUH2nsIJqvimsOOfeBr5CumC9Jlp7OAzIGev6ttRC9VLJjNyaxZTaJB5DYJDPsry0zdctTK2YFa9bi9p4KbFt5MGcEudeWL1yumC9Mr5XalHZKEhYYRqnhdXoYnqg0R0eLcfzZJHpd2LMrbAqmy2rl2Lr5qUkZpHMlPp8vdMF61XygUl8ESKC2lbcjc1cLdR4tmC33aj16SPTbb7ebFbe0jbLquulDTRPLKnP1zsXumC9Vj40iWdiQrVqbmcyiwizvT109ohPbNS62qx240LdC6s9bQMIS28DO7d0wXrF/Jz2MLGaqy+ru4vZviR+cieLTxSZjmhLjfcYs2vR9W1hFVWZKDVTaG8DOzd0wXr1fL89jCIghtlW3AzucfGXhrhdjFq/dGT6Nsa826wu8/Xr0cCrKXTfEdpPnHYAdMHqAB9oD0mZoPvpw9PZVMXdzGiyuNy2EPrJk/gb/7q2axFWNr3M16OUts1KOBOL5LG3gZ336ILVAfB+e+gLc9kQLQ6t2DY3b5N4mg2Th7iGB2WJHxuZjoC5X9M2tu+HubSBatdtViSpt4GdD9IFq3PDe+1hraTMwYRqqnQ2sv22Bc2GNLb2MCIJ/cAkfp+vu5q9Tdtc28D9aCBn5izDyDn318DOB+mC1XmX2/awVl+YCzdzqbnSspK7u/u1PaRLjieY6QOT+Ag4Lvth9hjzptvqpcRWrm3g7Xx9F6zeBna+Rxeszve4atayXCbxKwUJiEixFZjD3c2hhskhruGOnEIY4JsG0SMcUFfzEl7bxEq3zUuxbWV3Ib7etmnjqqta/YK/wc6rpQtW5+fQ2sNluZ3Et3s8pBpngyqZhxomQx6dXGkQiEcQEa5JZqhFCd9s2/S8+lZs3bwWBoQkc2bJ1/k6D0NvAzu/gC5YnZ9PK7Uupw99Ya7MxBQarlg3a4JlFpNhMGcnEgbFZS2NRzg0bItljfMWy+bbBrVmsxJJbWh1na+zSFerzi+gC1bnFyICkXeNWisRJzBBo9QwCzOYhVpwJaRbS6kjPDSsxHmNtWDZyFxYWDKRiAy5p206P4UuWJ0fwbtGLV9X6MbECRWmtizhDnNQDqQgAqLJVkQgFF6wFlo2CWLJITlIZBjzNOVus+r8FLpgdX4cN0YtiPjCqBsTJyeQxrbB3KGgFIGrYIEQoeSVihIxU3LOLomGMc9zmqbc5+udn0IXrM5P4V2jVtSKIAEDaqpRKyhhFyw0zaJQTmCWQHLKnMfIWS5pG+6FVeen0AWr8xMRwaU9xLqiMAoLGFHDK9UV15E7QEScJVEmZKdMw4hhoGmSeeZh6GrV+al0wer8dEQwzyQSrdQSiXVlcCIAiLKFKQCSROMIykxjUOZpamrF88y9Dez8UnTB6vyyDMNVsyAS60oKMFGisA0ApRGcwQPSxNNEw4Bpov4a2PkIumB1PgIRuraHlz8GMzEDQM40jhhHmmfKmeaZhgFdrTofQReszsdx1axlIRFvstUEaxwxTTzPuKpVp/NxdMHqfAJoGEjEl4WZoxlNAZommiYMAzdF63Q+mi5YnU+ECM9zXIxaaII1DL0N7HxCumB1Ph3X9rAJVlOrTufTQar6Q1/T6fxEzAD0wqrzyekVVucJ6FLVeRo+1Ym5TqfTeXK6YHU6nbuhC1an07kbumB1Op27oQtWp9O5G7pgdTqdu6ELVqfTuRu6YHU6nbuhC1an07kbumB1Op27oQtWp9O5G7pgdTqdu6ELVqfTuRu6YHU6nbuhC1an07kbumB1Op27oQtWp9O5G7pgdTqdu6ELVqfTuRu6YHU6nbuhC1an07kbumB1Op27oQtWp9O5G7pgdTqdu6ELVqfTuRu6YHU6nbuhC1an07kbumB1Op27oQtWp9O5G7pgdTqdu6ELVqfTuRu6YHU6nbuhC1an07kbumB1Op27oQtWp9O5G7pgdTqdu6ELVqfTuRu6YHU6nbuhC1an07kbumB1Op27oQtWp9O5G7pgdTqdu6ELVqfTuRu6YHU6nbuhC1an07kbumB1Op27oQtWp9O5G/5/s50FdSZGj9gAAAAASUVORK5CYII=\" alt=\"PNG image\"></img>"
      ],
      "text/plain": [
       "<IPython.core.display.HTML object>"
      ]
     },
     "metadata": {},
     "output_type": "display_data"
    }
   ],
   "source": [
    "plot_2d(output_feature_array[:,:,1:2],contour=True, clear=False, edges=edges)"
   ]
  }
 ],
 "metadata": {
  "kernelspec": {
   "display_name": "Python 3",
   "language": "python",
   "name": "python3"
  },
  "language_info": {
   "codemirror_mode": {
    "name": "ipython",
    "version": 3
   },
   "file_extension": ".py",
   "mimetype": "text/x-python",
   "name": "python",
   "nbconvert_exporter": "python",
   "pygments_lexer": "ipython3",
   "version": "3.7.7"
  }
 },
 "nbformat": 4,
 "nbformat_minor": 4
}
