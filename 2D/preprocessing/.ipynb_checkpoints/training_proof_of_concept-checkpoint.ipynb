{
 "cells": [
  {
   "cell_type": "markdown",
   "metadata": {},
   "source": [
    "## TRAINING\n",
    "This notebook has as an objective to use a folder containing the formated .npy files to train a deep learning model that can be used in lieu of an FEA model to any accuracy above random, for a proof of concept that it is possible to do so, such that further research can be done afterward to optimize architecture, hyperparameters and data being fed in."
   ]
  },
  {
   "cell_type": "code",
   "execution_count": 1,
   "metadata": {},
   "outputs": [
    {
     "name": "stdout",
     "output_type": "stream",
     "text": [
      "splitting functions imported\n"
     ]
    }
   ],
   "source": [
    "##  imports\n",
    "\n",
    "import numpy as np\n",
    "import torch\n",
    "import torch.nn as nn\n",
    "import torch.nn.functional as F\n",
    "import pathlib\n",
    "import PREPROCESSING_splitting as split\n",
    "import matplotlib.pyplot as plt\n",
    "import torchvision.transforms"
   ]
  },
  {
   "cell_type": "markdown",
   "metadata": {},
   "source": [
    "## WEIGHTS AND BIASES\n",
    "This section's purpose  is to set up logging for the tests"
   ]
  },
  {
   "cell_type": "code",
   "execution_count": 181,
   "metadata": {},
   "outputs": [],
   "source": [
    "import wandb"
   ]
  },
  {
   "cell_type": "code",
   "execution_count": 2,
   "metadata": {},
   "outputs": [
    {
     "data": {
      "text/plain": [
       "'/app/2D/preprocessing'"
      ]
     },
     "execution_count": 2,
     "metadata": {},
     "output_type": "execute_result"
    }
   ],
   "source": [
    "import os\n",
    "os.getcwd()"
   ]
  },
  {
   "cell_type": "code",
   "execution_count": 3,
   "metadata": {},
   "outputs": [],
   "source": [
    "#import importlib\n",
    "#importlib.reload(torch)"
   ]
  },
  {
   "cell_type": "code",
   "execution_count": 2,
   "metadata": {},
   "outputs": [],
   "source": [
    "## first, create a class to load the files that are to be fed to the neural network, \n",
    "## for both the inputs and the outputs. To avoid confusion I'll refer to the inputs to the \n",
    "## FEA model as 'bound_conds' (boundary conditions), and the outputs as 'targets', while what \n",
    "## is fed into the neural network will be called an \"input\", and the output of the neural network \"prediction\"\n",
    "## this function should probably be transformed into a dataloader later for a larger dataset, \n",
    "## but for now we'll keep it like this\n",
    "\n",
    "def get_dataset(dataset_path, glob_parameter = '*.npy'):\n",
    "    # concatenates all samples into a list of boundary conditions and a list of targets\n",
    "    \n",
    "    # set paths\n",
    "    bound_cond_path = pathlib.Path(dataset_path, 'input')\n",
    "    targets_path = pathlib.Path(dataset_path, 'output')  \n",
    "    \n",
    "    print(bound_cond_path)\n",
    "    # check if folder path is correct\n",
    "    if bound_cond_path.is_dir() and targets_path.is_dir():\n",
    "        print('path contains \\'input\\' and \\'output\\'')\n",
    "        pass\n",
    "    else:\n",
    "        raise Exception (f'Argument dataset_path: {dataset_path} should contain folders ..\\input and ..\\output. Please check path')\n",
    "    \n",
    "    #create iterators for files\n",
    "    bound_cond_iterator = bound_cond_path.glob(glob_parameter)\n",
    "    targets_iterator = targets_path.glob(glob_parameter)\n",
    "    \n",
    "    #zip them to ensure that they are going through the same samples \n",
    "    samples_iterator = zip(bound_cond_iterator, targets_iterator)\n",
    "    \n",
    "    boundary_conditions = np.array([])\n",
    "    targets = np.array([])\n",
    "    \n",
    "    for boundary_condition_files, targets_files in samples_iterator:\n",
    "        if split.get_number(boundary_condition_files.name) == split.get_number(targets_files.name):\n",
    "            \n",
    "            boundary_conditions_temp = np.load(boundary_condition_files)\n",
    "            targets_temp = np.load(targets_files)\n",
    "            \n",
    "            #start array if it hasn't been started yet\n",
    "            if boundary_conditions.size == 0 and targets.size == 0:\n",
    "                boundary_conditions = boundary_conditions_temp\n",
    "                targets = targets_temp\n",
    "            else:\n",
    "                boundary_conditions = np.concatenate((boundary_conditions, boundary_conditions_temp), axis = 0)\n",
    "                targets = np.concatenate((targets, targets_temp), axis = 0)\n",
    "        else:\n",
    "            raise Exception('the samples in the iterator are not synced')\n",
    "    \n",
    "    return torch.from_numpy(boundary_conditions).float(), torch.from_numpy(targets).float()\n",
    "    "
   ]
  },
  {
   "cell_type": "code",
   "execution_count": 209,
   "metadata": {
    "scrolled": true
   },
   "outputs": [
    {
     "name": "stdout",
     "output_type": "stream",
     "text": [
      "D:\\Ansys Simulations\\Project\\2D\\data\\proof_of_concept_V2\\scaled\\arrays\\input\n",
      "path contains 'input' and 'output'\n",
      "<built-in method size of Tensor object at 0x0000017B53990868>\n",
      "torch.Size([102, 4, 32, 32])\n"
     ]
    }
   ],
   "source": [
    "folders_path =  pathlib.Path('D:/Ansys Simulations/Project/2D/data/proof_of_concept_V2/scaled/arrays')\n",
    "dataset = get_dataset(dataset_path = folders_path)\n",
    "print(dataset[0].size)\n",
    "print(dataset[1].shape)"
   ]
  },
  {
   "cell_type": "code",
   "execution_count": 84,
   "metadata": {},
   "outputs": [
    {
     "name": "stdout",
     "output_type": "stream",
     "text": [
      "102\n"
     ]
    }
   ],
   "source": [
    "print(dataset[0].size(0))"
   ]
  },
  {
   "cell_type": "markdown",
   "metadata": {},
   "source": [
    "## Create a Dataloader\n"
   ]
  },
  {
   "cell_type": "code",
   "execution_count": null,
   "metadata": {},
   "outputs": [],
   "source": []
  },
  {
   "cell_type": "code",
   "execution_count": 3,
   "metadata": {},
   "outputs": [],
   "source": [
    "## first the dataset that is going to be used in the dataloader\n",
    "class TwoD_Dataset(torch.utils.data.Dataset):\n",
    "    \"\"\"Two D displacement dataset.\"\"\"\n",
    "\n",
    "    def __init__(self, root_dir, glob_parameter = '*.npy', transform=None):\n",
    "        \"\"\"\n",
    "        Args:\n",
    "            root_dir (string): Directory with all the arrays.\n",
    "            glob_parameter (string): string with the correct glob to select files inside of folders\n",
    "            transform (callable, optional): Optional transform to be applied\n",
    "                on a sample.\n",
    "        \"\"\"\n",
    "        self.dataset = get_dataset(root_dir, glob_parameter = '*.npy')\n",
    "        self.transform = transform\n",
    "\n",
    "    def __len__(self):\n",
    "        assert (self.dataset[0].size(0) == self.dataset[1].size(0)), 'different input and output sizes'\n",
    "        return self.dataset[0].size(0)\n",
    "\n",
    "    def __getitem__(self, idx):\n",
    "        if torch.is_tensor(idx):\n",
    "            idx = idx.tolist()\n",
    "\n",
    "        bc = self.dataset[0][idx, :, :, :]\n",
    "        tgt = self.dataset[1][idx, :, :, :]\n",
    "        \n",
    "        sample = {'boundary_conditions': bc, 'target': tgt}\n",
    "\n",
    "        if self.transform:\n",
    "            sample = self.transform(sample)\n",
    "\n",
    "        return sample"
   ]
  },
  {
   "cell_type": "code",
   "execution_count": 4,
   "metadata": {},
   "outputs": [
    {
     "name": "stdout",
     "output_type": "stream",
     "text": [
      "D:\\Ansys Simulations\\Project\\2D\\data\\proof_of_concept_V2\\scaled\\arrays\\input\n",
      "path contains 'input' and 'output'\n"
     ]
    }
   ],
   "source": [
    "## create dataset\n",
    "folders_path =  pathlib.Path('D:/Ansys Simulations/Project/2D/data/proof_of_concept_V2/scaled/arrays')\n",
    "dataset = TwoD_Dataset(folders_path, glob_parameter = '*.npy')"
   ]
  },
  {
   "cell_type": "code",
   "execution_count": 163,
   "metadata": {},
   "outputs": [
    {
     "data": {
      "text/plain": [
       "torch.Size([2, 7, 32, 32])"
      ]
     },
     "execution_count": 163,
     "metadata": {},
     "output_type": "execute_result"
    }
   ],
   "source": [
    "dataset[1:3]['boundary_conditions'].shape"
   ]
  },
  {
   "cell_type": "code",
   "execution_count": 5,
   "metadata": {},
   "outputs": [
    {
     "data": {
      "text/plain": [
       "<torch.utils.data.dataloader.DataLoader at 0x17b4cd8d588>"
      ]
     },
     "execution_count": 5,
     "metadata": {},
     "output_type": "execute_result"
    }
   ],
   "source": [
    "## create dataloader object\n",
    "##  transforms needto be applied to dataset step\n",
    "dataloader = torch.utils.data.DataLoader(dataset, batch_size=4,\n",
    "                        shuffle=True, num_workers=3)\n",
    "dataloader"
   ]
  },
  {
   "cell_type": "code",
   "execution_count": 141,
   "metadata": {},
   "outputs": [
    {
     "data": {
      "text/plain": [
       "tensor([0.8372, 0.8372, 0.8372])"
      ]
     },
     "execution_count": 141,
     "metadata": {},
     "output_type": "execute_result"
    }
   ],
   "source": [
    "torch.ones(3)*np.cos(np.random.uniform(low = -np.pi, high = np.pi))"
   ]
  },
  {
   "cell_type": "code",
   "execution_count": 61,
   "metadata": {},
   "outputs": [
    {
     "name": "stdout",
     "output_type": "stream",
     "text": [
      "\n",
      " Create dummy image\n",
      "tensor([[[[0., 0., 1., 0., 0., 0., 0., 0., 0., 0., 0., 0., 0., 0., 0., 0., 0.],\n",
      "          [0., 0., 1., 0., 0., 0., 0., 0., 0., 0., 0., 0., 0., 0., 0., 0., 0.],\n",
      "          [0., 0., 1., 0., 0., 0., 0., 0., 0., 0., 0., 0., 0., 0., 0., 0., 0.],\n",
      "          [0., 0., 1., 0., 0., 0., 0., 0., 0., 0., 0., 0., 0., 0., 0., 0., 0.],\n",
      "          [0., 0., 1., 0., 0., 0., 0., 0., 0., 0., 0., 0., 0., 0., 0., 0., 0.],\n",
      "          [0., 0., 1., 0., 0., 0., 0., 0., 0., 0., 0., 0., 0., 0., 0., 0., 0.],\n",
      "          [0., 0., 1., 0., 0., 0., 0., 0., 0., 0., 0., 0., 0., 0., 0., 0., 0.],\n",
      "          [0., 0., 1., 0., 0., 0., 0., 0., 0., 0., 0., 0., 0., 0., 0., 0., 0.],\n",
      "          [0., 0., 1., 0., 0., 0., 0., 0., 0., 0., 0., 0., 0., 0., 0., 0., 0.],\n",
      "          [0., 0., 1., 0., 0., 0., 0., 0., 0., 0., 0., 0., 0., 0., 0., 0., 0.],\n",
      "          [0., 0., 1., 0., 0., 0., 0., 0., 0., 0., 0., 0., 0., 0., 0., 0., 0.],\n",
      "          [0., 0., 1., 0., 0., 0., 0., 0., 0., 0., 0., 0., 0., 0., 0., 0., 0.],\n",
      "          [0., 0., 1., 0., 0., 0., 0., 0., 0., 0., 0., 0., 0., 0., 0., 0., 0.],\n",
      "          [0., 0., 1., 0., 0., 0., 0., 0., 0., 0., 0., 0., 0., 0., 0., 0., 0.],\n",
      "          [0., 0., 1., 0., 0., 0., 0., 0., 0., 0., 0., 0., 0., 0., 0., 0., 0.],\n",
      "          [0., 0., 1., 0., 0., 0., 0., 0., 0., 0., 0., 0., 0., 0., 0., 0., 0.],\n",
      "          [0., 0., 1., 0., 0., 0., 0., 0., 0., 0., 0., 0., 0., 0., 0., 0., 0.]]]])\n",
      "tensor([135.])\n",
      "\n",
      " # Calculate rotation for each target pixel\n",
      "9.0\n",
      "9.0\n",
      "\n",
      " # Use meshgrid for pixel coords\n",
      "tensor([ 0,  0,  0,  0,  0,  0,  0,  0,  0,  0,  0,  0,  0,  0,  0,  0,  0,  1,\n",
      "         1,  1,  1,  1,  1,  1,  1,  1,  1,  1,  1,  1,  1,  1,  1,  1,  2,  2,\n",
      "         2,  2,  2,  2,  2,  2,  2,  2,  2,  2,  2,  2,  2,  2,  2,  3,  3,  3,\n",
      "         3,  3,  3,  3,  3,  3,  3,  3,  3,  3,  3,  3,  3,  3,  4,  4,  4,  4,\n",
      "         4,  4,  4,  4,  4,  4,  4,  4,  4,  4,  4,  4,  4,  5,  5,  5,  5,  5,\n",
      "         5,  5,  5,  5,  5,  5,  5,  5,  5,  5,  5,  5,  6,  6,  6,  6,  6,  6,\n",
      "         6,  6,  6,  6,  6,  6,  6,  6,  6,  6,  6,  7,  7,  7,  7,  7,  7,  7,\n",
      "         7,  7,  7,  7,  7,  7,  7,  7,  7,  7,  8,  8,  8,  8,  8,  8,  8,  8,\n",
      "         8,  8,  8,  8,  8,  8,  8,  8,  8,  9,  9,  9,  9,  9,  9,  9,  9,  9,\n",
      "         9,  9,  9,  9,  9,  9,  9,  9, 10, 10, 10, 10, 10, 10, 10, 10, 10, 10,\n",
      "        10, 10, 10, 10, 10, 10, 10, 11, 11, 11, 11, 11, 11, 11, 11, 11, 11, 11,\n",
      "        11, 11, 11, 11, 11, 11, 12, 12, 12, 12, 12, 12, 12, 12, 12, 12, 12, 12,\n",
      "        12, 12, 12, 12, 12, 13, 13, 13, 13, 13, 13, 13, 13, 13, 13, 13, 13, 13,\n",
      "        13, 13, 13, 13, 14, 14, 14, 14, 14, 14, 14, 14, 14, 14, 14, 14, 14, 14,\n",
      "        14, 14, 14, 15, 15, 15, 15, 15, 15, 15, 15, 15, 15, 15, 15, 15, 15, 15,\n",
      "        15, 15, 16, 16, 16, 16, 16, 16, 16, 16, 16, 16, 16, 16, 16, 16, 16, 16,\n",
      "        16])\n",
      "tensor([ 0,  1,  2,  3,  4,  5,  6,  7,  8,  9, 10, 11, 12, 13, 14, 15, 16,  0,\n",
      "         1,  2,  3,  4,  5,  6,  7,  8,  9, 10, 11, 12, 13, 14, 15, 16,  0,  1,\n",
      "         2,  3,  4,  5,  6,  7,  8,  9, 10, 11, 12, 13, 14, 15, 16,  0,  1,  2,\n",
      "         3,  4,  5,  6,  7,  8,  9, 10, 11, 12, 13, 14, 15, 16,  0,  1,  2,  3,\n",
      "         4,  5,  6,  7,  8,  9, 10, 11, 12, 13, 14, 15, 16,  0,  1,  2,  3,  4,\n",
      "         5,  6,  7,  8,  9, 10, 11, 12, 13, 14, 15, 16,  0,  1,  2,  3,  4,  5,\n",
      "         6,  7,  8,  9, 10, 11, 12, 13, 14, 15, 16,  0,  1,  2,  3,  4,  5,  6,\n",
      "         7,  8,  9, 10, 11, 12, 13, 14, 15, 16,  0,  1,  2,  3,  4,  5,  6,  7,\n",
      "         8,  9, 10, 11, 12, 13, 14, 15, 16,  0,  1,  2,  3,  4,  5,  6,  7,  8,\n",
      "         9, 10, 11, 12, 13, 14, 15, 16,  0,  1,  2,  3,  4,  5,  6,  7,  8,  9,\n",
      "        10, 11, 12, 13, 14, 15, 16,  0,  1,  2,  3,  4,  5,  6,  7,  8,  9, 10,\n",
      "        11, 12, 13, 14, 15, 16,  0,  1,  2,  3,  4,  5,  6,  7,  8,  9, 10, 11,\n",
      "        12, 13, 14, 15, 16,  0,  1,  2,  3,  4,  5,  6,  7,  8,  9, 10, 11, 12,\n",
      "        13, 14, 15, 16,  0,  1,  2,  3,  4,  5,  6,  7,  8,  9, 10, 11, 12, 13,\n",
      "        14, 15, 16,  0,  1,  2,  3,  4,  5,  6,  7,  8,  9, 10, 11, 12, 13, 14,\n",
      "        15, 16,  0,  1,  2,  3,  4,  5,  6,  7,  8,  9, 10, 11, 12, 13, 14, 15,\n",
      "        16])\n",
      "torch.Size([289, 2])\n",
      "torch.Size([2, 2])\n",
      "\n",
      " # Calculate indices using rotation matrix\n",
      "tensor([[[[0., 0., 0., 0., 0., 0., 0., 0., 0., 0., 0., 0., 0., 0., 0., 0., 0.],\n",
      "          [0., 0., 0., 0., 0., 0., 0., 0., 0., 0., 0., 0., 0., 0., 0., 0., 0.],\n",
      "          [0., 0., 0., 0., 0., 0., 0., 0., 0., 0., 0., 0., 0., 0., 0., 0., 0.],\n",
      "          [0., 0., 0., 0., 0., 0., 0., 0., 0., 0., 0., 0., 0., 0., 0., 0., 0.],\n",
      "          [0., 0., 0., 0., 0., 0., 0., 0., 0., 0., 0., 0., 0., 0., 0., 0., 0.],\n",
      "          [0., 0., 0., 0., 0., 0., 0., 0., 0., 0., 0., 0., 0., 0., 0., 0., 0.],\n",
      "          [0., 0., 0., 0., 0., 0., 0., 0., 0., 0., 0., 0., 0., 0., 0., 0., 0.],\n",
      "          [0., 0., 0., 0., 0., 0., 0., 0., 0., 0., 0., 0., 0., 0., 0., 0., 0.],\n",
      "          [0., 0., 0., 0., 0., 0., 0., 0., 0., 0., 0., 0., 0., 0., 0., 0., 0.],\n",
      "          [0., 0., 0., 0., 0., 0., 0., 0., 0., 0., 0., 0., 0., 0., 0., 0., 0.],\n",
      "          [0., 0., 0., 0., 0., 0., 0., 0., 0., 0., 0., 0., 0., 0., 0., 0., 0.],\n",
      "          [0., 0., 0., 0., 0., 0., 0., 0., 0., 0., 0., 0., 0., 0., 0., 0., 0.],\n",
      "          [0., 0., 0., 0., 0., 0., 0., 0., 0., 0., 0., 0., 0., 0., 0., 0., 0.],\n",
      "          [0., 0., 0., 0., 0., 0., 0., 0., 0., 0., 0., 0., 0., 0., 0., 0., 0.],\n",
      "          [0., 0., 0., 0., 0., 0., 0., 0., 0., 0., 0., 0., 0., 0., 0., 0., 0.],\n",
      "          [0., 0., 0., 0., 0., 0., 0., 0., 0., 0., 0., 0., 0., 0., 0., 0., 0.],\n",
      "          [0., 0., 0., 0., 0., 0., 0., 0., 0., 0., 0., 0., 0., 0., 0., 0., 0.]]]])\n",
      "tensor([[[[0., 0., 0., 0., 0., 0., 0., 0., 0., 0., 0., 0., 0., 0., 0., 0., 0.],\n",
      "          [0., 0., 0., 0., 0., 0., 0., 0., 0., 0., 0., 0., 0., 0., 0., 0., 0.],\n",
      "          [0., 0., 0., 0., 0., 0., 0., 0., 0., 0., 0., 0., 0., 0., 0., 0., 0.],\n",
      "          [0., 0., 0., 0., 0., 0., 0., 0., 0., 0., 0., 0., 0., 0., 0., 0., 0.],\n",
      "          [0., 0., 0., 0., 0., 0., 0., 0., 0., 0., 0., 0., 0., 0., 0., 0., 0.],\n",
      "          [0., 0., 0., 0., 0., 0., 0., 0., 0., 0., 0., 0., 0., 0., 0., 0., 0.],\n",
      "          [0., 0., 0., 0., 0., 0., 0., 0., 0., 0., 0., 0., 0., 0., 0., 0., 0.],\n",
      "          [0., 0., 0., 0., 0., 0., 0., 0., 0., 0., 0., 0., 0., 0., 0., 0., 0.],\n",
      "          [0., 0., 0., 0., 0., 0., 0., 0., 0., 0., 0., 0., 0., 0., 0., 0., 0.],\n",
      "          [0., 0., 0., 0., 0., 0., 0., 0., 0., 0., 0., 0., 0., 0., 0., 0., 0.],\n",
      "          [0., 0., 0., 0., 0., 0., 0., 0., 0., 0., 0., 0., 0., 0., 0., 0., 0.],\n",
      "          [0., 0., 0., 0., 0., 0., 0., 0., 0., 0., 0., 0., 0., 0., 0., 0., 0.],\n",
      "          [0., 0., 0., 0., 0., 0., 0., 0., 0., 0., 0., 0., 0., 0., 0., 0., 1.],\n",
      "          [0., 0., 0., 0., 0., 0., 0., 0., 0., 0., 0., 0., 0., 0., 0., 1., 0.],\n",
      "          [0., 0., 0., 0., 0., 0., 0., 0., 0., 0., 0., 0., 0., 0., 1., 0., 0.],\n",
      "          [0., 0., 0., 0., 0., 0., 0., 0., 0., 0., 0., 0., 0., 1., 0., 0., 0.],\n",
      "          [0., 0., 0., 0., 0., 0., 0., 0., 0., 0., 0., 0., 1., 0., 0., 0., 0.]]]])\n"
     ]
    }
   ],
   "source": [
    "'''print(\"\\n grid test\")\n",
    "x = torch.tensor([1, 2])\n",
    "y = torch.tensor([4, 5])\n",
    "grid_x, grid_y = torch.meshgrid(x, y)\n",
    "print(grid_x)\n",
    "print(grid_y)'''\n",
    "\n",
    "resolution = 17\n",
    "\n",
    "print(\"\\n Create dummy image\")\n",
    "zeroes = torch.zeros(1, 1, resolution, resolution)\n",
    "im[:, :, :, 2] = 1.\n",
    "print(im)\n",
    "\n",
    "angle = torch.tensor([135 * np.pi / 180.])\n",
    "print(angle/np.pi*180)\n",
    "## rot matrix\n",
    "\n",
    "rot_matrix = torch.tensor([[np.cos(angle), np.sin(angle)],\n",
    "                                [-1.0*np.sin(angle), np.cos(angle)]])\n",
    "\n",
    "print(\"\\n # Calculate rotation for each target pixel\")\n",
    "x_mid = (im.size(2) + 1) / 2.\n",
    "print(x_mid)\n",
    "y_mid = (im.size(3) + 1) / 2.\n",
    "print(y_mid)\n",
    "im_rot = torch.zeros_like(im)\n",
    "\n",
    "\n",
    "print(\"\\n # Use meshgrid for pixel coords\")\n",
    "xv, yv = torch.meshgrid(torch.arange(im.size(2)), torch.arange(im.size(3)))\n",
    "xv = xv.contiguous()\n",
    "yv = yv.contiguous()\n",
    "#print(xv)\n",
    "#print(yv)\n",
    "src_ind = torch.cat((\n",
    "    (xv.float() - x_mid).view(-1, 1),\n",
    "    (yv.float() - y_mid).view(-1, 1)),\n",
    "    dim=1\n",
    ")\n",
    "print(xv.view(-1))\n",
    "print(yv.view(-1))\n",
    "print(src_ind.shape)\n",
    "print(rot_matrix.t().shape)\n",
    "\n",
    "#print(src_ind)\n",
    "\n",
    "print( \"\\n # Calculate indices using rotation matrix\")\n",
    "src_ind = torch.matmul(src_ind, rot_matrix.t())\n",
    "src_ind = torch.round(src_ind)\n",
    "\n",
    "src_ind += torch.tensor([[x_mid, y_mid]])\n",
    "\n",
    "# Set out of bounds indices to limits\n",
    "src_ind[src_ind < 0] = 0.\n",
    "src_ind[:, 0][src_ind[:, 0] >= im.size(2)] = float(im.size(2)) - 1\n",
    "src_ind[:, 1][src_ind[:, 1] >= im.size(3)] = float(im.size(3)) - 1\n",
    " \n",
    "im_rot2 = torch.zeros_like(im)\n",
    "src_ind = src_ind.long()\n",
    "im_rot2[:, :, xv.view(-1), yv.view(-1)] = im[:, :, src_ind[:, 0], src_ind[:, 1]]\n",
    "im_rot2 = im_rot2.view(1, 1, resolution, resolution)\n",
    "print(im_rot)\n",
    "print(im_rot2)"
   ]
  },
  {
   "cell_type": "code",
   "execution_count": 158,
   "metadata": {},
   "outputs": [
    {
     "data": {
      "text/plain": [
       "{'boundary_conditions': tensor([[[ 6.7188e-01,  6.8359e-01,  6.8359e-01,  ...,  0.0000e+00,\n",
       "            0.0000e+00,  0.0000e+00],\n",
       "          [ 6.7188e-01,  6.7188e-01,  6.8359e-01,  ...,  0.0000e+00,\n",
       "            0.0000e+00,  0.0000e+00],\n",
       "          [ 6.6016e-01,  6.6016e-01,  6.7188e-01,  ...,  0.0000e+00,\n",
       "            0.0000e+00,  0.0000e+00],\n",
       "          ...,\n",
       "          [ 1.9531e-02,  3.9062e-03,  0.0000e+00,  ...,  3.9062e-03,\n",
       "            3.9062e-03,  0.0000e+00],\n",
       "          [ 3.9062e-03,  0.0000e+00,  0.0000e+00,  ...,  3.1250e-02,\n",
       "            3.9062e-03,  3.9062e-03],\n",
       "          [ 0.0000e+00,  0.0000e+00,  0.0000e+00,  ...,  1.2500e-01,\n",
       "            3.1250e-02,  3.1250e-02]],\n",
       " \n",
       "         [[ 0.0000e+00,  0.0000e+00,  0.0000e+00,  ...,  0.0000e+00,\n",
       "            0.0000e+00,  0.0000e+00],\n",
       "          [ 0.0000e+00,  0.0000e+00,  0.0000e+00,  ...,  0.0000e+00,\n",
       "            0.0000e+00,  0.0000e+00],\n",
       "          [ 0.0000e+00,  0.0000e+00,  0.0000e+00,  ...,  0.0000e+00,\n",
       "            0.0000e+00,  0.0000e+00],\n",
       "          ...,\n",
       "          [ 0.0000e+00,  0.0000e+00,  0.0000e+00,  ...,  0.0000e+00,\n",
       "            0.0000e+00,  0.0000e+00],\n",
       "          [ 0.0000e+00,  0.0000e+00,  0.0000e+00,  ...,  0.0000e+00,\n",
       "            0.0000e+00,  0.0000e+00],\n",
       "          [ 0.0000e+00,  0.0000e+00,  0.0000e+00,  ...,  0.0000e+00,\n",
       "            0.0000e+00,  0.0000e+00]],\n",
       " \n",
       "         [[ 0.0000e+00,  0.0000e+00,  0.0000e+00,  ...,  0.0000e+00,\n",
       "            0.0000e+00,  0.0000e+00],\n",
       "          [ 0.0000e+00,  0.0000e+00,  0.0000e+00,  ...,  0.0000e+00,\n",
       "            0.0000e+00,  0.0000e+00],\n",
       "          [ 0.0000e+00,  0.0000e+00,  0.0000e+00,  ...,  0.0000e+00,\n",
       "            0.0000e+00,  0.0000e+00],\n",
       "          ...,\n",
       "          [ 0.0000e+00,  0.0000e+00,  0.0000e+00,  ...,  0.0000e+00,\n",
       "            0.0000e+00,  0.0000e+00],\n",
       "          [ 0.0000e+00,  0.0000e+00,  0.0000e+00,  ...,  0.0000e+00,\n",
       "            0.0000e+00,  0.0000e+00],\n",
       "          [ 0.0000e+00,  0.0000e+00,  0.0000e+00,  ...,  0.0000e+00,\n",
       "            0.0000e+00,  0.0000e+00]],\n",
       " \n",
       "         ...,\n",
       " \n",
       "         [[ 0.0000e+00,  0.0000e+00,  0.0000e+00,  ...,  0.0000e+00,\n",
       "            0.0000e+00,  0.0000e+00],\n",
       "          [ 0.0000e+00,  0.0000e+00,  0.0000e+00,  ...,  0.0000e+00,\n",
       "            0.0000e+00,  0.0000e+00],\n",
       "          [ 0.0000e+00,  0.0000e+00,  0.0000e+00,  ...,  0.0000e+00,\n",
       "            0.0000e+00,  0.0000e+00],\n",
       "          ...,\n",
       "          [-5.6025e-03, -1.1513e-03,  0.0000e+00,  ...,  0.0000e+00,\n",
       "            0.0000e+00,  0.0000e+00],\n",
       "          [-1.1513e-03,  0.0000e+00,  0.0000e+00,  ...,  0.0000e+00,\n",
       "            0.0000e+00,  0.0000e+00],\n",
       "          [ 0.0000e+00,  0.0000e+00,  0.0000e+00,  ...,  0.0000e+00,\n",
       "            0.0000e+00,  0.0000e+00]],\n",
       " \n",
       "         [[ 0.0000e+00,  0.0000e+00,  0.0000e+00,  ...,  0.0000e+00,\n",
       "            0.0000e+00,  0.0000e+00],\n",
       "          [ 0.0000e+00,  0.0000e+00,  0.0000e+00,  ...,  0.0000e+00,\n",
       "            0.0000e+00,  0.0000e+00],\n",
       "          [ 0.0000e+00,  0.0000e+00,  0.0000e+00,  ...,  0.0000e+00,\n",
       "            0.0000e+00,  0.0000e+00],\n",
       "          ...,\n",
       "          [ 1.8761e-03,  3.5169e-04,  0.0000e+00,  ...,  0.0000e+00,\n",
       "            0.0000e+00,  0.0000e+00],\n",
       "          [ 3.5169e-04,  0.0000e+00,  0.0000e+00,  ...,  0.0000e+00,\n",
       "            0.0000e+00,  0.0000e+00],\n",
       "          [ 0.0000e+00,  0.0000e+00,  0.0000e+00,  ...,  0.0000e+00,\n",
       "            0.0000e+00,  0.0000e+00]],\n",
       " \n",
       "         [[ 0.0000e+00,  0.0000e+00,  0.0000e+00,  ...,  0.0000e+00,\n",
       "            0.0000e+00,  0.0000e+00],\n",
       "          [ 0.0000e+00,  0.0000e+00,  0.0000e+00,  ...,  0.0000e+00,\n",
       "            0.0000e+00,  0.0000e+00],\n",
       "          [ 0.0000e+00,  0.0000e+00,  0.0000e+00,  ...,  0.0000e+00,\n",
       "            0.0000e+00,  0.0000e+00],\n",
       "          ...,\n",
       "          [ 0.0000e+00,  0.0000e+00,  0.0000e+00,  ...,  0.0000e+00,\n",
       "            0.0000e+00,  0.0000e+00],\n",
       "          [ 0.0000e+00,  0.0000e+00,  0.0000e+00,  ...,  0.0000e+00,\n",
       "            0.0000e+00,  0.0000e+00],\n",
       "          [ 0.0000e+00,  0.0000e+00,  0.0000e+00,  ...,  0.0000e+00,\n",
       "            0.0000e+00,  0.0000e+00]]], requires_grad=True),\n",
       " 'target': tensor([[[ 6.7188e-01,  6.8359e-01,  6.8359e-01,  ...,  0.0000e+00,\n",
       "            0.0000e+00,  0.0000e+00],\n",
       "          [ 6.7188e-01,  6.7188e-01,  6.8359e-01,  ...,  0.0000e+00,\n",
       "            0.0000e+00,  0.0000e+00],\n",
       "          [ 6.6016e-01,  6.6016e-01,  6.7188e-01,  ...,  0.0000e+00,\n",
       "            0.0000e+00,  0.0000e+00],\n",
       "          ...,\n",
       "          [ 1.9531e-02,  3.9062e-03,  0.0000e+00,  ...,  3.9062e-03,\n",
       "            3.9062e-03,  0.0000e+00],\n",
       "          [ 3.9062e-03,  0.0000e+00,  0.0000e+00,  ...,  3.1250e-02,\n",
       "            3.9062e-03,  3.9062e-03],\n",
       "          [ 0.0000e+00,  0.0000e+00,  0.0000e+00,  ...,  1.2500e-01,\n",
       "            3.1250e-02,  3.1250e-02]],\n",
       " \n",
       "         [[ 0.0000e+00,  0.0000e+00,  0.0000e+00,  ...,  0.0000e+00,\n",
       "            0.0000e+00,  0.0000e+00],\n",
       "          [ 0.0000e+00,  0.0000e+00,  0.0000e+00,  ...,  0.0000e+00,\n",
       "            0.0000e+00,  0.0000e+00],\n",
       "          [ 0.0000e+00,  0.0000e+00,  0.0000e+00,  ...,  0.0000e+00,\n",
       "            0.0000e+00,  0.0000e+00],\n",
       "          ...,\n",
       "          [ 0.0000e+00,  0.0000e+00,  0.0000e+00,  ...,  0.0000e+00,\n",
       "            0.0000e+00,  0.0000e+00],\n",
       "          [ 0.0000e+00,  0.0000e+00,  0.0000e+00,  ...,  0.0000e+00,\n",
       "            0.0000e+00,  0.0000e+00],\n",
       "          [ 0.0000e+00,  0.0000e+00,  0.0000e+00,  ...,  0.0000e+00,\n",
       "            0.0000e+00,  0.0000e+00]],\n",
       " \n",
       "         [[ 0.0000e+00,  0.0000e+00,  0.0000e+00,  ...,  0.0000e+00,\n",
       "            0.0000e+00,  0.0000e+00],\n",
       "          [ 0.0000e+00,  0.0000e+00,  0.0000e+00,  ...,  0.0000e+00,\n",
       "            0.0000e+00,  0.0000e+00],\n",
       "          [ 0.0000e+00,  0.0000e+00,  0.0000e+00,  ...,  0.0000e+00,\n",
       "            0.0000e+00,  0.0000e+00],\n",
       "          ...,\n",
       "          [ 0.0000e+00,  0.0000e+00,  0.0000e+00,  ...,  0.0000e+00,\n",
       "            0.0000e+00,  0.0000e+00],\n",
       "          [ 0.0000e+00,  0.0000e+00,  0.0000e+00,  ...,  0.0000e+00,\n",
       "            0.0000e+00,  0.0000e+00],\n",
       "          [ 0.0000e+00,  0.0000e+00,  0.0000e+00,  ...,  0.0000e+00,\n",
       "            0.0000e+00,  0.0000e+00]],\n",
       " \n",
       "         ...,\n",
       " \n",
       "         [[ 0.0000e+00,  0.0000e+00,  0.0000e+00,  ...,  0.0000e+00,\n",
       "            0.0000e+00,  0.0000e+00],\n",
       "          [ 0.0000e+00,  0.0000e+00,  0.0000e+00,  ...,  0.0000e+00,\n",
       "            0.0000e+00,  0.0000e+00],\n",
       "          [ 0.0000e+00,  0.0000e+00,  0.0000e+00,  ...,  0.0000e+00,\n",
       "            0.0000e+00,  0.0000e+00],\n",
       "          ...,\n",
       "          [-5.6025e-03, -1.1513e-03,  0.0000e+00,  ...,  0.0000e+00,\n",
       "            0.0000e+00,  0.0000e+00],\n",
       "          [-1.1513e-03,  0.0000e+00,  0.0000e+00,  ...,  0.0000e+00,\n",
       "            0.0000e+00,  0.0000e+00],\n",
       "          [ 0.0000e+00,  0.0000e+00,  0.0000e+00,  ...,  0.0000e+00,\n",
       "            0.0000e+00,  0.0000e+00]],\n",
       " \n",
       "         [[ 0.0000e+00,  0.0000e+00,  0.0000e+00,  ...,  0.0000e+00,\n",
       "            0.0000e+00,  0.0000e+00],\n",
       "          [ 0.0000e+00,  0.0000e+00,  0.0000e+00,  ...,  0.0000e+00,\n",
       "            0.0000e+00,  0.0000e+00],\n",
       "          [ 0.0000e+00,  0.0000e+00,  0.0000e+00,  ...,  0.0000e+00,\n",
       "            0.0000e+00,  0.0000e+00],\n",
       "          ...,\n",
       "          [ 1.8761e-03,  3.5169e-04,  0.0000e+00,  ...,  0.0000e+00,\n",
       "            0.0000e+00,  0.0000e+00],\n",
       "          [ 3.5169e-04,  0.0000e+00,  0.0000e+00,  ...,  0.0000e+00,\n",
       "            0.0000e+00,  0.0000e+00],\n",
       "          [ 0.0000e+00,  0.0000e+00,  0.0000e+00,  ...,  0.0000e+00,\n",
       "            0.0000e+00,  0.0000e+00]],\n",
       " \n",
       "         [[ 0.0000e+00,  0.0000e+00,  0.0000e+00,  ...,  0.0000e+00,\n",
       "            0.0000e+00,  0.0000e+00],\n",
       "          [ 0.0000e+00,  0.0000e+00,  0.0000e+00,  ...,  0.0000e+00,\n",
       "            0.0000e+00,  0.0000e+00],\n",
       "          [ 0.0000e+00,  0.0000e+00,  0.0000e+00,  ...,  0.0000e+00,\n",
       "            0.0000e+00,  0.0000e+00],\n",
       "          ...,\n",
       "          [ 0.0000e+00,  0.0000e+00,  0.0000e+00,  ...,  0.0000e+00,\n",
       "            0.0000e+00,  0.0000e+00],\n",
       "          [ 0.0000e+00,  0.0000e+00,  0.0000e+00,  ...,  0.0000e+00,\n",
       "            0.0000e+00,  0.0000e+00],\n",
       "          [ 0.0000e+00,  0.0000e+00,  0.0000e+00,  ...,  0.0000e+00,\n",
       "            0.0000e+00,  0.0000e+00]]], requires_grad=True)}"
      ]
     },
     "execution_count": 158,
     "metadata": {},
     "output_type": "execute_result"
    }
   ],
   "source": [
    "## create a vector rotation transform\n",
    "\n",
    "\n",
    "class DirectionalRotation(object):\n",
    "    \"\"\"Rotate a vector with directional coordinates.\n",
    "\n",
    "    Args:\n",
    "        output_size (tuple or int): Desired output size. If tuple, output is\n",
    "            matched to output_size. If int, smaller of image edges is matched\n",
    "            to output_size keeping aspect ratio the same.\n",
    "    \"\"\"\n",
    "\n",
    "    def __init__(self, output_size, dimensionality):\n",
    "        assert isinstance(output_size, (int, tuple))\n",
    "        self.output_size = output_size\n",
    "        self.dimensionality = dimensionality.lower()\n",
    "\n",
    "    def __call__(self, sample):\n",
    "        boundary_condition, target = sample['boundary_conditions'], sample['target']\n",
    "        # get angle\n",
    "        \"print(boundary_condition.shape)\"\n",
    "        angle = np.random.uniform(low = -np.pi, high = np.pi)\n",
    "        \"print(angle)\"\n",
    "        \n",
    "        assert self.dimensionality == '2d', '3D NOT IMPLEMENTED YET'\n",
    "        \n",
    "        ###############################\n",
    "        ## boundary conditions\n",
    "        ###############################\n",
    "        \n",
    "        ######\n",
    "        ###### rotate directional vectors ####\n",
    "        ######\n",
    "        boundary_condition_temp = boundary_condition.clone()\n",
    "        boundary_condition_temp[1:2 , :, :] = boundary_condition[1:2 , :, :]*np.cos(angle) \\\n",
    "                                                - boundary_condition[2:3 , :, :]*np.sin(angle)\n",
    "        \n",
    "        boundary_condition_temp[2:3 , :, :] = boundary_condition[1:2 , :, :]*np.sin(angle) \\\n",
    "                                                + boundary_condition[2:3 , :, :]*np.cos(angle)\n",
    "        \n",
    "        boundary_condition_temp[4:5 , :, :] = boundary_condition[4:5 , :, :]*np.cos(angle) \\\n",
    "                                                - boundary_condition[5:6 , :, :]*np.sin(angle)\n",
    "        \n",
    "        boundary_condition_temp[5:6 , :, :] = boundary_condition[4:5 , :, :]*np.sin(angle) \\\n",
    "                                                + boundary_condition[5:6 , :, :]*np.cos(angle)\n",
    "        #####\n",
    "        ##### rotate tensor ####\n",
    "        #####\n",
    "        \n",
    "        # Calculate rotation with inverse rotation matrix\n",
    "        rot_matrix = torch.tensor([[np.cos(angle), np.sin(angle)],\n",
    "                                [-1.0*np.sin(angle), np.cos(angle)]]).float()\n",
    "            \n",
    "        # Calculate rotation for each target pixel\"\n",
    "        x_mid = (boundary_condition.size(1) + 1) / 2\n",
    "        y_mid = (boundary_condition.size(2) + 1) / 2\n",
    "\n",
    "        # Use meshgrid for pixel coords\")\n",
    "        xv, yv = torch.meshgrid(torch.arange(boundary_condition.size(1)), torch.arange(boundary_condition.size(2)))\n",
    "        xv = xv.contiguous()\n",
    "        yv = yv.contiguous()\n",
    "        src_ind = torch.cat((\n",
    "            (xv.float() - x_mid).view(-1, 1),\n",
    "            (yv.float() - y_mid).view(-1, 1)),\n",
    "            dim=1\n",
    "                )\n",
    "            \n",
    "        # Calculate indices using rotation matrix\n",
    "        src_ind = torch.matmul(src_ind, rot_matrix.t())\n",
    "        src_ind = torch.round(src_ind)    \n",
    "        \n",
    "        # translate to mid\n",
    "        src_ind += torch.tensor([[x_mid, y_mid]])\n",
    "        \n",
    "        # Set out of bounds indices to limits\n",
    "        src_ind[src_ind < 0] = 0.\n",
    "        src_ind[:, 0][src_ind[:, 0] >= boundary_condition.size(1)] = float(boundary_condition.size(1)) - 1\n",
    "        src_ind[:, 1][src_ind[:, 1] >= boundary_condition.size(2)] = float(boundary_condition.size(2)) - 1\n",
    "\n",
    "        # rotate tensor\n",
    "        \n",
    "        src_ind = src_ind.long()\n",
    "        \n",
    "        boundary_conditions_rotated = torch.zeros_like(boundary_condition)\n",
    "        boundary_conditions_rotated[:, xv.view(-1), yv.view(-1)] = boundary_condition_temp[:, src_ind[:, 0], src_ind[:, 1]]\n",
    "        \n",
    "        \"\"\"#TEST: tests if the magnitude is still the same after rotation. It should be.\n",
    "        print(torch.mean(torch.sqrt((boundary_condition[1:2,:,:]**2 + boundary_condition[2:3,:,:]**2))))\n",
    "        print(torch.mean(torch.sqrt((boundary_condition_temp[1:2,:,:]**2 + boundary_condition_temp[2:3,:,:]**2))))\n",
    "        \"\"\"\n",
    "        ####################################\n",
    "        ## targets\n",
    "        ####################################\n",
    "        ######\n",
    "        ###### rotate directional vectors ####\n",
    "        ######\n",
    "        target_temp = target.clone()\n",
    "        target_temp[1:2 , :, :] = target[1:2 , :, :]*np.cos(angle) \\\n",
    "                                                - target[2:3 , :, :]*np.sin(angle)\n",
    "        \n",
    "        target_temp[2:3 , :, :] = target[1:2 , :, :]*np.sin(angle) \\\n",
    "                                                + target[2:3 , :, :]*np.cos(angle)\n",
    "        \n",
    "        #####\n",
    "        ##### rotate tensor ####\n",
    "        #####\n",
    "\n",
    "        # Use meshgrid for pixel coords\")\n",
    "        xv, yv = torch.meshgrid(torch.arange(target.size(1)), torch.arange(target.size(2)))\n",
    "        xv = xv.contiguous()\n",
    "        yv = yv.contiguous()\n",
    "        src_ind = torch.cat((\n",
    "            (xv.float() - x_mid).view(-1, 1),\n",
    "            (yv.float() - y_mid).view(-1, 1)),\n",
    "            dim=1\n",
    "                )\n",
    "            \n",
    "        # Calculate indices using rotation matrix\n",
    "        src_ind = torch.matmul(src_ind, rot_matrix.t())\n",
    "        src_ind = torch.round(src_ind)    \n",
    "        \n",
    "        # translate to mid\n",
    "        src_ind += torch.tensor([[x_mid, y_mid]])\n",
    "        \n",
    "        # Set out of bounds indices to limits\n",
    "        src_ind[src_ind < 0] = 0.\n",
    "        src_ind[:, 0][src_ind[:, 0] >= target.size(1)] = float(target.size(1)) - 1\n",
    "        src_ind[:, 1][src_ind[:, 1] >= target.size(2)] = float(target.size(2)) - 1\n",
    "\n",
    "        # rotate tensor\n",
    "        \n",
    "        src_ind = src_ind.long()\n",
    "        \n",
    "        target_rotated = torch.zeros_like(target)\n",
    "        target_rotated[:, xv.view(-1), yv.view(-1)] = target_temp[:, src_ind[:, 0], src_ind[:, 1]]\n",
    "        \n",
    "        \"\"\"#TEST: tests if the magnitude is still the same after rotation. It should be.\n",
    "        print(torch.mean(torch.sqrt((target[1:2,:,:]**2 + target[2:3,:,:]**2))))\n",
    "        print(torch.mean(torch.sqrt((target_temp[1:2,:,:]**2 + target_temp[2:3,:,:]**2))))\"\"\"\n",
    "        \n",
    "        \n",
    "        # detach tensors to counter leaf error\n",
    "        boundary_conditions_rotated = boundary_conditions_rotated.detach()\n",
    "        boundary_conditions_rotated.requires_grad = True\n",
    "        target_rotated = boundary_conditions_rotated.detach()\n",
    "        target_rotated.requires_grad = True\n",
    "\n",
    "        \n",
    "\n",
    "        return {'boundary_conditions': boundary_conditions_rotated, 'target': target_rotated}\n",
    "    \n",
    "direc_test = DirectionalRotation(32, dimensionality = '2D')\n",
    "direc_test(dataset[1])"
   ]
  },
  {
   "cell_type": "code",
   "execution_count": 96,
   "metadata": {},
   "outputs": [
    {
     "name": "stdout",
     "output_type": "stream",
     "text": [
      "torch.Size([7, 32, 32])\n",
      "-0.38844443689992403\n",
      "tensor(0.0098)\n",
      "tensor(0.0098)\n",
      "tensor(0.0251)\n",
      "tensor(0.0251)\n"
     ]
    }
   ],
   "source": [
    "## try to plot rotated images\n",
    "#plot ground truth\n",
    "sample =96\n",
    "sample_dict = direc_test(dataset[sample])"
   ]
  },
  {
   "cell_type": "code",
   "execution_count": 98,
   "metadata": {},
   "outputs": [
    {
     "name": "stdout",
     "output_type": "stream",
     "text": [
      "(32, 32, 7) (32, 32, 4)\n"
     ]
    },
    {
     "data": {
      "image/png": "[encoded data removed]",
      "text/plain": [
       "<Figure size 1080x432 with 10 Axes>"
      ]
     },
     "metadata": {
      "needs_background": "light"
     },
     "output_type": "display_data"
    }
   ],
   "source": [
    "\n",
    "sample_bc = np.moveaxis(sample_dict['boundary_conditions'].data.numpy(), 0, 2)\n",
    "sample_target = np.moveaxis(sample_dict['target'].data.numpy(), 0, 2)\n",
    "print(sample_bc.shape, sample_target.shape)\n",
    "plot_grid_2d(sample_bc, sample_target)"
   ]
  },
  {
   "cell_type": "code",
   "execution_count": 159,
   "metadata": {},
   "outputs": [
    {
     "name": "stdout",
     "output_type": "stream",
     "text": [
      "D:\\Ansys Simulations\\Project\\2D\\data\\proof_of_concept_V2\\scaled\\arrays\\input\n",
      "path contains 'input' and 'output'\n"
     ]
    },
    {
     "data": {
      "text/plain": [
       "<torch.utils.data.dataloader.DataLoader at 0x17b545b6508>"
      ]
     },
     "execution_count": 159,
     "metadata": {},
     "output_type": "execute_result"
    }
   ],
   "source": [
    "\n",
    "## create dataset\n",
    "folders_path =  pathlib.Path('D:/Ansys Simulations/Project/2D/data/proof_of_concept_V2/scaled/arrays')\n",
    "\n",
    "## transform the dataset\n",
    "transformed_dataset = TwoD_Dataset(folders_path, glob_parameter = '*.npy',\n",
    "                                           transform = DirectionalRotation(32, dimensionality = '2D'))\n",
    "\n",
    "## create the dataloader\n",
    "transformed_dataloader = torch.utils.data.DataLoader(transformed_dataset, batch_size=6,\n",
    "                        shuffle=True)\n",
    "transformed_dataloader"
   ]
  },
  {
   "cell_type": "code",
   "execution_count": 141,
   "metadata": {},
   "outputs": [
    {
     "name": "stdout",
     "output_type": "stream",
     "text": [
      "0 torch.Size([6, 7, 32, 32]) torch.Size([6, 4, 32, 32])\n",
      "1 torch.Size([6, 7, 32, 32]) torch.Size([6, 4, 32, 32])\n",
      "2 torch.Size([6, 7, 32, 32]) torch.Size([6, 4, 32, 32])\n",
      "3 torch.Size([6, 7, 32, 32]) torch.Size([6, 4, 32, 32])\n",
      "4 torch.Size([6, 7, 32, 32]) torch.Size([6, 4, 32, 32])\n",
      "5 torch.Size([6, 7, 32, 32]) torch.Size([6, 4, 32, 32])\n",
      "6 torch.Size([6, 7, 32, 32]) torch.Size([6, 4, 32, 32])\n",
      "7 torch.Size([6, 7, 32, 32]) torch.Size([6, 4, 32, 32])\n",
      "8 torch.Size([6, 7, 32, 32]) torch.Size([6, 4, 32, 32])\n",
      "9 torch.Size([6, 7, 32, 32]) torch.Size([6, 4, 32, 32])\n",
      "10 torch.Size([6, 7, 32, 32]) torch.Size([6, 4, 32, 32])\n",
      "11 torch.Size([6, 7, 32, 32]) torch.Size([6, 4, 32, 32])\n",
      "12 torch.Size([6, 7, 32, 32]) torch.Size([6, 4, 32, 32])\n",
      "13 torch.Size([6, 7, 32, 32]) torch.Size([6, 4, 32, 32])\n",
      "14 torch.Size([6, 7, 32, 32]) torch.Size([6, 4, 32, 32])\n",
      "15 torch.Size([6, 7, 32, 32]) torch.Size([6, 4, 32, 32])\n",
      "16 torch.Size([6, 7, 32, 32]) torch.Size([6, 4, 32, 32])\n"
     ]
    }
   ],
   "source": [
    "for i_batch, sample_batched in enumerate(transformed_dataloader):\n",
    "    print(i_batch, sample_batched['boundary_conditions'].size(),\n",
    "          sample_batched['target'].size())"
   ]
  },
  {
   "cell_type": "markdown",
   "metadata": {},
   "source": [
    "## BASE"
   ]
  },
  {
   "cell_type": "code",
   "execution_count": 202,
   "metadata": {},
   "outputs": [],
   "source": [
    "## define the neural network's general shape\n",
    "\n",
    "class ConvNet(nn.Module):\n",
    "    def __init__(self):\n",
    "        super(ConvNet, self).__init__()\n",
    "        \n",
    "        ## convolutional layers\n",
    "        self.conv1 = nn.Conv2d(in_channels = 7, out_channels = 14, kernel_size = 3, padding = 1)\n",
    "        self.conv2 = nn.Conv2d(in_channels = 14, out_channels = 16, kernel_size = 3, padding = 1)\n",
    "        self.deconv1 = nn.ConvTranspose2d(in_channels = 16, out_channels = 14, kernel_size = 3, padding = 1)\n",
    "        self.deconv2 = nn.ConvTranspose2d(in_channels = 14, out_channels = 10, kernel_size = 3, padding = 1)\n",
    "        self.deconv3 = nn.ConvTranspose2d(in_channels = 10, out_channels = 7, kernel_size = 3, padding = 1)\n",
    "        self.deconv4 = nn.ConvTranspose2d(in_channels = 7, out_channels = 3, kernel_size = 3, padding = 1)\n",
    "        \n",
    "        ## activation\n",
    "        self.hardtanh = nn.Hardtanh()\n",
    "        \n",
    "        \n",
    "        ##possible for later: MultiheadAttention\n",
    "        self.multihead_attn_middle = SelfAttention(in_dim = 16, activation = None)\n",
    "        \n",
    "        \n",
    "    def forward(self, boundary_conditions):\n",
    "        #print(boundary_conditions.shape)\n",
    "        x = self.conv1(boundary_conditions)\n",
    "        x = self.hardtanh(x)\n",
    "        #print(x.shape)\n",
    "        x = self.conv2(x)\n",
    "        x = self.multihead_attn_middle(x)\n",
    "        x = self.hardtanh(x)\n",
    "        #print(x.shape)\n",
    "        x = self.deconv1(x)\n",
    "        x = self.hardtanh(x)\n",
    "       #print(x.shape)\n",
    "        x = self.deconv2(x)\n",
    "        x = self.hardtanh(x)\n",
    "        #print(x.shape)\n",
    "        x = self.deconv3(x)\n",
    "        x = self.hardtanh(x)\n",
    "       # print(x.shape)\n",
    "        x = self.deconv4(x)\n",
    "        x = self.hardtanh(x)\n",
    "        #print(x.shape)\n",
    "        return x\n",
    "    \n",
    "net = ConvNet().cuda().float()\n",
    "\n",
    "## test to see if getting the correct size\n",
    "#net.forward(dataset[0][0:1,:,:,:].cuda())"
   ]
  },
  {
   "cell_type": "code",
   "execution_count": null,
   "metadata": {},
   "outputs": [],
   "source": []
  },
  {
   "cell_type": "code",
   "execution_count": 203,
   "metadata": {},
   "outputs": [],
   "source": [
    "## define criterion\n",
    "criterion = nn.MSELoss().cuda()\n",
    "learn_rate = 0.0002\n",
    "optimizer = torch.optim.Adam(params = net.parameters(), lr=learn_rate, betas=(0.9, 0.999))"
   ]
  },
  {
   "cell_type": "code",
   "execution_count": null,
   "metadata": {},
   "outputs": [],
   "source": []
  },
  {
   "cell_type": "code",
   "execution_count": 204,
   "metadata": {},
   "outputs": [
    {
     "name": "stdout",
     "output_type": "stream",
     "text": [
      "D:\\Ansys Simulations\\Project\\2D\\data\\proof_of_concept_V2\\scaled\\arrays\\input\n",
      "path contains 'input' and 'output'\n",
      "102\n",
      "91 11\n"
     ]
    }
   ],
   "source": [
    "## create dataset\n",
    "folders_path =  pathlib.Path('D:/Ansys Simulations/Project/2D/data/proof_of_concept_V2/scaled/arrays')\n",
    "\n",
    "## transform the dataset\n",
    "transformed_dataset = TwoD_Dataset(folders_path, glob_parameter = '*.npy',\n",
    "                                           transform = DirectionalRotation(32, dimensionality = '2D'))\n",
    "## train dataset \n",
    "print(len(transformed_dataset))\n",
    "train_percentage = 0.9\n",
    "train_length = int(len(transformed_dataset)*train_percentage)\n",
    "test_length = len(transformed_dataset) - train_length\n",
    "train_dataset, val_dataset = torch.utils.data.random_split(transformed_dataset, (train_length, test_length))\n",
    "print(len(train_dataset), len(val_dataset))\n",
    "\n",
    "\n",
    "batch_size = 6\n",
    "## create the dataloader\n",
    "train_dataloader = torch.utils.data.DataLoader(train_dataset, batch_size,\n",
    "                        shuffle=True)\n",
    "val_dataloader = torch.utils.data.DataLoader(val_dataset, batch_size,\n",
    "                        shuffle=True)"
   ]
  },
  {
   "cell_type": "code",
   "execution_count": 201,
   "metadata": {},
   "outputs": [
    {
     "data": {
      "text/html": [
       "\n",
       "                Logging results to <a href=\"https://wandb.com\" target=\"_blank\">Weights & Biases</a> <a href=\"https://docs.wandb.com/integrations/jupyter.html\" target=\"_blank\">(Documentation)</a>.<br/>\n",
       "                Project page: <a href=\"https://app.wandb.ai/walther/Project\" target=\"_blank\">https://app.wandb.ai/walther/Project</a><br/>\n",
       "                Run page: <a href=\"https://app.wandb.ai/walther/Project/runs/6xd4or9u\" target=\"_blank\">https://app.wandb.ai/walther/Project/runs/6xd4or9u</a><br/>\n",
       "            "
      ],
      "text/plain": [
       "<IPython.core.display.HTML object>"
      ]
     },
     "metadata": {},
     "output_type": "display_data"
    },
    {
     "data": {
      "text/plain": [
       "W&B Run: https://app.wandb.ai/walther/Project/runs/6xd4or9u"
      ]
     },
     "execution_count": 201,
     "metadata": {},
     "output_type": "execute_result"
    }
   ],
   "source": [
    "## setup logging\n",
    "epochs = 100\n",
    "wandb.init(config={\"epochs\": epochs, \"batch_size\": batch_size,'learning_rate': learn_rate, 'architecture':'base_with_attention_architecture', 'database': 'v3'})"
   ]
  },
  {
   "cell_type": "code",
   "execution_count": 205,
   "metadata": {},
   "outputs": [
    {
     "data": {
      "text/html": [
       "<iframe src=\"https://app.wandb.ai/walther/Project/runs/6xd4or9u?jupyter=true&state=paused\" style=\"border:none;width:100%;height:420px\">\n",
       "                </iframe>"
      ],
      "text/plain": [
       "<wandb.jupyter.Run at 0x17b54d96508>"
      ]
     },
     "metadata": {},
     "output_type": "display_data"
    },
    {
     "name": "stdout",
     "output_type": "stream",
     "text": [
      "1 1 0.0031003442127257586 0.0005161467473953962\n",
      "2 1 0.00046800501877442 9.772613702807575e-05\n",
      "3 1 0.00023555611551273614 6.167640385683626e-05\n",
      "4 1 0.00018702390661928803 5.1791768055409196e-05\n",
      "5 1 0.00019432111002970487 4.246741300448775e-05\n",
      "6 1 0.00014018082583788782 3.809934569289908e-05\n",
      "7 1 0.00014331561396829784 3.726298309629783e-05\n",
      "8 1 0.00011242812615819275 3.358119138283655e-05\n",
      "9 1 0.00010565270349616185 3.316289948998019e-05\n",
      "10 1 0.00010852831474039704 2.8816987469326705e-05\n",
      "11 1 0.00010024502262240276 2.8912562265759333e-05\n",
      "12 1 9.974504791898653e-05 2.6240783336106686e-05\n",
      "13 1 9.405712626175955e-05 2.350347422179766e-05\n",
      "14 1 8.239760063588619e-05 2.151950466213748e-05\n",
      "15 1 8.832131425151601e-05 2.0583256991812958e-05\n",
      "16 1 6.058580765966326e-05 1.9799196161329745e-05\n",
      "17 1 8.221097232308239e-05 1.7286011279793455e-05\n",
      "18 1 5.82554166612681e-05 1.8213929433841258e-05\n",
      "19 1 4.5996268454473466e-05 1.62187272508163e-05\n",
      "20 1 4.1056988266063854e-05 1.3236354425316676e-05\n",
      "21 1 5.135075844009407e-05 1.5666197214159183e-05\n",
      "22 1 5.483342829393223e-05 1.529296932858415e-05\n",
      "23 1 4.3732052290579304e-05 1.115276972996071e-05\n",
      "24 1 2.5960487619158812e-05 1.3845504145137966e-05\n",
      "25 1 4.494700988288969e-05 1.1257320511504077e-05\n",
      "26 1 3.4399494325043634e-05 9.533509364700877e-06\n",
      "27 1 2.8678545277216472e-05 9.845462409430184e-06\n",
      "28 1 2.8560179998748936e-05 8.4004903328605e-06\n",
      "29 1 2.1584559362963773e-05 8.947707829065622e-06\n",
      "30 1 2.477800808264874e-05 7.008446118561551e-06\n",
      "31 1 3.0322486054501496e-05 7.3815754149109125e-06\n",
      "32 1 2.7638401661533862e-05 6.459529686253518e-06\n",
      "33 1 2.8465317882364616e-05 5.429260454548057e-06\n",
      "34 1 2.2747308321413584e-05 5.3979138101567514e-06\n",
      "35 1 2.102564940287266e-05 4.365618224255741e-06\n",
      "36 1 1.0955490324704442e-05 3.976695370511152e-06\n",
      "37 1 1.2939296539116185e-05 4.650437585951295e-06\n",
      "38 1 1.8905881006503478e-05 3.67908814951079e-06\n",
      "39 1 1.567782055644784e-05 3.3723445085342973e-06\n",
      "40 1 1.7750975530361757e-05 3.758173443202395e-06\n",
      "41 1 9.434413186681923e-06 3.2718753573135473e-06\n",
      "42 1 1.1764016562665347e-05 3.586012462619692e-06\n",
      "43 1 2.0935853171977215e-05 3.3340277695970142e-06\n",
      "44 1 9.434598723601084e-06 3.0708608392160388e-06\n",
      "45 1 1.1396117770345882e-05 3.061759616684867e-06\n",
      "46 1 1.1250787792960182e-05 3.5409889278525952e-06\n",
      "47 1 1.4863775504636578e-05 3.1382785891764796e-06\n",
      "48 1 1.2188083019282203e-05 2.9156198252167086e-06\n",
      "49 1 1.6580999727011658e-05 2.6931868887913877e-06\n",
      "50 1 5.931540272285929e-06 2.793244129861705e-06\n",
      "51 1 1.1564892702153884e-05 2.864077305275714e-06\n",
      "52 1 1.2750810128636658e-05 2.452062926749932e-06\n",
      "53 1 8.475495633319952e-06 2.519364898034837e-06\n",
      "54 1 9.9082508313586e-06 2.698549269553041e-06\n",
      "55 1 9.617177965992596e-06 2.5314780032204e-06\n",
      "56 1 1.4875187844154425e-05 2.627354433570872e-06\n",
      "57 1 7.577873475383967e-06 2.1032576114521364e-06\n",
      "58 1 1.0681997082429007e-05 2.687966753001092e-06\n",
      "59 1 9.58026521402644e-06 2.4143017071764914e-06\n",
      "60 1 1.2399944353091996e-05 2.634150496305665e-06\n",
      "61 1 1.2272096682863776e-05 2.4603512429166584e-06\n",
      "62 1 1.2648406482185237e-05 2.5321553039248103e-06\n",
      "63 1 1.2646705727092922e-05 2.632753239595331e-06\n",
      "64 1 1.036441699397983e-05 2.360475991736166e-06\n",
      "65 1 1.228701148647815e-05 2.519249483157182e-06\n",
      "66 1 8.24054041004274e-06 2.0301238691899924e-06\n",
      "67 1 7.1780450525693595e-06 2.5206784812326076e-06\n",
      "68 1 8.112453542707954e-06 1.9586246708058753e-06\n",
      "69 1 8.842104762152303e-06 2.3492965738114434e-06\n",
      "70 1 7.364155408140505e-06 2.3700748897681478e-06\n",
      "71 1 1.0288790690538008e-05 2.2119084860605654e-06\n",
      "72 1 8.24894777906593e-06 2.0877700990240555e-06\n",
      "73 1 9.27493329072604e-06 2.028611743298825e-06\n",
      "74 1 6.723121714458102e-06 2.204385873483261e-06\n",
      "75 1 7.04953617969295e-06 2.0759215658472384e-06\n",
      "76 1 3.829760771623114e-06 2.077420776913641e-06\n",
      "77 1 5.448653610073961e-06 2.077195495076012e-06\n",
      "78 1 6.342582764773397e-06 2.101098289131187e-06\n",
      "79 1 8.10443907539593e-06 1.8893572814704385e-06\n",
      "80 1 8.36711569718318e-06 1.99478781723883e-06\n",
      "81 1 9.588919965608511e-06 2.472872074577026e-06\n",
      "82 1 5.840458015882177e-06 2.0548779502860272e-06\n",
      "83 1 6.591543296963209e-06 1.989823613257613e-06\n",
      "84 1 1.1214782716706395e-05 2.256585776194697e-06\n",
      "85 1 6.067167760193115e-06 2.0120020053582267e-06\n",
      "86 1 5.782297193945851e-06 1.730939584376756e-06\n",
      "87 1 1.3711386600334663e-05 2.134041005774634e-06\n",
      "88 1 6.160660632303916e-06 1.7470101738581434e-06\n",
      "89 1 6.515771019621752e-06 1.9116253497486467e-06\n",
      "90 1 9.037298696057405e-06 1.8202447790827137e-06\n",
      "91 1 3.900910087395459e-06 1.6270452761091291e-06\n",
      "92 1 1.2556501133076381e-05 1.6935408439167078e-06\n",
      "93 1 1.1506193914101459e-05 1.7282774479099316e-06\n",
      "94 1 7.449841632478638e-06 1.9041412087972275e-06\n",
      "95 1 4.80219796372694e-06 1.6760514881752898e-06\n",
      "96 1 7.957801244629081e-06 1.7659548575466032e-06\n",
      "97 1 4.796069788426394e-06 1.6787457752798218e-06\n",
      "98 1 7.89024488767609e-06 1.6886011053429684e-06\n",
      "99 1 7.081385774654336e-06 1.7312767795374384e-06\n",
      "100 1 6.4147880038945004e-06 1.9835008970403576e-06\n",
      "Finished Training\n"
     ]
    }
   ],
   "source": [
    "%%wandb\n",
    "\n",
    "\n",
    "## define a general training loop\n",
    "losses = np.array([0,0,0])\n",
    "for epoch in range(epochs):  # loop over the dataset multiple times\n",
    "\n",
    "    running_loss = 0.0\n",
    "\n",
    "    #print(type(boundary_conditions))\n",
    "    #net = net.cuda()\n",
    "    for i, sample_batch in enumerate(train_dataloader):\n",
    "        #print(sample_batch[\"boundary_conditions\"].size(), sample_batch[\"target\"].size())\n",
    "        bc = sample_batch[\"boundary_conditions\"].cuda()\n",
    "        tgt = sample_batch[\"target\"][:, 1:4, :,  :].cuda()\n",
    "        #material_matrix = bc[i, 0, :, :].unsqueeze(0).repeat([1,3,1,1])\n",
    "        #print(i, bc.shape, tgt.shape)\n",
    "\n",
    "        # get the inputs; data is a list of [boundary_conditions, targets]\n",
    "        \n",
    "        # zero the parameter gradients\n",
    "        optimizer.zero_grad()\n",
    "\n",
    "        # forward + backward + optimize\n",
    "        prediction = net(bc)\n",
    "        loss = criterion(prediction, tgt)#/torch.sum(material_matrix)\n",
    "        #print(loss)\n",
    "        loss.backward()\n",
    "        optimizer.step()\n",
    "        \n",
    "        \n",
    "        # print statistics\n",
    "        running_loss += loss.item()\n",
    "        if i % 100 == 0:    # print every 10 mini-batches\n",
    "            running_val_loss = 0.0\n",
    "            with torch.no_grad():\n",
    "                for ii, sample_val_batch in enumerate(val_dataloader):\n",
    "                    bc_val = sample_val_batch[\"boundary_conditions\"].cuda()\n",
    "                    tgt_val = sample_val_batch[\"target\"][:, 1:4, :,  :].cuda()\n",
    "                    \n",
    "                    prediction_val = net(bc_val)\n",
    "                    val_loss = criterion(prediction_val, tgt_val)#/torch.sum(material_matrix)\n",
    "                    \n",
    "                    running_val_loss+=val_loss.item()\n",
    "                \n",
    "            print(f'{epoch + 1} {i + 1} {running_loss} {running_val_loss/10}')\n",
    "            wandb.log({\"loss\": running_loss})\n",
    "            wandb.log({\"val_loss\": running_val_loss})\n",
    "            losses = np.vstack((losses, [epoch, running_loss, running_val_loss]))\n",
    "            #print(losses)\n",
    "            running_loss = 0.0\n",
    "            \n",
    "\n",
    "print('Finished Training')"
   ]
  },
  {
   "cell_type": "code",
   "execution_count": 206,
   "metadata": {
    "scrolled": true
   },
   "outputs": [
    {
     "data": {
      "text/plain": [
       "[<matplotlib.lines.Line2D at 0x17b54d09f48>,\n",
       " <matplotlib.lines.Line2D at 0x17b54d48bc8>]"
      ]
     },
     "execution_count": 206,
     "metadata": {},
     "output_type": "execute_result"
    },
    {
     "data": {
      "image/png": "[encoded data removed]",
      "text/plain": [
       "<Figure size 432x288 with 1 Axes>"
      ]
     },
     "metadata": {
      "needs_background": "light"
     },
     "output_type": "display_data"
    }
   ],
   "source": [
    "## attempt to plot losses over time\n",
    "plt.plot(losses[1:,0], losses[1:,1:])"
   ]
  },
  {
   "cell_type": "code",
   "execution_count": 207,
   "metadata": {
    "scrolled": true
   },
   "outputs": [
    {
     "data": {
      "text/plain": [
       "[<matplotlib.lines.Line2D at 0x17b54d7e688>,\n",
       " <matplotlib.lines.Line2D at 0x17b54df15c8>]"
      ]
     },
     "execution_count": 207,
     "metadata": {},
     "output_type": "execute_result"
    },
    {
     "data": {
      "image/png": "[encoded data removed]",
      "text/plain": [
       "<Figure size 432x288 with 1 Axes>"
      ]
     },
     "metadata": {
      "needs_background": "light"
     },
     "output_type": "display_data"
    }
   ],
   "source": [
    "## attempt to plot losses over time to sho where the model started overfitting on the data\n",
    "plt.plot(losses[10:,0], losses[10:,1:])"
   ]
  },
  {
   "cell_type": "markdown",
   "metadata": {},
   "source": [
    "Therefore, it can be seen that the network learns some of the relationships in the dataset, and is able to overfit it after a while. After adding a dataloader, the training improved tremendously because of the data augmentation"
   ]
  },
  {
   "cell_type": "code",
   "execution_count": 72,
   "metadata": {},
   "outputs": [],
   "source": [
    "%matplotlib inline \n",
    "#f = plt.figure()\n",
    "\n",
    "\n",
    "#plt.imshow(concat_input[:,:,0])\n",
    "def plot_grid_2d(concat_input, concat_output):\n",
    "    \n",
    "    f, axarr = plt.subplots(2,5, figsize = (15,6)) \n",
    "    \n",
    "    axarr[0,0].imshow(np.abs(concat_input[:,:,0]))\n",
    "    axarr[0,0].set(title='smoothed map')\n",
    "\n",
    "    axarr[0,1].imshow(np.abs(concat_input[:,:,1]))\n",
    "    axarr[0,1].set(title='X displacement B.C.')\n",
    "\n",
    "    axarr[0,2].imshow(np.abs(concat_input[:,:,2]))\n",
    "    axarr[0,2].set(title='Y displacement B.C.')\n",
    "\n",
    "    axarr[0,3].imshow(np.abs(concat_input[:,:,3]))\n",
    "    axarr[0,3].set(title='Z displacement  B.C')\n",
    "\n",
    "    axarr[0,4].imshow(np.abs(concat_input[:,:,4]))\n",
    "    axarr[0,4].set(title='X force B.C.')\n",
    "\n",
    "    axarr[1,0].imshow(np.abs(concat_input[:,:,5]))\n",
    "    axarr[1,0].set(title='Y force B.C.')\n",
    "\n",
    "    axarr[1,1].imshow(np.abs(concat_input[:,:,6]))\n",
    "    axarr[1,1].set(title='Z force B.C.')\n",
    "\n",
    "    axarr[1,2].imshow(np.abs(concat_output[:,:,1]))\n",
    "    axarr[1,2].set(title='X displacement result')\n",
    "\n",
    "    axarr[1,3].imshow(np.abs(concat_output[:,:,2]))\n",
    "    axarr[1,3].set(title='Y displacement result')\n",
    "\n",
    "    axarr[1,4].imshow(np.abs(concat_output[:,:,3]))\n",
    "    axarr[1,4].set(title='Z displacement result')\n",
    "\n",
    "    plt.show()"
   ]
  },
  {
   "cell_type": "code",
   "execution_count": 246,
   "metadata": {},
   "outputs": [
    {
     "name": "stdout",
     "output_type": "stream",
     "text": [
      "<class '__main__.TwoD_Dataset'>\n",
      "(32, 32, 7) (32, 32, 7)\n"
     ]
    },
    {
     "data": {
      "image/png": "[encoded data removed]",
      "text/plain": [
       "<Figure size 1080x432 with 10 Axes>"
      ]
     },
     "metadata": {
      "needs_background": "light"
     },
     "output_type": "display_data"
    }
   ],
   "source": [
    "#plot ground truth\n",
    "sample =21\n",
    "print(type(transformed_dataset))\n",
    "sample_bc = np.moveaxis(transformed_dataset[sample]['boundary_conditions'].data.clone().data.numpy(), 0, 2)\n",
    "sample_target = np.moveaxis(transformed_dataset[sample]['target'].clone().data.numpy(), 0, 2)\n",
    "print(sample_bc.shape, sample_target.shape)\n",
    "plot_grid_2d(sample_bc, sample_target)"
   ]
  },
  {
   "cell_type": "code",
   "execution_count": 247,
   "metadata": {},
   "outputs": [
    {
     "name": "stdout",
     "output_type": "stream",
     "text": [
      "torch.Size([1, 7, 32, 32])\n",
      "torch.Size([1, 3, 32, 32])\n",
      "(1, 4, 32, 32)\n",
      "(1, 32, 32, 4)\n"
     ]
    },
    {
     "data": {
      "image/png": "[encoded data removed]",
      "text/plain": [
       "<Figure size 1080x432 with 10 Axes>"
      ]
     },
     "metadata": {
      "needs_background": "light"
     },
     "output_type": "display_data"
    }
   ],
   "source": [
    "sample = 21\n",
    "sample_bc = np.moveaxis(transformed_dataset[sample]['boundary_conditions'].data.clone().data.numpy(), 0, 2)\n",
    "## plot one of the results after passing the convolutional network through it once\n",
    "print(transformed_dataset[sample:sample+1]['boundary_conditions'].data.clone().shape)\n",
    "sample_prediction = net.cpu().forward(transformed_dataset[sample:sample+1]['boundary_conditions'].data.clone())\n",
    "print(sample_prediction.shape)\n",
    "sample_prediction = F.pad(sample_prediction, (0,0,0,0,0,1)).detach().numpy()\n",
    "print(sample_prediction.shape)\n",
    "sample_prediction = np.moveaxis(sample_prediction, 1, 3)\n",
    "print(sample_prediction.shape)\n",
    "\n",
    "\n",
    "#print(sample_prediction.shape, dataset[0][27:28,:,10,22], sample_prediction[:,:,10,22])\n",
    "plot_grid_2d(sample_bc, sample_prediction[0,:,:,:])"
   ]
  },
  {
   "cell_type": "markdown",
   "metadata": {},
   "source": [
    "So one of the conclusions is that the convolutional network was  able to succesfully learn a model that can be applied to a space to generate a result  that correlates to the target. Even with a very small number of samples, the network was able to learn some basic principles about the geometry of the sample and of the relationships between boundary conditions and targets"
   ]
  },
  {
   "cell_type": "code",
   "execution_count": 53,
   "metadata": {},
   "outputs": [
    {
     "name": "stdout",
     "output_type": "stream",
     "text": [
      "torch.Size([1, 3, 32, 32])\n",
      "torch.Size([1, 3, 32, 32])\n",
      " 0.000156545\n"
     ]
    }
   ],
   "source": [
    "## get loss of the results\n",
    "with torch.no_grad():\n",
    "    print(dataset[1][sample, 1:4, :, :].unsqueeze(0).shape)\n",
    "    print(net.forward(dataset[0][sample:sample+1,:,:,:]).shape)\n",
    "    loss_1_it = criterion(dataset[1][sample, 1:4, :, :].unsqueeze(0), net.forward(dataset[0][sample:sample+1,:,:,:]))\n",
    "    print(f'{loss_1_it: .9f}')"
   ]
  },
  {
   "cell_type": "code",
   "execution_count": 32,
   "metadata": {},
   "outputs": [],
   "source": [
    "## create a generator to evaluate how loss progresses with multiple applications of the network\n",
    "def convolute_iteration(conditions, netwrk, repeat = True):\n",
    "    with torch.no_grad():\n",
    "        pred = netwrk(conditions) #torch.Size([1, 3, 32, 32])\n",
    "        new_condition = conditions.clone()\n",
    "        new_condition[:, 1:4, :, :] = pred\n",
    "        i=0\n",
    "        while repeat:\n",
    "            i +=1\n",
    "            print(i)\n",
    "            pred = netwrk(new_condition)\n",
    "            new_condition = conditions.clone()\n",
    "            new_condition[:, 1:4, :, :] = pred\n",
    "            \n",
    "            yield pred"
   ]
  },
  {
   "cell_type": "code",
   "execution_count": 118,
   "metadata": {},
   "outputs": [],
   "source": [
    "## create iterator intance for loss plot\n",
    "predicts = convolute_iteration(dataset[0][sample:sample+1,:,:,:], net)\n",
    "loss_iterator = []"
   ]
  },
  {
   "cell_type": "code",
   "execution_count": 213,
   "metadata": {},
   "outputs": [
    {
     "name": "stdout",
     "output_type": "stream",
     "text": [
      "95\n",
      " 0.116603315\n"
     ]
    },
    {
     "data": {
      "image/png": "[encoded data removed]",
      "text/plain": [
       "<Figure size 432x288 with 1 Axes>"
      ]
     },
     "metadata": {
      "needs_background": "light"
     },
     "output_type": "display_data"
    }
   ],
   "source": [
    "with torch.no_grad():\n",
    "    \n",
    "    loss_2_it = criterion(dataset[1][sample, 1:4, :, :].unsqueeze(0), next(predicts))\n",
    "    loss_iterator.append(loss_2_it)\n",
    "    print(f'{loss_2_it: .9f}')\n",
    "    plt.plot(loss_iterator)"
   ]
  },
  {
   "cell_type": "markdown",
   "metadata": {},
   "source": [
    "What has been shown with this is that subsequent applications of this model don't increase its accuracy, however it does converge to a certain value. The fact that there is convergence is grounds for exploring whether this convergence can be used as a feature of the model itself."
   ]
  },
  {
   "cell_type": "code",
   "execution_count": 215,
   "metadata": {},
   "outputs": [],
   "source": [
    "## create iterator intance for prediction plot\n",
    "predicts = convolute_iteration(dataset[0][sample:sample+1,:,:,:], net)\n"
   ]
  },
  {
   "cell_type": "code",
   "execution_count": 217,
   "metadata": {
    "scrolled": true
   },
   "outputs": [
    {
     "name": "stdout",
     "output_type": "stream",
     "text": [
      "2\n",
      "torch.Size([1, 3, 32, 32])\n",
      "(1, 4, 32, 32)\n",
      "(1, 32, 32, 4)\n"
     ]
    },
    {
     "data": {
      "image/png": "[encoded data removed]",
      "text/plain": [
       "<Figure size 1080x432 with 10 Axes>"
      ]
     },
     "metadata": {
      "needs_background": "light"
     },
     "output_type": "display_data"
    }
   ],
   "source": [
    "sample_prediction = next(predicts)\n",
    "print(sample_prediction.shape)\n",
    "sample_prediction = F.pad(sample_prediction, (0,0,0,0,0,1)).detach().numpy()\n",
    "print(sample_prediction.shape)\n",
    "sample_prediction = np.moveaxis(sample_prediction, 1, 3)\n",
    "print(sample_prediction.shape)\n",
    "\n",
    "\n",
    "#print(sample_prediction.shape, dataset[0][27:28,:,10,22], sample_prediction[:,:,10,22])\n",
    "plot_grid_2d(sample_bc, sample_prediction[0,:,:,:])"
   ]
  },
  {
   "cell_type": "markdown",
   "metadata": {},
   "source": [
    "Now I want to explore a lot of things and their impact on the model's predictions:\n",
    "\n",
    "- leaning rates\n",
    "- different conv deconv architectures\n",
    "- pre-trained models (if models trained on images help with accuracy in this case, then it is possible to use models trained in other types of object for the 3d version)\n",
    "- attention\n",
    "- different losses\n",
    "- increase amount of model forward feeds before doing gradient descent to try to get the model to converge closer to the target value if applied several times\n",
    "- Other activation strategies"
   ]
  },
  {
   "cell_type": "code",
   "execution_count": 218,
   "metadata": {},
   "outputs": [],
   "source": []
  },
  {
   "cell_type": "markdown",
   "metadata": {},
   "source": [
    "## ENCODER DECODER"
   ]
  },
  {
   "cell_type": "code",
   "execution_count": 19,
   "metadata": {},
   "outputs": [
    {
     "data": {
      "text/html": [
       "\n",
       "                Logging results to <a href=\"https://wandb.com\" target=\"_blank\">Weights & Biases</a> <a href=\"https://docs.wandb.com/integrations/jupyter.html\" target=\"_blank\">(Documentation)</a>.<br/>\n",
       "                Project page: <a href=\"https://app.wandb.ai/walther/Project\" target=\"_blank\">https://app.wandb.ai/walther/Project</a><br/>\n",
       "                Run page: <a href=\"https://app.wandb.ai/walther/Project/runs/f9a3hvrd\" target=\"_blank\">https://app.wandb.ai/walther/Project/runs/f9a3hvrd</a><br/>\n",
       "            "
      ],
      "text/plain": [
       "<IPython.core.display.HTML object>"
      ]
     },
     "metadata": {},
     "output_type": "display_data"
    },
    {
     "data": {
      "text/plain": [
       "W&B Run: https://app.wandb.ai/walther/Project/runs/f9a3hvrd"
      ]
     },
     "execution_count": 19,
     "metadata": {},
     "output_type": "execute_result"
    }
   ],
   "source": [
    "##update loging\n",
    "wandb.init(config={\"epochs\": 30, \"batch_size\": 90,'learning_rate': 0.0005, 'architecture':'encoder_decoder_architecture'})"
   ]
  },
  {
   "cell_type": "code",
   "execution_count": 20,
   "metadata": {},
   "outputs": [],
   "source": [
    "\n",
    "## First, see the result of a conv-deconv architecture with exactly the same parameters but that condenses\n",
    "## the inputs into a feature array first\n",
    "## define the neural network's general shape\n",
    "\n",
    "class Encode_decode_Net(nn.Module):\n",
    "    def __init__(self):\n",
    "        super(Encode_decode_Net, self).__init__()\n",
    "        \n",
    "        ## convolutional layers\n",
    "        self.conv1 = nn.Conv2d(in_channels = 7, out_channels = 14, kernel_size = 3, padding = 1)\n",
    "        self.conv2 = nn.Conv2d(in_channels = 14, out_channels = 16, kernel_size = 3, padding = 1)\n",
    "        self.deconv1 = nn.ConvTranspose2d(in_channels = 16, out_channels = 14, kernel_size = 3, padding = 1)\n",
    "        self.deconv2 = nn.ConvTranspose2d(in_channels = 14, out_channels = 10, kernel_size = 2,stride = 2, padding = 0)\n",
    "        self.deconv3 = nn.ConvTranspose2d(in_channels = 10, out_channels = 7, kernel_size = 2, stride = 2, padding = 0)\n",
    "        self.deconv4 = nn.ConvTranspose2d(in_channels = 7, out_channels = 3, kernel_size = 3, padding = 1)\n",
    "        \n",
    "        ## activation\n",
    "        self.hardtanh = nn.Hardtanh()\n",
    "        self.tanh = nn.Tanh()\n",
    "        self.prelu = nn.PReLU()\n",
    "        self.leaky_relu = nn.LeakyReLU()\n",
    "        \n",
    "        ## Pooling\n",
    "        self.maxpool = nn.MaxPool2d(kernel_size = 3, stride = 2, padding = 1)\n",
    "        \n",
    "        \n",
    "    def forward(self, boundary_conditions):\n",
    "        '''\n",
    "        torch.Size([1, 7, 32, 32])\n",
    "        torch.Size([1, 14, 16, 16])\n",
    "        torch.Size([1, 16, 8, 8])\n",
    "        torch.Size([1, 14, 8, 8])\n",
    "        torch.Size([1, 10, 16, 16])\n",
    "        torch.Size([1, 7, 32, 32])\n",
    "        torch.Size([1, 3, 32, 32])\n",
    "        '''\n",
    "        \n",
    "        #print(boundary_conditions.shape)\n",
    "        x = self.conv1(boundary_conditions)\n",
    "        x = self.maxpool(x)\n",
    "        x = self.prelu(x)\n",
    "        #print(x.shape)\n",
    "        x = self.conv2(x)\n",
    "        x = self.maxpool(x)\n",
    "        x = self.prelu(x)\n",
    "        #print(x.shape)\n",
    "        x = self.deconv1(x)\n",
    "        x = self.prelu(x)\n",
    "        #print(x.shape)\n",
    "        x = self.deconv2(x)\n",
    "        x = self.prelu(x)\n",
    "        #print(x.shape)\n",
    "        x = self.deconv3(x)\n",
    "        x = self.prelu(x)\n",
    "        #print(x.shape)\n",
    "        x = self.deconv4(x)\n",
    "        x = self.tanh(x)\n",
    "        #print(x.shape)\n",
    "        return x\n",
    "    \n",
    "        \n",
    "net = Encode_decode_Net().cuda().float()\n",
    "\n",
    "## test to see if getting the correct size\n",
    "net.forward(dataset[0][0:1,:,:,:].cuda());"
   ]
  },
  {
   "cell_type": "code",
   "execution_count": 21,
   "metadata": {},
   "outputs": [],
   "source": [
    "## define criterion\n",
    "criterion = nn.MSELoss().cuda()\n",
    "optimizer = torch.optim.Adam(params = net.parameters(), lr=0.0005, betas=(0.9, 0.999))"
   ]
  },
  {
   "cell_type": "code",
   "execution_count": 22,
   "metadata": {},
   "outputs": [
    {
     "data": {
      "text/html": [
       "<iframe src=\"https://app.wandb.ai/walther/Project/runs/f9a3hvrd?jupyter=true&state=paused\" style=\"border:none;width:100%;height:420px\">\n",
       "                </iframe>"
      ],
      "text/plain": [
       "<wandb.jupyter.Run at 0x1e18d44b248>"
      ]
     },
     "metadata": {},
     "output_type": "display_data"
    },
    {
     "name": "stdout",
     "output_type": "stream",
     "text": [
      "1 1 0.00802171416580677 0.009894485864788295\n",
      "2 1 0.0003933005500584841 0.0005084899457870051\n",
      "3 1 0.0003657788038253784 0.00047555426717735825\n",
      "4 1 0.0003500608145259321 0.0004607861250406131\n",
      "5 1 0.0003374926163814962 0.00044893036829307675\n",
      "6 1 0.00032674818066880107 0.00043866110208909956\n",
      "7 1 0.00031626809504814446 0.00042771732260007413\n",
      "8 1 0.00030703545780852437 0.0004170465806964785\n",
      "9 1 0.00028912126435898244 0.00039456723025068643\n",
      "10 1 0.0002805293188430369 0.0004143378551816568\n",
      "11 1 0.0002716532617341727 0.0004578035368467681\n",
      "12 1 0.00026743856142275035 0.0004761294461786747\n",
      "13 1 0.00026591529604047537 0.0004862652334850281\n",
      "14 1 0.00026553342468105257 0.0004941005012369714\n",
      "15 1 0.0002665093925315887 0.0004975401796400547\n",
      "16 1 0.00026401245850138366 0.0004975621734047309\n",
      "17 1 0.0002631078823469579 0.0005001711295335553\n",
      "18 1 0.00026175062521360815 0.0004987697931937874\n",
      "19 1 0.00026118516689166427 0.0004956273915013298\n",
      "20 1 0.00026034825714305043 0.0004962697945302353\n",
      "21 1 0.00025923995417542756 0.0004979729535989463\n",
      "22 1 0.00025948791881091893 0.0004967227709130384\n",
      "23 1 0.0002579160500317812 0.0004979778415872716\n",
      "24 1 0.00025768877821974456 0.0005007676838431508\n",
      "25 1 0.00025435304269194603 0.0005002691061235965\n",
      "26 1 0.00025223978445865214 0.0005024810787290334\n",
      "27 1 0.0002481039264239371 0.0005064501005108468\n",
      "28 1 0.000246081268414855 0.0005090463993838057\n",
      "29 1 0.00023890112061053514 0.0005163431327673606\n",
      "30 1 0.00023723863705527037 0.0005175069905817509\n",
      "Finished Training\n"
     ]
    }
   ],
   "source": [
    "%%wandb \n",
    "## logging cell magic\n",
    "##\n",
    "wandb.watch(net)\n",
    "\n",
    "\n",
    "\n",
    "## define a general training loop\n",
    "losses = np.array([0,0,0])\n",
    "for epoch in range(30):  # loop over the dataset multiple times\n",
    "\n",
    "    running_loss = 0.0\n",
    "    boundary_conditions, targets = dataset[0][:90,:,:,:].cuda(), dataset[1][:90,:,:,:].cuda()\n",
    "    #print(type(boundary_conditions))\n",
    "    for i, bc in enumerate(boundary_conditions):\n",
    "        tgt = targets[i, 1:4, :, :].unsqueeze(0)\n",
    "        bc = bc.unsqueeze(0).cuda()\n",
    "        #print(i, bc.shape, tgt.shape)\n",
    "\n",
    "        # get the inputs; data is a list of [boundary_conditions, targets]\n",
    "        \n",
    "        # zero the parameter gradients\n",
    "        optimizer.zero_grad()\n",
    "\n",
    "        # forward + backward + optimize\n",
    "        prediction = net(bc)\n",
    "        loss = criterion(prediction, tgt)\n",
    "        #print(loss)\n",
    "        loss.backward()\n",
    "        optimizer.step()\n",
    "\n",
    "        # print statistics\n",
    "        running_loss += loss.item()\n",
    "        if i % 100 == 0:    # print every 10 mini-batches\n",
    "            running_val_loss = 0.0\n",
    "            with torch.no_grad():\n",
    "                boundary_conditions_val, targets_val = dataset[0][90:,:,:,:].cuda(), dataset[1][90:,:,:,:].cuda()\n",
    "                for ii, bc_val in enumerate(boundary_conditions_val):\n",
    "                    tgt_val = targets_val[i, 1:4, :, :].unsqueeze(0)\n",
    "                    bc_val = bc_val.unsqueeze(0)\n",
    "                    prediction_val = net(bc_val)\n",
    "                    val_loss = criterion(prediction_val, tgt_val)\n",
    "                    running_val_loss+=val_loss.item()\n",
    "                \n",
    "            print(f'{epoch + 1} {i + 1} {running_loss} {running_val_loss/10}')\n",
    "            losses = np.vstack((losses, [epoch, running_loss, running_val_loss]))\n",
    "            wandb.log({\"loss\": running_loss})\n",
    "            wandb.log({\"val_loss\": running_val_loss})\n",
    "            #print(losses)\n",
    "            running_loss = 0.0\n",
    "            \n",
    "\n",
    "print('Finished Training')"
   ]
  },
  {
   "cell_type": "markdown",
   "metadata": {},
   "source": [
    "So this network achieved lower validation losses, but stayed at a higher training loss. Further, prelu showed very similar behaviour to using hardtanh. "
   ]
  },
  {
   "cell_type": "code",
   "execution_count": 23,
   "metadata": {},
   "outputs": [
    {
     "name": "stdout",
     "output_type": "stream",
     "text": [
      "torch.Size([1, 3, 32, 32])\n",
      "(1, 4, 32, 32)\n",
      "(1, 32, 32, 4)\n"
     ]
    },
    {
     "data": {
      "image/png": "[encoded data removed]",
      "text/plain": [
       "<Figure size 1080x432 with 10 Axes>"
      ]
     },
     "metadata": {
      "needs_background": "light"
     },
     "output_type": "display_data"
    }
   ],
   "source": [
    "## plot one of the results after passing the convolutional network through it once\n",
    "sample_prediction = net.cpu().forward(dataset[0][sample:sample+1,:,:,:])\n",
    "print(sample_prediction.shape)\n",
    "sample_prediction = F.pad(sample_prediction, (0,0,0,0,0,1)).detach().numpy()\n",
    "print(sample_prediction.shape)\n",
    "sample_prediction = np.moveaxis(sample_prediction, 1, 3)\n",
    "print(sample_prediction.shape)\n",
    "\n",
    "\n",
    "#print(sample_prediction.shape, dataset[0][27:28,:,10,22], sample_prediction[:,:,10,22])\n",
    "plot_grid_2d(sample_bc, sample_prediction[0,:,:,:])"
   ]
  },
  {
   "cell_type": "code",
   "execution_count": 24,
   "metadata": {},
   "outputs": [
    {
     "data": {
      "text/plain": [
       "[<matplotlib.lines.Line2D at 0x1e18daa9f08>,\n",
       " <matplotlib.lines.Line2D at 0x1e18daba9c8>]"
      ]
     },
     "execution_count": 24,
     "metadata": {},
     "output_type": "execute_result"
    },
    {
     "data": {
      "image/png": "[encoded data removed]",
      "text/plain": [
       "<Figure size 432x288 with 1 Axes>"
      ]
     },
     "metadata": {
      "needs_background": "light"
     },
     "output_type": "display_data"
    }
   ],
   "source": [
    "## plot losses over time\n",
    "plt.plot(losses[2:,0], losses[2:,1:])"
   ]
  },
  {
   "cell_type": "markdown",
   "metadata": {},
   "source": [
    "## MULTIHEAD ATTENTION"
   ]
  },
  {
   "cell_type": "code",
   "execution_count": 25,
   "metadata": {},
   "outputs": [
    {
     "data": {
      "text/html": [
       "\n",
       "                Logging results to <a href=\"https://wandb.com\" target=\"_blank\">Weights & Biases</a> <a href=\"https://docs.wandb.com/integrations/jupyter.html\" target=\"_blank\">(Documentation)</a>.<br/>\n",
       "                Project page: <a href=\"https://app.wandb.ai/walther/Project\" target=\"_blank\">https://app.wandb.ai/walther/Project</a><br/>\n",
       "                Run page: <a href=\"https://app.wandb.ai/walther/Project/runs/1aaqw1bl\" target=\"_blank\">https://app.wandb.ai/walther/Project/runs/1aaqw1bl</a><br/>\n",
       "            "
      ],
      "text/plain": [
       "<IPython.core.display.HTML object>"
      ]
     },
     "metadata": {},
     "output_type": "display_data"
    },
    {
     "data": {
      "text/plain": [
       "W&B Run: https://app.wandb.ai/walther/Project/runs/1aaqw1bl"
      ]
     },
     "execution_count": 25,
     "metadata": {},
     "output_type": "execute_result"
    }
   ],
   "source": [
    "##update loging\n",
    "wandb.init(config={\"epochs\": 20, \"batch_size\": 90,'learning_rate': 0.0002,\"amsgrad\": True, 'architecture':'attention_architecture_4'})"
   ]
  },
  {
   "cell_type": "code",
   "execution_count": 100,
   "metadata": {},
   "outputs": [],
   "source": [
    "## define attention class\n",
    "\n",
    "class SelfAttention(nn.Module):\n",
    "    \"\"\" Self attention Layer\"\"\"\n",
    "    def __init__(self,in_dim,activation):\n",
    "        super(SelfAttention,self).__init__()\n",
    "        self.chanel_in = in_dim\n",
    "        self.activation = activation\n",
    "        \n",
    "        self.query_conv = nn.Conv2d(in_channels = in_dim , out_channels = in_dim//3 , kernel_size= 1)\n",
    "        self.key_conv = nn.Conv2d(in_channels = in_dim , out_channels = in_dim//3 , kernel_size= 1)\n",
    "        self.value_conv = nn.Conv2d(in_channels = in_dim , out_channels = in_dim , kernel_size= 1)\n",
    "        self.gamma = nn.Parameter(torch.zeros(1))\n",
    "\n",
    "        self.softmax  = nn.Softmax(dim=-1) #\n",
    "    def forward(self,x):\n",
    "        \"\"\"\n",
    "            inputs :\n",
    "                x : input feature maps( B X C X W X H)\n",
    "            returns :\n",
    "                out : self attention value + input feature \n",
    "                attention: B X N X N (N is Width*Height)\n",
    "        \"\"\"\n",
    "        m_batchsize,C,width ,height = x.size()\n",
    "        proj_query  = self.query_conv(x).view(m_batchsize,-1,width*height).permute(0,2,1) # B X CX(N)\n",
    "        proj_key =  self.key_conv(x).view(m_batchsize,-1,width*height) # B X C x (*W*H)\n",
    "        energy =  torch.bmm(proj_query,proj_key) # transpose check\n",
    "        attention = self.softmax(energy) # BX (N) X (N) \n",
    "        proj_value = self.value_conv(x).view(m_batchsize,-1,width*height) # B X C X N\n",
    "\n",
    "        out = torch.bmm(proj_value,attention.permute(0,2,1) )\n",
    "        out = out.view(m_batchsize,C,width,height)\n",
    "        \n",
    "        out = self.gamma*out + x\n",
    "        return out"
   ]
  },
  {
   "cell_type": "code",
   "execution_count": 28,
   "metadata": {},
   "outputs": [
    {
     "data": {
      "text/plain": [
       "tensor([[[[-0.0690, -0.0772, -0.0768,  ..., -0.0767, -0.0840, -0.0722],\n",
       "          [-0.0702, -0.0780, -0.0769,  ..., -0.0748, -0.0834, -0.0860],\n",
       "          [-0.0737, -0.0773, -0.0746,  ..., -0.0722, -0.0819, -0.0829],\n",
       "          ...,\n",
       "          [-0.0742, -0.0751, -0.0727,  ..., -0.0700, -0.0820, -0.0806],\n",
       "          [-0.0689, -0.0673, -0.0596,  ..., -0.0590, -0.0705, -0.0718],\n",
       "          [-0.0614, -0.0442, -0.0367,  ..., -0.0369, -0.0449, -0.0484]],\n",
       "\n",
       "         [[ 0.2227,  0.2241,  0.2279,  ...,  0.2308,  0.2238,  0.2044],\n",
       "          [ 0.2156,  0.2178,  0.2296,  ...,  0.2307,  0.2229,  0.1973],\n",
       "          [ 0.2176,  0.2208,  0.2312,  ...,  0.2292,  0.2201,  0.1937],\n",
       "          ...,\n",
       "          [ 0.2226,  0.2260,  0.2339,  ...,  0.2331,  0.2214,  0.1928],\n",
       "          [ 0.2251,  0.2279,  0.2307,  ...,  0.2282,  0.2190,  0.1857],\n",
       "          [ 0.2078,  0.1987,  0.2015,  ...,  0.1993,  0.1916,  0.1678]],\n",
       "\n",
       "         [[ 0.0675,  0.0665,  0.0693,  ...,  0.0724,  0.0750,  0.0932],\n",
       "          [ 0.0730,  0.0723,  0.0794,  ...,  0.0829,  0.0916,  0.1156],\n",
       "          [ 0.0798,  0.0791,  0.0877,  ...,  0.0933,  0.1009,  0.1178],\n",
       "          ...,\n",
       "          [ 0.0787,  0.0779,  0.0882,  ...,  0.0960,  0.1035,  0.1199],\n",
       "          [ 0.0767,  0.0718,  0.0796,  ...,  0.0883,  0.1007,  0.1138],\n",
       "          [ 0.0942,  0.0900,  0.0936,  ...,  0.0989,  0.1063,  0.1086]]]],\n",
       "       device='cuda:0', grad_fn=<TanhBackward>)"
      ]
     },
     "execution_count": 28,
     "metadata": {},
     "output_type": "execute_result"
    }
   ],
   "source": [
    "class AttentionNet(nn.Module):\n",
    "    def __init__(self):\n",
    "        super(AttentionNet, self).__init__()\n",
    "        \n",
    "        ## convolutional layers\n",
    "        self.conv1 = nn.Conv2d(in_channels = 7, out_channels = 14, kernel_size = 3, padding = 1)\n",
    "        self.conv2 = nn.Conv2d(in_channels = 14, out_channels = 32, kernel_size = 3, padding = 1)\n",
    "        self.deconv1 = nn.ConvTranspose2d(in_channels = 32, out_channels = 64, kernel_size = 3, padding = 1)\n",
    "        self.deconv2 = nn.ConvTranspose2d(in_channels = 64, out_channels = 32, kernel_size = 3, padding = 1)\n",
    "        self.deconv3 = nn.ConvTranspose2d(in_channels = 32, out_channels = 7, kernel_size = 3, padding = 1)\n",
    "        self.deconv4 = nn.ConvTranspose2d(in_channels = 7, out_channels = 3, kernel_size = 3, padding = 1)\n",
    "        \n",
    "        ## activation\n",
    "        self.hardtanh = nn.Hardtanh()\n",
    "        \n",
    "        ## activation\n",
    "        self.hardtanh = nn.Hardtanh()\n",
    "        self.tanh = nn.Tanh()\n",
    "        self.prelu = nn.PReLU()\n",
    "        self.leaky_relu = nn.LeakyReLU()\n",
    "        \n",
    "        ##possible for later: MultiheadAttention\n",
    "        self.multihead_attn_in = SelfAttention(in_dim = 14, activation = None)\n",
    "        self.multihead_attn_out = SelfAttention(in_dim = 3, activation = None)\n",
    "        self.multihead_attn_middle = SelfAttention(in_dim = 64, activation = None)\n",
    "    def forward(self, boundary_conditions):\n",
    "        #print(boundary_conditions.shape)\n",
    "        x = self.conv1(boundary_conditions)\n",
    "        x = self.prelu(x)\n",
    "        x = self.multihead_attn_in(x)\n",
    "        #print(x.shape)\n",
    "        x = self.conv2(x)\n",
    "        x = self.prelu(x)\n",
    "        #print(x.shape)\n",
    "        x = self.deconv1(x)\n",
    "        x = self.multihead_attn_middle(x)\n",
    "        x = self.prelu(x)\n",
    "       #print(x.shape)\n",
    "        x = self.deconv2(x)\n",
    "        x = self.prelu(x)\n",
    "        #print(x.shape)\n",
    "        x = self.deconv3(x) \n",
    "        x = self.prelu(x)\n",
    "       # print(x.shape)\n",
    "        x = self.deconv4(x)\n",
    "        x= self.multihead_attn_out(x)\n",
    "        x = self.tanh(x)\n",
    "        #print(x.shape)\n",
    "        '''\n",
    "        #print(boundary_conditions.shape)\n",
    "        x = self.conv1(boundary_conditions)\n",
    "        #x = self.maxpool(x)\n",
    "        x = self.prelu(x)\n",
    "        #print(x.shape)\n",
    "        x = self.conv2(x)\n",
    "        #x = self.maxpool(x)\n",
    "        x = self.prelu(x)\n",
    "        #print(x.shape)\n",
    "        x = self.deconv1(x)\n",
    "        x = self.prelu(x)\n",
    "        #print(x.shape)\n",
    "        x = self.deconv2(x)\n",
    "        x = self.prelu(x)\n",
    "        #print(x.shape)\n",
    "        x = self.deconv3(x)\n",
    "        x = self.prelu(x)\n",
    "        #print(x.shape)\n",
    "        x = self.deconv4(x)\n",
    "        x = self.tanh(x)\n",
    "        #print(x.shape)\n",
    "        '''\n",
    "        return x\n",
    "    \n",
    "net = AttentionNet().cuda().float()\n",
    "\n",
    "## test to see if getting the correct size\n",
    "net.forward(dataset[0][0:1,:,:,:].cuda())"
   ]
  },
  {
   "cell_type": "code",
   "execution_count": 29,
   "metadata": {},
   "outputs": [],
   "source": [
    "## define criterion\n",
    "criterion = nn.MSELoss().cuda()\n",
    "optimizer = torch.optim.Adam(params = net.parameters(), lr=0.0005, betas=(0.9, 0.999), amsgrad = True)"
   ]
  },
  {
   "cell_type": "code",
   "execution_count": 30,
   "metadata": {},
   "outputs": [
    {
     "data": {
      "text/html": [
       "<iframe src=\"https://app.wandb.ai/walther/Project/runs/1aaqw1bl?jupyter=true&state=paused\" style=\"border:none;width:100%;height:420px\">\n",
       "                </iframe>"
      ],
      "text/plain": [
       "<wandb.jupyter.Run at 0x1e18dafc948>"
      ]
     },
     "metadata": {},
     "output_type": "display_data"
    },
    {
     "name": "stdout",
     "output_type": "stream",
     "text": [
      "1 1 0.02429846301674843 0.02540668398141861\n",
      "2 1 0.0007163311238400638 0.0008403800777159632\n",
      "3 1 0.0005203139153309166 0.0005973215826088563\n",
      "4 1 0.00042779018986038864 0.0005189420480746776\n",
      "5 1 0.0003548358508851379 0.000480679000611417\n",
      "6 1 0.0003170428390149027 0.0004949746100464836\n",
      "7 1 0.00029204992461018264 0.00048785046965349466\n",
      "8 1 0.00027370822499506176 0.000481858232524246\n",
      "9 1 0.00026042325771413743 0.0004781895346241072\n",
      "10 1 0.0002516050008125603 0.0004775788198458031\n",
      "11 1 0.00024542486062273383 0.00047971723543014375\n",
      "12 1 0.00024079994182102382 0.00048134978278540074\n",
      "13 1 0.0002369487629039213 0.00048341818619519473\n",
      "14 1 0.0002339739876333624 0.00048346761614084246\n",
      "15 1 0.0002316312602488324 0.00048074031219584866\n",
      "16 1 0.00022947111574467272 0.00047883272636681793\n",
      "17 1 0.00022678895038552582 0.00047854370495770127\n",
      "18 1 0.00022415953571908176 0.0004780370160005987\n",
      "19 1 0.00022129810531623662 0.00047551620227750393\n",
      "20 1 0.0002161703014280647 0.00047691580548416825\n",
      "Finished Training\n"
     ]
    }
   ],
   "source": [
    "%%wandb \n",
    "## logging cell magic\n",
    "##\n",
    "wandb.watch(net)\n",
    "\n",
    "\n",
    "\n",
    "## define a general training loop\n",
    "losses = np.array([0,0,0])\n",
    "for epoch in range(20):  # loop over the dataset multiple times\n",
    "\n",
    "    running_loss = 0.0\n",
    "    boundary_conditions, targets = dataset[0][:90,:,:,:].cuda(), dataset[1][:90,:,:,:].cuda()\n",
    "    #print(type(boundary_conditions))\n",
    "    for i, bc in enumerate(boundary_conditions):\n",
    "        tgt = targets[i, 1:4, :, :].unsqueeze(0)\n",
    "        bc = bc.unsqueeze(0).cuda()\n",
    "        #print(i, bc.shape, tgt.shape)\n",
    "\n",
    "        # get the inputs; data is a list of [boundary_conditions, targets]\n",
    "        \n",
    "        # zero the parameter gradients\n",
    "        optimizer.zero_grad()\n",
    "\n",
    "        # forward + backward + optimize\n",
    "        prediction = net(bc)\n",
    "        loss = criterion(prediction, tgt)\n",
    "        #print(loss)\n",
    "        loss.backward()\n",
    "        optimizer.step()\n",
    "\n",
    "        # print statistics\n",
    "        running_loss += loss.item()\n",
    "        if i % 100 == 0:    # print every 10 mini-batches\n",
    "            running_val_loss = 0.0\n",
    "            with torch.no_grad():\n",
    "                boundary_conditions_val, targets_val = dataset[0][90:,:,:,:].cuda(), dataset[1][90:,:,:,:].cuda()\n",
    "                for ii, bc_val in enumerate(boundary_conditions_val):\n",
    "                    tgt_val = targets_val[i, 1:4, :, :].unsqueeze(0)\n",
    "                    bc_val = bc_val.unsqueeze(0)\n",
    "                    prediction_val = net(bc_val)\n",
    "                    val_loss = criterion(prediction_val, tgt_val)\n",
    "                    running_val_loss+=val_loss.item()\n",
    "                \n",
    "            print(f'{epoch + 1} {i + 1} {running_loss} {running_val_loss/10}')\n",
    "            losses = np.vstack((losses, [epoch, running_loss, running_val_loss]))\n",
    "            wandb.log({\"loss\": running_loss})\n",
    "            wandb.log({\"val_loss\": running_val_loss})\n",
    "            #print(losses)\n",
    "            running_loss = 0.0\n",
    "            \n",
    "\n",
    "print('Finished Training')"
   ]
  },
  {
   "cell_type": "markdown",
   "metadata": {},
   "source": [
    "So the errors were lower, and it trained and started overfitting extremely quick with a starting attention layer and lr of 0.0005. Looking at the image below, it also learned very well how to identify where the element is. Using attention is definitely a step-up from other strategies."
   ]
  },
  {
   "cell_type": "code",
   "execution_count": 47,
   "metadata": {},
   "outputs": [
    {
     "name": "stdout",
     "output_type": "stream",
     "text": [
      "torch.Size([1, 3, 32, 32])\n",
      "(1, 4, 32, 32)\n",
      "(1, 32, 32, 4)\n"
     ]
    },
    {
     "data": {
      "image/png": "[encoded data removed]",
      "text/plain": [
       "<Figure size 1080x432 with 10 Axes>"
      ]
     },
     "metadata": {
      "needs_background": "light"
     },
     "output_type": "display_data"
    }
   ],
   "source": [
    "sample = 3\n",
    "sample_bc = np.moveaxis(dataset[0][sample,:,:,:].numpy(), 0, 2)\n",
    "## plot one of the results after passing the convolutional network through it once\n",
    "sample_prediction = net.cpu().forward(dataset[0][sample:sample+1,:,:,:])\n",
    "print(sample_prediction.shape)\n",
    "sample_prediction = F.pad(sample_prediction, (0,0,0,0,0,1)).detach().numpy()\n",
    "print(sample_prediction.shape)\n",
    "sample_prediction = np.moveaxis(sample_prediction, 1, 3)\n",
    "print(sample_prediction.shape)\n",
    "\n",
    "\n",
    "#print(sample_prediction.shape, dataset[0][27:28,:,10,22], sample_prediction[:,:,10,22])\n",
    "plot_grid_2d(sample_bc, sample_prediction[0,:,:,:])"
   ]
  },
  {
   "cell_type": "code",
   "execution_count": 101,
   "metadata": {},
   "outputs": [
    {
     "data": {
      "text/plain": [
       "[<matplotlib.lines.Line2D at 0x15417cf1388>,\n",
       " <matplotlib.lines.Line2D at 0x15414c62a08>]"
      ]
     },
     "execution_count": 101,
     "metadata": {},
     "output_type": "execute_result"
    },
    {
     "data": {
      "image/png": "[encoded data removed]",
      "text/plain": [
       "<Figure size 432x288 with 1 Axes>"
      ]
     },
     "metadata": {
      "needs_background": "light"
     },
     "output_type": "display_data"
    }
   ],
   "source": [
    "## plot losses over time\n",
    "plt.plot(losses[2:,0], losses[2:,1:])"
   ]
  },
  {
   "cell_type": "markdown",
   "metadata": {},
   "source": [
    "## VGG 16\n",
    "For this section I'll attempt to use a pre-trained architecture to see if that has any effect on the results"
   ]
  },
  {
   "cell_type": "code",
   "execution_count": 32,
   "metadata": {},
   "outputs": [
    {
     "data": {
      "text/html": [
       "\n",
       "                Logging results to <a href=\"https://wandb.com\" target=\"_blank\">Weights & Biases</a> <a href=\"https://docs.wandb.com/integrations/jupyter.html\" target=\"_blank\">(Documentation)</a>.<br/>\n",
       "                Project page: <a href=\"https://app.wandb.ai/walther/Project\" target=\"_blank\">https://app.wandb.ai/walther/Project</a><br/>\n",
       "                Run page: <a href=\"https://app.wandb.ai/walther/Project/runs/13yytave\" target=\"_blank\">https://app.wandb.ai/walther/Project/runs/13yytave</a><br/>\n",
       "            "
      ],
      "text/plain": [
       "<IPython.core.display.HTML object>"
      ]
     },
     "metadata": {},
     "output_type": "display_data"
    },
    {
     "data": {
      "text/plain": [
       "W&B Run: https://app.wandb.ai/walther/Project/runs/13yytave"
      ]
     },
     "execution_count": 32,
     "metadata": {},
     "output_type": "execute_result"
    }
   ],
   "source": [
    "##update loging\n",
    "wandb.init(config={\"epochs\": 30,'trainable': False, \"batch_size\": 90,'learning_rate': 0.0005,\"amsgrad\": False, 'architecture':'vgg16_attention_material_architecture_4'})"
   ]
  },
  {
   "cell_type": "code",
   "execution_count": 33,
   "metadata": {},
   "outputs": [],
   "source": [
    "import torchvision.models as models"
   ]
  },
  {
   "cell_type": "code",
   "execution_count": 34,
   "metadata": {},
   "outputs": [],
   "source": [
    "vgg16 = models.vgg16(pretrained=True)"
   ]
  },
  {
   "cell_type": "code",
   "execution_count": 35,
   "metadata": {},
   "outputs": [
    {
     "data": {
      "text/plain": [
       "VGG(\n",
       "  (features): Sequential(\n",
       "    (0): Conv2d(3, 64, kernel_size=(3, 3), stride=(1, 1), padding=(1, 1))\n",
       "    (1): ReLU(inplace=True)\n",
       "    (2): Conv2d(64, 64, kernel_size=(3, 3), stride=(1, 1), padding=(1, 1))\n",
       "    (3): ReLU(inplace=True)\n",
       "    (4): MaxPool2d(kernel_size=2, stride=2, padding=0, dilation=1, ceil_mode=False)\n",
       "    (5): Conv2d(64, 128, kernel_size=(3, 3), stride=(1, 1), padding=(1, 1))\n",
       "    (6): ReLU(inplace=True)\n",
       "    (7): Conv2d(128, 128, kernel_size=(3, 3), stride=(1, 1), padding=(1, 1))\n",
       "    (8): ReLU(inplace=True)\n",
       "    (9): MaxPool2d(kernel_size=2, stride=2, padding=0, dilation=1, ceil_mode=False)\n",
       "    (10): Conv2d(128, 256, kernel_size=(3, 3), stride=(1, 1), padding=(1, 1))\n",
       "    (11): ReLU(inplace=True)\n",
       "    (12): Conv2d(256, 256, kernel_size=(3, 3), stride=(1, 1), padding=(1, 1))\n",
       "    (13): ReLU(inplace=True)\n",
       "    (14): Conv2d(256, 256, kernel_size=(3, 3), stride=(1, 1), padding=(1, 1))\n",
       "    (15): ReLU(inplace=True)\n",
       "    (16): MaxPool2d(kernel_size=2, stride=2, padding=0, dilation=1, ceil_mode=False)\n",
       "    (17): Conv2d(256, 512, kernel_size=(3, 3), stride=(1, 1), padding=(1, 1))\n",
       "    (18): ReLU(inplace=True)\n",
       "    (19): Conv2d(512, 512, kernel_size=(3, 3), stride=(1, 1), padding=(1, 1))\n",
       "    (20): ReLU(inplace=True)\n",
       "    (21): Conv2d(512, 512, kernel_size=(3, 3), stride=(1, 1), padding=(1, 1))\n",
       "    (22): ReLU(inplace=True)\n",
       "    (23): MaxPool2d(kernel_size=2, stride=2, padding=0, dilation=1, ceil_mode=False)\n",
       "    (24): Conv2d(512, 512, kernel_size=(3, 3), stride=(1, 1), padding=(1, 1))\n",
       "    (25): ReLU(inplace=True)\n",
       "    (26): Conv2d(512, 512, kernel_size=(3, 3), stride=(1, 1), padding=(1, 1))\n",
       "    (27): ReLU(inplace=True)\n",
       "    (28): Conv2d(512, 512, kernel_size=(3, 3), stride=(1, 1), padding=(1, 1))\n",
       "    (29): ReLU(inplace=True)\n",
       "    (30): MaxPool2d(kernel_size=2, stride=2, padding=0, dilation=1, ceil_mode=False)\n",
       "  )\n",
       "  (avgpool): AdaptiveAvgPool2d(output_size=(7, 7))\n",
       "  (classifier): Sequential(\n",
       "    (0): Linear(in_features=25088, out_features=4096, bias=True)\n",
       "    (1): ReLU(inplace=True)\n",
       "    (2): Dropout(p=0.5, inplace=False)\n",
       "    (3): Linear(in_features=4096, out_features=4096, bias=True)\n",
       "    (4): ReLU(inplace=True)\n",
       "    (5): Dropout(p=0.5, inplace=False)\n",
       "    (6): Linear(in_features=4096, out_features=1000, bias=True)\n",
       "  )\n",
       ")"
      ]
     },
     "execution_count": 35,
     "metadata": {},
     "output_type": "execute_result"
    }
   ],
   "source": [
    "vgg16"
   ]
  },
  {
   "cell_type": "code",
   "execution_count": 36,
   "metadata": {},
   "outputs": [
    {
     "data": {
      "text/plain": [
       "Sequential(\n",
       "  (0): Conv2d(7, 64, kernel_size=(3, 3), stride=(1, 1), padding=(1, 1))\n",
       "  (1): SelfAttention(\n",
       "    (query_conv): Conv2d(64, 21, kernel_size=(1, 1), stride=(1, 1))\n",
       "    (key_conv): Conv2d(64, 21, kernel_size=(1, 1), stride=(1, 1))\n",
       "    (value_conv): Conv2d(64, 64, kernel_size=(1, 1), stride=(1, 1))\n",
       "    (softmax): Softmax(dim=-1)\n",
       "  )\n",
       "  (2): ReLU(inplace=True)\n",
       "  (3): Conv2d(64, 64, kernel_size=(3, 3), stride=(1, 1), padding=(1, 1))\n",
       "  (4): ReLU(inplace=True)\n",
       "  (5): Conv2d(64, 128, kernel_size=(3, 3), stride=(1, 1), padding=(1, 1))\n",
       "  (6): ReLU(inplace=True)\n",
       "  (7): Conv2d(128, 128, kernel_size=(3, 3), stride=(1, 1), padding=(1, 1))\n",
       "  (8): ReLU(inplace=True)\n",
       "  (9): Conv2d(128, 256, kernel_size=(3, 3), stride=(1, 1), padding=(1, 1))\n",
       "  (10): ReLU(inplace=True)\n",
       "  (11): Conv2d(256, 256, kernel_size=(3, 3), stride=(1, 1), padding=(1, 1))\n",
       "  (12): ReLU(inplace=True)\n",
       "  (13): Conv2d(256, 256, kernel_size=(3, 3), stride=(1, 1), padding=(1, 1))\n",
       "  (14): ReLU(inplace=True)\n",
       "  (15): Conv2d(256, 512, kernel_size=(3, 3), stride=(1, 1), padding=(1, 1))\n",
       "  (16): ReLU(inplace=True)\n",
       "  (17): Conv2d(512, 512, kernel_size=(3, 3), stride=(1, 1), padding=(1, 1))\n",
       "  (18): ReLU(inplace=True)\n",
       "  (19): Conv2d(512, 512, kernel_size=(3, 3), stride=(1, 1), padding=(1, 1))\n",
       "  (20): ReLU(inplace=True)\n",
       "  (21): Conv2d(512, 512, kernel_size=(3, 3), stride=(1, 1), padding=(1, 1))\n",
       "  (22): ReLU(inplace=True)\n",
       "  (23): Conv2d(512, 512, kernel_size=(3, 3), stride=(1, 1), padding=(1, 1))\n",
       "  (24): ReLU(inplace=True)\n",
       "  (25): Conv2d(512, 512, kernel_size=(3, 3), stride=(1, 1), padding=(1, 1))\n",
       "  (26): ReLU(inplace=True)\n",
       "  (27): Conv2d(512, 3, kernel_size=(3, 3), stride=(1, 1), padding=(1, 1))\n",
       "  (28): Tanh()\n",
       ")"
      ]
     },
     "execution_count": 36,
     "metadata": {},
     "output_type": "execute_result"
    }
   ],
   "source": [
    "## get convolutional portion of model\n",
    "net = vgg16.features.cuda()\n",
    "\n",
    "## set it to untrainable\n",
    "for i, layer in enumerate(net.parameters()):\n",
    "     layer.requires_grad = False\n",
    "        \n",
    "## change first layer to the correct feature size\n",
    "net[0] = nn.Conv2d(7, 64, kernel_size=(3, 3), stride=(1, 1), padding=(1, 1))\n",
    "\n",
    "# append last layer of correct feature size and correct activation function\n",
    "net = nn.Sequential(*net, (nn.Conv2d(512, 3, kernel_size=(3, 3), stride=(1, 1), padding=(1, 1))))\n",
    "net = nn.Sequential(*net, nn.Tanh())\n",
    "net = nn.Sequential(*net[:1],SelfAttention(in_dim = 64, activation = None), *net[1:] )\n",
    "\n",
    "# send model to gpu\n",
    "net = net.cuda()\n",
    "\n",
    "# remove the max pool layers\n",
    "layer_list = []\n",
    "for layer in net:\n",
    "    if not(type(layer) == torch.nn.modules.pooling.MaxPool2d):\n",
    "        layer_list.append(layer)\n",
    "\n",
    "\n",
    "# create a model without the maxpool layers\n",
    "net = nn. Sequential(*layer_list)\n",
    "\n",
    "\n",
    "\n",
    "net"
   ]
  },
  {
   "cell_type": "code",
   "execution_count": 37,
   "metadata": {},
   "outputs": [
    {
     "name": "stdout",
     "output_type": "stream",
     "text": [
      "0 True\n",
      "1 True\n",
      "2 True\n",
      "3 True\n",
      "4 True\n",
      "5 True\n",
      "6 True\n",
      "7 True\n",
      "8 True\n",
      "9 False\n",
      "10 False\n",
      "11 False\n",
      "12 False\n",
      "13 False\n",
      "14 False\n",
      "15 False\n",
      "16 False\n",
      "17 False\n",
      "18 False\n",
      "19 False\n",
      "20 False\n",
      "21 False\n",
      "22 False\n",
      "23 False\n",
      "24 False\n",
      "25 False\n",
      "26 False\n",
      "27 False\n",
      "28 False\n",
      "29 False\n",
      "30 False\n",
      "31 False\n",
      "32 False\n",
      "33 True\n",
      "34 True\n"
     ]
    }
   ],
   "source": [
    "for i, layer in enumerate(net.parameters()):\n",
    "     print(i, layer.requires_grad)"
   ]
  },
  {
   "cell_type": "code",
   "execution_count": 38,
   "metadata": {},
   "outputs": [],
   "source": [
    "## set to only train the added parameters\n",
    "for i, layer in enumerate(net.parameters()):\n",
    "    if not( i in [0, 1, 34,33,32]):\n",
    "        layer.requires_grad = False\n",
    "    else:\n",
    "        layer.requires_grad = True\n",
    "    #print(i, layer.requires_grad)"
   ]
  },
  {
   "cell_type": "code",
   "execution_count": 39,
   "metadata": {},
   "outputs": [
    {
     "data": {
      "text/plain": [
       "torch.Size([1, 3, 32, 32])"
      ]
     },
     "execution_count": 39,
     "metadata": {},
     "output_type": "execute_result"
    }
   ],
   "source": [
    "net.forward(dataset[0][0:1,:,:,:].cuda()).shape"
   ]
  },
  {
   "cell_type": "code",
   "execution_count": 40,
   "metadata": {},
   "outputs": [],
   "source": [
    "## define criterion\n",
    "criterion = nn.MSELoss(reduction = 'none').cuda()\n",
    "optimizer = torch.optim.Adam(params = net.parameters(), lr=0.0005, betas=(0.9, 0.999), amsgrad = False)"
   ]
  },
  {
   "cell_type": "code",
   "execution_count": 41,
   "metadata": {
    "scrolled": false
   },
   "outputs": [
    {
     "data": {
      "text/html": [
       "<iframe src=\"https://app.wandb.ai/walther/Project/runs/13yytave?jupyter=true&state=paused\" style=\"border:none;width:100%;height:420px\">\n",
       "                </iframe>"
      ],
      "text/plain": [
       "<wandb.jupyter.Run at 0x1e18d6dd408>"
      ]
     },
     "metadata": {},
     "output_type": "display_data"
    },
    {
     "name": "stdout",
     "output_type": "stream",
     "text": [
      "1 1 0.0061997314915061 0.005642091645859182\n",
      "2 1 0.00252536335028708 0.0016038070432841777\n",
      "3 1 0.002486562356352806 0.0014489818946458398\n",
      "4 1 0.0024599945172667503 0.0014340791734866799\n",
      "5 1 0.002340597566217184 0.001368382858345285\n",
      "6 1 0.002119664568454027 0.0014405940717551857\n",
      "7 1 0.002128194784745574 0.0015730106038972735\n",
      "8 1 0.0021319398656487465 0.001525782118551433\n",
      "9 1 0.0022918153554201126 0.0015305503504350782\n",
      "10 1 0.0020677922293543816 0.0014486872358247637\n",
      "11 1 0.002145427279174328 0.0015590363414958119\n",
      "12 1 0.002158875111490488 0.001461173058487475\n",
      "13 1 0.0020587858743965626 0.001549513905774802\n",
      "14 1 0.002138928510248661 0.0015749503334518522\n",
      "15 1 0.0022410107776522636 0.0015425676887389273\n",
      "16 1 0.002140054479241371 0.0015963304555043577\n",
      "17 1 0.002195837441831827 0.001535325072472915\n",
      "18 1 0.0022260001860558987 0.0016212333808653056\n",
      "19 1 0.0023015132173895836 0.0017751575913280248\n",
      "20 1 0.002346457913517952 0.001554993010358885\n",
      "21 1 0.0022771796211600304 0.0016464764135889708\n",
      "22 1 0.0023017930798232555 0.0015139526745770126\n",
      "23 1 0.0024578338488936424 0.0016438208636827766\n",
      "24 1 0.0024071019142866135 0.0016359135508537293\n",
      "25 1 0.0023444020189344883 0.0016484101593960076\n",
      "26 1 0.0023531424812972546 0.0016561991884373128\n",
      "27 1 0.002365589840337634 0.0016845910053234548\n",
      "28 1 0.002301186788827181 0.0017006363137625157\n",
      "29 1 0.0023664035834372044 0.0016849839827045797\n",
      "30 1 0.002441149903461337 0.0017850539647042752\n",
      "Finished Training\n"
     ]
    }
   ],
   "source": [
    "%%wandb \n",
    "## logging cell magic\n",
    "##\n",
    "wandb.watch(net)\n",
    "\n",
    "\n",
    "\n",
    "## define a general training loop\n",
    "losses = np.array([0,0,0])\n",
    "for epoch in range(30):  # loop over the dataset multiple times\n",
    "\n",
    "    running_loss = 0.0\n",
    "    boundary_conditions, targets = dataset[0][:90,:,:,:].cuda(), dataset[1][:90,:,:,:].cuda()\n",
    "    #print(type(boundary_conditions))\n",
    "    for i, bc in enumerate(boundary_conditions):\n",
    "        tgt = targets[i, 1:4, :, :].unsqueeze(0)\n",
    "        material_matrix = boundary_conditions[i, 0, :, :].unsqueeze(0).repeat([1,3,1,1])\n",
    "        ones = torch.ones_like(material_matrix).cuda()\n",
    "        #print(ones.shape)\n",
    "        bc = bc.unsqueeze(0).cuda()\n",
    "        #print(i, bc.shape, tgt.shape)\n",
    "\n",
    "        # get the inputs; data is a list of [boundary_conditions, targets]\n",
    "        \n",
    "        # zero the parameter gradients\n",
    "        optimizer.zero_grad()\n",
    "\n",
    "        # forward + backward + optimize\n",
    "        prediction = net(bc)\n",
    "        \n",
    "        loss = criterion(prediction, tgt)*((material_matrix)+ones)**3\n",
    "        #print((material_matrix).max())\n",
    "        #print((((material_matrix)+ones)**3).max())\n",
    "        # weigh loss based on material map\n",
    "        \n",
    "       \n",
    "        #print(loss.shape)\n",
    "        loss = loss.mean()\n",
    "        \n",
    "        #print(stp)\n",
    "        #print(loss)\n",
    "        loss.backward()\n",
    "        optimizer.step()\n",
    "\n",
    "        # print statistics\n",
    "        running_loss += loss.item()\n",
    "        if i % 100 == 0:    # print every 10 mini-batches\n",
    "            running_val_loss = 0.0\n",
    "            with torch.no_grad():\n",
    "                boundary_conditions_val, targets_val = dataset[0][90:,:,:,:].cuda(), dataset[1][90:,:,:,:].cuda()\n",
    "                for ii, bc_val in enumerate(boundary_conditions_val):\n",
    "                    tgt_val = targets_val[i, 1:4, :, :].unsqueeze(0)\n",
    "                    bc_val = bc_val.unsqueeze(0)\n",
    "                    prediction_val = net(bc_val)\n",
    "                    \n",
    "                    val_loss = criterion(prediction_val, tgt_val)*((material_matrix)+ones)**3\n",
    "                    val_loss = val_loss.mean()\n",
    "                    running_val_loss+=val_loss.item()\n",
    "                \n",
    "            print(f'{epoch + 1} {i + 1} {running_loss} {running_val_loss/10}')\n",
    "            losses = np.vstack((losses, [epoch, running_loss, running_val_loss]))\n",
    "            wandb.log({\"loss\": running_loss})\n",
    "            wandb.log({\"val_loss\": running_val_loss})\n",
    "            #print(losses)\n",
    "            running_loss = 0.0\n",
    "            \n",
    "\n",
    "print('Finished Training')"
   ]
  },
  {
   "cell_type": "markdown",
   "metadata": {},
   "source": [
    "So using a pre-trained model as a feature extractor does seem to help. It was able to learn the dataset in about 4 epochs, using only the new layers as trainable. Allowing the entire model to train on the data from the pre-trained state led to lowest validation loss yet, which was achieved in 3 epochs. This is too good to be true. What became obvious is that the model is overfitting the data and completely ignoring the displacement fields, since it is much easier to simply guess that everything will be zero. A solution to this might be to weigh the loss function based on the material map, with losses inside of the material map being higher than losses outside of it. Trying to do that in this dataset does not seem to have helped, and confounded the losses. For now, I'll be ignoring that idea. It might be better to instead work on the dataset so that each sample takes up more of  the space in the tensor."
   ]
  },
  {
   "cell_type": "code",
   "execution_count": 48,
   "metadata": {},
   "outputs": [
    {
     "name": "stdout",
     "output_type": "stream",
     "text": [
      "torch.Size([1, 3, 32, 32])\n",
      "(1, 4, 32, 32)\n",
      "(1, 32, 32, 4)\n"
     ]
    },
    {
     "data": {
      "image/png": "[encoded data removed]",
      "text/plain": [
       "<Figure size 1080x432 with 10 Axes>"
      ]
     },
     "metadata": {
      "needs_background": "light"
     },
     "output_type": "display_data"
    },
    {
     "data": {
      "text/plain": [
       "Sequential(\n",
       "  (0): Conv2d(7, 64, kernel_size=(3, 3), stride=(1, 1), padding=(1, 1))\n",
       "  (1): SelfAttention(\n",
       "    (query_conv): Conv2d(64, 21, kernel_size=(1, 1), stride=(1, 1))\n",
       "    (key_conv): Conv2d(64, 21, kernel_size=(1, 1), stride=(1, 1))\n",
       "    (value_conv): Conv2d(64, 64, kernel_size=(1, 1), stride=(1, 1))\n",
       "    (softmax): Softmax(dim=-1)\n",
       "  )\n",
       "  (2): ReLU(inplace=True)\n",
       "  (3): Conv2d(64, 64, kernel_size=(3, 3), stride=(1, 1), padding=(1, 1))\n",
       "  (4): ReLU(inplace=True)\n",
       "  (5): Conv2d(64, 128, kernel_size=(3, 3), stride=(1, 1), padding=(1, 1))\n",
       "  (6): ReLU(inplace=True)\n",
       "  (7): Conv2d(128, 128, kernel_size=(3, 3), stride=(1, 1), padding=(1, 1))\n",
       "  (8): ReLU(inplace=True)\n",
       "  (9): Conv2d(128, 256, kernel_size=(3, 3), stride=(1, 1), padding=(1, 1))\n",
       "  (10): ReLU(inplace=True)\n",
       "  (11): Conv2d(256, 256, kernel_size=(3, 3), stride=(1, 1), padding=(1, 1))\n",
       "  (12): ReLU(inplace=True)\n",
       "  (13): Conv2d(256, 256, kernel_size=(3, 3), stride=(1, 1), padding=(1, 1))\n",
       "  (14): ReLU(inplace=True)\n",
       "  (15): Conv2d(256, 512, kernel_size=(3, 3), stride=(1, 1), padding=(1, 1))\n",
       "  (16): ReLU(inplace=True)\n",
       "  (17): Conv2d(512, 512, kernel_size=(3, 3), stride=(1, 1), padding=(1, 1))\n",
       "  (18): ReLU(inplace=True)\n",
       "  (19): Conv2d(512, 512, kernel_size=(3, 3), stride=(1, 1), padding=(1, 1))\n",
       "  (20): ReLU(inplace=True)\n",
       "  (21): Conv2d(512, 512, kernel_size=(3, 3), stride=(1, 1), padding=(1, 1))\n",
       "  (22): ReLU(inplace=True)\n",
       "  (23): Conv2d(512, 512, kernel_size=(3, 3), stride=(1, 1), padding=(1, 1))\n",
       "  (24): ReLU(inplace=True)\n",
       "  (25): Conv2d(512, 512, kernel_size=(3, 3), stride=(1, 1), padding=(1, 1))\n",
       "  (26): ReLU(inplace=True)\n",
       "  (27): Conv2d(512, 3, kernel_size=(3, 3), stride=(1, 1), padding=(1, 1))\n",
       "  (28): Tanh()\n",
       ")"
      ]
     },
     "execution_count": 48,
     "metadata": {},
     "output_type": "execute_result"
    }
   ],
   "source": [
    "sample =96\n",
    "sample_bc = np.moveaxis(dataset[0][sample,:,:,:].numpy(), 0, 2)\n",
    "## plot one of the results after passing the convolutional network through it once\n",
    "sample_prediction = net.cpu().forward(dataset[0][sample:sample+1,:,:,:])\n",
    "print(sample_prediction.shape)\n",
    "sample_prediction = F.pad(sample_prediction, (0,0,0,0,0,1)).detach().numpy()\n",
    "print(sample_prediction.shape)\n",
    "sample_prediction = np.moveaxis(sample_prediction, 1, 3)\n",
    "print(sample_prediction.shape)\n",
    "\n",
    "\n",
    "#print(sample_prediction.shape, dataset[0][27:28,:,10,22], sample_prediction[:,:,10,22])\n",
    "plot_grid_2d(sample_bc, sample_prediction[0,:,:,:])\n",
    "net.cuda()"
   ]
  },
  {
   "cell_type": "markdown",
   "metadata": {},
   "source": [
    "# BASE WITH REPETITION\n",
    "This model tries to do backpropagation after several passes of the network instead of just one\n"
   ]
  },
  {
   "cell_type": "code",
   "execution_count": 73,
   "metadata": {},
   "outputs": [],
   "source": [
    "## define the neural network's general shape\n",
    "\n",
    "class RepetitionNet(nn.Module):\n",
    "    def __init__(self):\n",
    "        super(RepetitionNet, self).__init__()\n",
    "        \n",
    "        ## convolutional layers\n",
    "        self.conv1 = nn.Conv2d(in_channels = 7, out_channels = 14, kernel_size = 3, padding = 1)\n",
    "        self.conv2 = nn.Conv2d(in_channels = 14, out_channels = 16, kernel_size = 3, padding = 1)\n",
    "        self.deconv1 = nn.ConvTranspose2d(in_channels = 16, out_channels = 14, kernel_size = 3, padding = 1)\n",
    "        self.deconv2 = nn.ConvTranspose2d(in_channels = 14, out_channels = 10, kernel_size = 3, padding = 1)\n",
    "        self.deconv3 = nn.ConvTranspose2d(in_channels = 10, out_channels = 7, kernel_size = 3, padding = 1)\n",
    "        self.deconv4 = nn.ConvTranspose2d(in_channels = 7, out_channels = 3, kernel_size = 3, padding = 1)\n",
    "        \n",
    "        ## activation\n",
    "        self.hardtanh = nn.Hardtanh()\n",
    "        self.lrelu = nn.LeakyReLU(0.2)\n",
    "        \n",
    "        ##possible for later: MultiheadAttention\n",
    "        self.multihead_attn_14 = SelfAttention(in_dim = 14, activation = None)\n",
    "        \n",
    "        \n",
    "    def forward(self, boundary_conditions, returns):\n",
    "        if not(returns): #if returns is false return the input\n",
    "            #print(boundary_conditions.shape)\n",
    "            x = self.conv1(boundary_conditions)\n",
    "            x = self.multihead_attn_14(x)\n",
    "            x = self.lrelu(x)\n",
    "            #print(x.shape)\n",
    "            x = self.conv2(x)\n",
    "            #x, attn = self.multihead_attn_middle(x)\n",
    "            x = self.lrelu(x)\n",
    "            #print(x.shape)\n",
    "            x = self.deconv1(x)\n",
    "            x = self.lrelu(x)\n",
    "           #print(x.shape)\n",
    "            x = self.deconv2(x)\n",
    "            x = self.lrelu(x)\n",
    "            #print(x.shape)\n",
    "            x = self.deconv3(x)\n",
    "            x = self.lrelu(x)\n",
    "        elif returns:\n",
    "            x = self.conv1(boundary_conditions)\n",
    "            x = self.multihead_attn_14(x)\n",
    "            x = self.lrelu(x)\n",
    "            #print(x.shape)\n",
    "            x = self.conv2(x)\n",
    "            #x, attn = self.multihead_attn_middle(x)\n",
    "            x = self.lrelu(x)\n",
    "            #print(x.shape)\n",
    "            x = self.deconv1(x)\n",
    "            x = self.lrelu(x)\n",
    "           #print(x.shape)\n",
    "            x = self.deconv2(x)\n",
    "            x = self.lrelu(x)\n",
    "            #print(x.shape)\n",
    "            x = self.deconv3(x)\n",
    "            x = self.lrelu(x)\n",
    "            # print(x.shape)\n",
    "            x = self.deconv4(x)  \n",
    "            x = self.hardtanh(x)\n",
    "            \n",
    "        return x\n",
    "    \n",
    "net = RepetitionNet().cuda().float()\n",
    "\n",
    "## test to see if getting the correct size\n",
    "#%timeit net.forward(dataset[0][0:1,:,:,:].cuda(), returns = True)"
   ]
  },
  {
   "cell_type": "code",
   "execution_count": 72,
   "metadata": {},
   "outputs": [],
   "source": [
    "## parameters\n",
    "learn_rate = 0.0005\n",
    "e = 3"
   ]
  },
  {
   "cell_type": "code",
   "execution_count": 74,
   "metadata": {},
   "outputs": [],
   "source": [
    "## define criterion\n",
    "criterion = nn.MSELoss().cuda()\n",
    "optimizer = torch.optim.Adam(params = net.parameters(), lr=learn_rate, betas=(0.9, 0.999))"
   ]
  },
  {
   "cell_type": "code",
   "execution_count": 75,
   "metadata": {},
   "outputs": [
    {
     "data": {
      "text/html": [
       "\n",
       "                Logging results to <a href=\"https://wandb.com\" target=\"_blank\">Weights & Biases</a> <a href=\"https://docs.wandb.com/integrations/jupyter.html\" target=\"_blank\">(Documentation)</a>.<br/>\n",
       "                Project page: <a href=\"https://app.wandb.ai/walther/Project\" target=\"_blank\">https://app.wandb.ai/walther/Project</a><br/>\n",
       "                Run page: <a href=\"https://app.wandb.ai/walther/Project/runs/46mlsv2f\" target=\"_blank\">https://app.wandb.ai/walther/Project/runs/46mlsv2f</a><br/>\n",
       "            "
      ],
      "text/plain": [
       "<IPython.core.display.HTML object>"
      ]
     },
     "metadata": {},
     "output_type": "display_data"
    },
    {
     "data": {
      "text/plain": [
       "W&B Run: https://app.wandb.ai/walther/Project/runs/46mlsv2f"
      ]
     },
     "execution_count": 75,
     "metadata": {},
     "output_type": "execute_result"
    }
   ],
   "source": [
    "## setup logging\n",
    "wandb.init(config={\"epochs\": e, \"batch_size\": 90,'learning_rate': learn_rate, 'architecture':'repetition_attention_architecture'})"
   ]
  },
  {
   "cell_type": "code",
   "execution_count": 76,
   "metadata": {},
   "outputs": [
    {
     "data": {
      "text/html": [
       "<iframe src=\"https://app.wandb.ai/walther/Project/runs/46mlsv2f?jupyter=true&state=paused\" style=\"border:none;width:100%;height:420px\">\n",
       "                </iframe>"
      ],
      "text/plain": [
       "<wandb.jupyter.Run at 0x1e18d5989c8>"
      ]
     },
     "metadata": {},
     "output_type": "display_data"
    },
    {
     "name": "stdout",
     "output_type": "stream",
     "text": [
      "1 1 0.019998053088784218 0.0218000927940011\n",
      "2 1 0.0007985763950273395 0.0010863074916414917\n",
      "3 1 0.0006409389898180962 0.0008965142245870083\n",
      "Finished Training\n"
     ]
    }
   ],
   "source": [
    "%%wandb\n",
    "\n",
    "torch.autograd.set_detect_anomaly(True)\n",
    "## define a general training loop\n",
    "losses = np.array([0,0,0])\n",
    "for epoch in range(e):  # loop over the dataset multiple times\n",
    "\n",
    "    running_loss = 0.0\n",
    "    boundary_conditions, targets = dataset[0][:90,:,:,:].cuda(), dataset[1][:90,:,:,:].cuda()\n",
    "    #print(type(boundary_conditions))\n",
    "    #net = net.cuda()\n",
    "    for i, bc in enumerate(boundary_conditions):\n",
    "        tgt = targets[i, 1:4, :, :].unsqueeze(0)\n",
    "        bc = bc.unsqueeze(0)\n",
    "        #material_matrix = boundary_conditions[i, 0, :, :].unsqueeze(0).repeat([1,3,1,1])\n",
    "        #print(i, bc.shape, tgt.shape)\n",
    "\n",
    "        # get the inputs; data is a list of [boundary_conditions, targets]\n",
    "        \n",
    "        # zero the parameter gradients\n",
    "        optimizer.zero_grad()\n",
    "\n",
    "        # forward + backward + optimize\n",
    "        repetitions = 3\n",
    "        \n",
    "        prediction = net(bc, returns = False)\n",
    "        prediction = net(prediction, returns = False)\n",
    "        prediction = net(prediction, returns = False)\n",
    "       # prediction = net(prediction, returns = 'input')\n",
    "        #rint(i)\n",
    "        #for ii in range(repetitions):\n",
    "            #print(ii)\n",
    "            #prediction = net(prediction, returns = 'input')\n",
    "        \n",
    "        prediction =  net(prediction, returns = True)\n",
    "        \n",
    "        loss = criterion(prediction, tgt)#/torch.sum(material_matrix)\n",
    "        #print(loss)\n",
    "        loss.backward()\n",
    "        optimizer.step()\n",
    "        \n",
    "        \n",
    "        # print statistics\n",
    "        running_loss += loss.item()\n",
    "        wandb.log({\"loss\": loss})\n",
    "\n",
    "        if i % 100 == 0:    # print every 10 mini-batches\n",
    "            running_val_loss = 0.0\n",
    "            with torch.no_grad():\n",
    "                boundary_conditions_val, targets_val = dataset[0][90:,:,:,:].cuda(), dataset[1][90:,:,:,:].cuda()\n",
    "                for ii, bc_val in enumerate(boundary_conditions_val):\n",
    "                    tgt_val = targets_val[i, 1:4, :, :].unsqueeze(0)\n",
    "                    bc_val = bc_val.unsqueeze(0)\n",
    "                    prediction_val = net(bc_val, returns = 'output')\n",
    "                    val_loss = criterion(prediction_val, tgt_val)#/torch.sum(material_matrix)\n",
    "                    wandb.log({\"val_loss\": val_loss})\n",
    "                    running_val_loss+=val_loss.item()\n",
    "                \n",
    "            print(f'{epoch + 1} {i + 1} {running_loss} {running_val_loss/10}')\n",
    "            #wandb.log({\"loss\": running_loss})\n",
    "            #wandb.log({\"val_loss\": running_val_loss})\n",
    "            losses = np.vstack((losses, [epoch, running_loss, running_val_loss]))\n",
    "            #print(losses)\n",
    "            running_loss = 0.0\n",
    "            \n",
    "\n",
    "print('Finished Training')"
   ]
  },
  {
   "cell_type": "code",
   "execution_count": 77,
   "metadata": {},
   "outputs": [
    {
     "name": "stdout",
     "output_type": "stream",
     "text": [
      "torch.Size([1, 3, 32, 32])\n",
      "(1, 4, 32, 32)\n",
      "(1, 32, 32, 4)\n"
     ]
    },
    {
     "data": {
      "image/png": "[encoded data removed]",
      "text/plain": [
       "<Figure size 1080x432 with 10 Axes>"
      ]
     },
     "metadata": {
      "needs_background": "light"
     },
     "output_type": "display_data"
    },
    {
     "data": {
      "text/plain": [
       "RepetitionNet(\n",
       "  (conv1): Conv2d(7, 14, kernel_size=(3, 3), stride=(1, 1), padding=(1, 1))\n",
       "  (conv2): Conv2d(14, 16, kernel_size=(3, 3), stride=(1, 1), padding=(1, 1))\n",
       "  (deconv1): ConvTranspose2d(16, 14, kernel_size=(3, 3), stride=(1, 1), padding=(1, 1))\n",
       "  (deconv2): ConvTranspose2d(14, 10, kernel_size=(3, 3), stride=(1, 1), padding=(1, 1))\n",
       "  (deconv3): ConvTranspose2d(10, 7, kernel_size=(3, 3), stride=(1, 1), padding=(1, 1))\n",
       "  (deconv4): ConvTranspose2d(7, 3, kernel_size=(3, 3), stride=(1, 1), padding=(1, 1))\n",
       "  (hardtanh): Hardtanh(min_val=-1.0, max_val=1.0)\n",
       "  (lrelu): LeakyReLU(negative_slope=0.2)\n",
       "  (multihead_attn_14): SelfAttention(\n",
       "    (query_conv): Conv2d(14, 4, kernel_size=(1, 1), stride=(1, 1))\n",
       "    (key_conv): Conv2d(14, 4, kernel_size=(1, 1), stride=(1, 1))\n",
       "    (value_conv): Conv2d(14, 14, kernel_size=(1, 1), stride=(1, 1))\n",
       "    (softmax): Softmax(dim=-1)\n",
       "  )\n",
       ")"
      ]
     },
     "execution_count": 77,
     "metadata": {},
     "output_type": "execute_result"
    }
   ],
   "source": [
    "sample =3\n",
    "sample_bc = np.moveaxis(dataset[0][sample,:,:,:].numpy(), 0, 2)\n",
    "## plot one of the results after passing the convolutional network through it once\n",
    "sample_prediction = net.cpu().forward(dataset[0][sample:sample+1,:,:,:], returns = 'output')\n",
    "print(sample_prediction.shape)\n",
    "sample_prediction = F.pad(sample_prediction, (0,0,0,0,0,1)).detach().numpy()\n",
    "print(sample_prediction.shape)\n",
    "sample_prediction = np.moveaxis(sample_prediction, 1, 3)\n",
    "print(sample_prediction.shape)\n",
    "\n",
    "\n",
    "#print(sample_prediction.shape, dataset[0][27:28,:,10,22], sample_prediction[:,:,10,22])\n",
    "plot_grid_2d(sample_bc, sample_prediction[0,:,:,:])\n",
    "net.cuda()"
   ]
  },
  {
   "cell_type": "code",
   "execution_count": 78,
   "metadata": {},
   "outputs": [
    {
     "name": "stdout",
     "output_type": "stream",
     "text": [
      "(32, 32, 7) (32, 32, 4)\n"
     ]
    },
    {
     "data": {
      "image/png": "[encoded data removed]",
      "text/plain": [
       "<Figure size 1080x432 with 10 Axes>"
      ]
     },
     "metadata": {
      "needs_background": "light"
     },
     "output_type": "display_data"
    }
   ],
   "source": [
    "#plot ground truth11\n",
    "sample_bc = np.moveaxis(dataset[0][sample,:,:,:].numpy(), 0, 2)\n",
    "sample_target = np.moveaxis(dataset[1][sample,:,:,:].numpy(), 0, 2)\n",
    "print(sample_bc.shape, sample_target.shape)\n",
    "plot_grid_2d(sample_bc, sample_target)"
   ]
  },
  {
   "cell_type": "markdown",
   "metadata": {},
   "source": [
    "The visual results for this network are very interesting for the first iteration. It takes a longer time to train, but it was able to create a map of where the feature is. Now attempting to see the result of running more than one iteration"
   ]
  },
  {
   "cell_type": "code",
   "execution_count": 79,
   "metadata": {},
   "outputs": [],
   "source": [
    "prediction = net.cpu().forward(dataset[0][sample:sample+1,:,:,:], returns = False)\n",
    "i = 0"
   ]
  },
  {
   "cell_type": "code",
   "execution_count": 295,
   "metadata": {},
   "outputs": [
    {
     "name": "stdout",
     "output_type": "stream",
     "text": [
      "3\n"
     ]
    }
   ],
   "source": [
    "with torch.no_grad():\n",
    "    prediction = net(prediction, returns = False)\n",
    "    i +=1\n",
    "    print(i)"
   ]
  },
  {
   "cell_type": "code",
   "execution_count": 80,
   "metadata": {},
   "outputs": [
    {
     "name": "stdout",
     "output_type": "stream",
     "text": [
      "torch.Size([1, 3, 32, 32])\n",
      "(1, 4, 32, 32)\n",
      "(1, 32, 32, 4)\n"
     ]
    },
    {
     "data": {
      "image/png": "[encoded data removed]",
      "text/plain": [
       "<Figure size 1080x432 with 10 Axes>"
      ]
     },
     "metadata": {
      "needs_background": "light"
     },
     "output_type": "display_data"
    }
   ],
   "source": [
    "sample_prediction = net(prediction, returns = 'output')\n",
    "print(sample_prediction.shape)\n",
    "sample_prediction = F.pad(sample_prediction, (0,0,0,0,0,1)).detach().numpy()\n",
    "print(sample_prediction.shape)\n",
    "sample_prediction = np.moveaxis(sample_prediction, 1, 3)\n",
    "print(sample_prediction.shape)\n",
    "\n",
    "\n",
    "#print(sample_prediction.shape, dataset[0][27:28,:,10,22], sample_prediction[:,:,10,22])\n",
    "plot_grid_2d(sample_bc, sample_prediction[0,:,:,:])"
   ]
  },
  {
   "cell_type": "markdown",
   "metadata": {},
   "source": [
    "Doing this hasn't  helped with convergence it seems. Although letting it train led to the smallest loss yet, the problem seems to be that, again, the model is learning to fit the space around the element and not the element. A different strategy that requires a new dataset positioning and a dataloader to do data augmentation needs to be devised."
   ]
  }
 ],
 "metadata": {
  "kernelspec": {
   "display_name": "Python 3",
   "language": "python",
   "name": "python3"
  },
  "language_info": {
   "codemirror_mode": {
    "name": "ipython",
    "version": 3
   },
   "file_extension": ".py",
   "mimetype": "text/x-python",
   "name": "python",
   "nbconvert_exporter": "python",
   "pygments_lexer": "ipython3",
   "version": "3.7.7"
  }
 },
 "nbformat": 4,
 "nbformat_minor": 4
}
