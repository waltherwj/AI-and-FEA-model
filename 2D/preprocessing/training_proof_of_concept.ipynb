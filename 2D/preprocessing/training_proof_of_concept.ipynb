{
 "cells": [
  {
   "cell_type": "markdown",
   "metadata": {},
   "source": [
    "## TRAINING\n",
    "This notebook has as an objective to use a folder containing the formated .npy files to train a deep learning model that can be used in lieu of an FEA model to any accuracy above random, for a proof of concept that it is possible to do so, such that further research can be done afterward to optimize architecture, hyperparameters and data being fed in."
   ]
  },
  {
   "cell_type": "code",
   "execution_count": 1,
   "metadata": {},
   "outputs": [
    {
     "name": "stdout",
     "output_type": "stream",
     "text": [
      "splitting functions imported\n"
     ]
    }
   ],
   "source": [
    "##  imports\n",
    "\n",
    "import numpy as np\n",
    "import torch\n",
    "import torch.nn as nn\n",
    "import torch.nn.functional as F\n",
    "import pathlib\n",
    "import PREPROCESSING_splitting as split\n",
    "import matplotlib.pyplot as plt\n",
    "import torchvision.transforms"
   ]
  },
  {
   "cell_type": "markdown",
   "metadata": {},
   "source": [
    "## WEIGHTS AND BIASES\n",
    "This section's purpose  is to set up logging for the tests"
   ]
  },
  {
   "cell_type": "code",
   "execution_count": 146,
   "metadata": {},
   "outputs": [],
   "source": [
    "import wandb"
   ]
  },
  {
   "cell_type": "code",
   "execution_count": 147,
   "metadata": {},
   "outputs": [
    {
     "data": {
      "text/plain": [
       "'D:\\\\Ansys Simulations\\\\Project\\\\2D\\\\preprocessing'"
      ]
     },
     "execution_count": 147,
     "metadata": {},
     "output_type": "execute_result"
    }
   ],
   "source": [
    "import os\n",
    "os.getcwd()"
   ]
  },
  {
   "cell_type": "code",
   "execution_count": 3,
   "metadata": {},
   "outputs": [],
   "source": [
    "#import importlib\n",
    "#importlib.reload(torch)"
   ]
  },
  {
   "cell_type": "code",
   "execution_count": 2,
   "metadata": {},
   "outputs": [],
   "source": [
    "## first, create a class to load the files that are to be fed to the neural network, \n",
    "## for both the inputs and the outputs. To avoid confusion I'll refer to the inputs to the \n",
    "## FEA model as 'bound_conds' (boundary conditions), and the outputs as 'targets', while what \n",
    "## is fed into the neural network will be called an \"input\", and the output of the neural network \"prediction\"\n",
    "## this function should probably be transformed into a dataloader later for a larger dataset, \n",
    "## but for now we'll keep it like this\n",
    "\n",
    "def get_dataset(dataset_path, glob_parameter = '*.npy'):\n",
    "    # concatenates all samples into a list of boundary conditions and a list of targets\n",
    "    \n",
    "    # set paths\n",
    "    bound_cond_path = pathlib.Path(dataset_path, 'input')\n",
    "    targets_path = pathlib.Path(dataset_path, 'output')  \n",
    "    \n",
    "    print(bound_cond_path)\n",
    "    # check if folder path is correct\n",
    "    if bound_cond_path.is_dir() and targets_path.is_dir():\n",
    "        print('path contains \\'input\\' and \\'output\\'')\n",
    "        pass\n",
    "    else:\n",
    "        raise Exception (f'Argument dataset_path: {dataset_path} should contain folders ..\\input and ..\\output. Please check path')\n",
    "    \n",
    "    #create iterators for files\n",
    "    bound_cond_iterator = bound_cond_path.glob(glob_parameter)\n",
    "    targets_iterator = targets_path.glob(glob_parameter)\n",
    "    \n",
    "    #zip them to ensure that they are going through the same samples \n",
    "    samples_iterator = zip(bound_cond_iterator, targets_iterator)\n",
    "    \n",
    "    boundary_conditions = np.array([])\n",
    "    targets = np.array([])\n",
    "    \n",
    "    for boundary_condition_files, targets_files in samples_iterator:\n",
    "        if split.get_number(boundary_condition_files.name) == split.get_number(targets_files.name):\n",
    "            \n",
    "            boundary_conditions_temp = np.load(boundary_condition_files)\n",
    "            targets_temp = np.load(targets_files)\n",
    "            \n",
    "            #start array if it hasn't been started yet\n",
    "            if boundary_conditions.size == 0 and targets.size == 0:\n",
    "                boundary_conditions = boundary_conditions_temp\n",
    "                targets = targets_temp\n",
    "            else:\n",
    "                boundary_conditions = np.concatenate((boundary_conditions, boundary_conditions_temp), axis = 0)\n",
    "                targets = np.concatenate((targets, targets_temp), axis = 0)\n",
    "        else:\n",
    "            raise Exception('the samples in the iterator are not synced')\n",
    "    \n",
    "    return torch.from_numpy(boundary_conditions).float(), torch.from_numpy(targets).float()\n",
    "    "
   ]
  },
  {
   "cell_type": "code",
   "execution_count": 3,
   "metadata": {
    "scrolled": true
   },
   "outputs": [
    {
     "name": "stdout",
     "output_type": "stream",
     "text": [
      "D:\\Ansys Simulations\\Project\\2D\\data\\proof_of_concept_V2\\scaled\\arrays\\input\n",
      "path contains 'input' and 'output'\n",
      "<built-in method size of Tensor object at 0x000002C93F48AA98>\n",
      "torch.Size([102, 4, 32, 32])\n"
     ]
    }
   ],
   "source": [
    "folders_path =  pathlib.Path('D:/Ansys Simulations/Project/2D/data/proof_of_concept_V2/scaled/arrays')\n",
    "dataset = get_dataset(dataset_path = folders_path)\n",
    "print(dataset[0].size)\n",
    "print(dataset[1].shape)"
   ]
  },
  {
   "cell_type": "code",
   "execution_count": 4,
   "metadata": {},
   "outputs": [
    {
     "name": "stdout",
     "output_type": "stream",
     "text": [
      "102\n"
     ]
    }
   ],
   "source": [
    "print(dataset[0].size(0))"
   ]
  },
  {
   "cell_type": "markdown",
   "metadata": {},
   "source": [
    "## Create a Dataloader\n"
   ]
  },
  {
   "cell_type": "code",
   "execution_count": null,
   "metadata": {},
   "outputs": [],
   "source": []
  },
  {
   "cell_type": "code",
   "execution_count": 5,
   "metadata": {},
   "outputs": [],
   "source": [
    "## first the dataset that is going to be used in the dataloader\n",
    "class TwoD_Dataset(torch.utils.data.Dataset):\n",
    "    \"\"\"Two D displacement dataset.\"\"\"\n",
    "\n",
    "    def __init__(self, root_dir, glob_parameter = '*.npy', transform=None):\n",
    "        \"\"\"\n",
    "        Args:\n",
    "            root_dir (string): Directory with all the arrays.\n",
    "            glob_parameter (string): string with the correct glob to select files inside of folders\n",
    "            transform (callable, optional): Optional transform to be applied\n",
    "                on a sample.\n",
    "        \"\"\"\n",
    "        self.dataset = get_dataset(root_dir, glob_parameter = '*.npy')\n",
    "        self.transform = transform\n",
    "\n",
    "    def __len__(self):\n",
    "        assert (self.dataset[0].size(0) == self.dataset[1].size(0)), 'different input and output sizes'\n",
    "        return self.dataset[0].size(0)\n",
    "\n",
    "    def __getitem__(self, idx):\n",
    "        if torch.is_tensor(idx):\n",
    "            idx = idx.tolist()\n",
    "\n",
    "        bc = self.dataset[0][idx, :, :, :]\n",
    "        tgt = self.dataset[1][idx, :, :, :]\n",
    "        \n",
    "        sample = {'boundary_conditions': bc, 'target': tgt}\n",
    "\n",
    "        if self.transform:\n",
    "            sample = self.transform(sample)\n",
    "\n",
    "        return sample"
   ]
  },
  {
   "cell_type": "code",
   "execution_count": 6,
   "metadata": {},
   "outputs": [
    {
     "name": "stdout",
     "output_type": "stream",
     "text": [
      "D:\\Ansys Simulations\\Project\\2D\\data\\proof_of_concept_V2\\scaled\\arrays\\input\n",
      "path contains 'input' and 'output'\n"
     ]
    }
   ],
   "source": [
    "## create dataset\n",
    "folders_path =  pathlib.Path('D:/Ansys Simulations/Project/2D/data/proof_of_concept_V2/scaled/arrays')\n",
    "dataset = TwoD_Dataset(folders_path, glob_parameter = '*.npy')"
   ]
  },
  {
   "cell_type": "code",
   "execution_count": 316,
   "metadata": {},
   "outputs": [
    {
     "data": {
      "text/plain": [
       "torch.Size([7, 32, 32])"
      ]
     },
     "execution_count": 316,
     "metadata": {},
     "output_type": "execute_result"
    }
   ],
   "source": [
    "dataset[1]['boundary_conditions'].shape"
   ]
  },
  {
   "cell_type": "code",
   "execution_count": 7,
   "metadata": {},
   "outputs": [
    {
     "data": {
      "text/plain": [
       "<torch.utils.data.dataloader.DataLoader at 0x2c93f4a9ec8>"
      ]
     },
     "execution_count": 7,
     "metadata": {},
     "output_type": "execute_result"
    }
   ],
   "source": [
    "## create dataloader object\n",
    "##  transforms needto be applied to dataset step\n",
    "dataloader = torch.utils.data.DataLoader(dataset, batch_size=4,\n",
    "                        shuffle=True, num_workers=3)\n",
    "dataloader"
   ]
  },
  {
   "cell_type": "code",
   "execution_count": 318,
   "metadata": {},
   "outputs": [],
   "source": [
    "#torch.ones(3)*np.cos(np.random.uniform(low = -np.pi, high = np.pi))"
   ]
  },
  {
   "cell_type": "code",
   "execution_count": 61,
   "metadata": {},
   "outputs": [
    {
     "name": "stdout",
     "output_type": "stream",
     "text": [
      "\n",
      " Create dummy image\n",
      "tensor([[[[0., 0., 1., 0., 0., 0., 0., 0., 0., 0., 0., 0., 0., 0., 0., 0., 0.],\n",
      "          [0., 0., 1., 0., 0., 0., 0., 0., 0., 0., 0., 0., 0., 0., 0., 0., 0.],\n",
      "          [0., 0., 1., 0., 0., 0., 0., 0., 0., 0., 0., 0., 0., 0., 0., 0., 0.],\n",
      "          [0., 0., 1., 0., 0., 0., 0., 0., 0., 0., 0., 0., 0., 0., 0., 0., 0.],\n",
      "          [0., 0., 1., 0., 0., 0., 0., 0., 0., 0., 0., 0., 0., 0., 0., 0., 0.],\n",
      "          [0., 0., 1., 0., 0., 0., 0., 0., 0., 0., 0., 0., 0., 0., 0., 0., 0.],\n",
      "          [0., 0., 1., 0., 0., 0., 0., 0., 0., 0., 0., 0., 0., 0., 0., 0., 0.],\n",
      "          [0., 0., 1., 0., 0., 0., 0., 0., 0., 0., 0., 0., 0., 0., 0., 0., 0.],\n",
      "          [0., 0., 1., 0., 0., 0., 0., 0., 0., 0., 0., 0., 0., 0., 0., 0., 0.],\n",
      "          [0., 0., 1., 0., 0., 0., 0., 0., 0., 0., 0., 0., 0., 0., 0., 0., 0.],\n",
      "          [0., 0., 1., 0., 0., 0., 0., 0., 0., 0., 0., 0., 0., 0., 0., 0., 0.],\n",
      "          [0., 0., 1., 0., 0., 0., 0., 0., 0., 0., 0., 0., 0., 0., 0., 0., 0.],\n",
      "          [0., 0., 1., 0., 0., 0., 0., 0., 0., 0., 0., 0., 0., 0., 0., 0., 0.],\n",
      "          [0., 0., 1., 0., 0., 0., 0., 0., 0., 0., 0., 0., 0., 0., 0., 0., 0.],\n",
      "          [0., 0., 1., 0., 0., 0., 0., 0., 0., 0., 0., 0., 0., 0., 0., 0., 0.],\n",
      "          [0., 0., 1., 0., 0., 0., 0., 0., 0., 0., 0., 0., 0., 0., 0., 0., 0.],\n",
      "          [0., 0., 1., 0., 0., 0., 0., 0., 0., 0., 0., 0., 0., 0., 0., 0., 0.]]]])\n",
      "tensor([135.])\n",
      "\n",
      " # Calculate rotation for each target pixel\n",
      "9.0\n",
      "9.0\n",
      "\n",
      " # Use meshgrid for pixel coords\n",
      "tensor([ 0,  0,  0,  0,  0,  0,  0,  0,  0,  0,  0,  0,  0,  0,  0,  0,  0,  1,\n",
      "         1,  1,  1,  1,  1,  1,  1,  1,  1,  1,  1,  1,  1,  1,  1,  1,  2,  2,\n",
      "         2,  2,  2,  2,  2,  2,  2,  2,  2,  2,  2,  2,  2,  2,  2,  3,  3,  3,\n",
      "         3,  3,  3,  3,  3,  3,  3,  3,  3,  3,  3,  3,  3,  3,  4,  4,  4,  4,\n",
      "         4,  4,  4,  4,  4,  4,  4,  4,  4,  4,  4,  4,  4,  5,  5,  5,  5,  5,\n",
      "         5,  5,  5,  5,  5,  5,  5,  5,  5,  5,  5,  5,  6,  6,  6,  6,  6,  6,\n",
      "         6,  6,  6,  6,  6,  6,  6,  6,  6,  6,  6,  7,  7,  7,  7,  7,  7,  7,\n",
      "         7,  7,  7,  7,  7,  7,  7,  7,  7,  7,  8,  8,  8,  8,  8,  8,  8,  8,\n",
      "         8,  8,  8,  8,  8,  8,  8,  8,  8,  9,  9,  9,  9,  9,  9,  9,  9,  9,\n",
      "         9,  9,  9,  9,  9,  9,  9,  9, 10, 10, 10, 10, 10, 10, 10, 10, 10, 10,\n",
      "        10, 10, 10, 10, 10, 10, 10, 11, 11, 11, 11, 11, 11, 11, 11, 11, 11, 11,\n",
      "        11, 11, 11, 11, 11, 11, 12, 12, 12, 12, 12, 12, 12, 12, 12, 12, 12, 12,\n",
      "        12, 12, 12, 12, 12, 13, 13, 13, 13, 13, 13, 13, 13, 13, 13, 13, 13, 13,\n",
      "        13, 13, 13, 13, 14, 14, 14, 14, 14, 14, 14, 14, 14, 14, 14, 14, 14, 14,\n",
      "        14, 14, 14, 15, 15, 15, 15, 15, 15, 15, 15, 15, 15, 15, 15, 15, 15, 15,\n",
      "        15, 15, 16, 16, 16, 16, 16, 16, 16, 16, 16, 16, 16, 16, 16, 16, 16, 16,\n",
      "        16])\n",
      "tensor([ 0,  1,  2,  3,  4,  5,  6,  7,  8,  9, 10, 11, 12, 13, 14, 15, 16,  0,\n",
      "         1,  2,  3,  4,  5,  6,  7,  8,  9, 10, 11, 12, 13, 14, 15, 16,  0,  1,\n",
      "         2,  3,  4,  5,  6,  7,  8,  9, 10, 11, 12, 13, 14, 15, 16,  0,  1,  2,\n",
      "         3,  4,  5,  6,  7,  8,  9, 10, 11, 12, 13, 14, 15, 16,  0,  1,  2,  3,\n",
      "         4,  5,  6,  7,  8,  9, 10, 11, 12, 13, 14, 15, 16,  0,  1,  2,  3,  4,\n",
      "         5,  6,  7,  8,  9, 10, 11, 12, 13, 14, 15, 16,  0,  1,  2,  3,  4,  5,\n",
      "         6,  7,  8,  9, 10, 11, 12, 13, 14, 15, 16,  0,  1,  2,  3,  4,  5,  6,\n",
      "         7,  8,  9, 10, 11, 12, 13, 14, 15, 16,  0,  1,  2,  3,  4,  5,  6,  7,\n",
      "         8,  9, 10, 11, 12, 13, 14, 15, 16,  0,  1,  2,  3,  4,  5,  6,  7,  8,\n",
      "         9, 10, 11, 12, 13, 14, 15, 16,  0,  1,  2,  3,  4,  5,  6,  7,  8,  9,\n",
      "        10, 11, 12, 13, 14, 15, 16,  0,  1,  2,  3,  4,  5,  6,  7,  8,  9, 10,\n",
      "        11, 12, 13, 14, 15, 16,  0,  1,  2,  3,  4,  5,  6,  7,  8,  9, 10, 11,\n",
      "        12, 13, 14, 15, 16,  0,  1,  2,  3,  4,  5,  6,  7,  8,  9, 10, 11, 12,\n",
      "        13, 14, 15, 16,  0,  1,  2,  3,  4,  5,  6,  7,  8,  9, 10, 11, 12, 13,\n",
      "        14, 15, 16,  0,  1,  2,  3,  4,  5,  6,  7,  8,  9, 10, 11, 12, 13, 14,\n",
      "        15, 16,  0,  1,  2,  3,  4,  5,  6,  7,  8,  9, 10, 11, 12, 13, 14, 15,\n",
      "        16])\n",
      "torch.Size([289, 2])\n",
      "torch.Size([2, 2])\n",
      "\n",
      " # Calculate indices using rotation matrix\n",
      "tensor([[[[0., 0., 0., 0., 0., 0., 0., 0., 0., 0., 0., 0., 0., 0., 0., 0., 0.],\n",
      "          [0., 0., 0., 0., 0., 0., 0., 0., 0., 0., 0., 0., 0., 0., 0., 0., 0.],\n",
      "          [0., 0., 0., 0., 0., 0., 0., 0., 0., 0., 0., 0., 0., 0., 0., 0., 0.],\n",
      "          [0., 0., 0., 0., 0., 0., 0., 0., 0., 0., 0., 0., 0., 0., 0., 0., 0.],\n",
      "          [0., 0., 0., 0., 0., 0., 0., 0., 0., 0., 0., 0., 0., 0., 0., 0., 0.],\n",
      "          [0., 0., 0., 0., 0., 0., 0., 0., 0., 0., 0., 0., 0., 0., 0., 0., 0.],\n",
      "          [0., 0., 0., 0., 0., 0., 0., 0., 0., 0., 0., 0., 0., 0., 0., 0., 0.],\n",
      "          [0., 0., 0., 0., 0., 0., 0., 0., 0., 0., 0., 0., 0., 0., 0., 0., 0.],\n",
      "          [0., 0., 0., 0., 0., 0., 0., 0., 0., 0., 0., 0., 0., 0., 0., 0., 0.],\n",
      "          [0., 0., 0., 0., 0., 0., 0., 0., 0., 0., 0., 0., 0., 0., 0., 0., 0.],\n",
      "          [0., 0., 0., 0., 0., 0., 0., 0., 0., 0., 0., 0., 0., 0., 0., 0., 0.],\n",
      "          [0., 0., 0., 0., 0., 0., 0., 0., 0., 0., 0., 0., 0., 0., 0., 0., 0.],\n",
      "          [0., 0., 0., 0., 0., 0., 0., 0., 0., 0., 0., 0., 0., 0., 0., 0., 0.],\n",
      "          [0., 0., 0., 0., 0., 0., 0., 0., 0., 0., 0., 0., 0., 0., 0., 0., 0.],\n",
      "          [0., 0., 0., 0., 0., 0., 0., 0., 0., 0., 0., 0., 0., 0., 0., 0., 0.],\n",
      "          [0., 0., 0., 0., 0., 0., 0., 0., 0., 0., 0., 0., 0., 0., 0., 0., 0.],\n",
      "          [0., 0., 0., 0., 0., 0., 0., 0., 0., 0., 0., 0., 0., 0., 0., 0., 0.]]]])\n",
      "tensor([[[[0., 0., 0., 0., 0., 0., 0., 0., 0., 0., 0., 0., 0., 0., 0., 0., 0.],\n",
      "          [0., 0., 0., 0., 0., 0., 0., 0., 0., 0., 0., 0., 0., 0., 0., 0., 0.],\n",
      "          [0., 0., 0., 0., 0., 0., 0., 0., 0., 0., 0., 0., 0., 0., 0., 0., 0.],\n",
      "          [0., 0., 0., 0., 0., 0., 0., 0., 0., 0., 0., 0., 0., 0., 0., 0., 0.],\n",
      "          [0., 0., 0., 0., 0., 0., 0., 0., 0., 0., 0., 0., 0., 0., 0., 0., 0.],\n",
      "          [0., 0., 0., 0., 0., 0., 0., 0., 0., 0., 0., 0., 0., 0., 0., 0., 0.],\n",
      "          [0., 0., 0., 0., 0., 0., 0., 0., 0., 0., 0., 0., 0., 0., 0., 0., 0.],\n",
      "          [0., 0., 0., 0., 0., 0., 0., 0., 0., 0., 0., 0., 0., 0., 0., 0., 0.],\n",
      "          [0., 0., 0., 0., 0., 0., 0., 0., 0., 0., 0., 0., 0., 0., 0., 0., 0.],\n",
      "          [0., 0., 0., 0., 0., 0., 0., 0., 0., 0., 0., 0., 0., 0., 0., 0., 0.],\n",
      "          [0., 0., 0., 0., 0., 0., 0., 0., 0., 0., 0., 0., 0., 0., 0., 0., 0.],\n",
      "          [0., 0., 0., 0., 0., 0., 0., 0., 0., 0., 0., 0., 0., 0., 0., 0., 0.],\n",
      "          [0., 0., 0., 0., 0., 0., 0., 0., 0., 0., 0., 0., 0., 0., 0., 0., 1.],\n",
      "          [0., 0., 0., 0., 0., 0., 0., 0., 0., 0., 0., 0., 0., 0., 0., 1., 0.],\n",
      "          [0., 0., 0., 0., 0., 0., 0., 0., 0., 0., 0., 0., 0., 0., 1., 0., 0.],\n",
      "          [0., 0., 0., 0., 0., 0., 0., 0., 0., 0., 0., 0., 0., 1., 0., 0., 0.],\n",
      "          [0., 0., 0., 0., 0., 0., 0., 0., 0., 0., 0., 0., 1., 0., 0., 0., 0.]]]])\n"
     ]
    }
   ],
   "source": [
    "'''print(\"\\n grid test\")\n",
    "x = torch.tensor([1, 2])\n",
    "y = torch.tensor([4, 5])\n",
    "grid_x, grid_y = torch.meshgrid(x, y)\n",
    "print(grid_x)\n",
    "print(grid_y)'''\n",
    "\n",
    "resolution = 17\n",
    "\n",
    "print(\"\\n Create dummy image\")\n",
    "zeroes = torch.zeros(1, 1, resolution, resolution)\n",
    "im[:, :, :, 2] = 1.\n",
    "print(im)\n",
    "\n",
    "angle = torch.tensor([135 * np.pi / 180.])\n",
    "print(angle/np.pi*180)\n",
    "## rot matrix\n",
    "\n",
    "rot_matrix = torch.tensor([[np.cos(angle), np.sin(angle)],\n",
    "                                [-1.0*np.sin(angle), np.cos(angle)]])\n",
    "\n",
    "print(\"\\n # Calculate rotation for each target pixel\")\n",
    "x_mid = (im.size(2) + 1) / 2.\n",
    "print(x_mid)\n",
    "y_mid = (im.size(3) + 1) / 2.\n",
    "print(y_mid)\n",
    "im_rot = torch.zeros_like(im)\n",
    "\n",
    "\n",
    "print(\"\\n # Use meshgrid for pixel coords\")\n",
    "xv, yv = torch.meshgrid(torch.arange(im.size(2)), torch.arange(im.size(3)))\n",
    "xv = xv.contiguous()\n",
    "yv = yv.contiguous()\n",
    "#print(xv)\n",
    "#print(yv)\n",
    "src_ind = torch.cat((\n",
    "    (xv.float() - x_mid).view(-1, 1),\n",
    "    (yv.float() - y_mid).view(-1, 1)),\n",
    "    dim=1\n",
    ")\n",
    "print(xv.view(-1))\n",
    "print(yv.view(-1))\n",
    "print(src_ind.shape)\n",
    "print(rot_matrix.t().shape)\n",
    "\n",
    "#print(src_ind)\n",
    "\n",
    "print( \"\\n # Calculate indices using rotation matrix\")\n",
    "src_ind = torch.matmul(src_ind, rot_matrix.t())\n",
    "src_ind = torch.round(src_ind)\n",
    "\n",
    "src_ind += torch.tensor([[x_mid, y_mid]])\n",
    "\n",
    "# Set out of bounds indices to limits\n",
    "src_ind[src_ind < 0] = 0.\n",
    "src_ind[:, 0][src_ind[:, 0] >= im.size(2)] = float(im.size(2)) - 1\n",
    "src_ind[:, 1][src_ind[:, 1] >= im.size(3)] = float(im.size(3)) - 1\n",
    " \n",
    "im_rot2 = torch.zeros_like(im)\n",
    "src_ind = src_ind.long()\n",
    "im_rot2[:, :, xv.view(-1), yv.view(-1)] = im[:, :, src_ind[:, 0], src_ind[:, 1]]\n",
    "im_rot2 = im_rot2.view(1, 1, resolution, resolution)\n",
    "print(im_rot)\n",
    "print(im_rot2)"
   ]
  },
  {
   "cell_type": "code",
   "execution_count": 161,
   "metadata": {},
   "outputs": [],
   "source": [
    "## create a vector rotation transform\n",
    "\n",
    "\n",
    "class DirectionalRotation(object):\n",
    "    \"\"\"Rotate a vector with directional coordinates.\n",
    "\n",
    "    Args:\n",
    "        output_size (tuple or int): Desired output size. If tuple, output is\n",
    "            matched to output_size. If int, smaller of image edges is matched\n",
    "            to output_size keeping aspect ratio the same.\n",
    "    \"\"\"\n",
    "\n",
    "    def __init__(self, output_size, dimensionality):\n",
    "        assert isinstance(output_size, (int, tuple))\n",
    "        self.output_size = output_size\n",
    "        self.dimensionality = dimensionality.lower()\n",
    "\n",
    "    def __call__(self, sample):\n",
    "        boundary_condition, target = sample['boundary_conditions'], sample['target']\n",
    "        # get angle\n",
    "        \"print(boundary_condition.shape)\"\n",
    "        angle = np.random.uniform(low = -np.pi, high = np.pi)\n",
    "        \"print(angle)\"\n",
    "        \n",
    "        assert self.dimensionality == '2d', '3D NOT IMPLEMENTED YET'\n",
    "        \n",
    "        ###############################\n",
    "        ## boundary conditions\n",
    "        ###############################\n",
    "        \n",
    "        ######\n",
    "        ###### rotate directional vectors ####\n",
    "        ######\n",
    "        boundary_condition_temp = boundary_condition.clone()\n",
    "        #print(boundary_condition_temp.shape)\n",
    "        boundary_condition_temp[1:2 , :, :] = boundary_condition[1:2 , :, :]*np.cos(angle) \\\n",
    "                                                - boundary_condition[2:3 , :, :]*np.sin(angle)\n",
    "        \n",
    "        boundary_condition_temp[2:3 , :, :] = boundary_condition[1:2 , :, :]*np.sin(angle) \\\n",
    "                                                + boundary_condition[2:3 , :, :]*np.cos(angle)\n",
    "        \n",
    "        boundary_condition_temp[4:5 , :, :] = boundary_condition[4:5 , :, :]*np.cos(angle) \\\n",
    "                                                - boundary_condition[5:6 , :, :]*np.sin(angle)\n",
    "        \n",
    "        boundary_condition_temp[5:6 , :, :] = boundary_condition[4:5 , :, :]*np.sin(angle) \\\n",
    "                                                + boundary_condition[5:6 , :, :]*np.cos(angle)\n",
    "        #####\n",
    "        ##### rotate tensor ####\n",
    "        #####\n",
    "        \n",
    "        # Calculate rotation with inverse rotation matrix\n",
    "        rot_matrix = torch.tensor([[np.cos(angle), np.sin(angle)],\n",
    "                                [-1.0*np.sin(angle), np.cos(angle)]]).float()\n",
    "            \n",
    "        # Calculate rotation for each target pixel\"\n",
    "        x_mid = (boundary_condition.size(1) + 1) / 2\n",
    "        y_mid = (boundary_condition.size(2) + 1) / 2\n",
    "\n",
    "        # Use meshgrid for pixel coords\")\n",
    "        xv, yv = torch.meshgrid(torch.arange(boundary_condition.size(1)), torch.arange(boundary_condition.size(2)))\n",
    "        xv = xv.contiguous()\n",
    "        yv = yv.contiguous()\n",
    "        src_ind = torch.cat((\n",
    "            (xv.float() - x_mid).view(-1, 1),\n",
    "            (yv.float() - y_mid).view(-1, 1)),\n",
    "            dim=1\n",
    "                )\n",
    "            \n",
    "        # Calculate indices using rotation matrix\n",
    "        src_ind = torch.matmul(src_ind, rot_matrix.t())\n",
    "        src_ind = torch.round(src_ind)    \n",
    "        \n",
    "        # translate to mid\n",
    "        src_ind += torch.tensor([[x_mid, y_mid]])\n",
    "        \n",
    "        # Set out of bounds indices to limits\n",
    "        src_ind[src_ind < 0] = 0.\n",
    "        src_ind[:, 0][src_ind[:, 0] >= boundary_condition.size(1)] = float(boundary_condition.size(1)) - 1\n",
    "        src_ind[:, 1][src_ind[:, 1] >= boundary_condition.size(2)] = float(boundary_condition.size(2)) - 1\n",
    "        \n",
    "        src_ind = src_ind.long()\n",
    "        \n",
    "        ####################################\n",
    "        ## targets\n",
    "        ####################################\n",
    "        ######\n",
    "        ###### rotate directional vectors ####\n",
    "        ######\n",
    "        target_temp = target.clone()\n",
    "        target_temp[1:2 , :, :] = target[1:2 , :, :]*np.cos(angle) \\\n",
    "                                                - target[2:3 , :, :]*np.sin(angle)\n",
    "        \n",
    "        target_temp[2:3 , :, :] = target[1:2 , :, :]*np.sin(angle) \\\n",
    "                                                + target[2:3 , :, :]*np.cos(angle)\n",
    "\n",
    "        #####\n",
    "        ##### rotate tensors ####\n",
    "        #####\n",
    "        boundary_conditions_rotated = torch.zeros_like(boundary_condition)\n",
    "        target_rotated = torch.zeros_like(target)\n",
    "        target_rotated[:, xv.view(-1), yv.view(-1)] = target_temp[:, src_ind[:, 0], src_ind[:, 1]]\n",
    "        boundary_conditions_rotated[:, xv.view(-1), yv.view(-1)] = boundary_condition_temp[:, src_ind[:, 0], src_ind[:, 1]]\n",
    "        \"\"\"#TEST: tests if the magnitude is still the same after rotation. It should be.\n",
    "        print(torch.mean(torch.sqrt((target[1:2,:,:]**2 + target[2:3,:,:]**2))))\n",
    "        print(torch.mean(torch.sqrt((target_temp[1:2,:,:]**2 + target_temp[2:3,:,:]**2))))\"\"\"\n",
    "        \n",
    "        \n",
    "        # detach tensors to counter leaf error\n",
    "        boundary_conditions_rotated = boundary_conditions_rotated.detach()\n",
    "        boundary_conditions_rotated.requires_grad = True\n",
    "        target_rotated = target_rotated.detach()\n",
    "        target_rotated.requires_grad = True\n",
    "        #print('going')\n",
    "        \n",
    "\n",
    "        return {'boundary_conditions': boundary_conditions_rotated, 'target': target_rotated}\n",
    "    \n",
    "direc_test = DirectionalRotation(32, dimensionality = '2D')"
   ]
  },
  {
   "cell_type": "code",
   "execution_count": 32,
   "metadata": {},
   "outputs": [
    {
     "name": "stdout",
     "output_type": "stream",
     "text": [
      "102\n"
     ]
    }
   ],
   "source": [
    "## try to plot rotated images\n",
    "#plot ground truth\n",
    "sample =96\n",
    "print(len(dataset))\n",
    "sample_dict = direc_test(dataset[:])"
   ]
  },
  {
   "cell_type": "code",
   "execution_count": null,
   "metadata": {},
   "outputs": [],
   "source": []
  },
  {
   "cell_type": "code",
   "execution_count": 163,
   "metadata": {},
   "outputs": [
    {
     "name": "stdout",
     "output_type": "stream",
     "text": [
      "D:\\Ansys Simulations\\Project\\2D\\data\\proof_of_concept_V2\\scaled\\arrays\\input\n",
      "path contains 'input' and 'output'\n"
     ]
    },
    {
     "data": {
      "text/plain": [
       "<torch.utils.data.dataloader.DataLoader at 0x2c904fc6a88>"
      ]
     },
     "execution_count": 163,
     "metadata": {},
     "output_type": "execute_result"
    }
   ],
   "source": [
    "\n",
    "## create dataset\n",
    "folders_path =  pathlib.Path('D:/Ansys Simulations/Project/2D/data/proof_of_concept_V2/scaled/arrays')\n",
    "\n",
    "## transform the dataset\n",
    "transformed_dataset = TwoD_Dataset(folders_path, glob_parameter = '*.npy',\n",
    "                                           transform = DirectionalRotation(32, dimensionality = '2D'))\n",
    "\n",
    "## create the dataloader\n",
    "transformed_dataloader = torch.utils.data.DataLoader(transformed_dataset, batch_size=6,\n",
    "                        shuffle=True)\n",
    "transformed_dataloader"
   ]
  },
  {
   "cell_type": "code",
   "execution_count": 245,
   "metadata": {},
   "outputs": [
    {
     "name": "stdout",
     "output_type": "stream",
     "text": [
      "<class '__main__.TwoD_Dataset'>\n",
      "1\n",
      "2\n",
      "3\n",
      "(32, 32, 7) (32, 32, 4)\n",
      "4\n"
     ]
    },
    {
     "data": {
      "image/png": "[encoded data removed]",
      "text/plain": [
       "<Figure size 1080x432 with 10 Axes>"
      ]
     },
     "metadata": {
      "needs_background": "light"
     },
     "output_type": "display_data"
    }
   ],
   "source": [
    "#plot ground truth\n",
    "sample =80\n",
    "print(type(transformed_dataset))\n",
    "sample_transformed = transformed_dataset[sample]\n",
    "print('1')\n",
    "sample_bc = np.moveaxis(sample_transformed['boundary_conditions'].data.clone().data.numpy(), 0, 2)\n",
    "print('2')\n",
    "sample_target = np.moveaxis(sample_transformed['target'].clone().data.numpy(), 0, 2)\n",
    "print('3')\n",
    "print(sample_bc.shape, sample_target.shape)\n",
    "print('4')\n",
    "plot_grid_2d(sample_bc, sample_target)"
   ]
  },
  {
   "cell_type": "code",
   "execution_count": 58,
   "metadata": {},
   "outputs": [
    {
     "name": "stdout",
     "output_type": "stream",
     "text": [
      "0 torch.Size([6, 7, 32, 32]) torch.Size([6, 4, 32, 32])\n",
      "1 torch.Size([6, 7, 32, 32]) torch.Size([6, 4, 32, 32])\n",
      "2 torch.Size([6, 7, 32, 32]) torch.Size([6, 4, 32, 32])\n",
      "3 torch.Size([6, 7, 32, 32]) torch.Size([6, 4, 32, 32])\n",
      "4 torch.Size([6, 7, 32, 32]) torch.Size([6, 4, 32, 32])\n",
      "5 torch.Size([6, 7, 32, 32]) torch.Size([6, 4, 32, 32])\n",
      "6 torch.Size([6, 7, 32, 32]) torch.Size([6, 4, 32, 32])\n",
      "7 torch.Size([6, 7, 32, 32]) torch.Size([6, 4, 32, 32])\n",
      "8 torch.Size([6, 7, 32, 32]) torch.Size([6, 4, 32, 32])\n",
      "9 torch.Size([6, 7, 32, 32]) torch.Size([6, 4, 32, 32])\n",
      "10 torch.Size([6, 7, 32, 32]) torch.Size([6, 4, 32, 32])\n",
      "11 torch.Size([6, 7, 32, 32]) torch.Size([6, 4, 32, 32])\n",
      "12 torch.Size([6, 7, 32, 32]) torch.Size([6, 4, 32, 32])\n",
      "13 torch.Size([6, 7, 32, 32]) torch.Size([6, 4, 32, 32])\n",
      "14 torch.Size([6, 7, 32, 32]) torch.Size([6, 4, 32, 32])\n",
      "15 torch.Size([6, 7, 32, 32]) torch.Size([6, 4, 32, 32])\n",
      "16 torch.Size([6, 7, 32, 32]) torch.Size([6, 4, 32, 32])\n"
     ]
    }
   ],
   "source": [
    "for i_batch, sample_batched in enumerate(transformed_dataloader):\n",
    "    print(i_batch, sample_batched['boundary_conditions'].size(),\n",
    "          sample_batched['target'].size())"
   ]
  },
  {
   "cell_type": "markdown",
   "metadata": {},
   "source": [
    "## BASE"
   ]
  },
  {
   "cell_type": "code",
   "execution_count": 314,
   "metadata": {},
   "outputs": [
    {
     "data": {
      "text/plain": [
       "tensor([[[[-0.1604, -0.1200, -0.1191,  ..., -0.1121, -0.0894, -0.0821],\n",
       "          [-0.1680, -0.1367, -0.1327,  ..., -0.1192, -0.0813, -0.0760],\n",
       "          [-0.1459, -0.1304, -0.1323,  ..., -0.1246, -0.0910, -0.0852],\n",
       "          ...,\n",
       "          [-0.1285, -0.1168, -0.1217,  ..., -0.1435, -0.1108, -0.1088],\n",
       "          [-0.1267, -0.1050, -0.1079,  ..., -0.1297, -0.1123, -0.1049],\n",
       "          [-0.1252, -0.1474, -0.1495,  ..., -0.1702, -0.1704, -0.1370]],\n",
       "\n",
       "         [[-0.0525, -0.0594, -0.0610,  ..., -0.0687, -0.0631, -0.0911],\n",
       "          [-0.0576, -0.1125, -0.1138,  ..., -0.1224, -0.1124, -0.1422],\n",
       "          [-0.0414, -0.0825, -0.0837,  ..., -0.0952, -0.0908, -0.1313],\n",
       "          ...,\n",
       "          [-0.0489, -0.0838, -0.0863,  ..., -0.1021, -0.0859, -0.1239],\n",
       "          [-0.0554, -0.0921, -0.0960,  ..., -0.1045, -0.0897, -0.1095],\n",
       "          [-0.0519, -0.0962, -0.0871,  ..., -0.0992, -0.0900, -0.0966]],\n",
       "\n",
       "         [[-0.0485, -0.0333, -0.0418,  ..., -0.0408, -0.0076,  0.0388],\n",
       "          [-0.0641, -0.0672, -0.0591,  ..., -0.0708, -0.0270,  0.0629],\n",
       "          [-0.0694, -0.0951, -0.0886,  ..., -0.1008, -0.0505,  0.0462],\n",
       "          ...,\n",
       "          [-0.0613, -0.1006, -0.0879,  ..., -0.0802, -0.0374,  0.0652],\n",
       "          [-0.0483, -0.0844, -0.0735,  ..., -0.0670, -0.0406,  0.0496],\n",
       "          [-0.0390, -0.0657, -0.0439,  ..., -0.0471, -0.0400,  0.0189]]]],\n",
       "       device='cuda:0', grad_fn=<HardtanhBackward0>)"
      ]
     },
     "execution_count": 314,
     "metadata": {},
     "output_type": "execute_result"
    }
   ],
   "source": [
    "## define the neural network's general shape\n",
    "\n",
    "class ConvNet(nn.Module):\n",
    "    def __init__(self):\n",
    "        super(ConvNet, self).__init__()\n",
    "        \n",
    "        ## convolutional layers\n",
    "        self.conv1 = nn.Conv2d(in_channels = 7, out_channels = 14, kernel_size = 3, padding = 1)\n",
    "        self.conv2 = nn.Conv2d(in_channels = 14, out_channels = 16, kernel_size = 3, padding = 1)\n",
    "        self.deconv1 = nn.ConvTranspose2d(in_channels = 16, out_channels = 14, kernel_size = 3, padding = 1)\n",
    "        self.deconv2 = nn.ConvTranspose2d(in_channels = 14, out_channels = 10, kernel_size = 3, padding = 1)\n",
    "        self.deconv3 = nn.ConvTranspose2d(in_channels = 10, out_channels = 7, kernel_size = 3, padding = 1)\n",
    "        self.deconv4 = nn.ConvTranspose2d(in_channels = 7, out_channels = 3, kernel_size = 3, padding = 1)\n",
    "        \n",
    "        ## activation\n",
    "        self.hardtanh = nn.Hardtanh()\n",
    "        \n",
    "        \n",
    "        ##possible for later: MultiheadAttention\n",
    "        self.multihead_attn_middle = SelfAttention(in_dim = 16, activation = None)\n",
    "        \n",
    "        \n",
    "        ### spatial transform network for spatial invariance ###\n",
    "        self.localization = nn.Sequential(\n",
    "            nn.Conv2d(7, 8, kernel_size=2,  padding=1),\n",
    "            nn.MaxPool2d(2, stride=2),\n",
    "            nn.ReLU(True),\n",
    "            nn.Conv2d(8, 10, kernel_size=2, padding = 1),\n",
    "            nn.MaxPool2d(2, stride=2),\n",
    "            nn.ReLU(True)\n",
    "        )\n",
    "        # Regressor for the 3 * 2 affine matrix\n",
    "        self.fc_loc = nn.Sequential(\n",
    "            nn.Linear(10 * 8 * 8, 32),\n",
    "            nn.ReLU(True),\n",
    "            nn.Linear(32, 3 * 2)\n",
    "        )\n",
    "        \n",
    "    def stn(self, x):\n",
    "        xs = self.localization(x)\n",
    "        #print(xs.shape)\n",
    "        xs = xs.view(-1, 10 * 8 * 8)\n",
    "        theta = self.fc_loc(xs)\n",
    "        #print(theta.shape)\n",
    "        theta = theta.view(-1, 2, 3)\n",
    "        #print(theta.shape)\n",
    "        #print(x.size())\n",
    "        grid = F.affine_grid(theta, x.size())\n",
    "        x = F.grid_sample(x, grid)\n",
    "\n",
    "        return x\n",
    "    \n",
    "    def forward(self, boundary_conditions):\n",
    "        \n",
    "        # spatially transform the input\n",
    "        x = self.stn(boundary_conditions)\n",
    "        \n",
    "        \n",
    "        #print(boundary_conditions.shape)\n",
    "        x = self.conv1(x)\n",
    "        x = self.hardtanh(x)\n",
    "        #print(x.shape)\n",
    "        x = self.conv2(x)\n",
    "        x = self.multihead_attn_middle(x)\n",
    "        x = self.hardtanh(x)\n",
    "        #print(x.shape)\n",
    "        x = self.deconv1(x)\n",
    "        x = self.hardtanh(x)\n",
    "       #print(x.shape)\n",
    "        x = self.deconv2(x)\n",
    "        x = self.hardtanh(x)\n",
    "        #print(x.shape)\n",
    "        x = self.deconv3(x)\n",
    "        x = self.hardtanh(x)\n",
    "       # print(x.shape)\n",
    "        x = self.deconv4(x)\n",
    "        x = self.hardtanh(x)\n",
    "        #print(x.shape)\n",
    "        return x\n",
    "    \n",
    "net = ConvNet().cuda().float()\n",
    "\n",
    "## test to see if getting the correct size\n",
    "net.forward(dataset[0]['boundary_conditions'].unsqueeze(0).cuda())"
   ]
  },
  {
   "cell_type": "code",
   "execution_count": null,
   "metadata": {},
   "outputs": [],
   "source": []
  },
  {
   "cell_type": "code",
   "execution_count": 315,
   "metadata": {},
   "outputs": [],
   "source": [
    "## define criterion\n",
    "criterion = nn.MSELoss().cuda()\n",
    "learn_rate = 0.0001\n",
    "optimizer = torch.optim.Adam(params = net.parameters(), lr=learn_rate, betas=(0.9, 0.999))"
   ]
  },
  {
   "cell_type": "code",
   "execution_count": null,
   "metadata": {},
   "outputs": [],
   "source": []
  },
  {
   "cell_type": "code",
   "execution_count": 316,
   "metadata": {},
   "outputs": [
    {
     "name": "stdout",
     "output_type": "stream",
     "text": [
      "D:\\Ansys Simulations\\Project\\2D\\data\\proof_of_concept_V2\\scaled\\arrays\\input\n",
      "path contains 'input' and 'output'\n",
      "102\n",
      "91 11\n"
     ]
    }
   ],
   "source": [
    "## create dataset\n",
    "folders_path =  pathlib.Path('D:/Ansys Simulations/Project/2D/data/proof_of_concept_V2/scaled/arrays')\n",
    "\n",
    "## transform the dataset\n",
    "transformed_dataset = TwoD_Dataset(folders_path, glob_parameter = '*.npy',\n",
    "                                           transform = DirectionalRotation(32, dimensionality = '2D'))\n",
    "## train dataset \n",
    "print(len(transformed_dataset))\n",
    "train_percentage = 0.9\n",
    "train_length = int(len(transformed_dataset)*train_percentage)\n",
    "test_length = len(transformed_dataset) - train_length\n",
    "train_dataset, val_dataset = torch.utils.data.random_split(transformed_dataset, (train_length, test_length))\n",
    "print(len(train_dataset), len(val_dataset))\n",
    "\n",
    "\n",
    "batch_size = 6\n",
    "## create the dataloader\n",
    "train_dataloader = torch.utils.data.DataLoader(train_dataset, batch_size,\n",
    "                        shuffle=True)\n",
    "val_dataloader = torch.utils.data.DataLoader(val_dataset, batch_size,\n",
    "                        shuffle=True)"
   ]
  },
  {
   "cell_type": "code",
   "execution_count": 317,
   "metadata": {},
   "outputs": [
    {
     "data": {
      "text/html": [
       "\n",
       "                Logging results to <a href=\"https://wandb.com\" target=\"_blank\">Weights & Biases</a> <a href=\"https://docs.wandb.com/integrations/jupyter.html\" target=\"_blank\">(Documentation)</a>.<br/>\n",
       "                Project page: <a href=\"https://app.wandb.ai/walther/Project\" target=\"_blank\">https://app.wandb.ai/walther/Project</a><br/>\n",
       "                Run page: <a href=\"https://app.wandb.ai/walther/Project/runs/12s2fs91\" target=\"_blank\">https://app.wandb.ai/walther/Project/runs/12s2fs91</a><br/>\n",
       "            "
      ],
      "text/plain": [
       "<IPython.core.display.HTML object>"
      ]
     },
     "metadata": {},
     "output_type": "display_data"
    },
    {
     "name": "stderr",
     "output_type": "stream",
     "text": [
      "wandb: Wandb version 0.9.2 is available!  To upgrade, please run:\n",
      "wandb:  $ pip install wandb --upgrade\n"
     ]
    },
    {
     "data": {
      "text/plain": [
       "W&B Run: https://app.wandb.ai/walther/Project/runs/12s2fs91"
      ]
     },
     "execution_count": 317,
     "metadata": {},
     "output_type": "execute_result"
    }
   ],
   "source": [
    "## setup logging\n",
    "epochs = 500\n",
    "wandb.init(config={\"epochs\": epochs, \"batch_size\": batch_size,'learning_rate': learn_rate, 'architecture':'stn_with_attention_architecture_kernel2', 'database': 'v3'})"
   ]
  },
  {
   "cell_type": "code",
   "execution_count": 318,
   "metadata": {},
   "outputs": [
    {
     "data": {
      "text/html": [
       "<iframe src=\"https://app.wandb.ai/walther/Project/runs/12s2fs91?jupyter=true&state=paused\" style=\"border:none;width:100%;height:420px\">\n",
       "                </iframe>"
      ],
      "text/plain": [
       "<wandb.jupyter.Run at 0x2c940c39748>"
      ]
     },
     "metadata": {},
     "output_type": "display_data"
    },
    {
     "name": "stdout",
     "output_type": "stream",
     "text": [
      "1 1 0.02940939925611019 0.004943076334893703\n"
     ]
    },
    {
     "name": "stderr",
     "output_type": "stream",
     "text": [
      "wandb: Wandb version 0.9.2 is available!  To upgrade, please run:\n",
      "wandb:  $ pip install wandb --upgrade\n"
     ]
    },
    {
     "name": "stdout",
     "output_type": "stream",
     "text": [
      "2 1 0.007430833764374256 0.0013849308714270591\n",
      "3 1 0.0038166362792253494 0.000713915191590786\n",
      "4 1 0.0031370227225124836 0.0006142296362668276\n",
      "5 1 0.031136298552155495 0.0005807065637782217\n",
      "6 1 0.0022487237583845854 0.0005157147999852896\n",
      "7 1 0.002456066431477666 0.00041524639818817376\n",
      "8 1 0.005568023305386305 0.0004423773381859064\n",
      "9 1 0.0026848898269236088 0.00041518108919262885\n",
      "10 1 0.0021736235357820988 0.00041341208852827547\n",
      "11 1 0.0024944159667938948 0.00038543506525456905\n",
      "12 1 0.003398967906832695 0.0004260390531271696\n",
      "13 1 0.0016932848375290632 0.000377675227355212\n",
      "14 1 0.0021375268697738647 0.0003811416449025273\n",
      "15 1 0.0037070426624268293 0.0004077711375430226\n",
      "16 1 0.002062608255073428 0.0003696630476042628\n",
      "17 1 0.0014394812751561403 0.00039428664604201913\n",
      "18 1 0.002011821838095784 0.00040675208438187835\n",
      "19 1 0.009458068758249283 0.00039795227348804474\n",
      "20 1 0.025965087115764618 0.0003878885880112648\n",
      "21 1 0.0015101401368156075 0.00039494374068453907\n",
      "22 1 0.0028954842127859592 0.00036071476060897114\n",
      "23 1 0.008529352955520153 0.00034872603137046097\n",
      "24 1 0.0020560305565595627 0.0003515344811603427\n",
      "25 1 0.00202153786085546 0.0003337553353048861\n",
      "26 1 0.0031118877232074738 0.00035872446605935695\n",
      "27 1 0.0035950990859419107 0.00032584439031779766\n",
      "28 1 0.001923076226375997 0.00036924752639606596\n",
      "29 1 0.002032782416790724 0.0003231144160963595\n",
      "30 1 0.0018508571665734053 0.0003542963066138327\n",
      "31 1 0.0018231677822768688 0.00033708568662405014\n",
      "32 1 0.026304995641112328 0.00033712246222421526\n",
      "33 1 0.0027658515609800816 0.0003024618374183774\n",
      "34 1 0.002471574116498232 0.00033040514681488277\n",
      "35 1 0.0020348974503576756 0.00032837068429216745\n",
      "36 1 0.0011912186164408922 0.0003013515495695174\n",
      "37 1 0.001655536936596036 0.0003316422458738089\n",
      "38 1 0.0016641137190163136 0.0003248816123232245\n",
      "39 1 0.0028220387175679207 0.0003338745329529047\n",
      "40 1 0.0017526374431326985 0.00032222053268924353\n",
      "41 1 0.0013938567135483027 0.00029886472038924693\n",
      "42 1 0.001296588103286922 0.00031294844811782243\n",
      "43 1 0.0017162469448521733 0.0003024841076694429\n",
      "44 1 0.008589101955294609 0.0002994125825352967\n",
      "45 1 0.030391745269298553 0.00029979236423969267\n",
      "46 1 0.0011990850325673819 0.00030364320846274493\n",
      "47 1 0.0020522549748420715 0.0002921406296081841\n",
      "48 1 0.0019353486131876707 0.0002924717264249921\n",
      "49 1 0.0011362982913851738 0.0002947227680124342\n",
      "50 1 0.0010354788973927498 0.00030267613474279644\n",
      "51 1 0.001413730438798666 0.00027280652429908516\n",
      "52 1 0.0016534465830773115 0.00028542133513838054\n",
      "53 1 0.0013042660430073738 0.00028627105057239534\n",
      "54 1 0.001611832296475768 0.0002741157193668187\n",
      "55 1 0.02718287706375122 0.0002792790066450834\n",
      "56 1 0.0011782182846218348 0.0002825309755280614\n",
      "57 1 0.023011907935142517 0.0003034621709957719\n",
      "58 1 0.029474465176463127 0.0002992364577949047\n",
      "59 1 0.002377239055931568 0.0002798533299937844\n",
      "60 1 0.001752576557919383 0.00030255651799961927\n",
      "61 1 0.0010814403649419546 0.00029621071880683305\n",
      "62 1 0.0013944089878350496 0.00027852114289999007\n",
      "63 1 0.0018224215600639582 0.00027643309440463784\n",
      "64 1 0.0024328280705958605 0.0002823627553880215\n",
      "65 1 0.0012588466051965952 0.00027142990147694946\n",
      "66 1 0.0008697023149579763 0.00027849243488162754\n",
      "67 1 0.0017340900376439095 0.00028437797445803883\n",
      "68 1 0.0020882391836494207 0.00028462224872782826\n",
      "69 1 0.0009079501032829285 0.00027545238845050335\n",
      "70 1 0.0015588115202262998 0.0002861209330148995\n",
      "71 1 0.0027447273023426533 0.0003073515836149454\n",
      "72 1 0.0011473665945231915 0.0002732643042691052\n",
      "73 1 0.001985528040677309 0.0002707501407712698\n",
      "74 1 0.001411862438544631 0.0002581547712907195\n",
      "75 1 0.001970460172742605 0.0002770319581031799\n",
      "76 1 0.0017709144158288836 0.0002897004247643054\n",
      "77 1 0.001505344407632947 0.0002916619647294283\n",
      "78 1 0.001949880737811327 0.0002505854587070644\n",
      "79 1 0.0014954304788261652 0.00029317868174985053\n",
      "80 1 0.0009223181987181306 0.00027744270628318193\n",
      "81 1 0.0011486257426440716 0.00026290102396160365\n",
      "82 1 0.0011250569950789213 0.0002771447645500302\n",
      "83 1 0.024814657866954803 0.0002592121949419379\n",
      "84 1 0.0017137331888079643 0.0002611983101814985\n",
      "85 1 0.028202781453728676 0.00028045137878507376\n",
      "86 1 0.0014702207408845425 0.0002834605984389782\n",
      "87 1 0.0017948043532669544 0.00026953152846544983\n",
      "88 1 0.001504046842455864 0.000273581244982779\n",
      "89 1 0.007546072825789452 0.0002538235508836806\n",
      "90 1 0.001922286581248045 0.00028105948586016894\n",
      "91 1 0.0022829752415418625 0.0002636389806866646\n",
      "92 1 0.0012839833507314324 0.0002746084704995155\n",
      "93 1 0.03181351721286774 0.00028650314779952166\n",
      "94 1 0.0014067303854972124 0.0002657507662661374\n",
      "95 1 0.0009479665313847363 0.0002887347713112831\n",
      "96 1 0.0016248298343271017 0.00027506952174007895\n",
      "97 1 0.0010944970417767763 0.00027656530728563665\n",
      "98 1 0.02599136158823967 0.0002710564760491252\n",
      "99 1 0.0016766395419836044 0.000265449658036232\n",
      "100 1 0.003081826725974679 0.0002623514388687909\n",
      "101 1 0.0013734782114624977 0.00027272526640444996\n",
      "102 1 0.00224156491458416 0.0002677555836271495\n",
      "103 1 0.0017904529813677073 0.0002477980218827724\n",
      "104 1 0.0009061573073267937 0.00026529331225901844\n",
      "105 1 0.0017913253977894783 0.0002679013181477785\n",
      "106 1 0.02849753201007843 0.0002755496883764863\n",
      "107 1 0.001550014829263091 0.00027483943849802015\n",
      "108 1 0.0017649478977546096 0.00027768315048888327\n",
      "109 1 0.002553160535171628 0.0002764256205409765\n",
      "110 1 0.02483508735895157 0.0003246200270950794\n",
      "111 1 0.001047037891112268 0.00026205681497231125\n",
      "112 1 0.0018336348002776504 0.0002726892358623445\n",
      "113 1 0.0015103702899068594 0.00024395213695243\n",
      "114 1 0.0019052394200116396 0.0002703746547922492\n",
      "115 1 0.0011580920545384288 0.0002657452365383506\n",
      "116 1 0.030385183170437813 0.0002546373871155083\n",
      "117 1 0.0016005085781216621 0.00026163326110690833\n",
      "118 1 0.0017660349840298295 0.00025700742844492197\n",
      "119 1 0.0007551094167865813 0.0002503031166270375\n",
      "120 1 0.0015627245884388685 0.0002753410255536437\n",
      "121 1 0.0019012705888599157 0.0002758117159828544\n",
      "122 1 0.0009201664943248034 0.00026858789497055115\n",
      "123 1 0.0016848178347572684 0.00024707179982215167\n",
      "124 1 0.0012708003632724285 0.0002471566200256348\n",
      "125 1 0.0015192287974059582 0.0002467883285135031\n",
      "126 1 0.002097546122968197 0.0002555284765549004\n",
      "127 1 0.003268280066549778 0.0002627235953696072\n",
      "128 1 0.0009429778438061476 0.00027844909927807746\n",
      "129 1 0.0008572362130507827 0.00026474876794964076\n",
      "130 1 0.00645783543586731 0.0002866512630134821\n",
      "131 1 0.00162797374650836 0.00025396677665412426\n",
      "132 1 0.028371065855026245 0.00026484294794499875\n",
      "133 1 0.001970390323549509 0.00025981810176745057\n",
      "134 1 0.0014278836315497756 0.00025989193236455323\n",
      "135 1 0.0019339431310072541 0.0002675495343282819\n",
      "136 1 0.0030117342248559 0.0002594066259916872\n",
      "137 1 0.0010333305690437555 0.00025390374939888717\n",
      "138 1 0.032788246870040894 0.0002654479700140655\n",
      "139 1 0.0014743286883458495 0.0002422086428850889\n",
      "140 1 0.0015370240435004234 0.0002668976841960102\n",
      "141 1 0.0010756918927654624 0.00024979292647913097\n",
      "142 1 0.0018187796231359243 0.0002726406906731427\n",
      "143 1 0.007754544261842966 0.00026648101629689336\n",
      "144 1 0.001010707812383771 0.00025022325571626424\n",
      "145 1 0.001628113561309874 0.0002472904627211392\n",
      "146 1 0.002808589953929186 0.0002729363273829222\n",
      "147 1 0.0010024737566709518 0.00025703624123707414\n",
      "148 1 0.0014048198936507106 0.0002578534069471061\n",
      "149 1 0.0008636243874207139 0.00027883623261004686\n",
      "150 1 0.0012080059386789799 0.0002636376186273992\n",
      "151 1 0.003512172494083643 0.00028604369144886733\n",
      "152 1 0.0011398254428058863 0.00028627015417441725\n",
      "153 1 0.0014240735908970237 0.00025328381452709435\n",
      "154 1 0.002058193553239107 0.00025537663605064155\n",
      "155 1 0.0012848698534071445 0.00024999768938869236\n",
      "156 1 0.003246878506615758 0.0002544178394600749\n",
      "157 1 0.002299321349710226 0.0002461783471517265\n",
      "158 1 0.0019102583173662424 0.0002322621352504939\n",
      "159 1 0.03205542266368866 0.00026757792802527546\n",
      "160 1 0.0013893984723836184 0.000285091542173177\n",
      "161 1 0.0011297257151454687 0.000255662901327014\n",
      "162 1 0.003305986290797591 0.0002592654433101416\n",
      "163 1 0.0014545597368851304 0.0002595672383904457\n",
      "164 1 0.0013257397804409266 0.0002550993929617107\n",
      "165 1 0.0019418959273025393 0.0002753614215180278\n",
      "166 1 0.0013939011842012405 0.00026303755585104226\n",
      "167 1 0.0014719482278451324 0.00025190935702994465\n",
      "168 1 0.001985965296626091 0.00026048264699056743\n"
     ]
    },
    {
     "name": "stdout",
     "output_type": "stream",
     "text": [
      "169 1 0.001046505058184266 0.0002898395527154207\n",
      "170 1 0.0018391136545687914 0.0002757202717475593\n",
      "171 1 0.0015851525822654366 0.00026881545782089236\n",
      "172 1 0.0011601956794038415 0.0002590770600363612\n",
      "173 1 0.0010147520806640387 0.0002573804697021842\n",
      "174 1 0.001595364767126739 0.0002760986564680934\n",
      "175 1 0.001486063003540039 0.00025986084947362544\n",
      "176 1 0.0015068183420225978 0.00025607189163565634\n",
      "177 1 0.0020659351721405983 0.000264122593216598\n",
      "178 1 0.008496750146150589 0.000251636968459934\n",
      "179 1 0.0009292780887335539 0.00025629609590396287\n",
      "180 1 0.023115430027246475 0.0002541053225286305\n",
      "181 1 0.0011007790453732014 0.000252139987424016\n",
      "182 1 0.0013137215282768011 0.0002467214595526457\n",
      "183 1 0.0014824287500232458 0.0002606706111691892\n",
      "184 1 0.03073207102715969 0.00026350130792707205\n",
      "185 1 0.0024240962229669094 0.00024150130338966845\n",
      "186 1 0.0016324521275237203 0.00025037330342456696\n",
      "187 1 0.001609966391697526 0.0002457584661897272\n",
      "188 1 0.0011031129397451878 0.0002816665801219642\n",
      "189 1 0.0015917145647108555 0.0002436649752780795\n",
      "190 1 0.0013015922158956528 0.00024524821201339365\n",
      "191 1 0.0014250015374273062 0.00025106354150921105\n",
      "192 1 0.0014843286480754614 0.00025518032489344475\n",
      "193 1 0.001764274900779128 0.00026059094816446306\n",
      "194 1 0.002902364358305931 0.0002656859112903476\n",
      "195 1 0.0010910709388554096 0.0002454299945384264\n",
      "196 1 0.0013183453120291233 0.00024414421059191225\n",
      "197 1 0.002464692108333111 0.0002659931778907776\n",
      "198 1 0.001923705916851759 0.0002599562518298626\n",
      "199 1 0.0013830390525981784 0.00024854412768036125\n",
      "200 1 0.0018673052545636892 0.00024686461547389625\n",
      "201 1 0.0013427755329757929 0.00025564489187672733\n",
      "202 1 0.0015031293733045459 0.0002397174364887178\n",
      "203 1 0.0077936905436217785 0.0002550423960201442\n",
      "204 1 0.0019823131151497364 0.00026179030537605287\n",
      "205 1 0.0017458915244787931 0.00027512130327522755\n",
      "206 1 0.0009358290117233992 0.0002401286270469427\n",
      "207 1 0.0022445498034358025 0.00025180428056046365\n",
      "208 1 0.0021988535299897194 0.00026603726437315347\n",
      "209 1 0.0013122435193508863 0.00025043173227459194\n",
      "210 1 0.0009026382467709482 0.0002606878289952874\n",
      "211 1 0.0014270986430346966 0.00025997802149504425\n",
      "212 1 0.0018734745681285858 0.00023978803073987365\n",
      "213 1 0.026550818234682083 0.00023048284929245711\n",
      "214 1 0.002296480815857649 0.00024205006193369626\n",
      "215 1 0.027393516153097153 0.00026478585787117483\n",
      "216 1 0.0024251427967101336 0.00023870758013799787\n",
      "217 1 0.0026386079844087362 0.00026046026032418014\n",
      "218 1 0.0007997911307029426 0.0002683990285731852\n",
      "219 1 0.0013138018548488617 0.00025620736414566636\n",
      "220 1 0.0017767423996701837 0.0002463215263560414\n",
      "221 1 0.0011721370974555612 0.0002679261146113276\n",
      "222 1 0.00204450823366642 0.00023631228832527996\n",
      "223 1 0.0018341783434152603 0.00025019646855071185\n",
      "224 1 0.0012135490542277694 0.00024980067973956466\n",
      "225 1 0.0016123332316055894 0.0002611007948871702\n",
      "226 1 0.0038234139792621136 0.0002564194262959063\n",
      "227 1 0.002885090420022607 0.000254364893771708\n",
      "228 1 0.030203722417354584 0.0002356204902753234\n",
      "229 1 0.0011345420498400927 0.00023937579826451837\n",
      "230 1 0.0013866662047803402 0.00023406014079228044\n",
      "231 1 0.0017443045508116484 0.00024392791092395783\n",
      "232 1 0.0013489332050085068 0.0002348241163417697\n",
      "233 1 0.0016469578258693218 0.00024326625280082225\n",
      "234 1 0.007746987044811249 0.00024413557257503272\n",
      "235 1 0.002312581054866314 0.00024427913594990967\n",
      "236 1 0.002213150728493929 0.00023127900203689933\n",
      "237 1 0.0015541035681962967 0.0002258769003674388\n",
      "238 1 0.0014493305934593081 0.0002275895792990923\n",
      "239 1 0.006743676029145718 0.00022486418019980193\n",
      "240 1 0.001841898076236248 0.0002463904209434986\n",
      "241 1 0.0014943379210308194 0.00023811052087694407\n",
      "242 1 0.0015069219516590238 0.00025368534261360765\n",
      "243 1 0.026938119903206825 0.0002563457586802542\n",
      "244 1 0.0023672517854720354 0.00024598031304776666\n",
      "245 1 0.0007062637014314532 0.0002287579933181405\n",
      "246 1 0.0017011757008731365 0.00024213501019403337\n",
      "247 1 0.0012221666984260082 0.00022895942674949765\n",
      "248 1 0.001430922537110746 0.00021636479068547486\n",
      "249 1 0.0006585445371456444 0.0002328747883439064\n",
      "250 1 0.028377041220664978 0.00022784700850024818\n",
      "251 1 0.0014708449598401785 0.00022277609677985312\n",
      "252 1 0.0009446503827348351 0.00023744366480968893\n",
      "253 1 0.03117961436510086 0.00022278055548667907\n",
      "254 1 0.0017793731531128287 0.00021003623842261732\n",
      "255 1 0.001881177187897265 0.00021418124670162796\n",
      "256 1 0.0007599005475640297 0.0002176101435907185\n",
      "257 1 0.00300964480265975 0.00025492188287898896\n",
      "258 1 0.002277767052873969 0.00021004576119594277\n",
      "259 1 0.0012381075648590922 0.00020896218484267592\n",
      "260 1 0.00819319300353527 0.00020808083936572075\n",
      "261 1 0.0026720548048615456 0.00020547632593661546\n",
      "262 1 0.0006399008561857045 0.00018422786379233003\n",
      "263 1 0.001897833775728941 0.000223448290489614\n",
      "264 1 0.002237768843770027 0.00020475731580518186\n",
      "265 1 0.007384789641946554 0.00021545039489865304\n",
      "266 1 0.001226432854309678 0.00020429929718375207\n",
      "267 1 0.0012825961457565427 0.00021075953263789416\n",
      "268 1 0.0021418649703264236 0.000172525824746117\n",
      "269 1 0.002450907602906227 0.0002007685718126595\n",
      "270 1 0.0006686379201710224 0.00018578675808385016\n",
      "271 1 0.0011964807054027915 0.00016953969025053085\n",
      "272 1 0.0008367288392037153 0.00017316503217443824\n",
      "273 1 0.001887292368337512 0.00016969769494608046\n",
      "274 1 0.02846069633960724 0.0001744817884173244\n",
      "275 1 0.00067876186221838 0.0001742631196975708\n",
      "276 1 0.0008910976466722786 0.00016523052472621201\n",
      "277 1 0.0012156207812950015 0.00020045348210260273\n",
      "278 1 0.002061276463791728 0.00018358526285737752\n",
      "279 1 0.02832324244081974 0.00016811949317343532\n",
      "280 1 0.0022379951551556587 0.00017968243919312953\n",
      "281 1 0.0006342094857245684 0.00019682429265230895\n",
      "282 1 0.001174017321318388 0.000176794093567878\n",
      "283 1 0.006844467483460903 0.00017184385214932262\n",
      "284 1 0.0015775070060044527 0.00019681338453665377\n",
      "285 1 0.007217549718916416 0.00019429668318480254\n",
      "286 1 0.0015747032593935728 0.00018630902050063015\n",
      "287 1 0.0015219751512631774 0.00016010289546102284\n",
      "288 1 0.000501171569339931 0.0001554960443172604\n",
      "289 1 0.008493172936141491 0.00015711633022874594\n",
      "290 1 0.00030355656053870916 0.0001523615646874532\n",
      "291 1 0.0010840721661224961 0.00019249056931585072\n",
      "292 1 0.0013875676086172462 0.00017660990124568343\n",
      "293 1 0.0009404930751770735 0.000166930234991014\n",
      "294 1 0.002421838231384754 0.00017370874993503094\n",
      "295 1 0.002636499237269163 0.00015227828407660127\n",
      "296 1 0.00048525561578571796 0.00015860175481066107\n",
      "297 1 0.0010332718957215548 0.0001734362682327628\n",
      "298 1 0.0008967534522525966 0.0001745413988828659\n",
      "299 1 0.0007647412712685764 0.00014702491753268987\n",
      "300 1 0.0011972819920629263 0.00015719939838163555\n",
      "301 1 0.00091197231085971 0.0001611301675438881\n",
      "302 1 0.028749462217092514 0.00015710124280303716\n",
      "303 1 0.000603022868745029 0.00015726395649835468\n",
      "304 1 0.002057403326034546 0.000177687534596771\n",
      "305 1 0.0007998495711944997 0.00017285876674577594\n",
      "306 1 0.007335830945521593 0.00015916810370981694\n",
      "307 1 0.03162305802106857 0.0001702063251286745\n",
      "308 1 0.00048412627074867487 0.00015170915867201984\n",
      "309 1 0.0008493898203596473 0.00017724601202644407\n",
      "310 1 0.0016072280704975128 0.00016780305304564536\n",
      "311 1 0.002433116314932704 0.00017551855999045073\n",
      "312 1 0.0015477738343179226 0.0001571012719068676\n",
      "313 1 0.007394094485789537 0.0001724022498819977\n",
      "314 1 0.0008080466650426388 0.00017948753084056078\n",
      "315 1 0.0014547526370733976 0.00015373682836070657\n",
      "316 1 0.001698931329883635 0.00015048900386318564\n",
      "317 1 0.0017961645498871803 0.00015948130749166012\n",
      "318 1 0.002471374813467264 0.00014397218474186956\n",
      "319 1 0.0037334435619413853 0.00015401084092445672\n",
      "320 1 0.0273789931088686 0.00014912853366695346\n",
      "321 1 0.03162591531872749 0.00015673269517719747\n",
      "322 1 0.0018230915302410722 0.00015829965705052018\n",
      "323 1 0.0029591971542686224 0.00017531143967062235\n",
      "324 1 0.0018513052491471171 0.00013877706951461732\n",
      "325 1 0.0008281274931505322 0.00016688131727278234\n",
      "326 1 0.027176696807146072 0.00014747566310688854\n",
      "327 1 0.0023245573975145817 0.00014715490397065878\n",
      "328 1 0.0008461220422759652 0.00015078738797456027\n",
      "329 1 0.029413778334856033 0.0001616243738681078\n",
      "330 1 0.0016062986105680466 0.00015693256282247602\n",
      "331 1 0.002468450926244259 0.00017593338270671666\n",
      "332 1 0.001094079576432705 0.00016367195930797607\n"
     ]
    },
    {
     "name": "stdout",
     "output_type": "stream",
     "text": [
      "333 1 0.0015442327130585909 0.00019089426496066153\n",
      "334 1 0.0006730778841301799 0.00017592074582353234\n",
      "335 1 0.0008753121946938336 0.00015153733547776938\n",
      "336 1 0.0008952051284722984 0.0001621674105990678\n",
      "337 1 0.0017579752020537853 0.0001412542420439422\n",
      "338 1 0.0011296492302790284 0.0001720903441309929\n",
      "339 1 0.0016516880132257938 0.0001506237080320716\n",
      "340 1 0.001276531140320003 0.0001561868586577475\n",
      "341 1 0.0021827463060617447 0.00014983772416599095\n",
      "342 1 0.0017120125703513622 0.00014944217982701958\n",
      "343 1 0.008603375405073166 0.00018087427015416323\n",
      "344 1 0.007208489812910557 0.00016639386303722857\n",
      "345 1 0.0011475947685539722 0.0001586532627698034\n",
      "346 1 0.001272792462259531 0.00015665350947529076\n",
      "347 1 0.001291388412937522 0.0001468219212256372\n",
      "348 1 0.001092840451747179 0.0001520190737210214\n",
      "349 1 0.0006909038638696074 0.0001542551501188427\n",
      "350 1 0.0011281119659543037 0.0001534809242002666\n",
      "351 1 0.002332620322704315 0.0001545043312944472\n",
      "352 1 0.0017952843336388469 0.00016084659146144986\n",
      "353 1 0.0017036115750670433 0.00018522838363423943\n",
      "354 1 0.0012451156508177519 0.00015338628436438738\n",
      "355 1 0.0010543528478592634 0.00017714418354444205\n",
      "356 1 0.0026185959577560425 0.00014841700321994723\n",
      "357 1 0.0015689714346081018 0.00016680742846801876\n",
      "358 1 0.0010568932630121708 0.000161095178918913\n",
      "359 1 0.0011195740662515163 0.00018679191707633437\n",
      "360 1 0.0011872050818055868 0.00014844092074781657\n",
      "361 1 0.0010403584456071258 0.0001595639274455607\n",
      "362 1 0.0010595378698781133 0.00014702407643198966\n",
      "363 1 0.025188101455569267 0.00015309430891647936\n",
      "364 1 0.00126860779710114 0.00014725646469742059\n",
      "365 1 0.0010428337845951319 0.0001626919023692608\n",
      "366 1 0.001240145182237029 0.0001625381177291274\n",
      "367 1 0.0011287768138572574 0.00014517605886794628\n",
      "368 1 0.0015750043094158173 0.00015565819339826703\n",
      "369 1 0.0011251012329012156 0.00016472713323310018\n",
      "370 1 0.0008614917169325054 0.00016057874308899044\n",
      "371 1 0.0013617834774777293 0.0001634892774745822\n",
      "372 1 0.0009216353646479547 0.00015510382363572716\n",
      "373 1 0.0021851076744496822 0.00017616174882277845\n",
      "374 1 0.0019519947236403823 0.00015409173793159425\n",
      "375 1 0.0012156874872744083 0.00019621842075139283\n",
      "376 1 0.0015271692536771297 0.00013753329403698444\n",
      "377 1 0.0017750684637576342 0.00015655908500775695\n",
      "378 1 0.0022343958262354136 0.0001585939433425665\n",
      "379 1 0.0005396533524617553 0.00014517174568027258\n",
      "380 1 0.0011630842927843332 0.00014788156549911947\n",
      "381 1 0.0018405176233500242 0.00014843615354038776\n",
      "382 1 0.00254299258813262 0.00014599162386730313\n",
      "383 1 0.000728415441699326 0.0001454552315408364\n",
      "384 1 0.0009093735134229064 0.00021140583558008075\n",
      "385 1 0.03544940426945686 0.00017439634539186954\n",
      "386 1 0.0009835107484832406 0.00015981231699697674\n",
      "387 1 0.0005198236904107034 0.00015525573398917915\n",
      "388 1 0.0024443783331662416 0.0001642919611185789\n",
      "389 1 0.0010496574686840177 0.0001673668739385903\n",
      "390 1 0.001812553615309298 0.00016574865439906717\n",
      "391 1 0.0010734142269939184 0.00016959614586085082\n",
      "392 1 0.007227655034512281 0.00014847809216007591\n",
      "393 1 0.0023710932582616806 0.00014540614211000502\n",
      "394 1 0.0011775678722187877 0.00013940823264420034\n",
      "395 1 0.0006207812111824751 0.00014366984833031894\n",
      "396 1 0.0007192284101620317 0.00015287351561710238\n",
      "397 1 0.0009791217744350433 0.00016746603650972248\n",
      "398 1 0.0003372696810401976 0.00014217585558071733\n",
      "399 1 0.009598946198821068 0.00016176935750991105\n",
      "400 1 0.0008189275395125151 0.00015898162964731455\n",
      "401 1 0.02620912715792656 0.00014977477258071303\n",
      "402 1 0.0006642438238486648 0.00014204945182427764\n",
      "403 1 0.0007039546617306769 0.00017461259267292917\n",
      "404 1 0.0011932722991332412 0.00014515268267132342\n",
      "405 1 0.000997884664684534 0.0001551066292449832\n",
      "406 1 0.007304871454834938 0.00014768183464184404\n",
      "407 1 0.0008522961870767176 0.00016151827294379472\n",
      "408 1 0.0010113107273355126 0.0001504901156295091\n",
      "409 1 0.0010322921443730593 0.00016366149648092688\n",
      "410 1 0.0007720839930698276 0.00018156759615521877\n",
      "411 1 0.0014740780461579561 0.00015224284725263716\n",
      "412 1 0.0009760285611264408 0.00014589087222702802\n",
      "413 1 0.0016056650783866644 0.00017470191814936698\n",
      "414 1 0.0027283229865133762 0.00015288047725334764\n",
      "415 1 0.0006614042213186622 0.0001543411344755441\n",
      "416 1 0.0024767061695456505 0.00015455851098522544\n",
      "417 1 0.0010799147421494126 0.00015435825916938485\n",
      "418 1 0.029981613159179688 0.00016568417195230722\n",
      "419 1 0.0006436475669033825 0.0001598508039023727\n",
      "420 1 0.006807209458202124 0.00013704769953619688\n",
      "421 1 0.0028626665007323027 0.00017067039734683931\n",
      "422 1 0.0006227746489457786 0.00016334786778315902\n",
      "423 1 0.0019540798384696245 0.00016499775229021906\n",
      "424 1 0.02860873192548752 0.000163347547641024\n",
      "425 1 0.0007539300713688135 0.00015633347793482245\n",
      "426 1 0.0020002122037112713 0.00015665091923438012\n",
      "427 1 0.006921681575477123 0.00015165658551268278\n",
      "428 1 0.000948568107560277 0.00021235811291262508\n",
      "429 1 0.0016476612072438002 0.0001650798541959375\n",
      "430 1 0.0012306473217904568 0.00015321188839152456\n",
      "431 1 0.0006014998070895672 0.00016326495097018778\n",
      "432 1 0.001319630304351449 0.00016073599108494817\n",
      "433 1 0.0010697550605982542 0.0001498369500041008\n",
      "434 1 0.029535818845033646 0.0001490302151069045\n",
      "435 1 0.0023783650249242783 0.0001521883939858526\n",
      "436 1 0.0009708835859782994 0.000145900365896523\n",
      "437 1 0.001073271967470646 0.00015074285911396146\n",
      "438 1 0.0011587722692638636 0.00014765775995329022\n",
      "439 1 0.0011205545160919428 0.00018082144670188426\n",
      "440 1 0.001046794350259006 0.00015446186880581082\n",
      "441 1 0.007785149849951267 0.00015840864507481455\n",
      "442 1 0.007312525995075703 0.00014134302036836744\n",
      "443 1 0.0012919969158247113 0.00014599250280298293\n",
      "444 1 0.007852716371417046 0.00016836172435432672\n",
      "445 1 0.001243873150087893 0.00015105622005648912\n",
      "446 1 0.0008868512813933194 0.00016242683050222696\n",
      "447 1 0.0012120621977373958 0.0001479779602959752\n",
      "448 1 0.0012693856842815876 0.00016466678935103118\n",
      "449 1 0.0007582466350868344 0.0001391150173731148\n",
      "450 1 0.007193571422249079 0.00015299954684451224\n",
      "451 1 0.0006782651762478054 0.00016231104382313788\n",
      "452 1 0.0005126547766849399 0.00015402963617816567\n",
      "453 1 0.0015000056009739637 0.00016656547668389977\n",
      "454 1 0.000956041447352618 0.00015564094646833838\n",
      "455 1 0.0013137643691152334 0.00015514425467699766\n",
      "456 1 0.0017312467098236084 0.0001493806194048375\n",
      "457 1 0.007216198369860649 0.0001579274859977886\n",
      "458 1 0.007068777456879616 0.0001492808572947979\n",
      "459 1 0.0011603301391005516 0.00016248608590103687\n",
      "460 1 0.001026312937028706 0.00015532660763710736\n",
      "461 1 0.0004724652098957449 0.00015761019894853235\n",
      "462 1 0.0013946471735835075 0.0001344516931567341\n",
      "463 1 0.000872071017511189 0.00014642630121670664\n",
      "464 1 0.002274770988151431 0.00014299621107056738\n",
      "465 1 0.0072275130078196526 0.0001374890562146902\n",
      "466 1 0.0012050573714077473 0.0001590802101418376\n",
      "467 1 0.002033201977610588 0.00014749966212548315\n",
      "468 1 0.023294253274798393 0.0001582010998390615\n",
      "469 1 0.0006715356139466166 0.00014697253063786775\n",
      "470 1 0.006848031189292669 0.0001583646924700588\n",
      "471 1 0.0007276752730831504 0.0001543460035463795\n",
      "472 1 0.0019706101156771183 0.00015275871846824883\n",
      "473 1 0.0008848230354487896 0.00015251297736540437\n",
      "474 1 0.0013857769081369042 0.00015418482944369317\n",
      "475 1 0.0006410827627405524 0.0001491558796260506\n",
      "476 1 0.0007995861815288663 0.00015513335238210858\n",
      "477 1 0.0009255170589312911 0.00014007329591549932\n",
      "478 1 0.0031838002614676952 0.00014730924740433693\n",
      "479 1 0.0010750220390036702 0.00015129001694731415\n",
      "480 1 0.0007158603984862566 0.0001701300614513457\n",
      "481 1 0.0009158359607681632 0.00015730380546301602\n",
      "482 1 0.0025351345539093018 0.0001573369896505028\n",
      "483 1 0.002395190764218569 0.00015288967406377197\n",
      "484 1 0.0020457925274968147 0.00015183144714683294\n",
      "485 1 0.030475029721856117 0.00015793078346177937\n",
      "486 1 0.030235398560762405 0.0001527661574073136\n",
      "487 1 0.0018465269822627306 0.00015476766275241972\n",
      "488 1 0.001584759564138949 0.00014989747432991862\n",
      "489 1 0.007369659841060638 0.00015407278551720082\n",
      "490 1 0.0016495200106874108 0.00016405010828748345\n",
      "491 1 0.0013032262213528156 0.0001436530437786132\n",
      "492 1 0.0011458469089120626 0.00017114358488470315\n",
      "493 1 0.0004184767312835902 0.00015683374367654325\n",
      "494 1 0.0006957331206649542 0.0001364438037853688\n",
      "495 1 0.0007341161835938692 0.00016304290620610117\n"
     ]
    },
    {
     "name": "stdout",
     "output_type": "stream",
     "text": [
      "496 1 0.0016623856499791145 0.00014697694568894805\n",
      "497 1 0.002248564502224326 0.0001383610477205366\n",
      "498 1 0.02997458539903164 0.0001602306845597923\n",
      "499 1 0.002388986758887768 0.00015713671164121478\n",
      "500 1 0.0008925918955355883 0.00015600030310451983\n",
      "Finished Training\n"
     ]
    }
   ],
   "source": [
    "%%wandb\n",
    "\n",
    "\n",
    "## define a general training loop\n",
    "losses = np.array([0,0,0])\n",
    "for epoch in range(epochs):  # loop over the dataset multiple times\n",
    "\n",
    "    running_loss = 0.0\n",
    "\n",
    "    #print(type(boundary_conditions))\n",
    "    #net = net.cuda()\n",
    "    for i, sample_batch in enumerate(train_dataloader):\n",
    "        #print(sample_batch[\"boundary_conditions\"].size(), sample_batch[\"target\"].size())\n",
    "        bc = sample_batch[\"boundary_conditions\"].cuda()\n",
    "        tgt = sample_batch[\"target\"][:, 1:4, :,  :].cuda()\n",
    "        #material_matrix = bc[i, 0, :, :].unsqueeze(0).repeat([1,3,1,1])\n",
    "        #print(i, bc.shape, tgt.shape)\n",
    "\n",
    "        # get the inputs; data is a list of [boundary_conditions, targets]\n",
    "        \n",
    "        # zero the parameter gradients\n",
    "        optimizer.zero_grad()\n",
    "\n",
    "        # forward + backward + optimize\n",
    "        prediction = net(bc)\n",
    "        \n",
    "        loss_x = criterion(prediction[:, 0, :, :], tgt[:, 0, :, :])#/torch.sum(material_matrix)\n",
    "        loss_y = criterion(prediction[:, 1, :, :], tgt[:, 1, :, :])\n",
    "        loss = loss_x + loss_y\n",
    "        #print(loss)\n",
    "        loss.backward()\n",
    "        optimizer.step()\n",
    "        \n",
    "        \n",
    "        # print statistics\n",
    "        running_loss += loss.item()\n",
    "        if i % 100 == 0:    # print every 10 mini-batches\n",
    "            running_val_loss = 0.0\n",
    "            with torch.no_grad():\n",
    "                for ii, sample_val_batch in enumerate(val_dataloader):\n",
    "                    bc_val = sample_val_batch[\"boundary_conditions\"].cuda()\n",
    "                    tgt_val = sample_val_batch[\"target\"][:, 1:4, :,  :].cuda()\n",
    "                    \n",
    "                    prediction_val = net(bc_val)\n",
    "                    \n",
    "                    loss_x_val = criterion(prediction_val[:, 0, :, :], tgt_val[:, 0, :, :])#/torch.sum(material_matrix)\n",
    "                    loss_y_val = criterion(prediction_val[:, 1, :, :], tgt_val[:, 1, :, :])\n",
    "                    val_loss = loss_x_val + loss_y_val\n",
    "                    \n",
    "                    running_val_loss+=val_loss.item()\n",
    "                \n",
    "            print(f'{epoch + 1} {i + 1} {running_loss} {running_val_loss/10}')\n",
    "            wandb.log({\"loss\": running_loss})\n",
    "            wandb.log({\"val_loss\": running_val_loss})\n",
    "            losses = np.vstack((losses, [epoch, running_loss, running_val_loss]))\n",
    "            #print(losses)\n",
    "            running_loss = 0.0\n",
    "            \n",
    "\n",
    "print('Finished Training')"
   ]
  },
  {
   "cell_type": "code",
   "execution_count": 319,
   "metadata": {
    "scrolled": true
   },
   "outputs": [
    {
     "data": {
      "text/plain": [
       "[<matplotlib.lines.Line2D at 0x2c9411c4b08>,\n",
       " <matplotlib.lines.Line2D at 0x2c933aa9588>]"
      ]
     },
     "execution_count": 319,
     "metadata": {},
     "output_type": "execute_result"
    },
    {
     "data": {
      "image/png": "[encoded data removed]",
      "text/plain": [
       "<Figure size 432x288 with 1 Axes>"
      ]
     },
     "metadata": {
      "needs_background": "light"
     },
     "output_type": "display_data"
    }
   ],
   "source": [
    "## attempt to plot losses over time\n",
    "plt.plot(losses[1:,0], losses[1:,1:])"
   ]
  },
  {
   "cell_type": "code",
   "execution_count": 320,
   "metadata": {
    "scrolled": true
   },
   "outputs": [
    {
     "data": {
      "text/plain": [
       "[<matplotlib.lines.Line2D at 0x2c953f6aac8>,\n",
       " <matplotlib.lines.Line2D at 0x2c953f6f908>]"
      ]
     },
     "execution_count": 320,
     "metadata": {},
     "output_type": "execute_result"
    },
    {
     "data": {
      "image/png": "[encoded data removed]",
      "text/plain": [
       "<Figure size 432x288 with 1 Axes>"
      ]
     },
     "metadata": {
      "needs_background": "light"
     },
     "output_type": "display_data"
    }
   ],
   "source": [
    "## attempt to plot losses over time to sho where the model started overfitting on the data\n",
    "plt.plot(losses[10:,0], losses[10:,1:])"
   ]
  },
  {
   "cell_type": "markdown",
   "metadata": {},
   "source": [
    "Therefore, it can be seen that the network learns some of the relationships in the dataset, and is able to overfit it after a while. After adding a dataloader, the training improved tremendously because of the data augmentation"
   ]
  },
  {
   "cell_type": "code",
   "execution_count": 56,
   "metadata": {},
   "outputs": [],
   "source": [
    "%matplotlib inline \n",
    "#f = plt.figure()\n",
    "\n",
    "\n",
    "#plt.imshow(concat_input[:,:,0])\n",
    "def plot_grid_2d(concat_input, concat_output):\n",
    "    \n",
    "    f, axarr = plt.subplots(2,5, figsize = (15,6)) \n",
    "    \n",
    "    axarr[0,0].imshow(np.abs(concat_input[:,:,0]))\n",
    "    axarr[0,0].set(title='smoothed map')\n",
    "\n",
    "    axarr[0,1].imshow(np.abs(concat_input[:,:,1]))\n",
    "    axarr[0,1].set(title='X displacement B.C.')\n",
    "\n",
    "    axarr[0,2].imshow(np.abs(concat_input[:,:,2]))\n",
    "    axarr[0,2].set(title='Y displacement B.C.')\n",
    "\n",
    "    axarr[0,3].imshow(np.abs(concat_input[:,:,3]))\n",
    "    axarr[0,3].set(title='Z displacement  B.C')\n",
    "\n",
    "    axarr[0,4].imshow(np.abs(concat_input[:,:,4]))\n",
    "    axarr[0,4].set(title='X force B.C.')\n",
    "\n",
    "    axarr[1,0].imshow(np.abs(concat_input[:,:,5]))\n",
    "    axarr[1,0].set(title='Y force B.C.')\n",
    "\n",
    "    axarr[1,1].imshow(np.abs(concat_input[:,:,6]))\n",
    "    axarr[1,1].set(title='Z force B.C.')\n",
    "\n",
    "    axarr[1,2].imshow(np.abs(concat_output[:,:,1]))\n",
    "    axarr[1,2].set(title='X displacement result')\n",
    "\n",
    "    axarr[1,3].imshow(np.abs(concat_output[:,:,2]))\n",
    "    axarr[1,3].set(title='Y displacement result')\n",
    "\n",
    "    axarr[1,4].imshow(np.abs(concat_output[:,:,3]))\n",
    "    axarr[1,4].set(title='Z displacement result')\n",
    "\n",
    "    plt.show()"
   ]
  },
  {
   "cell_type": "code",
   "execution_count": null,
   "metadata": {},
   "outputs": [],
   "source": []
  },
  {
   "cell_type": "code",
   "execution_count": 339,
   "metadata": {},
   "outputs": [
    {
     "name": "stdout",
     "output_type": "stream",
     "text": [
      "torch.Size([1, 7, 32, 32])\n",
      "torch.Size([1, 3, 32, 32])\n",
      "(1, 4, 32, 32)\n",
      "(1, 32, 32, 4)\n"
     ]
    },
    {
     "data": {
      "image/png": "[encoded data removed]",
      "text/plain": [
       "<Figure size 1080x432 with 10 Axes>"
      ]
     },
     "metadata": {
      "needs_background": "light"
     },
     "output_type": "display_data"
    }
   ],
   "source": [
    "sample = 62\n",
    "sample_transformed = transformed_dataset[sample]\n",
    "sample_bc = np.moveaxis(sample_transformed['boundary_conditions'].data.clone().data.numpy(), 0, 2)\n",
    "## plot one of the results after passing the convolutional network through it once\n",
    "print(sample_transformed['boundary_conditions'].data.clone().unsqueeze(0).shape)\n",
    "sample_prediction = net.cpu().forward(sample_transformed['boundary_conditions'].data.clone().unsqueeze(0))\n",
    "print(sample_prediction.shape)\n",
    "sample_prediction = F.pad(sample_prediction, (0,0,0,0,0,1)).detach().numpy()\n",
    "print(sample_prediction.shape)\n",
    "sample_prediction = np.moveaxis(sample_prediction, 1, 3)\n",
    "print(sample_prediction.shape)\n",
    "\n",
    "\n",
    "#print(sample_prediction.shape, dataset[0][27:28,:,10,22], sample_prediction[:,:,10,22])\n",
    "plot_grid_2d(sample_bc, sample_prediction[0,:,:,:])"
   ]
  },
  {
   "cell_type": "markdown",
   "metadata": {},
   "source": [
    "So one of the conclusions is that the convolutional network was  able to succesfully learn a model that can be applied to a space to generate a result  that correlates to the target. Even with a very small number of samples, the network was able to learn some basic principles about the geometry of the sample and of the relationships between boundary conditions and targets. With a spatial transform, there was a breakthrough point where it actually learned much more. This is the way to go."
   ]
  },
  {
   "cell_type": "code",
   "execution_count": 53,
   "metadata": {},
   "outputs": [
    {
     "name": "stdout",
     "output_type": "stream",
     "text": [
      "torch.Size([1, 3, 32, 32])\n",
      "torch.Size([1, 3, 32, 32])\n",
      " 0.000156545\n"
     ]
    }
   ],
   "source": [
    "## get loss of the results\n",
    "with torch.no_grad():\n",
    "    print(dataset[1][sample, 1:4, :, :].unsqueeze(0).shape)\n",
    "    print(net.forward(dataset[0][sample:sample+1,:,:,:]).shape)\n",
    "    loss_1_it = criterion(dataset[1][sample, 1:4, :, :].unsqueeze(0), net.forward(dataset[0][sample:sample+1,:,:,:]))\n",
    "    print(f'{loss_1_it: .9f}')"
   ]
  },
  {
   "cell_type": "code",
   "execution_count": 32,
   "metadata": {},
   "outputs": [],
   "source": [
    "## create a generator to evaluate how loss progresses with multiple applications of the network\n",
    "def convolute_iteration(conditions, netwrk, repeat = True):\n",
    "    with torch.no_grad():\n",
    "        pred = netwrk(conditions) #torch.Size([1, 3, 32, 32])\n",
    "        new_condition = conditions.clone()\n",
    "        new_condition[:, 1:4, :, :] = pred\n",
    "        i=0\n",
    "        while repeat:\n",
    "            i +=1\n",
    "            print(i)\n",
    "            pred = netwrk(new_condition)\n",
    "            new_condition = conditions.clone()\n",
    "            new_condition[:, 1:4, :, :] = pred\n",
    "            \n",
    "            yield pred"
   ]
  },
  {
   "cell_type": "code",
   "execution_count": 118,
   "metadata": {},
   "outputs": [],
   "source": [
    "## create iterator intance for loss plot\n",
    "predicts = convolute_iteration(dataset[0][sample:sample+1,:,:,:], net)\n",
    "loss_iterator = []"
   ]
  },
  {
   "cell_type": "code",
   "execution_count": 213,
   "metadata": {},
   "outputs": [
    {
     "name": "stdout",
     "output_type": "stream",
     "text": [
      "95\n",
      " 0.116603315\n"
     ]
    },
    {
     "data": {
      "image/png": "[encoded data removed]",
      "text/plain": [
       "<Figure size 432x288 with 1 Axes>"
      ]
     },
     "metadata": {
      "needs_background": "light"
     },
     "output_type": "display_data"
    }
   ],
   "source": [
    "with torch.no_grad():\n",
    "    \n",
    "    loss_2_it = criterion(dataset[1][sample, 1:4, :, :].unsqueeze(0), next(predicts))\n",
    "    loss_iterator.append(loss_2_it)\n",
    "    print(f'{loss_2_it: .9f}')\n",
    "    plt.plot(loss_iterator)"
   ]
  },
  {
   "cell_type": "markdown",
   "metadata": {},
   "source": [
    "What has been shown with this is that subsequent applications of this model don't increase its accuracy, however it does converge to a certain value. The fact that there is convergence is grounds for exploring whether this convergence can be used as a feature of the model itself."
   ]
  },
  {
   "cell_type": "code",
   "execution_count": 215,
   "metadata": {},
   "outputs": [],
   "source": [
    "## create iterator intance for prediction plot\n",
    "predicts = convolute_iteration(dataset[0][sample:sample+1,:,:,:], net)\n"
   ]
  },
  {
   "cell_type": "code",
   "execution_count": 217,
   "metadata": {
    "scrolled": true
   },
   "outputs": [
    {
     "name": "stdout",
     "output_type": "stream",
     "text": [
      "2\n",
      "torch.Size([1, 3, 32, 32])\n",
      "(1, 4, 32, 32)\n",
      "(1, 32, 32, 4)\n"
     ]
    },
    {
     "data": {
      "image/png": "[encoded data removed]",
      "text/plain": [
       "<Figure size 1080x432 with 10 Axes>"
      ]
     },
     "metadata": {
      "needs_background": "light"
     },
     "output_type": "display_data"
    }
   ],
   "source": [
    "sample_prediction = next(predicts)\n",
    "print(sample_prediction.shape)\n",
    "sample_prediction = F.pad(sample_prediction, (0,0,0,0,0,1)).detach().numpy()\n",
    "print(sample_prediction.shape)\n",
    "sample_prediction = np.moveaxis(sample_prediction, 1, 3)\n",
    "print(sample_prediction.shape)\n",
    "\n",
    "\n",
    "#print(sample_prediction.shape, dataset[0][27:28,:,10,22], sample_prediction[:,:,10,22])\n",
    "plot_grid_2d(sample_bc, sample_prediction[0,:,:,:])"
   ]
  },
  {
   "cell_type": "markdown",
   "metadata": {},
   "source": [
    "Now I want to explore a lot of things and their impact on the model's predictions:\n",
    "\n",
    "- leaning rates\n",
    "- different conv deconv architectures\n",
    "- pre-trained models (if models trained on images help with accuracy in this case, then it is possible to use models trained in other types of object for the 3d version)\n",
    "- attention\n",
    "- different losses\n",
    "- increase amount of model forward feeds before doing gradient descent to try to get the model to converge closer to the target value if applied several times\n",
    "- Other activation strategies"
   ]
  },
  {
   "cell_type": "code",
   "execution_count": 218,
   "metadata": {},
   "outputs": [],
   "source": []
  },
  {
   "cell_type": "markdown",
   "metadata": {},
   "source": [
    "## ENCODER DECODER"
   ]
  },
  {
   "cell_type": "code",
   "execution_count": 19,
   "metadata": {},
   "outputs": [
    {
     "data": {
      "text/html": [
       "\n",
       "                Logging results to <a href=\"https://wandb.com\" target=\"_blank\">Weights & Biases</a> <a href=\"https://docs.wandb.com/integrations/jupyter.html\" target=\"_blank\">(Documentation)</a>.<br/>\n",
       "                Project page: <a href=\"https://app.wandb.ai/walther/Project\" target=\"_blank\">https://app.wandb.ai/walther/Project</a><br/>\n",
       "                Run page: <a href=\"https://app.wandb.ai/walther/Project/runs/f9a3hvrd\" target=\"_blank\">https://app.wandb.ai/walther/Project/runs/f9a3hvrd</a><br/>\n",
       "            "
      ],
      "text/plain": [
       "<IPython.core.display.HTML object>"
      ]
     },
     "metadata": {},
     "output_type": "display_data"
    },
    {
     "data": {
      "text/plain": [
       "W&B Run: https://app.wandb.ai/walther/Project/runs/f9a3hvrd"
      ]
     },
     "execution_count": 19,
     "metadata": {},
     "output_type": "execute_result"
    }
   ],
   "source": [
    "##update loging\n",
    "wandb.init(config={\"epochs\": 30, \"batch_size\": 90,'learning_rate': 0.0005, 'architecture':'encoder_decoder_architecture'})"
   ]
  },
  {
   "cell_type": "code",
   "execution_count": 20,
   "metadata": {},
   "outputs": [],
   "source": [
    "\n",
    "## First, see the result of a conv-deconv architecture with exactly the same parameters but that condenses\n",
    "## the inputs into a feature array first\n",
    "## define the neural network's general shape\n",
    "\n",
    "class Encode_decode_Net(nn.Module):\n",
    "    def __init__(self):\n",
    "        super(Encode_decode_Net, self).__init__()\n",
    "        \n",
    "        ## convolutional layers\n",
    "        self.conv1 = nn.Conv2d(in_channels = 7, out_channels = 14, kernel_size = 3, padding = 1)\n",
    "        self.conv2 = nn.Conv2d(in_channels = 14, out_channels = 16, kernel_size = 3, padding = 1)\n",
    "        self.deconv1 = nn.ConvTranspose2d(in_channels = 16, out_channels = 14, kernel_size = 3, padding = 1)\n",
    "        self.deconv2 = nn.ConvTranspose2d(in_channels = 14, out_channels = 10, kernel_size = 2,stride = 2, padding = 0)\n",
    "        self.deconv3 = nn.ConvTranspose2d(in_channels = 10, out_channels = 7, kernel_size = 2, stride = 2, padding = 0)\n",
    "        self.deconv4 = nn.ConvTranspose2d(in_channels = 7, out_channels = 3, kernel_size = 3, padding = 1)\n",
    "        \n",
    "        ## activation\n",
    "        self.hardtanh = nn.Hardtanh()\n",
    "        self.tanh = nn.Tanh()\n",
    "        self.prelu = nn.PReLU()\n",
    "        self.leaky_relu = nn.LeakyReLU()\n",
    "        \n",
    "        ## Pooling\n",
    "        self.maxpool = nn.MaxPool2d(kernel_size = 3, stride = 2, padding = 1)\n",
    "        \n",
    "        \n",
    "    def forward(self, boundary_conditions):\n",
    "        '''\n",
    "        torch.Size([1, 7, 32, 32])\n",
    "        torch.Size([1, 14, 16, 16])\n",
    "        torch.Size([1, 16, 8, 8])\n",
    "        torch.Size([1, 14, 8, 8])\n",
    "        torch.Size([1, 10, 16, 16])\n",
    "        torch.Size([1, 7, 32, 32])\n",
    "        torch.Size([1, 3, 32, 32])\n",
    "        '''\n",
    "        \n",
    "        #print(boundary_conditions.shape)\n",
    "        x = self.conv1(boundary_conditions)\n",
    "        x = self.maxpool(x)\n",
    "        x = self.prelu(x)\n",
    "        #print(x.shape)\n",
    "        x = self.conv2(x)\n",
    "        x = self.maxpool(x)\n",
    "        x = self.prelu(x)\n",
    "        #print(x.shape)\n",
    "        x = self.deconv1(x)\n",
    "        x = self.prelu(x)\n",
    "        #print(x.shape)\n",
    "        x = self.deconv2(x)\n",
    "        x = self.prelu(x)\n",
    "        #print(x.shape)\n",
    "        x = self.deconv3(x)\n",
    "        x = self.prelu(x)\n",
    "        #print(x.shape)\n",
    "        x = self.deconv4(x)\n",
    "        x = self.tanh(x)\n",
    "        #print(x.shape)\n",
    "        return x\n",
    "    \n",
    "        \n",
    "net = Encode_decode_Net().cuda().float()\n",
    "\n",
    "## test to see if getting the correct size\n",
    "net.forward(dataset[0][0:1,:,:,:].cuda());"
   ]
  },
  {
   "cell_type": "code",
   "execution_count": 21,
   "metadata": {},
   "outputs": [],
   "source": [
    "## define criterion\n",
    "criterion = nn.MSELoss().cuda()\n",
    "optimizer = torch.optim.Adam(params = net.parameters(), lr=0.0005, betas=(0.9, 0.999))"
   ]
  },
  {
   "cell_type": "code",
   "execution_count": 22,
   "metadata": {},
   "outputs": [
    {
     "data": {
      "text/html": [
       "<iframe src=\"https://app.wandb.ai/walther/Project/runs/f9a3hvrd?jupyter=true&state=paused\" style=\"border:none;width:100%;height:420px\">\n",
       "                </iframe>"
      ],
      "text/plain": [
       "<wandb.jupyter.Run at 0x1e18d44b248>"
      ]
     },
     "metadata": {},
     "output_type": "display_data"
    },
    {
     "name": "stdout",
     "output_type": "stream",
     "text": [
      "1 1 0.00802171416580677 0.009894485864788295\n",
      "2 1 0.0003933005500584841 0.0005084899457870051\n",
      "3 1 0.0003657788038253784 0.00047555426717735825\n",
      "4 1 0.0003500608145259321 0.0004607861250406131\n",
      "5 1 0.0003374926163814962 0.00044893036829307675\n",
      "6 1 0.00032674818066880107 0.00043866110208909956\n",
      "7 1 0.00031626809504814446 0.00042771732260007413\n",
      "8 1 0.00030703545780852437 0.0004170465806964785\n",
      "9 1 0.00028912126435898244 0.00039456723025068643\n",
      "10 1 0.0002805293188430369 0.0004143378551816568\n",
      "11 1 0.0002716532617341727 0.0004578035368467681\n",
      "12 1 0.00026743856142275035 0.0004761294461786747\n",
      "13 1 0.00026591529604047537 0.0004862652334850281\n",
      "14 1 0.00026553342468105257 0.0004941005012369714\n",
      "15 1 0.0002665093925315887 0.0004975401796400547\n",
      "16 1 0.00026401245850138366 0.0004975621734047309\n",
      "17 1 0.0002631078823469579 0.0005001711295335553\n",
      "18 1 0.00026175062521360815 0.0004987697931937874\n",
      "19 1 0.00026118516689166427 0.0004956273915013298\n",
      "20 1 0.00026034825714305043 0.0004962697945302353\n",
      "21 1 0.00025923995417542756 0.0004979729535989463\n",
      "22 1 0.00025948791881091893 0.0004967227709130384\n",
      "23 1 0.0002579160500317812 0.0004979778415872716\n",
      "24 1 0.00025768877821974456 0.0005007676838431508\n",
      "25 1 0.00025435304269194603 0.0005002691061235965\n",
      "26 1 0.00025223978445865214 0.0005024810787290334\n",
      "27 1 0.0002481039264239371 0.0005064501005108468\n",
      "28 1 0.000246081268414855 0.0005090463993838057\n",
      "29 1 0.00023890112061053514 0.0005163431327673606\n",
      "30 1 0.00023723863705527037 0.0005175069905817509\n",
      "Finished Training\n"
     ]
    }
   ],
   "source": [
    "%%wandb \n",
    "## logging cell magic\n",
    "##\n",
    "wandb.watch(net)\n",
    "\n",
    "\n",
    "\n",
    "## define a general training loop\n",
    "losses = np.array([0,0,0])\n",
    "for epoch in range(30):  # loop over the dataset multiple times\n",
    "\n",
    "    running_loss = 0.0\n",
    "    boundary_conditions, targets = dataset[0][:90,:,:,:].cuda(), dataset[1][:90,:,:,:].cuda()\n",
    "    #print(type(boundary_conditions))\n",
    "    for i, bc in enumerate(boundary_conditions):\n",
    "        tgt = targets[i, 1:4, :, :].unsqueeze(0)\n",
    "        bc = bc.unsqueeze(0).cuda()\n",
    "        #print(i, bc.shape, tgt.shape)\n",
    "\n",
    "        # get the inputs; data is a list of [boundary_conditions, targets]\n",
    "        \n",
    "        # zero the parameter gradients\n",
    "        optimizer.zero_grad()\n",
    "\n",
    "        # forward + backward + optimize\n",
    "        prediction = net(bc)\n",
    "        loss = criterion(prediction, tgt)\n",
    "        #print(loss)\n",
    "        loss.backward()\n",
    "        optimizer.step()\n",
    "\n",
    "        # print statistics\n",
    "        running_loss += loss.item()\n",
    "        if i % 100 == 0:    # print every 10 mini-batches\n",
    "            running_val_loss = 0.0\n",
    "            with torch.no_grad():\n",
    "                boundary_conditions_val, targets_val = dataset[0][90:,:,:,:].cuda(), dataset[1][90:,:,:,:].cuda()\n",
    "                for ii, bc_val in enumerate(boundary_conditions_val):\n",
    "                    tgt_val = targets_val[i, 1:4, :, :].unsqueeze(0)\n",
    "                    bc_val = bc_val.unsqueeze(0)\n",
    "                    prediction_val = net(bc_val)\n",
    "                    val_loss = criterion(prediction_val, tgt_val)\n",
    "                    running_val_loss+=val_loss.item()\n",
    "                \n",
    "            print(f'{epoch + 1} {i + 1} {running_loss} {running_val_loss/10}')\n",
    "            losses = np.vstack((losses, [epoch, running_loss, running_val_loss]))\n",
    "            wandb.log({\"loss\": running_loss})\n",
    "            wandb.log({\"val_loss\": running_val_loss})\n",
    "            #print(losses)\n",
    "            running_loss = 0.0\n",
    "            \n",
    "\n",
    "print('Finished Training')"
   ]
  },
  {
   "cell_type": "markdown",
   "metadata": {},
   "source": [
    "So this network achieved lower validation losses, but stayed at a higher training loss. Further, prelu showed very similar behaviour to using hardtanh. "
   ]
  },
  {
   "cell_type": "code",
   "execution_count": 23,
   "metadata": {},
   "outputs": [
    {
     "name": "stdout",
     "output_type": "stream",
     "text": [
      "torch.Size([1, 3, 32, 32])\n",
      "(1, 4, 32, 32)\n",
      "(1, 32, 32, 4)\n"
     ]
    },
    {
     "data": {
      "image/png": "[encoded data removed]",
      "text/plain": [
       "<Figure size 1080x432 with 10 Axes>"
      ]
     },
     "metadata": {
      "needs_background": "light"
     },
     "output_type": "display_data"
    }
   ],
   "source": [
    "## plot one of the results after passing the convolutional network through it once\n",
    "sample_prediction = net.cpu().forward(dataset[0][sample:sample+1,:,:,:])\n",
    "print(sample_prediction.shape)\n",
    "sample_prediction = F.pad(sample_prediction, (0,0,0,0,0,1)).detach().numpy()\n",
    "print(sample_prediction.shape)\n",
    "sample_prediction = np.moveaxis(sample_prediction, 1, 3)\n",
    "print(sample_prediction.shape)\n",
    "\n",
    "\n",
    "#print(sample_prediction.shape, dataset[0][27:28,:,10,22], sample_prediction[:,:,10,22])\n",
    "plot_grid_2d(sample_bc, sample_prediction[0,:,:,:])"
   ]
  },
  {
   "cell_type": "code",
   "execution_count": 24,
   "metadata": {},
   "outputs": [
    {
     "data": {
      "text/plain": [
       "[<matplotlib.lines.Line2D at 0x1e18daa9f08>,\n",
       " <matplotlib.lines.Line2D at 0x1e18daba9c8>]"
      ]
     },
     "execution_count": 24,
     "metadata": {},
     "output_type": "execute_result"
    },
    {
     "data": {
      "image/png": "[encoded data removed]",
      "text/plain": [
       "<Figure size 432x288 with 1 Axes>"
      ]
     },
     "metadata": {
      "needs_background": "light"
     },
     "output_type": "display_data"
    }
   ],
   "source": [
    "## plot losses over time\n",
    "plt.plot(losses[2:,0], losses[2:,1:])"
   ]
  },
  {
   "cell_type": "markdown",
   "metadata": {},
   "source": [
    "## MULTIHEAD ATTENTION"
   ]
  },
  {
   "cell_type": "code",
   "execution_count": 25,
   "metadata": {},
   "outputs": [
    {
     "data": {
      "text/html": [
       "\n",
       "                Logging results to <a href=\"https://wandb.com\" target=\"_blank\">Weights & Biases</a> <a href=\"https://docs.wandb.com/integrations/jupyter.html\" target=\"_blank\">(Documentation)</a>.<br/>\n",
       "                Project page: <a href=\"https://app.wandb.ai/walther/Project\" target=\"_blank\">https://app.wandb.ai/walther/Project</a><br/>\n",
       "                Run page: <a href=\"https://app.wandb.ai/walther/Project/runs/1aaqw1bl\" target=\"_blank\">https://app.wandb.ai/walther/Project/runs/1aaqw1bl</a><br/>\n",
       "            "
      ],
      "text/plain": [
       "<IPython.core.display.HTML object>"
      ]
     },
     "metadata": {},
     "output_type": "display_data"
    },
    {
     "data": {
      "text/plain": [
       "W&B Run: https://app.wandb.ai/walther/Project/runs/1aaqw1bl"
      ]
     },
     "execution_count": 25,
     "metadata": {},
     "output_type": "execute_result"
    }
   ],
   "source": [
    "##update loging\n",
    "wandb.init(config={\"epochs\": 20, \"batch_size\": 90,'learning_rate': 0.0002,\"amsgrad\": True, 'architecture':'attention_architecture_4'})"
   ]
  },
  {
   "cell_type": "code",
   "execution_count": 24,
   "metadata": {},
   "outputs": [],
   "source": [
    "## define attention class\n",
    "\n",
    "class SelfAttention(nn.Module):\n",
    "    \"\"\" Self attention Layer\"\"\"\n",
    "    def __init__(self,in_dim,activation):\n",
    "        super(SelfAttention,self).__init__()\n",
    "        self.chanel_in = in_dim\n",
    "        self.activation = activation\n",
    "        \n",
    "        self.query_conv = nn.Conv2d(in_channels = in_dim , out_channels = in_dim//3 , kernel_size= 1)\n",
    "        self.key_conv = nn.Conv2d(in_channels = in_dim , out_channels = in_dim//3 , kernel_size= 1)\n",
    "        self.value_conv = nn.Conv2d(in_channels = in_dim , out_channels = in_dim , kernel_size= 1)\n",
    "        self.gamma = nn.Parameter(torch.zeros(1))\n",
    "\n",
    "        self.softmax  = nn.Softmax(dim=-1) #\n",
    "    def forward(self,x):\n",
    "        \"\"\"\n",
    "            inputs :\n",
    "                x : input feature maps( B X C X W X H)\n",
    "            returns :\n",
    "                out : self attention value + input feature \n",
    "                attention: B X N X N (N is Width*Height)\n",
    "        \"\"\"\n",
    "        m_batchsize,C,width ,height = x.size()\n",
    "        proj_query  = self.query_conv(x).view(m_batchsize,-1,width*height).permute(0,2,1) # B X CX(N)\n",
    "        proj_key =  self.key_conv(x).view(m_batchsize,-1,width*height) # B X C x (*W*H)\n",
    "        energy =  torch.bmm(proj_query,proj_key) # transpose check\n",
    "        attention = self.softmax(energy) # BX (N) X (N) \n",
    "        proj_value = self.value_conv(x).view(m_batchsize,-1,width*height) # B X C X N\n",
    "\n",
    "        out = torch.bmm(proj_value,attention.permute(0,2,1) )\n",
    "        out = out.view(m_batchsize,C,width,height)\n",
    "        \n",
    "        out = self.gamma*out + x\n",
    "        return out"
   ]
  },
  {
   "cell_type": "code",
   "execution_count": 28,
   "metadata": {},
   "outputs": [
    {
     "data": {
      "text/plain": [
       "tensor([[[[-0.0690, -0.0772, -0.0768,  ..., -0.0767, -0.0840, -0.0722],\n",
       "          [-0.0702, -0.0780, -0.0769,  ..., -0.0748, -0.0834, -0.0860],\n",
       "          [-0.0737, -0.0773, -0.0746,  ..., -0.0722, -0.0819, -0.0829],\n",
       "          ...,\n",
       "          [-0.0742, -0.0751, -0.0727,  ..., -0.0700, -0.0820, -0.0806],\n",
       "          [-0.0689, -0.0673, -0.0596,  ..., -0.0590, -0.0705, -0.0718],\n",
       "          [-0.0614, -0.0442, -0.0367,  ..., -0.0369, -0.0449, -0.0484]],\n",
       "\n",
       "         [[ 0.2227,  0.2241,  0.2279,  ...,  0.2308,  0.2238,  0.2044],\n",
       "          [ 0.2156,  0.2178,  0.2296,  ...,  0.2307,  0.2229,  0.1973],\n",
       "          [ 0.2176,  0.2208,  0.2312,  ...,  0.2292,  0.2201,  0.1937],\n",
       "          ...,\n",
       "          [ 0.2226,  0.2260,  0.2339,  ...,  0.2331,  0.2214,  0.1928],\n",
       "          [ 0.2251,  0.2279,  0.2307,  ...,  0.2282,  0.2190,  0.1857],\n",
       "          [ 0.2078,  0.1987,  0.2015,  ...,  0.1993,  0.1916,  0.1678]],\n",
       "\n",
       "         [[ 0.0675,  0.0665,  0.0693,  ...,  0.0724,  0.0750,  0.0932],\n",
       "          [ 0.0730,  0.0723,  0.0794,  ...,  0.0829,  0.0916,  0.1156],\n",
       "          [ 0.0798,  0.0791,  0.0877,  ...,  0.0933,  0.1009,  0.1178],\n",
       "          ...,\n",
       "          [ 0.0787,  0.0779,  0.0882,  ...,  0.0960,  0.1035,  0.1199],\n",
       "          [ 0.0767,  0.0718,  0.0796,  ...,  0.0883,  0.1007,  0.1138],\n",
       "          [ 0.0942,  0.0900,  0.0936,  ...,  0.0989,  0.1063,  0.1086]]]],\n",
       "       device='cuda:0', grad_fn=<TanhBackward>)"
      ]
     },
     "execution_count": 28,
     "metadata": {},
     "output_type": "execute_result"
    }
   ],
   "source": [
    "class AttentionNet(nn.Module):\n",
    "    def __init__(self):\n",
    "        super(AttentionNet, self).__init__()\n",
    "        \n",
    "        ## convolutional layers\n",
    "        self.conv1 = nn.Conv2d(in_channels = 7, out_channels = 14, kernel_size = 3, padding = 1)\n",
    "        self.conv2 = nn.Conv2d(in_channels = 14, out_channels = 32, kernel_size = 3, padding = 1)\n",
    "        self.deconv1 = nn.ConvTranspose2d(in_channels = 32, out_channels = 64, kernel_size = 3, padding = 1)\n",
    "        self.deconv2 = nn.ConvTranspose2d(in_channels = 64, out_channels = 32, kernel_size = 3, padding = 1)\n",
    "        self.deconv3 = nn.ConvTranspose2d(in_channels = 32, out_channels = 7, kernel_size = 3, padding = 1)\n",
    "        self.deconv4 = nn.ConvTranspose2d(in_channels = 7, out_channels = 3, kernel_size = 3, padding = 1)\n",
    "        \n",
    "        ## activation\n",
    "        self.hardtanh = nn.Hardtanh()\n",
    "        \n",
    "        ## activation\n",
    "        self.hardtanh = nn.Hardtanh()\n",
    "        self.tanh = nn.Tanh()\n",
    "        self.prelu = nn.PReLU()\n",
    "        self.leaky_relu = nn.LeakyReLU()\n",
    "        \n",
    "        ##possible for later: MultiheadAttention\n",
    "        self.multihead_attn_in = SelfAttention(in_dim = 14, activation = None)\n",
    "        self.multihead_attn_out = SelfAttention(in_dim = 3, activation = None)\n",
    "        self.multihead_attn_middle = SelfAttention(in_dim = 64, activation = None)\n",
    "    def forward(self, boundary_conditions):\n",
    "        #print(boundary_conditions.shape)\n",
    "        x = self.conv1(boundary_conditions)\n",
    "        x = self.prelu(x)\n",
    "        x = self.multihead_attn_in(x)\n",
    "        #print(x.shape)\n",
    "        x = self.conv2(x)\n",
    "        x = self.prelu(x)\n",
    "        #print(x.shape)\n",
    "        x = self.deconv1(x)\n",
    "        x = self.multihead_attn_middle(x)\n",
    "        x = self.prelu(x)\n",
    "       #print(x.shape)\n",
    "        x = self.deconv2(x)\n",
    "        x = self.prelu(x)\n",
    "        #print(x.shape)\n",
    "        x = self.deconv3(x) \n",
    "        x = self.prelu(x)\n",
    "       # print(x.shape)\n",
    "        x = self.deconv4(x)\n",
    "        x= self.multihead_attn_out(x)\n",
    "        x = self.tanh(x)\n",
    "        #print(x.shape)\n",
    "        '''\n",
    "        #print(boundary_conditions.shape)\n",
    "        x = self.conv1(boundary_conditions)\n",
    "        #x = self.maxpool(x)\n",
    "        x = self.prelu(x)\n",
    "        #print(x.shape)\n",
    "        x = self.conv2(x)\n",
    "        #x = self.maxpool(x)\n",
    "        x = self.prelu(x)\n",
    "        #print(x.shape)\n",
    "        x = self.deconv1(x)\n",
    "        x = self.prelu(x)\n",
    "        #print(x.shape)\n",
    "        x = self.deconv2(x)\n",
    "        x = self.prelu(x)\n",
    "        #print(x.shape)\n",
    "        x = self.deconv3(x)\n",
    "        x = self.prelu(x)\n",
    "        #print(x.shape)\n",
    "        x = self.deconv4(x)\n",
    "        x = self.tanh(x)\n",
    "        #print(x.shape)\n",
    "        '''\n",
    "        return x\n",
    "    \n",
    "net = AttentionNet().cuda().float()\n",
    "\n",
    "## test to see if getting the correct size\n",
    "net.forward(dataset[0][0:1,:,:,:].cuda())"
   ]
  },
  {
   "cell_type": "code",
   "execution_count": 29,
   "metadata": {},
   "outputs": [],
   "source": [
    "## define criterion\n",
    "criterion = nn.MSELoss().cuda()\n",
    "optimizer = torch.optim.Adam(params = net.parameters(), lr=0.0005, betas=(0.9, 0.999), amsgrad = True)"
   ]
  },
  {
   "cell_type": "code",
   "execution_count": 30,
   "metadata": {},
   "outputs": [
    {
     "data": {
      "text/html": [
       "<iframe src=\"https://app.wandb.ai/walther/Project/runs/1aaqw1bl?jupyter=true&state=paused\" style=\"border:none;width:100%;height:420px\">\n",
       "                </iframe>"
      ],
      "text/plain": [
       "<wandb.jupyter.Run at 0x1e18dafc948>"
      ]
     },
     "metadata": {},
     "output_type": "display_data"
    },
    {
     "name": "stdout",
     "output_type": "stream",
     "text": [
      "1 1 0.02429846301674843 0.02540668398141861\n",
      "2 1 0.0007163311238400638 0.0008403800777159632\n",
      "3 1 0.0005203139153309166 0.0005973215826088563\n",
      "4 1 0.00042779018986038864 0.0005189420480746776\n",
      "5 1 0.0003548358508851379 0.000480679000611417\n",
      "6 1 0.0003170428390149027 0.0004949746100464836\n",
      "7 1 0.00029204992461018264 0.00048785046965349466\n",
      "8 1 0.00027370822499506176 0.000481858232524246\n",
      "9 1 0.00026042325771413743 0.0004781895346241072\n",
      "10 1 0.0002516050008125603 0.0004775788198458031\n",
      "11 1 0.00024542486062273383 0.00047971723543014375\n",
      "12 1 0.00024079994182102382 0.00048134978278540074\n",
      "13 1 0.0002369487629039213 0.00048341818619519473\n",
      "14 1 0.0002339739876333624 0.00048346761614084246\n",
      "15 1 0.0002316312602488324 0.00048074031219584866\n",
      "16 1 0.00022947111574467272 0.00047883272636681793\n",
      "17 1 0.00022678895038552582 0.00047854370495770127\n",
      "18 1 0.00022415953571908176 0.0004780370160005987\n",
      "19 1 0.00022129810531623662 0.00047551620227750393\n",
      "20 1 0.0002161703014280647 0.00047691580548416825\n",
      "Finished Training\n"
     ]
    }
   ],
   "source": [
    "%%wandb \n",
    "## logging cell magic\n",
    "##\n",
    "wandb.watch(net)\n",
    "\n",
    "\n",
    "\n",
    "## define a general training loop\n",
    "losses = np.array([0,0,0])\n",
    "for epoch in range(20):  # loop over the dataset multiple times\n",
    "\n",
    "    running_loss = 0.0\n",
    "    boundary_conditions, targets = dataset[0][:90,:,:,:].cuda(), dataset[1][:90,:,:,:].cuda()\n",
    "    #print(type(boundary_conditions))\n",
    "    for i, bc in enumerate(boundary_conditions):\n",
    "        tgt = targets[i, 1:4, :, :].unsqueeze(0)\n",
    "        bc = bc.unsqueeze(0).cuda()\n",
    "        #print(i, bc.shape, tgt.shape)\n",
    "\n",
    "        # get the inputs; data is a list of [boundary_conditions, targets]\n",
    "        \n",
    "        # zero the parameter gradients\n",
    "        optimizer.zero_grad()\n",
    "\n",
    "        # forward + backward + optimize\n",
    "        prediction = net(bc)\n",
    "        loss = criterion(prediction, tgt)\n",
    "        #print(loss)\n",
    "        loss.backward()\n",
    "        optimizer.step()\n",
    "\n",
    "        # print statistics\n",
    "        running_loss += loss.item()\n",
    "        if i % 100 == 0:    # print every 10 mini-batches\n",
    "            running_val_loss = 0.0\n",
    "            with torch.no_grad():\n",
    "                boundary_conditions_val, targets_val = dataset[0][90:,:,:,:].cuda(), dataset[1][90:,:,:,:].cuda()\n",
    "                for ii, bc_val in enumerate(boundary_conditions_val):\n",
    "                    tgt_val = targets_val[i, 1:4, :, :].unsqueeze(0)\n",
    "                    bc_val = bc_val.unsqueeze(0)\n",
    "                    prediction_val = net(bc_val)\n",
    "                    val_loss = criterion(prediction_val, tgt_val)\n",
    "                    running_val_loss+=val_loss.item()\n",
    "                \n",
    "            print(f'{epoch + 1} {i + 1} {running_loss} {running_val_loss/10}')\n",
    "            losses = np.vstack((losses, [epoch, running_loss, running_val_loss]))\n",
    "            wandb.log({\"loss\": running_loss})\n",
    "            wandb.log({\"val_loss\": running_val_loss})\n",
    "            #print(losses)\n",
    "            running_loss = 0.0\n",
    "            \n",
    "\n",
    "print('Finished Training')"
   ]
  },
  {
   "cell_type": "markdown",
   "metadata": {},
   "source": [
    "So the errors were lower, and it trained and started overfitting extremely quick with a starting attention layer and lr of 0.0005. Looking at the image below, it also learned very well how to identify where the element is. Using attention is definitely a step-up from other strategies."
   ]
  },
  {
   "cell_type": "code",
   "execution_count": 47,
   "metadata": {},
   "outputs": [
    {
     "name": "stdout",
     "output_type": "stream",
     "text": [
      "torch.Size([1, 3, 32, 32])\n",
      "(1, 4, 32, 32)\n",
      "(1, 32, 32, 4)\n"
     ]
    },
    {
     "data": {
      "image/png": "[encoded data removed]",
      "text/plain": [
       "<Figure size 1080x432 with 10 Axes>"
      ]
     },
     "metadata": {
      "needs_background": "light"
     },
     "output_type": "display_data"
    }
   ],
   "source": [
    "sample = 3\n",
    "sample_bc = np.moveaxis(dataset[0][sample,:,:,:].numpy(), 0, 2)\n",
    "## plot one of the results after passing the convolutional network through it once\n",
    "sample_prediction = net.cpu().forward(dataset[0][sample:sample+1,:,:,:])\n",
    "print(sample_prediction.shape)\n",
    "sample_prediction = F.pad(sample_prediction, (0,0,0,0,0,1)).detach().numpy()\n",
    "print(sample_prediction.shape)\n",
    "sample_prediction = np.moveaxis(sample_prediction, 1, 3)\n",
    "print(sample_prediction.shape)\n",
    "\n",
    "\n",
    "#print(sample_prediction.shape, dataset[0][27:28,:,10,22], sample_prediction[:,:,10,22])\n",
    "plot_grid_2d(sample_bc, sample_prediction[0,:,:,:])"
   ]
  },
  {
   "cell_type": "code",
   "execution_count": 101,
   "metadata": {},
   "outputs": [
    {
     "data": {
      "text/plain": [
       "[<matplotlib.lines.Line2D at 0x15417cf1388>,\n",
       " <matplotlib.lines.Line2D at 0x15414c62a08>]"
      ]
     },
     "execution_count": 101,
     "metadata": {},
     "output_type": "execute_result"
    },
    {
     "data": {
      "image/png": "[encoded data removed]",
      "text/plain": [
       "<Figure size 432x288 with 1 Axes>"
      ]
     },
     "metadata": {
      "needs_background": "light"
     },
     "output_type": "display_data"
    }
   ],
   "source": [
    "## plot losses over time\n",
    "plt.plot(losses[2:,0], losses[2:,1:])"
   ]
  },
  {
   "cell_type": "markdown",
   "metadata": {},
   "source": [
    "## VGG 16\n",
    "For this section I'll attempt to use a pre-trained architecture to see if that has any effect on the results"
   ]
  },
  {
   "cell_type": "code",
   "execution_count": 32,
   "metadata": {},
   "outputs": [
    {
     "data": {
      "text/html": [
       "\n",
       "                Logging results to <a href=\"https://wandb.com\" target=\"_blank\">Weights & Biases</a> <a href=\"https://docs.wandb.com/integrations/jupyter.html\" target=\"_blank\">(Documentation)</a>.<br/>\n",
       "                Project page: <a href=\"https://app.wandb.ai/walther/Project\" target=\"_blank\">https://app.wandb.ai/walther/Project</a><br/>\n",
       "                Run page: <a href=\"https://app.wandb.ai/walther/Project/runs/13yytave\" target=\"_blank\">https://app.wandb.ai/walther/Project/runs/13yytave</a><br/>\n",
       "            "
      ],
      "text/plain": [
       "<IPython.core.display.HTML object>"
      ]
     },
     "metadata": {},
     "output_type": "display_data"
    },
    {
     "data": {
      "text/plain": [
       "W&B Run: https://app.wandb.ai/walther/Project/runs/13yytave"
      ]
     },
     "execution_count": 32,
     "metadata": {},
     "output_type": "execute_result"
    }
   ],
   "source": [
    "##update loging\n",
    "wandb.init(config={\"epochs\": 30,'trainable': False, \"batch_size\": 90,'learning_rate': 0.0005,\"amsgrad\": False, 'architecture':'vgg16_attention_material_architecture_4'})"
   ]
  },
  {
   "cell_type": "code",
   "execution_count": 33,
   "metadata": {},
   "outputs": [],
   "source": [
    "import torchvision.models as models"
   ]
  },
  {
   "cell_type": "code",
   "execution_count": 34,
   "metadata": {},
   "outputs": [],
   "source": [
    "vgg16 = models.vgg16(pretrained=True)"
   ]
  },
  {
   "cell_type": "code",
   "execution_count": 35,
   "metadata": {},
   "outputs": [
    {
     "data": {
      "text/plain": [
       "VGG(\n",
       "  (features): Sequential(\n",
       "    (0): Conv2d(3, 64, kernel_size=(3, 3), stride=(1, 1), padding=(1, 1))\n",
       "    (1): ReLU(inplace=True)\n",
       "    (2): Conv2d(64, 64, kernel_size=(3, 3), stride=(1, 1), padding=(1, 1))\n",
       "    (3): ReLU(inplace=True)\n",
       "    (4): MaxPool2d(kernel_size=2, stride=2, padding=0, dilation=1, ceil_mode=False)\n",
       "    (5): Conv2d(64, 128, kernel_size=(3, 3), stride=(1, 1), padding=(1, 1))\n",
       "    (6): ReLU(inplace=True)\n",
       "    (7): Conv2d(128, 128, kernel_size=(3, 3), stride=(1, 1), padding=(1, 1))\n",
       "    (8): ReLU(inplace=True)\n",
       "    (9): MaxPool2d(kernel_size=2, stride=2, padding=0, dilation=1, ceil_mode=False)\n",
       "    (10): Conv2d(128, 256, kernel_size=(3, 3), stride=(1, 1), padding=(1, 1))\n",
       "    (11): ReLU(inplace=True)\n",
       "    (12): Conv2d(256, 256, kernel_size=(3, 3), stride=(1, 1), padding=(1, 1))\n",
       "    (13): ReLU(inplace=True)\n",
       "    (14): Conv2d(256, 256, kernel_size=(3, 3), stride=(1, 1), padding=(1, 1))\n",
       "    (15): ReLU(inplace=True)\n",
       "    (16): MaxPool2d(kernel_size=2, stride=2, padding=0, dilation=1, ceil_mode=False)\n",
       "    (17): Conv2d(256, 512, kernel_size=(3, 3), stride=(1, 1), padding=(1, 1))\n",
       "    (18): ReLU(inplace=True)\n",
       "    (19): Conv2d(512, 512, kernel_size=(3, 3), stride=(1, 1), padding=(1, 1))\n",
       "    (20): ReLU(inplace=True)\n",
       "    (21): Conv2d(512, 512, kernel_size=(3, 3), stride=(1, 1), padding=(1, 1))\n",
       "    (22): ReLU(inplace=True)\n",
       "    (23): MaxPool2d(kernel_size=2, stride=2, padding=0, dilation=1, ceil_mode=False)\n",
       "    (24): Conv2d(512, 512, kernel_size=(3, 3), stride=(1, 1), padding=(1, 1))\n",
       "    (25): ReLU(inplace=True)\n",
       "    (26): Conv2d(512, 512, kernel_size=(3, 3), stride=(1, 1), padding=(1, 1))\n",
       "    (27): ReLU(inplace=True)\n",
       "    (28): Conv2d(512, 512, kernel_size=(3, 3), stride=(1, 1), padding=(1, 1))\n",
       "    (29): ReLU(inplace=True)\n",
       "    (30): MaxPool2d(kernel_size=2, stride=2, padding=0, dilation=1, ceil_mode=False)\n",
       "  )\n",
       "  (avgpool): AdaptiveAvgPool2d(output_size=(7, 7))\n",
       "  (classifier): Sequential(\n",
       "    (0): Linear(in_features=25088, out_features=4096, bias=True)\n",
       "    (1): ReLU(inplace=True)\n",
       "    (2): Dropout(p=0.5, inplace=False)\n",
       "    (3): Linear(in_features=4096, out_features=4096, bias=True)\n",
       "    (4): ReLU(inplace=True)\n",
       "    (5): Dropout(p=0.5, inplace=False)\n",
       "    (6): Linear(in_features=4096, out_features=1000, bias=True)\n",
       "  )\n",
       ")"
      ]
     },
     "execution_count": 35,
     "metadata": {},
     "output_type": "execute_result"
    }
   ],
   "source": [
    "vgg16"
   ]
  },
  {
   "cell_type": "code",
   "execution_count": 36,
   "metadata": {},
   "outputs": [
    {
     "data": {
      "text/plain": [
       "Sequential(\n",
       "  (0): Conv2d(7, 64, kernel_size=(3, 3), stride=(1, 1), padding=(1, 1))\n",
       "  (1): SelfAttention(\n",
       "    (query_conv): Conv2d(64, 21, kernel_size=(1, 1), stride=(1, 1))\n",
       "    (key_conv): Conv2d(64, 21, kernel_size=(1, 1), stride=(1, 1))\n",
       "    (value_conv): Conv2d(64, 64, kernel_size=(1, 1), stride=(1, 1))\n",
       "    (softmax): Softmax(dim=-1)\n",
       "  )\n",
       "  (2): ReLU(inplace=True)\n",
       "  (3): Conv2d(64, 64, kernel_size=(3, 3), stride=(1, 1), padding=(1, 1))\n",
       "  (4): ReLU(inplace=True)\n",
       "  (5): Conv2d(64, 128, kernel_size=(3, 3), stride=(1, 1), padding=(1, 1))\n",
       "  (6): ReLU(inplace=True)\n",
       "  (7): Conv2d(128, 128, kernel_size=(3, 3), stride=(1, 1), padding=(1, 1))\n",
       "  (8): ReLU(inplace=True)\n",
       "  (9): Conv2d(128, 256, kernel_size=(3, 3), stride=(1, 1), padding=(1, 1))\n",
       "  (10): ReLU(inplace=True)\n",
       "  (11): Conv2d(256, 256, kernel_size=(3, 3), stride=(1, 1), padding=(1, 1))\n",
       "  (12): ReLU(inplace=True)\n",
       "  (13): Conv2d(256, 256, kernel_size=(3, 3), stride=(1, 1), padding=(1, 1))\n",
       "  (14): ReLU(inplace=True)\n",
       "  (15): Conv2d(256, 512, kernel_size=(3, 3), stride=(1, 1), padding=(1, 1))\n",
       "  (16): ReLU(inplace=True)\n",
       "  (17): Conv2d(512, 512, kernel_size=(3, 3), stride=(1, 1), padding=(1, 1))\n",
       "  (18): ReLU(inplace=True)\n",
       "  (19): Conv2d(512, 512, kernel_size=(3, 3), stride=(1, 1), padding=(1, 1))\n",
       "  (20): ReLU(inplace=True)\n",
       "  (21): Conv2d(512, 512, kernel_size=(3, 3), stride=(1, 1), padding=(1, 1))\n",
       "  (22): ReLU(inplace=True)\n",
       "  (23): Conv2d(512, 512, kernel_size=(3, 3), stride=(1, 1), padding=(1, 1))\n",
       "  (24): ReLU(inplace=True)\n",
       "  (25): Conv2d(512, 512, kernel_size=(3, 3), stride=(1, 1), padding=(1, 1))\n",
       "  (26): ReLU(inplace=True)\n",
       "  (27): Conv2d(512, 3, kernel_size=(3, 3), stride=(1, 1), padding=(1, 1))\n",
       "  (28): Tanh()\n",
       ")"
      ]
     },
     "execution_count": 36,
     "metadata": {},
     "output_type": "execute_result"
    }
   ],
   "source": [
    "## get convolutional portion of model\n",
    "net = vgg16.features.cuda()\n",
    "\n",
    "## set it to untrainable\n",
    "for i, layer in enumerate(net.parameters()):\n",
    "     layer.requires_grad = False\n",
    "        \n",
    "## change first layer to the correct feature size\n",
    "net[0] = nn.Conv2d(7, 64, kernel_size=(3, 3), stride=(1, 1), padding=(1, 1))\n",
    "\n",
    "# append last layer of correct feature size and correct activation function\n",
    "net = nn.Sequential(*net, (nn.Conv2d(512, 3, kernel_size=(3, 3), stride=(1, 1), padding=(1, 1))))\n",
    "net = nn.Sequential(*net, nn.Tanh())\n",
    "net = nn.Sequential(*net[:1],SelfAttention(in_dim = 64, activation = None), *net[1:] )\n",
    "\n",
    "# send model to gpu\n",
    "net = net.cuda()\n",
    "\n",
    "# remove the max pool layers\n",
    "layer_list = []\n",
    "for layer in net:\n",
    "    if not(type(layer) == torch.nn.modules.pooling.MaxPool2d):\n",
    "        layer_list.append(layer)\n",
    "\n",
    "\n",
    "# create a model without the maxpool layers\n",
    "net = nn. Sequential(*layer_list)\n",
    "\n",
    "\n",
    "\n",
    "net"
   ]
  },
  {
   "cell_type": "code",
   "execution_count": 37,
   "metadata": {},
   "outputs": [
    {
     "name": "stdout",
     "output_type": "stream",
     "text": [
      "0 True\n",
      "1 True\n",
      "2 True\n",
      "3 True\n",
      "4 True\n",
      "5 True\n",
      "6 True\n",
      "7 True\n",
      "8 True\n",
      "9 False\n",
      "10 False\n",
      "11 False\n",
      "12 False\n",
      "13 False\n",
      "14 False\n",
      "15 False\n",
      "16 False\n",
      "17 False\n",
      "18 False\n",
      "19 False\n",
      "20 False\n",
      "21 False\n",
      "22 False\n",
      "23 False\n",
      "24 False\n",
      "25 False\n",
      "26 False\n",
      "27 False\n",
      "28 False\n",
      "29 False\n",
      "30 False\n",
      "31 False\n",
      "32 False\n",
      "33 True\n",
      "34 True\n"
     ]
    }
   ],
   "source": [
    "for i, layer in enumerate(net.parameters()):\n",
    "     print(i, layer.requires_grad)"
   ]
  },
  {
   "cell_type": "code",
   "execution_count": 38,
   "metadata": {},
   "outputs": [],
   "source": [
    "## set to only train the added parameters\n",
    "for i, layer in enumerate(net.parameters()):\n",
    "    if not( i in [0, 1, 34,33,32]):\n",
    "        layer.requires_grad = False\n",
    "    else:\n",
    "        layer.requires_grad = True\n",
    "    #print(i, layer.requires_grad)"
   ]
  },
  {
   "cell_type": "code",
   "execution_count": 39,
   "metadata": {},
   "outputs": [
    {
     "data": {
      "text/plain": [
       "torch.Size([1, 3, 32, 32])"
      ]
     },
     "execution_count": 39,
     "metadata": {},
     "output_type": "execute_result"
    }
   ],
   "source": [
    "net.forward(dataset[0][0:1,:,:,:].cuda()).shape"
   ]
  },
  {
   "cell_type": "code",
   "execution_count": 40,
   "metadata": {},
   "outputs": [],
   "source": [
    "## define criterion\n",
    "criterion = nn.MSELoss(reduction = 'none').cuda()\n",
    "optimizer = torch.optim.Adam(params = net.parameters(), lr=0.0005, betas=(0.9, 0.999), amsgrad = False)"
   ]
  },
  {
   "cell_type": "code",
   "execution_count": 41,
   "metadata": {
    "scrolled": false
   },
   "outputs": [
    {
     "data": {
      "text/html": [
       "<iframe src=\"https://app.wandb.ai/walther/Project/runs/13yytave?jupyter=true&state=paused\" style=\"border:none;width:100%;height:420px\">\n",
       "                </iframe>"
      ],
      "text/plain": [
       "<wandb.jupyter.Run at 0x1e18d6dd408>"
      ]
     },
     "metadata": {},
     "output_type": "display_data"
    },
    {
     "name": "stdout",
     "output_type": "stream",
     "text": [
      "1 1 0.0061997314915061 0.005642091645859182\n",
      "2 1 0.00252536335028708 0.0016038070432841777\n",
      "3 1 0.002486562356352806 0.0014489818946458398\n",
      "4 1 0.0024599945172667503 0.0014340791734866799\n",
      "5 1 0.002340597566217184 0.001368382858345285\n",
      "6 1 0.002119664568454027 0.0014405940717551857\n",
      "7 1 0.002128194784745574 0.0015730106038972735\n",
      "8 1 0.0021319398656487465 0.001525782118551433\n",
      "9 1 0.0022918153554201126 0.0015305503504350782\n",
      "10 1 0.0020677922293543816 0.0014486872358247637\n",
      "11 1 0.002145427279174328 0.0015590363414958119\n",
      "12 1 0.002158875111490488 0.001461173058487475\n",
      "13 1 0.0020587858743965626 0.001549513905774802\n",
      "14 1 0.002138928510248661 0.0015749503334518522\n",
      "15 1 0.0022410107776522636 0.0015425676887389273\n",
      "16 1 0.002140054479241371 0.0015963304555043577\n",
      "17 1 0.002195837441831827 0.001535325072472915\n",
      "18 1 0.0022260001860558987 0.0016212333808653056\n",
      "19 1 0.0023015132173895836 0.0017751575913280248\n",
      "20 1 0.002346457913517952 0.001554993010358885\n",
      "21 1 0.0022771796211600304 0.0016464764135889708\n",
      "22 1 0.0023017930798232555 0.0015139526745770126\n",
      "23 1 0.0024578338488936424 0.0016438208636827766\n",
      "24 1 0.0024071019142866135 0.0016359135508537293\n",
      "25 1 0.0023444020189344883 0.0016484101593960076\n",
      "26 1 0.0023531424812972546 0.0016561991884373128\n",
      "27 1 0.002365589840337634 0.0016845910053234548\n",
      "28 1 0.002301186788827181 0.0017006363137625157\n",
      "29 1 0.0023664035834372044 0.0016849839827045797\n",
      "30 1 0.002441149903461337 0.0017850539647042752\n",
      "Finished Training\n"
     ]
    }
   ],
   "source": [
    "%%wandb \n",
    "## logging cell magic\n",
    "##\n",
    "wandb.watch(net)\n",
    "\n",
    "\n",
    "\n",
    "## define a general training loop\n",
    "losses = np.array([0,0,0])\n",
    "for epoch in range(30):  # loop over the dataset multiple times\n",
    "\n",
    "    running_loss = 0.0\n",
    "    boundary_conditions, targets = dataset[0][:90,:,:,:].cuda(), dataset[1][:90,:,:,:].cuda()\n",
    "    #print(type(boundary_conditions))\n",
    "    for i, bc in enumerate(boundary_conditions):\n",
    "        tgt = targets[i, 1:4, :, :].unsqueeze(0)\n",
    "        material_matrix = boundary_conditions[i, 0, :, :].unsqueeze(0).repeat([1,3,1,1])\n",
    "        ones = torch.ones_like(material_matrix).cuda()\n",
    "        #print(ones.shape)\n",
    "        bc = bc.unsqueeze(0).cuda()\n",
    "        #print(i, bc.shape, tgt.shape)\n",
    "\n",
    "        # get the inputs; data is a list of [boundary_conditions, targets]\n",
    "        \n",
    "        # zero the parameter gradients\n",
    "        optimizer.zero_grad()\n",
    "\n",
    "        # forward + backward + optimize\n",
    "        prediction = net(bc)\n",
    "        \n",
    "        loss = criterion(prediction, tgt)*((material_matrix)+ones)**3\n",
    "        #print((material_matrix).max())\n",
    "        #print((((material_matrix)+ones)**3).max())\n",
    "        # weigh loss based on material map\n",
    "        \n",
    "       \n",
    "        #print(loss.shape)\n",
    "        loss = loss.mean()\n",
    "        \n",
    "        #print(stp)\n",
    "        #print(loss)\n",
    "        loss.backward()\n",
    "        optimizer.step()\n",
    "\n",
    "        # print statistics\n",
    "        running_loss += loss.item()\n",
    "        if i % 100 == 0:    # print every 10 mini-batches\n",
    "            running_val_loss = 0.0\n",
    "            with torch.no_grad():\n",
    "                boundary_conditions_val, targets_val = dataset[0][90:,:,:,:].cuda(), dataset[1][90:,:,:,:].cuda()\n",
    "                for ii, bc_val in enumerate(boundary_conditions_val):\n",
    "                    tgt_val = targets_val[i, 1:4, :, :].unsqueeze(0)\n",
    "                    bc_val = bc_val.unsqueeze(0)\n",
    "                    prediction_val = net(bc_val)\n",
    "                    \n",
    "                    val_loss = criterion(prediction_val, tgt_val)*((material_matrix)+ones)**3\n",
    "                    val_loss = val_loss.mean()\n",
    "                    running_val_loss+=val_loss.item()\n",
    "                \n",
    "            print(f'{epoch + 1} {i + 1} {running_loss} {running_val_loss/10}')\n",
    "            losses = np.vstack((losses, [epoch, running_loss, running_val_loss]))\n",
    "            wandb.log({\"loss\": running_loss})\n",
    "            wandb.log({\"val_loss\": running_val_loss})\n",
    "            #print(losses)\n",
    "            running_loss = 0.0\n",
    "            \n",
    "\n",
    "print('Finished Training')"
   ]
  },
  {
   "cell_type": "markdown",
   "metadata": {},
   "source": [
    "So using a pre-trained model as a feature extractor does seem to help. It was able to learn the dataset in about 4 epochs, using only the new layers as trainable. Allowing the entire model to train on the data from the pre-trained state led to lowest validation loss yet, which was achieved in 3 epochs. This is too good to be true. What became obvious is that the model is overfitting the data and completely ignoring the displacement fields, since it is much easier to simply guess that everything will be zero. A solution to this might be to weigh the loss function based on the material map, with losses inside of the material map being higher than losses outside of it. Trying to do that in this dataset does not seem to have helped, and confounded the losses. For now, I'll be ignoring that idea. It might be better to instead work on the dataset so that each sample takes up more of  the space in the tensor."
   ]
  },
  {
   "cell_type": "code",
   "execution_count": 48,
   "metadata": {},
   "outputs": [
    {
     "name": "stdout",
     "output_type": "stream",
     "text": [
      "torch.Size([1, 3, 32, 32])\n",
      "(1, 4, 32, 32)\n",
      "(1, 32, 32, 4)\n"
     ]
    },
    {
     "data": {
      "image/png": "[encoded data removed]",
      "text/plain": [
       "<Figure size 1080x432 with 10 Axes>"
      ]
     },
     "metadata": {
      "needs_background": "light"
     },
     "output_type": "display_data"
    },
    {
     "data": {
      "text/plain": [
       "Sequential(\n",
       "  (0): Conv2d(7, 64, kernel_size=(3, 3), stride=(1, 1), padding=(1, 1))\n",
       "  (1): SelfAttention(\n",
       "    (query_conv): Conv2d(64, 21, kernel_size=(1, 1), stride=(1, 1))\n",
       "    (key_conv): Conv2d(64, 21, kernel_size=(1, 1), stride=(1, 1))\n",
       "    (value_conv): Conv2d(64, 64, kernel_size=(1, 1), stride=(1, 1))\n",
       "    (softmax): Softmax(dim=-1)\n",
       "  )\n",
       "  (2): ReLU(inplace=True)\n",
       "  (3): Conv2d(64, 64, kernel_size=(3, 3), stride=(1, 1), padding=(1, 1))\n",
       "  (4): ReLU(inplace=True)\n",
       "  (5): Conv2d(64, 128, kernel_size=(3, 3), stride=(1, 1), padding=(1, 1))\n",
       "  (6): ReLU(inplace=True)\n",
       "  (7): Conv2d(128, 128, kernel_size=(3, 3), stride=(1, 1), padding=(1, 1))\n",
       "  (8): ReLU(inplace=True)\n",
       "  (9): Conv2d(128, 256, kernel_size=(3, 3), stride=(1, 1), padding=(1, 1))\n",
       "  (10): ReLU(inplace=True)\n",
       "  (11): Conv2d(256, 256, kernel_size=(3, 3), stride=(1, 1), padding=(1, 1))\n",
       "  (12): ReLU(inplace=True)\n",
       "  (13): Conv2d(256, 256, kernel_size=(3, 3), stride=(1, 1), padding=(1, 1))\n",
       "  (14): ReLU(inplace=True)\n",
       "  (15): Conv2d(256, 512, kernel_size=(3, 3), stride=(1, 1), padding=(1, 1))\n",
       "  (16): ReLU(inplace=True)\n",
       "  (17): Conv2d(512, 512, kernel_size=(3, 3), stride=(1, 1), padding=(1, 1))\n",
       "  (18): ReLU(inplace=True)\n",
       "  (19): Conv2d(512, 512, kernel_size=(3, 3), stride=(1, 1), padding=(1, 1))\n",
       "  (20): ReLU(inplace=True)\n",
       "  (21): Conv2d(512, 512, kernel_size=(3, 3), stride=(1, 1), padding=(1, 1))\n",
       "  (22): ReLU(inplace=True)\n",
       "  (23): Conv2d(512, 512, kernel_size=(3, 3), stride=(1, 1), padding=(1, 1))\n",
       "  (24): ReLU(inplace=True)\n",
       "  (25): Conv2d(512, 512, kernel_size=(3, 3), stride=(1, 1), padding=(1, 1))\n",
       "  (26): ReLU(inplace=True)\n",
       "  (27): Conv2d(512, 3, kernel_size=(3, 3), stride=(1, 1), padding=(1, 1))\n",
       "  (28): Tanh()\n",
       ")"
      ]
     },
     "execution_count": 48,
     "metadata": {},
     "output_type": "execute_result"
    }
   ],
   "source": [
    "sample =96\n",
    "sample_bc = np.moveaxis(dataset[0][sample,:,:,:].numpy(), 0, 2)\n",
    "## plot one of the results after passing the convolutional network through it once\n",
    "sample_prediction = net.cpu().forward(dataset[0][sample:sample+1,:,:,:])\n",
    "print(sample_prediction.shape)\n",
    "sample_prediction = F.pad(sample_prediction, (0,0,0,0,0,1)).detach().numpy()\n",
    "print(sample_prediction.shape)\n",
    "sample_prediction = np.moveaxis(sample_prediction, 1, 3)\n",
    "print(sample_prediction.shape)\n",
    "\n",
    "\n",
    "#print(sample_prediction.shape, dataset[0][27:28,:,10,22], sample_prediction[:,:,10,22])\n",
    "plot_grid_2d(sample_bc, sample_prediction[0,:,:,:])\n",
    "net.cuda()"
   ]
  },
  {
   "cell_type": "markdown",
   "metadata": {},
   "source": [
    "# BASE WITH REPETITION\n",
    "This model tries to do backpropagation after several passes of the network instead of just one\n"
   ]
  },
  {
   "cell_type": "code",
   "execution_count": 73,
   "metadata": {},
   "outputs": [],
   "source": [
    "## define the neural network's general shape\n",
    "\n",
    "class RepetitionNet(nn.Module):\n",
    "    def __init__(self):\n",
    "        super(RepetitionNet, self).__init__()\n",
    "        \n",
    "        ## convolutional layers\n",
    "        self.conv1 = nn.Conv2d(in_channels = 7, out_channels = 14, kernel_size = 3, padding = 1)\n",
    "        self.conv2 = nn.Conv2d(in_channels = 14, out_channels = 16, kernel_size = 3, padding = 1)\n",
    "        self.deconv1 = nn.ConvTranspose2d(in_channels = 16, out_channels = 14, kernel_size = 3, padding = 1)\n",
    "        self.deconv2 = nn.ConvTranspose2d(in_channels = 14, out_channels = 10, kernel_size = 3, padding = 1)\n",
    "        self.deconv3 = nn.ConvTranspose2d(in_channels = 10, out_channels = 7, kernel_size = 3, padding = 1)\n",
    "        self.deconv4 = nn.ConvTranspose2d(in_channels = 7, out_channels = 3, kernel_size = 3, padding = 1)\n",
    "        \n",
    "        ## activation\n",
    "        self.hardtanh = nn.Hardtanh()\n",
    "        self.lrelu = nn.LeakyReLU(0.2)\n",
    "        \n",
    "        ##possible for later: MultiheadAttention\n",
    "        self.multihead_attn_14 = SelfAttention(in_dim = 14, activation = None)\n",
    "        \n",
    "        \n",
    "    def forward(self, boundary_conditions, returns):\n",
    "        if not(returns): #if returns is false return the input\n",
    "            #print(boundary_conditions.shape)\n",
    "            x = self.conv1(boundary_conditions)\n",
    "            x = self.multihead_attn_14(x)\n",
    "            x = self.lrelu(x)\n",
    "            #print(x.shape)\n",
    "            x = self.conv2(x)\n",
    "            #x, attn = self.multihead_attn_middle(x)\n",
    "            x = self.lrelu(x)\n",
    "            #print(x.shape)\n",
    "            x = self.deconv1(x)\n",
    "            x = self.lrelu(x)\n",
    "           #print(x.shape)\n",
    "            x = self.deconv2(x)\n",
    "            x = self.lrelu(x)\n",
    "            #print(x.shape)\n",
    "            x = self.deconv3(x)\n",
    "            x = self.lrelu(x)\n",
    "        elif returns:\n",
    "            x = self.conv1(boundary_conditions)\n",
    "            x = self.multihead_attn_14(x)\n",
    "            x = self.lrelu(x)\n",
    "            #print(x.shape)\n",
    "            x = self.conv2(x)\n",
    "            #x, attn = self.multihead_attn_middle(x)\n",
    "            x = self.lrelu(x)\n",
    "            #print(x.shape)\n",
    "            x = self.deconv1(x)\n",
    "            x = self.lrelu(x)\n",
    "           #print(x.shape)\n",
    "            x = self.deconv2(x)\n",
    "            x = self.lrelu(x)\n",
    "            #print(x.shape)\n",
    "            x = self.deconv3(x)\n",
    "            x = self.lrelu(x)\n",
    "            # print(x.shape)\n",
    "            x = self.deconv4(x)  \n",
    "            x = self.hardtanh(x)\n",
    "            \n",
    "        return x\n",
    "    \n",
    "net = RepetitionNet().cuda().float()\n",
    "\n",
    "## test to see if getting the correct size\n",
    "#%timeit net.forward(dataset[0][0:1,:,:,:].cuda(), returns = True)"
   ]
  },
  {
   "cell_type": "code",
   "execution_count": 72,
   "metadata": {},
   "outputs": [],
   "source": [
    "## parameters\n",
    "learn_rate = 0.0005\n",
    "e = 3"
   ]
  },
  {
   "cell_type": "code",
   "execution_count": 74,
   "metadata": {},
   "outputs": [],
   "source": [
    "## define criterion\n",
    "criterion = nn.MSELoss().cuda()\n",
    "optimizer = torch.optim.Adam(params = net.parameters(), lr=learn_rate, betas=(0.9, 0.999))"
   ]
  },
  {
   "cell_type": "code",
   "execution_count": 75,
   "metadata": {},
   "outputs": [
    {
     "data": {
      "text/html": [
       "\n",
       "                Logging results to <a href=\"https://wandb.com\" target=\"_blank\">Weights & Biases</a> <a href=\"https://docs.wandb.com/integrations/jupyter.html\" target=\"_blank\">(Documentation)</a>.<br/>\n",
       "                Project page: <a href=\"https://app.wandb.ai/walther/Project\" target=\"_blank\">https://app.wandb.ai/walther/Project</a><br/>\n",
       "                Run page: <a href=\"https://app.wandb.ai/walther/Project/runs/46mlsv2f\" target=\"_blank\">https://app.wandb.ai/walther/Project/runs/46mlsv2f</a><br/>\n",
       "            "
      ],
      "text/plain": [
       "<IPython.core.display.HTML object>"
      ]
     },
     "metadata": {},
     "output_type": "display_data"
    },
    {
     "data": {
      "text/plain": [
       "W&B Run: https://app.wandb.ai/walther/Project/runs/46mlsv2f"
      ]
     },
     "execution_count": 75,
     "metadata": {},
     "output_type": "execute_result"
    }
   ],
   "source": [
    "## setup logging\n",
    "wandb.init(config={\"epochs\": e, \"batch_size\": 90,'learning_rate': learn_rate, 'architecture':'repetition_attention_architecture'})"
   ]
  },
  {
   "cell_type": "code",
   "execution_count": 76,
   "metadata": {},
   "outputs": [
    {
     "data": {
      "text/html": [
       "<iframe src=\"https://app.wandb.ai/walther/Project/runs/46mlsv2f?jupyter=true&state=paused\" style=\"border:none;width:100%;height:420px\">\n",
       "                </iframe>"
      ],
      "text/plain": [
       "<wandb.jupyter.Run at 0x1e18d5989c8>"
      ]
     },
     "metadata": {},
     "output_type": "display_data"
    },
    {
     "name": "stdout",
     "output_type": "stream",
     "text": [
      "1 1 0.019998053088784218 0.0218000927940011\n",
      "2 1 0.0007985763950273395 0.0010863074916414917\n",
      "3 1 0.0006409389898180962 0.0008965142245870083\n",
      "Finished Training\n"
     ]
    }
   ],
   "source": [
    "%%wandb\n",
    "\n",
    "torch.autograd.set_detect_anomaly(True)\n",
    "## define a general training loop\n",
    "losses = np.array([0,0,0])\n",
    "for epoch in range(e):  # loop over the dataset multiple times\n",
    "\n",
    "    running_loss = 0.0\n",
    "    boundary_conditions, targets = dataset[0][:90,:,:,:].cuda(), dataset[1][:90,:,:,:].cuda()\n",
    "    #print(type(boundary_conditions))\n",
    "    #net = net.cuda()\n",
    "    for i, bc in enumerate(boundary_conditions):\n",
    "        tgt = targets[i, 1:4, :, :].unsqueeze(0)\n",
    "        bc = bc.unsqueeze(0)\n",
    "        #material_matrix = boundary_conditions[i, 0, :, :].unsqueeze(0).repeat([1,3,1,1])\n",
    "        #print(i, bc.shape, tgt.shape)\n",
    "\n",
    "        # get the inputs; data is a list of [boundary_conditions, targets]\n",
    "        \n",
    "        # zero the parameter gradients\n",
    "        optimizer.zero_grad()\n",
    "\n",
    "        # forward + backward + optimize\n",
    "        repetitions = 3\n",
    "        \n",
    "        prediction = net(bc, returns = False)\n",
    "        prediction = net(prediction, returns = False)\n",
    "        prediction = net(prediction, returns = False)\n",
    "       # prediction = net(prediction, returns = 'input')\n",
    "        #rint(i)\n",
    "        #for ii in range(repetitions):\n",
    "            #print(ii)\n",
    "            #prediction = net(prediction, returns = 'input')\n",
    "        \n",
    "        prediction =  net(prediction, returns = True)\n",
    "        \n",
    "        loss = criterion(prediction, tgt)#/torch.sum(material_matrix)\n",
    "        #print(loss)\n",
    "        loss.backward()\n",
    "        optimizer.step()\n",
    "        \n",
    "        \n",
    "        # print statistics\n",
    "        running_loss += loss.item()\n",
    "        wandb.log({\"loss\": loss})\n",
    "\n",
    "        if i % 100 == 0:    # print every 10 mini-batches\n",
    "            running_val_loss = 0.0\n",
    "            with torch.no_grad():\n",
    "                boundary_conditions_val, targets_val = dataset[0][90:,:,:,:].cuda(), dataset[1][90:,:,:,:].cuda()\n",
    "                for ii, bc_val in enumerate(boundary_conditions_val):\n",
    "                    tgt_val = targets_val[i, 1:4, :, :].unsqueeze(0)\n",
    "                    bc_val = bc_val.unsqueeze(0)\n",
    "                    prediction_val = net(bc_val, returns = 'output')\n",
    "                    val_loss = criterion(prediction_val, tgt_val)#/torch.sum(material_matrix)\n",
    "                    wandb.log({\"val_loss\": val_loss})\n",
    "                    running_val_loss+=val_loss.item()\n",
    "                \n",
    "            print(f'{epoch + 1} {i + 1} {running_loss} {running_val_loss/10}')\n",
    "            #wandb.log({\"loss\": running_loss})\n",
    "            #wandb.log({\"val_loss\": running_val_loss})\n",
    "            losses = np.vstack((losses, [epoch, running_loss, running_val_loss]))\n",
    "            #print(losses)\n",
    "            running_loss = 0.0\n",
    "            \n",
    "\n",
    "print('Finished Training')"
   ]
  },
  {
   "cell_type": "code",
   "execution_count": 77,
   "metadata": {},
   "outputs": [
    {
     "name": "stdout",
     "output_type": "stream",
     "text": [
      "torch.Size([1, 3, 32, 32])\n",
      "(1, 4, 32, 32)\n",
      "(1, 32, 32, 4)\n"
     ]
    },
    {
     "data": {
      "image/png": "[encoded data removed]",
      "text/plain": [
       "<Figure size 1080x432 with 10 Axes>"
      ]
     },
     "metadata": {
      "needs_background": "light"
     },
     "output_type": "display_data"
    },
    {
     "data": {
      "text/plain": [
       "RepetitionNet(\n",
       "  (conv1): Conv2d(7, 14, kernel_size=(3, 3), stride=(1, 1), padding=(1, 1))\n",
       "  (conv2): Conv2d(14, 16, kernel_size=(3, 3), stride=(1, 1), padding=(1, 1))\n",
       "  (deconv1): ConvTranspose2d(16, 14, kernel_size=(3, 3), stride=(1, 1), padding=(1, 1))\n",
       "  (deconv2): ConvTranspose2d(14, 10, kernel_size=(3, 3), stride=(1, 1), padding=(1, 1))\n",
       "  (deconv3): ConvTranspose2d(10, 7, kernel_size=(3, 3), stride=(1, 1), padding=(1, 1))\n",
       "  (deconv4): ConvTranspose2d(7, 3, kernel_size=(3, 3), stride=(1, 1), padding=(1, 1))\n",
       "  (hardtanh): Hardtanh(min_val=-1.0, max_val=1.0)\n",
       "  (lrelu): LeakyReLU(negative_slope=0.2)\n",
       "  (multihead_attn_14): SelfAttention(\n",
       "    (query_conv): Conv2d(14, 4, kernel_size=(1, 1), stride=(1, 1))\n",
       "    (key_conv): Conv2d(14, 4, kernel_size=(1, 1), stride=(1, 1))\n",
       "    (value_conv): Conv2d(14, 14, kernel_size=(1, 1), stride=(1, 1))\n",
       "    (softmax): Softmax(dim=-1)\n",
       "  )\n",
       ")"
      ]
     },
     "execution_count": 77,
     "metadata": {},
     "output_type": "execute_result"
    }
   ],
   "source": [
    "sample =3\n",
    "sample_bc = np.moveaxis(dataset[0][sample,:,:,:].numpy(), 0, 2)\n",
    "## plot one of the results after passing the convolutional network through it once\n",
    "sample_prediction = net.cpu().forward(dataset[0][sample:sample+1,:,:,:], returns = 'output')\n",
    "print(sample_prediction.shape)\n",
    "sample_prediction = F.pad(sample_prediction, (0,0,0,0,0,1)).detach().numpy()\n",
    "print(sample_prediction.shape)\n",
    "sample_prediction = np.moveaxis(sample_prediction, 1, 3)\n",
    "print(sample_prediction.shape)\n",
    "\n",
    "\n",
    "#print(sample_prediction.shape, dataset[0][27:28,:,10,22], sample_prediction[:,:,10,22])\n",
    "plot_grid_2d(sample_bc, sample_prediction[0,:,:,:])\n",
    "net.cuda()"
   ]
  },
  {
   "cell_type": "code",
   "execution_count": 78,
   "metadata": {},
   "outputs": [
    {
     "name": "stdout",
     "output_type": "stream",
     "text": [
      "(32, 32, 7) (32, 32, 4)\n"
     ]
    },
    {
     "data": {
      "image/png": "[encoded data removed]",
      "text/plain": [
       "<Figure size 1080x432 with 10 Axes>"
      ]
     },
     "metadata": {
      "needs_background": "light"
     },
     "output_type": "display_data"
    }
   ],
   "source": [
    "#plot ground truth11\n",
    "sample_bc = np.moveaxis(dataset[0][sample,:,:,:].numpy(), 0, 2)\n",
    "sample_target = np.moveaxis(dataset[1][sample,:,:,:].numpy(), 0, 2)\n",
    "print(sample_bc.shape, sample_target.shape)\n",
    "plot_grid_2d(sample_bc, sample_target)"
   ]
  },
  {
   "cell_type": "markdown",
   "metadata": {},
   "source": [
    "The visual results for this network are very interesting for the first iteration. It takes a longer time to train, but it was able to create a map of where the feature is. Now attempting to see the result of running more than one iteration"
   ]
  },
  {
   "cell_type": "code",
   "execution_count": 79,
   "metadata": {},
   "outputs": [],
   "source": [
    "prediction = net.cpu().forward(dataset[0][sample:sample+1,:,:,:], returns = False)\n",
    "i = 0"
   ]
  },
  {
   "cell_type": "code",
   "execution_count": 295,
   "metadata": {},
   "outputs": [
    {
     "name": "stdout",
     "output_type": "stream",
     "text": [
      "3\n"
     ]
    }
   ],
   "source": [
    "with torch.no_grad():\n",
    "    prediction = net(prediction, returns = False)\n",
    "    i +=1\n",
    "    print(i)"
   ]
  },
  {
   "cell_type": "code",
   "execution_count": 80,
   "metadata": {},
   "outputs": [
    {
     "name": "stdout",
     "output_type": "stream",
     "text": [
      "torch.Size([1, 3, 32, 32])\n",
      "(1, 4, 32, 32)\n",
      "(1, 32, 32, 4)\n"
     ]
    },
    {
     "data": {
      "image/png": "[encoded data removed]",
      "text/plain": [
       "<Figure size 1080x432 with 10 Axes>"
      ]
     },
     "metadata": {
      "needs_background": "light"
     },
     "output_type": "display_data"
    }
   ],
   "source": [
    "sample_prediction = net(prediction, returns = 'output')\n",
    "print(sample_prediction.shape)\n",
    "sample_prediction = F.pad(sample_prediction, (0,0,0,0,0,1)).detach().numpy()\n",
    "print(sample_prediction.shape)\n",
    "sample_prediction = np.moveaxis(sample_prediction, 1, 3)\n",
    "print(sample_prediction.shape)\n",
    "\n",
    "\n",
    "#print(sample_prediction.shape, dataset[0][27:28,:,10,22], sample_prediction[:,:,10,22])\n",
    "plot_grid_2d(sample_bc, sample_prediction[0,:,:,:])"
   ]
  },
  {
   "cell_type": "markdown",
   "metadata": {},
   "source": [
    "Doing this hasn't  helped with convergence it seems. Although letting it train led to the smallest loss yet, the problem seems to be that, again, the model is learning to fit the space around the element and not the element. A different strategy that requires a new dataset positioning and a dataloader to do data augmentation needs to be devised."
   ]
  }
 ],
 "metadata": {
  "kernelspec": {
   "display_name": "Python 3",
   "language": "python",
   "name": "python3"
  },
  "language_info": {
   "codemirror_mode": {
    "name": "ipython",
    "version": 3
   },
   "file_extension": ".py",
   "mimetype": "text/x-python",
   "name": "python",
   "nbconvert_exporter": "python",
   "pygments_lexer": "ipython3",
   "version": "3.7.7"
  }
 },
 "nbformat": 4,
 "nbformat_minor": 4
}
