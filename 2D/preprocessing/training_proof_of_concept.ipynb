{
 "cells": [
  {
   "cell_type": "markdown",
   "metadata": {},
   "source": [
    "## TRAINING\n",
    "This notebook has as an objective to use a folder containing the formated .npy files to train a deep learning model that can be used in lieu of an FEA model to any accuracy above random, for a proof of concept that it is possible to do so, such that further research can be done afterward to optimize architecture, hyperparameters and data being fed in."
   ]
  },
  {
   "cell_type": "code",
   "execution_count": 156,
   "metadata": {},
   "outputs": [],
   "source": [
    "##  imports\n",
    "\n",
    "import numpy as np\n",
    "import torch\n",
    "import torch.nn as nn\n",
    "import pathlib\n",
    "import PREPROCESSING_splitting as split\n",
    "import matplotlib.pyplot as plt"
   ]
  },
  {
   "cell_type": "code",
   "execution_count": 131,
   "metadata": {},
   "outputs": [],
   "source": [
    "## first, create a class to load the files that are to be fed to the neural network, \n",
    "## for both the inputs and the outputs. To avoid confusion I'll refer to the inputs to the \n",
    "## FEA model as 'bound_conds' (boundary conditions), and the outputs as 'targets', while what \n",
    "## is fed into the neural network will be called an \"input\", and the output of the neural network \"prediction\"\n",
    "## this function should probably be transformed into a dataloader later for a larger dataset, \n",
    "## but for now we'll keep it like this\n",
    "\n",
    "def get_dataset(dataset_path, glob_parameter = '*.npy'):\n",
    "    # concatenates all samples into a list of boundary conditions and a list of targets\n",
    "    \n",
    "    # set paths\n",
    "    bound_cond_path = pathlib.Path(dataset_path, 'input')\n",
    "    targets_path = pathlib.Path(dataset_path, 'output')\n",
    "\n",
    "    test = pathlib.Path('D:/')\n",
    "    \n",
    "    \n",
    "    \n",
    "    \n",
    "    # check if folder path is correct\n",
    "    if bound_cond_path.is_dir() and targets_path.is_dir():\n",
    "        print('path contains \\'input\\' and \\'output\\'')\n",
    "        pass\n",
    "    else:\n",
    "        raise Exception (f'Argument dataset_path: {dataset_path} should contain folders ..\\input and ..\\output. Please check path')\n",
    "    \n",
    "    #create iterators for files\n",
    "    bound_cond_iterator = bound_cond_path.glob(glob_parameter)\n",
    "    targets_iterator = targets_path.glob(glob_parameter)\n",
    "    \n",
    "    #zip them to ensure that they are going through the same samples \n",
    "    samples_iterator = zip(bound_cond_iterator, targets_iterator)\n",
    "    \n",
    "    boundary_conditions = np.array([])\n",
    "    targets = np.array([])\n",
    "    \n",
    "    for boundary_condition_files, targets_files in samples_iterator:\n",
    "        if split.get_number(boundary_condition_files.name) == split.get_number(targets_files.name):\n",
    "            \n",
    "            boundary_conditions_temp = np.load(boundary_condition_files)\n",
    "            targets_temp = np.load(targets_files)\n",
    "            \n",
    "            #start array if it hasn't been started yet\n",
    "            if boundary_conditions.size == 0 and targets.size == 0:\n",
    "                boundary_conditions = boundary_conditions_temp\n",
    "                targets = targets_temp\n",
    "            else:\n",
    "                boundary_conditions = np.concatenate((boundary_conditions, boundary_conditions_temp), axis = 0)\n",
    "                targets = np.concatenate((targets, targets_temp), axis = 0)\n",
    "        else:\n",
    "            raise Exception('the samples in the iterator are not synced')\n",
    "    \n",
    "    return torch.from_numpy(boundary_conditions).float(), torch.from_numpy(targets).float()\n",
    "    "
   ]
  },
  {
   "cell_type": "code",
   "execution_count": 132,
   "metadata": {},
   "outputs": [
    {
     "name": "stdout",
     "output_type": "stream",
     "text": [
      "path contains 'input' and 'output'\n",
      "torch.Size([102, 7, 32, 32])\n",
      "torch.Size([102, 4, 32, 32])\n"
     ]
    }
   ],
   "source": [
    "folders_path =  pathlib.Path('D:/Ansys Simulations/Project/2D/data/proof_of_concept/scaled/arrays')\n",
    "dataset = get_dataset(dataset_path = folders_path)\n",
    "print(dataset[0].shape)\n",
    "print(dataset[1].shape)"
   ]
  },
  {
   "cell_type": "code",
   "execution_count": null,
   "metadata": {},
   "outputs": [],
   "source": [
    "class TwoD_Dataset(Dataset):\n",
    "    \"\"\"Face Landmarks dataset.\"\"\"\n",
    "\n",
    "    def __init__(self, npy_file, root_dir, transform=None):\n",
    "        \"\"\"\n",
    "        Args:\n",
    "            npy_file (string): Path to the npy files.\n",
    "            root_dir (string): Directory with all the images.\n",
    "            transform (callable, optional): Optional transform to be applied\n",
    "                on a sample.\n",
    "        \"\"\"\n",
    "        self.boundary_conditions = pd.read_csv(csv_file)\n",
    "        self.root_dir = root_dir\n",
    "        self.transform = transform\n",
    "\n",
    "    def __len__(self):\n",
    "        return len(self.landmarks_frame)\n",
    "\n",
    "    def __getitem__(self, idx):\n",
    "        if torch.is_tensor(idx):\n",
    "            idx = idx.tolist()\n",
    "\n",
    "        img_name = os.path.join(self.root_dir,\n",
    "                                self.landmarks_frame.iloc[idx, 0])\n",
    "        image = io.imread(img_name)\n",
    "        landmarks = self.landmarks_frame.iloc[idx, 1:]\n",
    "        landmarks = np.array([landmarks])\n",
    "        landmarks = landmarks.astype('float').reshape(-1, 2)\n",
    "        sample = {'image': image, 'landmarks': landmarks}\n",
    "\n",
    "        if self.transform:\n",
    "            sample = self.transform(sample)\n",
    "\n",
    "        return sample\n"
   ]
  },
  {
   "cell_type": "code",
   "execution_count": 216,
   "metadata": {},
   "outputs": [
    {
     "data": {
      "text/plain": [
       "tensor([[[[-0.0769, -0.0899, -0.0992,  ..., -0.0905, -0.0843, -0.0621],\n",
       "          [-0.0972, -0.0590, -0.0700,  ..., -0.0662, -0.0472, -0.0381],\n",
       "          [-0.0804, -0.0372, -0.0643,  ..., -0.0629, -0.0535, -0.0361],\n",
       "          ...,\n",
       "          [-0.0845, -0.0592, -0.0748,  ..., -0.0828, -0.0743, -0.0613],\n",
       "          [-0.0707, -0.0610, -0.0698,  ..., -0.0788, -0.0713, -0.0595],\n",
       "          [-0.0568, -0.0361, -0.0654,  ..., -0.0612, -0.0570, -0.0465]],\n",
       "\n",
       "         [[-0.1165, -0.1681, -0.1989,  ..., -0.1924, -0.1888, -0.2056],\n",
       "          [-0.1345, -0.1829, -0.2179,  ..., -0.2155, -0.2076, -0.1975],\n",
       "          [-0.1409, -0.1874, -0.2229,  ..., -0.2215, -0.2246, -0.2018],\n",
       "          ...,\n",
       "          [-0.1224, -0.1935, -0.1976,  ..., -0.2297, -0.2208, -0.1986],\n",
       "          [-0.1226, -0.1653, -0.1705,  ..., -0.2104, -0.1994, -0.1742],\n",
       "          [-0.1091, -0.1120, -0.1186,  ..., -0.1501, -0.1448, -0.1270]],\n",
       "\n",
       "         [[ 0.0137, -0.0246, -0.0079,  ..., -0.0188,  0.0062,  0.0340],\n",
       "          [-0.0328, -0.0676, -0.0411,  ..., -0.0538, -0.0274,  0.0523],\n",
       "          [-0.0104, -0.0485, -0.0208,  ..., -0.0365, -0.0105,  0.0499],\n",
       "          ...,\n",
       "          [-0.0371, -0.1084, -0.0848,  ..., -0.0351, -0.0115,  0.0515],\n",
       "          [-0.0232, -0.0607, -0.0429,  ..., -0.0187,  0.0006,  0.0576],\n",
       "          [ 0.0216,  0.0183,  0.0220,  ...,  0.0493,  0.0561,  0.0798]]]],\n",
       "       grad_fn=<HardtanhBackward0>)"
      ]
     },
     "execution_count": 216,
     "metadata": {},
     "output_type": "execute_result"
    }
   ],
   "source": [
    "## define the neural network's general shape\n",
    "\n",
    "class ConvNet(nn.Module):\n",
    "    def __init__(self):\n",
    "        super(ConvNet, self).__init__()\n",
    "        \n",
    "        ## convolutional layers\n",
    "        self.conv1 = nn.Conv2d(in_channels = 7, out_channels = 14, kernel_size = 3, padding = 1)\n",
    "        self.conv2 = nn.Conv2d(in_channels = 14, out_channels = 16, kernel_size = 3, padding = 1)\n",
    "        self.deconv1 = nn.ConvTranspose2d(in_channels = 16, out_channels = 14, kernel_size = 3, padding = 1)\n",
    "        self.deconv2 = nn.ConvTranspose2d(in_channels = 14, out_channels = 10, kernel_size = 3, padding = 1)\n",
    "        self.deconv3 = nn.ConvTranspose2d(in_channels = 10, out_channels = 7, kernel_size = 3, padding = 1)\n",
    "        self.deconv4 = nn.ConvTranspose2d(in_channels = 7, out_channels = 3, kernel_size = 3, padding = 1)\n",
    "        \n",
    "        ## activation\n",
    "        self.hardtanh = nn.Hardtanh()\n",
    "        \n",
    "        \n",
    "        ##possible for later: MultiheadAttention\n",
    "        \n",
    "    def forward(self, boundary_conditions):\n",
    "        #print(boundary_conditions.shape)\n",
    "        x = self.conv1(boundary_conditions)\n",
    "        x = self.hardtanh(x)\n",
    "        #print(x.shape)\n",
    "        x = self.conv2(x)\n",
    "        x = self.hardtanh(x)\n",
    "        #print(x.shape)\n",
    "        x = self.deconv1(x)\n",
    "        x = self.hardtanh(x)\n",
    "       #print(x.shape)\n",
    "        x = self.deconv2(x)\n",
    "        x = self.hardtanh(x)\n",
    "        #print(x.shape)\n",
    "        x = self.deconv3(x)\n",
    "        x = self.hardtanh(x)\n",
    "       # print(x.shape)\n",
    "        x = self.deconv4(x)\n",
    "        x = self.hardtanh(x)\n",
    "        #print(x.shape)\n",
    "        return x\n",
    "    \n",
    "net = ConvNet().float()\n",
    "\n",
    "## test to see if getting the correct size\n",
    "net.forward(dataset[0][0:1,:,:,:])"
   ]
  },
  {
   "cell_type": "code",
   "execution_count": 217,
   "metadata": {},
   "outputs": [],
   "source": [
    "## define criterion\n",
    "criterion = nn.MSELoss()\n",
    "optimizer = torch.optim.Adam(params = net.parameters(), lr=0.0001, betas=(0.9, 0.999))"
   ]
  },
  {
   "cell_type": "code",
   "execution_count": null,
   "metadata": {},
   "outputs": [],
   "source": []
  },
  {
   "cell_type": "code",
   "execution_count": 218,
   "metadata": {},
   "outputs": [
    {
     "name": "stdout",
     "output_type": "stream",
     "text": [
      "1 1 0.01686296984553337 0.019173512980341912\n",
      "2 1 0.0008155379327945411 0.0008731790818274021\n",
      "3 1 0.0005405249539762735 0.0006281238747760653\n",
      "4 1 0.00047378288581967354 0.0005487737478688359\n",
      "5 1 0.00042836403008550406 0.0004952156421495601\n",
      "6 1 0.00039330427534878254 0.00045354489120654764\n",
      "7 1 0.0003642672090791166 0.00041886194376274946\n",
      "8 1 0.00033936818363144994 0.00038920007646083834\n",
      "9 1 0.0003176502068527043 0.00036354877229314295\n",
      "10 1 0.00029853975865989923 0.0003412552236113697\n",
      "11 1 0.00028163884417153895 0.00032183663570322095\n",
      "12 1 0.0002666465297807008 0.0003049162187380716\n",
      "13 1 0.0002533261722419411 0.0002901937361457385\n",
      "14 1 0.0002414839982520789 0.00027742414240492506\n",
      "15 1 0.00023095282085705549 0.000266398856183514\n",
      "16 1 0.00022158175124786794 0.00025693316565593703\n",
      "17 1 0.00021322889369912446 0.0002488564234226942\n",
      "18 1 0.00020576057431753725 0.00024201041087508203\n",
      "19 1 0.00019905160297639668 0.0002362490355153568\n",
      "20 1 0.0001929873542394489 0.00023144104197854177\n",
      "21 1 0.0001874660956673324 0.0002274729049531743\n",
      "22 1 0.00018240026838611811 0.00022425134957302362\n",
      "23 1 0.0001777177967596799 0.0002217052591731772\n",
      "24 1 0.00017336236487608403 0.00021978577569825575\n",
      "25 1 0.00016929249977692962 0.00021846429153811188\n",
      "26 1 0.00016547848645132035 0.0002177255184506066\n",
      "27 1 0.00016189644520636648 0.0002175561268813908\n",
      "28 1 0.00015851961506996304 0.00021792660190840253\n",
      "29 1 0.00015531055396422744 0.00021877347899135202\n",
      "30 1 0.00015221870853565633 0.00021998963129590265\n",
      "31 1 0.00014918790839146823 0.00022143444803077728\n",
      "32 1 0.00014616890985053033 0.00022296188471955248\n",
      "33 1 0.00014312991697806865 0.00022445474678534083\n",
      "34 1 0.00014005857519805431 0.00022584622056456282\n",
      "35 1 0.00013695818779524416 0.0002271210280014202\n",
      "36 1 0.00013384134217631072 0.00022830121451988816\n",
      "37 1 0.00013072600995656103 0.00022942672221688555\n",
      "38 1 0.00012763282575178891 0.00023054068587953226\n",
      "39 1 0.00012458460696507245 0.00023168011466623284\n",
      "40 1 0.00012160534970462322 0.0002328716749616433\n",
      "41 1 0.0001187194575322792 0.0002341310690098908\n",
      "42 1 0.00011595001706155017 0.0002354631338675972\n",
      "43 1 0.00011331830319250003 0.00023686359636485577\n",
      "44 1 0.0001108412689063698 0.0002383208673563786\n",
      "45 1 0.00010853137791855261 0.00023981794802239165\n",
      "46 1 0.00010639598622219637 0.0002413348905974999\n",
      "47 1 0.00010443706560181454 0.00024285078106913715\n",
      "48 1 0.00010265212040394545 0.0002443458026391454\n",
      "49 1 0.00010103521344717592 0.00024580247118137776\n",
      "50 1 9.957735892385244e-05 0.0002472066851623822\n",
      "Finished Training\n"
     ]
    }
   ],
   "source": [
    "## define a general training loop\n",
    "losses = np.array([0,0,0])\n",
    "for epoch in range(50):  # loop over the dataset multiple times\n",
    "\n",
    "    running_loss = 0.0\n",
    "    boundary_conditions, targets = dataset[0][:90,:,:,:], dataset[1][:90,:,:,:]\n",
    "    #print(type(boundary_conditions))\n",
    "    for i, bc in enumerate(boundary_conditions):\n",
    "        tgt = targets[i, 1:4, :, :].unsqueeze(0)\n",
    "        bc = bc.unsqueeze(0)\n",
    "        #print(i, bc.shape, tgt.shape)\n",
    "\n",
    "        # get the inputs; data is a list of [boundary_conditions, targets]\n",
    "        \n",
    "        # zero the parameter gradients\n",
    "        optimizer.zero_grad()\n",
    "\n",
    "        # forward + backward + optimize\n",
    "        prediction = net(bc)\n",
    "        loss = criterion(prediction, tgt)\n",
    "        #print(loss)\n",
    "        loss.backward()\n",
    "        optimizer.step()\n",
    "\n",
    "        # print statistics\n",
    "        running_loss += loss.item()\n",
    "        if i % 100 == 0:    # print every 10 mini-batches\n",
    "            running_val_loss = 0.0\n",
    "            with torch.no_grad():\n",
    "                boundary_conditions_val, targets_val = dataset[0][90:,:,:,:], dataset[1][90:,:,:,:]\n",
    "                for ii, bc_val in enumerate(boundary_conditions_val):\n",
    "                    tgt_val = targets_val[i, 1:4, :, :].unsqueeze(0)\n",
    "                    bc_val = bc_val.unsqueeze(0)\n",
    "                    prediction_val = net(bc_val)\n",
    "                    val_loss = criterion(prediction_val, tgt_val)\n",
    "                    running_val_loss+=val_loss.item()\n",
    "                \n",
    "            print(f'{epoch + 1} {i + 1} {running_loss} {running_val_loss/10}')\n",
    "            losses = np.vstack((losses, [epoch, running_loss, running_val_loss]))\n",
    "            #print(losses)\n",
    "            running_loss = 0.0\n",
    "            \n",
    "\n",
    "print('Finished Training')"
   ]
  },
  {
   "cell_type": "code",
   "execution_count": 229,
   "metadata": {
    "scrolled": true
   },
   "outputs": [
    {
     "data": {
      "text/plain": [
       "[<matplotlib.lines.Line2D at 0x17621512188>,\n",
       " <matplotlib.lines.Line2D at 0x176215122c8>]"
      ]
     },
     "execution_count": 229,
     "metadata": {},
     "output_type": "execute_result"
    },
    {
     "data": {
      "image/png": "[encoded data removed]",
      "text/plain": [
       "<Figure size 432x288 with 1 Axes>"
      ]
     },
     "metadata": {
      "needs_background": "light"
     },
     "output_type": "display_data"
    }
   ],
   "source": [
    "## attempt to plot losses over time\n",
    "plt.plot(losses[1:,0], losses[1:,1:])"
   ]
  },
  {
   "cell_type": "code",
   "execution_count": 230,
   "metadata": {},
   "outputs": [
    {
     "data": {
      "text/plain": [
       "[<matplotlib.lines.Line2D at 0x17621529f08>,\n",
       " <matplotlib.lines.Line2D at 0x176211ee208>]"
      ]
     },
     "execution_count": 230,
     "metadata": {},
     "output_type": "execute_result"
    },
    {
     "data": {
      "image/png": "[encoded data removed]",
      "text/plain": [
       "<Figure size 432x288 with 1 Axes>"
      ]
     },
     "metadata": {
      "needs_background": "light"
     },
     "output_type": "display_data"
    }
   ],
   "source": [
    "## attempt to plot losses over time\n",
    "plt.plot(losses[10:,0], losses[10:,1:])"
   ]
  }
 ],
 "metadata": {
  "kernelspec": {
   "display_name": "Python 3",
   "language": "python",
   "name": "python3"
  },
  "language_info": {
   "codemirror_mode": {
    "name": "ipython",
    "version": 3
   },
   "file_extension": ".py",
   "mimetype": "text/x-python",
   "name": "python",
   "nbconvert_exporter": "python",
   "pygments_lexer": "ipython3",
   "version": "3.7.7"
  }
 },
 "nbformat": 4,
 "nbformat_minor": 4
}
