{
 "cells": [
  {
   "cell_type": "markdown",
   "metadata": {},
   "source": [
    "## TRAINING\n",
    "This notebook has as an objective to use a folder containing the formated .npy files to train a deep learning model that can be used in lieu of an FEA model to any accuracy above random, for a proof of concept that it is possible to do so, such that further research can be done afterward to optimize architecture, hyperparameters and data being fed in."
   ]
  },
  {
   "cell_type": "code",
   "execution_count": 1,
   "metadata": {},
   "outputs": [
    {
     "name": "stdout",
     "output_type": "stream",
     "text": [
      "splitting functions imported\n"
     ]
    }
   ],
   "source": [
    "##  imports\n",
    "\n",
    "import numpy as np\n",
    "import torch\n",
    "import torch.nn as nn\n",
    "import torch.nn.functional as F\n",
    "import pathlib\n",
    "import PREPROCESSING_splitting as split\n",
    "import matplotlib.pyplot as plt\n",
    "import torchvision.transforms"
   ]
  },
  {
   "cell_type": "markdown",
   "metadata": {},
   "source": [
    "## WEIGHTS AND BIASES\n",
    "This section's purpose  is to set up logging for the tests"
   ]
  },
  {
   "cell_type": "code",
   "execution_count": 146,
   "metadata": {},
   "outputs": [],
   "source": [
    "import wandb"
   ]
  },
  {
   "cell_type": "code",
   "execution_count": 147,
   "metadata": {},
   "outputs": [
    {
     "data": {
      "text/plain": [
       "'D:\\\\Ansys Simulations\\\\Project\\\\2D\\\\preprocessing'"
      ]
     },
     "execution_count": 147,
     "metadata": {},
     "output_type": "execute_result"
    }
   ],
   "source": [
    "import os\n",
    "os.getcwd()"
   ]
  },
  {
   "cell_type": "code",
   "execution_count": 3,
   "metadata": {},
   "outputs": [],
   "source": [
    "#import importlib\n",
    "#importlib.reload(torch)"
   ]
  },
  {
   "cell_type": "code",
   "execution_count": 2,
   "metadata": {},
   "outputs": [],
   "source": [
    "## first, create a class to load the files that are to be fed to the neural network, \n",
    "## for both the inputs and the outputs. To avoid confusion I'll refer to the inputs to the \n",
    "## FEA model as 'bound_conds' (boundary conditions), and the outputs as 'targets', while what \n",
    "## is fed into the neural network will be called an \"input\", and the output of the neural network \"prediction\"\n",
    "## this function should probably be transformed into a dataloader later for a larger dataset, \n",
    "## but for now we'll keep it like this\n",
    "\n",
    "def get_dataset(dataset_path, glob_parameter = '*.npy'):\n",
    "    # concatenates all samples into a list of boundary conditions and a list of targets\n",
    "    \n",
    "    # set paths\n",
    "    bound_cond_path = pathlib.Path(dataset_path, 'input')\n",
    "    targets_path = pathlib.Path(dataset_path, 'output')  \n",
    "    \n",
    "    print(bound_cond_path)\n",
    "    # check if folder path is correct\n",
    "    if bound_cond_path.is_dir() and targets_path.is_dir():\n",
    "        print('path contains \\'input\\' and \\'output\\'')\n",
    "        pass\n",
    "    else:\n",
    "        raise Exception (f'Argument dataset_path: {dataset_path} should contain folders ..\\input and ..\\output. Please check path')\n",
    "    \n",
    "    #create iterators for files\n",
    "    bound_cond_iterator = bound_cond_path.glob(glob_parameter)\n",
    "    targets_iterator = targets_path.glob(glob_parameter)\n",
    "    \n",
    "    #zip them to ensure that they are going through the same samples \n",
    "    samples_iterator = zip(bound_cond_iterator, targets_iterator)\n",
    "    \n",
    "    boundary_conditions = np.array([])\n",
    "    targets = np.array([])\n",
    "    \n",
    "    for boundary_condition_files, targets_files in samples_iterator:\n",
    "        if split.get_number(boundary_condition_files.name) == split.get_number(targets_files.name):\n",
    "            \n",
    "            boundary_conditions_temp = np.load(boundary_condition_files)\n",
    "            targets_temp = np.load(targets_files)\n",
    "            \n",
    "            #start array if it hasn't been started yet\n",
    "            if boundary_conditions.size == 0 and targets.size == 0:\n",
    "                boundary_conditions = boundary_conditions_temp\n",
    "                targets = targets_temp\n",
    "            else:\n",
    "                boundary_conditions = np.concatenate((boundary_conditions, boundary_conditions_temp), axis = 0)\n",
    "                targets = np.concatenate((targets, targets_temp), axis = 0)\n",
    "        else:\n",
    "            raise Exception('the samples in the iterator are not synced')\n",
    "    \n",
    "    return torch.from_numpy(boundary_conditions).float(), torch.from_numpy(targets).float()\n",
    "    "
   ]
  },
  {
   "cell_type": "code",
   "execution_count": 3,
   "metadata": {
    "scrolled": true
   },
   "outputs": [
    {
     "name": "stdout",
     "output_type": "stream",
     "text": [
      "D:\\Ansys Simulations\\Project\\2D\\data\\proof_of_concept_V2\\scaled\\arrays\\input\n",
      "path contains 'input' and 'output'\n",
      "<built-in method size of Tensor object at 0x000002C93F48AA98>\n",
      "torch.Size([102, 4, 32, 32])\n"
     ]
    }
   ],
   "source": [
    "folders_path =  pathlib.Path('D:/Ansys Simulations/Project/2D/data/proof_of_concept_V2/scaled/arrays')\n",
    "dataset = get_dataset(dataset_path = folders_path)\n",
    "print(dataset[0].size)\n",
    "print(dataset[1].shape)"
   ]
  },
  {
   "cell_type": "code",
   "execution_count": 4,
   "metadata": {},
   "outputs": [
    {
     "name": "stdout",
     "output_type": "stream",
     "text": [
      "102\n"
     ]
    }
   ],
   "source": [
    "print(dataset[0].size(0))"
   ]
  },
  {
   "cell_type": "markdown",
   "metadata": {},
   "source": [
    "## Create a Dataloader\n"
   ]
  },
  {
   "cell_type": "code",
   "execution_count": null,
   "metadata": {},
   "outputs": [],
   "source": []
  },
  {
   "cell_type": "code",
   "execution_count": 5,
   "metadata": {},
   "outputs": [],
   "source": [
    "## first the dataset that is going to be used in the dataloader\n",
    "class TwoD_Dataset(torch.utils.data.Dataset):\n",
    "    \"\"\"Two D displacement dataset.\"\"\"\n",
    "\n",
    "    def __init__(self, root_dir, glob_parameter = '*.npy', transform=None):\n",
    "        \"\"\"\n",
    "        Args:\n",
    "            root_dir (string): Directory with all the arrays.\n",
    "            glob_parameter (string): string with the correct glob to select files inside of folders\n",
    "            transform (callable, optional): Optional transform to be applied\n",
    "                on a sample.\n",
    "        \"\"\"\n",
    "        self.dataset = get_dataset(root_dir, glob_parameter = '*.npy')\n",
    "        self.transform = transform\n",
    "\n",
    "    def __len__(self):\n",
    "        assert (self.dataset[0].size(0) == self.dataset[1].size(0)), 'different input and output sizes'\n",
    "        return self.dataset[0].size(0)\n",
    "\n",
    "    def __getitem__(self, idx):\n",
    "        if torch.is_tensor(idx):\n",
    "            idx = idx.tolist()\n",
    "\n",
    "        bc = self.dataset[0][idx, :, :, :]\n",
    "        tgt = self.dataset[1][idx, :, :, :]\n",
    "        \n",
    "        sample = {'boundary_conditions': bc, 'target': tgt}\n",
    "\n",
    "        if self.transform:\n",
    "            sample = self.transform(sample)\n",
    "\n",
    "        return sample"
   ]
  },
  {
   "cell_type": "code",
   "execution_count": 6,
   "metadata": {},
   "outputs": [
    {
     "name": "stdout",
     "output_type": "stream",
     "text": [
      "D:\\Ansys Simulations\\Project\\2D\\data\\proof_of_concept_V2\\scaled\\arrays\\input\n",
      "path contains 'input' and 'output'\n"
     ]
    }
   ],
   "source": [
    "## create dataset\n",
    "folders_path =  pathlib.Path('D:/Ansys Simulations/Project/2D/data/proof_of_concept_V2/scaled/arrays')\n",
    "dataset = TwoD_Dataset(folders_path, glob_parameter = '*.npy')"
   ]
  },
  {
   "cell_type": "code",
   "execution_count": 316,
   "metadata": {},
   "outputs": [
    {
     "data": {
      "text/plain": [
       "torch.Size([7, 32, 32])"
      ]
     },
     "execution_count": 316,
     "metadata": {},
     "output_type": "execute_result"
    }
   ],
   "source": [
    "dataset[1]['boundary_conditions'].shape"
   ]
  },
  {
   "cell_type": "code",
   "execution_count": 7,
   "metadata": {},
   "outputs": [
    {
     "data": {
      "text/plain": [
       "<torch.utils.data.dataloader.DataLoader at 0x2c93f4a9ec8>"
      ]
     },
     "execution_count": 7,
     "metadata": {},
     "output_type": "execute_result"
    }
   ],
   "source": [
    "## create dataloader object\n",
    "##  transforms needto be applied to dataset step\n",
    "dataloader = torch.utils.data.DataLoader(dataset, batch_size=4,\n",
    "                        shuffle=True, num_workers=3)\n",
    "dataloader"
   ]
  },
  {
   "cell_type": "code",
   "execution_count": 318,
   "metadata": {},
   "outputs": [],
   "source": [
    "#torch.ones(3)*np.cos(np.random.uniform(low = -np.pi, high = np.pi))"
   ]
  },
  {
   "cell_type": "code",
   "execution_count": 61,
   "metadata": {},
   "outputs": [
    {
     "name": "stdout",
     "output_type": "stream",
     "text": [
      "\n",
      " Create dummy image\n",
      "tensor([[[[0., 0., 1., 0., 0., 0., 0., 0., 0., 0., 0., 0., 0., 0., 0., 0., 0.],\n",
      "          [0., 0., 1., 0., 0., 0., 0., 0., 0., 0., 0., 0., 0., 0., 0., 0., 0.],\n",
      "          [0., 0., 1., 0., 0., 0., 0., 0., 0., 0., 0., 0., 0., 0., 0., 0., 0.],\n",
      "          [0., 0., 1., 0., 0., 0., 0., 0., 0., 0., 0., 0., 0., 0., 0., 0., 0.],\n",
      "          [0., 0., 1., 0., 0., 0., 0., 0., 0., 0., 0., 0., 0., 0., 0., 0., 0.],\n",
      "          [0., 0., 1., 0., 0., 0., 0., 0., 0., 0., 0., 0., 0., 0., 0., 0., 0.],\n",
      "          [0., 0., 1., 0., 0., 0., 0., 0., 0., 0., 0., 0., 0., 0., 0., 0., 0.],\n",
      "          [0., 0., 1., 0., 0., 0., 0., 0., 0., 0., 0., 0., 0., 0., 0., 0., 0.],\n",
      "          [0., 0., 1., 0., 0., 0., 0., 0., 0., 0., 0., 0., 0., 0., 0., 0., 0.],\n",
      "          [0., 0., 1., 0., 0., 0., 0., 0., 0., 0., 0., 0., 0., 0., 0., 0., 0.],\n",
      "          [0., 0., 1., 0., 0., 0., 0., 0., 0., 0., 0., 0., 0., 0., 0., 0., 0.],\n",
      "          [0., 0., 1., 0., 0., 0., 0., 0., 0., 0., 0., 0., 0., 0., 0., 0., 0.],\n",
      "          [0., 0., 1., 0., 0., 0., 0., 0., 0., 0., 0., 0., 0., 0., 0., 0., 0.],\n",
      "          [0., 0., 1., 0., 0., 0., 0., 0., 0., 0., 0., 0., 0., 0., 0., 0., 0.],\n",
      "          [0., 0., 1., 0., 0., 0., 0., 0., 0., 0., 0., 0., 0., 0., 0., 0., 0.],\n",
      "          [0., 0., 1., 0., 0., 0., 0., 0., 0., 0., 0., 0., 0., 0., 0., 0., 0.],\n",
      "          [0., 0., 1., 0., 0., 0., 0., 0., 0., 0., 0., 0., 0., 0., 0., 0., 0.]]]])\n",
      "tensor([135.])\n",
      "\n",
      " # Calculate rotation for each target pixel\n",
      "9.0\n",
      "9.0\n",
      "\n",
      " # Use meshgrid for pixel coords\n",
      "tensor([ 0,  0,  0,  0,  0,  0,  0,  0,  0,  0,  0,  0,  0,  0,  0,  0,  0,  1,\n",
      "         1,  1,  1,  1,  1,  1,  1,  1,  1,  1,  1,  1,  1,  1,  1,  1,  2,  2,\n",
      "         2,  2,  2,  2,  2,  2,  2,  2,  2,  2,  2,  2,  2,  2,  2,  3,  3,  3,\n",
      "         3,  3,  3,  3,  3,  3,  3,  3,  3,  3,  3,  3,  3,  3,  4,  4,  4,  4,\n",
      "         4,  4,  4,  4,  4,  4,  4,  4,  4,  4,  4,  4,  4,  5,  5,  5,  5,  5,\n",
      "         5,  5,  5,  5,  5,  5,  5,  5,  5,  5,  5,  5,  6,  6,  6,  6,  6,  6,\n",
      "         6,  6,  6,  6,  6,  6,  6,  6,  6,  6,  6,  7,  7,  7,  7,  7,  7,  7,\n",
      "         7,  7,  7,  7,  7,  7,  7,  7,  7,  7,  8,  8,  8,  8,  8,  8,  8,  8,\n",
      "         8,  8,  8,  8,  8,  8,  8,  8,  8,  9,  9,  9,  9,  9,  9,  9,  9,  9,\n",
      "         9,  9,  9,  9,  9,  9,  9,  9, 10, 10, 10, 10, 10, 10, 10, 10, 10, 10,\n",
      "        10, 10, 10, 10, 10, 10, 10, 11, 11, 11, 11, 11, 11, 11, 11, 11, 11, 11,\n",
      "        11, 11, 11, 11, 11, 11, 12, 12, 12, 12, 12, 12, 12, 12, 12, 12, 12, 12,\n",
      "        12, 12, 12, 12, 12, 13, 13, 13, 13, 13, 13, 13, 13, 13, 13, 13, 13, 13,\n",
      "        13, 13, 13, 13, 14, 14, 14, 14, 14, 14, 14, 14, 14, 14, 14, 14, 14, 14,\n",
      "        14, 14, 14, 15, 15, 15, 15, 15, 15, 15, 15, 15, 15, 15, 15, 15, 15, 15,\n",
      "        15, 15, 16, 16, 16, 16, 16, 16, 16, 16, 16, 16, 16, 16, 16, 16, 16, 16,\n",
      "        16])\n",
      "tensor([ 0,  1,  2,  3,  4,  5,  6,  7,  8,  9, 10, 11, 12, 13, 14, 15, 16,  0,\n",
      "         1,  2,  3,  4,  5,  6,  7,  8,  9, 10, 11, 12, 13, 14, 15, 16,  0,  1,\n",
      "         2,  3,  4,  5,  6,  7,  8,  9, 10, 11, 12, 13, 14, 15, 16,  0,  1,  2,\n",
      "         3,  4,  5,  6,  7,  8,  9, 10, 11, 12, 13, 14, 15, 16,  0,  1,  2,  3,\n",
      "         4,  5,  6,  7,  8,  9, 10, 11, 12, 13, 14, 15, 16,  0,  1,  2,  3,  4,\n",
      "         5,  6,  7,  8,  9, 10, 11, 12, 13, 14, 15, 16,  0,  1,  2,  3,  4,  5,\n",
      "         6,  7,  8,  9, 10, 11, 12, 13, 14, 15, 16,  0,  1,  2,  3,  4,  5,  6,\n",
      "         7,  8,  9, 10, 11, 12, 13, 14, 15, 16,  0,  1,  2,  3,  4,  5,  6,  7,\n",
      "         8,  9, 10, 11, 12, 13, 14, 15, 16,  0,  1,  2,  3,  4,  5,  6,  7,  8,\n",
      "         9, 10, 11, 12, 13, 14, 15, 16,  0,  1,  2,  3,  4,  5,  6,  7,  8,  9,\n",
      "        10, 11, 12, 13, 14, 15, 16,  0,  1,  2,  3,  4,  5,  6,  7,  8,  9, 10,\n",
      "        11, 12, 13, 14, 15, 16,  0,  1,  2,  3,  4,  5,  6,  7,  8,  9, 10, 11,\n",
      "        12, 13, 14, 15, 16,  0,  1,  2,  3,  4,  5,  6,  7,  8,  9, 10, 11, 12,\n",
      "        13, 14, 15, 16,  0,  1,  2,  3,  4,  5,  6,  7,  8,  9, 10, 11, 12, 13,\n",
      "        14, 15, 16,  0,  1,  2,  3,  4,  5,  6,  7,  8,  9, 10, 11, 12, 13, 14,\n",
      "        15, 16,  0,  1,  2,  3,  4,  5,  6,  7,  8,  9, 10, 11, 12, 13, 14, 15,\n",
      "        16])\n",
      "torch.Size([289, 2])\n",
      "torch.Size([2, 2])\n",
      "\n",
      " # Calculate indices using rotation matrix\n",
      "tensor([[[[0., 0., 0., 0., 0., 0., 0., 0., 0., 0., 0., 0., 0., 0., 0., 0., 0.],\n",
      "          [0., 0., 0., 0., 0., 0., 0., 0., 0., 0., 0., 0., 0., 0., 0., 0., 0.],\n",
      "          [0., 0., 0., 0., 0., 0., 0., 0., 0., 0., 0., 0., 0., 0., 0., 0., 0.],\n",
      "          [0., 0., 0., 0., 0., 0., 0., 0., 0., 0., 0., 0., 0., 0., 0., 0., 0.],\n",
      "          [0., 0., 0., 0., 0., 0., 0., 0., 0., 0., 0., 0., 0., 0., 0., 0., 0.],\n",
      "          [0., 0., 0., 0., 0., 0., 0., 0., 0., 0., 0., 0., 0., 0., 0., 0., 0.],\n",
      "          [0., 0., 0., 0., 0., 0., 0., 0., 0., 0., 0., 0., 0., 0., 0., 0., 0.],\n",
      "          [0., 0., 0., 0., 0., 0., 0., 0., 0., 0., 0., 0., 0., 0., 0., 0., 0.],\n",
      "          [0., 0., 0., 0., 0., 0., 0., 0., 0., 0., 0., 0., 0., 0., 0., 0., 0.],\n",
      "          [0., 0., 0., 0., 0., 0., 0., 0., 0., 0., 0., 0., 0., 0., 0., 0., 0.],\n",
      "          [0., 0., 0., 0., 0., 0., 0., 0., 0., 0., 0., 0., 0., 0., 0., 0., 0.],\n",
      "          [0., 0., 0., 0., 0., 0., 0., 0., 0., 0., 0., 0., 0., 0., 0., 0., 0.],\n",
      "          [0., 0., 0., 0., 0., 0., 0., 0., 0., 0., 0., 0., 0., 0., 0., 0., 0.],\n",
      "          [0., 0., 0., 0., 0., 0., 0., 0., 0., 0., 0., 0., 0., 0., 0., 0., 0.],\n",
      "          [0., 0., 0., 0., 0., 0., 0., 0., 0., 0., 0., 0., 0., 0., 0., 0., 0.],\n",
      "          [0., 0., 0., 0., 0., 0., 0., 0., 0., 0., 0., 0., 0., 0., 0., 0., 0.],\n",
      "          [0., 0., 0., 0., 0., 0., 0., 0., 0., 0., 0., 0., 0., 0., 0., 0., 0.]]]])\n",
      "tensor([[[[0., 0., 0., 0., 0., 0., 0., 0., 0., 0., 0., 0., 0., 0., 0., 0., 0.],\n",
      "          [0., 0., 0., 0., 0., 0., 0., 0., 0., 0., 0., 0., 0., 0., 0., 0., 0.],\n",
      "          [0., 0., 0., 0., 0., 0., 0., 0., 0., 0., 0., 0., 0., 0., 0., 0., 0.],\n",
      "          [0., 0., 0., 0., 0., 0., 0., 0., 0., 0., 0., 0., 0., 0., 0., 0., 0.],\n",
      "          [0., 0., 0., 0., 0., 0., 0., 0., 0., 0., 0., 0., 0., 0., 0., 0., 0.],\n",
      "          [0., 0., 0., 0., 0., 0., 0., 0., 0., 0., 0., 0., 0., 0., 0., 0., 0.],\n",
      "          [0., 0., 0., 0., 0., 0., 0., 0., 0., 0., 0., 0., 0., 0., 0., 0., 0.],\n",
      "          [0., 0., 0., 0., 0., 0., 0., 0., 0., 0., 0., 0., 0., 0., 0., 0., 0.],\n",
      "          [0., 0., 0., 0., 0., 0., 0., 0., 0., 0., 0., 0., 0., 0., 0., 0., 0.],\n",
      "          [0., 0., 0., 0., 0., 0., 0., 0., 0., 0., 0., 0., 0., 0., 0., 0., 0.],\n",
      "          [0., 0., 0., 0., 0., 0., 0., 0., 0., 0., 0., 0., 0., 0., 0., 0., 0.],\n",
      "          [0., 0., 0., 0., 0., 0., 0., 0., 0., 0., 0., 0., 0., 0., 0., 0., 0.],\n",
      "          [0., 0., 0., 0., 0., 0., 0., 0., 0., 0., 0., 0., 0., 0., 0., 0., 1.],\n",
      "          [0., 0., 0., 0., 0., 0., 0., 0., 0., 0., 0., 0., 0., 0., 0., 1., 0.],\n",
      "          [0., 0., 0., 0., 0., 0., 0., 0., 0., 0., 0., 0., 0., 0., 1., 0., 0.],\n",
      "          [0., 0., 0., 0., 0., 0., 0., 0., 0., 0., 0., 0., 0., 1., 0., 0., 0.],\n",
      "          [0., 0., 0., 0., 0., 0., 0., 0., 0., 0., 0., 0., 1., 0., 0., 0., 0.]]]])\n"
     ]
    }
   ],
   "source": [
    "'''print(\"\\n grid test\")\n",
    "x = torch.tensor([1, 2])\n",
    "y = torch.tensor([4, 5])\n",
    "grid_x, grid_y = torch.meshgrid(x, y)\n",
    "print(grid_x)\n",
    "print(grid_y)'''\n",
    "\n",
    "resolution = 17\n",
    "\n",
    "print(\"\\n Create dummy image\")\n",
    "zeroes = torch.zeros(1, 1, resolution, resolution)\n",
    "im[:, :, :, 2] = 1.\n",
    "print(im)\n",
    "\n",
    "angle = torch.tensor([135 * np.pi / 180.])\n",
    "print(angle/np.pi*180)\n",
    "## rot matrix\n",
    "\n",
    "rot_matrix = torch.tensor([[np.cos(angle), np.sin(angle)],\n",
    "                                [-1.0*np.sin(angle), np.cos(angle)]])\n",
    "\n",
    "print(\"\\n # Calculate rotation for each target pixel\")\n",
    "x_mid = (im.size(2) + 1) / 2.\n",
    "print(x_mid)\n",
    "y_mid = (im.size(3) + 1) / 2.\n",
    "print(y_mid)\n",
    "im_rot = torch.zeros_like(im)\n",
    "\n",
    "\n",
    "print(\"\\n # Use meshgrid for pixel coords\")\n",
    "xv, yv = torch.meshgrid(torch.arange(im.size(2)), torch.arange(im.size(3)))\n",
    "xv = xv.contiguous()\n",
    "yv = yv.contiguous()\n",
    "#print(xv)\n",
    "#print(yv)\n",
    "src_ind = torch.cat((\n",
    "    (xv.float() - x_mid).view(-1, 1),\n",
    "    (yv.float() - y_mid).view(-1, 1)),\n",
    "    dim=1\n",
    ")\n",
    "print(xv.view(-1))\n",
    "print(yv.view(-1))\n",
    "print(src_ind.shape)\n",
    "print(rot_matrix.t().shape)\n",
    "\n",
    "#print(src_ind)\n",
    "\n",
    "print( \"\\n # Calculate indices using rotation matrix\")\n",
    "src_ind = torch.matmul(src_ind, rot_matrix.t())\n",
    "src_ind = torch.round(src_ind)\n",
    "\n",
    "src_ind += torch.tensor([[x_mid, y_mid]])\n",
    "\n",
    "# Set out of bounds indices to limits\n",
    "src_ind[src_ind < 0] = 0.\n",
    "src_ind[:, 0][src_ind[:, 0] >= im.size(2)] = float(im.size(2)) - 1\n",
    "src_ind[:, 1][src_ind[:, 1] >= im.size(3)] = float(im.size(3)) - 1\n",
    " \n",
    "im_rot2 = torch.zeros_like(im)\n",
    "src_ind = src_ind.long()\n",
    "im_rot2[:, :, xv.view(-1), yv.view(-1)] = im[:, :, src_ind[:, 0], src_ind[:, 1]]\n",
    "im_rot2 = im_rot2.view(1, 1, resolution, resolution)\n",
    "print(im_rot)\n",
    "print(im_rot2)"
   ]
  },
  {
   "cell_type": "code",
   "execution_count": 161,
   "metadata": {},
   "outputs": [],
   "source": [
    "## create a vector rotation transform\n",
    "\n",
    "\n",
    "class DirectionalRotation(object):\n",
    "    \"\"\"Rotate a vector with directional coordinates.\n",
    "\n",
    "    Args:\n",
    "        output_size (tuple or int): Desired output size. If tuple, output is\n",
    "            matched to output_size. If int, smaller of image edges is matched\n",
    "            to output_size keeping aspect ratio the same.\n",
    "    \"\"\"\n",
    "\n",
    "    def __init__(self, output_size, dimensionality):\n",
    "        assert isinstance(output_size, (int, tuple))\n",
    "        self.output_size = output_size\n",
    "        self.dimensionality = dimensionality.lower()\n",
    "\n",
    "    def __call__(self, sample):\n",
    "        boundary_condition, target = sample['boundary_conditions'], sample['target']\n",
    "        # get angle\n",
    "        \"print(boundary_condition.shape)\"\n",
    "        angle = np.random.uniform(low = -np.pi, high = np.pi)\n",
    "        \"print(angle)\"\n",
    "        \n",
    "        assert self.dimensionality == '2d', '3D NOT IMPLEMENTED YET'\n",
    "        \n",
    "        ###############################\n",
    "        ## boundary conditions\n",
    "        ###############################\n",
    "        \n",
    "        ######\n",
    "        ###### rotate directional vectors ####\n",
    "        ######\n",
    "        boundary_condition_temp = boundary_condition.clone()\n",
    "        #print(boundary_condition_temp.shape)\n",
    "        boundary_condition_temp[1:2 , :, :] = boundary_condition[1:2 , :, :]*np.cos(angle) \\\n",
    "                                                - boundary_condition[2:3 , :, :]*np.sin(angle)\n",
    "        \n",
    "        boundary_condition_temp[2:3 , :, :] = boundary_condition[1:2 , :, :]*np.sin(angle) \\\n",
    "                                                + boundary_condition[2:3 , :, :]*np.cos(angle)\n",
    "        \n",
    "        boundary_condition_temp[4:5 , :, :] = boundary_condition[4:5 , :, :]*np.cos(angle) \\\n",
    "                                                - boundary_condition[5:6 , :, :]*np.sin(angle)\n",
    "        \n",
    "        boundary_condition_temp[5:6 , :, :] = boundary_condition[4:5 , :, :]*np.sin(angle) \\\n",
    "                                                + boundary_condition[5:6 , :, :]*np.cos(angle)\n",
    "        #####\n",
    "        ##### rotate tensor ####\n",
    "        #####\n",
    "        \n",
    "        # Calculate rotation with inverse rotation matrix\n",
    "        rot_matrix = torch.tensor([[np.cos(angle), np.sin(angle)],\n",
    "                                [-1.0*np.sin(angle), np.cos(angle)]]).float()\n",
    "            \n",
    "        # Calculate rotation for each target pixel\"\n",
    "        x_mid = (boundary_condition.size(1) + 1) / 2\n",
    "        y_mid = (boundary_condition.size(2) + 1) / 2\n",
    "\n",
    "        # Use meshgrid for pixel coords\")\n",
    "        xv, yv = torch.meshgrid(torch.arange(boundary_condition.size(1)), torch.arange(boundary_condition.size(2)))\n",
    "        xv = xv.contiguous()\n",
    "        yv = yv.contiguous()\n",
    "        src_ind = torch.cat((\n",
    "            (xv.float() - x_mid).view(-1, 1),\n",
    "            (yv.float() - y_mid).view(-1, 1)),\n",
    "            dim=1\n",
    "                )\n",
    "            \n",
    "        # Calculate indices using rotation matrix\n",
    "        src_ind = torch.matmul(src_ind, rot_matrix.t())\n",
    "        src_ind = torch.round(src_ind)    \n",
    "        \n",
    "        # translate to mid\n",
    "        src_ind += torch.tensor([[x_mid, y_mid]])\n",
    "        \n",
    "        # Set out of bounds indices to limits\n",
    "        src_ind[src_ind < 0] = 0.\n",
    "        src_ind[:, 0][src_ind[:, 0] >= boundary_condition.size(1)] = float(boundary_condition.size(1)) - 1\n",
    "        src_ind[:, 1][src_ind[:, 1] >= boundary_condition.size(2)] = float(boundary_condition.size(2)) - 1\n",
    "        \n",
    "        src_ind = src_ind.long()\n",
    "        \n",
    "        ####################################\n",
    "        ## targets\n",
    "        ####################################\n",
    "        ######\n",
    "        ###### rotate directional vectors ####\n",
    "        ######\n",
    "        target_temp = target.clone()\n",
    "        target_temp[1:2 , :, :] = target[1:2 , :, :]*np.cos(angle) \\\n",
    "                                                - target[2:3 , :, :]*np.sin(angle)\n",
    "        \n",
    "        target_temp[2:3 , :, :] = target[1:2 , :, :]*np.sin(angle) \\\n",
    "                                                + target[2:3 , :, :]*np.cos(angle)\n",
    "\n",
    "        #####\n",
    "        ##### rotate tensors ####\n",
    "        #####\n",
    "        boundary_conditions_rotated = torch.zeros_like(boundary_condition)\n",
    "        target_rotated = torch.zeros_like(target)\n",
    "        target_rotated[:, xv.view(-1), yv.view(-1)] = target_temp[:, src_ind[:, 0], src_ind[:, 1]]\n",
    "        boundary_conditions_rotated[:, xv.view(-1), yv.view(-1)] = boundary_condition_temp[:, src_ind[:, 0], src_ind[:, 1]]\n",
    "        \"\"\"#TEST: tests if the magnitude is still the same after rotation. It should be.\n",
    "        print(torch.mean(torch.sqrt((target[1:2,:,:]**2 + target[2:3,:,:]**2))))\n",
    "        print(torch.mean(torch.sqrt((target_temp[1:2,:,:]**2 + target_temp[2:3,:,:]**2))))\"\"\"\n",
    "        \n",
    "        \n",
    "        # detach tensors to counter leaf error\n",
    "        boundary_conditions_rotated = boundary_conditions_rotated.detach()\n",
    "        boundary_conditions_rotated.requires_grad = True\n",
    "        target_rotated = target_rotated.detach()\n",
    "        target_rotated.requires_grad = True\n",
    "        #print('going')\n",
    "        \n",
    "\n",
    "        return {'boundary_conditions': boundary_conditions_rotated, 'target': target_rotated}\n",
    "    \n",
    "direc_test = DirectionalRotation(32, dimensionality = '2D')"
   ]
  },
  {
   "cell_type": "code",
   "execution_count": 32,
   "metadata": {},
   "outputs": [
    {
     "name": "stdout",
     "output_type": "stream",
     "text": [
      "102\n"
     ]
    }
   ],
   "source": [
    "## try to plot rotated images\n",
    "#plot ground truth\n",
    "sample =96\n",
    "print(len(dataset))\n",
    "sample_dict = direc_test(dataset[:])"
   ]
  },
  {
   "cell_type": "code",
   "execution_count": null,
   "metadata": {},
   "outputs": [],
   "source": []
  },
  {
   "cell_type": "code",
   "execution_count": 163,
   "metadata": {},
   "outputs": [
    {
     "name": "stdout",
     "output_type": "stream",
     "text": [
      "D:\\Ansys Simulations\\Project\\2D\\data\\proof_of_concept_V2\\scaled\\arrays\\input\n",
      "path contains 'input' and 'output'\n"
     ]
    },
    {
     "data": {
      "text/plain": [
       "<torch.utils.data.dataloader.DataLoader at 0x2c904fc6a88>"
      ]
     },
     "execution_count": 163,
     "metadata": {},
     "output_type": "execute_result"
    }
   ],
   "source": [
    "\n",
    "## create dataset\n",
    "folders_path =  pathlib.Path('D:/Ansys Simulations/Project/2D/data/proof_of_concept_V2/scaled/arrays')\n",
    "\n",
    "## transform the dataset\n",
    "transformed_dataset = TwoD_Dataset(folders_path, glob_parameter = '*.npy',\n",
    "                                           transform = DirectionalRotation(32, dimensionality = '2D'))\n",
    "\n",
    "## create the dataloader\n",
    "transformed_dataloader = torch.utils.data.DataLoader(transformed_dataset, batch_size=6,\n",
    "                        shuffle=True)\n",
    "transformed_dataloader"
   ]
  },
  {
   "cell_type": "code",
   "execution_count": 164,
   "metadata": {},
   "outputs": [
    {
     "name": "stdout",
     "output_type": "stream",
     "text": [
      "<class '__main__.TwoD_Dataset'>\n",
      "1\n",
      "2\n",
      "3\n",
      "(32, 32, 7) (32, 32, 4)\n",
      "4\n"
     ]
    },
    {
     "data": {
      "image/png": "[encoded data removed]",
      "text/plain": [
       "<Figure size 1080x432 with 10 Axes>"
      ]
     },
     "metadata": {
      "needs_background": "light"
     },
     "output_type": "display_data"
    }
   ],
   "source": [
    "#plot ground truth\n",
    "sample =20\n",
    "print(type(transformed_dataset))\n",
    "sample_transformed = transformed_dataset[sample]\n",
    "print('1')\n",
    "sample_bc = np.moveaxis(sample_transformed['boundary_conditions'].data.clone().data.numpy(), 0, 2)\n",
    "print('2')\n",
    "sample_target = np.moveaxis(sample_transformed['target'].clone().data.numpy(), 0, 2)\n",
    "print('3')\n",
    "print(sample_bc.shape, sample_target.shape)\n",
    "print('4')\n",
    "plot_grid_2d(sample_bc, sample_target)"
   ]
  },
  {
   "cell_type": "code",
   "execution_count": 58,
   "metadata": {},
   "outputs": [
    {
     "name": "stdout",
     "output_type": "stream",
     "text": [
      "0 torch.Size([6, 7, 32, 32]) torch.Size([6, 4, 32, 32])\n",
      "1 torch.Size([6, 7, 32, 32]) torch.Size([6, 4, 32, 32])\n",
      "2 torch.Size([6, 7, 32, 32]) torch.Size([6, 4, 32, 32])\n",
      "3 torch.Size([6, 7, 32, 32]) torch.Size([6, 4, 32, 32])\n",
      "4 torch.Size([6, 7, 32, 32]) torch.Size([6, 4, 32, 32])\n",
      "5 torch.Size([6, 7, 32, 32]) torch.Size([6, 4, 32, 32])\n",
      "6 torch.Size([6, 7, 32, 32]) torch.Size([6, 4, 32, 32])\n",
      "7 torch.Size([6, 7, 32, 32]) torch.Size([6, 4, 32, 32])\n",
      "8 torch.Size([6, 7, 32, 32]) torch.Size([6, 4, 32, 32])\n",
      "9 torch.Size([6, 7, 32, 32]) torch.Size([6, 4, 32, 32])\n",
      "10 torch.Size([6, 7, 32, 32]) torch.Size([6, 4, 32, 32])\n",
      "11 torch.Size([6, 7, 32, 32]) torch.Size([6, 4, 32, 32])\n",
      "12 torch.Size([6, 7, 32, 32]) torch.Size([6, 4, 32, 32])\n",
      "13 torch.Size([6, 7, 32, 32]) torch.Size([6, 4, 32, 32])\n",
      "14 torch.Size([6, 7, 32, 32]) torch.Size([6, 4, 32, 32])\n",
      "15 torch.Size([6, 7, 32, 32]) torch.Size([6, 4, 32, 32])\n",
      "16 torch.Size([6, 7, 32, 32]) torch.Size([6, 4, 32, 32])\n"
     ]
    }
   ],
   "source": [
    "for i_batch, sample_batched in enumerate(transformed_dataloader):\n",
    "    print(i_batch, sample_batched['boundary_conditions'].size(),\n",
    "          sample_batched['target'].size())"
   ]
  },
  {
   "cell_type": "markdown",
   "metadata": {},
   "source": [
    "## BASE"
   ]
  },
  {
   "cell_type": "code",
   "execution_count": 173,
   "metadata": {},
   "outputs": [],
   "source": [
    "## define the neural network's general shape\n",
    "\n",
    "class ConvNet(nn.Module):\n",
    "    def __init__(self):\n",
    "        super(ConvNet, self).__init__()\n",
    "        \n",
    "        ## convolutional layers\n",
    "        self.conv1 = nn.Conv2d(in_channels = 7, out_channels = 14, kernel_size = 3, padding = 1)\n",
    "        self.conv2 = nn.Conv2d(in_channels = 14, out_channels = 16, kernel_size = 3, padding = 1)\n",
    "        self.deconv1 = nn.ConvTranspose2d(in_channels = 16, out_channels = 14, kernel_size = 3, padding = 1)\n",
    "        self.deconv2 = nn.ConvTranspose2d(in_channels = 14, out_channels = 10, kernel_size = 3, padding = 1)\n",
    "        self.deconv3 = nn.ConvTranspose2d(in_channels = 10, out_channels = 7, kernel_size = 3, padding = 1)\n",
    "        self.deconv4 = nn.ConvTranspose2d(in_channels = 7, out_channels = 3, kernel_size = 3, padding = 1)\n",
    "        \n",
    "        ## activation\n",
    "        self.hardtanh = nn.Hardtanh()\n",
    "        \n",
    "        \n",
    "        ##possible for later: MultiheadAttention\n",
    "        self.multihead_attn_middle = SelfAttention(in_dim = 16, activation = None)\n",
    "        \n",
    "        \n",
    "        ### spatial transform network for spatial invariance ###\n",
    "        self.localization = nn.Sequential(\n",
    "            nn.Conv2d(1, 8, kernel_size=7),\n",
    "            nn.MaxPool2d(2, stride=2),\n",
    "            nn.ReLU(True),\n",
    "            nn.Conv2d(8, 10, kernel_size=5),\n",
    "            nn.MaxPool2d(2, stride=2),\n",
    "            nn.ReLU(True)\n",
    "        )\n",
    "        # Regressor for the 3 * 2 affine matrix\n",
    "        self.fc_loc = nn.Sequential(\n",
    "            nn.Linear(10 * 3 * 3, 32),\n",
    "            nn.ReLU(True),\n",
    "            nn.Linear(32, 3 * 2)\n",
    "        )\n",
    "        \n",
    "    def stn(self, x):\n",
    "        xs = self.localization(x)\n",
    "        xs = xs.view(-1, 10 * 3 * 3)\n",
    "        theta = self.fc_loc(xs)\n",
    "        theta = theta.view(-1, 2, 3)\n",
    "\n",
    "        grid = F.affine_grid(theta, x.size())\n",
    "        x = F.grid_sample(x, grid)\n",
    "\n",
    "        return x\n",
    "    \n",
    "    def forward(self, boundary_conditions):\n",
    "        \n",
    "        # spatially transform the input\n",
    "        x = self.stn(x)\n",
    "        \n",
    "        \n",
    "        #print(boundary_conditions.shape)\n",
    "        x = self.conv1(boundary_conditions)\n",
    "        x = self.hardtanh(x)\n",
    "        #print(x.shape)\n",
    "        x = self.conv2(x)\n",
    "        x = self.multihead_attn_middle(x)\n",
    "        x = self.hardtanh(x)\n",
    "        #print(x.shape)\n",
    "        x = self.deconv1(x)\n",
    "        x = self.hardtanh(x)\n",
    "       #print(x.shape)\n",
    "        x = self.deconv2(x)\n",
    "        x = self.hardtanh(x)\n",
    "        #print(x.shape)\n",
    "        x = self.deconv3(x)\n",
    "        x = self.hardtanh(x)\n",
    "       # print(x.shape)\n",
    "        x = self.deconv4(x)\n",
    "        x = self.hardtanh(x)\n",
    "        #print(x.shape)\n",
    "        return x\n",
    "    \n",
    "net = ConvNet().cuda().float()\n",
    "\n",
    "## test to see if getting the correct size\n",
    "#net.forward(dataset[0][0:1,:,:,:].cuda())"
   ]
  },
  {
   "cell_type": "code",
   "execution_count": null,
   "metadata": {},
   "outputs": [],
   "source": []
  },
  {
   "cell_type": "code",
   "execution_count": 174,
   "metadata": {},
   "outputs": [],
   "source": [
    "## define criterion\n",
    "criterion = nn.MSELoss().cuda()\n",
    "learn_rate = 0.0002\n",
    "optimizer = torch.optim.Adam(params = net.parameters(), lr=learn_rate, betas=(0.9, 0.999))"
   ]
  },
  {
   "cell_type": "code",
   "execution_count": null,
   "metadata": {},
   "outputs": [],
   "source": []
  },
  {
   "cell_type": "code",
   "execution_count": 175,
   "metadata": {},
   "outputs": [
    {
     "name": "stdout",
     "output_type": "stream",
     "text": [
      "D:\\Ansys Simulations\\Project\\2D\\data\\proof_of_concept_V2\\scaled\\arrays\\input\n",
      "path contains 'input' and 'output'\n",
      "102\n",
      "91 11\n"
     ]
    }
   ],
   "source": [
    "## create dataset\n",
    "folders_path =  pathlib.Path('D:/Ansys Simulations/Project/2D/data/proof_of_concept_V2/scaled/arrays')\n",
    "\n",
    "## transform the dataset\n",
    "transformed_dataset = TwoD_Dataset(folders_path, glob_parameter = '*.npy',\n",
    "                                           transform = DirectionalRotation(32, dimensionality = '2D'))\n",
    "## train dataset \n",
    "print(len(transformed_dataset))\n",
    "train_percentage = 0.9\n",
    "train_length = int(len(transformed_dataset)*train_percentage)\n",
    "test_length = len(transformed_dataset) - train_length\n",
    "train_dataset, val_dataset = torch.utils.data.random_split(transformed_dataset, (train_length, test_length))\n",
    "print(len(train_dataset), len(val_dataset))\n",
    "\n",
    "\n",
    "batch_size = 6\n",
    "## create the dataloader\n",
    "train_dataloader = torch.utils.data.DataLoader(train_dataset, batch_size,\n",
    "                        shuffle=True)\n",
    "val_dataloader = torch.utils.data.DataLoader(val_dataset, batch_size,\n",
    "                        shuffle=True)"
   ]
  },
  {
   "cell_type": "code",
   "execution_count": 176,
   "metadata": {},
   "outputs": [
    {
     "data": {
      "text/html": [
       "\n",
       "                Logging results to <a href=\"https://wandb.com\" target=\"_blank\">Weights & Biases</a> <a href=\"https://docs.wandb.com/integrations/jupyter.html\" target=\"_blank\">(Documentation)</a>.<br/>\n",
       "                Project page: <a href=\"https://app.wandb.ai/walther/Project\" target=\"_blank\">https://app.wandb.ai/walther/Project</a><br/>\n",
       "                Run page: <a href=\"https://app.wandb.ai/walther/Project/runs/3hseip32\" target=\"_blank\">https://app.wandb.ai/walther/Project/runs/3hseip32</a><br/>\n",
       "            "
      ],
      "text/plain": [
       "<IPython.core.display.HTML object>"
      ]
     },
     "metadata": {},
     "output_type": "display_data"
    },
    {
     "name": "stderr",
     "output_type": "stream",
     "text": [
      "wandb: Wandb version 0.9.2 is available!  To upgrade, please run:\n",
      "wandb:  $ pip install wandb --upgrade\n"
     ]
    },
    {
     "data": {
      "text/plain": [
       "W&B Run: https://app.wandb.ai/walther/Project/runs/3hseip32"
      ]
     },
     "execution_count": 176,
     "metadata": {},
     "output_type": "execute_result"
    }
   ],
   "source": [
    "## setup logging\n",
    "epochs = 400\n",
    "wandb.init(config={\"epochs\": epochs, \"batch_size\": batch_size,'learning_rate': learn_rate, 'architecture':'base_with_attention_architecture', 'database': 'v3'})"
   ]
  },
  {
   "cell_type": "code",
   "execution_count": 177,
   "metadata": {},
   "outputs": [
    {
     "data": {
      "text/html": [
       "<iframe src=\"https://app.wandb.ai/walther/Project/runs/3hseip32?jupyter=true&state=paused\" style=\"border:none;width:100%;height:420px\">\n",
       "                </iframe>"
      ],
      "text/plain": [
       "<wandb.jupyter.Run at 0x2c908a2d088>"
      ]
     },
     "metadata": {},
     "output_type": "display_data"
    },
    {
     "name": "stdout",
     "output_type": "stream",
     "text": [
      "1 1 0.01821650192141533 0.0033605316653847694\n"
     ]
    },
    {
     "name": "stderr",
     "output_type": "stream",
     "text": [
      "wandb: Wandb version 0.9.2 is available!  To upgrade, please run:\n",
      "wandb:  $ pip install wandb --upgrade\n"
     ]
    },
    {
     "name": "stdout",
     "output_type": "stream",
     "text": [
      "2 1 0.004765218589454889 0.0009104434866458178\n",
      "3 1 0.004153543151915073 0.0003762934939004481\n",
      "4 1 0.0009414289961569011 0.0003225014428608119\n",
      "5 1 0.009776224382221699 0.000308346888050437\n",
      "6 1 0.000890482624527067 0.00028984842356294394\n",
      "7 1 0.000947934458963573 0.00029734396375715735\n",
      "8 1 0.0007948637939989567 0.0002782421535812318\n",
      "9 1 0.009959938935935497 0.00026746473740786315\n",
      "10 1 0.0008292191778309643 0.00026550067123025655\n",
      "11 1 0.0008473822963424027 0.0002702660160139203\n",
      "12 1 0.0007065738900564611 0.0002507172408513725\n",
      "13 1 0.0007885738741606474 0.0002738909446634352\n",
      "14 1 0.0006681588711217046 0.00025124209932982924\n",
      "15 1 0.0007269371417351067 0.00024139866000041365\n",
      "16 1 0.0025323324371129274 0.0002470302220899612\n",
      "17 1 0.0007407294469885528 0.00022132319863885642\n",
      "18 1 0.0007004893850535154 0.00022734713857062162\n",
      "19 1 0.0005927581805735826 0.00022141701774671673\n",
      "20 1 0.0005696692387573421 0.00023097078665159642\n",
      "21 1 0.0004237275570631027 0.00022753337398171425\n",
      "22 1 0.001041441923007369 0.00020830106805078686\n",
      "23 1 0.0006730295717716217 0.00021542886970564722\n",
      "24 1 0.00875809509307146 0.00020784167572855948\n",
      "25 1 0.0006145760416984558 0.0002163310709875077\n",
      "26 1 0.008541285991668701 0.00020986250601708888\n",
      "27 1 0.00044087032438255847 0.00019931839779019356\n",
      "28 1 0.0010066519025713205 0.0001992945559322834\n",
      "29 1 0.000651532260235399 0.00018465851899236442\n",
      "30 1 0.008563810028135777 0.00020253751426935196\n",
      "31 1 0.00045133536332286894 0.000195244763744995\n",
      "32 1 0.0011054803617298603 0.000183687184471637\n",
      "33 1 0.0002924027503468096 0.0001832371752243489\n",
      "34 1 0.00844664592295885 0.000194975157501176\n",
      "35 1 0.0028130756691098213 0.00018566403887234628\n",
      "36 1 0.000482564588310197 0.00018199283513240517\n",
      "37 1 0.009395054541528225 0.00019497377215884625\n",
      "38 1 0.0005282041383907199 0.0001763411855790764\n",
      "39 1 0.000524854171089828 0.00017852196469902992\n",
      "40 1 0.00037378931301645935 0.00017508468008600175\n",
      "41 1 0.003428811440244317 0.00016927566612139343\n",
      "42 1 0.000270303018623963 0.0001695584913250059\n",
      "43 1 0.0006426221807487309 0.00019070112030021845\n",
      "44 1 0.0022682042326778173 0.0001421357155777514\n",
      "45 1 0.00037564465310424566 0.0001603337761480361\n",
      "46 1 0.0002514790103305131 0.00016615912318229675\n",
      "47 1 0.0003193595912307501 0.00016601582756266\n",
      "48 1 0.0025062458589673042 0.00016891983104869724\n",
      "49 1 0.00033459338010288775 0.00018228283151984216\n",
      "50 1 0.0004538093926385045 0.00016946461983025074\n",
      "51 1 0.00021427078172564507 0.0001614764565601945\n",
      "52 1 0.000396560673834756 0.00016458292957395316\n",
      "53 1 0.0003416861000005156 0.00016700305859558285\n",
      "54 1 0.00034697793307714164 0.00016581123927608132\n",
      "55 1 0.0007282242295332253 0.0001578928902745247\n",
      "56 1 0.0003573816211428493 0.00014215246774256228\n",
      "57 1 0.00040025232010520995 0.00016871258849278093\n",
      "58 1 0.00040345091838389635 0.00016643537674099207\n",
      "59 1 0.000399915617890656 0.00015985244535841048\n",
      "60 1 0.0006837712717242539 0.00015633893781341612\n",
      "61 1 0.00023296741710510105 0.00015623460058122873\n",
      "62 1 0.0007383078336715698 0.00016331479419022797\n",
      "63 1 0.0002971731883008033 0.00015000614803284407\n",
      "64 1 0.0004382148035801947 0.00016482523642480373\n",
      "65 1 0.0003987987001892179 0.0001704347785562277\n",
      "66 1 0.00026991518097929657 0.0001651965023484081\n",
      "67 1 0.0003795911616180092 0.00014891296159476043\n",
      "68 1 0.000317193305818364 0.00016590815503150224\n",
      "69 1 0.0008193948306143284 0.00015379780088551343\n",
      "70 1 0.0003098279994446784 0.00016033653519116343\n",
      "71 1 0.0004430264816619456 0.00016253195353783668\n",
      "72 1 0.000607786001637578 0.00014708921080455183\n",
      "73 1 0.00015196760068647563 0.00015078304568305612\n",
      "74 1 0.000541194633115083 0.00016304455930367113\n",
      "75 1 0.0004458751354832202 0.00015749774756841363\n",
      "76 1 0.002634477335959673 0.00017398418276570737\n",
      "77 1 0.0008546192548237741 0.00016131734009832143\n",
      "78 1 0.0006530581740662456 0.0001515769341494888\n",
      "79 1 0.0006038530264049768 0.0001601093914359808\n",
      "80 1 0.0006246193079277873 0.0001672145852353424\n",
      "81 1 0.00033921535941772163 0.00015599967446178198\n",
      "82 1 0.0011176674161106348 0.000164097297238186\n",
      "83 1 0.000421524717239663 0.00015654229209758342\n",
      "84 1 0.00033971702214330435 0.00014911963953636586\n",
      "85 1 0.009186098352074623 0.0001475197437684983\n",
      "86 1 0.0005329608684405684 0.00015900571597740054\n",
      "87 1 0.00044244082528166473 0.00015016308752819897\n",
      "88 1 0.01048254407942295 0.00014981966814957558\n",
      "89 1 0.0004896636819466949 0.00014734987635165453\n",
      "90 1 0.0005506626912392676 0.00015732108149677516\n",
      "91 1 0.00037543720100075006 0.0001539514632895589\n",
      "92 1 0.0026340309996157885 0.00014481283724308014\n",
      "93 1 0.0004641976556740701 0.0001466152985813096\n",
      "94 1 0.0004986647982150316 0.00015338973025791347\n",
      "95 1 0.00022995632025413215 0.00013924806262366474\n",
      "96 1 0.0001995550119318068 0.00015644589439034462\n",
      "97 1 0.0002951671776827425 0.00017525553703308107\n",
      "98 1 0.00047148449812084436 0.00015854691155254842\n",
      "99 1 0.00041142405825667083 0.00015887254266999662\n",
      "100 1 0.00028350806678645313 0.0001579019706696272\n",
      "101 1 0.0003783445281442255 0.00014616192784160375\n",
      "102 1 0.0002982045989483595 0.00015988347004167736\n",
      "103 1 0.0002906072186306119 0.00016895911539904773\n",
      "104 1 0.00043118689791299403 0.00016437708982266485\n",
      "105 1 0.00015416515816468745 0.0001454447163268924\n",
      "106 1 0.00026018513017334044 0.00014633730170316995\n",
      "107 1 0.00046972723794169724 0.00014683163026347757\n",
      "108 1 0.0001896619505714625 0.00015456386609002948\n",
      "109 1 0.0003497241414152086 0.00015371713088825346\n",
      "110 1 0.00029066126444377005 0.0001628786965738982\n",
      "111 1 0.00989438220858574 0.00014810376451350747\n",
      "112 1 0.0024230340495705605 0.00014830451109446586\n",
      "113 1 0.00029917946085333824 0.0001648932055104524\n",
      "114 1 0.0004661309940274805 0.00016004875651560725\n",
      "115 1 0.0006302712135948241 0.00015423574368469417\n",
      "116 1 0.0002854226913768798 0.0001456752885133028\n",
      "117 1 0.00027099865837953985 0.0001662237453274429\n",
      "118 1 0.00017947058950085193 0.0001685841998551041\n",
      "119 1 0.0003185445675626397 0.00016105831018649043\n",
      "120 1 0.0008487479062750936 0.00016279437113553286\n",
      "121 1 0.00965950544923544 0.0001571088214404881\n",
      "122 1 0.0005770532879978418 0.00015883955056779088\n",
      "123 1 0.010249895043671131 0.00014348297845572232\n",
      "124 1 0.00032998184906318784 0.00015730900049675255\n",
      "125 1 0.0003036801645066589 0.00015473576495423914\n",
      "126 1 0.0021920122671872377 0.00015225301613099873\n",
      "127 1 0.009225599467754364 0.00014790970017202197\n",
      "128 1 0.00032459324575029314 0.000149619608419016\n",
      "129 1 0.0002594237739685923 0.00014408854767680168\n",
      "130 1 0.0002586701011750847 0.00013803179608657957\n",
      "131 1 0.0006738401134498417 0.00013970835716463624\n",
      "132 1 0.00030456564854830503 0.00014323217910714448\n",
      "133 1 0.00034827928175218403 0.00015279579092748464\n",
      "134 1 0.0006462994497269392 0.00015481396694667638\n",
      "135 1 0.0004365679051261395 0.00015208531985990703\n",
      "136 1 0.0004335154371801764 0.00017009385046549142\n",
      "137 1 0.0001915725297294557 0.00015257755876518786\n",
      "138 1 0.0008374404860660434 0.00015189034747891127\n",
      "139 1 0.000505408039316535 0.00017438835348002613\n",
      "140 1 0.0008571352809667587 0.00016165413544513285\n",
      "141 1 0.0002911310293711722 0.00014428054564632475\n",
      "142 1 0.0004350398085080087 0.0001614097214769572\n",
      "143 1 0.002602693159133196 0.00015506847412325442\n",
      "144 1 0.0005623108590953052 0.00013939827913418413\n",
      "145 1 0.00022353959502652287 0.00015306868590414524\n",
      "146 1 0.000480917893582955 0.00014541486743837594\n",
      "147 1 0.002401890931650996 0.00016092312871478497\n",
      "148 1 0.0003014328540302813 0.00015077496645972134\n",
      "149 1 0.00023662156309001148 0.00016615313943475486\n",
      "150 1 0.00016015025903470814 0.00015629928675480186\n",
      "151 1 0.0003117465239483863 0.0001512954186182469\n",
      "152 1 0.0004585989227052778 0.0001558506570290774\n",
      "153 1 0.000183254640433006 0.0001459318329580128\n",
      "154 1 0.00022745491878595203 0.0001574685622472316\n",
      "155 1 0.0002573610981926322 0.000153544353088364\n",
      "156 1 0.0007668037433177233 0.0001571131171658635\n",
      "157 1 0.0003209139977116138 0.00016141209052875639\n",
      "158 1 0.000767977733630687 0.00015412688371725382\n",
      "159 1 0.00029108772287145257 0.00015838091494515538\n",
      "160 1 0.0004222231509629637 0.00013974806061014533\n",
      "161 1 0.00023648324713576585 0.00015535062411800026\n",
      "162 1 0.00039180368185043335 0.0001559391850605607\n",
      "163 1 0.0006413793307729065 0.00014451827737502754\n",
      "164 1 0.000345123145962134 0.0001660033711232245\n",
      "165 1 0.00030647218227386475 0.00015454101376235485\n"
     ]
    },
    {
     "name": "stdout",
     "output_type": "stream",
     "text": [
      "166 1 0.0003083393967244774 0.00016875516739673914\n",
      "167 1 0.00111153325997293 0.00014764107763767242\n",
      "168 1 0.00013310850772541016 0.00015163463540375234\n",
      "169 1 0.00023238873109221458 0.00015855563106015325\n",
      "170 1 0.0001975261402549222 0.0001431313343346119\n",
      "171 1 0.00037863399484194815 0.00015791754703968762\n",
      "172 1 0.0003252657188568264 0.0001646530581638217\n",
      "173 1 0.0005064362194389105 0.00015603512874804438\n",
      "174 1 0.0005572793888859451 0.0001680414017755538\n",
      "175 1 0.0003141911292914301 0.00015567633672617376\n",
      "176 1 0.0004451754502952099 0.00015074466937221588\n",
      "177 1 0.00024221258354373276 0.00015344537096098065\n",
      "178 1 0.00010819479211932048 0.0001561517536174506\n",
      "179 1 0.0006046232301741838 0.0001517141645308584\n",
      "180 1 0.0027796339709311724 0.00013912331196479498\n",
      "181 1 0.009451759979128838 0.00015641942154616119\n",
      "182 1 0.0002351551956962794 0.00014864298864267767\n",
      "183 1 0.00023866114497650415 0.00015196215244941413\n",
      "184 1 0.00041821436025202274 0.00014579816488549113\n",
      "185 1 0.0002014192141359672 0.00016030033002607525\n",
      "186 1 0.0001853501016739756 0.00016109160496853293\n",
      "187 1 0.00031042943010106683 0.0001593414635863155\n",
      "188 1 0.00034481624606996775 0.00014717199373990298\n",
      "189 1 0.00027523894095793366 0.0001569768355693668\n",
      "190 1 0.00031299228430725634 0.00016211995971389116\n",
      "191 1 0.0002865239803213626 0.00015215023304335774\n",
      "192 1 0.0003785166481975466 0.000147913588443771\n",
      "193 1 0.00030539825093001127 0.00015807533054612577\n",
      "194 1 0.0002939460100606084 0.00016297070251312107\n",
      "195 1 0.0003181018109899014 0.00014463806292042136\n",
      "196 1 0.0005504319560714066 0.0001501294784247875\n",
      "197 1 0.0025822415482252836 0.00015361667610704898\n",
      "198 1 0.0024490782525390387 0.00014770813868381083\n",
      "199 1 0.0006623390945605934 0.00014158664853312076\n",
      "200 1 0.00025122484657913446 0.00014957010862417519\n",
      "201 1 0.00016312567458953708 0.00016286761965602636\n",
      "202 1 0.00036250348784960806 0.0001483044645283371\n",
      "203 1 0.00047410931438207626 0.00014404242974705995\n",
      "204 1 0.0004230008053127676 0.0001425650407327339\n",
      "205 1 0.00033684633672237396 0.00016193027840927243\n",
      "206 1 0.00021058242418803275 0.00014723226195201278\n",
      "207 1 0.00893361121416092 0.00016212125192396342\n",
      "208 1 0.0002357244520680979 0.0001562781515531242\n",
      "209 1 0.0026682247407734394 0.00015129803214222192\n",
      "210 1 0.00040659113437868655 0.0001470161892939359\n",
      "211 1 0.0003509289235807955 0.00014470563910435886\n",
      "212 1 0.00041208110633306205 0.0001516886637546122\n",
      "213 1 0.00048320848145522177 0.00016007778467610478\n",
      "214 1 0.00018987592193298042 0.0001566247548907995\n",
      "215 1 0.00015986349899321795 0.00015224834205582738\n",
      "216 1 0.0008547191391699016 0.00015276503982022404\n",
      "217 1 0.0003575231530703604 0.00014180948492139577\n",
      "218 1 0.0003715177590493113 0.00014256244467105716\n",
      "219 1 0.00042632565600797534 0.00015627307584509254\n",
      "220 1 0.0003899589355569333 0.00014929024619050323\n",
      "221 1 0.00033399046515114605 0.00015324669366236776\n",
      "222 1 0.0007416467415168881 0.0001480701786931604\n",
      "223 1 0.00014877189823891968 0.00015109041123650968\n",
      "224 1 0.009743736125528812 0.00014521142584271728\n",
      "225 1 0.0005160080036148429 0.0001441985194105655\n",
      "226 1 0.0006509425584226847 0.00016058876062743365\n",
      "227 1 0.0005062810378149152 0.0001542758953291923\n",
      "228 1 0.0004615263605955988 0.00013486064272001387\n",
      "229 1 0.00025375085533596575 0.00015074446564540268\n",
      "230 1 0.0005655011627823114 0.00014970607007853688\n",
      "231 1 0.0005594080430455506 0.00015692486194893718\n",
      "232 1 0.0005846010171808302 0.00014859201619401574\n",
      "233 1 0.00024166444200091064 0.00015229947748593987\n",
      "234 1 0.0007888686377555132 0.00014239039446692914\n",
      "235 1 0.008605298586189747 0.00015547992079518736\n",
      "236 1 0.0003051163221243769 0.00015933256363496185\n",
      "237 1 0.008476817049086094 0.00015206395764835178\n",
      "238 1 0.00045526112080551684 0.00015108243096619844\n",
      "239 1 0.00021179905161261559 0.0001469794224249199\n",
      "240 1 0.0003316814254503697 0.00015660317440051584\n",
      "241 1 0.0006938318256288767 0.00016393938567489387\n",
      "242 1 0.00018522511527407914 0.00014210857916623353\n",
      "243 1 0.0006724565755575895 0.00014331057318486273\n",
      "244 1 0.00025503477081656456 0.00013363962061703206\n",
      "245 1 0.0007869107648730278 0.00015647051914129405\n",
      "246 1 0.00025156905758194625 0.00015599846956320106\n",
      "247 1 0.0002060506958514452 0.00014769743429496885\n",
      "248 1 0.0006807867321185768 0.00014732243726029993\n",
      "249 1 0.0003475945850368589 0.00016049236583057792\n",
      "250 1 0.0008409761358052492 0.0001517076452728361\n",
      "251 1 0.00024026968458201736 0.0001508114393800497\n",
      "252 1 0.0004095457261428237 0.00014907800359651447\n",
      "253 1 0.0003228768764529377 0.00014854478067718446\n",
      "254 1 0.0003517920558806509 0.0001588589046150446\n",
      "255 1 0.0001234600495081395 0.00015571165713481605\n",
      "256 1 0.00041268745553679764 0.00014686775975860655\n",
      "257 1 0.000385126011678949 0.00015194162842817603\n",
      "258 1 0.0003762106061913073 0.00013977982453070582\n",
      "259 1 0.00032920067314989865 0.00015708714490756393\n",
      "260 1 0.00027340688393451273 0.00014978205144871025\n",
      "261 1 0.00013948588457424194 0.00014496230287477374\n",
      "262 1 0.000910955190192908 0.00015368015738204122\n",
      "263 1 0.0004080742655787617 0.00017326162778772414\n",
      "264 1 0.0002880954707507044 0.0001641669950913638\n",
      "265 1 0.00022962616640143096 0.00015464465250261127\n",
      "266 1 0.0023396003525704145 0.00013833824777975678\n",
      "267 1 0.00027290702564641833 0.0001607114856597036\n",
      "268 1 0.00037335706292651594 0.00014674350968562065\n",
      "269 1 0.00024641575873829424 0.0001578766677994281\n",
      "270 1 0.0005343345110304654 0.00016178209334611894\n",
      "271 1 0.0005203665350563824 0.00014160738792270421\n",
      "272 1 0.0025647212751209736 0.0001487614877987653\n",
      "273 1 0.00018502614693716168 0.00014226727653294803\n",
      "274 1 0.00021143531193956733 0.00015741321840323508\n",
      "275 1 0.01064632460474968 0.00014772650902159513\n",
      "276 1 0.0002131660294253379 0.00015406792517751454\n",
      "277 1 0.0010214498033747077 0.00014385155227500946\n",
      "278 1 0.00044240415445528924 0.00015585492365062238\n",
      "279 1 0.0002260950132040307 0.000151987123535946\n",
      "280 1 0.0003848847991321236 0.00014211718225851656\n",
      "281 1 0.00014823838137090206 0.000139435994788073\n",
      "282 1 0.0004227500467095524 0.00014379221538547428\n",
      "283 1 0.0006699935765936971 0.00015749886515550315\n",
      "284 1 0.00943274237215519 0.00014769991394132377\n",
      "285 1 0.00034090690314769745 0.00015731811290606857\n",
      "286 1 0.0004826860676985234 0.0001390789751894772\n",
      "287 1 0.00029614081722684205 0.00016505239764228464\n",
      "288 1 0.00045794775360263884 0.00013755923428107052\n",
      "289 1 0.0006389020709320903 0.0001611857645912096\n",
      "290 1 0.0004046894609928131 0.00015121853211894632\n",
      "291 1 0.00028930846019648015 0.00014212442911230028\n",
      "292 1 0.009476852603256702 0.0001386593678034842\n",
      "293 1 0.0005924366414546967 0.00016023967764340342\n",
      "294 1 0.0005542867002077401 0.00013703287113457917\n",
      "295 1 0.0001634010550333187 0.00013848754460923373\n",
      "296 1 0.0005008353618904948 0.0001527054817415774\n",
      "297 1 0.00038698839489370584 0.00015543975168839098\n",
      "298 1 0.00025792879750952125 0.00014142231666482984\n",
      "299 1 0.000281709770206362 0.00014933209749870002\n",
      "300 1 0.00019750311912503093 0.00015387359308078886\n",
      "301 1 0.0005450102617032826 0.00014689171221107244\n",
      "302 1 0.0006112593109719455 0.000148812955012545\n",
      "303 1 0.0005230064271017909 0.0001387298572808504\n",
      "304 1 0.0005067499587312341 0.00015039261197671294\n",
      "305 1 0.00016581479576416314 0.00014466018183156848\n",
      "306 1 0.000512302853167057 0.00015086376224644483\n",
      "307 1 0.00040223627001978457 0.0001437683415133506\n",
      "308 1 0.0003578961477614939 0.00014563177828676998\n",
      "309 1 0.0003071076644118875 0.00015615306328982116\n",
      "310 1 0.0005474007921293378 0.00015561404288746416\n",
      "311 1 0.0003337129601277411 0.00014018065994605421\n",
      "312 1 0.00030884816078469157 0.00014219445874914528\n",
      "313 1 0.00048038861132226884 0.00014833933091722428\n",
      "314 1 0.00026794688892550766 0.000144884834298864\n",
      "315 1 0.007439447101205587 0.00014809499261900783\n",
      "316 1 0.009954473003745079 0.00014161200379021467\n",
      "317 1 0.0005055007641203701 0.00013363842735998334\n",
      "318 1 0.009960475377738476 0.00014681195607408882\n",
      "319 1 0.0001746277994243428 0.0001350685051875189\n",
      "320 1 0.0002865010465029627 0.00015442886506207288\n",
      "321 1 0.0004594602214638144 0.00015211259014904499\n",
      "322 1 0.0003403185692150146 0.00015322089893743396\n",
      "323 1 0.002841334091499448 0.00014538258546963333\n",
      "324 1 0.0002878249215427786 0.0001564631180372089\n",
      "325 1 0.0002585498441476375 0.0001434981997590512\n",
      "326 1 0.00048598035937175155 0.00014525096048600972\n"
     ]
    },
    {
     "name": "stdout",
     "output_type": "stream",
     "text": [
      "327 1 0.009387538768351078 0.0001468752627260983\n",
      "328 1 0.00026312257978133857 0.00015488566714338958\n",
      "329 1 0.00762095907703042 0.00014515991788357496\n",
      "330 1 0.0002377233759034425 0.00014019081718288361\n",
      "331 1 0.0001972605532500893 0.00014330255216918886\n",
      "332 1 0.0002371214795857668 0.00014975553494878113\n",
      "333 1 0.0004082313389517367 0.00015648254484403878\n",
      "334 1 0.0007240649429149926 0.00015925089246593416\n",
      "335 1 0.008544293232262135 0.0001342199801001698\n",
      "336 1 0.008678431622684002 0.00014211998495738953\n",
      "337 1 0.0002952090871986002 0.00015890176873654128\n",
      "338 1 0.000302957312669605 0.00014763681101612747\n",
      "339 1 0.00013214422506280243 0.00014935260987840592\n",
      "340 1 0.008695794269442558 0.0001359384332317859\n",
      "341 1 0.00025540791102685034 0.00014534865622408688\n",
      "342 1 0.00028665090212598443 0.00015694104949943722\n",
      "343 1 0.0002981007273774594 0.00013936705072410406\n",
      "344 1 0.0002521920541767031 0.0001406095805577934\n",
      "345 1 0.0024943561293184757 0.00014761557686142622\n",
      "346 1 0.00016643622075207531 0.00015874785021878778\n",
      "347 1 0.0003483058826532215 0.00015141438343562185\n",
      "348 1 0.00014505931176245213 0.00015129524399526417\n",
      "349 1 0.00043525194632820785 0.00014676408609375357\n",
      "350 1 0.0009349877364002168 0.00014855919871479273\n",
      "351 1 0.0010476043680682778 0.00013697905815206467\n",
      "352 1 0.00022007853840477765 0.00015400259871967137\n",
      "353 1 0.00038488805876113474 0.00015546198119409382\n",
      "354 1 0.0002194883127231151 0.0001494532742071897\n",
      "355 1 0.00019404695194680244 0.00016341398004442452\n",
      "356 1 0.0004573350597638637 0.0001582413970027119\n",
      "357 1 0.0001815127325244248 0.0001545795181300491\n",
      "358 1 0.00024224126536864787 0.00014265317586250603\n",
      "359 1 0.0003601036441978067 0.0001491496863309294\n",
      "360 1 0.0004502979281824082 0.000151961442315951\n",
      "361 1 0.008662333711981773 0.00013361064484342932\n",
      "362 1 0.0003962971386499703 0.0001349141588434577\n",
      "363 1 0.0007303331512957811 0.00013178031658753753\n",
      "364 1 0.0006142882630228996 0.0001550541550386697\n",
      "365 1 0.010146013461053371 0.00016288496844936163\n",
      "366 1 0.0003481432795524597 0.00014981674030423164\n",
      "367 1 0.0006953853298909962 0.00014814469614066184\n",
      "368 1 0.0002683524799067527 0.00013155339984223248\n",
      "369 1 0.008692617528140545 0.00015233058074954898\n",
      "370 1 0.0006990073015913367 0.00015422973083332182\n",
      "371 1 0.0006744366837665439 0.0001413227873854339\n",
      "372 1 0.0002021402178797871 0.0001368157725664787\n",
      "373 1 0.00031651215977035463 0.00014993305085226895\n",
      "374 1 0.00043919766903854907 0.00015665292157791556\n",
      "375 1 0.0006960108876228333 0.00015149519313126803\n",
      "376 1 0.00040750610060058534 0.00013278919650474563\n",
      "377 1 0.000216438333154656 0.00015023642918094994\n",
      "378 1 0.0002872129261959344 0.0001601030438905582\n",
      "379 1 0.002336804987862706 0.0001461736101191491\n",
      "380 1 0.0006538673769682646 0.00015205809031613172\n",
      "381 1 0.0003713310288731009 0.0001497346500400454\n",
      "382 1 0.00022773165255784988 0.00015234265592880547\n",
      "383 1 0.0002050828916253522 0.0001567708211950958\n",
      "384 1 0.00060520030092448 0.0001526367210317403\n",
      "385 1 0.000659304263535887 0.00016267216997221113\n",
      "386 1 0.0005648584919981658 0.00014503029524348676\n",
      "387 1 0.007833585143089294 0.0001467309892177582\n",
      "388 1 0.0001682822621660307 0.00015817307867109774\n",
      "389 1 0.0002873909834306687 0.00013431005063466728\n",
      "390 1 0.0006093368283472955 0.00014848264981992543\n",
      "391 1 0.000353929033735767 0.000162899712449871\n",
      "392 1 0.00040803165757097304 0.00013492839934770018\n",
      "393 1 0.0003992697165813297 0.00014350999263115227\n",
      "394 1 0.002527800155803561 0.00014879031805321575\n",
      "395 1 0.008835189044475555 0.0001448782131774351\n",
      "396 1 0.0020697505678981543 0.00013549699797295035\n",
      "397 1 0.0003229383728466928 0.00014228832442313432\n",
      "398 1 0.00022189451556187123 0.0001565684040542692\n",
      "399 1 0.0027543799951672554 0.00014347996038850398\n",
      "400 1 0.0004560470988508314 0.0001761553226970136\n",
      "Finished Training\n"
     ]
    }
   ],
   "source": [
    "%%wandb\n",
    "\n",
    "\n",
    "## define a general training loop\n",
    "losses = np.array([0,0,0])\n",
    "for epoch in range(epochs):  # loop over the dataset multiple times\n",
    "\n",
    "    running_loss = 0.0\n",
    "\n",
    "    #print(type(boundary_conditions))\n",
    "    #net = net.cuda()\n",
    "    for i, sample_batch in enumerate(train_dataloader):\n",
    "        #print(sample_batch[\"boundary_conditions\"].size(), sample_batch[\"target\"].size())\n",
    "        bc = sample_batch[\"boundary_conditions\"].cuda()\n",
    "        tgt = sample_batch[\"target\"][:, 1:4, :,  :].cuda()\n",
    "        #material_matrix = bc[i, 0, :, :].unsqueeze(0).repeat([1,3,1,1])\n",
    "        #print(i, bc.shape, tgt.shape)\n",
    "\n",
    "        # get the inputs; data is a list of [boundary_conditions, targets]\n",
    "        \n",
    "        # zero the parameter gradients\n",
    "        optimizer.zero_grad()\n",
    "\n",
    "        # forward + backward + optimize\n",
    "        prediction = net(bc)\n",
    "        loss = criterion(prediction, tgt)#/torch.sum(material_matrix)\n",
    "        #print(loss)\n",
    "        loss.backward()\n",
    "        optimizer.step()\n",
    "        \n",
    "        \n",
    "        # print statistics\n",
    "        running_loss += loss.item()\n",
    "        if i % 100 == 0:    # print every 10 mini-batches\n",
    "            running_val_loss = 0.0\n",
    "            with torch.no_grad():\n",
    "                for ii, sample_val_batch in enumerate(val_dataloader):\n",
    "                    bc_val = sample_val_batch[\"boundary_conditions\"].cuda()\n",
    "                    tgt_val = sample_val_batch[\"target\"][:, 1:4, :,  :].cuda()\n",
    "                    \n",
    "                    prediction_val = net(bc_val)\n",
    "                    val_loss = criterion(prediction_val, tgt_val)#/torch.sum(material_matrix)\n",
    "                    \n",
    "                    running_val_loss+=val_loss.item()\n",
    "                \n",
    "            print(f'{epoch + 1} {i + 1} {running_loss} {running_val_loss/10}')\n",
    "            wandb.log({\"loss\": running_loss})\n",
    "            wandb.log({\"val_loss\": running_val_loss})\n",
    "            losses = np.vstack((losses, [epoch, running_loss, running_val_loss]))\n",
    "            #print(losses)\n",
    "            running_loss = 0.0\n",
    "            \n",
    "\n",
    "print('Finished Training')"
   ]
  },
  {
   "cell_type": "code",
   "execution_count": 206,
   "metadata": {
    "scrolled": true
   },
   "outputs": [
    {
     "data": {
      "text/plain": [
       "[<matplotlib.lines.Line2D at 0x17b54d09f48>,\n",
       " <matplotlib.lines.Line2D at 0x17b54d48bc8>]"
      ]
     },
     "execution_count": 206,
     "metadata": {},
     "output_type": "execute_result"
    },
    {
     "data": {
      "image/png": "[encoded data removed]",
      "text/plain": [
       "<Figure size 432x288 with 1 Axes>"
      ]
     },
     "metadata": {
      "needs_background": "light"
     },
     "output_type": "display_data"
    }
   ],
   "source": [
    "## attempt to plot losses over time\n",
    "plt.plot(losses[1:,0], losses[1:,1:])"
   ]
  },
  {
   "cell_type": "code",
   "execution_count": 207,
   "metadata": {
    "scrolled": true
   },
   "outputs": [
    {
     "data": {
      "text/plain": [
       "[<matplotlib.lines.Line2D at 0x17b54d7e688>,\n",
       " <matplotlib.lines.Line2D at 0x17b54df15c8>]"
      ]
     },
     "execution_count": 207,
     "metadata": {},
     "output_type": "execute_result"
    },
    {
     "data": {
      "image/png": "[encoded data removed]",
      "text/plain": [
       "<Figure size 432x288 with 1 Axes>"
      ]
     },
     "metadata": {
      "needs_background": "light"
     },
     "output_type": "display_data"
    }
   ],
   "source": [
    "## attempt to plot losses over time to sho where the model started overfitting on the data\n",
    "plt.plot(losses[10:,0], losses[10:,1:])"
   ]
  },
  {
   "cell_type": "markdown",
   "metadata": {},
   "source": [
    "Therefore, it can be seen that the network learns some of the relationships in the dataset, and is able to overfit it after a while. After adding a dataloader, the training improved tremendously because of the data augmentation"
   ]
  },
  {
   "cell_type": "code",
   "execution_count": 56,
   "metadata": {},
   "outputs": [],
   "source": [
    "%matplotlib inline \n",
    "#f = plt.figure()\n",
    "\n",
    "\n",
    "#plt.imshow(concat_input[:,:,0])\n",
    "def plot_grid_2d(concat_input, concat_output):\n",
    "    \n",
    "    f, axarr = plt.subplots(2,5, figsize = (15,6)) \n",
    "    \n",
    "    axarr[0,0].imshow(np.abs(concat_input[:,:,0]))\n",
    "    axarr[0,0].set(title='smoothed map')\n",
    "\n",
    "    axarr[0,1].imshow(np.abs(concat_input[:,:,1]))\n",
    "    axarr[0,1].set(title='X displacement B.C.')\n",
    "\n",
    "    axarr[0,2].imshow(np.abs(concat_input[:,:,2]))\n",
    "    axarr[0,2].set(title='Y displacement B.C.')\n",
    "\n",
    "    axarr[0,3].imshow(np.abs(concat_input[:,:,3]))\n",
    "    axarr[0,3].set(title='Z displacement  B.C')\n",
    "\n",
    "    axarr[0,4].imshow(np.abs(concat_input[:,:,4]))\n",
    "    axarr[0,4].set(title='X force B.C.')\n",
    "\n",
    "    axarr[1,0].imshow(np.abs(concat_input[:,:,5]))\n",
    "    axarr[1,0].set(title='Y force B.C.')\n",
    "\n",
    "    axarr[1,1].imshow(np.abs(concat_input[:,:,6]))\n",
    "    axarr[1,1].set(title='Z force B.C.')\n",
    "\n",
    "    axarr[1,2].imshow(np.abs(concat_output[:,:,1]))\n",
    "    axarr[1,2].set(title='X displacement result')\n",
    "\n",
    "    axarr[1,3].imshow(np.abs(concat_output[:,:,2]))\n",
    "    axarr[1,3].set(title='Y displacement result')\n",
    "\n",
    "    axarr[1,4].imshow(np.abs(concat_output[:,:,3]))\n",
    "    axarr[1,4].set(title='Z displacement result')\n",
    "\n",
    "    plt.show()"
   ]
  },
  {
   "cell_type": "code",
   "execution_count": null,
   "metadata": {},
   "outputs": [],
   "source": []
  },
  {
   "cell_type": "code",
   "execution_count": 180,
   "metadata": {},
   "outputs": [
    {
     "name": "stdout",
     "output_type": "stream",
     "text": [
      "torch.Size([1, 7, 32, 32])\n",
      "torch.Size([1, 3, 32, 32])\n",
      "(1, 4, 32, 32)\n",
      "(1, 32, 32, 4)\n"
     ]
    },
    {
     "data": {
      "image/png": "[encoded data removed]",
      "text/plain": [
       "<Figure size 1080x432 with 10 Axes>"
      ]
     },
     "metadata": {
      "needs_background": "light"
     },
     "output_type": "display_data"
    }
   ],
   "source": [
    "sample = 25\n",
    "sample_transformed = transformed_dataset[sample]\n",
    "sample_bc = np.moveaxis(sample_transformed['boundary_conditions'].data.clone().data.numpy(), 0, 2)\n",
    "## plot one of the results after passing the convolutional network through it once\n",
    "print(sample_transformed['boundary_conditions'].data.clone().unsqueeze(0).shape)\n",
    "sample_prediction = net.cpu().forward(sample_transformed['boundary_conditions'].data.clone().unsqueeze(0))\n",
    "print(sample_prediction.shape)\n",
    "sample_prediction = F.pad(sample_prediction, (0,0,0,0,0,1)).detach().numpy()\n",
    "print(sample_prediction.shape)\n",
    "sample_prediction = np.moveaxis(sample_prediction, 1, 3)\n",
    "print(sample_prediction.shape)\n",
    "\n",
    "\n",
    "#print(sample_prediction.shape, dataset[0][27:28,:,10,22], sample_prediction[:,:,10,22])\n",
    "plot_grid_2d(sample_bc, sample_prediction[0,:,:,:])"
   ]
  },
  {
   "cell_type": "markdown",
   "metadata": {},
   "source": [
    "So one of the conclusions is that the convolutional network was  able to succesfully learn a model that can be applied to a space to generate a result  that correlates to the target. Even with a very small number of samples, the network was able to learn some basic principles about the geometry of the sample and of the relationships between boundary conditions and targets"
   ]
  },
  {
   "cell_type": "code",
   "execution_count": 53,
   "metadata": {},
   "outputs": [
    {
     "name": "stdout",
     "output_type": "stream",
     "text": [
      "torch.Size([1, 3, 32, 32])\n",
      "torch.Size([1, 3, 32, 32])\n",
      " 0.000156545\n"
     ]
    }
   ],
   "source": [
    "## get loss of the results\n",
    "with torch.no_grad():\n",
    "    print(dataset[1][sample, 1:4, :, :].unsqueeze(0).shape)\n",
    "    print(net.forward(dataset[0][sample:sample+1,:,:,:]).shape)\n",
    "    loss_1_it = criterion(dataset[1][sample, 1:4, :, :].unsqueeze(0), net.forward(dataset[0][sample:sample+1,:,:,:]))\n",
    "    print(f'{loss_1_it: .9f}')"
   ]
  },
  {
   "cell_type": "code",
   "execution_count": 32,
   "metadata": {},
   "outputs": [],
   "source": [
    "## create a generator to evaluate how loss progresses with multiple applications of the network\n",
    "def convolute_iteration(conditions, netwrk, repeat = True):\n",
    "    with torch.no_grad():\n",
    "        pred = netwrk(conditions) #torch.Size([1, 3, 32, 32])\n",
    "        new_condition = conditions.clone()\n",
    "        new_condition[:, 1:4, :, :] = pred\n",
    "        i=0\n",
    "        while repeat:\n",
    "            i +=1\n",
    "            print(i)\n",
    "            pred = netwrk(new_condition)\n",
    "            new_condition = conditions.clone()\n",
    "            new_condition[:, 1:4, :, :] = pred\n",
    "            \n",
    "            yield pred"
   ]
  },
  {
   "cell_type": "code",
   "execution_count": 118,
   "metadata": {},
   "outputs": [],
   "source": [
    "## create iterator intance for loss plot\n",
    "predicts = convolute_iteration(dataset[0][sample:sample+1,:,:,:], net)\n",
    "loss_iterator = []"
   ]
  },
  {
   "cell_type": "code",
   "execution_count": 213,
   "metadata": {},
   "outputs": [
    {
     "name": "stdout",
     "output_type": "stream",
     "text": [
      "95\n",
      " 0.116603315\n"
     ]
    },
    {
     "data": {
      "image/png": "[encoded data removed]",
      "text/plain": [
       "<Figure size 432x288 with 1 Axes>"
      ]
     },
     "metadata": {
      "needs_background": "light"
     },
     "output_type": "display_data"
    }
   ],
   "source": [
    "with torch.no_grad():\n",
    "    \n",
    "    loss_2_it = criterion(dataset[1][sample, 1:4, :, :].unsqueeze(0), next(predicts))\n",
    "    loss_iterator.append(loss_2_it)\n",
    "    print(f'{loss_2_it: .9f}')\n",
    "    plt.plot(loss_iterator)"
   ]
  },
  {
   "cell_type": "markdown",
   "metadata": {},
   "source": [
    "What has been shown with this is that subsequent applications of this model don't increase its accuracy, however it does converge to a certain value. The fact that there is convergence is grounds for exploring whether this convergence can be used as a feature of the model itself."
   ]
  },
  {
   "cell_type": "code",
   "execution_count": 215,
   "metadata": {},
   "outputs": [],
   "source": [
    "## create iterator intance for prediction plot\n",
    "predicts = convolute_iteration(dataset[0][sample:sample+1,:,:,:], net)\n"
   ]
  },
  {
   "cell_type": "code",
   "execution_count": 217,
   "metadata": {
    "scrolled": true
   },
   "outputs": [
    {
     "name": "stdout",
     "output_type": "stream",
     "text": [
      "2\n",
      "torch.Size([1, 3, 32, 32])\n",
      "(1, 4, 32, 32)\n",
      "(1, 32, 32, 4)\n"
     ]
    },
    {
     "data": {
      "image/png": "[encoded data removed]",
      "text/plain": [
       "<Figure size 1080x432 with 10 Axes>"
      ]
     },
     "metadata": {
      "needs_background": "light"
     },
     "output_type": "display_data"
    }
   ],
   "source": [
    "sample_prediction = next(predicts)\n",
    "print(sample_prediction.shape)\n",
    "sample_prediction = F.pad(sample_prediction, (0,0,0,0,0,1)).detach().numpy()\n",
    "print(sample_prediction.shape)\n",
    "sample_prediction = np.moveaxis(sample_prediction, 1, 3)\n",
    "print(sample_prediction.shape)\n",
    "\n",
    "\n",
    "#print(sample_prediction.shape, dataset[0][27:28,:,10,22], sample_prediction[:,:,10,22])\n",
    "plot_grid_2d(sample_bc, sample_prediction[0,:,:,:])"
   ]
  },
  {
   "cell_type": "markdown",
   "metadata": {},
   "source": [
    "Now I want to explore a lot of things and their impact on the model's predictions:\n",
    "\n",
    "- leaning rates\n",
    "- different conv deconv architectures\n",
    "- pre-trained models (if models trained on images help with accuracy in this case, then it is possible to use models trained in other types of object for the 3d version)\n",
    "- attention\n",
    "- different losses\n",
    "- increase amount of model forward feeds before doing gradient descent to try to get the model to converge closer to the target value if applied several times\n",
    "- Other activation strategies"
   ]
  },
  {
   "cell_type": "code",
   "execution_count": 218,
   "metadata": {},
   "outputs": [],
   "source": []
  },
  {
   "cell_type": "markdown",
   "metadata": {},
   "source": [
    "## ENCODER DECODER"
   ]
  },
  {
   "cell_type": "code",
   "execution_count": 19,
   "metadata": {},
   "outputs": [
    {
     "data": {
      "text/html": [
       "\n",
       "                Logging results to <a href=\"https://wandb.com\" target=\"_blank\">Weights & Biases</a> <a href=\"https://docs.wandb.com/integrations/jupyter.html\" target=\"_blank\">(Documentation)</a>.<br/>\n",
       "                Project page: <a href=\"https://app.wandb.ai/walther/Project\" target=\"_blank\">https://app.wandb.ai/walther/Project</a><br/>\n",
       "                Run page: <a href=\"https://app.wandb.ai/walther/Project/runs/f9a3hvrd\" target=\"_blank\">https://app.wandb.ai/walther/Project/runs/f9a3hvrd</a><br/>\n",
       "            "
      ],
      "text/plain": [
       "<IPython.core.display.HTML object>"
      ]
     },
     "metadata": {},
     "output_type": "display_data"
    },
    {
     "data": {
      "text/plain": [
       "W&B Run: https://app.wandb.ai/walther/Project/runs/f9a3hvrd"
      ]
     },
     "execution_count": 19,
     "metadata": {},
     "output_type": "execute_result"
    }
   ],
   "source": [
    "##update loging\n",
    "wandb.init(config={\"epochs\": 30, \"batch_size\": 90,'learning_rate': 0.0005, 'architecture':'encoder_decoder_architecture'})"
   ]
  },
  {
   "cell_type": "code",
   "execution_count": 20,
   "metadata": {},
   "outputs": [],
   "source": [
    "\n",
    "## First, see the result of a conv-deconv architecture with exactly the same parameters but that condenses\n",
    "## the inputs into a feature array first\n",
    "## define the neural network's general shape\n",
    "\n",
    "class Encode_decode_Net(nn.Module):\n",
    "    def __init__(self):\n",
    "        super(Encode_decode_Net, self).__init__()\n",
    "        \n",
    "        ## convolutional layers\n",
    "        self.conv1 = nn.Conv2d(in_channels = 7, out_channels = 14, kernel_size = 3, padding = 1)\n",
    "        self.conv2 = nn.Conv2d(in_channels = 14, out_channels = 16, kernel_size = 3, padding = 1)\n",
    "        self.deconv1 = nn.ConvTranspose2d(in_channels = 16, out_channels = 14, kernel_size = 3, padding = 1)\n",
    "        self.deconv2 = nn.ConvTranspose2d(in_channels = 14, out_channels = 10, kernel_size = 2,stride = 2, padding = 0)\n",
    "        self.deconv3 = nn.ConvTranspose2d(in_channels = 10, out_channels = 7, kernel_size = 2, stride = 2, padding = 0)\n",
    "        self.deconv4 = nn.ConvTranspose2d(in_channels = 7, out_channels = 3, kernel_size = 3, padding = 1)\n",
    "        \n",
    "        ## activation\n",
    "        self.hardtanh = nn.Hardtanh()\n",
    "        self.tanh = nn.Tanh()\n",
    "        self.prelu = nn.PReLU()\n",
    "        self.leaky_relu = nn.LeakyReLU()\n",
    "        \n",
    "        ## Pooling\n",
    "        self.maxpool = nn.MaxPool2d(kernel_size = 3, stride = 2, padding = 1)\n",
    "        \n",
    "        \n",
    "    def forward(self, boundary_conditions):\n",
    "        '''\n",
    "        torch.Size([1, 7, 32, 32])\n",
    "        torch.Size([1, 14, 16, 16])\n",
    "        torch.Size([1, 16, 8, 8])\n",
    "        torch.Size([1, 14, 8, 8])\n",
    "        torch.Size([1, 10, 16, 16])\n",
    "        torch.Size([1, 7, 32, 32])\n",
    "        torch.Size([1, 3, 32, 32])\n",
    "        '''\n",
    "        \n",
    "        #print(boundary_conditions.shape)\n",
    "        x = self.conv1(boundary_conditions)\n",
    "        x = self.maxpool(x)\n",
    "        x = self.prelu(x)\n",
    "        #print(x.shape)\n",
    "        x = self.conv2(x)\n",
    "        x = self.maxpool(x)\n",
    "        x = self.prelu(x)\n",
    "        #print(x.shape)\n",
    "        x = self.deconv1(x)\n",
    "        x = self.prelu(x)\n",
    "        #print(x.shape)\n",
    "        x = self.deconv2(x)\n",
    "        x = self.prelu(x)\n",
    "        #print(x.shape)\n",
    "        x = self.deconv3(x)\n",
    "        x = self.prelu(x)\n",
    "        #print(x.shape)\n",
    "        x = self.deconv4(x)\n",
    "        x = self.tanh(x)\n",
    "        #print(x.shape)\n",
    "        return x\n",
    "    \n",
    "        \n",
    "net = Encode_decode_Net().cuda().float()\n",
    "\n",
    "## test to see if getting the correct size\n",
    "net.forward(dataset[0][0:1,:,:,:].cuda());"
   ]
  },
  {
   "cell_type": "code",
   "execution_count": 21,
   "metadata": {},
   "outputs": [],
   "source": [
    "## define criterion\n",
    "criterion = nn.MSELoss().cuda()\n",
    "optimizer = torch.optim.Adam(params = net.parameters(), lr=0.0005, betas=(0.9, 0.999))"
   ]
  },
  {
   "cell_type": "code",
   "execution_count": 22,
   "metadata": {},
   "outputs": [
    {
     "data": {
      "text/html": [
       "<iframe src=\"https://app.wandb.ai/walther/Project/runs/f9a3hvrd?jupyter=true&state=paused\" style=\"border:none;width:100%;height:420px\">\n",
       "                </iframe>"
      ],
      "text/plain": [
       "<wandb.jupyter.Run at 0x1e18d44b248>"
      ]
     },
     "metadata": {},
     "output_type": "display_data"
    },
    {
     "name": "stdout",
     "output_type": "stream",
     "text": [
      "1 1 0.00802171416580677 0.009894485864788295\n",
      "2 1 0.0003933005500584841 0.0005084899457870051\n",
      "3 1 0.0003657788038253784 0.00047555426717735825\n",
      "4 1 0.0003500608145259321 0.0004607861250406131\n",
      "5 1 0.0003374926163814962 0.00044893036829307675\n",
      "6 1 0.00032674818066880107 0.00043866110208909956\n",
      "7 1 0.00031626809504814446 0.00042771732260007413\n",
      "8 1 0.00030703545780852437 0.0004170465806964785\n",
      "9 1 0.00028912126435898244 0.00039456723025068643\n",
      "10 1 0.0002805293188430369 0.0004143378551816568\n",
      "11 1 0.0002716532617341727 0.0004578035368467681\n",
      "12 1 0.00026743856142275035 0.0004761294461786747\n",
      "13 1 0.00026591529604047537 0.0004862652334850281\n",
      "14 1 0.00026553342468105257 0.0004941005012369714\n",
      "15 1 0.0002665093925315887 0.0004975401796400547\n",
      "16 1 0.00026401245850138366 0.0004975621734047309\n",
      "17 1 0.0002631078823469579 0.0005001711295335553\n",
      "18 1 0.00026175062521360815 0.0004987697931937874\n",
      "19 1 0.00026118516689166427 0.0004956273915013298\n",
      "20 1 0.00026034825714305043 0.0004962697945302353\n",
      "21 1 0.00025923995417542756 0.0004979729535989463\n",
      "22 1 0.00025948791881091893 0.0004967227709130384\n",
      "23 1 0.0002579160500317812 0.0004979778415872716\n",
      "24 1 0.00025768877821974456 0.0005007676838431508\n",
      "25 1 0.00025435304269194603 0.0005002691061235965\n",
      "26 1 0.00025223978445865214 0.0005024810787290334\n",
      "27 1 0.0002481039264239371 0.0005064501005108468\n",
      "28 1 0.000246081268414855 0.0005090463993838057\n",
      "29 1 0.00023890112061053514 0.0005163431327673606\n",
      "30 1 0.00023723863705527037 0.0005175069905817509\n",
      "Finished Training\n"
     ]
    }
   ],
   "source": [
    "%%wandb \n",
    "## logging cell magic\n",
    "##\n",
    "wandb.watch(net)\n",
    "\n",
    "\n",
    "\n",
    "## define a general training loop\n",
    "losses = np.array([0,0,0])\n",
    "for epoch in range(30):  # loop over the dataset multiple times\n",
    "\n",
    "    running_loss = 0.0\n",
    "    boundary_conditions, targets = dataset[0][:90,:,:,:].cuda(), dataset[1][:90,:,:,:].cuda()\n",
    "    #print(type(boundary_conditions))\n",
    "    for i, bc in enumerate(boundary_conditions):\n",
    "        tgt = targets[i, 1:4, :, :].unsqueeze(0)\n",
    "        bc = bc.unsqueeze(0).cuda()\n",
    "        #print(i, bc.shape, tgt.shape)\n",
    "\n",
    "        # get the inputs; data is a list of [boundary_conditions, targets]\n",
    "        \n",
    "        # zero the parameter gradients\n",
    "        optimizer.zero_grad()\n",
    "\n",
    "        # forward + backward + optimize\n",
    "        prediction = net(bc)\n",
    "        loss = criterion(prediction, tgt)\n",
    "        #print(loss)\n",
    "        loss.backward()\n",
    "        optimizer.step()\n",
    "\n",
    "        # print statistics\n",
    "        running_loss += loss.item()\n",
    "        if i % 100 == 0:    # print every 10 mini-batches\n",
    "            running_val_loss = 0.0\n",
    "            with torch.no_grad():\n",
    "                boundary_conditions_val, targets_val = dataset[0][90:,:,:,:].cuda(), dataset[1][90:,:,:,:].cuda()\n",
    "                for ii, bc_val in enumerate(boundary_conditions_val):\n",
    "                    tgt_val = targets_val[i, 1:4, :, :].unsqueeze(0)\n",
    "                    bc_val = bc_val.unsqueeze(0)\n",
    "                    prediction_val = net(bc_val)\n",
    "                    val_loss = criterion(prediction_val, tgt_val)\n",
    "                    running_val_loss+=val_loss.item()\n",
    "                \n",
    "            print(f'{epoch + 1} {i + 1} {running_loss} {running_val_loss/10}')\n",
    "            losses = np.vstack((losses, [epoch, running_loss, running_val_loss]))\n",
    "            wandb.log({\"loss\": running_loss})\n",
    "            wandb.log({\"val_loss\": running_val_loss})\n",
    "            #print(losses)\n",
    "            running_loss = 0.0\n",
    "            \n",
    "\n",
    "print('Finished Training')"
   ]
  },
  {
   "cell_type": "markdown",
   "metadata": {},
   "source": [
    "So this network achieved lower validation losses, but stayed at a higher training loss. Further, prelu showed very similar behaviour to using hardtanh. "
   ]
  },
  {
   "cell_type": "code",
   "execution_count": 23,
   "metadata": {},
   "outputs": [
    {
     "name": "stdout",
     "output_type": "stream",
     "text": [
      "torch.Size([1, 3, 32, 32])\n",
      "(1, 4, 32, 32)\n",
      "(1, 32, 32, 4)\n"
     ]
    },
    {
     "data": {
      "image/png": "[encoded data removed]",
      "text/plain": [
       "<Figure size 1080x432 with 10 Axes>"
      ]
     },
     "metadata": {
      "needs_background": "light"
     },
     "output_type": "display_data"
    }
   ],
   "source": [
    "## plot one of the results after passing the convolutional network through it once\n",
    "sample_prediction = net.cpu().forward(dataset[0][sample:sample+1,:,:,:])\n",
    "print(sample_prediction.shape)\n",
    "sample_prediction = F.pad(sample_prediction, (0,0,0,0,0,1)).detach().numpy()\n",
    "print(sample_prediction.shape)\n",
    "sample_prediction = np.moveaxis(sample_prediction, 1, 3)\n",
    "print(sample_prediction.shape)\n",
    "\n",
    "\n",
    "#print(sample_prediction.shape, dataset[0][27:28,:,10,22], sample_prediction[:,:,10,22])\n",
    "plot_grid_2d(sample_bc, sample_prediction[0,:,:,:])"
   ]
  },
  {
   "cell_type": "code",
   "execution_count": 24,
   "metadata": {},
   "outputs": [
    {
     "data": {
      "text/plain": [
       "[<matplotlib.lines.Line2D at 0x1e18daa9f08>,\n",
       " <matplotlib.lines.Line2D at 0x1e18daba9c8>]"
      ]
     },
     "execution_count": 24,
     "metadata": {},
     "output_type": "execute_result"
    },
    {
     "data": {
      "image/png": "[encoded data removed]",
      "text/plain": [
       "<Figure size 432x288 with 1 Axes>"
      ]
     },
     "metadata": {
      "needs_background": "light"
     },
     "output_type": "display_data"
    }
   ],
   "source": [
    "## plot losses over time\n",
    "plt.plot(losses[2:,0], losses[2:,1:])"
   ]
  },
  {
   "cell_type": "markdown",
   "metadata": {},
   "source": [
    "## MULTIHEAD ATTENTION"
   ]
  },
  {
   "cell_type": "code",
   "execution_count": 25,
   "metadata": {},
   "outputs": [
    {
     "data": {
      "text/html": [
       "\n",
       "                Logging results to <a href=\"https://wandb.com\" target=\"_blank\">Weights & Biases</a> <a href=\"https://docs.wandb.com/integrations/jupyter.html\" target=\"_blank\">(Documentation)</a>.<br/>\n",
       "                Project page: <a href=\"https://app.wandb.ai/walther/Project\" target=\"_blank\">https://app.wandb.ai/walther/Project</a><br/>\n",
       "                Run page: <a href=\"https://app.wandb.ai/walther/Project/runs/1aaqw1bl\" target=\"_blank\">https://app.wandb.ai/walther/Project/runs/1aaqw1bl</a><br/>\n",
       "            "
      ],
      "text/plain": [
       "<IPython.core.display.HTML object>"
      ]
     },
     "metadata": {},
     "output_type": "display_data"
    },
    {
     "data": {
      "text/plain": [
       "W&B Run: https://app.wandb.ai/walther/Project/runs/1aaqw1bl"
      ]
     },
     "execution_count": 25,
     "metadata": {},
     "output_type": "execute_result"
    }
   ],
   "source": [
    "##update loging\n",
    "wandb.init(config={\"epochs\": 20, \"batch_size\": 90,'learning_rate': 0.0002,\"amsgrad\": True, 'architecture':'attention_architecture_4'})"
   ]
  },
  {
   "cell_type": "code",
   "execution_count": 24,
   "metadata": {},
   "outputs": [],
   "source": [
    "## define attention class\n",
    "\n",
    "class SelfAttention(nn.Module):\n",
    "    \"\"\" Self attention Layer\"\"\"\n",
    "    def __init__(self,in_dim,activation):\n",
    "        super(SelfAttention,self).__init__()\n",
    "        self.chanel_in = in_dim\n",
    "        self.activation = activation\n",
    "        \n",
    "        self.query_conv = nn.Conv2d(in_channels = in_dim , out_channels = in_dim//3 , kernel_size= 1)\n",
    "        self.key_conv = nn.Conv2d(in_channels = in_dim , out_channels = in_dim//3 , kernel_size= 1)\n",
    "        self.value_conv = nn.Conv2d(in_channels = in_dim , out_channels = in_dim , kernel_size= 1)\n",
    "        self.gamma = nn.Parameter(torch.zeros(1))\n",
    "\n",
    "        self.softmax  = nn.Softmax(dim=-1) #\n",
    "    def forward(self,x):\n",
    "        \"\"\"\n",
    "            inputs :\n",
    "                x : input feature maps( B X C X W X H)\n",
    "            returns :\n",
    "                out : self attention value + input feature \n",
    "                attention: B X N X N (N is Width*Height)\n",
    "        \"\"\"\n",
    "        m_batchsize,C,width ,height = x.size()\n",
    "        proj_query  = self.query_conv(x).view(m_batchsize,-1,width*height).permute(0,2,1) # B X CX(N)\n",
    "        proj_key =  self.key_conv(x).view(m_batchsize,-1,width*height) # B X C x (*W*H)\n",
    "        energy =  torch.bmm(proj_query,proj_key) # transpose check\n",
    "        attention = self.softmax(energy) # BX (N) X (N) \n",
    "        proj_value = self.value_conv(x).view(m_batchsize,-1,width*height) # B X C X N\n",
    "\n",
    "        out = torch.bmm(proj_value,attention.permute(0,2,1) )\n",
    "        out = out.view(m_batchsize,C,width,height)\n",
    "        \n",
    "        out = self.gamma*out + x\n",
    "        return out"
   ]
  },
  {
   "cell_type": "code",
   "execution_count": 28,
   "metadata": {},
   "outputs": [
    {
     "data": {
      "text/plain": [
       "tensor([[[[-0.0690, -0.0772, -0.0768,  ..., -0.0767, -0.0840, -0.0722],\n",
       "          [-0.0702, -0.0780, -0.0769,  ..., -0.0748, -0.0834, -0.0860],\n",
       "          [-0.0737, -0.0773, -0.0746,  ..., -0.0722, -0.0819, -0.0829],\n",
       "          ...,\n",
       "          [-0.0742, -0.0751, -0.0727,  ..., -0.0700, -0.0820, -0.0806],\n",
       "          [-0.0689, -0.0673, -0.0596,  ..., -0.0590, -0.0705, -0.0718],\n",
       "          [-0.0614, -0.0442, -0.0367,  ..., -0.0369, -0.0449, -0.0484]],\n",
       "\n",
       "         [[ 0.2227,  0.2241,  0.2279,  ...,  0.2308,  0.2238,  0.2044],\n",
       "          [ 0.2156,  0.2178,  0.2296,  ...,  0.2307,  0.2229,  0.1973],\n",
       "          [ 0.2176,  0.2208,  0.2312,  ...,  0.2292,  0.2201,  0.1937],\n",
       "          ...,\n",
       "          [ 0.2226,  0.2260,  0.2339,  ...,  0.2331,  0.2214,  0.1928],\n",
       "          [ 0.2251,  0.2279,  0.2307,  ...,  0.2282,  0.2190,  0.1857],\n",
       "          [ 0.2078,  0.1987,  0.2015,  ...,  0.1993,  0.1916,  0.1678]],\n",
       "\n",
       "         [[ 0.0675,  0.0665,  0.0693,  ...,  0.0724,  0.0750,  0.0932],\n",
       "          [ 0.0730,  0.0723,  0.0794,  ...,  0.0829,  0.0916,  0.1156],\n",
       "          [ 0.0798,  0.0791,  0.0877,  ...,  0.0933,  0.1009,  0.1178],\n",
       "          ...,\n",
       "          [ 0.0787,  0.0779,  0.0882,  ...,  0.0960,  0.1035,  0.1199],\n",
       "          [ 0.0767,  0.0718,  0.0796,  ...,  0.0883,  0.1007,  0.1138],\n",
       "          [ 0.0942,  0.0900,  0.0936,  ...,  0.0989,  0.1063,  0.1086]]]],\n",
       "       device='cuda:0', grad_fn=<TanhBackward>)"
      ]
     },
     "execution_count": 28,
     "metadata": {},
     "output_type": "execute_result"
    }
   ],
   "source": [
    "class AttentionNet(nn.Module):\n",
    "    def __init__(self):\n",
    "        super(AttentionNet, self).__init__()\n",
    "        \n",
    "        ## convolutional layers\n",
    "        self.conv1 = nn.Conv2d(in_channels = 7, out_channels = 14, kernel_size = 3, padding = 1)\n",
    "        self.conv2 = nn.Conv2d(in_channels = 14, out_channels = 32, kernel_size = 3, padding = 1)\n",
    "        self.deconv1 = nn.ConvTranspose2d(in_channels = 32, out_channels = 64, kernel_size = 3, padding = 1)\n",
    "        self.deconv2 = nn.ConvTranspose2d(in_channels = 64, out_channels = 32, kernel_size = 3, padding = 1)\n",
    "        self.deconv3 = nn.ConvTranspose2d(in_channels = 32, out_channels = 7, kernel_size = 3, padding = 1)\n",
    "        self.deconv4 = nn.ConvTranspose2d(in_channels = 7, out_channels = 3, kernel_size = 3, padding = 1)\n",
    "        \n",
    "        ## activation\n",
    "        self.hardtanh = nn.Hardtanh()\n",
    "        \n",
    "        ## activation\n",
    "        self.hardtanh = nn.Hardtanh()\n",
    "        self.tanh = nn.Tanh()\n",
    "        self.prelu = nn.PReLU()\n",
    "        self.leaky_relu = nn.LeakyReLU()\n",
    "        \n",
    "        ##possible for later: MultiheadAttention\n",
    "        self.multihead_attn_in = SelfAttention(in_dim = 14, activation = None)\n",
    "        self.multihead_attn_out = SelfAttention(in_dim = 3, activation = None)\n",
    "        self.multihead_attn_middle = SelfAttention(in_dim = 64, activation = None)\n",
    "    def forward(self, boundary_conditions):\n",
    "        #print(boundary_conditions.shape)\n",
    "        x = self.conv1(boundary_conditions)\n",
    "        x = self.prelu(x)\n",
    "        x = self.multihead_attn_in(x)\n",
    "        #print(x.shape)\n",
    "        x = self.conv2(x)\n",
    "        x = self.prelu(x)\n",
    "        #print(x.shape)\n",
    "        x = self.deconv1(x)\n",
    "        x = self.multihead_attn_middle(x)\n",
    "        x = self.prelu(x)\n",
    "       #print(x.shape)\n",
    "        x = self.deconv2(x)\n",
    "        x = self.prelu(x)\n",
    "        #print(x.shape)\n",
    "        x = self.deconv3(x) \n",
    "        x = self.prelu(x)\n",
    "       # print(x.shape)\n",
    "        x = self.deconv4(x)\n",
    "        x= self.multihead_attn_out(x)\n",
    "        x = self.tanh(x)\n",
    "        #print(x.shape)\n",
    "        '''\n",
    "        #print(boundary_conditions.shape)\n",
    "        x = self.conv1(boundary_conditions)\n",
    "        #x = self.maxpool(x)\n",
    "        x = self.prelu(x)\n",
    "        #print(x.shape)\n",
    "        x = self.conv2(x)\n",
    "        #x = self.maxpool(x)\n",
    "        x = self.prelu(x)\n",
    "        #print(x.shape)\n",
    "        x = self.deconv1(x)\n",
    "        x = self.prelu(x)\n",
    "        #print(x.shape)\n",
    "        x = self.deconv2(x)\n",
    "        x = self.prelu(x)\n",
    "        #print(x.shape)\n",
    "        x = self.deconv3(x)\n",
    "        x = self.prelu(x)\n",
    "        #print(x.shape)\n",
    "        x = self.deconv4(x)\n",
    "        x = self.tanh(x)\n",
    "        #print(x.shape)\n",
    "        '''\n",
    "        return x\n",
    "    \n",
    "net = AttentionNet().cuda().float()\n",
    "\n",
    "## test to see if getting the correct size\n",
    "net.forward(dataset[0][0:1,:,:,:].cuda())"
   ]
  },
  {
   "cell_type": "code",
   "execution_count": 29,
   "metadata": {},
   "outputs": [],
   "source": [
    "## define criterion\n",
    "criterion = nn.MSELoss().cuda()\n",
    "optimizer = torch.optim.Adam(params = net.parameters(), lr=0.0005, betas=(0.9, 0.999), amsgrad = True)"
   ]
  },
  {
   "cell_type": "code",
   "execution_count": 30,
   "metadata": {},
   "outputs": [
    {
     "data": {
      "text/html": [
       "<iframe src=\"https://app.wandb.ai/walther/Project/runs/1aaqw1bl?jupyter=true&state=paused\" style=\"border:none;width:100%;height:420px\">\n",
       "                </iframe>"
      ],
      "text/plain": [
       "<wandb.jupyter.Run at 0x1e18dafc948>"
      ]
     },
     "metadata": {},
     "output_type": "display_data"
    },
    {
     "name": "stdout",
     "output_type": "stream",
     "text": [
      "1 1 0.02429846301674843 0.02540668398141861\n",
      "2 1 0.0007163311238400638 0.0008403800777159632\n",
      "3 1 0.0005203139153309166 0.0005973215826088563\n",
      "4 1 0.00042779018986038864 0.0005189420480746776\n",
      "5 1 0.0003548358508851379 0.000480679000611417\n",
      "6 1 0.0003170428390149027 0.0004949746100464836\n",
      "7 1 0.00029204992461018264 0.00048785046965349466\n",
      "8 1 0.00027370822499506176 0.000481858232524246\n",
      "9 1 0.00026042325771413743 0.0004781895346241072\n",
      "10 1 0.0002516050008125603 0.0004775788198458031\n",
      "11 1 0.00024542486062273383 0.00047971723543014375\n",
      "12 1 0.00024079994182102382 0.00048134978278540074\n",
      "13 1 0.0002369487629039213 0.00048341818619519473\n",
      "14 1 0.0002339739876333624 0.00048346761614084246\n",
      "15 1 0.0002316312602488324 0.00048074031219584866\n",
      "16 1 0.00022947111574467272 0.00047883272636681793\n",
      "17 1 0.00022678895038552582 0.00047854370495770127\n",
      "18 1 0.00022415953571908176 0.0004780370160005987\n",
      "19 1 0.00022129810531623662 0.00047551620227750393\n",
      "20 1 0.0002161703014280647 0.00047691580548416825\n",
      "Finished Training\n"
     ]
    }
   ],
   "source": [
    "%%wandb \n",
    "## logging cell magic\n",
    "##\n",
    "wandb.watch(net)\n",
    "\n",
    "\n",
    "\n",
    "## define a general training loop\n",
    "losses = np.array([0,0,0])\n",
    "for epoch in range(20):  # loop over the dataset multiple times\n",
    "\n",
    "    running_loss = 0.0\n",
    "    boundary_conditions, targets = dataset[0][:90,:,:,:].cuda(), dataset[1][:90,:,:,:].cuda()\n",
    "    #print(type(boundary_conditions))\n",
    "    for i, bc in enumerate(boundary_conditions):\n",
    "        tgt = targets[i, 1:4, :, :].unsqueeze(0)\n",
    "        bc = bc.unsqueeze(0).cuda()\n",
    "        #print(i, bc.shape, tgt.shape)\n",
    "\n",
    "        # get the inputs; data is a list of [boundary_conditions, targets]\n",
    "        \n",
    "        # zero the parameter gradients\n",
    "        optimizer.zero_grad()\n",
    "\n",
    "        # forward + backward + optimize\n",
    "        prediction = net(bc)\n",
    "        loss = criterion(prediction, tgt)\n",
    "        #print(loss)\n",
    "        loss.backward()\n",
    "        optimizer.step()\n",
    "\n",
    "        # print statistics\n",
    "        running_loss += loss.item()\n",
    "        if i % 100 == 0:    # print every 10 mini-batches\n",
    "            running_val_loss = 0.0\n",
    "            with torch.no_grad():\n",
    "                boundary_conditions_val, targets_val = dataset[0][90:,:,:,:].cuda(), dataset[1][90:,:,:,:].cuda()\n",
    "                for ii, bc_val in enumerate(boundary_conditions_val):\n",
    "                    tgt_val = targets_val[i, 1:4, :, :].unsqueeze(0)\n",
    "                    bc_val = bc_val.unsqueeze(0)\n",
    "                    prediction_val = net(bc_val)\n",
    "                    val_loss = criterion(prediction_val, tgt_val)\n",
    "                    running_val_loss+=val_loss.item()\n",
    "                \n",
    "            print(f'{epoch + 1} {i + 1} {running_loss} {running_val_loss/10}')\n",
    "            losses = np.vstack((losses, [epoch, running_loss, running_val_loss]))\n",
    "            wandb.log({\"loss\": running_loss})\n",
    "            wandb.log({\"val_loss\": running_val_loss})\n",
    "            #print(losses)\n",
    "            running_loss = 0.0\n",
    "            \n",
    "\n",
    "print('Finished Training')"
   ]
  },
  {
   "cell_type": "markdown",
   "metadata": {},
   "source": [
    "So the errors were lower, and it trained and started overfitting extremely quick with a starting attention layer and lr of 0.0005. Looking at the image below, it also learned very well how to identify where the element is. Using attention is definitely a step-up from other strategies."
   ]
  },
  {
   "cell_type": "code",
   "execution_count": 47,
   "metadata": {},
   "outputs": [
    {
     "name": "stdout",
     "output_type": "stream",
     "text": [
      "torch.Size([1, 3, 32, 32])\n",
      "(1, 4, 32, 32)\n",
      "(1, 32, 32, 4)\n"
     ]
    },
    {
     "data": {
      "image/png": "[encoded data removed]",
      "text/plain": [
       "<Figure size 1080x432 with 10 Axes>"
      ]
     },
     "metadata": {
      "needs_background": "light"
     },
     "output_type": "display_data"
    }
   ],
   "source": [
    "sample = 3\n",
    "sample_bc = np.moveaxis(dataset[0][sample,:,:,:].numpy(), 0, 2)\n",
    "## plot one of the results after passing the convolutional network through it once\n",
    "sample_prediction = net.cpu().forward(dataset[0][sample:sample+1,:,:,:])\n",
    "print(sample_prediction.shape)\n",
    "sample_prediction = F.pad(sample_prediction, (0,0,0,0,0,1)).detach().numpy()\n",
    "print(sample_prediction.shape)\n",
    "sample_prediction = np.moveaxis(sample_prediction, 1, 3)\n",
    "print(sample_prediction.shape)\n",
    "\n",
    "\n",
    "#print(sample_prediction.shape, dataset[0][27:28,:,10,22], sample_prediction[:,:,10,22])\n",
    "plot_grid_2d(sample_bc, sample_prediction[0,:,:,:])"
   ]
  },
  {
   "cell_type": "code",
   "execution_count": 101,
   "metadata": {},
   "outputs": [
    {
     "data": {
      "text/plain": [
       "[<matplotlib.lines.Line2D at 0x15417cf1388>,\n",
       " <matplotlib.lines.Line2D at 0x15414c62a08>]"
      ]
     },
     "execution_count": 101,
     "metadata": {},
     "output_type": "execute_result"
    },
    {
     "data": {
      "image/png": "[encoded data removed]",
      "text/plain": [
       "<Figure size 432x288 with 1 Axes>"
      ]
     },
     "metadata": {
      "needs_background": "light"
     },
     "output_type": "display_data"
    }
   ],
   "source": [
    "## plot losses over time\n",
    "plt.plot(losses[2:,0], losses[2:,1:])"
   ]
  },
  {
   "cell_type": "markdown",
   "metadata": {},
   "source": [
    "## VGG 16\n",
    "For this section I'll attempt to use a pre-trained architecture to see if that has any effect on the results"
   ]
  },
  {
   "cell_type": "code",
   "execution_count": 32,
   "metadata": {},
   "outputs": [
    {
     "data": {
      "text/html": [
       "\n",
       "                Logging results to <a href=\"https://wandb.com\" target=\"_blank\">Weights & Biases</a> <a href=\"https://docs.wandb.com/integrations/jupyter.html\" target=\"_blank\">(Documentation)</a>.<br/>\n",
       "                Project page: <a href=\"https://app.wandb.ai/walther/Project\" target=\"_blank\">https://app.wandb.ai/walther/Project</a><br/>\n",
       "                Run page: <a href=\"https://app.wandb.ai/walther/Project/runs/13yytave\" target=\"_blank\">https://app.wandb.ai/walther/Project/runs/13yytave</a><br/>\n",
       "            "
      ],
      "text/plain": [
       "<IPython.core.display.HTML object>"
      ]
     },
     "metadata": {},
     "output_type": "display_data"
    },
    {
     "data": {
      "text/plain": [
       "W&B Run: https://app.wandb.ai/walther/Project/runs/13yytave"
      ]
     },
     "execution_count": 32,
     "metadata": {},
     "output_type": "execute_result"
    }
   ],
   "source": [
    "##update loging\n",
    "wandb.init(config={\"epochs\": 30,'trainable': False, \"batch_size\": 90,'learning_rate': 0.0005,\"amsgrad\": False, 'architecture':'vgg16_attention_material_architecture_4'})"
   ]
  },
  {
   "cell_type": "code",
   "execution_count": 33,
   "metadata": {},
   "outputs": [],
   "source": [
    "import torchvision.models as models"
   ]
  },
  {
   "cell_type": "code",
   "execution_count": 34,
   "metadata": {},
   "outputs": [],
   "source": [
    "vgg16 = models.vgg16(pretrained=True)"
   ]
  },
  {
   "cell_type": "code",
   "execution_count": 35,
   "metadata": {},
   "outputs": [
    {
     "data": {
      "text/plain": [
       "VGG(\n",
       "  (features): Sequential(\n",
       "    (0): Conv2d(3, 64, kernel_size=(3, 3), stride=(1, 1), padding=(1, 1))\n",
       "    (1): ReLU(inplace=True)\n",
       "    (2): Conv2d(64, 64, kernel_size=(3, 3), stride=(1, 1), padding=(1, 1))\n",
       "    (3): ReLU(inplace=True)\n",
       "    (4): MaxPool2d(kernel_size=2, stride=2, padding=0, dilation=1, ceil_mode=False)\n",
       "    (5): Conv2d(64, 128, kernel_size=(3, 3), stride=(1, 1), padding=(1, 1))\n",
       "    (6): ReLU(inplace=True)\n",
       "    (7): Conv2d(128, 128, kernel_size=(3, 3), stride=(1, 1), padding=(1, 1))\n",
       "    (8): ReLU(inplace=True)\n",
       "    (9): MaxPool2d(kernel_size=2, stride=2, padding=0, dilation=1, ceil_mode=False)\n",
       "    (10): Conv2d(128, 256, kernel_size=(3, 3), stride=(1, 1), padding=(1, 1))\n",
       "    (11): ReLU(inplace=True)\n",
       "    (12): Conv2d(256, 256, kernel_size=(3, 3), stride=(1, 1), padding=(1, 1))\n",
       "    (13): ReLU(inplace=True)\n",
       "    (14): Conv2d(256, 256, kernel_size=(3, 3), stride=(1, 1), padding=(1, 1))\n",
       "    (15): ReLU(inplace=True)\n",
       "    (16): MaxPool2d(kernel_size=2, stride=2, padding=0, dilation=1, ceil_mode=False)\n",
       "    (17): Conv2d(256, 512, kernel_size=(3, 3), stride=(1, 1), padding=(1, 1))\n",
       "    (18): ReLU(inplace=True)\n",
       "    (19): Conv2d(512, 512, kernel_size=(3, 3), stride=(1, 1), padding=(1, 1))\n",
       "    (20): ReLU(inplace=True)\n",
       "    (21): Conv2d(512, 512, kernel_size=(3, 3), stride=(1, 1), padding=(1, 1))\n",
       "    (22): ReLU(inplace=True)\n",
       "    (23): MaxPool2d(kernel_size=2, stride=2, padding=0, dilation=1, ceil_mode=False)\n",
       "    (24): Conv2d(512, 512, kernel_size=(3, 3), stride=(1, 1), padding=(1, 1))\n",
       "    (25): ReLU(inplace=True)\n",
       "    (26): Conv2d(512, 512, kernel_size=(3, 3), stride=(1, 1), padding=(1, 1))\n",
       "    (27): ReLU(inplace=True)\n",
       "    (28): Conv2d(512, 512, kernel_size=(3, 3), stride=(1, 1), padding=(1, 1))\n",
       "    (29): ReLU(inplace=True)\n",
       "    (30): MaxPool2d(kernel_size=2, stride=2, padding=0, dilation=1, ceil_mode=False)\n",
       "  )\n",
       "  (avgpool): AdaptiveAvgPool2d(output_size=(7, 7))\n",
       "  (classifier): Sequential(\n",
       "    (0): Linear(in_features=25088, out_features=4096, bias=True)\n",
       "    (1): ReLU(inplace=True)\n",
       "    (2): Dropout(p=0.5, inplace=False)\n",
       "    (3): Linear(in_features=4096, out_features=4096, bias=True)\n",
       "    (4): ReLU(inplace=True)\n",
       "    (5): Dropout(p=0.5, inplace=False)\n",
       "    (6): Linear(in_features=4096, out_features=1000, bias=True)\n",
       "  )\n",
       ")"
      ]
     },
     "execution_count": 35,
     "metadata": {},
     "output_type": "execute_result"
    }
   ],
   "source": [
    "vgg16"
   ]
  },
  {
   "cell_type": "code",
   "execution_count": 36,
   "metadata": {},
   "outputs": [
    {
     "data": {
      "text/plain": [
       "Sequential(\n",
       "  (0): Conv2d(7, 64, kernel_size=(3, 3), stride=(1, 1), padding=(1, 1))\n",
       "  (1): SelfAttention(\n",
       "    (query_conv): Conv2d(64, 21, kernel_size=(1, 1), stride=(1, 1))\n",
       "    (key_conv): Conv2d(64, 21, kernel_size=(1, 1), stride=(1, 1))\n",
       "    (value_conv): Conv2d(64, 64, kernel_size=(1, 1), stride=(1, 1))\n",
       "    (softmax): Softmax(dim=-1)\n",
       "  )\n",
       "  (2): ReLU(inplace=True)\n",
       "  (3): Conv2d(64, 64, kernel_size=(3, 3), stride=(1, 1), padding=(1, 1))\n",
       "  (4): ReLU(inplace=True)\n",
       "  (5): Conv2d(64, 128, kernel_size=(3, 3), stride=(1, 1), padding=(1, 1))\n",
       "  (6): ReLU(inplace=True)\n",
       "  (7): Conv2d(128, 128, kernel_size=(3, 3), stride=(1, 1), padding=(1, 1))\n",
       "  (8): ReLU(inplace=True)\n",
       "  (9): Conv2d(128, 256, kernel_size=(3, 3), stride=(1, 1), padding=(1, 1))\n",
       "  (10): ReLU(inplace=True)\n",
       "  (11): Conv2d(256, 256, kernel_size=(3, 3), stride=(1, 1), padding=(1, 1))\n",
       "  (12): ReLU(inplace=True)\n",
       "  (13): Conv2d(256, 256, kernel_size=(3, 3), stride=(1, 1), padding=(1, 1))\n",
       "  (14): ReLU(inplace=True)\n",
       "  (15): Conv2d(256, 512, kernel_size=(3, 3), stride=(1, 1), padding=(1, 1))\n",
       "  (16): ReLU(inplace=True)\n",
       "  (17): Conv2d(512, 512, kernel_size=(3, 3), stride=(1, 1), padding=(1, 1))\n",
       "  (18): ReLU(inplace=True)\n",
       "  (19): Conv2d(512, 512, kernel_size=(3, 3), stride=(1, 1), padding=(1, 1))\n",
       "  (20): ReLU(inplace=True)\n",
       "  (21): Conv2d(512, 512, kernel_size=(3, 3), stride=(1, 1), padding=(1, 1))\n",
       "  (22): ReLU(inplace=True)\n",
       "  (23): Conv2d(512, 512, kernel_size=(3, 3), stride=(1, 1), padding=(1, 1))\n",
       "  (24): ReLU(inplace=True)\n",
       "  (25): Conv2d(512, 512, kernel_size=(3, 3), stride=(1, 1), padding=(1, 1))\n",
       "  (26): ReLU(inplace=True)\n",
       "  (27): Conv2d(512, 3, kernel_size=(3, 3), stride=(1, 1), padding=(1, 1))\n",
       "  (28): Tanh()\n",
       ")"
      ]
     },
     "execution_count": 36,
     "metadata": {},
     "output_type": "execute_result"
    }
   ],
   "source": [
    "## get convolutional portion of model\n",
    "net = vgg16.features.cuda()\n",
    "\n",
    "## set it to untrainable\n",
    "for i, layer in enumerate(net.parameters()):\n",
    "     layer.requires_grad = False\n",
    "        \n",
    "## change first layer to the correct feature size\n",
    "net[0] = nn.Conv2d(7, 64, kernel_size=(3, 3), stride=(1, 1), padding=(1, 1))\n",
    "\n",
    "# append last layer of correct feature size and correct activation function\n",
    "net = nn.Sequential(*net, (nn.Conv2d(512, 3, kernel_size=(3, 3), stride=(1, 1), padding=(1, 1))))\n",
    "net = nn.Sequential(*net, nn.Tanh())\n",
    "net = nn.Sequential(*net[:1],SelfAttention(in_dim = 64, activation = None), *net[1:] )\n",
    "\n",
    "# send model to gpu\n",
    "net = net.cuda()\n",
    "\n",
    "# remove the max pool layers\n",
    "layer_list = []\n",
    "for layer in net:\n",
    "    if not(type(layer) == torch.nn.modules.pooling.MaxPool2d):\n",
    "        layer_list.append(layer)\n",
    "\n",
    "\n",
    "# create a model without the maxpool layers\n",
    "net = nn. Sequential(*layer_list)\n",
    "\n",
    "\n",
    "\n",
    "net"
   ]
  },
  {
   "cell_type": "code",
   "execution_count": 37,
   "metadata": {},
   "outputs": [
    {
     "name": "stdout",
     "output_type": "stream",
     "text": [
      "0 True\n",
      "1 True\n",
      "2 True\n",
      "3 True\n",
      "4 True\n",
      "5 True\n",
      "6 True\n",
      "7 True\n",
      "8 True\n",
      "9 False\n",
      "10 False\n",
      "11 False\n",
      "12 False\n",
      "13 False\n",
      "14 False\n",
      "15 False\n",
      "16 False\n",
      "17 False\n",
      "18 False\n",
      "19 False\n",
      "20 False\n",
      "21 False\n",
      "22 False\n",
      "23 False\n",
      "24 False\n",
      "25 False\n",
      "26 False\n",
      "27 False\n",
      "28 False\n",
      "29 False\n",
      "30 False\n",
      "31 False\n",
      "32 False\n",
      "33 True\n",
      "34 True\n"
     ]
    }
   ],
   "source": [
    "for i, layer in enumerate(net.parameters()):\n",
    "     print(i, layer.requires_grad)"
   ]
  },
  {
   "cell_type": "code",
   "execution_count": 38,
   "metadata": {},
   "outputs": [],
   "source": [
    "## set to only train the added parameters\n",
    "for i, layer in enumerate(net.parameters()):\n",
    "    if not( i in [0, 1, 34,33,32]):\n",
    "        layer.requires_grad = False\n",
    "    else:\n",
    "        layer.requires_grad = True\n",
    "    #print(i, layer.requires_grad)"
   ]
  },
  {
   "cell_type": "code",
   "execution_count": 39,
   "metadata": {},
   "outputs": [
    {
     "data": {
      "text/plain": [
       "torch.Size([1, 3, 32, 32])"
      ]
     },
     "execution_count": 39,
     "metadata": {},
     "output_type": "execute_result"
    }
   ],
   "source": [
    "net.forward(dataset[0][0:1,:,:,:].cuda()).shape"
   ]
  },
  {
   "cell_type": "code",
   "execution_count": 40,
   "metadata": {},
   "outputs": [],
   "source": [
    "## define criterion\n",
    "criterion = nn.MSELoss(reduction = 'none').cuda()\n",
    "optimizer = torch.optim.Adam(params = net.parameters(), lr=0.0005, betas=(0.9, 0.999), amsgrad = False)"
   ]
  },
  {
   "cell_type": "code",
   "execution_count": 41,
   "metadata": {
    "scrolled": false
   },
   "outputs": [
    {
     "data": {
      "text/html": [
       "<iframe src=\"https://app.wandb.ai/walther/Project/runs/13yytave?jupyter=true&state=paused\" style=\"border:none;width:100%;height:420px\">\n",
       "                </iframe>"
      ],
      "text/plain": [
       "<wandb.jupyter.Run at 0x1e18d6dd408>"
      ]
     },
     "metadata": {},
     "output_type": "display_data"
    },
    {
     "name": "stdout",
     "output_type": "stream",
     "text": [
      "1 1 0.0061997314915061 0.005642091645859182\n",
      "2 1 0.00252536335028708 0.0016038070432841777\n",
      "3 1 0.002486562356352806 0.0014489818946458398\n",
      "4 1 0.0024599945172667503 0.0014340791734866799\n",
      "5 1 0.002340597566217184 0.001368382858345285\n",
      "6 1 0.002119664568454027 0.0014405940717551857\n",
      "7 1 0.002128194784745574 0.0015730106038972735\n",
      "8 1 0.0021319398656487465 0.001525782118551433\n",
      "9 1 0.0022918153554201126 0.0015305503504350782\n",
      "10 1 0.0020677922293543816 0.0014486872358247637\n",
      "11 1 0.002145427279174328 0.0015590363414958119\n",
      "12 1 0.002158875111490488 0.001461173058487475\n",
      "13 1 0.0020587858743965626 0.001549513905774802\n",
      "14 1 0.002138928510248661 0.0015749503334518522\n",
      "15 1 0.0022410107776522636 0.0015425676887389273\n",
      "16 1 0.002140054479241371 0.0015963304555043577\n",
      "17 1 0.002195837441831827 0.001535325072472915\n",
      "18 1 0.0022260001860558987 0.0016212333808653056\n",
      "19 1 0.0023015132173895836 0.0017751575913280248\n",
      "20 1 0.002346457913517952 0.001554993010358885\n",
      "21 1 0.0022771796211600304 0.0016464764135889708\n",
      "22 1 0.0023017930798232555 0.0015139526745770126\n",
      "23 1 0.0024578338488936424 0.0016438208636827766\n",
      "24 1 0.0024071019142866135 0.0016359135508537293\n",
      "25 1 0.0023444020189344883 0.0016484101593960076\n",
      "26 1 0.0023531424812972546 0.0016561991884373128\n",
      "27 1 0.002365589840337634 0.0016845910053234548\n",
      "28 1 0.002301186788827181 0.0017006363137625157\n",
      "29 1 0.0023664035834372044 0.0016849839827045797\n",
      "30 1 0.002441149903461337 0.0017850539647042752\n",
      "Finished Training\n"
     ]
    }
   ],
   "source": [
    "%%wandb \n",
    "## logging cell magic\n",
    "##\n",
    "wandb.watch(net)\n",
    "\n",
    "\n",
    "\n",
    "## define a general training loop\n",
    "losses = np.array([0,0,0])\n",
    "for epoch in range(30):  # loop over the dataset multiple times\n",
    "\n",
    "    running_loss = 0.0\n",
    "    boundary_conditions, targets = dataset[0][:90,:,:,:].cuda(), dataset[1][:90,:,:,:].cuda()\n",
    "    #print(type(boundary_conditions))\n",
    "    for i, bc in enumerate(boundary_conditions):\n",
    "        tgt = targets[i, 1:4, :, :].unsqueeze(0)\n",
    "        material_matrix = boundary_conditions[i, 0, :, :].unsqueeze(0).repeat([1,3,1,1])\n",
    "        ones = torch.ones_like(material_matrix).cuda()\n",
    "        #print(ones.shape)\n",
    "        bc = bc.unsqueeze(0).cuda()\n",
    "        #print(i, bc.shape, tgt.shape)\n",
    "\n",
    "        # get the inputs; data is a list of [boundary_conditions, targets]\n",
    "        \n",
    "        # zero the parameter gradients\n",
    "        optimizer.zero_grad()\n",
    "\n",
    "        # forward + backward + optimize\n",
    "        prediction = net(bc)\n",
    "        \n",
    "        loss = criterion(prediction, tgt)*((material_matrix)+ones)**3\n",
    "        #print((material_matrix).max())\n",
    "        #print((((material_matrix)+ones)**3).max())\n",
    "        # weigh loss based on material map\n",
    "        \n",
    "       \n",
    "        #print(loss.shape)\n",
    "        loss = loss.mean()\n",
    "        \n",
    "        #print(stp)\n",
    "        #print(loss)\n",
    "        loss.backward()\n",
    "        optimizer.step()\n",
    "\n",
    "        # print statistics\n",
    "        running_loss += loss.item()\n",
    "        if i % 100 == 0:    # print every 10 mini-batches\n",
    "            running_val_loss = 0.0\n",
    "            with torch.no_grad():\n",
    "                boundary_conditions_val, targets_val = dataset[0][90:,:,:,:].cuda(), dataset[1][90:,:,:,:].cuda()\n",
    "                for ii, bc_val in enumerate(boundary_conditions_val):\n",
    "                    tgt_val = targets_val[i, 1:4, :, :].unsqueeze(0)\n",
    "                    bc_val = bc_val.unsqueeze(0)\n",
    "                    prediction_val = net(bc_val)\n",
    "                    \n",
    "                    val_loss = criterion(prediction_val, tgt_val)*((material_matrix)+ones)**3\n",
    "                    val_loss = val_loss.mean()\n",
    "                    running_val_loss+=val_loss.item()\n",
    "                \n",
    "            print(f'{epoch + 1} {i + 1} {running_loss} {running_val_loss/10}')\n",
    "            losses = np.vstack((losses, [epoch, running_loss, running_val_loss]))\n",
    "            wandb.log({\"loss\": running_loss})\n",
    "            wandb.log({\"val_loss\": running_val_loss})\n",
    "            #print(losses)\n",
    "            running_loss = 0.0\n",
    "            \n",
    "\n",
    "print('Finished Training')"
   ]
  },
  {
   "cell_type": "markdown",
   "metadata": {},
   "source": [
    "So using a pre-trained model as a feature extractor does seem to help. It was able to learn the dataset in about 4 epochs, using only the new layers as trainable. Allowing the entire model to train on the data from the pre-trained state led to lowest validation loss yet, which was achieved in 3 epochs. This is too good to be true. What became obvious is that the model is overfitting the data and completely ignoring the displacement fields, since it is much easier to simply guess that everything will be zero. A solution to this might be to weigh the loss function based on the material map, with losses inside of the material map being higher than losses outside of it. Trying to do that in this dataset does not seem to have helped, and confounded the losses. For now, I'll be ignoring that idea. It might be better to instead work on the dataset so that each sample takes up more of  the space in the tensor."
   ]
  },
  {
   "cell_type": "code",
   "execution_count": 48,
   "metadata": {},
   "outputs": [
    {
     "name": "stdout",
     "output_type": "stream",
     "text": [
      "torch.Size([1, 3, 32, 32])\n",
      "(1, 4, 32, 32)\n",
      "(1, 32, 32, 4)\n"
     ]
    },
    {
     "data": {
      "image/png": "[encoded data removed]",
      "text/plain": [
       "<Figure size 1080x432 with 10 Axes>"
      ]
     },
     "metadata": {
      "needs_background": "light"
     },
     "output_type": "display_data"
    },
    {
     "data": {
      "text/plain": [
       "Sequential(\n",
       "  (0): Conv2d(7, 64, kernel_size=(3, 3), stride=(1, 1), padding=(1, 1))\n",
       "  (1): SelfAttention(\n",
       "    (query_conv): Conv2d(64, 21, kernel_size=(1, 1), stride=(1, 1))\n",
       "    (key_conv): Conv2d(64, 21, kernel_size=(1, 1), stride=(1, 1))\n",
       "    (value_conv): Conv2d(64, 64, kernel_size=(1, 1), stride=(1, 1))\n",
       "    (softmax): Softmax(dim=-1)\n",
       "  )\n",
       "  (2): ReLU(inplace=True)\n",
       "  (3): Conv2d(64, 64, kernel_size=(3, 3), stride=(1, 1), padding=(1, 1))\n",
       "  (4): ReLU(inplace=True)\n",
       "  (5): Conv2d(64, 128, kernel_size=(3, 3), stride=(1, 1), padding=(1, 1))\n",
       "  (6): ReLU(inplace=True)\n",
       "  (7): Conv2d(128, 128, kernel_size=(3, 3), stride=(1, 1), padding=(1, 1))\n",
       "  (8): ReLU(inplace=True)\n",
       "  (9): Conv2d(128, 256, kernel_size=(3, 3), stride=(1, 1), padding=(1, 1))\n",
       "  (10): ReLU(inplace=True)\n",
       "  (11): Conv2d(256, 256, kernel_size=(3, 3), stride=(1, 1), padding=(1, 1))\n",
       "  (12): ReLU(inplace=True)\n",
       "  (13): Conv2d(256, 256, kernel_size=(3, 3), stride=(1, 1), padding=(1, 1))\n",
       "  (14): ReLU(inplace=True)\n",
       "  (15): Conv2d(256, 512, kernel_size=(3, 3), stride=(1, 1), padding=(1, 1))\n",
       "  (16): ReLU(inplace=True)\n",
       "  (17): Conv2d(512, 512, kernel_size=(3, 3), stride=(1, 1), padding=(1, 1))\n",
       "  (18): ReLU(inplace=True)\n",
       "  (19): Conv2d(512, 512, kernel_size=(3, 3), stride=(1, 1), padding=(1, 1))\n",
       "  (20): ReLU(inplace=True)\n",
       "  (21): Conv2d(512, 512, kernel_size=(3, 3), stride=(1, 1), padding=(1, 1))\n",
       "  (22): ReLU(inplace=True)\n",
       "  (23): Conv2d(512, 512, kernel_size=(3, 3), stride=(1, 1), padding=(1, 1))\n",
       "  (24): ReLU(inplace=True)\n",
       "  (25): Conv2d(512, 512, kernel_size=(3, 3), stride=(1, 1), padding=(1, 1))\n",
       "  (26): ReLU(inplace=True)\n",
       "  (27): Conv2d(512, 3, kernel_size=(3, 3), stride=(1, 1), padding=(1, 1))\n",
       "  (28): Tanh()\n",
       ")"
      ]
     },
     "execution_count": 48,
     "metadata": {},
     "output_type": "execute_result"
    }
   ],
   "source": [
    "sample =96\n",
    "sample_bc = np.moveaxis(dataset[0][sample,:,:,:].numpy(), 0, 2)\n",
    "## plot one of the results after passing the convolutional network through it once\n",
    "sample_prediction = net.cpu().forward(dataset[0][sample:sample+1,:,:,:])\n",
    "print(sample_prediction.shape)\n",
    "sample_prediction = F.pad(sample_prediction, (0,0,0,0,0,1)).detach().numpy()\n",
    "print(sample_prediction.shape)\n",
    "sample_prediction = np.moveaxis(sample_prediction, 1, 3)\n",
    "print(sample_prediction.shape)\n",
    "\n",
    "\n",
    "#print(sample_prediction.shape, dataset[0][27:28,:,10,22], sample_prediction[:,:,10,22])\n",
    "plot_grid_2d(sample_bc, sample_prediction[0,:,:,:])\n",
    "net.cuda()"
   ]
  },
  {
   "cell_type": "markdown",
   "metadata": {},
   "source": [
    "# BASE WITH REPETITION\n",
    "This model tries to do backpropagation after several passes of the network instead of just one\n"
   ]
  },
  {
   "cell_type": "code",
   "execution_count": 73,
   "metadata": {},
   "outputs": [],
   "source": [
    "## define the neural network's general shape\n",
    "\n",
    "class RepetitionNet(nn.Module):\n",
    "    def __init__(self):\n",
    "        super(RepetitionNet, self).__init__()\n",
    "        \n",
    "        ## convolutional layers\n",
    "        self.conv1 = nn.Conv2d(in_channels = 7, out_channels = 14, kernel_size = 3, padding = 1)\n",
    "        self.conv2 = nn.Conv2d(in_channels = 14, out_channels = 16, kernel_size = 3, padding = 1)\n",
    "        self.deconv1 = nn.ConvTranspose2d(in_channels = 16, out_channels = 14, kernel_size = 3, padding = 1)\n",
    "        self.deconv2 = nn.ConvTranspose2d(in_channels = 14, out_channels = 10, kernel_size = 3, padding = 1)\n",
    "        self.deconv3 = nn.ConvTranspose2d(in_channels = 10, out_channels = 7, kernel_size = 3, padding = 1)\n",
    "        self.deconv4 = nn.ConvTranspose2d(in_channels = 7, out_channels = 3, kernel_size = 3, padding = 1)\n",
    "        \n",
    "        ## activation\n",
    "        self.hardtanh = nn.Hardtanh()\n",
    "        self.lrelu = nn.LeakyReLU(0.2)\n",
    "        \n",
    "        ##possible for later: MultiheadAttention\n",
    "        self.multihead_attn_14 = SelfAttention(in_dim = 14, activation = None)\n",
    "        \n",
    "        \n",
    "    def forward(self, boundary_conditions, returns):\n",
    "        if not(returns): #if returns is false return the input\n",
    "            #print(boundary_conditions.shape)\n",
    "            x = self.conv1(boundary_conditions)\n",
    "            x = self.multihead_attn_14(x)\n",
    "            x = self.lrelu(x)\n",
    "            #print(x.shape)\n",
    "            x = self.conv2(x)\n",
    "            #x, attn = self.multihead_attn_middle(x)\n",
    "            x = self.lrelu(x)\n",
    "            #print(x.shape)\n",
    "            x = self.deconv1(x)\n",
    "            x = self.lrelu(x)\n",
    "           #print(x.shape)\n",
    "            x = self.deconv2(x)\n",
    "            x = self.lrelu(x)\n",
    "            #print(x.shape)\n",
    "            x = self.deconv3(x)\n",
    "            x = self.lrelu(x)\n",
    "        elif returns:\n",
    "            x = self.conv1(boundary_conditions)\n",
    "            x = self.multihead_attn_14(x)\n",
    "            x = self.lrelu(x)\n",
    "            #print(x.shape)\n",
    "            x = self.conv2(x)\n",
    "            #x, attn = self.multihead_attn_middle(x)\n",
    "            x = self.lrelu(x)\n",
    "            #print(x.shape)\n",
    "            x = self.deconv1(x)\n",
    "            x = self.lrelu(x)\n",
    "           #print(x.shape)\n",
    "            x = self.deconv2(x)\n",
    "            x = self.lrelu(x)\n",
    "            #print(x.shape)\n",
    "            x = self.deconv3(x)\n",
    "            x = self.lrelu(x)\n",
    "            # print(x.shape)\n",
    "            x = self.deconv4(x)  \n",
    "            x = self.hardtanh(x)\n",
    "            \n",
    "        return x\n",
    "    \n",
    "net = RepetitionNet().cuda().float()\n",
    "\n",
    "## test to see if getting the correct size\n",
    "#%timeit net.forward(dataset[0][0:1,:,:,:].cuda(), returns = True)"
   ]
  },
  {
   "cell_type": "code",
   "execution_count": 72,
   "metadata": {},
   "outputs": [],
   "source": [
    "## parameters\n",
    "learn_rate = 0.0005\n",
    "e = 3"
   ]
  },
  {
   "cell_type": "code",
   "execution_count": 74,
   "metadata": {},
   "outputs": [],
   "source": [
    "## define criterion\n",
    "criterion = nn.MSELoss().cuda()\n",
    "optimizer = torch.optim.Adam(params = net.parameters(), lr=learn_rate, betas=(0.9, 0.999))"
   ]
  },
  {
   "cell_type": "code",
   "execution_count": 75,
   "metadata": {},
   "outputs": [
    {
     "data": {
      "text/html": [
       "\n",
       "                Logging results to <a href=\"https://wandb.com\" target=\"_blank\">Weights & Biases</a> <a href=\"https://docs.wandb.com/integrations/jupyter.html\" target=\"_blank\">(Documentation)</a>.<br/>\n",
       "                Project page: <a href=\"https://app.wandb.ai/walther/Project\" target=\"_blank\">https://app.wandb.ai/walther/Project</a><br/>\n",
       "                Run page: <a href=\"https://app.wandb.ai/walther/Project/runs/46mlsv2f\" target=\"_blank\">https://app.wandb.ai/walther/Project/runs/46mlsv2f</a><br/>\n",
       "            "
      ],
      "text/plain": [
       "<IPython.core.display.HTML object>"
      ]
     },
     "metadata": {},
     "output_type": "display_data"
    },
    {
     "data": {
      "text/plain": [
       "W&B Run: https://app.wandb.ai/walther/Project/runs/46mlsv2f"
      ]
     },
     "execution_count": 75,
     "metadata": {},
     "output_type": "execute_result"
    }
   ],
   "source": [
    "## setup logging\n",
    "wandb.init(config={\"epochs\": e, \"batch_size\": 90,'learning_rate': learn_rate, 'architecture':'repetition_attention_architecture'})"
   ]
  },
  {
   "cell_type": "code",
   "execution_count": 76,
   "metadata": {},
   "outputs": [
    {
     "data": {
      "text/html": [
       "<iframe src=\"https://app.wandb.ai/walther/Project/runs/46mlsv2f?jupyter=true&state=paused\" style=\"border:none;width:100%;height:420px\">\n",
       "                </iframe>"
      ],
      "text/plain": [
       "<wandb.jupyter.Run at 0x1e18d5989c8>"
      ]
     },
     "metadata": {},
     "output_type": "display_data"
    },
    {
     "name": "stdout",
     "output_type": "stream",
     "text": [
      "1 1 0.019998053088784218 0.0218000927940011\n",
      "2 1 0.0007985763950273395 0.0010863074916414917\n",
      "3 1 0.0006409389898180962 0.0008965142245870083\n",
      "Finished Training\n"
     ]
    }
   ],
   "source": [
    "%%wandb\n",
    "\n",
    "torch.autograd.set_detect_anomaly(True)\n",
    "## define a general training loop\n",
    "losses = np.array([0,0,0])\n",
    "for epoch in range(e):  # loop over the dataset multiple times\n",
    "\n",
    "    running_loss = 0.0\n",
    "    boundary_conditions, targets = dataset[0][:90,:,:,:].cuda(), dataset[1][:90,:,:,:].cuda()\n",
    "    #print(type(boundary_conditions))\n",
    "    #net = net.cuda()\n",
    "    for i, bc in enumerate(boundary_conditions):\n",
    "        tgt = targets[i, 1:4, :, :].unsqueeze(0)\n",
    "        bc = bc.unsqueeze(0)\n",
    "        #material_matrix = boundary_conditions[i, 0, :, :].unsqueeze(0).repeat([1,3,1,1])\n",
    "        #print(i, bc.shape, tgt.shape)\n",
    "\n",
    "        # get the inputs; data is a list of [boundary_conditions, targets]\n",
    "        \n",
    "        # zero the parameter gradients\n",
    "        optimizer.zero_grad()\n",
    "\n",
    "        # forward + backward + optimize\n",
    "        repetitions = 3\n",
    "        \n",
    "        prediction = net(bc, returns = False)\n",
    "        prediction = net(prediction, returns = False)\n",
    "        prediction = net(prediction, returns = False)\n",
    "       # prediction = net(prediction, returns = 'input')\n",
    "        #rint(i)\n",
    "        #for ii in range(repetitions):\n",
    "            #print(ii)\n",
    "            #prediction = net(prediction, returns = 'input')\n",
    "        \n",
    "        prediction =  net(prediction, returns = True)\n",
    "        \n",
    "        loss = criterion(prediction, tgt)#/torch.sum(material_matrix)\n",
    "        #print(loss)\n",
    "        loss.backward()\n",
    "        optimizer.step()\n",
    "        \n",
    "        \n",
    "        # print statistics\n",
    "        running_loss += loss.item()\n",
    "        wandb.log({\"loss\": loss})\n",
    "\n",
    "        if i % 100 == 0:    # print every 10 mini-batches\n",
    "            running_val_loss = 0.0\n",
    "            with torch.no_grad():\n",
    "                boundary_conditions_val, targets_val = dataset[0][90:,:,:,:].cuda(), dataset[1][90:,:,:,:].cuda()\n",
    "                for ii, bc_val in enumerate(boundary_conditions_val):\n",
    "                    tgt_val = targets_val[i, 1:4, :, :].unsqueeze(0)\n",
    "                    bc_val = bc_val.unsqueeze(0)\n",
    "                    prediction_val = net(bc_val, returns = 'output')\n",
    "                    val_loss = criterion(prediction_val, tgt_val)#/torch.sum(material_matrix)\n",
    "                    wandb.log({\"val_loss\": val_loss})\n",
    "                    running_val_loss+=val_loss.item()\n",
    "                \n",
    "            print(f'{epoch + 1} {i + 1} {running_loss} {running_val_loss/10}')\n",
    "            #wandb.log({\"loss\": running_loss})\n",
    "            #wandb.log({\"val_loss\": running_val_loss})\n",
    "            losses = np.vstack((losses, [epoch, running_loss, running_val_loss]))\n",
    "            #print(losses)\n",
    "            running_loss = 0.0\n",
    "            \n",
    "\n",
    "print('Finished Training')"
   ]
  },
  {
   "cell_type": "code",
   "execution_count": 77,
   "metadata": {},
   "outputs": [
    {
     "name": "stdout",
     "output_type": "stream",
     "text": [
      "torch.Size([1, 3, 32, 32])\n",
      "(1, 4, 32, 32)\n",
      "(1, 32, 32, 4)\n"
     ]
    },
    {
     "data": {
      "image/png": "[encoded data removed]",
      "text/plain": [
       "<Figure size 1080x432 with 10 Axes>"
      ]
     },
     "metadata": {
      "needs_background": "light"
     },
     "output_type": "display_data"
    },
    {
     "data": {
      "text/plain": [
       "RepetitionNet(\n",
       "  (conv1): Conv2d(7, 14, kernel_size=(3, 3), stride=(1, 1), padding=(1, 1))\n",
       "  (conv2): Conv2d(14, 16, kernel_size=(3, 3), stride=(1, 1), padding=(1, 1))\n",
       "  (deconv1): ConvTranspose2d(16, 14, kernel_size=(3, 3), stride=(1, 1), padding=(1, 1))\n",
       "  (deconv2): ConvTranspose2d(14, 10, kernel_size=(3, 3), stride=(1, 1), padding=(1, 1))\n",
       "  (deconv3): ConvTranspose2d(10, 7, kernel_size=(3, 3), stride=(1, 1), padding=(1, 1))\n",
       "  (deconv4): ConvTranspose2d(7, 3, kernel_size=(3, 3), stride=(1, 1), padding=(1, 1))\n",
       "  (hardtanh): Hardtanh(min_val=-1.0, max_val=1.0)\n",
       "  (lrelu): LeakyReLU(negative_slope=0.2)\n",
       "  (multihead_attn_14): SelfAttention(\n",
       "    (query_conv): Conv2d(14, 4, kernel_size=(1, 1), stride=(1, 1))\n",
       "    (key_conv): Conv2d(14, 4, kernel_size=(1, 1), stride=(1, 1))\n",
       "    (value_conv): Conv2d(14, 14, kernel_size=(1, 1), stride=(1, 1))\n",
       "    (softmax): Softmax(dim=-1)\n",
       "  )\n",
       ")"
      ]
     },
     "execution_count": 77,
     "metadata": {},
     "output_type": "execute_result"
    }
   ],
   "source": [
    "sample =3\n",
    "sample_bc = np.moveaxis(dataset[0][sample,:,:,:].numpy(), 0, 2)\n",
    "## plot one of the results after passing the convolutional network through it once\n",
    "sample_prediction = net.cpu().forward(dataset[0][sample:sample+1,:,:,:], returns = 'output')\n",
    "print(sample_prediction.shape)\n",
    "sample_prediction = F.pad(sample_prediction, (0,0,0,0,0,1)).detach().numpy()\n",
    "print(sample_prediction.shape)\n",
    "sample_prediction = np.moveaxis(sample_prediction, 1, 3)\n",
    "print(sample_prediction.shape)\n",
    "\n",
    "\n",
    "#print(sample_prediction.shape, dataset[0][27:28,:,10,22], sample_prediction[:,:,10,22])\n",
    "plot_grid_2d(sample_bc, sample_prediction[0,:,:,:])\n",
    "net.cuda()"
   ]
  },
  {
   "cell_type": "code",
   "execution_count": 78,
   "metadata": {},
   "outputs": [
    {
     "name": "stdout",
     "output_type": "stream",
     "text": [
      "(32, 32, 7) (32, 32, 4)\n"
     ]
    },
    {
     "data": {
      "image/png": "[encoded data removed]",
      "text/plain": [
       "<Figure size 1080x432 with 10 Axes>"
      ]
     },
     "metadata": {
      "needs_background": "light"
     },
     "output_type": "display_data"
    }
   ],
   "source": [
    "#plot ground truth11\n",
    "sample_bc = np.moveaxis(dataset[0][sample,:,:,:].numpy(), 0, 2)\n",
    "sample_target = np.moveaxis(dataset[1][sample,:,:,:].numpy(), 0, 2)\n",
    "print(sample_bc.shape, sample_target.shape)\n",
    "plot_grid_2d(sample_bc, sample_target)"
   ]
  },
  {
   "cell_type": "markdown",
   "metadata": {},
   "source": [
    "The visual results for this network are very interesting for the first iteration. It takes a longer time to train, but it was able to create a map of where the feature is. Now attempting to see the result of running more than one iteration"
   ]
  },
  {
   "cell_type": "code",
   "execution_count": 79,
   "metadata": {},
   "outputs": [],
   "source": [
    "prediction = net.cpu().forward(dataset[0][sample:sample+1,:,:,:], returns = False)\n",
    "i = 0"
   ]
  },
  {
   "cell_type": "code",
   "execution_count": 295,
   "metadata": {},
   "outputs": [
    {
     "name": "stdout",
     "output_type": "stream",
     "text": [
      "3\n"
     ]
    }
   ],
   "source": [
    "with torch.no_grad():\n",
    "    prediction = net(prediction, returns = False)\n",
    "    i +=1\n",
    "    print(i)"
   ]
  },
  {
   "cell_type": "code",
   "execution_count": 80,
   "metadata": {},
   "outputs": [
    {
     "name": "stdout",
     "output_type": "stream",
     "text": [
      "torch.Size([1, 3, 32, 32])\n",
      "(1, 4, 32, 32)\n",
      "(1, 32, 32, 4)\n"
     ]
    },
    {
     "data": {
      "image/png": "[encoded data removed]",
      "text/plain": [
       "<Figure size 1080x432 with 10 Axes>"
      ]
     },
     "metadata": {
      "needs_background": "light"
     },
     "output_type": "display_data"
    }
   ],
   "source": [
    "sample_prediction = net(prediction, returns = 'output')\n",
    "print(sample_prediction.shape)\n",
    "sample_prediction = F.pad(sample_prediction, (0,0,0,0,0,1)).detach().numpy()\n",
    "print(sample_prediction.shape)\n",
    "sample_prediction = np.moveaxis(sample_prediction, 1, 3)\n",
    "print(sample_prediction.shape)\n",
    "\n",
    "\n",
    "#print(sample_prediction.shape, dataset[0][27:28,:,10,22], sample_prediction[:,:,10,22])\n",
    "plot_grid_2d(sample_bc, sample_prediction[0,:,:,:])"
   ]
  },
  {
   "cell_type": "markdown",
   "metadata": {},
   "source": [
    "Doing this hasn't  helped with convergence it seems. Although letting it train led to the smallest loss yet, the problem seems to be that, again, the model is learning to fit the space around the element and not the element. A different strategy that requires a new dataset positioning and a dataloader to do data augmentation needs to be devised."
   ]
  }
 ],
 "metadata": {
  "kernelspec": {
   "display_name": "Python 3",
   "language": "python",
   "name": "python3"
  },
  "language_info": {
   "codemirror_mode": {
    "name": "ipython",
    "version": 3
   },
   "file_extension": ".py",
   "mimetype": "text/x-python",
   "name": "python",
   "nbconvert_exporter": "python",
   "pygments_lexer": "ipython3",
   "version": "3.7.7"
  }
 },
 "nbformat": 4,
 "nbformat_minor": 4
}
