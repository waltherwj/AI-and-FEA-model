{
 "cells": [
  {
   "cell_type": "markdown",
   "metadata": {},
   "source": [
    "## TRAINING\n",
    "This notebook has as an objective to use a folder containing the formated .npy files to train a deep learning model that can be used in lieu of an FEA model to any accuracy above random, for a proof of concept that it is possible to do so, such that further research can be done afterward to optimize architecture, hyperparameters and data being fed in."
   ]
  },
  {
   "cell_type": "code",
   "execution_count": 206,
   "metadata": {},
   "outputs": [],
   "source": [
    "##  imports\n",
    "\n",
    "import numpy as np\n",
    "import torch\n",
    "import torch.nn as nn\n",
    "import torch.nn.functional as F\n",
    "import pathlib\n",
    "import PREPROCESSING_splitting as split\n",
    "import matplotlib.pyplot as plt\n",
    "import torchvision.transforms"
   ]
  },
  {
   "cell_type": "markdown",
   "metadata": {},
   "source": [
    "## WEIGHTS AND BIASES\n",
    "This section's purpose  is to set up logging for the tests"
   ]
  },
  {
   "cell_type": "code",
   "execution_count": 3,
   "metadata": {},
   "outputs": [],
   "source": [
    "import wandb"
   ]
  },
  {
   "cell_type": "code",
   "execution_count": null,
   "metadata": {},
   "outputs": [],
   "source": []
  },
  {
   "cell_type": "code",
   "execution_count": 3,
   "metadata": {},
   "outputs": [],
   "source": [
    "#import importlib\n",
    "#importlib.reload(torch)"
   ]
  },
  {
   "cell_type": "code",
   "execution_count": 4,
   "metadata": {},
   "outputs": [],
   "source": [
    "## first, create a class to load the files that are to be fed to the neural network, \n",
    "## for both the inputs and the outputs. To avoid confusion I'll refer to the inputs to the \n",
    "## FEA model as 'bound_conds' (boundary conditions), and the outputs as 'targets', while what \n",
    "## is fed into the neural network will be called an \"input\", and the output of the neural network \"prediction\"\n",
    "## this function should probably be transformed into a dataloader later for a larger dataset, \n",
    "## but for now we'll keep it like this\n",
    "\n",
    "def get_dataset(dataset_path, glob_parameter = '*.npy'):\n",
    "    # concatenates all samples into a list of boundary conditions and a list of targets\n",
    "    \n",
    "    # set paths\n",
    "    bound_cond_path = pathlib.Path(dataset_path, 'input')\n",
    "    targets_path = pathlib.Path(dataset_path, 'output')\n",
    "\n",
    "    test = pathlib.Path('D:/')\n",
    "    \n",
    "    \n",
    "    \n",
    "    \n",
    "    # check if folder path is correct\n",
    "    if bound_cond_path.is_dir() and targets_path.is_dir():\n",
    "        print('path contains \\'input\\' and \\'output\\'')\n",
    "        pass\n",
    "    else:\n",
    "        raise Exception (f'Argument dataset_path: {dataset_path} should contain folders ..\\input and ..\\output. Please check path')\n",
    "    \n",
    "    #create iterators for files\n",
    "    bound_cond_iterator = bound_cond_path.glob(glob_parameter)\n",
    "    targets_iterator = targets_path.glob(glob_parameter)\n",
    "    \n",
    "    #zip them to ensure that they are going through the same samples \n",
    "    samples_iterator = zip(bound_cond_iterator, targets_iterator)\n",
    "    \n",
    "    boundary_conditions = np.array([])\n",
    "    targets = np.array([])\n",
    "    \n",
    "    for boundary_condition_files, targets_files in samples_iterator:\n",
    "        if split.get_number(boundary_condition_files.name) == split.get_number(targets_files.name):\n",
    "            \n",
    "            boundary_conditions_temp = np.load(boundary_condition_files)\n",
    "            targets_temp = np.load(targets_files)\n",
    "            \n",
    "            #start array if it hasn't been started yet\n",
    "            if boundary_conditions.size == 0 and targets.size == 0:\n",
    "                boundary_conditions = boundary_conditions_temp\n",
    "                targets = targets_temp\n",
    "            else:\n",
    "                boundary_conditions = np.concatenate((boundary_conditions, boundary_conditions_temp), axis = 0)\n",
    "                targets = np.concatenate((targets, targets_temp), axis = 0)\n",
    "        else:\n",
    "            raise Exception('the samples in the iterator are not synced')\n",
    "    \n",
    "    return torch.from_numpy(boundary_conditions).float(), torch.from_numpy(targets).float()\n",
    "    "
   ]
  },
  {
   "cell_type": "code",
   "execution_count": 82,
   "metadata": {
    "scrolled": true
   },
   "outputs": [
    {
     "name": "stdout",
     "output_type": "stream",
     "text": [
      "path contains 'input' and 'output'\n",
      "<built-in method size of Tensor object at 0x000001E208121318>\n",
      "torch.Size([102, 4, 32, 32])\n"
     ]
    }
   ],
   "source": [
    "folders_path =  pathlib.Path('D:/Ansys Simulations/Project/2D/data/proof_of_concept_V2/scaled/arrays')\n",
    "dataset = get_dataset(dataset_path = folders_path)\n",
    "print(dataset[0].size)\n",
    "print(dataset[1].shape)"
   ]
  },
  {
   "cell_type": "code",
   "execution_count": 84,
   "metadata": {},
   "outputs": [
    {
     "name": "stdout",
     "output_type": "stream",
     "text": [
      "102\n"
     ]
    }
   ],
   "source": [
    "print(dataset[0].size(0))"
   ]
  },
  {
   "cell_type": "markdown",
   "metadata": {},
   "source": [
    "## Create a Dataloader\n"
   ]
  },
  {
   "cell_type": "code",
   "execution_count": null,
   "metadata": {},
   "outputs": [],
   "source": []
  },
  {
   "cell_type": "code",
   "execution_count": 161,
   "metadata": {},
   "outputs": [],
   "source": [
    "## first the dataset that is going to be used in the dataloader\n",
    "class TwoD_Dataset(torch.utils.data.Dataset):\n",
    "    \"\"\"Two D displacement dataset.\"\"\"\n",
    "\n",
    "    def __init__(self, root_dir, glob_parameter = '*.npy', transform=None):\n",
    "        \"\"\"\n",
    "        Args:\n",
    "            root_dir (string): Directory with all the arrays.\n",
    "            glob_parameter (string): string with the correct glob to select files inside of folders\n",
    "            transform (callable, optional): Optional transform to be applied\n",
    "                on a sample.\n",
    "        \"\"\"\n",
    "        self.dataset = get_dataset(root_dir, glob_parameter = '*.npy')\n",
    "        self.transform = transform\n",
    "\n",
    "    def __len__(self):\n",
    "        assert (self.dataset[0].size(0) == self.dataset[1].size(0)), 'different input and output sizes'\n",
    "        return self.dataset[0].size(0)\n",
    "\n",
    "    def __getitem__(self, idx):\n",
    "        if torch.is_tensor(idx):\n",
    "            idx = idx.tolist()\n",
    "\n",
    "        bc = self.dataset[0][idx, :, :, :]\n",
    "        tgt = self.dataset[1][idx, :, :, :]\n",
    "        \n",
    "        sample = {'boundary_conditions': bc, 'target': tgt}\n",
    "\n",
    "        if self.transform:\n",
    "            sample = self.transform(sample)\n",
    "\n",
    "        return sample"
   ]
  },
  {
   "cell_type": "code",
   "execution_count": 162,
   "metadata": {},
   "outputs": [
    {
     "name": "stdout",
     "output_type": "stream",
     "text": [
      "path contains 'input' and 'output'\n"
     ]
    }
   ],
   "source": [
    "## create dataset\n",
    "folders_path =  pathlib.Path('D:/Ansys Simulations/Project/2D/data/proof_of_concept_V2/scaled/arrays')\n",
    "dataset = TwoD_Dataset(folders_path, glob_parameter = '*.npy')"
   ]
  },
  {
   "cell_type": "code",
   "execution_count": 163,
   "metadata": {},
   "outputs": [
    {
     "data": {
      "text/plain": [
       "torch.Size([2, 7, 32, 32])"
      ]
     },
     "execution_count": 163,
     "metadata": {},
     "output_type": "execute_result"
    }
   ],
   "source": [
    "dataset[1:3]['boundary_conditions'].shape"
   ]
  },
  {
   "cell_type": "code",
   "execution_count": 166,
   "metadata": {},
   "outputs": [
    {
     "data": {
      "text/plain": [
       "<torch.utils.data.dataloader.DataLoader at 0x1e1f35c2b88>"
      ]
     },
     "execution_count": 166,
     "metadata": {},
     "output_type": "execute_result"
    }
   ],
   "source": [
    "## create dataloader object\n",
    "##  transforms needto be applied to dataset step\n",
    "dataloader = torch.utils.data.DataLoader(dataset, batch_size=4,\n",
    "                        shuffle=True, num_workers=3)\n",
    "dataloader"
   ]
  },
  {
   "cell_type": "code",
   "execution_count": 141,
   "metadata": {},
   "outputs": [
    {
     "data": {
      "text/plain": [
       "tensor([0.8372, 0.8372, 0.8372])"
      ]
     },
     "execution_count": 141,
     "metadata": {},
     "output_type": "execute_result"
    }
   ],
   "source": [
    "torch.ones(3)*np.cos(np.random.uniform(low = -np.pi, high = np.pi))"
   ]
  },
  {
   "cell_type": "code",
   "execution_count": 242,
   "metadata": {},
   "outputs": [
    {
     "name": "stdout",
     "output_type": "stream",
     "text": [
      "0.1863085847124597\n",
      "torch.Size([3, 32, 32]) <PIL.Image.Image image mode=RGB size=32x32 at 0x1E208048C08>\n",
      "tensor(0.0018)\n",
      "tensor(0.0259)\n",
      "torch.Size([3, 32, 32]) <PIL.Image.Image image mode=RGB size=32x32 at 0x1E208048D88>\n"
     ]
    },
    {
     "ename": "NameError",
     "evalue": "name 'transform' is not defined",
     "output_type": "error",
     "traceback": [
      "\u001b[1;31m---------------------------------------------------------------------------\u001b[0m",
      "\u001b[1;31mNameError\u001b[0m                                 Traceback (most recent call last)",
      "\u001b[1;32m<ipython-input-242-359c5f6fd95d>\u001b[0m in \u001b[0;36m<module>\u001b[1;34m\u001b[0m\n\u001b[0;32m     95\u001b[0m \u001b[1;33m\u001b[0m\u001b[0m\n\u001b[0;32m     96\u001b[0m \u001b[0mdirec_test\u001b[0m \u001b[1;33m=\u001b[0m \u001b[0mDirectionalRotation\u001b[0m\u001b[1;33m(\u001b[0m\u001b[1;36m32\u001b[0m\u001b[1;33m,\u001b[0m \u001b[0mdimensionality\u001b[0m \u001b[1;33m=\u001b[0m \u001b[1;34m'2D'\u001b[0m\u001b[1;33m)\u001b[0m\u001b[1;33m\u001b[0m\u001b[1;33m\u001b[0m\u001b[0m\n\u001b[1;32m---> 97\u001b[1;33m \u001b[0mdirec_test\u001b[0m\u001b[1;33m(\u001b[0m\u001b[0mdataset\u001b[0m\u001b[1;33m[\u001b[0m\u001b[1;36m1\u001b[0m\u001b[1;33m]\u001b[0m\u001b[1;33m)\u001b[0m\u001b[1;33m\u001b[0m\u001b[1;33m\u001b[0m\u001b[0m\n\u001b[0m",
      "\u001b[1;32m<ipython-input-242-359c5f6fd95d>\u001b[0m in \u001b[0;36m__call__\u001b[1;34m(self, sample)\u001b[0m\n\u001b[0;32m     86\u001b[0m \u001b[1;33m\u001b[0m\u001b[0m\n\u001b[0;32m     87\u001b[0m \u001b[1;33m\u001b[0m\u001b[0m\n\u001b[1;32m---> 88\u001b[1;33m         \u001b[0mimg\u001b[0m \u001b[1;33m=\u001b[0m \u001b[0mtransform\u001b[0m\u001b[1;33m.\u001b[0m\u001b[0mresize\u001b[0m\u001b[1;33m(\u001b[0m\u001b[0mimage\u001b[0m\u001b[1;33m,\u001b[0m \u001b[1;33m(\u001b[0m\u001b[0mnew_h\u001b[0m\u001b[1;33m,\u001b[0m \u001b[0mnew_w\u001b[0m\u001b[1;33m)\u001b[0m\u001b[1;33m)\u001b[0m\u001b[1;33m\u001b[0m\u001b[1;33m\u001b[0m\u001b[0m\n\u001b[0m\u001b[0;32m     89\u001b[0m \u001b[1;33m\u001b[0m\u001b[0m\n\u001b[0;32m     90\u001b[0m         \u001b[1;31m# h and w are swapped for landmarks because for images,\u001b[0m\u001b[1;33m\u001b[0m\u001b[1;33m\u001b[0m\u001b[1;33m\u001b[0m\u001b[0m\n",
      "\u001b[1;31mNameError\u001b[0m: name 'transform' is not defined"
     ]
    }
   ],
   "source": [
    "## create a vector rotation transform\n",
    "\n",
    "\n",
    "\"\"\"\n",
    "################################\n",
    "This is not working. The rotation is too convoluted and there are too many bugs.\n",
    "It's not worth it for this step in development. One idea to fix it is to  only rotate them by 90 degree angles\n",
    "which makes the rotations simply transposes and don't require PIL\n",
    "#################################\n",
    "\"\"\"\n",
    "\n",
    "\n",
    "class DirectionalRotation(object):\n",
    "    \"\"\"Rotate a vector with directional coordinates.\n",
    "\n",
    "    Args:\n",
    "        output_size (tuple or int): Desired output size. If tuple, output is\n",
    "            matched to output_size. If int, smaller of image edges is matched\n",
    "            to output_size keeping aspect ratio the same.\n",
    "    \"\"\"\n",
    "\n",
    "    def __init__(self, output_size, dimensionality):\n",
    "        assert isinstance(output_size, (int, tuple))\n",
    "        self.output_size = output_size\n",
    "        self.dimensionality = dimensionality.lower()\n",
    "\n",
    "    def __call__(self, sample):\n",
    "        boundary_condition, target = sample['boundary_conditions'], sample['target']\n",
    "        # get angle\n",
    "        \n",
    "        angle = np.random.uniform(low = -np.pi, high = np.pi)\n",
    "        print(angle)\n",
    "        \n",
    "        assert self.dimensionality == '2d', '3D NOT IMPLEMENTED YET'\n",
    "        ## boundary conditions\n",
    "        boundary_condition_temp = boundary_condition.clone()\n",
    "        boundary_condition_temp[1:2 , :, :] = boundary_condition[1:2 , :, :]*np.cos(angle) \\\n",
    "                                                - boundary_condition[2:3 , :, :]*np.sin(angle)\n",
    "        \n",
    "        boundary_condition_temp[2:3 , :, :] = boundary_condition[1:2 , :, :]*np.sin(angle) \\\n",
    "                                                + boundary_condition[2:3 , :, :]*np.cos(angle)\n",
    "        \n",
    "        boundary_condition_temp[4:5 , :, :] = boundary_condition[4:5 , :, :]*np.cos(angle) \\\n",
    "                                                - boundary_condition[5:6 , :, :]*np.sin(angle)\n",
    "        \n",
    "        boundary_condition_temp[5:6 , :, :] = boundary_condition[4:5 , :, :]*np.sin(angle) \\\n",
    "                                                + boundary_condition[5:6 , :, :]*np.cos(angle)\n",
    "        \n",
    "        toPil = torchvision.transforms.ToPILImage(mode = 'RGB')\n",
    "        \n",
    "            \n",
    "        print(boundary_condition_temp[ 1:4 , :, :].shape, toPil(boundary_condition_temp[1:4 , :, :]))\n",
    "        \n",
    "        pil_disp_img = toPil(boundary_condition_temp[1:4 , :, :])\n",
    "        boundary_condition_disp_image = torchvision.transforms.functional.rotate(pil_disp_img, angle)\n",
    "        boundary_condition_temp[1:4 , :, :] = torchvision.transforms.functional.to_tensor(boundary_condition_disp_image)\n",
    "        \n",
    "        pil_force_img = toPil(boundary_condition_temp[4:7 , :, :])\n",
    "        boundary_condition_force_image = torchvision.transforms.functional.rotate(pil_force_img, angle)\n",
    "        boundary_condition_temp[4:7 , :, :] = torchvision.transforms.functional.to_tensor(boundary_condition_force_image)\n",
    "        \n",
    "        \n",
    "        \"\"\"#TEST: tests if the magnitude is still the same after rotation. It should be.\n",
    "        print(torch.mean(torch.sqrt((boundary_condition[1:2,:,:]**2 + boundary_condition[2:3,:,:]**2))))\n",
    "        print(torch.mean(torch.sqrt((boundary_condition_temp[1:2,:,:]**2 + boundary_condition_temp[2:3,:,:]**2))))\"\"\"\n",
    "        \n",
    "        \n",
    "        ## targets\n",
    "        target_temp = boundary_condition.clone()\n",
    "        boundary_condition_temp[1:2 , :, :] = boundary_condition[1:2 , :, :]*np.cos(angle) \\\n",
    "                                                - boundary_condition[2:3 , :, :]*np.sin(angle)\n",
    "        \n",
    "        boundary_condition_temp[2:3 , :, :] = boundary_condition[1:2 , :, :]*np.sin(angle) \\\n",
    "                                                + boundary_condition[2:3 , :, :]*np.cos(angle)\n",
    "        \n",
    "        boundary_condition_temp[4:5 , :, :] = boundary_condition[4:5 , :, :]*np.cos(angle) \\\n",
    "                                                - boundary_condition[5:6 , :, :]*np.sin(angle)\n",
    "        \n",
    "        boundary_condition_temp[5:6 , :, :] = boundary_condition[4:5 , :, :]*np.sin(angle) \\\n",
    "                                                + boundary_condition[5:6 , :, :]*np.cos(angle)\n",
    "        \n",
    "        toPil = torchvision.transforms.ToPILImage(mode = 'RGB')\n",
    "        \n",
    "            \n",
    "        print(boundary_condition_temp[ 1:4 , :, :].shape, toPil(boundary_condition_temp[1:4 , :, :]))\n",
    "        \n",
    "        pil_disp_img = toPil(boundary_condition_temp[1:4 , :, :])\n",
    "        boundary_condition_disp_image = torchvision.transforms.functional.rotate(pil_disp_img, angle)\n",
    "        boundary_condition_temp[1:4 , :, :] = torchvision.transforms.functional.to_tensor(boundary_condition_disp_image)\n",
    "        \n",
    "        pil_force_img = toPil(boundary_condition_temp[4:7 , :, :])\n",
    "        boundary_condition_force_image = torchvision.transforms.functional.rotate(pil_force_img, angle)\n",
    "        boundary_condition_temp[4:7 , :, :] = torchvision.transforms.functional.to_tensor(boundary_condition_force_image)\n",
    "        \n",
    "        \n",
    "        \n",
    "        \n",
    "        \n",
    "        img = transform.resize(image, (new_h, new_w))\n",
    "\n",
    "        # h and w are swapped for landmarks because for images,\n",
    "        # x and y axes are axis 1 and 0 respectively\n",
    "        landmarks = landmarks * [new_w / w, new_h / h]\n",
    "\n",
    "        return {'image': img, 'landmarks': landmarks}\n",
    "    \n",
    "direc_test = DirectionalRotation(32, dimensionality = '2D')\n",
    "direc_test(dataset[1])"
   ]
  },
  {
   "cell_type": "markdown",
   "metadata": {},
   "source": [
    "## BASE"
   ]
  },
  {
   "cell_type": "code",
   "execution_count": 9,
   "metadata": {},
   "outputs": [
    {
     "data": {
      "text/plain": [
       "tensor([[[[-0.1180, -0.0429, -0.0490,  ..., -0.0620, -0.0486, -0.0124],\n",
       "          [-0.1635, -0.0954, -0.1064,  ..., -0.1251, -0.1128, -0.0292],\n",
       "          [-0.1801, -0.1032, -0.1088,  ..., -0.1246, -0.1109, -0.0178],\n",
       "          ...,\n",
       "          [-0.1905, -0.1108, -0.1199,  ..., -0.1160, -0.1065, -0.0184],\n",
       "          [-0.1893, -0.1107, -0.1050,  ..., -0.1087, -0.1010, -0.0121],\n",
       "          [-0.1602, -0.1338, -0.1417,  ..., -0.1510, -0.1469, -0.0906]],\n",
       "\n",
       "         [[-0.1569, -0.1148, -0.0921,  ..., -0.0915, -0.0936, -0.0460],\n",
       "          [-0.1964, -0.2007, -0.1759,  ..., -0.1700, -0.1730, -0.1124],\n",
       "          [-0.1918, -0.1914, -0.1682,  ..., -0.1594, -0.1618, -0.1024],\n",
       "          ...,\n",
       "          [-0.1818, -0.1666, -0.1433,  ..., -0.1575, -0.1636, -0.1020],\n",
       "          [-0.1768, -0.1681, -0.1474,  ..., -0.1526, -0.1609, -0.1044],\n",
       "          [-0.1147, -0.1114, -0.1067,  ..., -0.1033, -0.1129, -0.0811]],\n",
       "\n",
       "         [[-0.0340, -0.0463, -0.0473,  ..., -0.0497, -0.0314, -0.0398],\n",
       "          [-0.0807, -0.1078, -0.1238,  ..., -0.1263, -0.1042, -0.0882],\n",
       "          [-0.0848, -0.1130, -0.1293,  ..., -0.1290, -0.1067, -0.0883],\n",
       "          ...,\n",
       "          [-0.0837, -0.1067, -0.1330,  ..., -0.1281, -0.1064, -0.0931],\n",
       "          [-0.0938, -0.1012, -0.1174,  ..., -0.1118, -0.0882, -0.0678],\n",
       "          [-0.0857, -0.1060, -0.1219,  ..., -0.1263, -0.1223, -0.1051]]]],\n",
       "       device='cuda:0', grad_fn=<HardtanhBackward0>)"
      ]
     },
     "execution_count": 9,
     "metadata": {},
     "output_type": "execute_result"
    }
   ],
   "source": [
    "## define the neural network's general shape\n",
    "\n",
    "class ConvNet(nn.Module):\n",
    "    def __init__(self):\n",
    "        super(ConvNet, self).__init__()\n",
    "        \n",
    "        ## convolutional layers\n",
    "        self.conv1 = nn.Conv2d(in_channels = 7, out_channels = 14, kernel_size = 3, padding = 1)\n",
    "        self.conv2 = nn.Conv2d(in_channels = 14, out_channels = 16, kernel_size = 3, padding = 1)\n",
    "        self.deconv1 = nn.ConvTranspose2d(in_channels = 16, out_channels = 14, kernel_size = 3, padding = 1)\n",
    "        self.deconv2 = nn.ConvTranspose2d(in_channels = 14, out_channels = 10, kernel_size = 3, padding = 1)\n",
    "        self.deconv3 = nn.ConvTranspose2d(in_channels = 10, out_channels = 7, kernel_size = 3, padding = 1)\n",
    "        self.deconv4 = nn.ConvTranspose2d(in_channels = 7, out_channels = 3, kernel_size = 3, padding = 1)\n",
    "        \n",
    "        ## activation\n",
    "        self.hardtanh = nn.Hardtanh()\n",
    "        \n",
    "        \n",
    "        ##possible for later: MultiheadAttention\n",
    "        self.multihead_attn_middle = SelfAttention(in_dim = 16, activation = None)\n",
    "        \n",
    "        \n",
    "    def forward(self, boundary_conditions):\n",
    "        #print(boundary_conditions.shape)\n",
    "        x = self.conv1(boundary_conditions)\n",
    "        x = self.hardtanh(x)\n",
    "        #print(x.shape)\n",
    "        x = self.conv2(x)\n",
    "        x = self.multihead_attn_middle(x)\n",
    "        x = self.hardtanh(x)\n",
    "        #print(x.shape)\n",
    "        x = self.deconv1(x)\n",
    "        x = self.hardtanh(x)\n",
    "       #print(x.shape)\n",
    "        x = self.deconv2(x)\n",
    "        x = self.hardtanh(x)\n",
    "        #print(x.shape)\n",
    "        x = self.deconv3(x)\n",
    "        x = self.hardtanh(x)\n",
    "       # print(x.shape)\n",
    "        x = self.deconv4(x)\n",
    "        x = self.hardtanh(x)\n",
    "        #print(x.shape)\n",
    "        return x\n",
    "    \n",
    "net = ConvNet().cuda().float()\n",
    "\n",
    "## test to see if getting the correct size\n",
    "net.forward(dataset[0][0:1,:,:,:].cuda())"
   ]
  },
  {
   "cell_type": "code",
   "execution_count": null,
   "metadata": {},
   "outputs": [],
   "source": []
  },
  {
   "cell_type": "code",
   "execution_count": 10,
   "metadata": {},
   "outputs": [],
   "source": [
    "## define criterion\n",
    "criterion = nn.MSELoss().cuda()\n",
    "optimizer = torch.optim.Adam(params = net.parameters(), lr=0.0002, betas=(0.9, 0.999))"
   ]
  },
  {
   "cell_type": "code",
   "execution_count": 12,
   "metadata": {},
   "outputs": [
    {
     "data": {
      "text/html": [
       "\n",
       "                Logging results to <a href=\"https://wandb.com\" target=\"_blank\">Weights & Biases</a> <a href=\"https://docs.wandb.com/integrations/jupyter.html\" target=\"_blank\">(Documentation)</a>.<br/>\n",
       "                Project page: <a href=\"https://app.wandb.ai/walther/Project\" target=\"_blank\">https://app.wandb.ai/walther/Project</a><br/>\n",
       "                Run page: <a href=\"https://app.wandb.ai/walther/Project/runs/32k8jrcp\" target=\"_blank\">https://app.wandb.ai/walther/Project/runs/32k8jrcp</a><br/>\n",
       "            "
      ],
      "text/plain": [
       "<IPython.core.display.HTML object>"
      ]
     },
     "metadata": {},
     "output_type": "display_data"
    },
    {
     "data": {
      "text/plain": [
       "W&B Run: https://app.wandb.ai/walther/Project/runs/32k8jrcp"
      ]
     },
     "execution_count": 12,
     "metadata": {},
     "output_type": "execute_result"
    }
   ],
   "source": [
    "## setup logging\n",
    "wandb.init(config={\"epochs\": 30, \"batch_size\": 90,'learning_rate': 0.0002, 'architecture':'base_with_attention_architecture', 'database': 'v2'})"
   ]
  },
  {
   "cell_type": "code",
   "execution_count": 78,
   "metadata": {},
   "outputs": [],
   "source": []
  },
  {
   "cell_type": "code",
   "execution_count": 13,
   "metadata": {},
   "outputs": [
    {
     "data": {
      "text/html": [
       "<iframe src=\"https://app.wandb.ai/walther/Project/runs/32k8jrcp?jupyter=true&state=paused\" style=\"border:none;width:100%;height:420px\">\n",
       "                </iframe>"
      ],
      "text/plain": [
       "<wandb.jupyter.Run at 0x1e18a921308>"
      ]
     },
     "metadata": {},
     "output_type": "display_data"
    },
    {
     "name": "stdout",
     "output_type": "stream",
     "text": [
      "1 1 0.019500035792589188 0.019229497015476226\n",
      "2 1 0.0006297589861787856 0.0008656394609715789\n",
      "3 1 0.000524667208082974 0.0007617126277182252\n",
      "4 1 0.0004596479411702603 0.0006874827668070793\n",
      "5 1 0.00041466159746050835 0.0006331787561066448\n",
      "6 1 0.00038157295784913003 0.0005916998459724709\n",
      "7 1 0.00035632200888358057 0.0005594998714514076\n",
      "8 1 0.0003362080315127969 0.0005341270647477358\n",
      "9 1 0.0003190666902810335 0.000513433394371532\n",
      "10 1 0.00030290649738162756 0.000495223273173906\n",
      "11 1 0.00028631932218559086 0.00047793201229069383\n",
      "12 1 0.00027056067483499646 0.0004640304541680962\n",
      "13 1 0.00025791663210839033 0.00045739598863292485\n",
      "14 1 0.0002471797342877835 0.0004543875562376343\n",
      "15 1 0.00023771118139848113 0.00045194800914032384\n",
      "16 1 0.00022929573606234044 0.0004499201924772933\n",
      "17 1 0.00022126937983557582 0.0004485124154598452\n",
      "18 1 0.00021308234136085957 0.00044780177995562553\n",
      "19 1 0.00020446762209758162 0.0004478721137274988\n",
      "20 1 0.00019541328947525471 0.000448871502885595\n",
      "21 1 0.00018615351291373372 0.00045095595851307735\n",
      "22 1 0.00017711345572024584 0.0004541775124380365\n",
      "23 1 0.0001687608746578917 0.00045837402867618946\n",
      "24 1 0.00016143545508384705 0.00046316990919876845\n",
      "25 1 0.000155265603098087 0.0004681111575337127\n",
      "26 1 0.0001501969964010641 0.0004728267900645733\n",
      "27 1 0.0001460735802538693 0.000477101570868399\n",
      "28 1 0.00014270994870457798 0.0004808628131286241\n",
      "29 1 0.00013993677566759288 0.00048413147160317747\n",
      "30 1 0.00013761814625468105 0.0004869744356255978\n",
      "31 1 0.000135652648168616 0.0004894716359558516\n",
      "32 1 0.00013396743452176452 0.0004916978694382123\n",
      "33 1 0.00013251003110781312 0.0004937157704262063\n",
      "34 1 0.00013124292308930308 0.0004955726253683679\n",
      "35 1 0.00013013789430260658 0.0004973037182935513\n",
      "36 1 0.00012917391723021865 0.0004989339722669683\n",
      "37 1 0.0001283338642679155 0.0005004811624530703\n",
      "38 1 0.00012760370736941695 0.0005019584685214795\n",
      "39 1 0.0001269716303795576 0.0005033761000959203\n",
      "40 1 0.00012642753426916897 0.0005047430255217478\n",
      "41 1 0.00012596182932611555 0.000506066155503504\n",
      "42 1 0.0001255664974451065 0.0005073530541267246\n",
      "43 1 0.00012523388431873173 0.0005086098477477208\n",
      "44 1 0.00012495749979279935 0.0005098429654026404\n",
      "45 1 0.00012473110109567642 0.0005110569851240143\n",
      "46 1 0.00012454946408979595 0.0005122558970469982\n",
      "47 1 0.00012440774298738688 0.0005134428385645152\n",
      "48 1 0.00012430196511559188 0.000514619164459873\n",
      "49 1 0.0001242287689819932 0.0005157854146091267\n",
      "50 1 0.00012418515689205378 0.0005169412557734177\n",
      "Finished Training\n"
     ]
    }
   ],
   "source": [
    "%%wandb\n",
    "\n",
    "\n",
    "## define a general training loop\n",
    "losses = np.array([0,0,0])\n",
    "for epoch in range(50):  # loop over the dataset multiple times\n",
    "\n",
    "    running_loss = 0.0\n",
    "    boundary_conditions, targets = dataset[0][:90,:,:,:].cuda(), dataset[1][:90,:,:,:].cuda()\n",
    "    #print(type(boundary_conditions))\n",
    "    #net = net.cuda()\n",
    "    for i, bc in enumerate(boundary_conditions):\n",
    "        tgt = targets[i, 1:4, :, :].unsqueeze(0)\n",
    "        bc = bc.unsqueeze(0)\n",
    "        material_matrix = boundary_conditions[i, 0, :, :].unsqueeze(0).repeat([1,3,1,1])\n",
    "        #print(i, bc.shape, tgt.shape)\n",
    "\n",
    "        # get the inputs; data is a list of [boundary_conditions, targets]\n",
    "        \n",
    "        # zero the parameter gradients\n",
    "        optimizer.zero_grad()\n",
    "\n",
    "        # forward + backward + optimize\n",
    "        prediction = net(bc)\n",
    "        loss = criterion(prediction, tgt)#/torch.sum(material_matrix)\n",
    "        #print(loss)\n",
    "        loss.backward()\n",
    "        optimizer.step()\n",
    "        \n",
    "        \n",
    "        # print statistics\n",
    "        running_loss += loss.item()\n",
    "        if i % 100 == 0:    # print every 10 mini-batches\n",
    "            running_val_loss = 0.0\n",
    "            with torch.no_grad():\n",
    "                boundary_conditions_val, targets_val = dataset[0][90:,:,:,:].cuda(), dataset[1][90:,:,:,:].cuda()\n",
    "                for ii, bc_val in enumerate(boundary_conditions_val):\n",
    "                    tgt_val = targets_val[i, 1:4, :, :].unsqueeze(0)\n",
    "                    bc_val = bc_val.unsqueeze(0)\n",
    "                    prediction_val = net(bc_val)\n",
    "                    val_loss = criterion(prediction_val, tgt_val)#/torch.sum(material_matrix)\n",
    "                    \n",
    "                    running_val_loss+=val_loss.item()\n",
    "                \n",
    "            print(f'{epoch + 1} {i + 1} {running_loss} {running_val_loss/10}')\n",
    "            wandb.log({\"loss\": running_loss})\n",
    "            wandb.log({\"val_loss\": running_val_loss})\n",
    "            losses = np.vstack((losses, [epoch, running_loss, running_val_loss]))\n",
    "            #print(losses)\n",
    "            running_loss = 0.0\n",
    "            \n",
    "\n",
    "print('Finished Training')"
   ]
  },
  {
   "cell_type": "code",
   "execution_count": 14,
   "metadata": {
    "scrolled": true
   },
   "outputs": [
    {
     "data": {
      "text/plain": [
       "[<matplotlib.lines.Line2D at 0x1e197379848>,\n",
       " <matplotlib.lines.Line2D at 0x1e18a8ee608>]"
      ]
     },
     "execution_count": 14,
     "metadata": {},
     "output_type": "execute_result"
    },
    {
     "data": {
      "image/png": "[encoded data removed]",
      "text/plain": [
       "<Figure size 432x288 with 1 Axes>"
      ]
     },
     "metadata": {
      "needs_background": "light"
     },
     "output_type": "display_data"
    }
   ],
   "source": [
    "## attempt to plot losses over time\n",
    "plt.plot(losses[1:,0], losses[1:,1:])"
   ]
  },
  {
   "cell_type": "code",
   "execution_count": 15,
   "metadata": {
    "scrolled": true
   },
   "outputs": [
    {
     "data": {
      "text/plain": [
       "[<matplotlib.lines.Line2D at 0x1e18ac29948>,\n",
       " <matplotlib.lines.Line2D at 0x1e18ac31908>]"
      ]
     },
     "execution_count": 15,
     "metadata": {},
     "output_type": "execute_result"
    },
    {
     "data": {
      "image/png": "[encoded data removed]",
      "text/plain": [
       "<Figure size 432x288 with 1 Axes>"
      ]
     },
     "metadata": {
      "needs_background": "light"
     },
     "output_type": "display_data"
    }
   ],
   "source": [
    "## attempt to plot losses over time to sho where the model started overfitting on the data\n",
    "plt.plot(losses[10:,0], losses[10:,1:])"
   ]
  },
  {
   "cell_type": "markdown",
   "metadata": {},
   "source": [
    "Therefore, it can be seen that the network learns some of the relationships in the dataset, and is able to overfit it after a while."
   ]
  },
  {
   "cell_type": "code",
   "execution_count": 16,
   "metadata": {},
   "outputs": [],
   "source": [
    "%matplotlib inline \n",
    "#f = plt.figure()\n",
    "\n",
    "\n",
    "#plt.imshow(concat_input[:,:,0])\n",
    "def plot_grid_2d(concat_input, concat_output):\n",
    "    \n",
    "    f, axarr = plt.subplots(2,5, figsize = (15,6)) \n",
    "    \n",
    "    axarr[0,0].imshow(np.abs(concat_input[:,:,0]))\n",
    "    axarr[0,0].set(title='smoothed map')\n",
    "\n",
    "    axarr[0,1].imshow(np.abs(concat_input[:,:,1]))\n",
    "    axarr[0,1].set(title='X displacement B.C.')\n",
    "\n",
    "    axarr[0,2].imshow(np.abs(concat_input[:,:,2]))\n",
    "    axarr[0,2].set(title='Y displacement B.C.')\n",
    "\n",
    "    axarr[0,3].imshow(np.abs(concat_input[:,:,3]))\n",
    "    axarr[0,3].set(title='Z displacement  B.C')\n",
    "\n",
    "    axarr[0,4].imshow(np.abs(concat_input[:,:,4]))\n",
    "    axarr[0,4].set(title='X force B.C.')\n",
    "\n",
    "    axarr[1,0].imshow(np.abs(concat_input[:,:,5]))\n",
    "    axarr[1,0].set(title='Y force B.C.')\n",
    "\n",
    "    axarr[1,1].imshow(np.abs(concat_input[:,:,6]))\n",
    "    axarr[1,1].set(title='Z force B.C.')\n",
    "\n",
    "    axarr[1,2].imshow(np.abs(concat_output[:,:,1]))\n",
    "    axarr[1,2].set(title='X displacement result')\n",
    "\n",
    "    axarr[1,3].imshow(np.abs(concat_output[:,:,2]))\n",
    "    axarr[1,3].set(title='Y displacement result')\n",
    "\n",
    "    axarr[1,4].imshow(np.abs(concat_output[:,:,3]))\n",
    "    axarr[1,4].set(title='Z displacement result')\n",
    "\n",
    "    plt.show()"
   ]
  },
  {
   "cell_type": "code",
   "execution_count": 17,
   "metadata": {},
   "outputs": [
    {
     "name": "stdout",
     "output_type": "stream",
     "text": [
      "(32, 32, 7) (32, 32, 4)\n"
     ]
    },
    {
     "data": {
      "image/png": "[encoded data removed]",
      "text/plain": [
       "<Figure size 1080x432 with 10 Axes>"
      ]
     },
     "metadata": {
      "needs_background": "light"
     },
     "output_type": "display_data"
    }
   ],
   "source": [
    "#plot ground truth\n",
    "sample =96\n",
    "sample_bc = np.moveaxis(dataset[0][sample,:,:,:].numpy(), 0, 2)\n",
    "sample_target = np.moveaxis(dataset[1][sample,:,:,:].numpy(), 0, 2)\n",
    "print(sample_bc.shape, sample_target.shape)\n",
    "plot_grid_2d(sample_bc, sample_target)"
   ]
  },
  {
   "cell_type": "code",
   "execution_count": 18,
   "metadata": {},
   "outputs": [
    {
     "name": "stdout",
     "output_type": "stream",
     "text": [
      "torch.Size([1, 3, 32, 32])\n",
      "(1, 4, 32, 32)\n",
      "(1, 32, 32, 4)\n"
     ]
    },
    {
     "data": {
      "image/png": "[encoded data removed]",
      "text/plain": [
       "<Figure size 1080x432 with 10 Axes>"
      ]
     },
     "metadata": {
      "needs_background": "light"
     },
     "output_type": "display_data"
    }
   ],
   "source": [
    "sample = 96\n",
    "sample_bc = np.moveaxis(dataset[0][sample,:,:,:].numpy(), 0, 2)\n",
    "## plot one of the results after passing the convolutional network through it once\n",
    "sample_prediction = net.cpu().forward(dataset[0][sample:sample+1,:,:,:])\n",
    "print(sample_prediction.shape)\n",
    "sample_prediction = F.pad(sample_prediction, (0,0,0,0,0,1)).detach().numpy()\n",
    "print(sample_prediction.shape)\n",
    "sample_prediction = np.moveaxis(sample_prediction, 1, 3)\n",
    "print(sample_prediction.shape)\n",
    "\n",
    "\n",
    "#print(sample_prediction.shape, dataset[0][27:28,:,10,22], sample_prediction[:,:,10,22])\n",
    "plot_grid_2d(sample_bc, sample_prediction[0,:,:,:])"
   ]
  },
  {
   "cell_type": "markdown",
   "metadata": {},
   "source": [
    "So one of the conclusions is that the convolutional network was  able to succesfully learn a model that can be applied to a space to generate a result  that correlates to the target. Even with a very small number of samples, the network was able to learn some basic principles about the geometry of the sample and of the relationships between boundary conditions and targets"
   ]
  },
  {
   "cell_type": "code",
   "execution_count": 53,
   "metadata": {},
   "outputs": [
    {
     "name": "stdout",
     "output_type": "stream",
     "text": [
      "torch.Size([1, 3, 32, 32])\n",
      "torch.Size([1, 3, 32, 32])\n",
      " 0.000156545\n"
     ]
    }
   ],
   "source": [
    "## get loss of the results\n",
    "with torch.no_grad():\n",
    "    print(dataset[1][sample, 1:4, :, :].unsqueeze(0).shape)\n",
    "    print(net.forward(dataset[0][sample:sample+1,:,:,:]).shape)\n",
    "    loss_1_it = criterion(dataset[1][sample, 1:4, :, :].unsqueeze(0), net.forward(dataset[0][sample:sample+1,:,:,:]))\n",
    "    print(f'{loss_1_it: .9f}')"
   ]
  },
  {
   "cell_type": "code",
   "execution_count": 32,
   "metadata": {},
   "outputs": [],
   "source": [
    "## create a generator to evaluate how loss progresses with multiple applications of the network\n",
    "def convolute_iteration(conditions, netwrk, repeat = True):\n",
    "    with torch.no_grad():\n",
    "        pred = netwrk(conditions) #torch.Size([1, 3, 32, 32])\n",
    "        new_condition = conditions.clone()\n",
    "        new_condition[:, 1:4, :, :] = pred\n",
    "        i=0\n",
    "        while repeat:\n",
    "            i +=1\n",
    "            print(i)\n",
    "            pred = netwrk(new_condition)\n",
    "            new_condition = conditions.clone()\n",
    "            new_condition[:, 1:4, :, :] = pred\n",
    "            \n",
    "            yield pred"
   ]
  },
  {
   "cell_type": "code",
   "execution_count": 118,
   "metadata": {},
   "outputs": [],
   "source": [
    "## create iterator intance for loss plot\n",
    "predicts = convolute_iteration(dataset[0][sample:sample+1,:,:,:], net)\n",
    "loss_iterator = []"
   ]
  },
  {
   "cell_type": "code",
   "execution_count": 213,
   "metadata": {},
   "outputs": [
    {
     "name": "stdout",
     "output_type": "stream",
     "text": [
      "95\n",
      " 0.116603315\n"
     ]
    },
    {
     "data": {
      "image/png": "[encoded data removed]",
      "text/plain": [
       "<Figure size 432x288 with 1 Axes>"
      ]
     },
     "metadata": {
      "needs_background": "light"
     },
     "output_type": "display_data"
    }
   ],
   "source": [
    "with torch.no_grad():\n",
    "    \n",
    "    loss_2_it = criterion(dataset[1][sample, 1:4, :, :].unsqueeze(0), next(predicts))\n",
    "    loss_iterator.append(loss_2_it)\n",
    "    print(f'{loss_2_it: .9f}')\n",
    "    plt.plot(loss_iterator)"
   ]
  },
  {
   "cell_type": "markdown",
   "metadata": {},
   "source": [
    "What has been shown with this is that subsequent applications of this model don't increase its accuracy, however it does converge to a certain value. The fact that there is convergence is grounds for exploring whether this convergence can be used as a feature of the model itself."
   ]
  },
  {
   "cell_type": "code",
   "execution_count": 215,
   "metadata": {},
   "outputs": [],
   "source": [
    "## create iterator intance for prediction plot\n",
    "predicts = convolute_iteration(dataset[0][sample:sample+1,:,:,:], net)\n"
   ]
  },
  {
   "cell_type": "code",
   "execution_count": 217,
   "metadata": {
    "scrolled": true
   },
   "outputs": [
    {
     "name": "stdout",
     "output_type": "stream",
     "text": [
      "2\n",
      "torch.Size([1, 3, 32, 32])\n",
      "(1, 4, 32, 32)\n",
      "(1, 32, 32, 4)\n"
     ]
    },
    {
     "data": {
      "image/png": "[encoded data removed]",
      "text/plain": [
       "<Figure size 1080x432 with 10 Axes>"
      ]
     },
     "metadata": {
      "needs_background": "light"
     },
     "output_type": "display_data"
    }
   ],
   "source": [
    "sample_prediction = next(predicts)\n",
    "print(sample_prediction.shape)\n",
    "sample_prediction = F.pad(sample_prediction, (0,0,0,0,0,1)).detach().numpy()\n",
    "print(sample_prediction.shape)\n",
    "sample_prediction = np.moveaxis(sample_prediction, 1, 3)\n",
    "print(sample_prediction.shape)\n",
    "\n",
    "\n",
    "#print(sample_prediction.shape, dataset[0][27:28,:,10,22], sample_prediction[:,:,10,22])\n",
    "plot_grid_2d(sample_bc, sample_prediction[0,:,:,:])"
   ]
  },
  {
   "cell_type": "markdown",
   "metadata": {},
   "source": [
    "Now I want to explore a lot of things and their impact on the model's predictions:\n",
    "\n",
    "- leaning rates\n",
    "- different conv deconv architectures\n",
    "- pre-trained models (if models trained on images help with accuracy in this case, then it is possible to use models trained in other types of object for the 3d version)\n",
    "- attention\n",
    "- different losses\n",
    "- increase amount of model forward feeds before doing gradient descent to try to get the model to converge closer to the target value if applied several times\n",
    "- Other activation strategies"
   ]
  },
  {
   "cell_type": "code",
   "execution_count": 218,
   "metadata": {},
   "outputs": [],
   "source": []
  },
  {
   "cell_type": "markdown",
   "metadata": {},
   "source": [
    "## ENCODER DECODER"
   ]
  },
  {
   "cell_type": "code",
   "execution_count": 19,
   "metadata": {},
   "outputs": [
    {
     "data": {
      "text/html": [
       "\n",
       "                Logging results to <a href=\"https://wandb.com\" target=\"_blank\">Weights & Biases</a> <a href=\"https://docs.wandb.com/integrations/jupyter.html\" target=\"_blank\">(Documentation)</a>.<br/>\n",
       "                Project page: <a href=\"https://app.wandb.ai/walther/Project\" target=\"_blank\">https://app.wandb.ai/walther/Project</a><br/>\n",
       "                Run page: <a href=\"https://app.wandb.ai/walther/Project/runs/f9a3hvrd\" target=\"_blank\">https://app.wandb.ai/walther/Project/runs/f9a3hvrd</a><br/>\n",
       "            "
      ],
      "text/plain": [
       "<IPython.core.display.HTML object>"
      ]
     },
     "metadata": {},
     "output_type": "display_data"
    },
    {
     "data": {
      "text/plain": [
       "W&B Run: https://app.wandb.ai/walther/Project/runs/f9a3hvrd"
      ]
     },
     "execution_count": 19,
     "metadata": {},
     "output_type": "execute_result"
    }
   ],
   "source": [
    "##update loging\n",
    "wandb.init(config={\"epochs\": 30, \"batch_size\": 90,'learning_rate': 0.0005, 'architecture':'encoder_decoder_architecture'})"
   ]
  },
  {
   "cell_type": "code",
   "execution_count": 20,
   "metadata": {},
   "outputs": [],
   "source": [
    "\n",
    "## First, see the result of a conv-deconv architecture with exactly the same parameters but that condenses\n",
    "## the inputs into a feature array first\n",
    "## define the neural network's general shape\n",
    "\n",
    "class Encode_decode_Net(nn.Module):\n",
    "    def __init__(self):\n",
    "        super(Encode_decode_Net, self).__init__()\n",
    "        \n",
    "        ## convolutional layers\n",
    "        self.conv1 = nn.Conv2d(in_channels = 7, out_channels = 14, kernel_size = 3, padding = 1)\n",
    "        self.conv2 = nn.Conv2d(in_channels = 14, out_channels = 16, kernel_size = 3, padding = 1)\n",
    "        self.deconv1 = nn.ConvTranspose2d(in_channels = 16, out_channels = 14, kernel_size = 3, padding = 1)\n",
    "        self.deconv2 = nn.ConvTranspose2d(in_channels = 14, out_channels = 10, kernel_size = 2,stride = 2, padding = 0)\n",
    "        self.deconv3 = nn.ConvTranspose2d(in_channels = 10, out_channels = 7, kernel_size = 2, stride = 2, padding = 0)\n",
    "        self.deconv4 = nn.ConvTranspose2d(in_channels = 7, out_channels = 3, kernel_size = 3, padding = 1)\n",
    "        \n",
    "        ## activation\n",
    "        self.hardtanh = nn.Hardtanh()\n",
    "        self.tanh = nn.Tanh()\n",
    "        self.prelu = nn.PReLU()\n",
    "        self.leaky_relu = nn.LeakyReLU()\n",
    "        \n",
    "        ## Pooling\n",
    "        self.maxpool = nn.MaxPool2d(kernel_size = 3, stride = 2, padding = 1)\n",
    "        \n",
    "        \n",
    "    def forward(self, boundary_conditions):\n",
    "        '''\n",
    "        torch.Size([1, 7, 32, 32])\n",
    "        torch.Size([1, 14, 16, 16])\n",
    "        torch.Size([1, 16, 8, 8])\n",
    "        torch.Size([1, 14, 8, 8])\n",
    "        torch.Size([1, 10, 16, 16])\n",
    "        torch.Size([1, 7, 32, 32])\n",
    "        torch.Size([1, 3, 32, 32])\n",
    "        '''\n",
    "        \n",
    "        #print(boundary_conditions.shape)\n",
    "        x = self.conv1(boundary_conditions)\n",
    "        x = self.maxpool(x)\n",
    "        x = self.prelu(x)\n",
    "        #print(x.shape)\n",
    "        x = self.conv2(x)\n",
    "        x = self.maxpool(x)\n",
    "        x = self.prelu(x)\n",
    "        #print(x.shape)\n",
    "        x = self.deconv1(x)\n",
    "        x = self.prelu(x)\n",
    "        #print(x.shape)\n",
    "        x = self.deconv2(x)\n",
    "        x = self.prelu(x)\n",
    "        #print(x.shape)\n",
    "        x = self.deconv3(x)\n",
    "        x = self.prelu(x)\n",
    "        #print(x.shape)\n",
    "        x = self.deconv4(x)\n",
    "        x = self.tanh(x)\n",
    "        #print(x.shape)\n",
    "        return x\n",
    "    \n",
    "        \n",
    "net = Encode_decode_Net().cuda().float()\n",
    "\n",
    "## test to see if getting the correct size\n",
    "net.forward(dataset[0][0:1,:,:,:].cuda());"
   ]
  },
  {
   "cell_type": "code",
   "execution_count": 21,
   "metadata": {},
   "outputs": [],
   "source": [
    "## define criterion\n",
    "criterion = nn.MSELoss().cuda()\n",
    "optimizer = torch.optim.Adam(params = net.parameters(), lr=0.0005, betas=(0.9, 0.999))"
   ]
  },
  {
   "cell_type": "code",
   "execution_count": 22,
   "metadata": {},
   "outputs": [
    {
     "data": {
      "text/html": [
       "<iframe src=\"https://app.wandb.ai/walther/Project/runs/f9a3hvrd?jupyter=true&state=paused\" style=\"border:none;width:100%;height:420px\">\n",
       "                </iframe>"
      ],
      "text/plain": [
       "<wandb.jupyter.Run at 0x1e18d44b248>"
      ]
     },
     "metadata": {},
     "output_type": "display_data"
    },
    {
     "name": "stdout",
     "output_type": "stream",
     "text": [
      "1 1 0.00802171416580677 0.009894485864788295\n",
      "2 1 0.0003933005500584841 0.0005084899457870051\n",
      "3 1 0.0003657788038253784 0.00047555426717735825\n",
      "4 1 0.0003500608145259321 0.0004607861250406131\n",
      "5 1 0.0003374926163814962 0.00044893036829307675\n",
      "6 1 0.00032674818066880107 0.00043866110208909956\n",
      "7 1 0.00031626809504814446 0.00042771732260007413\n",
      "8 1 0.00030703545780852437 0.0004170465806964785\n",
      "9 1 0.00028912126435898244 0.00039456723025068643\n",
      "10 1 0.0002805293188430369 0.0004143378551816568\n",
      "11 1 0.0002716532617341727 0.0004578035368467681\n",
      "12 1 0.00026743856142275035 0.0004761294461786747\n",
      "13 1 0.00026591529604047537 0.0004862652334850281\n",
      "14 1 0.00026553342468105257 0.0004941005012369714\n",
      "15 1 0.0002665093925315887 0.0004975401796400547\n",
      "16 1 0.00026401245850138366 0.0004975621734047309\n",
      "17 1 0.0002631078823469579 0.0005001711295335553\n",
      "18 1 0.00026175062521360815 0.0004987697931937874\n",
      "19 1 0.00026118516689166427 0.0004956273915013298\n",
      "20 1 0.00026034825714305043 0.0004962697945302353\n",
      "21 1 0.00025923995417542756 0.0004979729535989463\n",
      "22 1 0.00025948791881091893 0.0004967227709130384\n",
      "23 1 0.0002579160500317812 0.0004979778415872716\n",
      "24 1 0.00025768877821974456 0.0005007676838431508\n",
      "25 1 0.00025435304269194603 0.0005002691061235965\n",
      "26 1 0.00025223978445865214 0.0005024810787290334\n",
      "27 1 0.0002481039264239371 0.0005064501005108468\n",
      "28 1 0.000246081268414855 0.0005090463993838057\n",
      "29 1 0.00023890112061053514 0.0005163431327673606\n",
      "30 1 0.00023723863705527037 0.0005175069905817509\n",
      "Finished Training\n"
     ]
    }
   ],
   "source": [
    "%%wandb \n",
    "## logging cell magic\n",
    "##\n",
    "wandb.watch(net)\n",
    "\n",
    "\n",
    "\n",
    "## define a general training loop\n",
    "losses = np.array([0,0,0])\n",
    "for epoch in range(30):  # loop over the dataset multiple times\n",
    "\n",
    "    running_loss = 0.0\n",
    "    boundary_conditions, targets = dataset[0][:90,:,:,:].cuda(), dataset[1][:90,:,:,:].cuda()\n",
    "    #print(type(boundary_conditions))\n",
    "    for i, bc in enumerate(boundary_conditions):\n",
    "        tgt = targets[i, 1:4, :, :].unsqueeze(0)\n",
    "        bc = bc.unsqueeze(0).cuda()\n",
    "        #print(i, bc.shape, tgt.shape)\n",
    "\n",
    "        # get the inputs; data is a list of [boundary_conditions, targets]\n",
    "        \n",
    "        # zero the parameter gradients\n",
    "        optimizer.zero_grad()\n",
    "\n",
    "        # forward + backward + optimize\n",
    "        prediction = net(bc)\n",
    "        loss = criterion(prediction, tgt)\n",
    "        #print(loss)\n",
    "        loss.backward()\n",
    "        optimizer.step()\n",
    "\n",
    "        # print statistics\n",
    "        running_loss += loss.item()\n",
    "        if i % 100 == 0:    # print every 10 mini-batches\n",
    "            running_val_loss = 0.0\n",
    "            with torch.no_grad():\n",
    "                boundary_conditions_val, targets_val = dataset[0][90:,:,:,:].cuda(), dataset[1][90:,:,:,:].cuda()\n",
    "                for ii, bc_val in enumerate(boundary_conditions_val):\n",
    "                    tgt_val = targets_val[i, 1:4, :, :].unsqueeze(0)\n",
    "                    bc_val = bc_val.unsqueeze(0)\n",
    "                    prediction_val = net(bc_val)\n",
    "                    val_loss = criterion(prediction_val, tgt_val)\n",
    "                    running_val_loss+=val_loss.item()\n",
    "                \n",
    "            print(f'{epoch + 1} {i + 1} {running_loss} {running_val_loss/10}')\n",
    "            losses = np.vstack((losses, [epoch, running_loss, running_val_loss]))\n",
    "            wandb.log({\"loss\": running_loss})\n",
    "            wandb.log({\"val_loss\": running_val_loss})\n",
    "            #print(losses)\n",
    "            running_loss = 0.0\n",
    "            \n",
    "\n",
    "print('Finished Training')"
   ]
  },
  {
   "cell_type": "markdown",
   "metadata": {},
   "source": [
    "So this network achieved lower validation losses, but stayed at a higher training loss. Further, prelu showed very similar behaviour to using hardtanh. "
   ]
  },
  {
   "cell_type": "code",
   "execution_count": 23,
   "metadata": {},
   "outputs": [
    {
     "name": "stdout",
     "output_type": "stream",
     "text": [
      "torch.Size([1, 3, 32, 32])\n",
      "(1, 4, 32, 32)\n",
      "(1, 32, 32, 4)\n"
     ]
    },
    {
     "data": {
      "image/png": "[encoded data removed]",
      "text/plain": [
       "<Figure size 1080x432 with 10 Axes>"
      ]
     },
     "metadata": {
      "needs_background": "light"
     },
     "output_type": "display_data"
    }
   ],
   "source": [
    "## plot one of the results after passing the convolutional network through it once\n",
    "sample_prediction = net.cpu().forward(dataset[0][sample:sample+1,:,:,:])\n",
    "print(sample_prediction.shape)\n",
    "sample_prediction = F.pad(sample_prediction, (0,0,0,0,0,1)).detach().numpy()\n",
    "print(sample_prediction.shape)\n",
    "sample_prediction = np.moveaxis(sample_prediction, 1, 3)\n",
    "print(sample_prediction.shape)\n",
    "\n",
    "\n",
    "#print(sample_prediction.shape, dataset[0][27:28,:,10,22], sample_prediction[:,:,10,22])\n",
    "plot_grid_2d(sample_bc, sample_prediction[0,:,:,:])"
   ]
  },
  {
   "cell_type": "code",
   "execution_count": 24,
   "metadata": {},
   "outputs": [
    {
     "data": {
      "text/plain": [
       "[<matplotlib.lines.Line2D at 0x1e18daa9f08>,\n",
       " <matplotlib.lines.Line2D at 0x1e18daba9c8>]"
      ]
     },
     "execution_count": 24,
     "metadata": {},
     "output_type": "execute_result"
    },
    {
     "data": {
      "image/png": "[encoded data removed]",
      "text/plain": [
       "<Figure size 432x288 with 1 Axes>"
      ]
     },
     "metadata": {
      "needs_background": "light"
     },
     "output_type": "display_data"
    }
   ],
   "source": [
    "## plot losses over time\n",
    "plt.plot(losses[2:,0], losses[2:,1:])"
   ]
  },
  {
   "cell_type": "markdown",
   "metadata": {},
   "source": [
    "## MULTIHEAD ATTENTION"
   ]
  },
  {
   "cell_type": "code",
   "execution_count": 25,
   "metadata": {},
   "outputs": [
    {
     "data": {
      "text/html": [
       "\n",
       "                Logging results to <a href=\"https://wandb.com\" target=\"_blank\">Weights & Biases</a> <a href=\"https://docs.wandb.com/integrations/jupyter.html\" target=\"_blank\">(Documentation)</a>.<br/>\n",
       "                Project page: <a href=\"https://app.wandb.ai/walther/Project\" target=\"_blank\">https://app.wandb.ai/walther/Project</a><br/>\n",
       "                Run page: <a href=\"https://app.wandb.ai/walther/Project/runs/1aaqw1bl\" target=\"_blank\">https://app.wandb.ai/walther/Project/runs/1aaqw1bl</a><br/>\n",
       "            "
      ],
      "text/plain": [
       "<IPython.core.display.HTML object>"
      ]
     },
     "metadata": {},
     "output_type": "display_data"
    },
    {
     "data": {
      "text/plain": [
       "W&B Run: https://app.wandb.ai/walther/Project/runs/1aaqw1bl"
      ]
     },
     "execution_count": 25,
     "metadata": {},
     "output_type": "execute_result"
    }
   ],
   "source": [
    "##update loging\n",
    "wandb.init(config={\"epochs\": 20, \"batch_size\": 90,'learning_rate': 0.0002,\"amsgrad\": True, 'architecture':'attention_architecture_4'})"
   ]
  },
  {
   "cell_type": "code",
   "execution_count": 26,
   "metadata": {},
   "outputs": [],
   "source": [
    "## define attention class\n",
    "\n",
    "class SelfAttention(nn.Module):\n",
    "    \"\"\" Self attention Layer\"\"\"\n",
    "    def __init__(self,in_dim,activation):\n",
    "        super(SelfAttention,self).__init__()\n",
    "        self.chanel_in = in_dim\n",
    "        self.activation = activation\n",
    "        \n",
    "        self.query_conv = nn.Conv2d(in_channels = in_dim , out_channels = in_dim//3 , kernel_size= 1)\n",
    "        self.key_conv = nn.Conv2d(in_channels = in_dim , out_channels = in_dim//3 , kernel_size= 1)\n",
    "        self.value_conv = nn.Conv2d(in_channels = in_dim , out_channels = in_dim , kernel_size= 1)\n",
    "        self.gamma = nn.Parameter(torch.zeros(1))\n",
    "\n",
    "        self.softmax  = nn.Softmax(dim=-1) #\n",
    "    def forward(self,x):\n",
    "        \"\"\"\n",
    "            inputs :\n",
    "                x : input feature maps( B X C X W X H)\n",
    "            returns :\n",
    "                out : self attention value + input feature \n",
    "                attention: B X N X N (N is Width*Height)\n",
    "        \"\"\"\n",
    "        m_batchsize,C,width ,height = x.size()\n",
    "        proj_query  = self.query_conv(x).view(m_batchsize,-1,width*height).permute(0,2,1) # B X CX(N)\n",
    "        proj_key =  self.key_conv(x).view(m_batchsize,-1,width*height) # B X C x (*W*H)\n",
    "        energy =  torch.bmm(proj_query,proj_key) # transpose check\n",
    "        attention = self.softmax(energy) # BX (N) X (N) \n",
    "        proj_value = self.value_conv(x).view(m_batchsize,-1,width*height) # B X C X N\n",
    "\n",
    "        out = torch.bmm(proj_value,attention.permute(0,2,1) )\n",
    "        out = out.view(m_batchsize,C,width,height)\n",
    "        \n",
    "        out = self.gamma*out + x\n",
    "        return out"
   ]
  },
  {
   "cell_type": "code",
   "execution_count": 28,
   "metadata": {},
   "outputs": [
    {
     "data": {
      "text/plain": [
       "tensor([[[[-0.0690, -0.0772, -0.0768,  ..., -0.0767, -0.0840, -0.0722],\n",
       "          [-0.0702, -0.0780, -0.0769,  ..., -0.0748, -0.0834, -0.0860],\n",
       "          [-0.0737, -0.0773, -0.0746,  ..., -0.0722, -0.0819, -0.0829],\n",
       "          ...,\n",
       "          [-0.0742, -0.0751, -0.0727,  ..., -0.0700, -0.0820, -0.0806],\n",
       "          [-0.0689, -0.0673, -0.0596,  ..., -0.0590, -0.0705, -0.0718],\n",
       "          [-0.0614, -0.0442, -0.0367,  ..., -0.0369, -0.0449, -0.0484]],\n",
       "\n",
       "         [[ 0.2227,  0.2241,  0.2279,  ...,  0.2308,  0.2238,  0.2044],\n",
       "          [ 0.2156,  0.2178,  0.2296,  ...,  0.2307,  0.2229,  0.1973],\n",
       "          [ 0.2176,  0.2208,  0.2312,  ...,  0.2292,  0.2201,  0.1937],\n",
       "          ...,\n",
       "          [ 0.2226,  0.2260,  0.2339,  ...,  0.2331,  0.2214,  0.1928],\n",
       "          [ 0.2251,  0.2279,  0.2307,  ...,  0.2282,  0.2190,  0.1857],\n",
       "          [ 0.2078,  0.1987,  0.2015,  ...,  0.1993,  0.1916,  0.1678]],\n",
       "\n",
       "         [[ 0.0675,  0.0665,  0.0693,  ...,  0.0724,  0.0750,  0.0932],\n",
       "          [ 0.0730,  0.0723,  0.0794,  ...,  0.0829,  0.0916,  0.1156],\n",
       "          [ 0.0798,  0.0791,  0.0877,  ...,  0.0933,  0.1009,  0.1178],\n",
       "          ...,\n",
       "          [ 0.0787,  0.0779,  0.0882,  ...,  0.0960,  0.1035,  0.1199],\n",
       "          [ 0.0767,  0.0718,  0.0796,  ...,  0.0883,  0.1007,  0.1138],\n",
       "          [ 0.0942,  0.0900,  0.0936,  ...,  0.0989,  0.1063,  0.1086]]]],\n",
       "       device='cuda:0', grad_fn=<TanhBackward>)"
      ]
     },
     "execution_count": 28,
     "metadata": {},
     "output_type": "execute_result"
    }
   ],
   "source": [
    "class AttentionNet(nn.Module):\n",
    "    def __init__(self):\n",
    "        super(AttentionNet, self).__init__()\n",
    "        \n",
    "        ## convolutional layers\n",
    "        self.conv1 = nn.Conv2d(in_channels = 7, out_channels = 14, kernel_size = 3, padding = 1)\n",
    "        self.conv2 = nn.Conv2d(in_channels = 14, out_channels = 32, kernel_size = 3, padding = 1)\n",
    "        self.deconv1 = nn.ConvTranspose2d(in_channels = 32, out_channels = 64, kernel_size = 3, padding = 1)\n",
    "        self.deconv2 = nn.ConvTranspose2d(in_channels = 64, out_channels = 32, kernel_size = 3, padding = 1)\n",
    "        self.deconv3 = nn.ConvTranspose2d(in_channels = 32, out_channels = 7, kernel_size = 3, padding = 1)\n",
    "        self.deconv4 = nn.ConvTranspose2d(in_channels = 7, out_channels = 3, kernel_size = 3, padding = 1)\n",
    "        \n",
    "        ## activation\n",
    "        self.hardtanh = nn.Hardtanh()\n",
    "        \n",
    "        ## activation\n",
    "        self.hardtanh = nn.Hardtanh()\n",
    "        self.tanh = nn.Tanh()\n",
    "        self.prelu = nn.PReLU()\n",
    "        self.leaky_relu = nn.LeakyReLU()\n",
    "        \n",
    "        ##possible for later: MultiheadAttention\n",
    "        self.multihead_attn_in = SelfAttention(in_dim = 14, activation = None)\n",
    "        self.multihead_attn_out = SelfAttention(in_dim = 3, activation = None)\n",
    "        self.multihead_attn_middle = SelfAttention(in_dim = 64, activation = None)\n",
    "    def forward(self, boundary_conditions):\n",
    "        #print(boundary_conditions.shape)\n",
    "        x = self.conv1(boundary_conditions)\n",
    "        x = self.prelu(x)\n",
    "        x = self.multihead_attn_in(x)\n",
    "        #print(x.shape)\n",
    "        x = self.conv2(x)\n",
    "        x = self.prelu(x)\n",
    "        #print(x.shape)\n",
    "        x = self.deconv1(x)\n",
    "        x = self.multihead_attn_middle(x)\n",
    "        x = self.prelu(x)\n",
    "       #print(x.shape)\n",
    "        x = self.deconv2(x)\n",
    "        x = self.prelu(x)\n",
    "        #print(x.shape)\n",
    "        x = self.deconv3(x) \n",
    "        x = self.prelu(x)\n",
    "       # print(x.shape)\n",
    "        x = self.deconv4(x)\n",
    "        x= self.multihead_attn_out(x)\n",
    "        x = self.tanh(x)\n",
    "        #print(x.shape)\n",
    "        '''\n",
    "        #print(boundary_conditions.shape)\n",
    "        x = self.conv1(boundary_conditions)\n",
    "        #x = self.maxpool(x)\n",
    "        x = self.prelu(x)\n",
    "        #print(x.shape)\n",
    "        x = self.conv2(x)\n",
    "        #x = self.maxpool(x)\n",
    "        x = self.prelu(x)\n",
    "        #print(x.shape)\n",
    "        x = self.deconv1(x)\n",
    "        x = self.prelu(x)\n",
    "        #print(x.shape)\n",
    "        x = self.deconv2(x)\n",
    "        x = self.prelu(x)\n",
    "        #print(x.shape)\n",
    "        x = self.deconv3(x)\n",
    "        x = self.prelu(x)\n",
    "        #print(x.shape)\n",
    "        x = self.deconv4(x)\n",
    "        x = self.tanh(x)\n",
    "        #print(x.shape)\n",
    "        '''\n",
    "        return x\n",
    "    \n",
    "net = AttentionNet().cuda().float()\n",
    "\n",
    "## test to see if getting the correct size\n",
    "net.forward(dataset[0][0:1,:,:,:].cuda())"
   ]
  },
  {
   "cell_type": "code",
   "execution_count": 29,
   "metadata": {},
   "outputs": [],
   "source": [
    "## define criterion\n",
    "criterion = nn.MSELoss().cuda()\n",
    "optimizer = torch.optim.Adam(params = net.parameters(), lr=0.0005, betas=(0.9, 0.999), amsgrad = True)"
   ]
  },
  {
   "cell_type": "code",
   "execution_count": 30,
   "metadata": {},
   "outputs": [
    {
     "data": {
      "text/html": [
       "<iframe src=\"https://app.wandb.ai/walther/Project/runs/1aaqw1bl?jupyter=true&state=paused\" style=\"border:none;width:100%;height:420px\">\n",
       "                </iframe>"
      ],
      "text/plain": [
       "<wandb.jupyter.Run at 0x1e18dafc948>"
      ]
     },
     "metadata": {},
     "output_type": "display_data"
    },
    {
     "name": "stdout",
     "output_type": "stream",
     "text": [
      "1 1 0.02429846301674843 0.02540668398141861\n",
      "2 1 0.0007163311238400638 0.0008403800777159632\n",
      "3 1 0.0005203139153309166 0.0005973215826088563\n",
      "4 1 0.00042779018986038864 0.0005189420480746776\n",
      "5 1 0.0003548358508851379 0.000480679000611417\n",
      "6 1 0.0003170428390149027 0.0004949746100464836\n",
      "7 1 0.00029204992461018264 0.00048785046965349466\n",
      "8 1 0.00027370822499506176 0.000481858232524246\n",
      "9 1 0.00026042325771413743 0.0004781895346241072\n",
      "10 1 0.0002516050008125603 0.0004775788198458031\n",
      "11 1 0.00024542486062273383 0.00047971723543014375\n",
      "12 1 0.00024079994182102382 0.00048134978278540074\n",
      "13 1 0.0002369487629039213 0.00048341818619519473\n",
      "14 1 0.0002339739876333624 0.00048346761614084246\n",
      "15 1 0.0002316312602488324 0.00048074031219584866\n",
      "16 1 0.00022947111574467272 0.00047883272636681793\n",
      "17 1 0.00022678895038552582 0.00047854370495770127\n",
      "18 1 0.00022415953571908176 0.0004780370160005987\n",
      "19 1 0.00022129810531623662 0.00047551620227750393\n",
      "20 1 0.0002161703014280647 0.00047691580548416825\n",
      "Finished Training\n"
     ]
    }
   ],
   "source": [
    "%%wandb \n",
    "## logging cell magic\n",
    "##\n",
    "wandb.watch(net)\n",
    "\n",
    "\n",
    "\n",
    "## define a general training loop\n",
    "losses = np.array([0,0,0])\n",
    "for epoch in range(20):  # loop over the dataset multiple times\n",
    "\n",
    "    running_loss = 0.0\n",
    "    boundary_conditions, targets = dataset[0][:90,:,:,:].cuda(), dataset[1][:90,:,:,:].cuda()\n",
    "    #print(type(boundary_conditions))\n",
    "    for i, bc in enumerate(boundary_conditions):\n",
    "        tgt = targets[i, 1:4, :, :].unsqueeze(0)\n",
    "        bc = bc.unsqueeze(0).cuda()\n",
    "        #print(i, bc.shape, tgt.shape)\n",
    "\n",
    "        # get the inputs; data is a list of [boundary_conditions, targets]\n",
    "        \n",
    "        # zero the parameter gradients\n",
    "        optimizer.zero_grad()\n",
    "\n",
    "        # forward + backward + optimize\n",
    "        prediction = net(bc)\n",
    "        loss = criterion(prediction, tgt)\n",
    "        #print(loss)\n",
    "        loss.backward()\n",
    "        optimizer.step()\n",
    "\n",
    "        # print statistics\n",
    "        running_loss += loss.item()\n",
    "        if i % 100 == 0:    # print every 10 mini-batches\n",
    "            running_val_loss = 0.0\n",
    "            with torch.no_grad():\n",
    "                boundary_conditions_val, targets_val = dataset[0][90:,:,:,:].cuda(), dataset[1][90:,:,:,:].cuda()\n",
    "                for ii, bc_val in enumerate(boundary_conditions_val):\n",
    "                    tgt_val = targets_val[i, 1:4, :, :].unsqueeze(0)\n",
    "                    bc_val = bc_val.unsqueeze(0)\n",
    "                    prediction_val = net(bc_val)\n",
    "                    val_loss = criterion(prediction_val, tgt_val)\n",
    "                    running_val_loss+=val_loss.item()\n",
    "                \n",
    "            print(f'{epoch + 1} {i + 1} {running_loss} {running_val_loss/10}')\n",
    "            losses = np.vstack((losses, [epoch, running_loss, running_val_loss]))\n",
    "            wandb.log({\"loss\": running_loss})\n",
    "            wandb.log({\"val_loss\": running_val_loss})\n",
    "            #print(losses)\n",
    "            running_loss = 0.0\n",
    "            \n",
    "\n",
    "print('Finished Training')"
   ]
  },
  {
   "cell_type": "markdown",
   "metadata": {},
   "source": [
    "So the errors were lower, and it trained and started overfitting extremely quick with a starting attention layer and lr of 0.0005. Looking at the image below, it also learned very well how to identify where the element is. Using attention is definitely a step-up from other strategies."
   ]
  },
  {
   "cell_type": "code",
   "execution_count": 47,
   "metadata": {},
   "outputs": [
    {
     "name": "stdout",
     "output_type": "stream",
     "text": [
      "torch.Size([1, 3, 32, 32])\n",
      "(1, 4, 32, 32)\n",
      "(1, 32, 32, 4)\n"
     ]
    },
    {
     "data": {
      "image/png": "[encoded data removed]",
      "text/plain": [
       "<Figure size 1080x432 with 10 Axes>"
      ]
     },
     "metadata": {
      "needs_background": "light"
     },
     "output_type": "display_data"
    }
   ],
   "source": [
    "sample = 3\n",
    "sample_bc = np.moveaxis(dataset[0][sample,:,:,:].numpy(), 0, 2)\n",
    "## plot one of the results after passing the convolutional network through it once\n",
    "sample_prediction = net.cpu().forward(dataset[0][sample:sample+1,:,:,:])\n",
    "print(sample_prediction.shape)\n",
    "sample_prediction = F.pad(sample_prediction, (0,0,0,0,0,1)).detach().numpy()\n",
    "print(sample_prediction.shape)\n",
    "sample_prediction = np.moveaxis(sample_prediction, 1, 3)\n",
    "print(sample_prediction.shape)\n",
    "\n",
    "\n",
    "#print(sample_prediction.shape, dataset[0][27:28,:,10,22], sample_prediction[:,:,10,22])\n",
    "plot_grid_2d(sample_bc, sample_prediction[0,:,:,:])"
   ]
  },
  {
   "cell_type": "code",
   "execution_count": 101,
   "metadata": {},
   "outputs": [
    {
     "data": {
      "text/plain": [
       "[<matplotlib.lines.Line2D at 0x15417cf1388>,\n",
       " <matplotlib.lines.Line2D at 0x15414c62a08>]"
      ]
     },
     "execution_count": 101,
     "metadata": {},
     "output_type": "execute_result"
    },
    {
     "data": {
      "image/png": "[encoded data removed]",
      "text/plain": [
       "<Figure size 432x288 with 1 Axes>"
      ]
     },
     "metadata": {
      "needs_background": "light"
     },
     "output_type": "display_data"
    }
   ],
   "source": [
    "## plot losses over time\n",
    "plt.plot(losses[2:,0], losses[2:,1:])"
   ]
  },
  {
   "cell_type": "markdown",
   "metadata": {},
   "source": [
    "## VGG 16\n",
    "For this section I'll attempt to use a pre-trained architecture to see if that has any effect on the results"
   ]
  },
  {
   "cell_type": "code",
   "execution_count": 32,
   "metadata": {},
   "outputs": [
    {
     "data": {
      "text/html": [
       "\n",
       "                Logging results to <a href=\"https://wandb.com\" target=\"_blank\">Weights & Biases</a> <a href=\"https://docs.wandb.com/integrations/jupyter.html\" target=\"_blank\">(Documentation)</a>.<br/>\n",
       "                Project page: <a href=\"https://app.wandb.ai/walther/Project\" target=\"_blank\">https://app.wandb.ai/walther/Project</a><br/>\n",
       "                Run page: <a href=\"https://app.wandb.ai/walther/Project/runs/13yytave\" target=\"_blank\">https://app.wandb.ai/walther/Project/runs/13yytave</a><br/>\n",
       "            "
      ],
      "text/plain": [
       "<IPython.core.display.HTML object>"
      ]
     },
     "metadata": {},
     "output_type": "display_data"
    },
    {
     "data": {
      "text/plain": [
       "W&B Run: https://app.wandb.ai/walther/Project/runs/13yytave"
      ]
     },
     "execution_count": 32,
     "metadata": {},
     "output_type": "execute_result"
    }
   ],
   "source": [
    "##update loging\n",
    "wandb.init(config={\"epochs\": 30,'trainable': False, \"batch_size\": 90,'learning_rate': 0.0005,\"amsgrad\": False, 'architecture':'vgg16_attention_material_architecture_4'})"
   ]
  },
  {
   "cell_type": "code",
   "execution_count": 33,
   "metadata": {},
   "outputs": [],
   "source": [
    "import torchvision.models as models"
   ]
  },
  {
   "cell_type": "code",
   "execution_count": 34,
   "metadata": {},
   "outputs": [],
   "source": [
    "vgg16 = models.vgg16(pretrained=True)"
   ]
  },
  {
   "cell_type": "code",
   "execution_count": 35,
   "metadata": {},
   "outputs": [
    {
     "data": {
      "text/plain": [
       "VGG(\n",
       "  (features): Sequential(\n",
       "    (0): Conv2d(3, 64, kernel_size=(3, 3), stride=(1, 1), padding=(1, 1))\n",
       "    (1): ReLU(inplace=True)\n",
       "    (2): Conv2d(64, 64, kernel_size=(3, 3), stride=(1, 1), padding=(1, 1))\n",
       "    (3): ReLU(inplace=True)\n",
       "    (4): MaxPool2d(kernel_size=2, stride=2, padding=0, dilation=1, ceil_mode=False)\n",
       "    (5): Conv2d(64, 128, kernel_size=(3, 3), stride=(1, 1), padding=(1, 1))\n",
       "    (6): ReLU(inplace=True)\n",
       "    (7): Conv2d(128, 128, kernel_size=(3, 3), stride=(1, 1), padding=(1, 1))\n",
       "    (8): ReLU(inplace=True)\n",
       "    (9): MaxPool2d(kernel_size=2, stride=2, padding=0, dilation=1, ceil_mode=False)\n",
       "    (10): Conv2d(128, 256, kernel_size=(3, 3), stride=(1, 1), padding=(1, 1))\n",
       "    (11): ReLU(inplace=True)\n",
       "    (12): Conv2d(256, 256, kernel_size=(3, 3), stride=(1, 1), padding=(1, 1))\n",
       "    (13): ReLU(inplace=True)\n",
       "    (14): Conv2d(256, 256, kernel_size=(3, 3), stride=(1, 1), padding=(1, 1))\n",
       "    (15): ReLU(inplace=True)\n",
       "    (16): MaxPool2d(kernel_size=2, stride=2, padding=0, dilation=1, ceil_mode=False)\n",
       "    (17): Conv2d(256, 512, kernel_size=(3, 3), stride=(1, 1), padding=(1, 1))\n",
       "    (18): ReLU(inplace=True)\n",
       "    (19): Conv2d(512, 512, kernel_size=(3, 3), stride=(1, 1), padding=(1, 1))\n",
       "    (20): ReLU(inplace=True)\n",
       "    (21): Conv2d(512, 512, kernel_size=(3, 3), stride=(1, 1), padding=(1, 1))\n",
       "    (22): ReLU(inplace=True)\n",
       "    (23): MaxPool2d(kernel_size=2, stride=2, padding=0, dilation=1, ceil_mode=False)\n",
       "    (24): Conv2d(512, 512, kernel_size=(3, 3), stride=(1, 1), padding=(1, 1))\n",
       "    (25): ReLU(inplace=True)\n",
       "    (26): Conv2d(512, 512, kernel_size=(3, 3), stride=(1, 1), padding=(1, 1))\n",
       "    (27): ReLU(inplace=True)\n",
       "    (28): Conv2d(512, 512, kernel_size=(3, 3), stride=(1, 1), padding=(1, 1))\n",
       "    (29): ReLU(inplace=True)\n",
       "    (30): MaxPool2d(kernel_size=2, stride=2, padding=0, dilation=1, ceil_mode=False)\n",
       "  )\n",
       "  (avgpool): AdaptiveAvgPool2d(output_size=(7, 7))\n",
       "  (classifier): Sequential(\n",
       "    (0): Linear(in_features=25088, out_features=4096, bias=True)\n",
       "    (1): ReLU(inplace=True)\n",
       "    (2): Dropout(p=0.5, inplace=False)\n",
       "    (3): Linear(in_features=4096, out_features=4096, bias=True)\n",
       "    (4): ReLU(inplace=True)\n",
       "    (5): Dropout(p=0.5, inplace=False)\n",
       "    (6): Linear(in_features=4096, out_features=1000, bias=True)\n",
       "  )\n",
       ")"
      ]
     },
     "execution_count": 35,
     "metadata": {},
     "output_type": "execute_result"
    }
   ],
   "source": [
    "vgg16"
   ]
  },
  {
   "cell_type": "code",
   "execution_count": 36,
   "metadata": {},
   "outputs": [
    {
     "data": {
      "text/plain": [
       "Sequential(\n",
       "  (0): Conv2d(7, 64, kernel_size=(3, 3), stride=(1, 1), padding=(1, 1))\n",
       "  (1): SelfAttention(\n",
       "    (query_conv): Conv2d(64, 21, kernel_size=(1, 1), stride=(1, 1))\n",
       "    (key_conv): Conv2d(64, 21, kernel_size=(1, 1), stride=(1, 1))\n",
       "    (value_conv): Conv2d(64, 64, kernel_size=(1, 1), stride=(1, 1))\n",
       "    (softmax): Softmax(dim=-1)\n",
       "  )\n",
       "  (2): ReLU(inplace=True)\n",
       "  (3): Conv2d(64, 64, kernel_size=(3, 3), stride=(1, 1), padding=(1, 1))\n",
       "  (4): ReLU(inplace=True)\n",
       "  (5): Conv2d(64, 128, kernel_size=(3, 3), stride=(1, 1), padding=(1, 1))\n",
       "  (6): ReLU(inplace=True)\n",
       "  (7): Conv2d(128, 128, kernel_size=(3, 3), stride=(1, 1), padding=(1, 1))\n",
       "  (8): ReLU(inplace=True)\n",
       "  (9): Conv2d(128, 256, kernel_size=(3, 3), stride=(1, 1), padding=(1, 1))\n",
       "  (10): ReLU(inplace=True)\n",
       "  (11): Conv2d(256, 256, kernel_size=(3, 3), stride=(1, 1), padding=(1, 1))\n",
       "  (12): ReLU(inplace=True)\n",
       "  (13): Conv2d(256, 256, kernel_size=(3, 3), stride=(1, 1), padding=(1, 1))\n",
       "  (14): ReLU(inplace=True)\n",
       "  (15): Conv2d(256, 512, kernel_size=(3, 3), stride=(1, 1), padding=(1, 1))\n",
       "  (16): ReLU(inplace=True)\n",
       "  (17): Conv2d(512, 512, kernel_size=(3, 3), stride=(1, 1), padding=(1, 1))\n",
       "  (18): ReLU(inplace=True)\n",
       "  (19): Conv2d(512, 512, kernel_size=(3, 3), stride=(1, 1), padding=(1, 1))\n",
       "  (20): ReLU(inplace=True)\n",
       "  (21): Conv2d(512, 512, kernel_size=(3, 3), stride=(1, 1), padding=(1, 1))\n",
       "  (22): ReLU(inplace=True)\n",
       "  (23): Conv2d(512, 512, kernel_size=(3, 3), stride=(1, 1), padding=(1, 1))\n",
       "  (24): ReLU(inplace=True)\n",
       "  (25): Conv2d(512, 512, kernel_size=(3, 3), stride=(1, 1), padding=(1, 1))\n",
       "  (26): ReLU(inplace=True)\n",
       "  (27): Conv2d(512, 3, kernel_size=(3, 3), stride=(1, 1), padding=(1, 1))\n",
       "  (28): Tanh()\n",
       ")"
      ]
     },
     "execution_count": 36,
     "metadata": {},
     "output_type": "execute_result"
    }
   ],
   "source": [
    "## get convolutional portion of model\n",
    "net = vgg16.features.cuda()\n",
    "\n",
    "## set it to untrainable\n",
    "for i, layer in enumerate(net.parameters()):\n",
    "     layer.requires_grad = False\n",
    "        \n",
    "## change first layer to the correct feature size\n",
    "net[0] = nn.Conv2d(7, 64, kernel_size=(3, 3), stride=(1, 1), padding=(1, 1))\n",
    "\n",
    "# append last layer of correct feature size and correct activation function\n",
    "net = nn.Sequential(*net, (nn.Conv2d(512, 3, kernel_size=(3, 3), stride=(1, 1), padding=(1, 1))))\n",
    "net = nn.Sequential(*net, nn.Tanh())\n",
    "net = nn.Sequential(*net[:1],SelfAttention(in_dim = 64, activation = None), *net[1:] )\n",
    "\n",
    "# send model to gpu\n",
    "net = net.cuda()\n",
    "\n",
    "# remove the max pool layers\n",
    "layer_list = []\n",
    "for layer in net:\n",
    "    if not(type(layer) == torch.nn.modules.pooling.MaxPool2d):\n",
    "        layer_list.append(layer)\n",
    "\n",
    "\n",
    "# create a model without the maxpool layers\n",
    "net = nn. Sequential(*layer_list)\n",
    "\n",
    "\n",
    "\n",
    "net"
   ]
  },
  {
   "cell_type": "code",
   "execution_count": 37,
   "metadata": {},
   "outputs": [
    {
     "name": "stdout",
     "output_type": "stream",
     "text": [
      "0 True\n",
      "1 True\n",
      "2 True\n",
      "3 True\n",
      "4 True\n",
      "5 True\n",
      "6 True\n",
      "7 True\n",
      "8 True\n",
      "9 False\n",
      "10 False\n",
      "11 False\n",
      "12 False\n",
      "13 False\n",
      "14 False\n",
      "15 False\n",
      "16 False\n",
      "17 False\n",
      "18 False\n",
      "19 False\n",
      "20 False\n",
      "21 False\n",
      "22 False\n",
      "23 False\n",
      "24 False\n",
      "25 False\n",
      "26 False\n",
      "27 False\n",
      "28 False\n",
      "29 False\n",
      "30 False\n",
      "31 False\n",
      "32 False\n",
      "33 True\n",
      "34 True\n"
     ]
    }
   ],
   "source": [
    "for i, layer in enumerate(net.parameters()):\n",
    "     print(i, layer.requires_grad)"
   ]
  },
  {
   "cell_type": "code",
   "execution_count": 38,
   "metadata": {},
   "outputs": [],
   "source": [
    "## set to only train the added parameters\n",
    "for i, layer in enumerate(net.parameters()):\n",
    "    if not( i in [0, 1, 34,33,32]):\n",
    "        layer.requires_grad = False\n",
    "    else:\n",
    "        layer.requires_grad = True\n",
    "    #print(i, layer.requires_grad)"
   ]
  },
  {
   "cell_type": "code",
   "execution_count": 39,
   "metadata": {},
   "outputs": [
    {
     "data": {
      "text/plain": [
       "torch.Size([1, 3, 32, 32])"
      ]
     },
     "execution_count": 39,
     "metadata": {},
     "output_type": "execute_result"
    }
   ],
   "source": [
    "net.forward(dataset[0][0:1,:,:,:].cuda()).shape"
   ]
  },
  {
   "cell_type": "code",
   "execution_count": 40,
   "metadata": {},
   "outputs": [],
   "source": [
    "## define criterion\n",
    "criterion = nn.MSELoss(reduction = 'none').cuda()\n",
    "optimizer = torch.optim.Adam(params = net.parameters(), lr=0.0005, betas=(0.9, 0.999), amsgrad = False)"
   ]
  },
  {
   "cell_type": "code",
   "execution_count": 41,
   "metadata": {
    "scrolled": false
   },
   "outputs": [
    {
     "data": {
      "text/html": [
       "<iframe src=\"https://app.wandb.ai/walther/Project/runs/13yytave?jupyter=true&state=paused\" style=\"border:none;width:100%;height:420px\">\n",
       "                </iframe>"
      ],
      "text/plain": [
       "<wandb.jupyter.Run at 0x1e18d6dd408>"
      ]
     },
     "metadata": {},
     "output_type": "display_data"
    },
    {
     "name": "stdout",
     "output_type": "stream",
     "text": [
      "1 1 0.0061997314915061 0.005642091645859182\n",
      "2 1 0.00252536335028708 0.0016038070432841777\n",
      "3 1 0.002486562356352806 0.0014489818946458398\n",
      "4 1 0.0024599945172667503 0.0014340791734866799\n",
      "5 1 0.002340597566217184 0.001368382858345285\n",
      "6 1 0.002119664568454027 0.0014405940717551857\n",
      "7 1 0.002128194784745574 0.0015730106038972735\n",
      "8 1 0.0021319398656487465 0.001525782118551433\n",
      "9 1 0.0022918153554201126 0.0015305503504350782\n",
      "10 1 0.0020677922293543816 0.0014486872358247637\n",
      "11 1 0.002145427279174328 0.0015590363414958119\n",
      "12 1 0.002158875111490488 0.001461173058487475\n",
      "13 1 0.0020587858743965626 0.001549513905774802\n",
      "14 1 0.002138928510248661 0.0015749503334518522\n",
      "15 1 0.0022410107776522636 0.0015425676887389273\n",
      "16 1 0.002140054479241371 0.0015963304555043577\n",
      "17 1 0.002195837441831827 0.001535325072472915\n",
      "18 1 0.0022260001860558987 0.0016212333808653056\n",
      "19 1 0.0023015132173895836 0.0017751575913280248\n",
      "20 1 0.002346457913517952 0.001554993010358885\n",
      "21 1 0.0022771796211600304 0.0016464764135889708\n",
      "22 1 0.0023017930798232555 0.0015139526745770126\n",
      "23 1 0.0024578338488936424 0.0016438208636827766\n",
      "24 1 0.0024071019142866135 0.0016359135508537293\n",
      "25 1 0.0023444020189344883 0.0016484101593960076\n",
      "26 1 0.0023531424812972546 0.0016561991884373128\n",
      "27 1 0.002365589840337634 0.0016845910053234548\n",
      "28 1 0.002301186788827181 0.0017006363137625157\n",
      "29 1 0.0023664035834372044 0.0016849839827045797\n",
      "30 1 0.002441149903461337 0.0017850539647042752\n",
      "Finished Training\n"
     ]
    }
   ],
   "source": [
    "%%wandb \n",
    "## logging cell magic\n",
    "##\n",
    "wandb.watch(net)\n",
    "\n",
    "\n",
    "\n",
    "## define a general training loop\n",
    "losses = np.array([0,0,0])\n",
    "for epoch in range(30):  # loop over the dataset multiple times\n",
    "\n",
    "    running_loss = 0.0\n",
    "    boundary_conditions, targets = dataset[0][:90,:,:,:].cuda(), dataset[1][:90,:,:,:].cuda()\n",
    "    #print(type(boundary_conditions))\n",
    "    for i, bc in enumerate(boundary_conditions):\n",
    "        tgt = targets[i, 1:4, :, :].unsqueeze(0)\n",
    "        material_matrix = boundary_conditions[i, 0, :, :].unsqueeze(0).repeat([1,3,1,1])\n",
    "        ones = torch.ones_like(material_matrix).cuda()\n",
    "        #print(ones.shape)\n",
    "        bc = bc.unsqueeze(0).cuda()\n",
    "        #print(i, bc.shape, tgt.shape)\n",
    "\n",
    "        # get the inputs; data is a list of [boundary_conditions, targets]\n",
    "        \n",
    "        # zero the parameter gradients\n",
    "        optimizer.zero_grad()\n",
    "\n",
    "        # forward + backward + optimize\n",
    "        prediction = net(bc)\n",
    "        \n",
    "        loss = criterion(prediction, tgt)*((material_matrix)+ones)**3\n",
    "        #print((material_matrix).max())\n",
    "        #print((((material_matrix)+ones)**3).max())\n",
    "        # weigh loss based on material map\n",
    "        \n",
    "       \n",
    "        #print(loss.shape)\n",
    "        loss = loss.mean()\n",
    "        \n",
    "        #print(stp)\n",
    "        #print(loss)\n",
    "        loss.backward()\n",
    "        optimizer.step()\n",
    "\n",
    "        # print statistics\n",
    "        running_loss += loss.item()\n",
    "        if i % 100 == 0:    # print every 10 mini-batches\n",
    "            running_val_loss = 0.0\n",
    "            with torch.no_grad():\n",
    "                boundary_conditions_val, targets_val = dataset[0][90:,:,:,:].cuda(), dataset[1][90:,:,:,:].cuda()\n",
    "                for ii, bc_val in enumerate(boundary_conditions_val):\n",
    "                    tgt_val = targets_val[i, 1:4, :, :].unsqueeze(0)\n",
    "                    bc_val = bc_val.unsqueeze(0)\n",
    "                    prediction_val = net(bc_val)\n",
    "                    \n",
    "                    val_loss = criterion(prediction_val, tgt_val)*((material_matrix)+ones)**3\n",
    "                    val_loss = val_loss.mean()\n",
    "                    running_val_loss+=val_loss.item()\n",
    "                \n",
    "            print(f'{epoch + 1} {i + 1} {running_loss} {running_val_loss/10}')\n",
    "            losses = np.vstack((losses, [epoch, running_loss, running_val_loss]))\n",
    "            wandb.log({\"loss\": running_loss})\n",
    "            wandb.log({\"val_loss\": running_val_loss})\n",
    "            #print(losses)\n",
    "            running_loss = 0.0\n",
    "            \n",
    "\n",
    "print('Finished Training')"
   ]
  },
  {
   "cell_type": "markdown",
   "metadata": {},
   "source": [
    "So using a pre-trained model as a feature extractor does seem to help. It was able to learn the dataset in about 4 epochs, using only the new layers as trainable. Allowing the entire model to train on the data from the pre-trained state led to lowest validation loss yet, which was achieved in 3 epochs. This is too good to be true. What became obvious is that the model is overfitting the data and completely ignoring the displacement fields, since it is much easier to simply guess that everything will be zero. A solution to this might be to weigh the loss function based on the material map, with losses inside of the material map being higher than losses outside of it. Trying to do that in this dataset does not seem to have helped, and confounded the losses. For now, I'll be ignoring that idea. It might be better to instead work on the dataset so that each sample takes up more of  the space in the tensor."
   ]
  },
  {
   "cell_type": "code",
   "execution_count": 48,
   "metadata": {},
   "outputs": [
    {
     "name": "stdout",
     "output_type": "stream",
     "text": [
      "torch.Size([1, 3, 32, 32])\n",
      "(1, 4, 32, 32)\n",
      "(1, 32, 32, 4)\n"
     ]
    },
    {
     "data": {
      "image/png": "[encoded data removed]",
      "text/plain": [
       "<Figure size 1080x432 with 10 Axes>"
      ]
     },
     "metadata": {
      "needs_background": "light"
     },
     "output_type": "display_data"
    },
    {
     "data": {
      "text/plain": [
       "Sequential(\n",
       "  (0): Conv2d(7, 64, kernel_size=(3, 3), stride=(1, 1), padding=(1, 1))\n",
       "  (1): SelfAttention(\n",
       "    (query_conv): Conv2d(64, 21, kernel_size=(1, 1), stride=(1, 1))\n",
       "    (key_conv): Conv2d(64, 21, kernel_size=(1, 1), stride=(1, 1))\n",
       "    (value_conv): Conv2d(64, 64, kernel_size=(1, 1), stride=(1, 1))\n",
       "    (softmax): Softmax(dim=-1)\n",
       "  )\n",
       "  (2): ReLU(inplace=True)\n",
       "  (3): Conv2d(64, 64, kernel_size=(3, 3), stride=(1, 1), padding=(1, 1))\n",
       "  (4): ReLU(inplace=True)\n",
       "  (5): Conv2d(64, 128, kernel_size=(3, 3), stride=(1, 1), padding=(1, 1))\n",
       "  (6): ReLU(inplace=True)\n",
       "  (7): Conv2d(128, 128, kernel_size=(3, 3), stride=(1, 1), padding=(1, 1))\n",
       "  (8): ReLU(inplace=True)\n",
       "  (9): Conv2d(128, 256, kernel_size=(3, 3), stride=(1, 1), padding=(1, 1))\n",
       "  (10): ReLU(inplace=True)\n",
       "  (11): Conv2d(256, 256, kernel_size=(3, 3), stride=(1, 1), padding=(1, 1))\n",
       "  (12): ReLU(inplace=True)\n",
       "  (13): Conv2d(256, 256, kernel_size=(3, 3), stride=(1, 1), padding=(1, 1))\n",
       "  (14): ReLU(inplace=True)\n",
       "  (15): Conv2d(256, 512, kernel_size=(3, 3), stride=(1, 1), padding=(1, 1))\n",
       "  (16): ReLU(inplace=True)\n",
       "  (17): Conv2d(512, 512, kernel_size=(3, 3), stride=(1, 1), padding=(1, 1))\n",
       "  (18): ReLU(inplace=True)\n",
       "  (19): Conv2d(512, 512, kernel_size=(3, 3), stride=(1, 1), padding=(1, 1))\n",
       "  (20): ReLU(inplace=True)\n",
       "  (21): Conv2d(512, 512, kernel_size=(3, 3), stride=(1, 1), padding=(1, 1))\n",
       "  (22): ReLU(inplace=True)\n",
       "  (23): Conv2d(512, 512, kernel_size=(3, 3), stride=(1, 1), padding=(1, 1))\n",
       "  (24): ReLU(inplace=True)\n",
       "  (25): Conv2d(512, 512, kernel_size=(3, 3), stride=(1, 1), padding=(1, 1))\n",
       "  (26): ReLU(inplace=True)\n",
       "  (27): Conv2d(512, 3, kernel_size=(3, 3), stride=(1, 1), padding=(1, 1))\n",
       "  (28): Tanh()\n",
       ")"
      ]
     },
     "execution_count": 48,
     "metadata": {},
     "output_type": "execute_result"
    }
   ],
   "source": [
    "sample =96\n",
    "sample_bc = np.moveaxis(dataset[0][sample,:,:,:].numpy(), 0, 2)\n",
    "## plot one of the results after passing the convolutional network through it once\n",
    "sample_prediction = net.cpu().forward(dataset[0][sample:sample+1,:,:,:])\n",
    "print(sample_prediction.shape)\n",
    "sample_prediction = F.pad(sample_prediction, (0,0,0,0,0,1)).detach().numpy()\n",
    "print(sample_prediction.shape)\n",
    "sample_prediction = np.moveaxis(sample_prediction, 1, 3)\n",
    "print(sample_prediction.shape)\n",
    "\n",
    "\n",
    "#print(sample_prediction.shape, dataset[0][27:28,:,10,22], sample_prediction[:,:,10,22])\n",
    "plot_grid_2d(sample_bc, sample_prediction[0,:,:,:])\n",
    "net.cuda()"
   ]
  },
  {
   "cell_type": "markdown",
   "metadata": {},
   "source": [
    "# BASE WITH REPETITION\n",
    "This model tries to do backpropagation after several passes of the network instead of just one\n"
   ]
  },
  {
   "cell_type": "code",
   "execution_count": 73,
   "metadata": {},
   "outputs": [],
   "source": [
    "## define the neural network's general shape\n",
    "\n",
    "class RepetitionNet(nn.Module):\n",
    "    def __init__(self):\n",
    "        super(RepetitionNet, self).__init__()\n",
    "        \n",
    "        ## convolutional layers\n",
    "        self.conv1 = nn.Conv2d(in_channels = 7, out_channels = 14, kernel_size = 3, padding = 1)\n",
    "        self.conv2 = nn.Conv2d(in_channels = 14, out_channels = 16, kernel_size = 3, padding = 1)\n",
    "        self.deconv1 = nn.ConvTranspose2d(in_channels = 16, out_channels = 14, kernel_size = 3, padding = 1)\n",
    "        self.deconv2 = nn.ConvTranspose2d(in_channels = 14, out_channels = 10, kernel_size = 3, padding = 1)\n",
    "        self.deconv3 = nn.ConvTranspose2d(in_channels = 10, out_channels = 7, kernel_size = 3, padding = 1)\n",
    "        self.deconv4 = nn.ConvTranspose2d(in_channels = 7, out_channels = 3, kernel_size = 3, padding = 1)\n",
    "        \n",
    "        ## activation\n",
    "        self.hardtanh = nn.Hardtanh()\n",
    "        self.lrelu = nn.LeakyReLU(0.2)\n",
    "        \n",
    "        ##possible for later: MultiheadAttention\n",
    "        self.multihead_attn_14 = SelfAttention(in_dim = 14, activation = None)\n",
    "        \n",
    "        \n",
    "    def forward(self, boundary_conditions, returns):\n",
    "        if not(returns): #if returns is false return the input\n",
    "            #print(boundary_conditions.shape)\n",
    "            x = self.conv1(boundary_conditions)\n",
    "            x = self.multihead_attn_14(x)\n",
    "            x = self.lrelu(x)\n",
    "            #print(x.shape)\n",
    "            x = self.conv2(x)\n",
    "            #x, attn = self.multihead_attn_middle(x)\n",
    "            x = self.lrelu(x)\n",
    "            #print(x.shape)\n",
    "            x = self.deconv1(x)\n",
    "            x = self.lrelu(x)\n",
    "           #print(x.shape)\n",
    "            x = self.deconv2(x)\n",
    "            x = self.lrelu(x)\n",
    "            #print(x.shape)\n",
    "            x = self.deconv3(x)\n",
    "            x = self.lrelu(x)\n",
    "        elif returns:\n",
    "            x = self.conv1(boundary_conditions)\n",
    "            x = self.multihead_attn_14(x)\n",
    "            x = self.lrelu(x)\n",
    "            #print(x.shape)\n",
    "            x = self.conv2(x)\n",
    "            #x, attn = self.multihead_attn_middle(x)\n",
    "            x = self.lrelu(x)\n",
    "            #print(x.shape)\n",
    "            x = self.deconv1(x)\n",
    "            x = self.lrelu(x)\n",
    "           #print(x.shape)\n",
    "            x = self.deconv2(x)\n",
    "            x = self.lrelu(x)\n",
    "            #print(x.shape)\n",
    "            x = self.deconv3(x)\n",
    "            x = self.lrelu(x)\n",
    "            # print(x.shape)\n",
    "            x = self.deconv4(x)  \n",
    "            x = self.hardtanh(x)\n",
    "            \n",
    "        return x\n",
    "    \n",
    "net = RepetitionNet().cuda().float()\n",
    "\n",
    "## test to see if getting the correct size\n",
    "#%timeit net.forward(dataset[0][0:1,:,:,:].cuda(), returns = True)"
   ]
  },
  {
   "cell_type": "code",
   "execution_count": 72,
   "metadata": {},
   "outputs": [],
   "source": [
    "## parameters\n",
    "learn_rate = 0.0005\n",
    "e = 3"
   ]
  },
  {
   "cell_type": "code",
   "execution_count": 74,
   "metadata": {},
   "outputs": [],
   "source": [
    "## define criterion\n",
    "criterion = nn.MSELoss().cuda()\n",
    "optimizer = torch.optim.Adam(params = net.parameters(), lr=learn_rate, betas=(0.9, 0.999))"
   ]
  },
  {
   "cell_type": "code",
   "execution_count": 75,
   "metadata": {},
   "outputs": [
    {
     "data": {
      "text/html": [
       "\n",
       "                Logging results to <a href=\"https://wandb.com\" target=\"_blank\">Weights & Biases</a> <a href=\"https://docs.wandb.com/integrations/jupyter.html\" target=\"_blank\">(Documentation)</a>.<br/>\n",
       "                Project page: <a href=\"https://app.wandb.ai/walther/Project\" target=\"_blank\">https://app.wandb.ai/walther/Project</a><br/>\n",
       "                Run page: <a href=\"https://app.wandb.ai/walther/Project/runs/46mlsv2f\" target=\"_blank\">https://app.wandb.ai/walther/Project/runs/46mlsv2f</a><br/>\n",
       "            "
      ],
      "text/plain": [
       "<IPython.core.display.HTML object>"
      ]
     },
     "metadata": {},
     "output_type": "display_data"
    },
    {
     "data": {
      "text/plain": [
       "W&B Run: https://app.wandb.ai/walther/Project/runs/46mlsv2f"
      ]
     },
     "execution_count": 75,
     "metadata": {},
     "output_type": "execute_result"
    }
   ],
   "source": [
    "## setup logging\n",
    "wandb.init(config={\"epochs\": e, \"batch_size\": 90,'learning_rate': learn_rate, 'architecture':'repetition_attention_architecture'})"
   ]
  },
  {
   "cell_type": "code",
   "execution_count": 76,
   "metadata": {},
   "outputs": [
    {
     "data": {
      "text/html": [
       "<iframe src=\"https://app.wandb.ai/walther/Project/runs/46mlsv2f?jupyter=true&state=paused\" style=\"border:none;width:100%;height:420px\">\n",
       "                </iframe>"
      ],
      "text/plain": [
       "<wandb.jupyter.Run at 0x1e18d5989c8>"
      ]
     },
     "metadata": {},
     "output_type": "display_data"
    },
    {
     "name": "stdout",
     "output_type": "stream",
     "text": [
      "1 1 0.019998053088784218 0.0218000927940011\n",
      "2 1 0.0007985763950273395 0.0010863074916414917\n",
      "3 1 0.0006409389898180962 0.0008965142245870083\n",
      "Finished Training\n"
     ]
    }
   ],
   "source": [
    "%%wandb\n",
    "\n",
    "torch.autograd.set_detect_anomaly(True)\n",
    "## define a general training loop\n",
    "losses = np.array([0,0,0])\n",
    "for epoch in range(e):  # loop over the dataset multiple times\n",
    "\n",
    "    running_loss = 0.0\n",
    "    boundary_conditions, targets = dataset[0][:90,:,:,:].cuda(), dataset[1][:90,:,:,:].cuda()\n",
    "    #print(type(boundary_conditions))\n",
    "    #net = net.cuda()\n",
    "    for i, bc in enumerate(boundary_conditions):\n",
    "        tgt = targets[i, 1:4, :, :].unsqueeze(0)\n",
    "        bc = bc.unsqueeze(0)\n",
    "        #material_matrix = boundary_conditions[i, 0, :, :].unsqueeze(0).repeat([1,3,1,1])\n",
    "        #print(i, bc.shape, tgt.shape)\n",
    "\n",
    "        # get the inputs; data is a list of [boundary_conditions, targets]\n",
    "        \n",
    "        # zero the parameter gradients\n",
    "        optimizer.zero_grad()\n",
    "\n",
    "        # forward + backward + optimize\n",
    "        repetitions = 3\n",
    "        \n",
    "        prediction = net(bc, returns = False)\n",
    "        prediction = net(prediction, returns = False)\n",
    "        prediction = net(prediction, returns = False)\n",
    "       # prediction = net(prediction, returns = 'input')\n",
    "        #rint(i)\n",
    "        #for ii in range(repetitions):\n",
    "            #print(ii)\n",
    "            #prediction = net(prediction, returns = 'input')\n",
    "        \n",
    "        prediction =  net(prediction, returns = True)\n",
    "        \n",
    "        loss = criterion(prediction, tgt)#/torch.sum(material_matrix)\n",
    "        #print(loss)\n",
    "        loss.backward()\n",
    "        optimizer.step()\n",
    "        \n",
    "        \n",
    "        # print statistics\n",
    "        running_loss += loss.item()\n",
    "        wandb.log({\"loss\": loss})\n",
    "\n",
    "        if i % 100 == 0:    # print every 10 mini-batches\n",
    "            running_val_loss = 0.0\n",
    "            with torch.no_grad():\n",
    "                boundary_conditions_val, targets_val = dataset[0][90:,:,:,:].cuda(), dataset[1][90:,:,:,:].cuda()\n",
    "                for ii, bc_val in enumerate(boundary_conditions_val):\n",
    "                    tgt_val = targets_val[i, 1:4, :, :].unsqueeze(0)\n",
    "                    bc_val = bc_val.unsqueeze(0)\n",
    "                    prediction_val = net(bc_val, returns = 'output')\n",
    "                    val_loss = criterion(prediction_val, tgt_val)#/torch.sum(material_matrix)\n",
    "                    wandb.log({\"val_loss\": val_loss})\n",
    "                    running_val_loss+=val_loss.item()\n",
    "                \n",
    "            print(f'{epoch + 1} {i + 1} {running_loss} {running_val_loss/10}')\n",
    "            #wandb.log({\"loss\": running_loss})\n",
    "            #wandb.log({\"val_loss\": running_val_loss})\n",
    "            losses = np.vstack((losses, [epoch, running_loss, running_val_loss]))\n",
    "            #print(losses)\n",
    "            running_loss = 0.0\n",
    "            \n",
    "\n",
    "print('Finished Training')"
   ]
  },
  {
   "cell_type": "code",
   "execution_count": 77,
   "metadata": {},
   "outputs": [
    {
     "name": "stdout",
     "output_type": "stream",
     "text": [
      "torch.Size([1, 3, 32, 32])\n",
      "(1, 4, 32, 32)\n",
      "(1, 32, 32, 4)\n"
     ]
    },
    {
     "data": {
      "image/png": "[encoded data removed]",
      "text/plain": [
       "<Figure size 1080x432 with 10 Axes>"
      ]
     },
     "metadata": {
      "needs_background": "light"
     },
     "output_type": "display_data"
    },
    {
     "data": {
      "text/plain": [
       "RepetitionNet(\n",
       "  (conv1): Conv2d(7, 14, kernel_size=(3, 3), stride=(1, 1), padding=(1, 1))\n",
       "  (conv2): Conv2d(14, 16, kernel_size=(3, 3), stride=(1, 1), padding=(1, 1))\n",
       "  (deconv1): ConvTranspose2d(16, 14, kernel_size=(3, 3), stride=(1, 1), padding=(1, 1))\n",
       "  (deconv2): ConvTranspose2d(14, 10, kernel_size=(3, 3), stride=(1, 1), padding=(1, 1))\n",
       "  (deconv3): ConvTranspose2d(10, 7, kernel_size=(3, 3), stride=(1, 1), padding=(1, 1))\n",
       "  (deconv4): ConvTranspose2d(7, 3, kernel_size=(3, 3), stride=(1, 1), padding=(1, 1))\n",
       "  (hardtanh): Hardtanh(min_val=-1.0, max_val=1.0)\n",
       "  (lrelu): LeakyReLU(negative_slope=0.2)\n",
       "  (multihead_attn_14): SelfAttention(\n",
       "    (query_conv): Conv2d(14, 4, kernel_size=(1, 1), stride=(1, 1))\n",
       "    (key_conv): Conv2d(14, 4, kernel_size=(1, 1), stride=(1, 1))\n",
       "    (value_conv): Conv2d(14, 14, kernel_size=(1, 1), stride=(1, 1))\n",
       "    (softmax): Softmax(dim=-1)\n",
       "  )\n",
       ")"
      ]
     },
     "execution_count": 77,
     "metadata": {},
     "output_type": "execute_result"
    }
   ],
   "source": [
    "sample =3\n",
    "sample_bc = np.moveaxis(dataset[0][sample,:,:,:].numpy(), 0, 2)\n",
    "## plot one of the results after passing the convolutional network through it once\n",
    "sample_prediction = net.cpu().forward(dataset[0][sample:sample+1,:,:,:], returns = 'output')\n",
    "print(sample_prediction.shape)\n",
    "sample_prediction = F.pad(sample_prediction, (0,0,0,0,0,1)).detach().numpy()\n",
    "print(sample_prediction.shape)\n",
    "sample_prediction = np.moveaxis(sample_prediction, 1, 3)\n",
    "print(sample_prediction.shape)\n",
    "\n",
    "\n",
    "#print(sample_prediction.shape, dataset[0][27:28,:,10,22], sample_prediction[:,:,10,22])\n",
    "plot_grid_2d(sample_bc, sample_prediction[0,:,:,:])\n",
    "net.cuda()"
   ]
  },
  {
   "cell_type": "code",
   "execution_count": 78,
   "metadata": {},
   "outputs": [
    {
     "name": "stdout",
     "output_type": "stream",
     "text": [
      "(32, 32, 7) (32, 32, 4)\n"
     ]
    },
    {
     "data": {
      "image/png": "[encoded data removed]",
      "text/plain": [
       "<Figure size 1080x432 with 10 Axes>"
      ]
     },
     "metadata": {
      "needs_background": "light"
     },
     "output_type": "display_data"
    }
   ],
   "source": [
    "#plot ground truth11\n",
    "sample_bc = np.moveaxis(dataset[0][sample,:,:,:].numpy(), 0, 2)\n",
    "sample_target = np.moveaxis(dataset[1][sample,:,:,:].numpy(), 0, 2)\n",
    "print(sample_bc.shape, sample_target.shape)\n",
    "plot_grid_2d(sample_bc, sample_target)"
   ]
  },
  {
   "cell_type": "markdown",
   "metadata": {},
   "source": [
    "The visual results for this network are very interesting for the first iteration. It takes a longer time to train, but it was able to create a map of where the feature is. Now attempting to see the result of running more than one iteration"
   ]
  },
  {
   "cell_type": "code",
   "execution_count": 79,
   "metadata": {},
   "outputs": [],
   "source": [
    "prediction = net.cpu().forward(dataset[0][sample:sample+1,:,:,:], returns = False)\n",
    "i = 0"
   ]
  },
  {
   "cell_type": "code",
   "execution_count": 295,
   "metadata": {},
   "outputs": [
    {
     "name": "stdout",
     "output_type": "stream",
     "text": [
      "3\n"
     ]
    }
   ],
   "source": [
    "with torch.no_grad():\n",
    "    prediction = net(prediction, returns = False)\n",
    "    i +=1\n",
    "    print(i)"
   ]
  },
  {
   "cell_type": "code",
   "execution_count": 80,
   "metadata": {},
   "outputs": [
    {
     "name": "stdout",
     "output_type": "stream",
     "text": [
      "torch.Size([1, 3, 32, 32])\n",
      "(1, 4, 32, 32)\n",
      "(1, 32, 32, 4)\n"
     ]
    },
    {
     "data": {
      "image/png": "[encoded data removed]",
      "text/plain": [
       "<Figure size 1080x432 with 10 Axes>"
      ]
     },
     "metadata": {
      "needs_background": "light"
     },
     "output_type": "display_data"
    }
   ],
   "source": [
    "sample_prediction = net(prediction, returns = 'output')\n",
    "print(sample_prediction.shape)\n",
    "sample_prediction = F.pad(sample_prediction, (0,0,0,0,0,1)).detach().numpy()\n",
    "print(sample_prediction.shape)\n",
    "sample_prediction = np.moveaxis(sample_prediction, 1, 3)\n",
    "print(sample_prediction.shape)\n",
    "\n",
    "\n",
    "#print(sample_prediction.shape, dataset[0][27:28,:,10,22], sample_prediction[:,:,10,22])\n",
    "plot_grid_2d(sample_bc, sample_prediction[0,:,:,:])"
   ]
  },
  {
   "cell_type": "markdown",
   "metadata": {},
   "source": [
    "Doing this hasn't  helped with convergence it seems. Although letting it train led to the smallest loss yet, the problem seems to be that, again, the model is learning to fit the space around the element and not the element. A different strategy that requires a new dataset positioning and a dataloader to do data augmentation needs to be devised."
   ]
  }
 ],
 "metadata": {
  "kernelspec": {
   "display_name": "Python 3",
   "language": "python",
   "name": "python3"
  },
  "language_info": {
   "codemirror_mode": {
    "name": "ipython",
    "version": 3
   },
   "file_extension": ".py",
   "mimetype": "text/x-python",
   "name": "python",
   "nbconvert_exporter": "python",
   "pygments_lexer": "ipython3",
   "version": "3.7.7"
  }
 },
 "nbformat": 4,
 "nbformat_minor": 4
}
