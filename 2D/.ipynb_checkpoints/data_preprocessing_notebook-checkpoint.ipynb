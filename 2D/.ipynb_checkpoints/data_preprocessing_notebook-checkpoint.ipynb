{
 "cells": [
  {
   "cell_type": "code",
   "execution_count": 1,
   "metadata": {},
   "outputs": [
    {
     "name": "stdout",
     "output_type": "stream",
     "text": [
      "D:\\Ansys Simulations\\Project\\2D\n"
     ]
    }
   ],
   "source": [
    "!cd"
   ]
  },
  {
   "cell_type": "markdown",
   "metadata": {},
   "source": [
    "# Data Pre-Processing\n",
    "\n",
    "This notebook aims to, given the data exported from ANSYS, create new files that can be used in a convolutional neural network. The current idea on how to handle this is as follows:\n",
    "\n",
    "#### Concatenating\n",
    "The input data needs to be concatenated in one file with all nodes\n",
    "\n",
    "#### Data Scaling\n",
    "The input and output data have to be somehow scaled to ensure that the program can generalize to more scenarios. In an usual convolutional neural network, which usually deals with pixel-wise image data, this is simple, as all the values to be scaled are in the range from 0 to 255. This is not the case for this problem as the scale can vary arbitrarily from infinitesimals to very large numbers. What can be done, perhaps, is to create Pi groups to nondimensionalize the data, and then decide on a relevant non dimensional value to divide the data by to scale it. Another approach would be to use a relevant engineering value, such as the yield strength in our scenario, to scale it, however that requires previous engineering knowledge that we do not want to assume we have.\n",
    "\n",
    "#### Shaping\n",
    "After the scaling, this data has to be put in a format that can be used for a convolutional neural network. The kernel might have to be modified to travel between nodes instead of a grid, or maybe the data itself has to be transformed to be a continuous field which then could be split in a grid and a more usual kernel used to handle it. Yet a third option is to simply  leave the data as is and split it in a grid anyway. This last approach would require the grid to be such that it catches all nodes, so the smallest element size controls the grid size."
   ]
  },
  {
   "cell_type": "code",
   "execution_count": 121,
   "metadata": {},
   "outputs": [],
   "source": [
    "## Imports\n",
    "import os\n",
    "from pathlib import Path\n",
    "import traceback\n",
    "import re\n",
    "import pandas as pd"
   ]
  },
  {
   "cell_type": "markdown",
   "metadata": {},
   "source": [
    "# Concatenating the Input Data"
   ]
  },
  {
   "cell_type": "code",
   "execution_count": 5,
   "metadata": {},
   "outputs": [
    {
     "name": "stdout",
     "output_type": "stream",
     "text": [
      "D:\\Ansys Simulations\\Project\\2D\\data\n"
     ]
    }
   ],
   "source": [
    "%cd D:\\Ansys Simulations\\Project\\2D\\data"
   ]
  },
  {
   "cell_type": "code",
   "execution_count": 9,
   "metadata": {},
   "outputs": [
    {
     "data": {
      "text/plain": [
       "['v12_test']"
      ]
     },
     "execution_count": 9,
     "metadata": {},
     "output_type": "execute_result"
    }
   ],
   "source": [
    "os.listdir()"
   ]
  },
  {
   "cell_type": "code",
   "execution_count": 11,
   "metadata": {},
   "outputs": [
    {
     "name": "stdout",
     "output_type": "stream",
     "text": [
      "D:\\Ansys Simulations\\Project\\2D\\data\\v12_test\n"
     ]
    }
   ],
   "source": [
    "%cd D:\\Ansys Simulations\\Project\\2D\\data\\v12_test"
   ]
  },
  {
   "cell_type": "code",
   "execution_count": 12,
   "metadata": {
    "scrolled": true
   },
   "outputs": [
    {
     "data": {
      "text/plain": [
       "['data_dir_1',\n",
       " 'data_dir_10',\n",
       " 'data_dir_100',\n",
       " 'data_dir_101',\n",
       " 'data_dir_102',\n",
       " 'data_dir_103',\n",
       " 'data_dir_11',\n",
       " 'data_dir_12',\n",
       " 'data_dir_13',\n",
       " 'data_dir_14',\n",
       " 'data_dir_15',\n",
       " 'data_dir_16',\n",
       " 'data_dir_17',\n",
       " 'data_dir_18',\n",
       " 'data_dir_19',\n",
       " 'data_dir_2',\n",
       " 'data_dir_20',\n",
       " 'data_dir_21',\n",
       " 'data_dir_22',\n",
       " 'data_dir_23',\n",
       " 'data_dir_24',\n",
       " 'data_dir_25',\n",
       " 'data_dir_26',\n",
       " 'data_dir_27',\n",
       " 'data_dir_28',\n",
       " 'data_dir_29',\n",
       " 'data_dir_3',\n",
       " 'data_dir_30',\n",
       " 'data_dir_31',\n",
       " 'data_dir_32',\n",
       " 'data_dir_33',\n",
       " 'data_dir_34',\n",
       " 'data_dir_35',\n",
       " 'data_dir_36',\n",
       " 'data_dir_37',\n",
       " 'data_dir_38',\n",
       " 'data_dir_39',\n",
       " 'data_dir_4',\n",
       " 'data_dir_40',\n",
       " 'data_dir_41',\n",
       " 'data_dir_42',\n",
       " 'data_dir_43',\n",
       " 'data_dir_44',\n",
       " 'data_dir_45',\n",
       " 'data_dir_46',\n",
       " 'data_dir_47',\n",
       " 'data_dir_48',\n",
       " 'data_dir_49',\n",
       " 'data_dir_5',\n",
       " 'data_dir_50',\n",
       " 'data_dir_51',\n",
       " 'data_dir_52',\n",
       " 'data_dir_53',\n",
       " 'data_dir_54',\n",
       " 'data_dir_55',\n",
       " 'data_dir_56',\n",
       " 'data_dir_57',\n",
       " 'data_dir_58',\n",
       " 'data_dir_59',\n",
       " 'data_dir_6',\n",
       " 'data_dir_60',\n",
       " 'data_dir_61',\n",
       " 'data_dir_62',\n",
       " 'data_dir_63',\n",
       " 'data_dir_64',\n",
       " 'data_dir_65',\n",
       " 'data_dir_66',\n",
       " 'data_dir_67',\n",
       " 'data_dir_68',\n",
       " 'data_dir_69',\n",
       " 'data_dir_7',\n",
       " 'data_dir_70',\n",
       " 'data_dir_71',\n",
       " 'data_dir_72',\n",
       " 'data_dir_73',\n",
       " 'data_dir_74',\n",
       " 'data_dir_75',\n",
       " 'data_dir_76',\n",
       " 'data_dir_77',\n",
       " 'data_dir_78',\n",
       " 'data_dir_79',\n",
       " 'data_dir_8',\n",
       " 'data_dir_80',\n",
       " 'data_dir_81',\n",
       " 'data_dir_82',\n",
       " 'data_dir_83',\n",
       " 'data_dir_84',\n",
       " 'data_dir_85',\n",
       " 'data_dir_86',\n",
       " 'data_dir_87',\n",
       " 'data_dir_88',\n",
       " 'data_dir_89',\n",
       " 'data_dir_9',\n",
       " 'data_dir_90',\n",
       " 'data_dir_91',\n",
       " 'data_dir_92',\n",
       " 'data_dir_93',\n",
       " 'data_dir_94',\n",
       " 'data_dir_95',\n",
       " 'data_dir_96',\n",
       " 'data_dir_97',\n",
       " 'data_dir_98',\n",
       " 'data_dir_99',\n",
       " 'log.txt']"
      ]
     },
     "execution_count": 12,
     "metadata": {},
     "output_type": "execute_result"
    }
   ],
   "source": [
    "os.listdir()"
   ]
  },
  {
   "cell_type": "code",
   "execution_count": 13,
   "metadata": {},
   "outputs": [
    {
     "name": "stdout",
     "output_type": "stream",
     "text": [
      "D:\\Ansys Simulations\\Project\\2D\\data\\v12_test\\data_dir_1\n"
     ]
    }
   ],
   "source": [
    "%cd D:\\Ansys Simulations\\Project\\2D\\data\\v12_test\\data_dir_1"
   ]
  },
  {
   "cell_type": "code",
   "execution_count": 14,
   "metadata": {},
   "outputs": [
    {
     "data": {
      "text/plain": [
       "['disp_test_1.txt',\n",
       " 'force_test_1.txt',\n",
       " 'named_selection_test_1.txt',\n",
       " 'named_selection_test_2.txt',\n",
       " 'named_selection_test_3.txt',\n",
       " 'named_selection_test_4.txt',\n",
       " 'named_selection_test_5.txt',\n",
       " 'named_selection_test_6.txt',\n",
       " 'solutions_test_1.txt']"
      ]
     },
     "execution_count": 14,
     "metadata": {},
     "output_type": "execute_result"
    }
   ],
   "source": [
    "os.listdir()"
   ]
  },
  {
   "cell_type": "markdown",
   "metadata": {},
   "source": [
    "So each directory contains `disp_test_*.txt`, `force_test_*.txt`, `named_delection_*.txt` and `solutions_test_*.txt`. \n",
    "\n",
    "The objective is to transform the  `disp_test_*.txt`, `force_test_*.txt` and all `named_delection_*.txt`s to a single file\n",
    "\n",
    "Since forces and displacements are assigned randomly, for we are going to use a file with a large number of both to develop the transformation script. One such  direcctory  is directory 26, with 12 selections in total, 6 of each deformation and force."
   ]
  },
  {
   "cell_type": "code",
   "execution_count": 51,
   "metadata": {},
   "outputs": [
    {
     "name": "stdout",
     "output_type": "stream",
     "text": [
      "D:\\Ansys Simulations\\Project\\2D\\data\\v12_test\\data_dir_26\n"
     ]
    }
   ],
   "source": [
    "%cd D:/Ansys Simulations/Project/2D/data/v12_test/data_dir_26"
   ]
  },
  {
   "cell_type": "code",
   "execution_count": 52,
   "metadata": {},
   "outputs": [
    {
     "data": {
      "text/plain": [
       "['disp_test_26.txt',\n",
       " 'force_test_26.txt',\n",
       " 'named_selection_test_1.txt',\n",
       " 'named_selection_test_10.txt',\n",
       " 'named_selection_test_11.txt',\n",
       " 'named_selection_test_12.txt',\n",
       " 'named_selection_test_2.txt',\n",
       " 'named_selection_test_3.txt',\n",
       " 'named_selection_test_4.txt',\n",
       " 'named_selection_test_5.txt',\n",
       " 'named_selection_test_6.txt',\n",
       " 'named_selection_test_7.txt',\n",
       " 'named_selection_test_8.txt',\n",
       " 'named_selection_test_9.txt',\n",
       " 'solutions_test_26.txt']"
      ]
     },
     "execution_count": 52,
     "metadata": {},
     "output_type": "execute_result"
    }
   ],
   "source": [
    "os.listdir()"
   ]
  },
  {
   "cell_type": "code",
   "execution_count": 84,
   "metadata": {},
   "outputs": [
    {
     "name": "stdout",
     "output_type": "stream",
     "text": [
      "<class 'pathlib.WindowsPath'> disp_test_26.txt\n",
      "Selection\t[m]\t0.000606167164195471\t-0.000287891718267512\t0\n",
      "\n",
      "Selection 2\t[m]\t-0.000985739677013019\t-0.00208731508313133\t0\n",
      "\n",
      "Selection 3\t[m]\t-0.000158543117864855\t-0.000118606609351938\t0\n",
      "\n",
      "Selection 4\t[m]\t-8.00937423301898E-06\t0.00032369480229358\t0\n",
      "\n",
      "Selection 5\t[m]\t-0.000427524893052407\t0.000184740376266274\t0\n",
      "\n",
      "Selection 6\t[m]\t0.00142152849334207\t-0.00110920936809426\t0\n",
      "\n"
     ]
    }
   ],
   "source": [
    "current_folder = pathlib.Path.cwd()\n",
    "current_file = Path(\"disp_test_26.txt\")\n",
    "print(type(current_file), current_file)\n",
    "\n",
    "\n",
    "with open(current_file) as file:\n",
    "    for line in file:\n",
    "        print(line)"
   ]
  },
  {
   "cell_type": "code",
   "execution_count": 54,
   "metadata": {},
   "outputs": [
    {
     "name": "stdout",
     "output_type": "stream",
     "text": [
      "folders likely already exist\n"
     ]
    },
    {
     "name": "stderr",
     "output_type": "stream",
     "text": [
      "Traceback (most recent call last):\n",
      "  File \"<ipython-input-54-672ae1d13b42>\", line 10, in <module>\n",
      "    input_path.mkdir()\n",
      "  File \"D:\\Anaconda3_2nd\\envs\\AI_FEA\\lib\\pathlib.py\", line 1268, in mkdir\n",
      "    self._accessor.mkdir(self, mode)\n",
      "FileExistsError: [WinError 183] Cannot create a file when that file already exists: 'D:\\\\Ansys Simulations\\\\Project\\\\2D\\\\data\\\\input'\n"
     ]
    }
   ],
   "source": [
    "## CREATES FOLDERS FOR NEW FILES\n",
    "\n",
    "#using pathlib to create a path\n",
    "data_directory_path = Path('D:/Ansys Simulations/Project/2D/data')\n",
    "try:\n",
    "    input_folder = Path('input')\n",
    "    output_folder = Path('output')\n",
    "    input_path = Path(data_directory_path, input_folder)\n",
    "    output_path = Path(data_directory_path, output_folder)\n",
    "    input_path.mkdir()\n",
    "    output_path.mkdir()\n",
    "except Exception:\n",
    "    print(\"folders likely already exist\")\n",
    "    traceback.print_exc()"
   ]
  },
  {
   "cell_type": "code",
   "execution_count": 55,
   "metadata": {},
   "outputs": [
    {
     "name": "stdout",
     "output_type": "stream",
     "text": [
      "D:\\Ansys Simulations\\Project\\2D\\data\n",
      "D:\\Ansys Simulations\\Project\\2D\\data\\input\n"
     ]
    }
   ],
   "source": [
    "print(data_directory_path)\n",
    "print(input_path)"
   ]
  },
  {
   "cell_type": "code",
   "execution_count": 58,
   "metadata": {},
   "outputs": [
    {
     "data": {
      "text/plain": [
       "WindowsPath('D:/Ansys Simulations/Project/2D/data/v12_test/data_dir_26')"
      ]
     },
     "execution_count": 58,
     "metadata": {},
     "output_type": "execute_result"
    }
   ],
   "source": [
    "pathlib.Path.cwd()"
   ]
  },
  {
   "cell_type": "code",
   "execution_count": 88,
   "metadata": {},
   "outputs": [
    {
     "name": "stdout",
     "output_type": "stream",
     "text": [
      "data_dir_26\n"
     ]
    }
   ],
   "source": [
    "print(current_folder.name)"
   ]
  },
  {
   "cell_type": "code",
   "execution_count": 114,
   "metadata": {},
   "outputs": [
    {
     "name": "stdout",
     "output_type": "stream",
     "text": [
      "D:\\Ansys Simulations\\Project\\2D\\data\\v12_test\\data_dir_26\\named_selection_test_1.txt\n",
      "D:\\Ansys Simulations\\Project\\2D\\data\\v12_test\\data_dir_26\\named_selection_test_10.txt\n",
      "D:\\Ansys Simulations\\Project\\2D\\data\\v12_test\\data_dir_26\\named_selection_test_11.txt\n",
      "D:\\Ansys Simulations\\Project\\2D\\data\\v12_test\\data_dir_26\\named_selection_test_12.txt\n",
      "D:\\Ansys Simulations\\Project\\2D\\data\\v12_test\\data_dir_26\\named_selection_test_2.txt\n",
      "D:\\Ansys Simulations\\Project\\2D\\data\\v12_test\\data_dir_26\\named_selection_test_3.txt\n",
      "D:\\Ansys Simulations\\Project\\2D\\data\\v12_test\\data_dir_26\\named_selection_test_4.txt\n",
      "D:\\Ansys Simulations\\Project\\2D\\data\\v12_test\\data_dir_26\\named_selection_test_5.txt\n",
      "D:\\Ansys Simulations\\Project\\2D\\data\\v12_test\\data_dir_26\\named_selection_test_6.txt\n",
      "D:\\Ansys Simulations\\Project\\2D\\data\\v12_test\\data_dir_26\\named_selection_test_7.txt\n",
      "D:\\Ansys Simulations\\Project\\2D\\data\\v12_test\\data_dir_26\\named_selection_test_8.txt\n",
      "D:\\Ansys Simulations\\Project\\2D\\data\\v12_test\\data_dir_26\\named_selection_test_9.txt\n"
     ]
    }
   ],
   "source": [
    "for file in current_folder.glob(\"named_selection_*.txt\"):\n",
    "    print(file)"
   ]
  },
  {
   "cell_type": "code",
   "execution_count": 117,
   "metadata": {},
   "outputs": [
    {
     "name": "stdout",
     "output_type": "stream",
     "text": [
      "26\n",
      "[WindowsPath('D:/Ansys Simulations/Project/2D/data/v12_test/data_dir_26/named_selection_test_1.txt'), WindowsPath('D:/Ansys Simulations/Project/2D/data/v12_test/data_dir_26/named_selection_test_10.txt'), WindowsPath('D:/Ansys Simulations/Project/2D/data/v12_test/data_dir_26/named_selection_test_11.txt'), WindowsPath('D:/Ansys Simulations/Project/2D/data/v12_test/data_dir_26/named_selection_test_12.txt'), WindowsPath('D:/Ansys Simulations/Project/2D/data/v12_test/data_dir_26/named_selection_test_2.txt'), WindowsPath('D:/Ansys Simulations/Project/2D/data/v12_test/data_dir_26/named_selection_test_3.txt'), WindowsPath('D:/Ansys Simulations/Project/2D/data/v12_test/data_dir_26/named_selection_test_4.txt'), WindowsPath('D:/Ansys Simulations/Project/2D/data/v12_test/data_dir_26/named_selection_test_5.txt'), WindowsPath('D:/Ansys Simulations/Project/2D/data/v12_test/data_dir_26/named_selection_test_6.txt'), WindowsPath('D:/Ansys Simulations/Project/2D/data/v12_test/data_dir_26/named_selection_test_7.txt'), WindowsPath('D:/Ansys Simulations/Project/2D/data/v12_test/data_dir_26/named_selection_test_8.txt'), WindowsPath('D:/Ansys Simulations/Project/2D/data/v12_test/data_dir_26/named_selection_test_9.txt')]\n"
     ]
    }
   ],
   "source": [
    "##Create function that gets the sample number from the directory name\n",
    "\n",
    "def get_sample_number(filename):\n",
    "    # uses regular expression to match a single number in the file name\n",
    "    return re.search(r'\\d+', filename).group(0)\n",
    "\n",
    "print(get_sample_number(current_folder.name))\n",
    "\n",
    "##Create function that returns a list with all named selections\n",
    "def get_named_selections(sample_path):\n",
    "    file_list = []\n",
    "    for file in sample_path.glob(\"named_selection_*.txt\"):\n",
    "        file_list.append(file)\n",
    "    return file_list\n",
    "\n",
    "print(get_named_selections(current_folder))"
   ]
  },
  {
   "cell_type": "code",
   "execution_count": 103,
   "metadata": {},
   "outputs": [
    {
     "name": "stdout",
     "output_type": "stream",
     "text": [
      "input_26.txt\n",
      "output_26.txt\n"
     ]
    }
   ],
   "source": [
    "## create filename with the correct number in the input directory\n",
    "        \n",
    "sample_number = get_sample_number(current_folder.name)       \n",
    "input_file_name = Path(\"input_\" + sample_number + '.txt' )\n",
    "output_file_name = Path(\"output_\" + sample_number + '.txt' )\n",
    "\n",
    "print(input_file_name)\n",
    "print(output_file_name)\n",
    "\n",
    "input_file = Path(input_path, input_file_name)\n",
    "output_file = Path(output_path, output_file_name)\n",
    " "
   ]
  },
  {
   "cell_type": "code",
   "execution_count": 144,
   "metadata": {},
   "outputs": [],
   "source": [
    "## test data loading for each file\n",
    "\n",
    "output_file = current_folder.glob(\"solutions_*.txt\")\n",
    "for file in output_file:\n",
    "    loaded = pd.read_csv(file, delimiter = '\\t',\n",
    "                         names = ['node_number', 'x_loc','y_loc','z_loc','x_disp','y_disp','z_disp'],\n",
    "                         header=0)"
   ]
  },
  {
   "cell_type": "code",
   "execution_count": 145,
   "metadata": {
    "scrolled": true
   },
   "outputs": [
    {
     "data": {
      "text/html": [
       "<div>\n",
       "<style scoped>\n",
       "    .dataframe tbody tr th:only-of-type {\n",
       "        vertical-align: middle;\n",
       "    }\n",
       "\n",
       "    .dataframe tbody tr th {\n",
       "        vertical-align: top;\n",
       "    }\n",
       "\n",
       "    .dataframe thead th {\n",
       "        text-align: right;\n",
       "    }\n",
       "</style>\n",
       "<table border=\"1\" class=\"dataframe\">\n",
       "  <thead>\n",
       "    <tr style=\"text-align: right;\">\n",
       "      <th></th>\n",
       "      <th>node_number</th>\n",
       "      <th>x_loc</th>\n",
       "      <th>y_loc</th>\n",
       "      <th>z_loc</th>\n",
       "      <th>x_disp</th>\n",
       "      <th>y_disp</th>\n",
       "      <th>z_disp</th>\n",
       "    </tr>\n",
       "  </thead>\n",
       "  <tbody>\n",
       "    <tr>\n",
       "      <th>0</th>\n",
       "      <td>1</td>\n",
       "      <td>-0.186530</td>\n",
       "      <td>1.13540</td>\n",
       "      <td>0.0</td>\n",
       "      <td>-0.000264</td>\n",
       "      <td>-0.000852</td>\n",
       "      <td>0.0</td>\n",
       "    </tr>\n",
       "    <tr>\n",
       "      <th>1</th>\n",
       "      <td>2</td>\n",
       "      <td>0.000000</td>\n",
       "      <td>0.00000</td>\n",
       "      <td>0.0</td>\n",
       "      <td>-0.000586</td>\n",
       "      <td>-0.000198</td>\n",
       "      <td>0.0</td>\n",
       "    </tr>\n",
       "    <tr>\n",
       "      <th>2</th>\n",
       "      <td>3</td>\n",
       "      <td>-0.178300</td>\n",
       "      <td>1.08530</td>\n",
       "      <td>0.0</td>\n",
       "      <td>-0.000265</td>\n",
       "      <td>-0.000852</td>\n",
       "      <td>0.0</td>\n",
       "    </tr>\n",
       "    <tr>\n",
       "      <th>3</th>\n",
       "      <td>4</td>\n",
       "      <td>-0.170060</td>\n",
       "      <td>1.03510</td>\n",
       "      <td>0.0</td>\n",
       "      <td>-0.000264</td>\n",
       "      <td>-0.000852</td>\n",
       "      <td>0.0</td>\n",
       "    </tr>\n",
       "    <tr>\n",
       "      <th>4</th>\n",
       "      <td>5</td>\n",
       "      <td>-0.161820</td>\n",
       "      <td>0.98496</td>\n",
       "      <td>0.0</td>\n",
       "      <td>-0.000261</td>\n",
       "      <td>-0.000849</td>\n",
       "      <td>0.0</td>\n",
       "    </tr>\n",
       "    <tr>\n",
       "      <th>...</th>\n",
       "      <td>...</td>\n",
       "      <td>...</td>\n",
       "      <td>...</td>\n",
       "      <td>...</td>\n",
       "      <td>...</td>\n",
       "      <td>...</td>\n",
       "      <td>...</td>\n",
       "    </tr>\n",
       "    <tr>\n",
       "      <th>569</th>\n",
       "      <td>570</td>\n",
       "      <td>0.169450</td>\n",
       "      <td>0.33947</td>\n",
       "      <td>0.0</td>\n",
       "      <td>0.000249</td>\n",
       "      <td>-0.000553</td>\n",
       "      <td>0.0</td>\n",
       "    </tr>\n",
       "    <tr>\n",
       "      <th>570</th>\n",
       "      <td>571</td>\n",
       "      <td>0.140460</td>\n",
       "      <td>0.33622</td>\n",
       "      <td>0.0</td>\n",
       "      <td>0.000280</td>\n",
       "      <td>-0.000460</td>\n",
       "      <td>0.0</td>\n",
       "    </tr>\n",
       "    <tr>\n",
       "      <th>571</th>\n",
       "      <td>572</td>\n",
       "      <td>0.104840</td>\n",
       "      <td>0.44160</td>\n",
       "      <td>0.0</td>\n",
       "      <td>0.000606</td>\n",
       "      <td>-0.000288</td>\n",
       "      <td>0.0</td>\n",
       "    </tr>\n",
       "    <tr>\n",
       "      <th>572</th>\n",
       "      <td>573</td>\n",
       "      <td>0.556150</td>\n",
       "      <td>0.75061</td>\n",
       "      <td>0.0</td>\n",
       "      <td>0.000115</td>\n",
       "      <td>-0.000399</td>\n",
       "      <td>0.0</td>\n",
       "    </tr>\n",
       "    <tr>\n",
       "      <th>573</th>\n",
       "      <td>574</td>\n",
       "      <td>-0.034216</td>\n",
       "      <td>0.99149</td>\n",
       "      <td>0.0</td>\n",
       "      <td>-0.000257</td>\n",
       "      <td>-0.000864</td>\n",
       "      <td>0.0</td>\n",
       "    </tr>\n",
       "  </tbody>\n",
       "</table>\n",
       "<p>574 rows × 7 columns</p>\n",
       "</div>"
      ],
      "text/plain": [
       "     node_number     x_loc    y_loc  z_loc    x_disp    y_disp  z_disp\n",
       "0              1 -0.186530  1.13540    0.0 -0.000264 -0.000852     0.0\n",
       "1              2  0.000000  0.00000    0.0 -0.000586 -0.000198     0.0\n",
       "2              3 -0.178300  1.08530    0.0 -0.000265 -0.000852     0.0\n",
       "3              4 -0.170060  1.03510    0.0 -0.000264 -0.000852     0.0\n",
       "4              5 -0.161820  0.98496    0.0 -0.000261 -0.000849     0.0\n",
       "..           ...       ...      ...    ...       ...       ...     ...\n",
       "569          570  0.169450  0.33947    0.0  0.000249 -0.000553     0.0\n",
       "570          571  0.140460  0.33622    0.0  0.000280 -0.000460     0.0\n",
       "571          572  0.104840  0.44160    0.0  0.000606 -0.000288     0.0\n",
       "572          573  0.556150  0.75061    0.0  0.000115 -0.000399     0.0\n",
       "573          574 -0.034216  0.99149    0.0 -0.000257 -0.000864     0.0\n",
       "\n",
       "[574 rows x 7 columns]"
      ]
     },
     "execution_count": 145,
     "metadata": {},
     "output_type": "execute_result"
    }
   ],
   "source": [
    "loaded"
   ]
  },
  {
   "cell_type": "code",
   "execution_count": 146,
   "metadata": {},
   "outputs": [
    {
     "data": {
      "text/html": [
       "<div>\n",
       "<style scoped>\n",
       "    .dataframe tbody tr th:only-of-type {\n",
       "        vertical-align: middle;\n",
       "    }\n",
       "\n",
       "    .dataframe tbody tr th {\n",
       "        vertical-align: top;\n",
       "    }\n",
       "\n",
       "    .dataframe thead th {\n",
       "        text-align: right;\n",
       "    }\n",
       "</style>\n",
       "<table border=\"1\" class=\"dataframe\">\n",
       "  <thead>\n",
       "    <tr style=\"text-align: right;\">\n",
       "      <th></th>\n",
       "      <th>named_selection</th>\n",
       "      <th>unit</th>\n",
       "      <th>x_disp</th>\n",
       "      <th>y_disp</th>\n",
       "      <th>z_disp</th>\n",
       "    </tr>\n",
       "  </thead>\n",
       "  <tbody>\n",
       "    <tr>\n",
       "      <th>0</th>\n",
       "      <td>Selection 2</td>\n",
       "      <td>[m]</td>\n",
       "      <td>-0.000986</td>\n",
       "      <td>-0.002087</td>\n",
       "      <td>0</td>\n",
       "    </tr>\n",
       "    <tr>\n",
       "      <th>1</th>\n",
       "      <td>Selection 3</td>\n",
       "      <td>[m]</td>\n",
       "      <td>-0.000159</td>\n",
       "      <td>-0.000119</td>\n",
       "      <td>0</td>\n",
       "    </tr>\n",
       "    <tr>\n",
       "      <th>2</th>\n",
       "      <td>Selection 4</td>\n",
       "      <td>[m]</td>\n",
       "      <td>-0.000008</td>\n",
       "      <td>0.000324</td>\n",
       "      <td>0</td>\n",
       "    </tr>\n",
       "    <tr>\n",
       "      <th>3</th>\n",
       "      <td>Selection 5</td>\n",
       "      <td>[m]</td>\n",
       "      <td>-0.000428</td>\n",
       "      <td>0.000185</td>\n",
       "      <td>0</td>\n",
       "    </tr>\n",
       "    <tr>\n",
       "      <th>4</th>\n",
       "      <td>Selection 6</td>\n",
       "      <td>[m]</td>\n",
       "      <td>0.001422</td>\n",
       "      <td>-0.001109</td>\n",
       "      <td>0</td>\n",
       "    </tr>\n",
       "  </tbody>\n",
       "</table>\n",
       "</div>"
      ],
      "text/plain": [
       "  named_selection unit    x_disp    y_disp  z_disp\n",
       "0     Selection 2  [m] -0.000986 -0.002087       0\n",
       "1     Selection 3  [m] -0.000159 -0.000119       0\n",
       "2     Selection 4  [m] -0.000008  0.000324       0\n",
       "3     Selection 5  [m] -0.000428  0.000185       0\n",
       "4     Selection 6  [m]  0.001422 -0.001109       0"
      ]
     },
     "execution_count": 146,
     "metadata": {},
     "output_type": "execute_result"
    }
   ],
   "source": [
    "disp_file = current_folder.glob(\"disp_*.txt\")\n",
    "for file in disp_file:\n",
    "    loaded = pd.read_csv(file, delimiter = '\\t',\n",
    "                         names = ['named_selection', 'unit','x_disp','y_disp','z_disp'],\n",
    "                         header=0)\n",
    "loaded"
   ]
  },
  {
   "cell_type": "code",
   "execution_count": 147,
   "metadata": {
    "scrolled": true
   },
   "outputs": [
    {
     "data": {
      "text/html": [
       "<div>\n",
       "<style scoped>\n",
       "    .dataframe tbody tr th:only-of-type {\n",
       "        vertical-align: middle;\n",
       "    }\n",
       "\n",
       "    .dataframe tbody tr th {\n",
       "        vertical-align: top;\n",
       "    }\n",
       "\n",
       "    .dataframe thead th {\n",
       "        text-align: right;\n",
       "    }\n",
       "</style>\n",
       "<table border=\"1\" class=\"dataframe\">\n",
       "  <thead>\n",
       "    <tr style=\"text-align: right;\">\n",
       "      <th></th>\n",
       "      <th>named_selection</th>\n",
       "      <th>unit</th>\n",
       "      <th>x_force</th>\n",
       "      <th>y_force</th>\n",
       "      <th>z_force</th>\n",
       "    </tr>\n",
       "  </thead>\n",
       "  <tbody>\n",
       "    <tr>\n",
       "      <th>0</th>\n",
       "      <td>Selection 8</td>\n",
       "      <td>[N]</td>\n",
       "      <td>9.399572</td>\n",
       "      <td>-76.407456</td>\n",
       "      <td>0</td>\n",
       "    </tr>\n",
       "    <tr>\n",
       "      <th>1</th>\n",
       "      <td>Selection 9</td>\n",
       "      <td>[N]</td>\n",
       "      <td>-73.879462</td>\n",
       "      <td>41.072945</td>\n",
       "      <td>0</td>\n",
       "    </tr>\n",
       "    <tr>\n",
       "      <th>2</th>\n",
       "      <td>Selection 10</td>\n",
       "      <td>[N]</td>\n",
       "      <td>-92.402431</td>\n",
       "      <td>-17.885949</td>\n",
       "      <td>0</td>\n",
       "    </tr>\n",
       "    <tr>\n",
       "      <th>3</th>\n",
       "      <td>Selection 11</td>\n",
       "      <td>[N]</td>\n",
       "      <td>194.506550</td>\n",
       "      <td>44.414754</td>\n",
       "      <td>0</td>\n",
       "    </tr>\n",
       "    <tr>\n",
       "      <th>4</th>\n",
       "      <td>Selection 12</td>\n",
       "      <td>[N]</td>\n",
       "      <td>120.497922</td>\n",
       "      <td>-17.559974</td>\n",
       "      <td>0</td>\n",
       "    </tr>\n",
       "  </tbody>\n",
       "</table>\n",
       "</div>"
      ],
      "text/plain": [
       "  named_selection unit     x_force    y_force  z_force\n",
       "0     Selection 8  [N]    9.399572 -76.407456        0\n",
       "1     Selection 9  [N]  -73.879462  41.072945        0\n",
       "2    Selection 10  [N]  -92.402431 -17.885949        0\n",
       "3    Selection 11  [N]  194.506550  44.414754        0\n",
       "4    Selection 12  [N]  120.497922 -17.559974        0"
      ]
     },
     "execution_count": 147,
     "metadata": {},
     "output_type": "execute_result"
    }
   ],
   "source": [
    "force_file = current_folder.glob(\"force_*.txt\")\n",
    "for file in force_file:\n",
    "    loaded = pd.read_csv(file, delimiter = '\\t',\n",
    "                         names = ['named_selection', 'unit','x_force','y_force','z_force'],\n",
    "                         header=0)\n",
    "loaded"
   ]
  },
  {
   "cell_type": "code",
   "execution_count": 154,
   "metadata": {},
   "outputs": [
    {
     "data": {
      "text/html": [
       "<div>\n",
       "<style scoped>\n",
       "    .dataframe tbody tr th:only-of-type {\n",
       "        vertical-align: middle;\n",
       "    }\n",
       "\n",
       "    .dataframe tbody tr th {\n",
       "        vertical-align: top;\n",
       "    }\n",
       "\n",
       "    .dataframe thead th {\n",
       "        text-align: right;\n",
       "    }\n",
       "</style>\n",
       "<table border=\"1\" class=\"dataframe\">\n",
       "  <thead>\n",
       "    <tr style=\"text-align: right;\">\n",
       "      <th></th>\n",
       "      <th>node_number</th>\n",
       "      <th>named_selection</th>\n",
       "      <th>x_loc</th>\n",
       "      <th>y_loc</th>\n",
       "      <th>z_loc</th>\n",
       "      <th>x_disp</th>\n",
       "      <th>y_disp</th>\n",
       "      <th>z_disp</th>\n",
       "      <th>x_force</th>\n",
       "      <th>y_force</th>\n",
       "      <th>z_force</th>\n",
       "    </tr>\n",
       "  </thead>\n",
       "  <tbody>\n",
       "  </tbody>\n",
       "</table>\n",
       "</div>"
      ],
      "text/plain": [
       "Empty DataFrame\n",
       "Columns: [node_number, named_selection, x_loc, y_loc, z_loc, x_disp, y_disp, z_disp, x_force, y_force, z_force]\n",
       "Index: []"
      ]
     },
     "execution_count": 154,
     "metadata": {},
     "output_type": "execute_result"
    }
   ],
   "source": [
    "## Empty Dataframe\n",
    "\n",
    "df = pd.DataFrame(columns = ['node_number', 'named_selection' , 'x_loc','y_loc','z_loc',\n",
    "                             'x_disp','y_disp','z_disp',\n",
    "                            'x_force','y_force', 'z_force'])\n",
    "df"
   ]
  },
  {
   "cell_type": "code",
   "execution_count": 167,
   "metadata": {},
   "outputs": [
    {
     "data": {
      "text/html": [
       "<div>\n",
       "<style scoped>\n",
       "    .dataframe tbody tr th:only-of-type {\n",
       "        vertical-align: middle;\n",
       "    }\n",
       "\n",
       "    .dataframe tbody tr th {\n",
       "        vertical-align: top;\n",
       "    }\n",
       "\n",
       "    .dataframe thead th {\n",
       "        text-align: right;\n",
       "    }\n",
       "</style>\n",
       "<table border=\"1\" class=\"dataframe\">\n",
       "  <thead>\n",
       "    <tr style=\"text-align: right;\">\n",
       "      <th></th>\n",
       "      <th>node_number</th>\n",
       "      <th>x_loc</th>\n",
       "      <th>y_loc</th>\n",
       "      <th>z_loc</th>\n",
       "    </tr>\n",
       "  </thead>\n",
       "  <tbody>\n",
       "    <tr>\n",
       "      <th>0</th>\n",
       "      <td>65</td>\n",
       "      <td>0.120580</td>\n",
       "      <td>0.51186</td>\n",
       "      <td>0.0</td>\n",
       "    </tr>\n",
       "    <tr>\n",
       "      <th>1</th>\n",
       "      <td>80</td>\n",
       "      <td>0.031765</td>\n",
       "      <td>0.53201</td>\n",
       "      <td>0.0</td>\n",
       "    </tr>\n",
       "    <tr>\n",
       "      <th>2</th>\n",
       "      <td>89</td>\n",
       "      <td>0.174450</td>\n",
       "      <td>0.48394</td>\n",
       "      <td>0.0</td>\n",
       "    </tr>\n",
       "    <tr>\n",
       "      <th>3</th>\n",
       "      <td>177</td>\n",
       "      <td>0.189800</td>\n",
       "      <td>0.56873</td>\n",
       "      <td>0.0</td>\n",
       "    </tr>\n",
       "    <tr>\n",
       "      <th>4</th>\n",
       "      <td>178</td>\n",
       "      <td>0.127090</td>\n",
       "      <td>0.60428</td>\n",
       "      <td>0.0</td>\n",
       "    </tr>\n",
       "    <tr>\n",
       "      <th>5</th>\n",
       "      <td>187</td>\n",
       "      <td>0.239610</td>\n",
       "      <td>0.53031</td>\n",
       "      <td>0.0</td>\n",
       "    </tr>\n",
       "    <tr>\n",
       "      <th>6</th>\n",
       "      <td>188</td>\n",
       "      <td>0.131800</td>\n",
       "      <td>0.43224</td>\n",
       "      <td>0.0</td>\n",
       "    </tr>\n",
       "    <tr>\n",
       "      <th>7</th>\n",
       "      <td>198</td>\n",
       "      <td>0.077882</td>\n",
       "      <td>0.45095</td>\n",
       "      <td>0.0</td>\n",
       "    </tr>\n",
       "    <tr>\n",
       "      <th>8</th>\n",
       "      <td>331</td>\n",
       "      <td>0.076175</td>\n",
       "      <td>0.52194</td>\n",
       "      <td>0.0</td>\n",
       "    </tr>\n",
       "    <tr>\n",
       "      <th>9</th>\n",
       "      <td>332</td>\n",
       "      <td>0.147520</td>\n",
       "      <td>0.49790</td>\n",
       "      <td>0.0</td>\n",
       "    </tr>\n",
       "    <tr>\n",
       "      <th>10</th>\n",
       "      <td>333</td>\n",
       "      <td>0.155190</td>\n",
       "      <td>0.54030</td>\n",
       "      <td>0.0</td>\n",
       "    </tr>\n",
       "    <tr>\n",
       "      <th>11</th>\n",
       "      <td>334</td>\n",
       "      <td>0.099233</td>\n",
       "      <td>0.48140</td>\n",
       "      <td>0.0</td>\n",
       "    </tr>\n",
       "    <tr>\n",
       "      <th>12</th>\n",
       "      <td>350</td>\n",
       "      <td>0.196170</td>\n",
       "      <td>0.46528</td>\n",
       "      <td>0.0</td>\n",
       "    </tr>\n",
       "    <tr>\n",
       "      <th>13</th>\n",
       "      <td>379</td>\n",
       "      <td>0.020647</td>\n",
       "      <td>0.48912</td>\n",
       "      <td>0.0</td>\n",
       "    </tr>\n",
       "    <tr>\n",
       "      <th>14</th>\n",
       "      <td>380</td>\n",
       "      <td>0.079427</td>\n",
       "      <td>0.56815</td>\n",
       "      <td>0.0</td>\n",
       "    </tr>\n",
       "    <tr>\n",
       "      <th>15</th>\n",
       "      <td>381</td>\n",
       "      <td>0.014524</td>\n",
       "      <td>0.56408</td>\n",
       "      <td>0.0</td>\n",
       "    </tr>\n",
       "    <tr>\n",
       "      <th>16</th>\n",
       "      <td>395</td>\n",
       "      <td>0.156860</td>\n",
       "      <td>0.41772</td>\n",
       "      <td>0.0</td>\n",
       "    </tr>\n",
       "    <tr>\n",
       "      <th>17</th>\n",
       "      <td>400</td>\n",
       "      <td>0.207030</td>\n",
       "      <td>0.50713</td>\n",
       "      <td>0.0</td>\n",
       "    </tr>\n",
       "    <tr>\n",
       "      <th>18</th>\n",
       "      <td>401</td>\n",
       "      <td>0.153130</td>\n",
       "      <td>0.45809</td>\n",
       "      <td>0.0</td>\n",
       "    </tr>\n",
       "    <tr>\n",
       "      <th>19</th>\n",
       "      <td>516</td>\n",
       "      <td>0.043705</td>\n",
       "      <td>0.44859</td>\n",
       "      <td>0.0</td>\n",
       "    </tr>\n",
       "    <tr>\n",
       "      <th>20</th>\n",
       "      <td>560</td>\n",
       "      <td>0.158440</td>\n",
       "      <td>0.58651</td>\n",
       "      <td>0.0</td>\n",
       "    </tr>\n",
       "    <tr>\n",
       "      <th>21</th>\n",
       "      <td>562</td>\n",
       "      <td>0.214710</td>\n",
       "      <td>0.54952</td>\n",
       "      <td>0.0</td>\n",
       "    </tr>\n",
       "    <tr>\n",
       "      <th>22</th>\n",
       "      <td>563</td>\n",
       "      <td>0.164540</td>\n",
       "      <td>0.63514</td>\n",
       "      <td>0.0</td>\n",
       "    </tr>\n",
       "    <tr>\n",
       "      <th>23</th>\n",
       "      <td>564</td>\n",
       "      <td>0.100720</td>\n",
       "      <td>0.62376</td>\n",
       "      <td>0.0</td>\n",
       "    </tr>\n",
       "    <tr>\n",
       "      <th>24</th>\n",
       "      <td>572</td>\n",
       "      <td>0.104840</td>\n",
       "      <td>0.44160</td>\n",
       "      <td>0.0</td>\n",
       "    </tr>\n",
       "  </tbody>\n",
       "</table>\n",
       "</div>"
      ],
      "text/plain": [
       "    node_number     x_loc    y_loc  z_loc\n",
       "0            65  0.120580  0.51186    0.0\n",
       "1            80  0.031765  0.53201    0.0\n",
       "2            89  0.174450  0.48394    0.0\n",
       "3           177  0.189800  0.56873    0.0\n",
       "4           178  0.127090  0.60428    0.0\n",
       "5           187  0.239610  0.53031    0.0\n",
       "6           188  0.131800  0.43224    0.0\n",
       "7           198  0.077882  0.45095    0.0\n",
       "8           331  0.076175  0.52194    0.0\n",
       "9           332  0.147520  0.49790    0.0\n",
       "10          333  0.155190  0.54030    0.0\n",
       "11          334  0.099233  0.48140    0.0\n",
       "12          350  0.196170  0.46528    0.0\n",
       "13          379  0.020647  0.48912    0.0\n",
       "14          380  0.079427  0.56815    0.0\n",
       "15          381  0.014524  0.56408    0.0\n",
       "16          395  0.156860  0.41772    0.0\n",
       "17          400  0.207030  0.50713    0.0\n",
       "18          401  0.153130  0.45809    0.0\n",
       "19          516  0.043705  0.44859    0.0\n",
       "20          560  0.158440  0.58651    0.0\n",
       "21          562  0.214710  0.54952    0.0\n",
       "22          563  0.164540  0.63514    0.0\n",
       "23          564  0.100720  0.62376    0.0\n",
       "24          572  0.104840  0.44160    0.0"
      ]
     },
     "execution_count": 167,
     "metadata": {},
     "output_type": "execute_result"
    }
   ],
   "source": [
    "ns_file = current_folder.glob(\"named_selection_test_1.txt\")\n",
    "for file in ns_file:\n",
    "    ns_loaded = pd.read_csv(file, delimiter = '\\t',\n",
    "                         names = ['node_number','x_loc','y_loc','z_loc'],\n",
    "                         header=0,\n",
    "                         usecols = range(4))\n",
    "ns_loaded"
   ]
  },
  {
   "cell_type": "code",
   "execution_count": 153,
   "metadata": {},
   "outputs": [
    {
     "name": "stdout",
     "output_type": "stream",
     "text": [
      "D:\\Ansys Simulations\\Project\\2D\\data\\input\\input_26.txt\n",
      "D:\\Ansys Simulations\\Project\\2D\\data\\v12_test\\data_dir_26\n"
     ]
    },
    {
     "data": {
      "text/plain": [
       "(  named_selection unit     x_force    y_force  z_force\n",
       " 0     Selection 8  [N]    9.399572 -76.407456        0\n",
       " 1     Selection 9  [N]  -73.879462  41.072945        0\n",
       " 2    Selection 10  [N]  -92.402431 -17.885949        0\n",
       " 3    Selection 11  [N]  194.506550  44.414754        0\n",
       " 4    Selection 12  [N]  120.497922 -17.559974        0,\n",
       "   named_selection unit    x_disp    y_disp  z_disp\n",
       " 0     Selection 2  [m] -0.000986 -0.002087       0\n",
       " 1     Selection 3  [m] -0.000159 -0.000119       0\n",
       " 2     Selection 4  [m] -0.000008  0.000324       0\n",
       " 3     Selection 5  [m] -0.000428  0.000185       0\n",
       " 4     Selection 6  [m]  0.001422 -0.001109       0,\n",
       "      node_number     x_loc    y_loc  z_loc    x_disp    y_disp  z_disp\n",
       " 0              1 -0.186530  1.13540    0.0 -0.000264 -0.000852     0.0\n",
       " 1              2  0.000000  0.00000    0.0 -0.000586 -0.000198     0.0\n",
       " 2              3 -0.178300  1.08530    0.0 -0.000265 -0.000852     0.0\n",
       " 3              4 -0.170060  1.03510    0.0 -0.000264 -0.000852     0.0\n",
       " 4              5 -0.161820  0.98496    0.0 -0.000261 -0.000849     0.0\n",
       " ..           ...       ...      ...    ...       ...       ...     ...\n",
       " 569          570  0.169450  0.33947    0.0  0.000249 -0.000553     0.0\n",
       " 570          571  0.140460  0.33622    0.0  0.000280 -0.000460     0.0\n",
       " 571          572  0.104840  0.44160    0.0  0.000606 -0.000288     0.0\n",
       " 572          573  0.556150  0.75061    0.0  0.000115 -0.000399     0.0\n",
       " 573          574 -0.034216  0.99149    0.0 -0.000257 -0.000864     0.0\n",
       " \n",
       " [574 rows x 7 columns])"
      ]
     },
     "execution_count": 153,
     "metadata": {},
     "output_type": "execute_result"
    }
   ],
   "source": [
    "## Only make input file because the output is just a copy.\n",
    "## Which can be done in a later step\n",
    "\n",
    "print(input_file)\n",
    "print(current_folder)\n",
    "\n",
    "def create_input_file(input_file, sample_folder):\n",
    "    with open(input_file, mode = 'a+') as created_file:\n",
    "        named_selections = get_named_selections(sample_folder)\n",
    "        #load in solutions file\n",
    "        solutions_file = sample_folder.glob(\"solutions_*.txt\")\n",
    "        for file in solutions_file:\n",
    "            solutions_data = pd.read_csv(file, delimiter = '\\t',\n",
    "                         names = ['node_number', 'x_loc','y_loc','z_loc','x_disp','y_disp','z_disp'],\n",
    "                         header=0)\n",
    "        disp_file = current_folder.glob(\"disp_*.txt\")\n",
    "        \n",
    "        #load in displacement boundary conditions\n",
    "        for file in disp_file:\n",
    "            disp_bc_data = pd.read_csv(file, delimiter = '\\t',\n",
    "                         names = ['named_selection', 'unit','x_disp','y_disp','z_disp'],\n",
    "                         header=0)\n",
    "        \n",
    "        #load in force boundary conditions\n",
    "        force_file = current_folder.glob(\"force_*.txt\")\n",
    "        for file in force_file:\n",
    "            force_bc_data = pd.read_csv(file, delimiter = '\\t',\n",
    "                         names = ['named_selection', 'unit','x_force','y_force','z_force'],\n",
    "                         header=0)\n",
    "            \n",
    "        #create empty dataframe\n",
    "        df = pd.DataFrame(columns = ['node_number', 'named_selection' , 'x_loc','y_loc','z_loc',\n",
    "                             'x_disp','y_disp','z_disp',\n",
    "                            'x_force','y_force', 'z_force'])\n",
    "        \n",
    "        return force_bc_data, disp_bc_data, solutions_data\n",
    "\n",
    "create_input_file(input_file, current_folder)"
   ]
  }
 ],
 "metadata": {
  "kernelspec": {
   "display_name": "Python 3",
   "language": "python",
   "name": "python3"
  },
  "language_info": {
   "codemirror_mode": {
    "name": "ipython",
    "version": 3
   },
   "file_extension": ".py",
   "mimetype": "text/x-python",
   "name": "python",
   "nbconvert_exporter": "python",
   "pygments_lexer": "ipython3",
   "version": "3.7.7"
  }
 },
 "nbformat": 4,
 "nbformat_minor": 4
}
