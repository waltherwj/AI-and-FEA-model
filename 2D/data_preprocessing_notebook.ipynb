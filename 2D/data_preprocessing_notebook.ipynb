{
 "cells": [
  {
   "cell_type": "code",
   "execution_count": 1,
   "metadata": {},
   "outputs": [
    {
     "name": "stdout",
     "output_type": "stream",
     "text": [
      "D:\\Ansys Simulations\\Project\\2D\n"
     ]
    }
   ],
   "source": [
    "!cd"
   ]
  },
  {
   "cell_type": "markdown",
   "metadata": {},
   "source": [
    "# Data Pre-Processing\n",
    "\n",
    "This notebook aims to, given the data exported from ANSYS, create new files that can be used in a convolutional neural network. The current idea on how to handle this is as follows:\n",
    "\n",
    "#### Concatenating\n",
    "The input data needs to be concatenated in one file with all nodes\n",
    "\n",
    "#### Data Scaling\n",
    "The input and output data have to be somehow scaled to ensure that the program can generalize to more scenarios. In an usual convolutional neural network, which usually deals with pixel-wise image data, this is simple, as all the values to be scaled are in the range from 0 to 255. This is not the case for this problem as the scale can vary arbitrarily from infinitesimals to very large numbers. What can be done, perhaps, is to create Pi groups to nondimensionalize the data, and then decide on a relevant non dimensional value to divide the data by to scale it. Another approach would be to use a relevant engineering value, such as the yield strength in our scenario, to scale it, however that requires previous engineering knowledge that we do not want to assume we have.\n",
    "\n",
    "#### Shaping\n",
    "After the scaling, this data has to be put in a format that can be used for a convolutional neural network. The kernel might have to be modified to travel between nodes instead of a grid, or maybe the data itself has to be transformed to be a continuous field which then could be split in a grid and a more usual kernel used to handle it. Yet a third option is to simply  leave the data as is and split it in a grid anyway. This last approach would require the grid to be such that it catches all nodes, so the smallest element size controls the grid size."
   ]
  },
  {
   "cell_type": "code",
   "execution_count": 87,
   "metadata": {},
   "outputs": [],
   "source": [
    "## Imports\n",
    "import os\n",
    "from pathlib import Path\n",
    "import traceback\n",
    "import re"
   ]
  },
  {
   "cell_type": "markdown",
   "metadata": {},
   "source": [
    "# Concatenating the Input Data"
   ]
  },
  {
   "cell_type": "code",
   "execution_count": 5,
   "metadata": {},
   "outputs": [
    {
     "name": "stdout",
     "output_type": "stream",
     "text": [
      "D:\\Ansys Simulations\\Project\\2D\\data\n"
     ]
    }
   ],
   "source": [
    "%cd D:\\Ansys Simulations\\Project\\2D\\data"
   ]
  },
  {
   "cell_type": "code",
   "execution_count": 9,
   "metadata": {},
   "outputs": [
    {
     "data": {
      "text/plain": [
       "['v12_test']"
      ]
     },
     "execution_count": 9,
     "metadata": {},
     "output_type": "execute_result"
    }
   ],
   "source": [
    "os.listdir()"
   ]
  },
  {
   "cell_type": "code",
   "execution_count": 11,
   "metadata": {},
   "outputs": [
    {
     "name": "stdout",
     "output_type": "stream",
     "text": [
      "D:\\Ansys Simulations\\Project\\2D\\data\\v12_test\n"
     ]
    }
   ],
   "source": [
    "%cd D:\\Ansys Simulations\\Project\\2D\\data\\v12_test"
   ]
  },
  {
   "cell_type": "code",
   "execution_count": 12,
   "metadata": {
    "scrolled": true
   },
   "outputs": [
    {
     "data": {
      "text/plain": [
       "['data_dir_1',\n",
       " 'data_dir_10',\n",
       " 'data_dir_100',\n",
       " 'data_dir_101',\n",
       " 'data_dir_102',\n",
       " 'data_dir_103',\n",
       " 'data_dir_11',\n",
       " 'data_dir_12',\n",
       " 'data_dir_13',\n",
       " 'data_dir_14',\n",
       " 'data_dir_15',\n",
       " 'data_dir_16',\n",
       " 'data_dir_17',\n",
       " 'data_dir_18',\n",
       " 'data_dir_19',\n",
       " 'data_dir_2',\n",
       " 'data_dir_20',\n",
       " 'data_dir_21',\n",
       " 'data_dir_22',\n",
       " 'data_dir_23',\n",
       " 'data_dir_24',\n",
       " 'data_dir_25',\n",
       " 'data_dir_26',\n",
       " 'data_dir_27',\n",
       " 'data_dir_28',\n",
       " 'data_dir_29',\n",
       " 'data_dir_3',\n",
       " 'data_dir_30',\n",
       " 'data_dir_31',\n",
       " 'data_dir_32',\n",
       " 'data_dir_33',\n",
       " 'data_dir_34',\n",
       " 'data_dir_35',\n",
       " 'data_dir_36',\n",
       " 'data_dir_37',\n",
       " 'data_dir_38',\n",
       " 'data_dir_39',\n",
       " 'data_dir_4',\n",
       " 'data_dir_40',\n",
       " 'data_dir_41',\n",
       " 'data_dir_42',\n",
       " 'data_dir_43',\n",
       " 'data_dir_44',\n",
       " 'data_dir_45',\n",
       " 'data_dir_46',\n",
       " 'data_dir_47',\n",
       " 'data_dir_48',\n",
       " 'data_dir_49',\n",
       " 'data_dir_5',\n",
       " 'data_dir_50',\n",
       " 'data_dir_51',\n",
       " 'data_dir_52',\n",
       " 'data_dir_53',\n",
       " 'data_dir_54',\n",
       " 'data_dir_55',\n",
       " 'data_dir_56',\n",
       " 'data_dir_57',\n",
       " 'data_dir_58',\n",
       " 'data_dir_59',\n",
       " 'data_dir_6',\n",
       " 'data_dir_60',\n",
       " 'data_dir_61',\n",
       " 'data_dir_62',\n",
       " 'data_dir_63',\n",
       " 'data_dir_64',\n",
       " 'data_dir_65',\n",
       " 'data_dir_66',\n",
       " 'data_dir_67',\n",
       " 'data_dir_68',\n",
       " 'data_dir_69',\n",
       " 'data_dir_7',\n",
       " 'data_dir_70',\n",
       " 'data_dir_71',\n",
       " 'data_dir_72',\n",
       " 'data_dir_73',\n",
       " 'data_dir_74',\n",
       " 'data_dir_75',\n",
       " 'data_dir_76',\n",
       " 'data_dir_77',\n",
       " 'data_dir_78',\n",
       " 'data_dir_79',\n",
       " 'data_dir_8',\n",
       " 'data_dir_80',\n",
       " 'data_dir_81',\n",
       " 'data_dir_82',\n",
       " 'data_dir_83',\n",
       " 'data_dir_84',\n",
       " 'data_dir_85',\n",
       " 'data_dir_86',\n",
       " 'data_dir_87',\n",
       " 'data_dir_88',\n",
       " 'data_dir_89',\n",
       " 'data_dir_9',\n",
       " 'data_dir_90',\n",
       " 'data_dir_91',\n",
       " 'data_dir_92',\n",
       " 'data_dir_93',\n",
       " 'data_dir_94',\n",
       " 'data_dir_95',\n",
       " 'data_dir_96',\n",
       " 'data_dir_97',\n",
       " 'data_dir_98',\n",
       " 'data_dir_99',\n",
       " 'log.txt']"
      ]
     },
     "execution_count": 12,
     "metadata": {},
     "output_type": "execute_result"
    }
   ],
   "source": [
    "os.listdir()"
   ]
  },
  {
   "cell_type": "code",
   "execution_count": 13,
   "metadata": {},
   "outputs": [
    {
     "name": "stdout",
     "output_type": "stream",
     "text": [
      "D:\\Ansys Simulations\\Project\\2D\\data\\v12_test\\data_dir_1\n"
     ]
    }
   ],
   "source": [
    "%cd D:\\Ansys Simulations\\Project\\2D\\data\\v12_test\\data_dir_1"
   ]
  },
  {
   "cell_type": "code",
   "execution_count": 14,
   "metadata": {},
   "outputs": [
    {
     "data": {
      "text/plain": [
       "['disp_test_1.txt',\n",
       " 'force_test_1.txt',\n",
       " 'named_selection_test_1.txt',\n",
       " 'named_selection_test_2.txt',\n",
       " 'named_selection_test_3.txt',\n",
       " 'named_selection_test_4.txt',\n",
       " 'named_selection_test_5.txt',\n",
       " 'named_selection_test_6.txt',\n",
       " 'solutions_test_1.txt']"
      ]
     },
     "execution_count": 14,
     "metadata": {},
     "output_type": "execute_result"
    }
   ],
   "source": [
    "os.listdir()"
   ]
  },
  {
   "cell_type": "markdown",
   "metadata": {},
   "source": [
    "So each directory contains `disp_test_*.txt`, `force_test_*.txt`, `named_delection_*.txt` and `solutions_test_*.txt`. \n",
    "\n",
    "The objective is to transform the  `disp_test_*.txt`, `force_test_*.txt` and all `named_delection_*.txt`s to a single file\n",
    "\n",
    "Since forces and displacements are assigned randomly, for we are going to use a file with a large number of both to develop the transformation script. One such  direcctory  is directory 26, with 12 selections in total, 6 of each deformation and force."
   ]
  },
  {
   "cell_type": "code",
   "execution_count": 51,
   "metadata": {},
   "outputs": [
    {
     "name": "stdout",
     "output_type": "stream",
     "text": [
      "D:\\Ansys Simulations\\Project\\2D\\data\\v12_test\\data_dir_26\n"
     ]
    }
   ],
   "source": [
    "%cd D:/Ansys Simulations/Project/2D/data/v12_test/data_dir_26"
   ]
  },
  {
   "cell_type": "code",
   "execution_count": 52,
   "metadata": {},
   "outputs": [
    {
     "data": {
      "text/plain": [
       "['disp_test_26.txt',\n",
       " 'force_test_26.txt',\n",
       " 'named_selection_test_1.txt',\n",
       " 'named_selection_test_10.txt',\n",
       " 'named_selection_test_11.txt',\n",
       " 'named_selection_test_12.txt',\n",
       " 'named_selection_test_2.txt',\n",
       " 'named_selection_test_3.txt',\n",
       " 'named_selection_test_4.txt',\n",
       " 'named_selection_test_5.txt',\n",
       " 'named_selection_test_6.txt',\n",
       " 'named_selection_test_7.txt',\n",
       " 'named_selection_test_8.txt',\n",
       " 'named_selection_test_9.txt',\n",
       " 'solutions_test_26.txt']"
      ]
     },
     "execution_count": 52,
     "metadata": {},
     "output_type": "execute_result"
    }
   ],
   "source": [
    "os.listdir()"
   ]
  },
  {
   "cell_type": "code",
   "execution_count": 84,
   "metadata": {},
   "outputs": [
    {
     "name": "stdout",
     "output_type": "stream",
     "text": [
      "<class 'pathlib.WindowsPath'> disp_test_26.txt\n",
      "Selection\t[m]\t0.000606167164195471\t-0.000287891718267512\t0\n",
      "\n",
      "Selection 2\t[m]\t-0.000985739677013019\t-0.00208731508313133\t0\n",
      "\n",
      "Selection 3\t[m]\t-0.000158543117864855\t-0.000118606609351938\t0\n",
      "\n",
      "Selection 4\t[m]\t-8.00937423301898E-06\t0.00032369480229358\t0\n",
      "\n",
      "Selection 5\t[m]\t-0.000427524893052407\t0.000184740376266274\t0\n",
      "\n",
      "Selection 6\t[m]\t0.00142152849334207\t-0.00110920936809426\t0\n",
      "\n"
     ]
    }
   ],
   "source": [
    "current_folder = pathlib.Path.cwd()\n",
    "current_file = Path(\"disp_test_26.txt\")\n",
    "print(type(current_file), current_file)\n",
    "\n",
    "\n",
    "with open(current_file) as file:\n",
    "    for line in file:\n",
    "        print(line)"
   ]
  },
  {
   "cell_type": "code",
   "execution_count": 54,
   "metadata": {},
   "outputs": [
    {
     "name": "stdout",
     "output_type": "stream",
     "text": [
      "folders likely already exist\n"
     ]
    },
    {
     "name": "stderr",
     "output_type": "stream",
     "text": [
      "Traceback (most recent call last):\n",
      "  File \"<ipython-input-54-672ae1d13b42>\", line 10, in <module>\n",
      "    input_path.mkdir()\n",
      "  File \"D:\\Anaconda3_2nd\\envs\\AI_FEA\\lib\\pathlib.py\", line 1268, in mkdir\n",
      "    self._accessor.mkdir(self, mode)\n",
      "FileExistsError: [WinError 183] Cannot create a file when that file already exists: 'D:\\\\Ansys Simulations\\\\Project\\\\2D\\\\data\\\\input'\n"
     ]
    }
   ],
   "source": [
    "## CREATES FOLDERS FOR NEW FILES\n",
    "\n",
    "#using pathlib to create a path\n",
    "data_directory_path = Path('D:/Ansys Simulations/Project/2D/data')\n",
    "try:\n",
    "    input_folder = Path('input')\n",
    "    output_folder = Path('output')\n",
    "    input_path = Path(data_directory_path, input_folder)\n",
    "    output_path = Path(data_directory_path, output_folder)\n",
    "    input_path.mkdir()\n",
    "    output_path.mkdir()\n",
    "except Exception:\n",
    "    print(\"folders likely already exist\")\n",
    "    traceback.print_exc()"
   ]
  },
  {
   "cell_type": "code",
   "execution_count": 55,
   "metadata": {},
   "outputs": [
    {
     "name": "stdout",
     "output_type": "stream",
     "text": [
      "D:\\Ansys Simulations\\Project\\2D\\data\n",
      "D:\\Ansys Simulations\\Project\\2D\\data\\input\n"
     ]
    }
   ],
   "source": [
    "print(data_directory_path)\n",
    "print(input_path)"
   ]
  },
  {
   "cell_type": "code",
   "execution_count": 58,
   "metadata": {},
   "outputs": [
    {
     "data": {
      "text/plain": [
       "WindowsPath('D:/Ansys Simulations/Project/2D/data/v12_test/data_dir_26')"
      ]
     },
     "execution_count": 58,
     "metadata": {},
     "output_type": "execute_result"
    }
   ],
   "source": [
    "pathlib.Path.cwd()"
   ]
  },
  {
   "cell_type": "code",
   "execution_count": 88,
   "metadata": {},
   "outputs": [
    {
     "name": "stdout",
     "output_type": "stream",
     "text": [
      "data_dir_26\n"
     ]
    }
   ],
   "source": [
    "print(current_folder.name)"
   ]
  },
  {
   "cell_type": "code",
   "execution_count": 91,
   "metadata": {},
   "outputs": [
    {
     "name": "stdout",
     "output_type": "stream",
     "text": [
      "26\n"
     ]
    }
   ],
   "source": [
    "##Create function that gets the sample number from the directory name\n",
    "\n",
    "def get_sample_number(filename):\n",
    "    return re.search(r'\\d+', filename).group(0)\n",
    "\n",
    "print(get_sample_number(current_folder.name))"
   ]
  },
  {
   "cell_type": "code",
   "execution_count": 74,
   "metadata": {},
   "outputs": [
    {
     "name": "stdout",
     "output_type": "stream",
     "text": [
      "disp_test_26.txt\n",
      "Selection\t[m]\t0.000606167164195471\t-0.000287891718267512\t0\n",
      "\n",
      "Selection 2\t[m]\t-0.000985739677013019\t-0.00208731508313133\t0\n",
      "\n",
      "Selection 3\t[m]\t-0.000158543117864855\t-0.000118606609351938\t0\n",
      "\n",
      "Selection 4\t[m]\t-8.00937423301898E-06\t0.00032369480229358\t0\n",
      "\n",
      "Selection 5\t[m]\t-0.000427524893052407\t0.000184740376266274\t0\n",
      "\n",
      "Selection 6\t[m]\t0.00142152849334207\t-0.00110920936809426\t0\n",
      "\n",
      "D:\\Ansys Simulations\\Project\\2D\\data\\input\\input_26.txt\n",
      "D:\\Ansys Simulations\\Project\\2D\\data\\input\\output_26.txt\n"
     ]
    }
   ],
   "source": [
    "## create new file with the correct number in the input and output directories\n",
    "print(current_file)\n",
    "with open(current_file) as file:\n",
    "    for line in file:\n",
    "        print(line)\n",
    "        \n",
    "input_file = Path(input_path, 'input_26.txt')\n",
    "print(input_file)\n",
    "output_file = Path(input_path, 'output_26.txt')\n",
    "print(output_file)"
   ]
  }
 ],
 "metadata": {
  "kernelspec": {
   "display_name": "Python 3",
   "language": "python",
   "name": "python3"
  },
  "language_info": {
   "codemirror_mode": {
    "name": "ipython",
    "version": 3
   },
   "file_extension": ".py",
   "mimetype": "text/x-python",
   "name": "python",
   "nbconvert_exporter": "python",
   "pygments_lexer": "ipython3",
   "version": "3.7.7"
  }
 },
 "nbformat": 4,
 "nbformat_minor": 4
}
